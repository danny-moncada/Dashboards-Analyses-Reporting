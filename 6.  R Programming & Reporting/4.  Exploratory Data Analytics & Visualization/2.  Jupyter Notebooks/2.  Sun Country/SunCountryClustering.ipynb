{
 "cells": [
  {
   "cell_type": "code",
   "execution_count": 1,
   "metadata": {},
   "outputs": [
    {
     "data": {
      "text/html": [
       "<style>.container { width:100% !important; }</style>"
      ],
      "text/plain": [
       "<IPython.core.display.HTML object>"
      ]
     },
     "metadata": {},
     "output_type": "display_data"
    }
   ],
   "source": [
    "## Provide a wider display for easier viewing\n",
    "from IPython.core.display import display, HTML\n",
    "display(HTML(\"<style>.container { width:100% !important; }</style>\"))"
   ]
  },
  {
   "cell_type": "code",
   "execution_count": null,
   "metadata": {},
   "outputs": [],
   "source": [
    "## Data Dictionary so that I can reference column names\n",
    "\n",
    "## Field List\tDescription\n",
    "## PNRLocatorID\tPNR #. This could be treated as a confirmation number. Multiple flights and segments all roll up to one PNR #.\n",
    "## TicketNum\tTicket Number - An itinerary may have multiple ticket numbers.\n",
    "## CouponSeqNbr\tSabre assigned sequence number of the ticket coupon. Values are 1-16; values 5 and greater are a result of a conjunctive ticket.\n",
    "## ServiceStartCity\tAirport code for the city the flight is leaving from.\n",
    "## ServiceEndCity\tAirport code for the city the flight is landing at.\n",
    "## PNRCreateDate\tDate the ticket was booked\n",
    "## ServiceStartDate\tWhen the flight takes off\n",
    "## PaxName\tFirst 4 digits of the passenger last name and the first 2 digits of the passenger 1st name\n",
    "## EncryptedName\tPassenger name in encrypted format.\n",
    "## GenderCode\tM for Male and F for Female\n",
    "## Birthdateid\tA unique identifier that allows you to match birthdates across records without actually providing the birth date.\n",
    "### Age\tAge of the passenger at the time of the flight.\n",
    "## PostalCode\tPostal code of the location from where the booking was made.\n",
    "## BkdClassOfService\tWhat class of service (e.g. coach, first class, etc.) the passenger booked\n",
    "## TrvldClassOfService\tWhat class of service (e.g. coach, first class, etc.) the passenger travelled. This could be upgraded later in the flight.\n",
    "## BookingChannel\tHow the passenger booked the flight. If this is showing a 3 letter code, it'smost likely booked at that airport. UFO is booked in Cancun.\n",
    "## BaseFareAmt\tAmount of the base fare (without taxes) of all segments on the ticket. Under certain circumstances such as bulk, net, award tickets, this value will be blank.\n",
    "## TotalDocAmt\tTotal price of this ticket document including base fare, taxes and fees stated in the EquivBaseFareCurrCode. In the case of exchanges this amount may be zero or may only represent the difference in price from the previous ticket amount\n",
    "## UflyRewardsNumber\tThe rewards number that was provided when booked.\n",
    "## UflyMemberStatus\tThe Ufly member status. It will be either Standard or Elite.\n",
    "## CardHolder\tTrue or False value if the member is also a credit card holder.\n",
    "## BookedProduct\tFree form text field that is used to put discount codes in\n",
    "## EnrollDate\tWhen the member enrolled in Ufly rewards\n",
    "## MarketingFlightNbr\tFlight Number\n",
    "## MarketingAirlineCode\tThe Airlines with which booking was made. We are only interested in â \"SY\" which is the code for Sun Country\n",
    "## StopoverCode\tO' for Layovers i.e. halt in a city for less than 24 hours.'X' for Stopovers that is halt in a city for more than 24 hours."
   ]
  },
  {
   "cell_type": "code",
   "execution_count": 18,
   "metadata": {},
   "outputs": [],
   "source": [
    "# Packages\n",
    "suppressPackageStartupMessages(library(tidyverse))\n",
    "suppressPackageStartupMessages(library(cluster))\n",
    "suppressPackageStartupMessages(library(Rtsne))\n",
    "suppressPackageStartupMessages(library(dplyr))\n",
    "suppressPackageStartupMessages(library(ggplot2))\n",
    "suppressPackageStartupMessages(library(sqldf))"
   ]
  },
  {
   "cell_type": "code",
   "execution_count": null,
   "metadata": {},
   "outputs": [],
   "source": []
  },
  {
   "cell_type": "code",
   "execution_count": 2,
   "metadata": {},
   "outputs": [],
   "source": [
    "## Read in small sample file\n",
    "###suncountry <- data.frame(read.csv(\"SunCountry_nonr_sample.csv\"))\n",
    "\n",
    "## Only read in 7500 lines\n",
    "suppressWarnings(suppressMessages(\n",
    "df <- readr::read_csv(file = \"C:/Users/monca016/Documents/Fall 2019/MSBA 6410 - Exploratory Analytics/HW2/SunCountry.csv\", n_max = 7500)))"
   ]
  },
  {
   "cell_type": "code",
   "execution_count": 7,
   "metadata": {},
   "outputs": [
    {
     "data": {
      "text/html": [
       "<table>\n",
       "<thead><tr><th scope=col>PNRLocatorID</th><th scope=col>TicketNum</th><th scope=col>CouponSeqNbr</th><th scope=col>ServiceStartCity</th><th scope=col>ServiceEndCity</th><th scope=col>PNRCreateDate</th><th scope=col>ServiceStartDate</th><th scope=col>PaxName</th><th scope=col>EncryptedName</th><th scope=col>GenderCode</th><th scope=col>...</th><th scope=col>BaseFareAmt</th><th scope=col>TotalDocAmt</th><th scope=col>UFlyRewardsNumber</th><th scope=col>UflyMemberStatus</th><th scope=col>CardHolder</th><th scope=col>BookedProduct</th><th scope=col>EnrollDate</th><th scope=col>MarketingFlightNbr</th><th scope=col>MarketingAirlineCode</th><th scope=col>StopoverCode</th></tr></thead>\n",
       "<tbody>\n",
       "\t<tr><td>AAABJK                                                                          </td><td>3.377365e+12                                                                    </td><td>2                                                                               </td><td>JFK                                                                             </td><td>MSP                                                                             </td><td>2013-11-23                                                                      </td><td>2013-12-13                                                                      </td><td>BRUMSA                                                                          </td><td>4252554D4241434B44696420493F7C20676574207468697320726967687453414E445241204C4545</td><td>F                                                                               </td><td>...                                                                             </td><td>234.20                                                                          </td><td>  0.0                                                                           </td><td>NA                                                                              </td><td>NA                                                                              </td><td>NA                                                                              </td><td>CHEOPQ                                                                          </td><td>NA                                                                              </td><td>244                                                                             </td><td>SY                                                                              </td><td>O                                                                               </td></tr>\n",
       "\t<tr><td>AAABJK                                                                          </td><td>3.377365e+12                                                                    </td><td>1                                                                               </td><td>MSP                                                                             </td><td>JFK                                                                             </td><td>2013-11-23                                                                      </td><td>2013-12-08                                                                      </td><td>BRUMSA                                                                          </td><td>4252554D4241434B44696420493F7C20676574207468697320726967687453414E445241204C4545</td><td>F                                                                               </td><td>...                                                                             </td><td>234.20                                                                          </td><td>  0.0                                                                           </td><td>NA                                                                              </td><td>NA                                                                              </td><td>NA                                                                              </td><td>CHEOPQ                                                                          </td><td>NA                                                                              </td><td>243                                                                             </td><td>SY                                                                              </td><td>NA                                                                              </td></tr>\n",
       "\t<tr><td>AAABMK                                                                          </td><td>3.372107e+12                                                                    </td><td>2                                                                               </td><td>MSP                                                                             </td><td>SFO                                                                             </td><td>2014-02-04                                                                      </td><td>2014-02-23                                                                      </td><td>EILDRY                                                                          </td><td>45494C4445525344696420493F7C2067657420746869732072696768745259414E204C          </td><td>M                                                                               </td><td>...                                                                             </td><td>293.96                                                                          </td><td>338.0                                                                           </td><td>NA                                                                              </td><td>NA                                                                              </td><td>NA                                                                              </td><td>NA                                                                              </td><td>NA                                                                              </td><td>397                                                                             </td><td>SY                                                                              </td><td>O                                                                               </td></tr>\n",
       "\t<tr><td>AAABMK                                                                          </td><td>3.372107e+12                                                                    </td><td>1                                                                               </td><td>SFO                                                                             </td><td>MSP                                                                             </td><td>2014-02-04                                                                      </td><td>2014-02-20                                                                      </td><td>EILDRY                                                                          </td><td>45494C4445525344696420493F7C2067657420746869732072696768745259414E204C          </td><td>M                                                                               </td><td>...                                                                             </td><td>293.96                                                                          </td><td>338.0                                                                           </td><td>NA                                                                              </td><td>NA                                                                              </td><td>NA                                                                              </td><td>NA                                                                              </td><td>NA                                                                              </td><td>392                                                                             </td><td>SY                                                                              </td><td>NA                                                                              </td></tr>\n",
       "\t<tr><td>AAABTP                                                                          </td><td>3.372107e+12                                                                    </td><td>1                                                                               </td><td>MCO                                                                             </td><td>MSP                                                                             </td><td>2014-03-13                                                                      </td><td>2014-04-23                                                                      </td><td>SKELMA                                                                          </td><td>534B454C544F4E44696420493F7C2067657420746869732072696768744D4152534841          </td><td>F                                                                               </td><td>...                                                                             </td><td>112.56                                                                          </td><td>132.0                                                                           </td><td>NA                                                                              </td><td>NA                                                                              </td><td>NA                                                                              </td><td>NA                                                                              </td><td>NA                                                                              </td><td>342                                                                             </td><td>SY                                                                              </td><td>NA                                                                              </td></tr>\n",
       "\t<tr><td>AAACLY                                                                          </td><td>3.372106e+12                                                                    </td><td>1                                                                               </td><td>PSP                                                                             </td><td>MSP                                                                             </td><td>2012-10-06                                                                      </td><td>2013-02-12                                                                      </td><td>HINZRI                                                                          </td><td>48494E5A4544696420493F7C206765742074686973207269676874524943484152442043        </td><td>M                                                                               </td><td>...                                                                             </td><td>171.16                                                                          </td><td>194.8                                                                           </td><td>NA                                                                              </td><td>NA                                                                              </td><td>NA                                                                              </td><td>NA                                                                              </td><td>NA                                                                              </td><td>610                                                                             </td><td>SY                                                                              </td><td>NA                                                                              </td></tr>\n",
       "</tbody>\n",
       "</table>\n"
      ],
      "text/latex": [
       "\\begin{tabular}{r|llllllllllllllllllllllllll}\n",
       " PNRLocatorID & TicketNum & CouponSeqNbr & ServiceStartCity & ServiceEndCity & PNRCreateDate & ServiceStartDate & PaxName & EncryptedName & GenderCode & ... & BaseFareAmt & TotalDocAmt & UFlyRewardsNumber & UflyMemberStatus & CardHolder & BookedProduct & EnrollDate & MarketingFlightNbr & MarketingAirlineCode & StopoverCode\\\\\n",
       "\\hline\n",
       "\t AAABJK                                                                           & 3.377365e+12                                                                     & 2                                                                                & JFK                                                                              & MSP                                                                              & 2013-11-23                                                                       & 2013-12-13                                                                       & BRUMSA                                                                           & 4252554D4241434B44696420493F7C20676574207468697320726967687453414E445241204C4545 & F                                                                                & ...                                                                              & 234.20                                                                           &   0.0                                                                            & NA                                                                               & NA                                                                               & NA                                                                               & CHEOPQ                                                                           & NA                                                                               & 244                                                                              & SY                                                                               & O                                                                               \\\\\n",
       "\t AAABJK                                                                           & 3.377365e+12                                                                     & 1                                                                                & MSP                                                                              & JFK                                                                              & 2013-11-23                                                                       & 2013-12-08                                                                       & BRUMSA                                                                           & 4252554D4241434B44696420493F7C20676574207468697320726967687453414E445241204C4545 & F                                                                                & ...                                                                              & 234.20                                                                           &   0.0                                                                            & NA                                                                               & NA                                                                               & NA                                                                               & CHEOPQ                                                                           & NA                                                                               & 243                                                                              & SY                                                                               & NA                                                                              \\\\\n",
       "\t AAABMK                                                                           & 3.372107e+12                                                                     & 2                                                                                & MSP                                                                              & SFO                                                                              & 2014-02-04                                                                       & 2014-02-23                                                                       & EILDRY                                                                           & 45494C4445525344696420493F7C2067657420746869732072696768745259414E204C           & M                                                                                & ...                                                                              & 293.96                                                                           & 338.0                                                                            & NA                                                                               & NA                                                                               & NA                                                                               & NA                                                                               & NA                                                                               & 397                                                                              & SY                                                                               & O                                                                               \\\\\n",
       "\t AAABMK                                                                           & 3.372107e+12                                                                     & 1                                                                                & SFO                                                                              & MSP                                                                              & 2014-02-04                                                                       & 2014-02-20                                                                       & EILDRY                                                                           & 45494C4445525344696420493F7C2067657420746869732072696768745259414E204C           & M                                                                                & ...                                                                              & 293.96                                                                           & 338.0                                                                            & NA                                                                               & NA                                                                               & NA                                                                               & NA                                                                               & NA                                                                               & 392                                                                              & SY                                                                               & NA                                                                              \\\\\n",
       "\t AAABTP                                                                           & 3.372107e+12                                                                     & 1                                                                                & MCO                                                                              & MSP                                                                              & 2014-03-13                                                                       & 2014-04-23                                                                       & SKELMA                                                                           & 534B454C544F4E44696420493F7C2067657420746869732072696768744D4152534841           & F                                                                                & ...                                                                              & 112.56                                                                           & 132.0                                                                            & NA                                                                               & NA                                                                               & NA                                                                               & NA                                                                               & NA                                                                               & 342                                                                              & SY                                                                               & NA                                                                              \\\\\n",
       "\t AAACLY                                                                           & 3.372106e+12                                                                     & 1                                                                                & PSP                                                                              & MSP                                                                              & 2012-10-06                                                                       & 2013-02-12                                                                       & HINZRI                                                                           & 48494E5A4544696420493F7C206765742074686973207269676874524943484152442043         & M                                                                                & ...                                                                              & 171.16                                                                           & 194.8                                                                            & NA                                                                               & NA                                                                               & NA                                                                               & NA                                                                               & NA                                                                               & 610                                                                              & SY                                                                               & NA                                                                              \\\\\n",
       "\\end{tabular}\n"
      ],
      "text/markdown": [
       "\n",
       "| PNRLocatorID | TicketNum | CouponSeqNbr | ServiceStartCity | ServiceEndCity | PNRCreateDate | ServiceStartDate | PaxName | EncryptedName | GenderCode | ... | BaseFareAmt | TotalDocAmt | UFlyRewardsNumber | UflyMemberStatus | CardHolder | BookedProduct | EnrollDate | MarketingFlightNbr | MarketingAirlineCode | StopoverCode |\n",
       "|---|---|---|---|---|---|---|---|---|---|---|---|---|---|---|---|---|---|---|---|---|\n",
       "| AAABJK                                                                           | 3.377365e+12                                                                     | 2                                                                                | JFK                                                                              | MSP                                                                              | 2013-11-23                                                                       | 2013-12-13                                                                       | BRUMSA                                                                           | 4252554D4241434B44696420493F7C20676574207468697320726967687453414E445241204C4545 | F                                                                                | ...                                                                              | 234.20                                                                           |   0.0                                                                            | NA                                                                               | NA                                                                               | NA                                                                               | CHEOPQ                                                                           | NA                                                                               | 244                                                                              | SY                                                                               | O                                                                                |\n",
       "| AAABJK                                                                           | 3.377365e+12                                                                     | 1                                                                                | MSP                                                                              | JFK                                                                              | 2013-11-23                                                                       | 2013-12-08                                                                       | BRUMSA                                                                           | 4252554D4241434B44696420493F7C20676574207468697320726967687453414E445241204C4545 | F                                                                                | ...                                                                              | 234.20                                                                           |   0.0                                                                            | NA                                                                               | NA                                                                               | NA                                                                               | CHEOPQ                                                                           | NA                                                                               | 243                                                                              | SY                                                                               | NA                                                                               |\n",
       "| AAABMK                                                                           | 3.372107e+12                                                                     | 2                                                                                | MSP                                                                              | SFO                                                                              | 2014-02-04                                                                       | 2014-02-23                                                                       | EILDRY                                                                           | 45494C4445525344696420493F7C2067657420746869732072696768745259414E204C           | M                                                                                | ...                                                                              | 293.96                                                                           | 338.0                                                                            | NA                                                                               | NA                                                                               | NA                                                                               | NA                                                                               | NA                                                                               | 397                                                                              | SY                                                                               | O                                                                                |\n",
       "| AAABMK                                                                           | 3.372107e+12                                                                     | 1                                                                                | SFO                                                                              | MSP                                                                              | 2014-02-04                                                                       | 2014-02-20                                                                       | EILDRY                                                                           | 45494C4445525344696420493F7C2067657420746869732072696768745259414E204C           | M                                                                                | ...                                                                              | 293.96                                                                           | 338.0                                                                            | NA                                                                               | NA                                                                               | NA                                                                               | NA                                                                               | NA                                                                               | 392                                                                              | SY                                                                               | NA                                                                               |\n",
       "| AAABTP                                                                           | 3.372107e+12                                                                     | 1                                                                                | MCO                                                                              | MSP                                                                              | 2014-03-13                                                                       | 2014-04-23                                                                       | SKELMA                                                                           | 534B454C544F4E44696420493F7C2067657420746869732072696768744D4152534841           | F                                                                                | ...                                                                              | 112.56                                                                           | 132.0                                                                            | NA                                                                               | NA                                                                               | NA                                                                               | NA                                                                               | NA                                                                               | 342                                                                              | SY                                                                               | NA                                                                               |\n",
       "| AAACLY                                                                           | 3.372106e+12                                                                     | 1                                                                                | PSP                                                                              | MSP                                                                              | 2012-10-06                                                                       | 2013-02-12                                                                       | HINZRI                                                                           | 48494E5A4544696420493F7C206765742074686973207269676874524943484152442043         | M                                                                                | ...                                                                              | 171.16                                                                           | 194.8                                                                            | NA                                                                               | NA                                                                               | NA                                                                               | NA                                                                               | NA                                                                               | 610                                                                              | SY                                                                               | NA                                                                               |\n",
       "\n"
      ],
      "text/plain": [
       "  PNRLocatorID TicketNum    CouponSeqNbr ServiceStartCity ServiceEndCity\n",
       "1 AAABJK       3.377365e+12 2            JFK              MSP           \n",
       "2 AAABJK       3.377365e+12 1            MSP              JFK           \n",
       "3 AAABMK       3.372107e+12 2            MSP              SFO           \n",
       "4 AAABMK       3.372107e+12 1            SFO              MSP           \n",
       "5 AAABTP       3.372107e+12 1            MCO              MSP           \n",
       "6 AAACLY       3.372106e+12 1            PSP              MSP           \n",
       "  PNRCreateDate ServiceStartDate PaxName\n",
       "1 2013-11-23    2013-12-13       BRUMSA \n",
       "2 2013-11-23    2013-12-08       BRUMSA \n",
       "3 2014-02-04    2014-02-23       EILDRY \n",
       "4 2014-02-04    2014-02-20       EILDRY \n",
       "5 2014-03-13    2014-04-23       SKELMA \n",
       "6 2012-10-06    2013-02-12       HINZRI \n",
       "  EncryptedName                                                                   \n",
       "1 4252554D4241434B44696420493F7C20676574207468697320726967687453414E445241204C4545\n",
       "2 4252554D4241434B44696420493F7C20676574207468697320726967687453414E445241204C4545\n",
       "3 45494C4445525344696420493F7C2067657420746869732072696768745259414E204C          \n",
       "4 45494C4445525344696420493F7C2067657420746869732072696768745259414E204C          \n",
       "5 534B454C544F4E44696420493F7C2067657420746869732072696768744D4152534841          \n",
       "6 48494E5A4544696420493F7C206765742074686973207269676874524943484152442043        \n",
       "  GenderCode ... BaseFareAmt TotalDocAmt UFlyRewardsNumber UflyMemberStatus\n",
       "1 F          ... 234.20        0.0       NA                NA              \n",
       "2 F          ... 234.20        0.0       NA                NA              \n",
       "3 M          ... 293.96      338.0       NA                NA              \n",
       "4 M          ... 293.96      338.0       NA                NA              \n",
       "5 F          ... 112.56      132.0       NA                NA              \n",
       "6 M          ... 171.16      194.8       NA                NA              \n",
       "  CardHolder BookedProduct EnrollDate MarketingFlightNbr MarketingAirlineCode\n",
       "1 NA         CHEOPQ        <NA>       244                SY                  \n",
       "2 NA         CHEOPQ        <NA>       243                SY                  \n",
       "3 NA         NA            <NA>       397                SY                  \n",
       "4 NA         NA            <NA>       392                SY                  \n",
       "5 NA         NA            <NA>       342                SY                  \n",
       "6 NA         NA            <NA>       610                SY                  \n",
       "  StopoverCode\n",
       "1 O           \n",
       "2 NA          \n",
       "3 O           \n",
       "4 NA          \n",
       "5 NA          \n",
       "6 NA          "
      ]
     },
     "metadata": {},
     "output_type": "display_data"
    }
   ],
   "source": [
    "head(df)"
   ]
  },
  {
   "cell_type": "code",
   "execution_count": 8,
   "metadata": {},
   "outputs": [],
   "source": [
    "## Chain Trip Points\n",
    "\n",
    "a <- df %>% \n",
    "select(PNRLocatorID, TicketNum, CouponSeqNbr, ServiceStartCity, ServiceEndCity) %>% \n",
    "group_by(TicketNum) %>% \n",
    "mutate(trip_max = max(CouponSeqNbr))\n",
    "\n",
    "a1 <- a %>% filter(CouponSeqNbr == 1) %>% \n",
    "select(PNRLocatorID, TicketNum, ServiceStartCity, ServiceEndCity, trip_max) %>% \n",
    "rename(City1 = ServiceStartCity, City2 = ServiceEndCity)\n",
    "\n",
    "a2 <- a %>% filter(CouponSeqNbr == 2) %>% \n",
    "select(PNRLocatorID, TicketNum, ServiceEndCity, trip_max) %>% \n",
    "rename(City3 = ServiceEndCity)\n",
    "\n",
    "a3 <- a %>% filter(CouponSeqNbr == 3) %>% \n",
    "select(PNRLocatorID, TicketNum, ServiceEndCity, trip_max) %>% \n",
    "rename(City4 = ServiceEndCity)\n",
    "\n",
    "a4 <- a %>% filter(CouponSeqNbr == 4) %>% \n",
    "select(PNRLocatorID, TicketNum, ServiceEndCity, trip_max) %>% \n",
    "rename(City5 = ServiceEndCity)\n",
    "\n",
    "a5 <- a %>% filter(CouponSeqNbr == 5) %>% \n",
    "select(PNRLocatorID, TicketNum, ServiceEndCity, trip_max) %>% \n",
    "rename(City6 = ServiceEndCity)\n",
    "\n",
    "a6 <- a %>% filter(CouponSeqNbr == 6) %>% \n",
    "select(PNRLocatorID, TicketNum, ServiceEndCity, trip_max) %>% \n",
    "rename(City7 = ServiceEndCity)\n",
    "\n",
    "jc <- c(\"trip_max\" = \"trip_max\", \"PNRLocatorID\"=\"PNRLocatorID\", \n",
    "        \"TicketNum\"=\"TicketNum\")\n",
    "\n",
    "j1 <- left_join(a1, a2, by=jc)\n",
    "j2 <- left_join(j1, a3, by=jc)\n",
    "j3 <- left_join(j2, a4, by=jc)\n",
    "j4 <- left_join(j3, a5, by=jc)\n",
    "j5 <- left_join(j4, a6, by=jc) %>% \n",
    "  select(PNRLocatorID, TicketNum, trip_max, \n",
    "         City1, City2, City3, City4, City5, City6, City7)"
   ]
  },
  {
   "cell_type": "code",
   "execution_count": 9,
   "metadata": {},
   "outputs": [
    {
     "data": {
      "text/html": [
       "<table>\n",
       "<thead><tr><th scope=col>PNRLocatorID</th><th scope=col>TicketNum</th><th scope=col>CouponSeqNbr</th><th scope=col>ServiceStartCity</th><th scope=col>ServiceEndCity</th><th scope=col>PNRCreateDate</th><th scope=col>ServiceStartDate</th><th scope=col>PaxName</th><th scope=col>EncryptedName</th><th scope=col>GenderCode</th><th scope=col>...</th><th scope=col>BaseFareAmt</th><th scope=col>TotalDocAmt</th><th scope=col>UFlyRewardsNumber</th><th scope=col>UflyMemberStatus</th><th scope=col>CardHolder</th><th scope=col>BookedProduct</th><th scope=col>EnrollDate</th><th scope=col>MarketingFlightNbr</th><th scope=col>MarketingAirlineCode</th><th scope=col>StopoverCode</th></tr></thead>\n",
       "<tbody>\n",
       "\t<tr><td>AAABJK                                                                          </td><td>3.377365e+12                                                                    </td><td>2                                                                               </td><td>JFK                                                                             </td><td>MSP                                                                             </td><td>2013-11-23                                                                      </td><td>2013-12-13                                                                      </td><td>BRUMSA                                                                          </td><td>4252554D4241434B44696420493F7C20676574207468697320726967687453414E445241204C4545</td><td>F                                                                               </td><td>...                                                                             </td><td>234.20                                                                          </td><td>  0.0                                                                           </td><td>NA                                                                              </td><td>NA                                                                              </td><td>NA                                                                              </td><td>CHEOPQ                                                                          </td><td>NA                                                                              </td><td>244                                                                             </td><td>SY                                                                              </td><td>O                                                                               </td></tr>\n",
       "\t<tr><td>AAABJK                                                                          </td><td>3.377365e+12                                                                    </td><td>1                                                                               </td><td>MSP                                                                             </td><td>JFK                                                                             </td><td>2013-11-23                                                                      </td><td>2013-12-08                                                                      </td><td>BRUMSA                                                                          </td><td>4252554D4241434B44696420493F7C20676574207468697320726967687453414E445241204C4545</td><td>F                                                                               </td><td>...                                                                             </td><td>234.20                                                                          </td><td>  0.0                                                                           </td><td>NA                                                                              </td><td>NA                                                                              </td><td>NA                                                                              </td><td>CHEOPQ                                                                          </td><td>NA                                                                              </td><td>243                                                                             </td><td>SY                                                                              </td><td>NA                                                                              </td></tr>\n",
       "\t<tr><td>AAABMK                                                                          </td><td>3.372107e+12                                                                    </td><td>2                                                                               </td><td>MSP                                                                             </td><td>SFO                                                                             </td><td>2014-02-04                                                                      </td><td>2014-02-23                                                                      </td><td>EILDRY                                                                          </td><td>45494C4445525344696420493F7C2067657420746869732072696768745259414E204C          </td><td>M                                                                               </td><td>...                                                                             </td><td>293.96                                                                          </td><td>338.0                                                                           </td><td>NA                                                                              </td><td>NA                                                                              </td><td>NA                                                                              </td><td>NA                                                                              </td><td>NA                                                                              </td><td>397                                                                             </td><td>SY                                                                              </td><td>O                                                                               </td></tr>\n",
       "\t<tr><td>AAABMK                                                                          </td><td>3.372107e+12                                                                    </td><td>1                                                                               </td><td>SFO                                                                             </td><td>MSP                                                                             </td><td>2014-02-04                                                                      </td><td>2014-02-20                                                                      </td><td>EILDRY                                                                          </td><td>45494C4445525344696420493F7C2067657420746869732072696768745259414E204C          </td><td>M                                                                               </td><td>...                                                                             </td><td>293.96                                                                          </td><td>338.0                                                                           </td><td>NA                                                                              </td><td>NA                                                                              </td><td>NA                                                                              </td><td>NA                                                                              </td><td>NA                                                                              </td><td>392                                                                             </td><td>SY                                                                              </td><td>NA                                                                              </td></tr>\n",
       "\t<tr><td>AAABTP                                                                          </td><td>3.372107e+12                                                                    </td><td>1                                                                               </td><td>MCO                                                                             </td><td>MSP                                                                             </td><td>2014-03-13                                                                      </td><td>2014-04-23                                                                      </td><td>SKELMA                                                                          </td><td>534B454C544F4E44696420493F7C2067657420746869732072696768744D4152534841          </td><td>F                                                                               </td><td>...                                                                             </td><td>112.56                                                                          </td><td>132.0                                                                           </td><td>NA                                                                              </td><td>NA                                                                              </td><td>NA                                                                              </td><td>NA                                                                              </td><td>NA                                                                              </td><td>342                                                                             </td><td>SY                                                                              </td><td>NA                                                                              </td></tr>\n",
       "\t<tr><td>AAACLY                                                                          </td><td>3.372106e+12                                                                    </td><td>1                                                                               </td><td>PSP                                                                             </td><td>MSP                                                                             </td><td>2012-10-06                                                                      </td><td>2013-02-12                                                                      </td><td>HINZRI                                                                          </td><td>48494E5A4544696420493F7C206765742074686973207269676874524943484152442043        </td><td>M                                                                               </td><td>...                                                                             </td><td>171.16                                                                          </td><td>194.8                                                                           </td><td>NA                                                                              </td><td>NA                                                                              </td><td>NA                                                                              </td><td>NA                                                                              </td><td>NA                                                                              </td><td>610                                                                             </td><td>SY                                                                              </td><td>NA                                                                              </td></tr>\n",
       "</tbody>\n",
       "</table>\n"
      ],
      "text/latex": [
       "\\begin{tabular}{r|llllllllllllllllllllllllll}\n",
       " PNRLocatorID & TicketNum & CouponSeqNbr & ServiceStartCity & ServiceEndCity & PNRCreateDate & ServiceStartDate & PaxName & EncryptedName & GenderCode & ... & BaseFareAmt & TotalDocAmt & UFlyRewardsNumber & UflyMemberStatus & CardHolder & BookedProduct & EnrollDate & MarketingFlightNbr & MarketingAirlineCode & StopoverCode\\\\\n",
       "\\hline\n",
       "\t AAABJK                                                                           & 3.377365e+12                                                                     & 2                                                                                & JFK                                                                              & MSP                                                                              & 2013-11-23                                                                       & 2013-12-13                                                                       & BRUMSA                                                                           & 4252554D4241434B44696420493F7C20676574207468697320726967687453414E445241204C4545 & F                                                                                & ...                                                                              & 234.20                                                                           &   0.0                                                                            & NA                                                                               & NA                                                                               & NA                                                                               & CHEOPQ                                                                           & NA                                                                               & 244                                                                              & SY                                                                               & O                                                                               \\\\\n",
       "\t AAABJK                                                                           & 3.377365e+12                                                                     & 1                                                                                & MSP                                                                              & JFK                                                                              & 2013-11-23                                                                       & 2013-12-08                                                                       & BRUMSA                                                                           & 4252554D4241434B44696420493F7C20676574207468697320726967687453414E445241204C4545 & F                                                                                & ...                                                                              & 234.20                                                                           &   0.0                                                                            & NA                                                                               & NA                                                                               & NA                                                                               & CHEOPQ                                                                           & NA                                                                               & 243                                                                              & SY                                                                               & NA                                                                              \\\\\n",
       "\t AAABMK                                                                           & 3.372107e+12                                                                     & 2                                                                                & MSP                                                                              & SFO                                                                              & 2014-02-04                                                                       & 2014-02-23                                                                       & EILDRY                                                                           & 45494C4445525344696420493F7C2067657420746869732072696768745259414E204C           & M                                                                                & ...                                                                              & 293.96                                                                           & 338.0                                                                            & NA                                                                               & NA                                                                               & NA                                                                               & NA                                                                               & NA                                                                               & 397                                                                              & SY                                                                               & O                                                                               \\\\\n",
       "\t AAABMK                                                                           & 3.372107e+12                                                                     & 1                                                                                & SFO                                                                              & MSP                                                                              & 2014-02-04                                                                       & 2014-02-20                                                                       & EILDRY                                                                           & 45494C4445525344696420493F7C2067657420746869732072696768745259414E204C           & M                                                                                & ...                                                                              & 293.96                                                                           & 338.0                                                                            & NA                                                                               & NA                                                                               & NA                                                                               & NA                                                                               & NA                                                                               & 392                                                                              & SY                                                                               & NA                                                                              \\\\\n",
       "\t AAABTP                                                                           & 3.372107e+12                                                                     & 1                                                                                & MCO                                                                              & MSP                                                                              & 2014-03-13                                                                       & 2014-04-23                                                                       & SKELMA                                                                           & 534B454C544F4E44696420493F7C2067657420746869732072696768744D4152534841           & F                                                                                & ...                                                                              & 112.56                                                                           & 132.0                                                                            & NA                                                                               & NA                                                                               & NA                                                                               & NA                                                                               & NA                                                                               & 342                                                                              & SY                                                                               & NA                                                                              \\\\\n",
       "\t AAACLY                                                                           & 3.372106e+12                                                                     & 1                                                                                & PSP                                                                              & MSP                                                                              & 2012-10-06                                                                       & 2013-02-12                                                                       & HINZRI                                                                           & 48494E5A4544696420493F7C206765742074686973207269676874524943484152442043         & M                                                                                & ...                                                                              & 171.16                                                                           & 194.8                                                                            & NA                                                                               & NA                                                                               & NA                                                                               & NA                                                                               & NA                                                                               & 610                                                                              & SY                                                                               & NA                                                                              \\\\\n",
       "\\end{tabular}\n"
      ],
      "text/markdown": [
       "\n",
       "| PNRLocatorID | TicketNum | CouponSeqNbr | ServiceStartCity | ServiceEndCity | PNRCreateDate | ServiceStartDate | PaxName | EncryptedName | GenderCode | ... | BaseFareAmt | TotalDocAmt | UFlyRewardsNumber | UflyMemberStatus | CardHolder | BookedProduct | EnrollDate | MarketingFlightNbr | MarketingAirlineCode | StopoverCode |\n",
       "|---|---|---|---|---|---|---|---|---|---|---|---|---|---|---|---|---|---|---|---|---|\n",
       "| AAABJK                                                                           | 3.377365e+12                                                                     | 2                                                                                | JFK                                                                              | MSP                                                                              | 2013-11-23                                                                       | 2013-12-13                                                                       | BRUMSA                                                                           | 4252554D4241434B44696420493F7C20676574207468697320726967687453414E445241204C4545 | F                                                                                | ...                                                                              | 234.20                                                                           |   0.0                                                                            | NA                                                                               | NA                                                                               | NA                                                                               | CHEOPQ                                                                           | NA                                                                               | 244                                                                              | SY                                                                               | O                                                                                |\n",
       "| AAABJK                                                                           | 3.377365e+12                                                                     | 1                                                                                | MSP                                                                              | JFK                                                                              | 2013-11-23                                                                       | 2013-12-08                                                                       | BRUMSA                                                                           | 4252554D4241434B44696420493F7C20676574207468697320726967687453414E445241204C4545 | F                                                                                | ...                                                                              | 234.20                                                                           |   0.0                                                                            | NA                                                                               | NA                                                                               | NA                                                                               | CHEOPQ                                                                           | NA                                                                               | 243                                                                              | SY                                                                               | NA                                                                               |\n",
       "| AAABMK                                                                           | 3.372107e+12                                                                     | 2                                                                                | MSP                                                                              | SFO                                                                              | 2014-02-04                                                                       | 2014-02-23                                                                       | EILDRY                                                                           | 45494C4445525344696420493F7C2067657420746869732072696768745259414E204C           | M                                                                                | ...                                                                              | 293.96                                                                           | 338.0                                                                            | NA                                                                               | NA                                                                               | NA                                                                               | NA                                                                               | NA                                                                               | 397                                                                              | SY                                                                               | O                                                                                |\n",
       "| AAABMK                                                                           | 3.372107e+12                                                                     | 1                                                                                | SFO                                                                              | MSP                                                                              | 2014-02-04                                                                       | 2014-02-20                                                                       | EILDRY                                                                           | 45494C4445525344696420493F7C2067657420746869732072696768745259414E204C           | M                                                                                | ...                                                                              | 293.96                                                                           | 338.0                                                                            | NA                                                                               | NA                                                                               | NA                                                                               | NA                                                                               | NA                                                                               | 392                                                                              | SY                                                                               | NA                                                                               |\n",
       "| AAABTP                                                                           | 3.372107e+12                                                                     | 1                                                                                | MCO                                                                              | MSP                                                                              | 2014-03-13                                                                       | 2014-04-23                                                                       | SKELMA                                                                           | 534B454C544F4E44696420493F7C2067657420746869732072696768744D4152534841           | F                                                                                | ...                                                                              | 112.56                                                                           | 132.0                                                                            | NA                                                                               | NA                                                                               | NA                                                                               | NA                                                                               | NA                                                                               | 342                                                                              | SY                                                                               | NA                                                                               |\n",
       "| AAACLY                                                                           | 3.372106e+12                                                                     | 1                                                                                | PSP                                                                              | MSP                                                                              | 2012-10-06                                                                       | 2013-02-12                                                                       | HINZRI                                                                           | 48494E5A4544696420493F7C206765742074686973207269676874524943484152442043         | M                                                                                | ...                                                                              | 171.16                                                                           | 194.8                                                                            | NA                                                                               | NA                                                                               | NA                                                                               | NA                                                                               | NA                                                                               | 610                                                                              | SY                                                                               | NA                                                                               |\n",
       "\n"
      ],
      "text/plain": [
       "  PNRLocatorID TicketNum    CouponSeqNbr ServiceStartCity ServiceEndCity\n",
       "1 AAABJK       3.377365e+12 2            JFK              MSP           \n",
       "2 AAABJK       3.377365e+12 1            MSP              JFK           \n",
       "3 AAABMK       3.372107e+12 2            MSP              SFO           \n",
       "4 AAABMK       3.372107e+12 1            SFO              MSP           \n",
       "5 AAABTP       3.372107e+12 1            MCO              MSP           \n",
       "6 AAACLY       3.372106e+12 1            PSP              MSP           \n",
       "  PNRCreateDate ServiceStartDate PaxName\n",
       "1 2013-11-23    2013-12-13       BRUMSA \n",
       "2 2013-11-23    2013-12-08       BRUMSA \n",
       "3 2014-02-04    2014-02-23       EILDRY \n",
       "4 2014-02-04    2014-02-20       EILDRY \n",
       "5 2014-03-13    2014-04-23       SKELMA \n",
       "6 2012-10-06    2013-02-12       HINZRI \n",
       "  EncryptedName                                                                   \n",
       "1 4252554D4241434B44696420493F7C20676574207468697320726967687453414E445241204C4545\n",
       "2 4252554D4241434B44696420493F7C20676574207468697320726967687453414E445241204C4545\n",
       "3 45494C4445525344696420493F7C2067657420746869732072696768745259414E204C          \n",
       "4 45494C4445525344696420493F7C2067657420746869732072696768745259414E204C          \n",
       "5 534B454C544F4E44696420493F7C2067657420746869732072696768744D4152534841          \n",
       "6 48494E5A4544696420493F7C206765742074686973207269676874524943484152442043        \n",
       "  GenderCode ... BaseFareAmt TotalDocAmt UFlyRewardsNumber UflyMemberStatus\n",
       "1 F          ... 234.20        0.0       NA                NA              \n",
       "2 F          ... 234.20        0.0       NA                NA              \n",
       "3 M          ... 293.96      338.0       NA                NA              \n",
       "4 M          ... 293.96      338.0       NA                NA              \n",
       "5 F          ... 112.56      132.0       NA                NA              \n",
       "6 M          ... 171.16      194.8       NA                NA              \n",
       "  CardHolder BookedProduct EnrollDate MarketingFlightNbr MarketingAirlineCode\n",
       "1 NA         CHEOPQ        <NA>       244                SY                  \n",
       "2 NA         CHEOPQ        <NA>       243                SY                  \n",
       "3 NA         NA            <NA>       397                SY                  \n",
       "4 NA         NA            <NA>       392                SY                  \n",
       "5 NA         NA            <NA>       342                SY                  \n",
       "6 NA         NA            <NA>       610                SY                  \n",
       "  StopoverCode\n",
       "1 O           \n",
       "2 NA          \n",
       "3 O           \n",
       "4 NA          \n",
       "5 NA          \n",
       "6 NA          "
      ]
     },
     "metadata": {},
     "output_type": "display_data"
    }
   ],
   "source": [
    "head(df)"
   ]
  },
  {
   "cell_type": "code",
   "execution_count": null,
   "metadata": {},
   "outputs": [],
   "source": []
  },
  {
   "cell_type": "code",
   "execution_count": 13,
   "metadata": {},
   "outputs": [
    {
     "data": {
      "text/html": [
       "<table>\n",
       "<thead><tr><th scope=col>var</th><th scope=col>n</th></tr></thead>\n",
       "<tbody>\n",
       "\t<tr><td>Elite   </td><td>  34    </td></tr>\n",
       "\t<tr><td>Standard</td><td>1445    </td></tr>\n",
       "\t<tr><td>NA      </td><td>6021    </td></tr>\n",
       "</tbody>\n",
       "</table>\n"
      ],
      "text/latex": [
       "\\begin{tabular}{r|ll}\n",
       " var & n\\\\\n",
       "\\hline\n",
       "\t Elite    &   34    \\\\\n",
       "\t Standard & 1445    \\\\\n",
       "\t NA       & 6021    \\\\\n",
       "\\end{tabular}\n"
      ],
      "text/markdown": [
       "\n",
       "| var | n |\n",
       "|---|---|\n",
       "| Elite    |   34     |\n",
       "| Standard | 1445     |\n",
       "| NA       | 6021     |\n",
       "\n"
      ],
      "text/plain": [
       "  var      n   \n",
       "1 Elite      34\n",
       "2 Standard 1445\n",
       "3 NA       6021"
      ]
     },
     "metadata": {},
     "output_type": "display_data"
    }
   ],
   "source": [
    "## Get counts \n",
    "count(df, var = UflyMemberStatus)"
   ]
  },
  {
   "cell_type": "code",
   "execution_count": 14,
   "metadata": {},
   "outputs": [
    {
     "data": {
      "text/html": [
       "<table>\n",
       "<thead><tr><th scope=col>var</th><th scope=col>n</th></tr></thead>\n",
       "<tbody>\n",
       "\t<tr><td>FALSE</td><td>1423 </td></tr>\n",
       "\t<tr><td> TRUE</td><td>  56 </td></tr>\n",
       "\t<tr><td>   NA</td><td>6021 </td></tr>\n",
       "</tbody>\n",
       "</table>\n"
      ],
      "text/latex": [
       "\\begin{tabular}{r|ll}\n",
       " var & n\\\\\n",
       "\\hline\n",
       "\t FALSE & 1423 \\\\\n",
       "\t  TRUE &   56 \\\\\n",
       "\t    NA & 6021 \\\\\n",
       "\\end{tabular}\n"
      ],
      "text/markdown": [
       "\n",
       "| var | n |\n",
       "|---|---|\n",
       "| FALSE | 1423  |\n",
       "|  TRUE |   56  |\n",
       "|    NA | 6021  |\n",
       "\n"
      ],
      "text/plain": [
       "  var   n   \n",
       "1 FALSE 1423\n",
       "2  TRUE   56\n",
       "3    NA 6021"
      ]
     },
     "metadata": {},
     "output_type": "display_data"
    }
   ],
   "source": [
    "count(df, var = CardHolder)"
   ]
  },
  {
   "cell_type": "code",
   "execution_count": 17,
   "metadata": {},
   "outputs": [
    {
     "data": {
      "text/html": [
       "<table>\n",
       "<thead><tr><th scope=col>var</th><th scope=col>n</th></tr></thead>\n",
       "<tbody>\n",
       "\t<tr><td>100013561</td><td>2        </td></tr>\n",
       "\t<tr><td>100022370</td><td>2        </td></tr>\n",
       "\t<tr><td>100042235</td><td>1        </td></tr>\n",
       "\t<tr><td>100082415</td><td>1        </td></tr>\n",
       "\t<tr><td>100153056</td><td>2        </td></tr>\n",
       "</tbody>\n",
       "</table>\n"
      ],
      "text/latex": [
       "\\begin{tabular}{r|ll}\n",
       " var & n\\\\\n",
       "\\hline\n",
       "\t 100013561 & 2        \\\\\n",
       "\t 100022370 & 2        \\\\\n",
       "\t 100042235 & 1        \\\\\n",
       "\t 100082415 & 1        \\\\\n",
       "\t 100153056 & 2        \\\\\n",
       "\\end{tabular}\n"
      ],
      "text/markdown": [
       "\n",
       "| var | n |\n",
       "|---|---|\n",
       "| 100013561 | 2         |\n",
       "| 100022370 | 2         |\n",
       "| 100042235 | 1         |\n",
       "| 100082415 | 1         |\n",
       "| 100153056 | 2         |\n",
       "\n"
      ],
      "text/plain": [
       "  var       n\n",
       "1 100013561 2\n",
       "2 100022370 2\n",
       "3 100042235 1\n",
       "4 100082415 1\n",
       "5 100153056 2"
      ]
     },
     "metadata": {},
     "output_type": "display_data"
    }
   ],
   "source": [
    "## Any UFlyRewardsNumber that are NULL should be excluded, it means they didn't book with UFlyRewards\n",
    "head(count(df, var = UFlyRewardsNumber), 5)"
   ]
  },
  {
   "cell_type": "code",
   "execution_count": 3,
   "metadata": {},
   "outputs": [],
   "source": [
    "flight_legs <- function(dataframe_in) {\n",
    "  \n",
    "  a <- dataframe_in %>% \n",
    "  select(PNRLocatorID, TicketNum, CouponSeqNbr, ServiceStartCity, ServiceEndCity) %>% \n",
    "  group_by(TicketNum) %>% mutate(trip_max = max(CouponSeqNbr))\n",
    "\n",
    "  a1 <- a %>% filter(CouponSeqNbr == 1) %>% \n",
    "    select(PNRLocatorID, TicketNum, ServiceStartCity, ServiceEndCity, trip_max) %>% \n",
    "    rename(City1 = ServiceStartCity, City2 = ServiceEndCity)\n",
    "  \n",
    "  a2 <- a %>% filter(CouponSeqNbr == 2) %>% \n",
    "    select(PNRLocatorID, TicketNum, ServiceEndCity, trip_max) %>% \n",
    "    rename(City3 = ServiceEndCity)\n",
    "  \n",
    "  a3 <- a %>% filter(CouponSeqNbr == 3) %>% \n",
    "    select(PNRLocatorID, TicketNum, ServiceEndCity, trip_max) %>% \n",
    "    rename(City4 = ServiceEndCity)\n",
    "  \n",
    "  a4 <- a %>% filter(CouponSeqNbr == 4) %>% \n",
    "    select(PNRLocatorID, TicketNum, ServiceEndCity, trip_max) %>% \n",
    "    rename(City5 = ServiceEndCity)\n",
    "  \n",
    "  a5 <- a %>% filter(CouponSeqNbr == 5) %>% \n",
    "    select(PNRLocatorID, TicketNum, ServiceEndCity, trip_max) %>% \n",
    "    rename(City6 = ServiceEndCity)\n",
    "  \n",
    "  a6 <- a %>% filter(CouponSeqNbr == 6) %>% \n",
    "    select(PNRLocatorID, TicketNum, ServiceEndCity, trip_max) %>% \n",
    "    rename(City7 = ServiceEndCity)\n",
    "  \n",
    "  j1 <- left_join(a1, a2, by=c(\"trip_max\" = \"trip_max\", \"PNRLocatorID\"=\"PNRLocatorID\", \n",
    "                               \"TicketNum\"=\"TicketNum\"))\n",
    "  j2 <- left_join(j1, a3, by=c(\"trip_max\" = \"trip_max\", \"PNRLocatorID\"=\"PNRLocatorID\", \n",
    "                               \"TicketNum\"=\"TicketNum\"))\n",
    "  j3 <- left_join(j2, a4, by=c(\"trip_max\" = \"trip_max\", \"PNRLocatorID\"=\"PNRLocatorID\", \n",
    "                               \"TicketNum\"=\"TicketNum\"))\n",
    "  j4 <- left_join(j3, a5, by=c(\"trip_max\" = \"trip_max\", \"PNRLocatorID\"=\"PNRLocatorID\", \n",
    "                               \"TicketNum\"=\"TicketNum\"))\n",
    "  j5 <- left_join(j4, a6, by=c(\"trip_max\" = \"trip_max\", \"PNRLocatorID\"=\"PNRLocatorID\", \n",
    "                               \"TicketNum\"=\"TicketNum\")) %>% \n",
    "    select(PNRLocatorID, TicketNum, trip_max, City1, City2, City3, City4, City5, \n",
    "           City6, City7)\n",
    "  \n",
    "  jx <- as_tibble(j5) %>% unite(\"Airport_Seqence\", City1:City7, sep = \"->\", na.rm = TRUE)\n",
    "  jx <- jx[!duplicated(jx),]\n",
    "  \n",
    "  return(jx)\n",
    "}"
   ]
  },
  {
   "cell_type": "code",
   "execution_count": 4,
   "metadata": {},
   "outputs": [
    {
     "data": {
      "image/png": "[encoded data removed]",
      "text/plain": [
       "plot without title"
      ]
     },
     "metadata": {},
     "output_type": "display_data"
    }
   ],
   "source": [
    "# Filtering Data \n",
    "df_msp <- df %>% filter(CouponSeqNbr == 1) \n",
    "df_msp_start <- left_join(df_msp, flight_legs(df), by = c(\"PNRLocatorID\", \"TicketNum\")) \n",
    "\n",
    "naniar::vis_miss(df_msp_start)"
   ]
  },
  {
   "cell_type": "code",
   "execution_count": 5,
   "metadata": {},
   "outputs": [
    {
     "data": {
      "text/html": [
       "<table>\n",
       "<thead><tr><th scope=col>PNRLocatorID</th><th scope=col>TicketNum</th><th scope=col>CouponSeqNbr</th><th scope=col>ServiceStartCity</th><th scope=col>ServiceEndCity</th><th scope=col>PNRCreateDate</th><th scope=col>ServiceStartDate</th><th scope=col>PaxName</th><th scope=col>EncryptedName</th><th scope=col>GenderCode</th><th scope=col>...</th><th scope=col>UFlyRewardsNumber</th><th scope=col>UflyMemberStatus</th><th scope=col>CardHolder</th><th scope=col>BookedProduct</th><th scope=col>EnrollDate</th><th scope=col>MarketingFlightNbr</th><th scope=col>MarketingAirlineCode</th><th scope=col>StopoverCode</th><th scope=col>trip_max</th><th scope=col>Airport_Seqence</th></tr></thead>\n",
       "<tbody>\n",
       "\t<tr><td>AAABJK                                                                          </td><td>3.377365e+12                                                                    </td><td>1                                                                               </td><td>MSP                                                                             </td><td>JFK                                                                             </td><td>2013-11-23                                                                      </td><td>2013-12-08                                                                      </td><td>BRUMSA                                                                          </td><td>4252554D4241434B44696420493F7C20676574207468697320726967687453414E445241204C4545</td><td>F                                                                               </td><td>...                                                                             </td><td>NA                                                                              </td><td>NA                                                                              </td><td>NA                                                                              </td><td>CHEOPQ                                                                          </td><td>NA                                                                              </td><td>243                                                                             </td><td>SY                                                                              </td><td>NA                                                                              </td><td>2                                                                               </td><td>MSP-&gt;JFK-&gt;MSP                                                             </td></tr>\n",
       "\t<tr><td>AAABMK                                                                                                                  </td><td>3.372107e+12                                                                                                            </td><td>1                                                                                                                       </td><td>SFO                                                                                                                     </td><td>MSP                                                                                                                     </td><td>2014-02-04                                                                                                              </td><td>2014-02-20                                                                                                              </td><td>EILDRY                                                                                                                  </td><td><span style=white-space:pre-wrap>45494C4445525344696420493F7C2067657420746869732072696768745259414E204C          </span></td><td>M                                                                                                                       </td><td>...                                                                                                                     </td><td>NA                                                                                                                      </td><td>NA                                                                                                                      </td><td>NA                                                                                                                      </td><td><span style=white-space:pre-wrap>NA    </span>                                                                          </td><td>NA                                                                                                                      </td><td>392                                                                                                                     </td><td>SY                                                                                                                      </td><td>NA                                                                                                                      </td><td>2                                                                                                                       </td><td>SFO-&gt;MSP-&gt;SFO                                                                                                     </td></tr>\n",
       "\t<tr><td>AAABTP                                                                                                                  </td><td>3.372107e+12                                                                                                            </td><td>1                                                                                                                       </td><td>MCO                                                                                                                     </td><td>MSP                                                                                                                     </td><td>2014-03-13                                                                                                              </td><td>2014-04-23                                                                                                              </td><td>SKELMA                                                                                                                  </td><td><span style=white-space:pre-wrap>534B454C544F4E44696420493F7C2067657420746869732072696768744D4152534841          </span></td><td>F                                                                                                                       </td><td>...                                                                                                                     </td><td>NA                                                                                                                      </td><td>NA                                                                                                                      </td><td>NA                                                                                                                      </td><td><span style=white-space:pre-wrap>NA    </span>                                                                          </td><td>NA                                                                                                                      </td><td>342                                                                                                                     </td><td>SY                                                                                                                      </td><td>NA                                                                                                                      </td><td>1                                                                                                                       </td><td><span style=white-space:pre-wrap>MCO-&gt;MSP     </span>                                                                </td></tr>\n",
       "\t<tr><td>AAACLY                                                                                                                  </td><td>3.372106e+12                                                                                                            </td><td>1                                                                                                                       </td><td>PSP                                                                                                                     </td><td>MSP                                                                                                                     </td><td>2012-10-06                                                                                                              </td><td>2013-02-12                                                                                                              </td><td>HINZRI                                                                                                                  </td><td><span style=white-space:pre-wrap>48494E5A4544696420493F7C206765742074686973207269676874524943484152442043        </span></td><td>M                                                                                                                       </td><td>...                                                                                                                     </td><td>NA                                                                                                                      </td><td>NA                                                                                                                      </td><td>NA                                                                                                                      </td><td><span style=white-space:pre-wrap>NA    </span>                                                                          </td><td>NA                                                                                                                      </td><td>610                                                                                                                     </td><td>SY                                                                                                                      </td><td>NA                                                                                                                      </td><td>1                                                                                                                       </td><td><span style=white-space:pre-wrap>PSP-&gt;MSP     </span>                                                                </td></tr>\n",
       "\t<tr><td>AAACWU                                                                                                                  </td><td>3.372108e+12                                                                                                            </td><td>1                                                                                                                       </td><td>JFK                                                                                                                     </td><td>MSP                                                                                                                     </td><td>2014-10-21                                                                                                              </td><td>2014-11-14                                                                                                              </td><td>GIBAJU                                                                                                                  </td><td><span style=white-space:pre-wrap>47494241534A4F4E455344696420493F7C2067657420746869732072696768744A554C4941      </span></td><td>F                                                                                                                       </td><td>...                                                                                                                     </td><td>NA                                                                                                                      </td><td>NA                                                                                                                      </td><td>NA                                                                                                                      </td><td>SSWMIR                                                                                                                  </td><td>NA                                                                                                                      </td><td>244                                                                                                                     </td><td>SY                                                                                                                      </td><td>NA                                                                                                                      </td><td>1                                                                                                                       </td><td><span style=white-space:pre-wrap>JFK-&gt;MSP     </span>                                                                </td></tr>\n",
       "\t<tr><td>AAACWU                                                                                                                  </td><td>3.372108e+12                                                                                                            </td><td>1                                                                                                                       </td><td>JFK                                                                                                                     </td><td>MSP                                                                                                                     </td><td>2014-10-21                                                                                                              </td><td>2014-11-14                                                                                                              </td><td>GIBAAL                                                                                                                  </td><td><span style=white-space:pre-wrap>474942415344696420493F7C206765742074686973207269676874414C4C454E                </span></td><td>M                                                                                                                       </td><td>...                                                                                                                     </td><td>NA                                                                                                                      </td><td>NA                                                                                                                      </td><td>NA                                                                                                                      </td><td>SSWMIR                                                                                                                  </td><td>NA                                                                                                                      </td><td>244                                                                                                                     </td><td>SY                                                                                                                      </td><td>NA                                                                                                                      </td><td>1                                                                                                                       </td><td><span style=white-space:pre-wrap>JFK-&gt;MSP     </span>                                                                </td></tr>\n",
       "</tbody>\n",
       "</table>\n"
      ],
      "text/latex": [
       "\\begin{tabular}{r|llllllllllllllllllllllllllll}\n",
       " PNRLocatorID & TicketNum & CouponSeqNbr & ServiceStartCity & ServiceEndCity & PNRCreateDate & ServiceStartDate & PaxName & EncryptedName & GenderCode & ... & UFlyRewardsNumber & UflyMemberStatus & CardHolder & BookedProduct & EnrollDate & MarketingFlightNbr & MarketingAirlineCode & StopoverCode & trip\\_max & Airport\\_Seqence\\\\\n",
       "\\hline\n",
       "\t AAABJK                                                                           & 3.377365e+12                                                                     & 1                                                                                & MSP                                                                              & JFK                                                                              & 2013-11-23                                                                       & 2013-12-08                                                                       & BRUMSA                                                                           & 4252554D4241434B44696420493F7C20676574207468697320726967687453414E445241204C4545 & F                                                                                & ...                                                                              & NA                                                                               & NA                                                                               & NA                                                                               & CHEOPQ                                                                           & NA                                                                               & 243                                                                              & SY                                                                               & NA                                                                               & 2                                                                                & MSP->JFK->MSP                                                                   \\\\\n",
       "\t AAABMK                                                                           & 3.372107e+12                                                                     & 1                                                                                & SFO                                                                              & MSP                                                                              & 2014-02-04                                                                       & 2014-02-20                                                                       & EILDRY                                                                           & 45494C4445525344696420493F7C2067657420746869732072696768745259414E204C           & M                                                                                & ...                                                                              & NA                                                                               & NA                                                                               & NA                                                                               & NA                                                                               & NA                                                                               & 392                                                                              & SY                                                                               & NA                                                                               & 2                                                                                & SFO->MSP->SFO                                                                   \\\\\n",
       "\t AAABTP                                                                           & 3.372107e+12                                                                     & 1                                                                                & MCO                                                                              & MSP                                                                              & 2014-03-13                                                                       & 2014-04-23                                                                       & SKELMA                                                                           & 534B454C544F4E44696420493F7C2067657420746869732072696768744D4152534841           & F                                                                                & ...                                                                              & NA                                                                               & NA                                                                               & NA                                                                               & NA                                                                               & NA                                                                               & 342                                                                              & SY                                                                               & NA                                                                               & 1                                                                                & MCO->MSP                                                                        \\\\\n",
       "\t AAACLY                                                                           & 3.372106e+12                                                                     & 1                                                                                & PSP                                                                              & MSP                                                                              & 2012-10-06                                                                       & 2013-02-12                                                                       & HINZRI                                                                           & 48494E5A4544696420493F7C206765742074686973207269676874524943484152442043         & M                                                                                & ...                                                                              & NA                                                                               & NA                                                                               & NA                                                                               & NA                                                                               & NA                                                                               & 610                                                                              & SY                                                                               & NA                                                                               & 1                                                                                & PSP->MSP                                                                        \\\\\n",
       "\t AAACWU                                                                           & 3.372108e+12                                                                     & 1                                                                                & JFK                                                                              & MSP                                                                              & 2014-10-21                                                                       & 2014-11-14                                                                       & GIBAJU                                                                           & 47494241534A4F4E455344696420493F7C2067657420746869732072696768744A554C4941       & F                                                                                & ...                                                                              & NA                                                                               & NA                                                                               & NA                                                                               & SSWMIR                                                                           & NA                                                                               & 244                                                                              & SY                                                                               & NA                                                                               & 1                                                                                & JFK->MSP                                                                        \\\\\n",
       "\t AAACWU                                                                           & 3.372108e+12                                                                     & 1                                                                                & JFK                                                                              & MSP                                                                              & 2014-10-21                                                                       & 2014-11-14                                                                       & GIBAAL                                                                           & 474942415344696420493F7C206765742074686973207269676874414C4C454E                 & M                                                                                & ...                                                                              & NA                                                                               & NA                                                                               & NA                                                                               & SSWMIR                                                                           & NA                                                                               & 244                                                                              & SY                                                                               & NA                                                                               & 1                                                                                & JFK->MSP                                                                        \\\\\n",
       "\\end{tabular}\n"
      ],
      "text/markdown": [
       "\n",
       "| PNRLocatorID | TicketNum | CouponSeqNbr | ServiceStartCity | ServiceEndCity | PNRCreateDate | ServiceStartDate | PaxName | EncryptedName | GenderCode | ... | UFlyRewardsNumber | UflyMemberStatus | CardHolder | BookedProduct | EnrollDate | MarketingFlightNbr | MarketingAirlineCode | StopoverCode | trip_max | Airport_Seqence |\n",
       "|---|---|---|---|---|---|---|---|---|---|---|---|---|---|---|---|---|---|---|---|---|\n",
       "| AAABJK                                                                           | 3.377365e+12                                                                     | 1                                                                                | MSP                                                                              | JFK                                                                              | 2013-11-23                                                                       | 2013-12-08                                                                       | BRUMSA                                                                           | 4252554D4241434B44696420493F7C20676574207468697320726967687453414E445241204C4545 | F                                                                                | ...                                                                              | NA                                                                               | NA                                                                               | NA                                                                               | CHEOPQ                                                                           | NA                                                                               | 243                                                                              | SY                                                                               | NA                                                                               | 2                                                                                | MSP->JFK->MSP                                                                    |\n",
       "| AAABMK                                                                           | 3.372107e+12                                                                     | 1                                                                                | SFO                                                                              | MSP                                                                              | 2014-02-04                                                                       | 2014-02-20                                                                       | EILDRY                                                                           | 45494C4445525344696420493F7C2067657420746869732072696768745259414E204C           | M                                                                                | ...                                                                              | NA                                                                               | NA                                                                               | NA                                                                               | NA                                                                               | NA                                                                               | 392                                                                              | SY                                                                               | NA                                                                               | 2                                                                                | SFO->MSP->SFO                                                                    |\n",
       "| AAABTP                                                                           | 3.372107e+12                                                                     | 1                                                                                | MCO                                                                              | MSP                                                                              | 2014-03-13                                                                       | 2014-04-23                                                                       | SKELMA                                                                           | 534B454C544F4E44696420493F7C2067657420746869732072696768744D4152534841           | F                                                                                | ...                                                                              | NA                                                                               | NA                                                                               | NA                                                                               | NA                                                                               | NA                                                                               | 342                                                                              | SY                                                                               | NA                                                                               | 1                                                                                | MCO->MSP                                                                         |\n",
       "| AAACLY                                                                           | 3.372106e+12                                                                     | 1                                                                                | PSP                                                                              | MSP                                                                              | 2012-10-06                                                                       | 2013-02-12                                                                       | HINZRI                                                                           | 48494E5A4544696420493F7C206765742074686973207269676874524943484152442043         | M                                                                                | ...                                                                              | NA                                                                               | NA                                                                               | NA                                                                               | NA                                                                               | NA                                                                               | 610                                                                              | SY                                                                               | NA                                                                               | 1                                                                                | PSP->MSP                                                                         |\n",
       "| AAACWU                                                                           | 3.372108e+12                                                                     | 1                                                                                | JFK                                                                              | MSP                                                                              | 2014-10-21                                                                       | 2014-11-14                                                                       | GIBAJU                                                                           | 47494241534A4F4E455344696420493F7C2067657420746869732072696768744A554C4941       | F                                                                                | ...                                                                              | NA                                                                               | NA                                                                               | NA                                                                               | SSWMIR                                                                           | NA                                                                               | 244                                                                              | SY                                                                               | NA                                                                               | 1                                                                                | JFK->MSP                                                                         |\n",
       "| AAACWU                                                                           | 3.372108e+12                                                                     | 1                                                                                | JFK                                                                              | MSP                                                                              | 2014-10-21                                                                       | 2014-11-14                                                                       | GIBAAL                                                                           | 474942415344696420493F7C206765742074686973207269676874414C4C454E                 | M                                                                                | ...                                                                              | NA                                                                               | NA                                                                               | NA                                                                               | SSWMIR                                                                           | NA                                                                               | 244                                                                              | SY                                                                               | NA                                                                               | 1                                                                                | JFK->MSP                                                                         |\n",
       "\n"
      ],
      "text/plain": [
       "  PNRLocatorID TicketNum    CouponSeqNbr ServiceStartCity ServiceEndCity\n",
       "1 AAABJK       3.377365e+12 1            MSP              JFK           \n",
       "2 AAABMK       3.372107e+12 1            SFO              MSP           \n",
       "3 AAABTP       3.372107e+12 1            MCO              MSP           \n",
       "4 AAACLY       3.372106e+12 1            PSP              MSP           \n",
       "5 AAACWU       3.372108e+12 1            JFK              MSP           \n",
       "6 AAACWU       3.372108e+12 1            JFK              MSP           \n",
       "  PNRCreateDate ServiceStartDate PaxName\n",
       "1 2013-11-23    2013-12-08       BRUMSA \n",
       "2 2014-02-04    2014-02-20       EILDRY \n",
       "3 2014-03-13    2014-04-23       SKELMA \n",
       "4 2012-10-06    2013-02-12       HINZRI \n",
       "5 2014-10-21    2014-11-14       GIBAJU \n",
       "6 2014-10-21    2014-11-14       GIBAAL \n",
       "  EncryptedName                                                                   \n",
       "1 4252554D4241434B44696420493F7C20676574207468697320726967687453414E445241204C4545\n",
       "2 45494C4445525344696420493F7C2067657420746869732072696768745259414E204C          \n",
       "3 534B454C544F4E44696420493F7C2067657420746869732072696768744D4152534841          \n",
       "4 48494E5A4544696420493F7C206765742074686973207269676874524943484152442043        \n",
       "5 47494241534A4F4E455344696420493F7C2067657420746869732072696768744A554C4941      \n",
       "6 474942415344696420493F7C206765742074686973207269676874414C4C454E                \n",
       "  GenderCode ... UFlyRewardsNumber UflyMemberStatus CardHolder BookedProduct\n",
       "1 F          ... NA                NA               NA         CHEOPQ       \n",
       "2 M          ... NA                NA               NA         NA           \n",
       "3 F          ... NA                NA               NA         NA           \n",
       "4 M          ... NA                NA               NA         NA           \n",
       "5 F          ... NA                NA               NA         SSWMIR       \n",
       "6 M          ... NA                NA               NA         SSWMIR       \n",
       "  EnrollDate MarketingFlightNbr MarketingAirlineCode StopoverCode trip_max\n",
       "1 <NA>       243                SY                   NA           2       \n",
       "2 <NA>       392                SY                   NA           2       \n",
       "3 <NA>       342                SY                   NA           1       \n",
       "4 <NA>       610                SY                   NA           1       \n",
       "5 <NA>       244                SY                   NA           1       \n",
       "6 <NA>       244                SY                   NA           1       \n",
       "  Airport_Seqence\n",
       "1 MSP->JFK->MSP  \n",
       "2 SFO->MSP->SFO  \n",
       "3 MCO->MSP       \n",
       "4 PSP->MSP       \n",
       "5 JFK->MSP       \n",
       "6 JFK->MSP       "
      ]
     },
     "metadata": {},
     "output_type": "display_data"
    }
   ],
   "source": [
    "head(df_msp_start)"
   ]
  },
  {
   "cell_type": "code",
   "execution_count": 11,
   "metadata": {},
   "outputs": [
    {
     "data": {
      "text/html": [
       "<table>\n",
       "<thead><tr><th scope=col>PNRLocatorID</th><th scope=col>TicketNum</th><th scope=col>CouponSeqNbr</th><th scope=col>ServiceStartCity</th><th scope=col>ServiceEndCity</th><th scope=col>PNRCreateDate</th><th scope=col>ServiceStartDate</th><th scope=col>PaxName</th><th scope=col>EncryptedName</th><th scope=col>GenderCode</th><th scope=col>...</th><th scope=col>UFlyRewardsNumber</th><th scope=col>UflyMemberStatus</th><th scope=col>CardHolder</th><th scope=col>BookedProduct</th><th scope=col>EnrollDate</th><th scope=col>MarketingFlightNbr</th><th scope=col>MarketingAirlineCode</th><th scope=col>StopoverCode</th><th scope=col>trip_max</th><th scope=col>Airport_Seqence</th></tr></thead>\n",
       "<tbody>\n",
       "\t<tr><td>AAWDNN                                                                                                                            </td><td>3.377414e+12                                                                                                                      </td><td>1                                                                                                                                 </td><td>LAX                                                                                                                               </td><td>MSP                                                                                                                               </td><td>2014-09-24                                                                                                                        </td><td>2014-09-25                                                                                                                        </td><td>LARSJA                                                                                                                            </td><td><span style=white-space:pre-wrap>4C4152534F4E44696420493F7C2067657420746869732072696768744A41534F4E2044                    </span></td><td>M                                                                                                                                 </td><td>...                                                                                                                               </td><td>201639023                                                                                                                         </td><td>Standard                                                                                                                          </td><td>FALSE                                                                                                                             </td><td><span style=white-space:pre-wrap>NFI   </span>                                                                                    </td><td>2008-04-14 09:19:49                                                                                                               </td><td>0422                                                                                                                              </td><td>SY                                                                                                                                </td><td>O                                                                                                                                 </td><td>1                                                                                                                                 </td><td><span style=white-space:pre-wrap>LAX-&gt;MSP     </span>                                                                          </td></tr>\n",
       "\t<tr><td>ABEXJA                                                                                                                            </td><td>3.377350e+12                                                                                                                      </td><td>1                                                                                                                                 </td><td>DFW                                                                                                                               </td><td>MSP                                                                                                                               </td><td>2013-10-29                                                                                                                        </td><td>2013-11-16                                                                                                                        </td><td>REBAJE                                                                                                                            </td><td><span style=white-space:pre-wrap>52454241524348454B44696420493F7C2067657420746869732072696768744A45414E4E45                </span></td><td>F                                                                                                                                 </td><td>...                                                                                                                               </td><td>210045916                                                                                                                         </td><td>Standard                                                                                                                          </td><td>FALSE                                                                                                                             </td><td>ONEOPQ                                                                                                                            </td><td>2013-01-29 17:03:18                                                                                                               </td><td>504                                                                                                                               </td><td>SY                                                                                                                                </td><td>O                                                                                                                                 </td><td>1                                                                                                                                 </td><td><span style=white-space:pre-wrap>DFW-&gt;MSP     </span>                                                                          </td></tr>\n",
       "\t<tr><td>AAVMWE                                                                                    </td><td>3.377542e+12                                                                              </td><td>1                                                                                         </td><td>MSP                                                                                       </td><td>BOS                                                                                       </td><td>2014-11-17                                                                                </td><td>2014-11-18                                                                                </td><td>PETHVI                                                                                    </td><td>504554484544696420493F7C20676574207468697320726967687456495348574153205659414E4B415452414F</td><td>M                                                                                         </td><td>...                                                                                       </td><td>211121330                                                                                 </td><td>Standard                                                                                  </td><td>FALSE                                                                                     </td><td>CWT971                                                                                    </td><td>2014-09-07 11:08:19                                                                       </td><td>0253                                                                                      </td><td>SY                                                                                        </td><td>O                                                                                         </td><td>2                                                                                         </td><td>MSP-&gt;BOS-&gt;MSP                                                                       </td></tr>\n",
       "\t<tr><td>ABDZAA                                                                                                                            </td><td>3.377349e+12                                                                                                                      </td><td>1                                                                                                                                 </td><td>MSP                                                                                                                               </td><td>BOS                                                                                                                               </td><td>2014-04-08                                                                                                                        </td><td>2014-04-28                                                                                                                        </td><td>RHOAMI                                                                                                                            </td><td><span style=white-space:pre-wrap>52484F41445344696420493F7C2067657420746869732072696768744D49544348454C4C204C              </span></td><td>M                                                                                                                                 </td><td>...                                                                                                                               </td><td>203304032                                                                                                                         </td><td>Standard                                                                                                                          </td><td>FALSE                                                                                                                             </td><td>ANDER                                                                                                                             </td><td>2012-07-07 22:28:58                                                                                                               </td><td>0251                                                                                                                              </td><td>SY                                                                                                                                </td><td>O                                                                                                                                 </td><td>1                                                                                                                                 </td><td><span style=white-space:pre-wrap>MSP-&gt;BOS     </span>                                                                          </td></tr>\n",
       "</tbody>\n",
       "</table>\n"
      ],
      "text/latex": [
       "\\begin{tabular}{r|llllllllllllllllllllllllllll}\n",
       " PNRLocatorID & TicketNum & CouponSeqNbr & ServiceStartCity & ServiceEndCity & PNRCreateDate & ServiceStartDate & PaxName & EncryptedName & GenderCode & ... & UFlyRewardsNumber & UflyMemberStatus & CardHolder & BookedProduct & EnrollDate & MarketingFlightNbr & MarketingAirlineCode & StopoverCode & trip\\_max & Airport\\_Seqence\\\\\n",
       "\\hline\n",
       "\t AAWDNN                                                                                     & 3.377414e+12                                                                               & 1                                                                                          & LAX                                                                                        & MSP                                                                                        & 2014-09-24                                                                                 & 2014-09-25                                                                                 & LARSJA                                                                                     & 4C4152534F4E44696420493F7C2067657420746869732072696768744A41534F4E2044                     & M                                                                                          & ...                                                                                        & 201639023                                                                                  & Standard                                                                                   & FALSE                                                                                      & NFI                                                                                        & 2008-04-14 09:19:49                                                                        & 0422                                                                                       & SY                                                                                         & O                                                                                          & 1                                                                                          & LAX->MSP                                                                                  \\\\\n",
       "\t ABEXJA                                                                                     & 3.377350e+12                                                                               & 1                                                                                          & DFW                                                                                        & MSP                                                                                        & 2013-10-29                                                                                 & 2013-11-16                                                                                 & REBAJE                                                                                     & 52454241524348454B44696420493F7C2067657420746869732072696768744A45414E4E45                 & F                                                                                          & ...                                                                                        & 210045916                                                                                  & Standard                                                                                   & FALSE                                                                                      & ONEOPQ                                                                                     & 2013-01-29 17:03:18                                                                        & 504                                                                                        & SY                                                                                         & O                                                                                          & 1                                                                                          & DFW->MSP                                                                                  \\\\\n",
       "\t AAVMWE                                                                                     & 3.377542e+12                                                                               & 1                                                                                          & MSP                                                                                        & BOS                                                                                        & 2014-11-17                                                                                 & 2014-11-18                                                                                 & PETHVI                                                                                     & 504554484544696420493F7C20676574207468697320726967687456495348574153205659414E4B415452414F & M                                                                                          & ...                                                                                        & 211121330                                                                                  & Standard                                                                                   & FALSE                                                                                      & CWT971                                                                                     & 2014-09-07 11:08:19                                                                        & 0253                                                                                       & SY                                                                                         & O                                                                                          & 2                                                                                          & MSP->BOS->MSP                                                                             \\\\\n",
       "\t ABDZAA                                                                                     & 3.377349e+12                                                                               & 1                                                                                          & MSP                                                                                        & BOS                                                                                        & 2014-04-08                                                                                 & 2014-04-28                                                                                 & RHOAMI                                                                                     & 52484F41445344696420493F7C2067657420746869732072696768744D49544348454C4C204C               & M                                                                                          & ...                                                                                        & 203304032                                                                                  & Standard                                                                                   & FALSE                                                                                      & ANDER                                                                                      & 2012-07-07 22:28:58                                                                        & 0251                                                                                       & SY                                                                                         & O                                                                                          & 1                                                                                          & MSP->BOS                                                                                  \\\\\n",
       "\\end{tabular}\n"
      ],
      "text/markdown": [
       "\n",
       "| PNRLocatorID | TicketNum | CouponSeqNbr | ServiceStartCity | ServiceEndCity | PNRCreateDate | ServiceStartDate | PaxName | EncryptedName | GenderCode | ... | UFlyRewardsNumber | UflyMemberStatus | CardHolder | BookedProduct | EnrollDate | MarketingFlightNbr | MarketingAirlineCode | StopoverCode | trip_max | Airport_Seqence |\n",
       "|---|---|---|---|---|---|---|---|---|---|---|---|---|---|---|---|---|---|---|---|---|\n",
       "| AAWDNN                                                                                     | 3.377414e+12                                                                               | 1                                                                                          | LAX                                                                                        | MSP                                                                                        | 2014-09-24                                                                                 | 2014-09-25                                                                                 | LARSJA                                                                                     | 4C4152534F4E44696420493F7C2067657420746869732072696768744A41534F4E2044                     | M                                                                                          | ...                                                                                        | 201639023                                                                                  | Standard                                                                                   | FALSE                                                                                      | NFI                                                                                        | 2008-04-14 09:19:49                                                                        | 0422                                                                                       | SY                                                                                         | O                                                                                          | 1                                                                                          | LAX->MSP                                                                                   |\n",
       "| ABEXJA                                                                                     | 3.377350e+12                                                                               | 1                                                                                          | DFW                                                                                        | MSP                                                                                        | 2013-10-29                                                                                 | 2013-11-16                                                                                 | REBAJE                                                                                     | 52454241524348454B44696420493F7C2067657420746869732072696768744A45414E4E45                 | F                                                                                          | ...                                                                                        | 210045916                                                                                  | Standard                                                                                   | FALSE                                                                                      | ONEOPQ                                                                                     | 2013-01-29 17:03:18                                                                        | 504                                                                                        | SY                                                                                         | O                                                                                          | 1                                                                                          | DFW->MSP                                                                                   |\n",
       "| AAVMWE                                                                                     | 3.377542e+12                                                                               | 1                                                                                          | MSP                                                                                        | BOS                                                                                        | 2014-11-17                                                                                 | 2014-11-18                                                                                 | PETHVI                                                                                     | 504554484544696420493F7C20676574207468697320726967687456495348574153205659414E4B415452414F | M                                                                                          | ...                                                                                        | 211121330                                                                                  | Standard                                                                                   | FALSE                                                                                      | CWT971                                                                                     | 2014-09-07 11:08:19                                                                        | 0253                                                                                       | SY                                                                                         | O                                                                                          | 2                                                                                          | MSP->BOS->MSP                                                                              |\n",
       "| ABDZAA                                                                                     | 3.377349e+12                                                                               | 1                                                                                          | MSP                                                                                        | BOS                                                                                        | 2014-04-08                                                                                 | 2014-04-28                                                                                 | RHOAMI                                                                                     | 52484F41445344696420493F7C2067657420746869732072696768744D49544348454C4C204C               | M                                                                                          | ...                                                                                        | 203304032                                                                                  | Standard                                                                                   | FALSE                                                                                      | ANDER                                                                                      | 2012-07-07 22:28:58                                                                        | 0251                                                                                       | SY                                                                                         | O                                                                                          | 1                                                                                          | MSP->BOS                                                                                   |\n",
       "\n"
      ],
      "text/plain": [
       "  PNRLocatorID TicketNum    CouponSeqNbr ServiceStartCity ServiceEndCity\n",
       "1 AAWDNN       3.377414e+12 1            LAX              MSP           \n",
       "2 ABEXJA       3.377350e+12 1            DFW              MSP           \n",
       "3 AAVMWE       3.377542e+12 1            MSP              BOS           \n",
       "4 ABDZAA       3.377349e+12 1            MSP              BOS           \n",
       "  PNRCreateDate ServiceStartDate PaxName\n",
       "1 2014-09-24    2014-09-25       LARSJA \n",
       "2 2013-10-29    2013-11-16       REBAJE \n",
       "3 2014-11-17    2014-11-18       PETHVI \n",
       "4 2014-04-08    2014-04-28       RHOAMI \n",
       "  EncryptedName                                                                             \n",
       "1 4C4152534F4E44696420493F7C2067657420746869732072696768744A41534F4E2044                    \n",
       "2 52454241524348454B44696420493F7C2067657420746869732072696768744A45414E4E45                \n",
       "3 504554484544696420493F7C20676574207468697320726967687456495348574153205659414E4B415452414F\n",
       "4 52484F41445344696420493F7C2067657420746869732072696768744D49544348454C4C204C              \n",
       "  GenderCode ... UFlyRewardsNumber UflyMemberStatus CardHolder BookedProduct\n",
       "1 M          ... 201639023         Standard         FALSE      NFI          \n",
       "2 F          ... 210045916         Standard         FALSE      ONEOPQ       \n",
       "3 M          ... 211121330         Standard         FALSE      CWT971       \n",
       "4 M          ... 203304032         Standard         FALSE      ANDER        \n",
       "  EnrollDate          MarketingFlightNbr MarketingAirlineCode StopoverCode\n",
       "1 2008-04-14 09:19:49 0422               SY                   O           \n",
       "2 2013-01-29 17:03:18 504                SY                   O           \n",
       "3 2014-09-07 11:08:19 0253               SY                   O           \n",
       "4 2012-07-07 22:28:58 0251               SY                   O           \n",
       "  trip_max Airport_Seqence\n",
       "1 1        LAX->MSP       \n",
       "2 1        DFW->MSP       \n",
       "3 2        MSP->BOS->MSP  \n",
       "4 1        MSP->BOS       "
      ]
     },
     "metadata": {},
     "output_type": "display_data"
    }
   ],
   "source": [
    "df_msp_start %>% drop_na()"
   ]
  },
  {
   "cell_type": "code",
   "execution_count": 12,
   "metadata": {},
   "outputs": [],
   "source": [
    "DF <- data.frame(x = c(1, 2, 3), y = c(0, 10, NA), z=c(NA, 33, 22))\n",
    "\n",
    "completeFun <- function(data, desiredCols) {\n",
    "  completeVec <- complete.cases(data[, desiredCols])\n",
    "  return(data[completeVec, ])\n",
    "}"
   ]
  },
  {
   "cell_type": "code",
   "execution_count": 13,
   "metadata": {},
   "outputs": [
    {
     "data": {
      "text/html": [
       "<table>\n",
       "<thead><tr><th scope=col>x</th><th scope=col>y</th><th scope=col>z</th></tr></thead>\n",
       "<tbody>\n",
       "\t<tr><td>1 </td><td> 0</td><td>NA</td></tr>\n",
       "\t<tr><td>2 </td><td>10</td><td>33</td></tr>\n",
       "</tbody>\n",
       "</table>\n"
      ],
      "text/latex": [
       "\\begin{tabular}{r|lll}\n",
       " x & y & z\\\\\n",
       "\\hline\n",
       "\t 1  &  0 & NA\\\\\n",
       "\t 2  & 10 & 33\\\\\n",
       "\\end{tabular}\n"
      ],
      "text/markdown": [
       "\n",
       "| x | y | z |\n",
       "|---|---|---|\n",
       "| 1  |  0 | NA |\n",
       "| 2  | 10 | 33 |\n",
       "\n"
      ],
      "text/plain": [
       "  x y  z \n",
       "1 1  0 NA\n",
       "2 2 10 33"
      ]
     },
     "metadata": {},
     "output_type": "display_data"
    }
   ],
   "source": [
    "completeFun(DF, \"y\")"
   ]
  },
  {
   "cell_type": "code",
   "execution_count": 15,
   "metadata": {},
   "outputs": [],
   "source": [
    "## Drop all rows that don't have a UFlyRewardsMembership number so I can just analyze this group\n",
    "uflymembers_only <- completeFun(df_msp_start, \"UFlyRewardsNumber\")"
   ]
  },
  {
   "cell_type": "code",
   "execution_count": 16,
   "metadata": {},
   "outputs": [
    {
     "data": {
      "text/plain": [
       " PNRLocatorID         TicketNum          CouponSeqNbr ServiceStartCity  \n",
       " Length:851         Min.   :3.372e+12   Min.   :1     Length:851        \n",
       " Class :character   1st Qu.:3.372e+12   1st Qu.:1     Class :character  \n",
       " Mode  :character   Median :3.372e+12   Median :1     Mode  :character  \n",
       "                    Mean   :3.373e+12   Mean   :1                       \n",
       "                    3rd Qu.:3.372e+12   3rd Qu.:1                       \n",
       "                    Max.   :3.378e+12   Max.   :1                       \n",
       "                                                                        \n",
       " ServiceEndCity     PNRCreateDate        ServiceStartDate    \n",
       " Length:851         Min.   :2012-10-02   Min.   :2013-01-04  \n",
       " Class :character   1st Qu.:2013-05-29   1st Qu.:2013-07-19  \n",
       " Mode  :character   Median :2013-11-16   Median :2014-01-23  \n",
       "                    Mean   :2013-11-23   Mean   :2014-01-21  \n",
       "                    3rd Qu.:2014-05-24   3rd Qu.:2014-07-24  \n",
       "                    Max.   :2014-12-21   Max.   :2014-12-31  \n",
       "                                                             \n",
       "   PaxName          EncryptedName       GenderCode         birthdateid   \n",
       " Length:851         Length:851         Length:851         Min.   :25414  \n",
       " Class :character   Class :character   Class :character   1st Qu.:37615  \n",
       " Mode  :character   Mode  :character   Mode  :character   Median :42194  \n",
       "                                                          Mean   :43111  \n",
       "                                                          3rd Qu.:48421  \n",
       "                                                          Max.   :59883  \n",
       "                                                          NA's   :5      \n",
       "      Age          PostalCode    BkdClassOfService  TrvldClassOfService\n",
       " Min.   : 0.00   Min.   : 1501   Length:851         Length:851         \n",
       " 1st Qu.:31.00   1st Qu.:55101   Class :character   Class :character   \n",
       " Median :47.00   Median :55345   Mode  :character   Mode  :character   \n",
       " Mean   :45.18   Mean   :57227                                         \n",
       " 3rd Qu.:60.00   3rd Qu.:55443                                         \n",
       " Max.   :93.00   Max.   :98503                                         \n",
       " NA's   :5       NA's   :12                                            \n",
       " BookingChannel      BaseFareAmt      TotalDocAmt     UFlyRewardsNumber  \n",
       " Length:851         Min.   :   0.0   Min.   :   0.0   Min.   :100013561  \n",
       " Class :character   1st Qu.: 165.6   1st Qu.: 197.9   1st Qu.:200891038  \n",
       " Mode  :character   Median : 275.3   Median : 311.8   Median :203023052  \n",
       "                    Mean   : 301.8   Mean   : 333.1   Mean   :205128844  \n",
       "                    3rd Qu.: 387.4   3rd Qu.: 428.4   3rd Qu.:210402835  \n",
       "                    Max.   :1198.0   Max.   :1289.8   Max.   :241067816  \n",
       "                                                                         \n",
       " UflyMemberStatus   CardHolder      BookedProduct     \n",
       " Length:851         Mode :logical   Length:851        \n",
       " Class :character   FALSE:816       Class :character  \n",
       " Mode  :character   TRUE :35        Mode  :character  \n",
       "                                                      \n",
       "                                                      \n",
       "                                                      \n",
       "                                                      \n",
       "   EnrollDate                  MarketingFlightNbr MarketingAirlineCode\n",
       " Min.   :2007-07-17 00:00:00   Length:851         Length:851          \n",
       " 1st Qu.:2008-04-08 16:28:58   Class :character   Class :character    \n",
       " Median :2012-05-31 12:07:27   Mode  :character   Mode  :character    \n",
       " Mean   :2011-06-13 19:26:56                                          \n",
       " 3rd Qu.:2013-08-22 14:16:03                                          \n",
       " Max.   :2014-12-23 08:26:22                                          \n",
       "                                                                      \n",
       " StopoverCode          trip_max     Airport_Seqence   \n",
       " Length:851         Min.   :1.000   Length:851        \n",
       " Class :character   1st Qu.:1.000   Class :character  \n",
       " Mode  :character   Median :2.000   Mode  :character  \n",
       "                    Mean   :1.733                     \n",
       "                    3rd Qu.:2.000                     \n",
       "                    Max.   :4.000                     \n",
       "                                                      "
      ]
     },
     "metadata": {},
     "output_type": "display_data"
    }
   ],
   "source": [
    "summary(uflymembers_only)"
   ]
  },
  {
   "cell_type": "code",
   "execution_count": null,
   "metadata": {},
   "outputs": [],
   "source": [
    "## Group by year >= 2016, get max price, min price, average price\n",
    "## number of flights\n",
    "## number of passengers\n",
    "## de-dupe on encrypted name + gender"
   ]
  },
  {
   "cell_type": "code",
   "execution_count": null,
   "metadata": {},
   "outputs": [],
   "source": []
  },
  {
   "cell_type": "code",
   "execution_count": null,
   "metadata": {},
   "outputs": [],
   "source": []
  },
  {
   "cell_type": "code",
   "execution_count": null,
   "metadata": {},
   "outputs": [],
   "source": []
  },
  {
   "cell_type": "code",
   "execution_count": null,
   "metadata": {},
   "outputs": [],
   "source": []
  },
  {
   "cell_type": "code",
   "execution_count": null,
   "metadata": {},
   "outputs": [],
   "source": []
  },
  {
   "cell_type": "code",
   "execution_count": null,
   "metadata": {},
   "outputs": [],
   "source": []
  },
  {
   "cell_type": "code",
   "execution_count": null,
   "metadata": {},
   "outputs": [],
   "source": []
  }
 ],
 "metadata": {
  "kernelspec": {
   "display_name": "R",
   "language": "R",
   "name": "ir"
  },
  "language_info": {
   "codemirror_mode": "r",
   "file_extension": ".r",
   "mimetype": "text/x-r-source",
   "name": "R",
   "pygments_lexer": "r",
   "version": "3.6.1"
  }
 },
 "nbformat": 4,
 "nbformat_minor": 2
}
