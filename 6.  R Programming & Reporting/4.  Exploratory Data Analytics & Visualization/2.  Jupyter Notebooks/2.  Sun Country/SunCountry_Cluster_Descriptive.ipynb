{
 "cells": [
  {
   "cell_type": "code",
   "execution_count": 1,
   "metadata": {},
   "outputs": [
    {
     "data": {
      "text/html": [
       "<style>.container { width:100% !important; }</style>"
      ],
      "text/plain": [
       "<IPython.core.display.HTML object>"
      ]
     },
     "metadata": {},
     "output_type": "display_data"
    }
   ],
   "source": [
    "## Provide a wider display for easier viewing\n",
    "from IPython.core.display import display, HTML\n",
    "display(HTML(\"<style>.container { width:100% !important; }</style>\"))"
   ]
  },
  {
   "cell_type": "code",
   "execution_count": 1,
   "metadata": {},
   "outputs": [],
   "source": [
    "# change plot size\n",
    "library(repr)\n",
    "options(repr.plot.width=8, repr.plot.height=6)"
   ]
  },
  {
   "cell_type": "code",
   "execution_count": 4,
   "metadata": {},
   "outputs": [],
   "source": [
    "##  Pull in the packages required to perform our analyis\n",
    "suppressPackageStartupMessages(library(tidyverse))\n",
    "suppressPackageStartupMessages(library(dplyr))\n",
    "suppressPackageStartupMessages(library(ggplot2))\n",
    "suppressPackageStartupMessages(library(sqldf))\n",
    "suppressPackageStartupMessages(library(forcats))"
   ]
  },
  {
   "cell_type": "code",
   "execution_count": 88,
   "metadata": {},
   "outputs": [],
   "source": [
    "## Read in our clustered sample data set - suppressing message to remove unnecessary text\n",
    "\n",
    "\n",
    "suncountry <- suppressMessages(readr::read_csv(file = \"SunCountry_MSPDepartures_20kSample_wCluster.csv\"))"
   ]
  },
  {
   "cell_type": "code",
   "execution_count": 4,
   "metadata": {},
   "outputs": [
    {
     "data": {
      "text/html": [
       "<table>\n",
       "<thead><tr><th scope=col>id</th><th scope=col>ServiceStartCity</th><th scope=col>ServiceEndCity</th><th scope=col>GenderCode</th><th scope=col>BookingChannel</th><th scope=col>TimeGap</th><th scope=col>TripMonth</th><th scope=col>Age</th><th scope=col>UflyMember</th><th scope=col>CardHolderFlag</th><th scope=col>cluster</th></tr></thead>\n",
       "<tbody>\n",
       "\t<tr><td>1                  </td><td>MSP                </td><td>SAN                </td><td>F                  </td><td>Outside Booking    </td><td> 27                </td><td>December           </td><td>21                 </td><td>0                  </td><td>0                  </td><td>1                  </td></tr>\n",
       "\t<tr><td>2                  </td><td>MSP                </td><td>DFW                </td><td>M                  </td><td>SCA Website Booking</td><td> 20                </td><td>October            </td><td>45                 </td><td>1                  </td><td>0                  </td><td>2                  </td></tr>\n",
       "\t<tr><td>3                  </td><td>MSP                </td><td>SEA                </td><td>F                  </td><td>Outside Booking    </td><td> 63                </td><td>December           </td><td>63                 </td><td>0                  </td><td>0                  </td><td>3                  </td></tr>\n",
       "\t<tr><td>4                  </td><td>MSP                </td><td>SEA                </td><td>F                  </td><td>SCA Website Booking</td><td> 63                </td><td>August             </td><td>39                 </td><td>0                  </td><td>0                  </td><td>4                  </td></tr>\n",
       "\t<tr><td>5                  </td><td>MSP                </td><td>ANC                </td><td>F                  </td><td>Outside Booking    </td><td>137                </td><td>July               </td><td>25                 </td><td>0                  </td><td>0                  </td><td>3                  </td></tr>\n",
       "\t<tr><td>6                  </td><td>MSP                </td><td>CUN                </td><td>M                  </td><td>Outside Booking    </td><td> 24                </td><td>December           </td><td>21                 </td><td>0                  </td><td>0                  </td><td>1                  </td></tr>\n",
       "</tbody>\n",
       "</table>\n"
      ],
      "text/latex": [
       "\\begin{tabular}{r|lllllllllll}\n",
       " id & ServiceStartCity & ServiceEndCity & GenderCode & BookingChannel & TimeGap & TripMonth & Age & UflyMember & CardHolderFlag & cluster\\\\\n",
       "\\hline\n",
       "\t 1                   & MSP                 & SAN                 & F                   & Outside Booking     &  27                 & December            & 21                  & 0                   & 0                   & 1                  \\\\\n",
       "\t 2                   & MSP                 & DFW                 & M                   & SCA Website Booking &  20                 & October             & 45                  & 1                   & 0                   & 2                  \\\\\n",
       "\t 3                   & MSP                 & SEA                 & F                   & Outside Booking     &  63                 & December            & 63                  & 0                   & 0                   & 3                  \\\\\n",
       "\t 4                   & MSP                 & SEA                 & F                   & SCA Website Booking &  63                 & August              & 39                  & 0                   & 0                   & 4                  \\\\\n",
       "\t 5                   & MSP                 & ANC                 & F                   & Outside Booking     & 137                 & July                & 25                  & 0                   & 0                   & 3                  \\\\\n",
       "\t 6                   & MSP                 & CUN                 & M                   & Outside Booking     &  24                 & December            & 21                  & 0                   & 0                   & 1                  \\\\\n",
       "\\end{tabular}\n"
      ],
      "text/markdown": [
       "\n",
       "| id | ServiceStartCity | ServiceEndCity | GenderCode | BookingChannel | TimeGap | TripMonth | Age | UflyMember | CardHolderFlag | cluster |\n",
       "|---|---|---|---|---|---|---|---|---|---|---|\n",
       "| 1                   | MSP                 | SAN                 | F                   | Outside Booking     |  27                 | December            | 21                  | 0                   | 0                   | 1                   |\n",
       "| 2                   | MSP                 | DFW                 | M                   | SCA Website Booking |  20                 | October             | 45                  | 1                   | 0                   | 2                   |\n",
       "| 3                   | MSP                 | SEA                 | F                   | Outside Booking     |  63                 | December            | 63                  | 0                   | 0                   | 3                   |\n",
       "| 4                   | MSP                 | SEA                 | F                   | SCA Website Booking |  63                 | August              | 39                  | 0                   | 0                   | 4                   |\n",
       "| 5                   | MSP                 | ANC                 | F                   | Outside Booking     | 137                 | July                | 25                  | 0                   | 0                   | 3                   |\n",
       "| 6                   | MSP                 | CUN                 | M                   | Outside Booking     |  24                 | December            | 21                  | 0                   | 0                   | 1                   |\n",
       "\n"
      ],
      "text/plain": [
       "  id ServiceStartCity ServiceEndCity GenderCode BookingChannel      TimeGap\n",
       "1 1  MSP              SAN            F          Outside Booking      27    \n",
       "2 2  MSP              DFW            M          SCA Website Booking  20    \n",
       "3 3  MSP              SEA            F          Outside Booking      63    \n",
       "4 4  MSP              SEA            F          SCA Website Booking  63    \n",
       "5 5  MSP              ANC            F          Outside Booking     137    \n",
       "6 6  MSP              CUN            M          Outside Booking      24    \n",
       "  TripMonth Age UflyMember CardHolderFlag cluster\n",
       "1 December  21  0          0              1      \n",
       "2 October   45  1          0              2      \n",
       "3 December  63  0          0              3      \n",
       "4 August    39  0          0              4      \n",
       "5 July      25  0          0              3      \n",
       "6 December  21  0          0              1      "
      ]
     },
     "metadata": {},
     "output_type": "display_data"
    }
   ],
   "source": [
    "## View the first few rows to see the structure of the data\n",
    "\n",
    "head(suncountry)"
   ]
  },
  {
   "cell_type": "code",
   "execution_count": 5,
   "metadata": {},
   "outputs": [
    {
     "data": {
      "text/plain": [
       "       id        ServiceStartCity   ServiceEndCity      GenderCode       \n",
       " Min.   :    1   Length:20000       Length:20000       Length:20000      \n",
       " 1st Qu.: 5001   Class :character   Class :character   Class :character  \n",
       " Median :10000   Mode  :character   Mode  :character   Mode  :character  \n",
       " Mean   :10000                                                           \n",
       " 3rd Qu.:15000                                                           \n",
       " Max.   :20000                                                           \n",
       " BookingChannel        TimeGap        TripMonth              Age        \n",
       " Length:20000       Min.   :  0.00   Length:20000       Min.   :  0.00  \n",
       " Class :character   1st Qu.: 20.00   Class :character   1st Qu.: 26.00  \n",
       " Mode  :character   Median : 46.00   Mode  :character   Median : 42.00  \n",
       "                    Mean   : 63.35                      Mean   : 40.71  \n",
       "                    3rd Qu.: 89.00                      3rd Qu.: 55.00  \n",
       "                    Max.   :650.00                      Max.   :114.00  \n",
       "   UflyMember     CardHolderFlag      cluster     \n",
       " Min.   :0.0000   Min.   :0.0000   Min.   :1.000  \n",
       " 1st Qu.:0.0000   1st Qu.:0.0000   1st Qu.:2.000  \n",
       " Median :0.0000   Median :0.0000   Median :3.000  \n",
       " Mean   :0.2297   Mean   :0.0115   Mean   :3.421  \n",
       " 3rd Qu.:0.0000   3rd Qu.:0.0000   3rd Qu.:5.000  \n",
       " Max.   :1.0000   Max.   :1.0000   Max.   :6.000  "
      ]
     },
     "metadata": {},
     "output_type": "display_data"
    }
   ],
   "source": [
    "## View some summary statistics of the clustered dataset\n",
    "\n",
    "summary(suncountry)"
   ]
  },
  {
   "cell_type": "code",
   "execution_count": 6,
   "metadata": {},
   "outputs": [
    {
     "data": {
      "text/plain": [
       "\n",
       "  MSP \n",
       "20000 "
      ]
     },
     "metadata": {},
     "output_type": "display_data"
    },
    {
     "data": {
      "text/plain": [
       "\n",
       " ANC  BOS  CUN  CZM  DCA  DFW  GRB  HRL  HUX  IFP  JFK  LAN  LAS  LAX  LIR  MBJ \n",
       " 249 1121 1048  112  614  706    3  386   35   10 1414  303 2550 1347   68  132 \n",
       " MCO  MDW  MIA  MZT  PHX  PNS  PSP  PUJ  PVR  RSW  SAN  SEA  SFO  SJD  SJU  STT \n",
       "1939  556  217   81  871    3  526  209  368 1293  642 1164 1308  138   58   78 \n",
       " SXM  TPA  ZIH \n",
       "  72  283   96 "
      ]
     },
     "metadata": {},
     "output_type": "display_data"
    },
    {
     "data": {
      "text/plain": [
       "\n",
       "    April    August  December  February   January      July      June     March \n",
       "     1466      1468      2039      2074      1632      1596      1493      2726 \n",
       "      May  November   October September \n",
       "     1416      1398      1631      1061 "
      ]
     },
     "metadata": {},
     "output_type": "display_data"
    },
    {
     "data": {
      "text/plain": [
       "\n",
       "    F     M     U \n",
       "10479  9520     1 "
      ]
     },
     "metadata": {},
     "output_type": "display_data"
    },
    {
     "data": {
      "text/plain": [
       "\n",
       "    0     1 \n",
       "15406  4594 "
      ]
     },
     "metadata": {},
     "output_type": "display_data"
    },
    {
     "data": {
      "text/plain": [
       "\n",
       "    0     1 \n",
       "19770   230 "
      ]
     },
     "metadata": {},
     "output_type": "display_data"
    },
    {
     "data": {
      "text/plain": [
       "\n",
       "   1    2    3    4    5    6 \n",
       "4001 1905 4212 3800 3720 2362 "
      ]
     },
     "metadata": {},
     "output_type": "display_data"
    }
   ],
   "source": [
    "## Generate some quick tables to view categorical variables and their distributions\n",
    "\n",
    "table(suncountry$ServiceStartCity)\n",
    "table(suncountry$ServiceEndCity)\n",
    "\n",
    "table(suncountry$TripMonth)\n",
    "\n",
    "table(suncountry$GenderCode)\n",
    "\n",
    "table(suncountry$UflyMember)\n",
    "\n",
    "table(suncountry$CardHolderFlag)\n",
    "\n",
    "table(suncountry$cluster)"
   ]
  },
  {
   "cell_type": "markdown",
   "metadata": {},
   "source": [
    "For our sample subset of data (20000 rows), here's what we observe:\n",
    "\n",
    "1.  All trips start from MSP (no real surprise here)\n",
    "2.  A pretty wide spread of final destinations, we'll do some counts by cluster to see where these groups are flying\n",
    "3.  About an even split between Female and Male passengers, the one U we will remove for the visualization\n",
    "4.  Trips are pretty evenly split across the months, but let's see if we can focus on certain times of year\n",
    "5.  Vast majority are NOT UFly Members, and not credit card holders\n",
    "6.  Pretty evenly split amongst the different clusters"
   ]
  },
  {
   "cell_type": "code",
   "execution_count": 43,
   "metadata": {},
   "outputs": [],
   "source": [
    "## Let's look at some basic plots for each customer segment"
   ]
  },
  {
   "cell_type": "code",
   "execution_count": 30,
   "metadata": {},
   "outputs": [],
   "source": [
    "## Taking one extra step here to filter out the one row with U for the Gender Analysis\n",
    "suncountry <- suncountry %>% filter(GenderCode != 'U')\n",
    "\n",
    "## Set cluster as the customer segment and also make it at factor\n",
    "\n",
    "suncountry$cluster <- as.factor(suncountry$cluster)"
   ]
  },
  {
   "cell_type": "code",
   "execution_count": 8,
   "metadata": {},
   "outputs": [
    {
     "data": {
      "text/plain": [
       "\n",
       "    F     M \n",
       "10479  9520 "
      ]
     },
     "metadata": {},
     "output_type": "display_data"
    }
   ],
   "source": [
    "table(suncountry$GenderCode)"
   ]
  },
  {
   "cell_type": "code",
   "execution_count": 76,
   "metadata": {},
   "outputs": [
    {
     "data": {
      "image/png": "[encoded data removed]",
      "text/plain": [
       "plot without title"
      ]
     },
     "metadata": {},
     "output_type": "display_data"
    }
   ],
   "source": [
    "## Distributions for Age based on the customer segment - we see a lot of outliers\n",
    "\n",
    "ggplot(suncountry, aes(x = cluster, y = Age)) +\n",
    "        geom_boxplot(outlier.colour=\"red\", outlier.size=2) + facet_grid(. ~ GenderCode) +\n",
    "        labs(x=\"Customer Segment\", title = \"Distribution of Age & Gender for Customer Segments\")"
   ]
  },
  {
   "cell_type": "code",
   "execution_count": 66,
   "metadata": {},
   "outputs": [
    {
     "name": "stderr",
     "output_type": "stream",
     "text": [
      "Selecting by id\n"
     ]
    }
   ],
   "source": [
    "## Distributions of Final Destinations for Each Customer Segment\n",
    "\n",
    "customer_segment_final_destination <- suncountry %>% \n",
    "        \n",
    "        ## Group by the cluster and end city\n",
    "        group_by(cluster, ServiceEndCity) %>%\n",
    "        ## Count the number of times each end city appears\n",
    "        summarise(id = n()) %>%\n",
    "        ## Grab the top 10 final destinations for each to make for easier plotting\n",
    "        top_n(10)\n",
    "\n",
    "## Now we pivot the table a bit so that we organize by the final destinations for each segment - we'll use this in the next plot\n",
    "final_dest_total_trips <- customer_segment_final_destination %>% \n",
    "        group_by(ServiceEndCity, cluster) %>%\n",
    "        summarise(total_trips = sum(id))"
   ]
  },
  {
   "cell_type": "code",
   "execution_count": 71,
   "metadata": {},
   "outputs": [],
   "source": [
    "## Generate a table showing the grand total for each final desination\n",
    "\n",
    "sorted_table <- final_dest_total_trips %>%\n",
    "        group_by(ServiceEndCity) %>%\n",
    "        summarise(grand_total = sum(total_trips)) %>%\n",
    "        arrange(desc(grand_total))\n",
    "\n",
    "\n",
    "levels = sorted_table$ServiceEndCity\n",
    "\n",
    "## Re-arranging the sort order for our final destionation to help generate a more understandable graphic\n",
    "final_dest_total_trips$ServiceEndCity <- factor(final_dest_total_trips$ServiceEndCity, levels = levels)"
   ]
  },
  {
   "cell_type": "code",
   "execution_count": 75,
   "metadata": {},
   "outputs": [
    {
     "data": {
      "image/png": "[encoded data removed]",
      "text/plain": [
       "plot without title"
      ]
     },
     "metadata": {},
     "output_type": "display_data"
    }
   ],
   "source": [
    "ggplot(final_dest_total_trips) +\n",
    "        aes(x = ServiceEndCity, fill = cluster, weight = total_trips) +\n",
    "        geom_bar() +\n",
    "        scale_fill_hue() +\n",
    "        labs(x = \"Airport Code\", y = \"Number of Trips\", title = \"Final Destinations for Customer Segments\", fill = \"Customer Segment\")"
   ]
  },
  {
   "cell_type": "code",
   "execution_count": 143,
   "metadata": {},
   "outputs": [
    {
     "data": {
      "text/html": [
       "<table>\n",
       "<thead><tr><th scope=col>BookingChannel</th><th scope=col>cluster</th><th scope=col>booking_count</th></tr></thead>\n",
       "<tbody>\n",
       "\t<tr><td>Outside Booking    </td><td>3                  </td><td>3356               </td></tr>\n",
       "\t<tr><td>Outside Booking    </td><td>1                  </td><td>3239               </td></tr>\n",
       "\t<tr><td>SCA Website Booking</td><td>4                  </td><td>2841               </td></tr>\n",
       "\t<tr><td>SCA Website Booking</td><td>5                  </td><td>2587               </td></tr>\n",
       "\t<tr><td>SCA Website Booking</td><td>6                  </td><td>1836               </td></tr>\n",
       "\t<tr><td>SCA Website Booking</td><td>2                  </td><td>1337               </td></tr>\n",
       "</tbody>\n",
       "</table>\n"
      ],
      "text/latex": [
       "\\begin{tabular}{r|lll}\n",
       " BookingChannel & cluster & booking\\_count\\\\\n",
       "\\hline\n",
       "\t Outside Booking     & 3                   & 3356               \\\\\n",
       "\t Outside Booking     & 1                   & 3239               \\\\\n",
       "\t SCA Website Booking & 4                   & 2841               \\\\\n",
       "\t SCA Website Booking & 5                   & 2587               \\\\\n",
       "\t SCA Website Booking & 6                   & 1836               \\\\\n",
       "\t SCA Website Booking & 2                   & 1337               \\\\\n",
       "\\end{tabular}\n"
      ],
      "text/markdown": [
       "\n",
       "| BookingChannel | cluster | booking_count |\n",
       "|---|---|---|\n",
       "| Outside Booking     | 3                   | 3356                |\n",
       "| Outside Booking     | 1                   | 3239                |\n",
       "| SCA Website Booking | 4                   | 2841                |\n",
       "| SCA Website Booking | 5                   | 2587                |\n",
       "| SCA Website Booking | 6                   | 1836                |\n",
       "| SCA Website Booking | 2                   | 1337                |\n",
       "\n"
      ],
      "text/plain": [
       "  BookingChannel      cluster booking_count\n",
       "1 Outside Booking     3       3356         \n",
       "2 Outside Booking     1       3239         \n",
       "3 SCA Website Booking 4       2841         \n",
       "4 SCA Website Booking 5       2587         \n",
       "5 SCA Website Booking 6       1836         \n",
       "6 SCA Website Booking 2       1337         "
      ]
     },
     "metadata": {},
     "output_type": "display_data"
    }
   ],
   "source": [
    "## Visualize how these flights were booked\n",
    "\n",
    "## Group by booking channel and cluster\n",
    "\n",
    "customer_segments_booking_channel <-\n",
    "        suncountry %>%\n",
    "                group_by(BookingChannel, cluster) %>%\n",
    "                summarise(booking_count = n()) %>%\n",
    "                arrange(desc(booking_count))\n",
    "\n",
    "## Observe the first few rows\n",
    "head(customer_segments_booking_channel)"
   ]
  },
  {
   "cell_type": "code",
   "execution_count": 145,
   "metadata": {},
   "outputs": [],
   "source": [
    "sorted_booking_channel <- customer_segments_booking_channel %>%\n",
    "        group_by(BookingChannel) %>%\n",
    "        summarise(grand_total = sum(booking_count)) %>%\n",
    "        arrange((grand_total))\n",
    "\n",
    "levels = sorted_booking_channel$BookingChannel\n",
    "\n",
    "## Re-arranging the sort order for our final destionation to help generate a more understandable graphic\n",
    "customer_segments_booking_channel$BookingChannel <- factor(customer_segments_booking_channel$BookingChannel, levels = levels)"
   ]
  },
  {
   "cell_type": "code",
   "execution_count": 153,
   "metadata": {},
   "outputs": [
    {
     "data": {
      "image/png": "[encoded data removed]",
      "text/plain": [
       "plot without title"
      ]
     },
     "metadata": {},
     "output_type": "display_data"
    }
   ],
   "source": [
    "## Interesting observation - we see that customer segments 1 and 3 predominately used outside booking channels\n",
    "## Customer Segments 4 & 5 used the Sun Country website\n",
    "\n",
    "ggplot(customer_segments_booking_channel) +\n",
    "        aes(x = BookingChannel, weight = booking_count) +\n",
    "        geom_bar() +\n",
    "        scale_fill_hue() +\n",
    "        coord_flip() +\n",
    "        labs(x = \"Booking Site\", y = \"Count of Bookings\", title = \"Booking Channels Used By Customer Segments\", fill = \"Customer Segment\") +\n",
    "        facet_wrap(cluster ~ .)"
   ]
  },
  {
   "cell_type": "code",
   "execution_count": null,
   "metadata": {},
   "outputs": [],
   "source": []
  },
  {
   "cell_type": "code",
   "execution_count": null,
   "metadata": {},
   "outputs": [],
   "source": [
    "## Next step - UFlyMembership & CardHolders"
   ]
  },
  {
   "cell_type": "code",
   "execution_count": 5,
   "metadata": {},
   "outputs": [],
   "source": [
    "customer_segment_ufly_cardholders <-\n",
    "\n",
    "suncountry %>%\n",
    "        group_by(UflyMember, CardHolderFlag, cluster) %>%\n",
    "        summarise(grp_count = n()) %>%\n",
    "        arrange(desc(grp_count))"
   ]
  },
  {
   "cell_type": "code",
   "execution_count": 9,
   "metadata": {},
   "outputs": [],
   "source": [
    "## Convert UFlyMember column to factor variable\n",
    "customer_segment_ufly_cardholders$UflyMember <- as.factor(customer_segment_ufly_cardholders$UflyMember)\n",
    "\n",
    "customer_segment_ufly_cardholders$CardHolderFlag <- as.factor(customer_segment_ufly_cardholders$CardHolderFlag)\n",
    "\n",
    "customer_segment_ufly_cardholders <-\n",
    "        customer_segment_ufly_cardholders %>%\n",
    "                mutate(UflyMember_Factor = fct_recode(UflyMember,\n",
    "                        \"UFly Members\" = \"1\",\n",
    "                        \"Potential UFly Members\" = \"0\")) %>%\n",
    "                mutate(CardHolder_Factor = fct_recode(CardHolderFlag,\n",
    "                        \"Credit Card Holders\" = \"1\",\n",
    "                        \"Potential CC Customers\" = \"0\"))"
   ]
  },
  {
   "cell_type": "code",
   "execution_count": 17,
   "metadata": {},
   "outputs": [
    {
     "data": {
      "image/png": "[encoded data removed]",
      "text/plain": [
       "plot without title"
      ]
     },
     "metadata": {},
     "output_type": "display_data"
    }
   ],
   "source": [
    "## Not very informative\n",
    "\n",
    "ggplot(customer_segment_ufly_cardholders) +\n",
    " aes(x = CardHolder_Factor, weight = grp_count) +\n",
    " geom_bar() +\n",
    " labs(x = \"\", title = \"Credit Card Holders by Customer Segment\", caption = \"We see very low usage of our credit card\") +\n",
    " coord_flip() +\n",
    " facet_wrap(vars(cluster))"
   ]
  },
  {
   "cell_type": "code",
   "execution_count": 24,
   "metadata": {},
   "outputs": [
    {
     "data": {
      "image/png": "[encoded data removed]",
      "text/plain": [
       "plot without title"
      ]
     },
     "metadata": {},
     "output_type": "display_data"
    }
   ],
   "source": [
    "ggplot(customer_segment_ufly_cardholders) +\n",
    " aes(x = UflyMember_Factor, weight = grp_count) +\n",
    " geom_bar() +\n",
    " labs(x = \"\", title = \"UFly Members by Customer Segment\", y = \"Number of Bookings\", caption = \"Demonstrating the potential membership conversion\") +\n",
    " theme_gray() +\n",
    " facet_wrap(vars(cluster))"
   ]
  },
  {
   "cell_type": "code",
   "execution_count": null,
   "metadata": {},
   "outputs": [],
   "source": [
    "#1 & 3 - avoid\n",
    "\n",
    "#4 & 5 - what is their demographic info?"
   ]
  },
  {
   "cell_type": "code",
   "execution_count": 5,
   "metadata": {},
   "outputs": [],
   "source": [
    "## So we noticed some interesting things based on the descriptive analysis of our clusters\n",
    "## 4 & 5 predominately booked through the Sun Country site, but barely have any UFly Membership... Maybe we can target them?\n",
    "## Let's see this separate groups by themselves\n",
    "## And look at what trips they are taking, their demographic splits, and age\n",
    "\n",
    "cluster_group_subset <-\n",
    "        suncountry %>%\n",
    "                filter(cluster == 4 | cluster == 5)"
   ]
  },
  {
   "cell_type": "code",
   "execution_count": 6,
   "metadata": {},
   "outputs": [],
   "source": [
    "## Grouping by cluster, Gender, ServiceCity, Age\n",
    "\n",
    "desired_cluster_by_gender_city_age <-\n",
    "            cluster_group_subset %>%\n",
    "                    group_by(cluster, GenderCode, ServiceEndCity, Age) %>%\n",
    "                    summarise(trip_count = n()) %>%\n",
    "                    arrange(desc(trip_count))"
   ]
  },
  {
   "cell_type": "code",
   "execution_count": 7,
   "metadata": {},
   "outputs": [
    {
     "data": {
      "text/html": [
       "<table>\n",
       "<thead><tr><th scope=col>cluster</th><th scope=col>GenderCode</th><th scope=col>ServiceEndCity</th><th scope=col>Age</th><th scope=col>trip_count</th></tr></thead>\n",
       "<tbody>\n",
       "\t<tr><td>5  </td><td>M  </td><td>LAS</td><td>50 </td><td>24 </td></tr>\n",
       "\t<tr><td>5  </td><td>M  </td><td>LAS</td><td>54 </td><td>24 </td></tr>\n",
       "\t<tr><td>4  </td><td>F  </td><td>MCO</td><td>37 </td><td>21 </td></tr>\n",
       "\t<tr><td>5  </td><td>M  </td><td>LAS</td><td>43 </td><td>21 </td></tr>\n",
       "\t<tr><td>5  </td><td>M  </td><td>LAS</td><td>44 </td><td>21 </td></tr>\n",
       "\t<tr><td>5  </td><td>M  </td><td>LAS</td><td>48 </td><td>21 </td></tr>\n",
       "\t<tr><td>5  </td><td>M  </td><td>LAS</td><td>53 </td><td>20 </td></tr>\n",
       "\t<tr><td>4  </td><td>F  </td><td>MCO</td><td>18 </td><td>19 </td></tr>\n",
       "\t<tr><td>5  </td><td>M  </td><td>LAS</td><td>51 </td><td>18 </td></tr>\n",
       "\t<tr><td>5  </td><td>M  </td><td>LAS</td><td>56 </td><td>18 </td></tr>\n",
       "\t<tr><td>4  </td><td>F  </td><td>MCO</td><td> 9 </td><td>17 </td></tr>\n",
       "\t<tr><td>4  </td><td>F  </td><td>MCO</td><td>16 </td><td>17 </td></tr>\n",
       "\t<tr><td>4  </td><td>F  </td><td>MCO</td><td>36 </td><td>17 </td></tr>\n",
       "\t<tr><td>5  </td><td>M  </td><td>LAS</td><td>59 </td><td>17 </td></tr>\n",
       "\t<tr><td>4  </td><td>F  </td><td>MCO</td><td> 8 </td><td>16 </td></tr>\n",
       "\t<tr><td>5  </td><td>M  </td><td>LAS</td><td>45 </td><td>16 </td></tr>\n",
       "\t<tr><td>5  </td><td>M  </td><td>LAS</td><td>47 </td><td>15 </td></tr>\n",
       "\t<tr><td>5  </td><td>M  </td><td>LAS</td><td>61 </td><td>15 </td></tr>\n",
       "\t<tr><td>4  </td><td>F  </td><td>MCO</td><td>17 </td><td>14 </td></tr>\n",
       "\t<tr><td>4  </td><td>F  </td><td>MCO</td><td>28 </td><td>14 </td></tr>\n",
       "</tbody>\n",
       "</table>\n"
      ],
      "text/latex": [
       "\\begin{tabular}{r|lllll}\n",
       " cluster & GenderCode & ServiceEndCity & Age & trip\\_count\\\\\n",
       "\\hline\n",
       "\t 5   & M   & LAS & 50  & 24 \\\\\n",
       "\t 5   & M   & LAS & 54  & 24 \\\\\n",
       "\t 4   & F   & MCO & 37  & 21 \\\\\n",
       "\t 5   & M   & LAS & 43  & 21 \\\\\n",
       "\t 5   & M   & LAS & 44  & 21 \\\\\n",
       "\t 5   & M   & LAS & 48  & 21 \\\\\n",
       "\t 5   & M   & LAS & 53  & 20 \\\\\n",
       "\t 4   & F   & MCO & 18  & 19 \\\\\n",
       "\t 5   & M   & LAS & 51  & 18 \\\\\n",
       "\t 5   & M   & LAS & 56  & 18 \\\\\n",
       "\t 4   & F   & MCO &  9  & 17 \\\\\n",
       "\t 4   & F   & MCO & 16  & 17 \\\\\n",
       "\t 4   & F   & MCO & 36  & 17 \\\\\n",
       "\t 5   & M   & LAS & 59  & 17 \\\\\n",
       "\t 4   & F   & MCO &  8  & 16 \\\\\n",
       "\t 5   & M   & LAS & 45  & 16 \\\\\n",
       "\t 5   & M   & LAS & 47  & 15 \\\\\n",
       "\t 5   & M   & LAS & 61  & 15 \\\\\n",
       "\t 4   & F   & MCO & 17  & 14 \\\\\n",
       "\t 4   & F   & MCO & 28  & 14 \\\\\n",
       "\\end{tabular}\n"
      ],
      "text/markdown": [
       "\n",
       "| cluster | GenderCode | ServiceEndCity | Age | trip_count |\n",
       "|---|---|---|---|---|\n",
       "| 5   | M   | LAS | 50  | 24  |\n",
       "| 5   | M   | LAS | 54  | 24  |\n",
       "| 4   | F   | MCO | 37  | 21  |\n",
       "| 5   | M   | LAS | 43  | 21  |\n",
       "| 5   | M   | LAS | 44  | 21  |\n",
       "| 5   | M   | LAS | 48  | 21  |\n",
       "| 5   | M   | LAS | 53  | 20  |\n",
       "| 4   | F   | MCO | 18  | 19  |\n",
       "| 5   | M   | LAS | 51  | 18  |\n",
       "| 5   | M   | LAS | 56  | 18  |\n",
       "| 4   | F   | MCO |  9  | 17  |\n",
       "| 4   | F   | MCO | 16  | 17  |\n",
       "| 4   | F   | MCO | 36  | 17  |\n",
       "| 5   | M   | LAS | 59  | 17  |\n",
       "| 4   | F   | MCO |  8  | 16  |\n",
       "| 5   | M   | LAS | 45  | 16  |\n",
       "| 5   | M   | LAS | 47  | 15  |\n",
       "| 5   | M   | LAS | 61  | 15  |\n",
       "| 4   | F   | MCO | 17  | 14  |\n",
       "| 4   | F   | MCO | 28  | 14  |\n",
       "\n"
      ],
      "text/plain": [
       "   cluster GenderCode ServiceEndCity Age trip_count\n",
       "1  5       M          LAS            50  24        \n",
       "2  5       M          LAS            54  24        \n",
       "3  4       F          MCO            37  21        \n",
       "4  5       M          LAS            43  21        \n",
       "5  5       M          LAS            44  21        \n",
       "6  5       M          LAS            48  21        \n",
       "7  5       M          LAS            53  20        \n",
       "8  4       F          MCO            18  19        \n",
       "9  5       M          LAS            51  18        \n",
       "10 5       M          LAS            56  18        \n",
       "11 4       F          MCO             9  17        \n",
       "12 4       F          MCO            16  17        \n",
       "13 4       F          MCO            36  17        \n",
       "14 5       M          LAS            59  17        \n",
       "15 4       F          MCO             8  16        \n",
       "16 5       M          LAS            45  16        \n",
       "17 5       M          LAS            47  15        \n",
       "18 5       M          LAS            61  15        \n",
       "19 4       F          MCO            17  14        \n",
       "20 4       F          MCO            28  14        "
      ]
     },
     "metadata": {},
     "output_type": "display_data"
    }
   ],
   "source": [
    "head(desired_cluster_by_gender_city_age, 20)"
   ]
  },
  {
   "cell_type": "code",
   "execution_count": 8,
   "metadata": {},
   "outputs": [],
   "source": [
    "## Now group by the other two clusters identified - the ones that did not use our booking site\n",
    "\n",
    "target_cluster_group_subset_outside_channels <-\n",
    "        suncountry %>%\n",
    "                filter(cluster == 1 | cluster == 3)\n",
    "\n",
    "## Where are they heading?\n",
    "\n",
    "target_cluster_group_subset_outside_channels <- \n",
    "        target_cluster_group_subset_outside_channels %>%\n",
    "                group_by(cluster, GenderCode, ServiceEndCity, Age) %>%\n",
    "                            summarise(trip_count = n()) %>%\n",
    "                            arrange(desc(trip_count))"
   ]
  },
  {
   "cell_type": "code",
   "execution_count": 9,
   "metadata": {},
   "outputs": [
    {
     "data": {
      "text/html": [
       "<table>\n",
       "<thead><tr><th scope=col>cluster</th><th scope=col>GenderCode</th><th scope=col>ServiceEndCity</th><th scope=col>Age</th><th scope=col>trip_count</th></tr></thead>\n",
       "<tbody>\n",
       "\t<tr><td>3  </td><td>F  </td><td>LAS</td><td>27 </td><td>32 </td></tr>\n",
       "\t<tr><td>3  </td><td>F  </td><td>LAS</td><td>32 </td><td>29 </td></tr>\n",
       "\t<tr><td>3  </td><td>F  </td><td>LAS</td><td>29 </td><td>25 </td></tr>\n",
       "\t<tr><td>3  </td><td>F  </td><td>LAS</td><td>41 </td><td>25 </td></tr>\n",
       "\t<tr><td>1  </td><td>M  </td><td>MCO</td><td> 5 </td><td>24 </td></tr>\n",
       "\t<tr><td>3  </td><td>F  </td><td>LAS</td><td>28 </td><td>24 </td></tr>\n",
       "\t<tr><td>3  </td><td>F  </td><td>LAS</td><td>39 </td><td>24 </td></tr>\n",
       "\t<tr><td>3  </td><td>F  </td><td>LAS</td><td>25 </td><td>22 </td></tr>\n",
       "\t<tr><td>1  </td><td>M  </td><td>LAS</td><td>33 </td><td>21 </td></tr>\n",
       "\t<tr><td>3  </td><td>F  </td><td>LAS</td><td>24 </td><td>21 </td></tr>\n",
       "\t<tr><td>3  </td><td>F  </td><td>LAS</td><td>40 </td><td>21 </td></tr>\n",
       "\t<tr><td>3  </td><td>F  </td><td>LAS</td><td>52 </td><td>21 </td></tr>\n",
       "\t<tr><td>1  </td><td>M  </td><td>MCO</td><td> 8 </td><td>20 </td></tr>\n",
       "\t<tr><td>3  </td><td>F  </td><td>LAS</td><td>47 </td><td>20 </td></tr>\n",
       "\t<tr><td>3  </td><td>F  </td><td>LAS</td><td>49 </td><td>20 </td></tr>\n",
       "\t<tr><td>1  </td><td>M  </td><td>JFK</td><td>33 </td><td>19 </td></tr>\n",
       "\t<tr><td>3  </td><td>F  </td><td>LAS</td><td>22 </td><td>19 </td></tr>\n",
       "\t<tr><td>3  </td><td>F  </td><td>LAS</td><td>51 </td><td>19 </td></tr>\n",
       "\t<tr><td>1  </td><td>M  </td><td>MCO</td><td> 9 </td><td>18 </td></tr>\n",
       "\t<tr><td>3  </td><td>F  </td><td>LAS</td><td>26 </td><td>18 </td></tr>\n",
       "</tbody>\n",
       "</table>\n"
      ],
      "text/latex": [
       "\\begin{tabular}{r|lllll}\n",
       " cluster & GenderCode & ServiceEndCity & Age & trip\\_count\\\\\n",
       "\\hline\n",
       "\t 3   & F   & LAS & 27  & 32 \\\\\n",
       "\t 3   & F   & LAS & 32  & 29 \\\\\n",
       "\t 3   & F   & LAS & 29  & 25 \\\\\n",
       "\t 3   & F   & LAS & 41  & 25 \\\\\n",
       "\t 1   & M   & MCO &  5  & 24 \\\\\n",
       "\t 3   & F   & LAS & 28  & 24 \\\\\n",
       "\t 3   & F   & LAS & 39  & 24 \\\\\n",
       "\t 3   & F   & LAS & 25  & 22 \\\\\n",
       "\t 1   & M   & LAS & 33  & 21 \\\\\n",
       "\t 3   & F   & LAS & 24  & 21 \\\\\n",
       "\t 3   & F   & LAS & 40  & 21 \\\\\n",
       "\t 3   & F   & LAS & 52  & 21 \\\\\n",
       "\t 1   & M   & MCO &  8  & 20 \\\\\n",
       "\t 3   & F   & LAS & 47  & 20 \\\\\n",
       "\t 3   & F   & LAS & 49  & 20 \\\\\n",
       "\t 1   & M   & JFK & 33  & 19 \\\\\n",
       "\t 3   & F   & LAS & 22  & 19 \\\\\n",
       "\t 3   & F   & LAS & 51  & 19 \\\\\n",
       "\t 1   & M   & MCO &  9  & 18 \\\\\n",
       "\t 3   & F   & LAS & 26  & 18 \\\\\n",
       "\\end{tabular}\n"
      ],
      "text/markdown": [
       "\n",
       "| cluster | GenderCode | ServiceEndCity | Age | trip_count |\n",
       "|---|---|---|---|---|\n",
       "| 3   | F   | LAS | 27  | 32  |\n",
       "| 3   | F   | LAS | 32  | 29  |\n",
       "| 3   | F   | LAS | 29  | 25  |\n",
       "| 3   | F   | LAS | 41  | 25  |\n",
       "| 1   | M   | MCO |  5  | 24  |\n",
       "| 3   | F   | LAS | 28  | 24  |\n",
       "| 3   | F   | LAS | 39  | 24  |\n",
       "| 3   | F   | LAS | 25  | 22  |\n",
       "| 1   | M   | LAS | 33  | 21  |\n",
       "| 3   | F   | LAS | 24  | 21  |\n",
       "| 3   | F   | LAS | 40  | 21  |\n",
       "| 3   | F   | LAS | 52  | 21  |\n",
       "| 1   | M   | MCO |  8  | 20  |\n",
       "| 3   | F   | LAS | 47  | 20  |\n",
       "| 3   | F   | LAS | 49  | 20  |\n",
       "| 1   | M   | JFK | 33  | 19  |\n",
       "| 3   | F   | LAS | 22  | 19  |\n",
       "| 3   | F   | LAS | 51  | 19  |\n",
       "| 1   | M   | MCO |  9  | 18  |\n",
       "| 3   | F   | LAS | 26  | 18  |\n",
       "\n"
      ],
      "text/plain": [
       "   cluster GenderCode ServiceEndCity Age trip_count\n",
       "1  3       F          LAS            27  32        \n",
       "2  3       F          LAS            32  29        \n",
       "3  3       F          LAS            29  25        \n",
       "4  3       F          LAS            41  25        \n",
       "5  1       M          MCO             5  24        \n",
       "6  3       F          LAS            28  24        \n",
       "7  3       F          LAS            39  24        \n",
       "8  3       F          LAS            25  22        \n",
       "9  1       M          LAS            33  21        \n",
       "10 3       F          LAS            24  21        \n",
       "11 3       F          LAS            40  21        \n",
       "12 3       F          LAS            52  21        \n",
       "13 1       M          MCO             8  20        \n",
       "14 3       F          LAS            47  20        \n",
       "15 3       F          LAS            49  20        \n",
       "16 1       M          JFK            33  19        \n",
       "17 3       F          LAS            22  19        \n",
       "18 3       F          LAS            51  19        \n",
       "19 1       M          MCO             9  18        \n",
       "20 3       F          LAS            26  18        "
      ]
     },
     "metadata": {},
     "output_type": "display_data"
    }
   ],
   "source": [
    "head(target_cluster_group_subset_outside_channels, 20)"
   ]
  },
  {
   "cell_type": "code",
   "execution_count": null,
   "metadata": {},
   "outputs": [],
   "source": [
    "## Read in the whole dataset\n",
    "\n",
    "## age, gender, ufly status, location, and travel time of year\n",
    "\n",
    "## Then filter on just these ages, flights, "
   ]
  },
  {
   "cell_type": "code",
   "execution_count": null,
   "metadata": {},
   "outputs": [],
   "source": [
    "## Using this code snippet that Anthony created for creating the clusters so that I can go through the same process"
   ]
  },
  {
   "cell_type": "code",
   "execution_count": null,
   "metadata": {},
   "outputs": [],
   "source": []
  },
  {
   "cell_type": "code",
   "execution_count": 5,
   "metadata": {},
   "outputs": [],
   "source": [
    "## Took about 5 minutes to load the whole dataframe - don't do that again\n",
    "\n",
    "data.dir = \"C:/Users/monca016/Documents/Fall 2019/MSBA 6410 - Exploratory Analytics/HW2/SunCountry.csv\"\n",
    "\n",
    "data = read.csv(data.dir)\n",
    "\n",
    "#parse data------------------------------------------------------------------\n",
    "data = data %>% filter(MarketingAirlineCode == \"SY\") %>% select(TicketNum, PNRLocatorID, CouponSeqNbr, ServiceStartCity,ServiceEndCity, PNRCreateDate, ServiceStartDate, GenderCode,\n",
    "                Age, PostalCode, BkdClassOfService, TrvldClassOfService, BookingChannel, BaseFareAmt, TotalDocAmt, UflyMemberStatus,\n",
    "                CardHolder, BookedProduct, EnrollDate, StopoverCode)"
   ]
  },
  {
   "cell_type": "code",
   "execution_count": 6,
   "metadata": {},
   "outputs": [
    {
     "data": {
      "text/html": [
       "<table>\n",
       "<thead><tr><th scope=col>TicketNum</th><th scope=col>PNRLocatorID</th><th scope=col>CouponSeqNbr</th><th scope=col>ServiceStartCity</th><th scope=col>ServiceEndCity</th><th scope=col>PNRCreateDate</th><th scope=col>ServiceStartDate</th><th scope=col>GenderCode</th><th scope=col>Age</th><th scope=col>PostalCode</th><th scope=col>BkdClassOfService</th><th scope=col>TrvldClassOfService</th><th scope=col>BookingChannel</th><th scope=col>BaseFareAmt</th><th scope=col>TotalDocAmt</th><th scope=col>UflyMemberStatus</th><th scope=col>CardHolder</th><th scope=col>BookedProduct</th><th scope=col>EnrollDate</th><th scope=col>StopoverCode</th></tr></thead>\n",
       "<tbody>\n",
       "\t<tr><td>3.377365e+12        </td><td>AAABJK              </td><td>2                   </td><td>JFK                 </td><td>MSP                 </td><td>2013-11-23          </td><td>2013-12-13          </td><td>F                   </td><td>66                  </td><td>                    </td><td>Coach               </td><td>Coach               </td><td>Outside Booking     </td><td>234.20              </td><td>  0.0               </td><td>                    </td><td>                    </td><td>CHEOPQ              </td><td>                    </td><td>O                   </td></tr>\n",
       "\t<tr><td>3.377365e+12        </td><td>AAABJK              </td><td>1                   </td><td>MSP                 </td><td>JFK                 </td><td>2013-11-23          </td><td>2013-12-08          </td><td>F                   </td><td>66                  </td><td>                    </td><td>Coach               </td><td>First Class         </td><td>Outside Booking     </td><td>234.20              </td><td>  0.0               </td><td>                    </td><td>                    </td><td>CHEOPQ              </td><td>                    </td><td>                    </td></tr>\n",
       "\t<tr><td>3.372107e+12        </td><td>AAABMK              </td><td>2                   </td><td>MSP                 </td><td>SFO                 </td><td>2014-02-04          </td><td>2014-02-23          </td><td>M                   </td><td>37                  </td><td>                    </td><td>Coach               </td><td>Discount First Class</td><td>SCA Website Booking </td><td>293.96              </td><td>338.0               </td><td>                    </td><td>                    </td><td>                    </td><td>                    </td><td>O                   </td></tr>\n",
       "\t<tr><td>3.372107e+12        </td><td>AAABMK              </td><td>1                   </td><td>SFO                 </td><td>MSP                 </td><td>2014-02-04          </td><td>2014-02-20          </td><td>M                   </td><td>37                  </td><td>                    </td><td>Coach               </td><td>Discount First Class</td><td>SCA Website Booking </td><td>293.96              </td><td>338.0               </td><td>                    </td><td>                    </td><td>                    </td><td>                    </td><td>                    </td></tr>\n",
       "\t<tr><td>3.372107e+12        </td><td>AAABTP              </td><td>1                   </td><td>MCO                 </td><td>MSP                 </td><td>2014-03-13          </td><td>2014-04-23          </td><td>F                   </td><td>69                  </td><td>                    </td><td>Coach               </td><td>Coach               </td><td>Reservations Booking</td><td>112.56              </td><td>132.0               </td><td>                    </td><td>                    </td><td>                    </td><td>                    </td><td>                    </td></tr>\n",
       "\t<tr><td>3.372106e+12        </td><td>AAACLY              </td><td>1                   </td><td>PSP                 </td><td>MSP                 </td><td>2012-10-06          </td><td>2013-02-12          </td><td>M                   </td><td>54                  </td><td>                    </td><td>Coach               </td><td>Coach               </td><td>SCA Website Booking </td><td>171.16              </td><td>194.8               </td><td>                    </td><td>                    </td><td>                    </td><td>                    </td><td>                    </td></tr>\n",
       "</tbody>\n",
       "</table>\n"
      ],
      "text/latex": [
       "\\begin{tabular}{r|llllllllllllllllllll}\n",
       " TicketNum & PNRLocatorID & CouponSeqNbr & ServiceStartCity & ServiceEndCity & PNRCreateDate & ServiceStartDate & GenderCode & Age & PostalCode & BkdClassOfService & TrvldClassOfService & BookingChannel & BaseFareAmt & TotalDocAmt & UflyMemberStatus & CardHolder & BookedProduct & EnrollDate & StopoverCode\\\\\n",
       "\\hline\n",
       "\t 3.377365e+12         & AAABJK               & 2                    & JFK                  & MSP                  & 2013-11-23           & 2013-12-13           & F                    & 66                   &                      & Coach                & Coach                & Outside Booking      & 234.20               &   0.0                &                      &                      & CHEOPQ               &                      & O                   \\\\\n",
       "\t 3.377365e+12         & AAABJK               & 1                    & MSP                  & JFK                  & 2013-11-23           & 2013-12-08           & F                    & 66                   &                      & Coach                & First Class          & Outside Booking      & 234.20               &   0.0                &                      &                      & CHEOPQ               &                      &                     \\\\\n",
       "\t 3.372107e+12         & AAABMK               & 2                    & MSP                  & SFO                  & 2014-02-04           & 2014-02-23           & M                    & 37                   &                      & Coach                & Discount First Class & SCA Website Booking  & 293.96               & 338.0                &                      &                      &                      &                      & O                   \\\\\n",
       "\t 3.372107e+12         & AAABMK               & 1                    & SFO                  & MSP                  & 2014-02-04           & 2014-02-20           & M                    & 37                   &                      & Coach                & Discount First Class & SCA Website Booking  & 293.96               & 338.0                &                      &                      &                      &                      &                     \\\\\n",
       "\t 3.372107e+12         & AAABTP               & 1                    & MCO                  & MSP                  & 2014-03-13           & 2014-04-23           & F                    & 69                   &                      & Coach                & Coach                & Reservations Booking & 112.56               & 132.0                &                      &                      &                      &                      &                     \\\\\n",
       "\t 3.372106e+12         & AAACLY               & 1                    & PSP                  & MSP                  & 2012-10-06           & 2013-02-12           & M                    & 54                   &                      & Coach                & Coach                & SCA Website Booking  & 171.16               & 194.8                &                      &                      &                      &                      &                     \\\\\n",
       "\\end{tabular}\n"
      ],
      "text/markdown": [
       "\n",
       "| TicketNum | PNRLocatorID | CouponSeqNbr | ServiceStartCity | ServiceEndCity | PNRCreateDate | ServiceStartDate | GenderCode | Age | PostalCode | BkdClassOfService | TrvldClassOfService | BookingChannel | BaseFareAmt | TotalDocAmt | UflyMemberStatus | CardHolder | BookedProduct | EnrollDate | StopoverCode |\n",
       "|---|---|---|---|---|---|---|---|---|---|---|---|---|---|---|---|---|---|---|---|\n",
       "| 3.377365e+12         | AAABJK               | 2                    | JFK                  | MSP                  | 2013-11-23           | 2013-12-13           | F                    | 66                   |                      | Coach                | Coach                | Outside Booking      | 234.20               |   0.0                |                      |                      | CHEOPQ               |                      | O                    |\n",
       "| 3.377365e+12         | AAABJK               | 1                    | MSP                  | JFK                  | 2013-11-23           | 2013-12-08           | F                    | 66                   |                      | Coach                | First Class          | Outside Booking      | 234.20               |   0.0                |                      |                      | CHEOPQ               |                      |                      |\n",
       "| 3.372107e+12         | AAABMK               | 2                    | MSP                  | SFO                  | 2014-02-04           | 2014-02-23           | M                    | 37                   |                      | Coach                | Discount First Class | SCA Website Booking  | 293.96               | 338.0                |                      |                      |                      |                      | O                    |\n",
       "| 3.372107e+12         | AAABMK               | 1                    | SFO                  | MSP                  | 2014-02-04           | 2014-02-20           | M                    | 37                   |                      | Coach                | Discount First Class | SCA Website Booking  | 293.96               | 338.0                |                      |                      |                      |                      |                      |\n",
       "| 3.372107e+12         | AAABTP               | 1                    | MCO                  | MSP                  | 2014-03-13           | 2014-04-23           | F                    | 69                   |                      | Coach                | Coach                | Reservations Booking | 112.56               | 132.0                |                      |                      |                      |                      |                      |\n",
       "| 3.372106e+12         | AAACLY               | 1                    | PSP                  | MSP                  | 2012-10-06           | 2013-02-12           | M                    | 54                   |                      | Coach                | Coach                | SCA Website Booking  | 171.16               | 194.8                |                      |                      |                      |                      |                      |\n",
       "\n"
      ],
      "text/plain": [
       "  TicketNum    PNRLocatorID CouponSeqNbr ServiceStartCity ServiceEndCity\n",
       "1 3.377365e+12 AAABJK       2            JFK              MSP           \n",
       "2 3.377365e+12 AAABJK       1            MSP              JFK           \n",
       "3 3.372107e+12 AAABMK       2            MSP              SFO           \n",
       "4 3.372107e+12 AAABMK       1            SFO              MSP           \n",
       "5 3.372107e+12 AAABTP       1            MCO              MSP           \n",
       "6 3.372106e+12 AAACLY       1            PSP              MSP           \n",
       "  PNRCreateDate ServiceStartDate GenderCode Age PostalCode BkdClassOfService\n",
       "1 2013-11-23    2013-12-13       F          66             Coach            \n",
       "2 2013-11-23    2013-12-08       F          66             Coach            \n",
       "3 2014-02-04    2014-02-23       M          37             Coach            \n",
       "4 2014-02-04    2014-02-20       M          37             Coach            \n",
       "5 2014-03-13    2014-04-23       F          69             Coach            \n",
       "6 2012-10-06    2013-02-12       M          54             Coach            \n",
       "  TrvldClassOfService  BookingChannel       BaseFareAmt TotalDocAmt\n",
       "1 Coach                Outside Booking      234.20        0.0      \n",
       "2 First Class          Outside Booking      234.20        0.0      \n",
       "3 Discount First Class SCA Website Booking  293.96      338.0      \n",
       "4 Discount First Class SCA Website Booking  293.96      338.0      \n",
       "5 Coach                Reservations Booking 112.56      132.0      \n",
       "6 Coach                SCA Website Booking  171.16      194.8      \n",
       "  UflyMemberStatus CardHolder BookedProduct EnrollDate StopoverCode\n",
       "1                             CHEOPQ                   O           \n",
       "2                             CHEOPQ                               \n",
       "3                                                      O           \n",
       "4                                                                  \n",
       "5                                                                  \n",
       "6                                                                  "
      ]
     },
     "metadata": {},
     "output_type": "display_data"
    }
   ],
   "source": [
    "head(data)"
   ]
  },
  {
   "cell_type": "code",
   "execution_count": 7,
   "metadata": {},
   "outputs": [],
   "source": [
    "#drop NAs\n",
    "data = na.omit(data)"
   ]
  },
  {
   "cell_type": "code",
   "execution_count": 13,
   "metadata": {},
   "outputs": [],
   "source": [
    "#clean date features to date time ---------------\n",
    "data$PNRCreateDate = as.Date(data$PNRCreateDate)\n",
    "data$ServiceStartDate = as.Date(data$ServiceStartDate)"
   ]
  },
  {
   "cell_type": "code",
   "execution_count": 18,
   "metadata": {},
   "outputs": [],
   "source": [
    "## Create trip month to filter on as well\n",
    "data$TripMonth = months.Date(data$ServiceStartDate)"
   ]
  },
  {
   "cell_type": "code",
   "execution_count": 19,
   "metadata": {},
   "outputs": [
    {
     "data": {
      "text/html": [
       "<table>\n",
       "<thead><tr><th scope=col>TicketNum</th><th scope=col>PNRLocatorID</th><th scope=col>CouponSeqNbr</th><th scope=col>ServiceStartCity</th><th scope=col>ServiceEndCity</th><th scope=col>PNRCreateDate</th><th scope=col>ServiceStartDate</th><th scope=col>GenderCode</th><th scope=col>Age</th><th scope=col>PostalCode</th><th scope=col>...</th><th scope=col>TrvldClassOfService</th><th scope=col>BookingChannel</th><th scope=col>BaseFareAmt</th><th scope=col>TotalDocAmt</th><th scope=col>UflyMemberStatus</th><th scope=col>CardHolder</th><th scope=col>BookedProduct</th><th scope=col>EnrollDate</th><th scope=col>StopoverCode</th><th scope=col>TripMonth</th></tr></thead>\n",
       "<tbody>\n",
       "\t<tr><td>3.377365e+12        </td><td>AAABJK              </td><td>2                   </td><td>JFK                 </td><td>MSP                 </td><td>2013-11-23          </td><td>2013-12-13          </td><td>F                   </td><td>66                  </td><td>                    </td><td>...                 </td><td>Coach               </td><td>Outside Booking     </td><td>234.20              </td><td>  0.0               </td><td>                    </td><td>                    </td><td>CHEOPQ              </td><td>                    </td><td>O                   </td><td>December            </td></tr>\n",
       "\t<tr><td>3.377365e+12        </td><td>AAABJK              </td><td>1                   </td><td>MSP                 </td><td>JFK                 </td><td>2013-11-23          </td><td>2013-12-08          </td><td>F                   </td><td>66                  </td><td>                    </td><td>...                 </td><td>First Class         </td><td>Outside Booking     </td><td>234.20              </td><td>  0.0               </td><td>                    </td><td>                    </td><td>CHEOPQ              </td><td>                    </td><td>                    </td><td>December            </td></tr>\n",
       "\t<tr><td>3.372107e+12        </td><td>AAABMK              </td><td>2                   </td><td>MSP                 </td><td>SFO                 </td><td>2014-02-04          </td><td>2014-02-23          </td><td>M                   </td><td>37                  </td><td>                    </td><td>...                 </td><td>Discount First Class</td><td>SCA Website Booking </td><td>293.96              </td><td>338.0               </td><td>                    </td><td>                    </td><td>                    </td><td>                    </td><td>O                   </td><td>February            </td></tr>\n",
       "\t<tr><td>3.372107e+12        </td><td>AAABMK              </td><td>1                   </td><td>SFO                 </td><td>MSP                 </td><td>2014-02-04          </td><td>2014-02-20          </td><td>M                   </td><td>37                  </td><td>                    </td><td>...                 </td><td>Discount First Class</td><td>SCA Website Booking </td><td>293.96              </td><td>338.0               </td><td>                    </td><td>                    </td><td>                    </td><td>                    </td><td>                    </td><td>February            </td></tr>\n",
       "\t<tr><td>3.372107e+12        </td><td>AAABTP              </td><td>1                   </td><td>MCO                 </td><td>MSP                 </td><td>2014-03-13          </td><td>2014-04-23          </td><td>F                   </td><td>69                  </td><td>                    </td><td>...                 </td><td>Coach               </td><td>Reservations Booking</td><td>112.56              </td><td>132.0               </td><td>                    </td><td>                    </td><td>                    </td><td>                    </td><td>                    </td><td>April               </td></tr>\n",
       "\t<tr><td>3.372106e+12        </td><td>AAACLY              </td><td>1                   </td><td>PSP                 </td><td>MSP                 </td><td>2012-10-06          </td><td>2013-02-12          </td><td>M                   </td><td>54                  </td><td>                    </td><td>...                 </td><td>Coach               </td><td>SCA Website Booking </td><td>171.16              </td><td>194.8               </td><td>                    </td><td>                    </td><td>                    </td><td>                    </td><td>                    </td><td>February            </td></tr>\n",
       "</tbody>\n",
       "</table>\n"
      ],
      "text/latex": [
       "\\begin{tabular}{r|lllllllllllllllllllll}\n",
       " TicketNum & PNRLocatorID & CouponSeqNbr & ServiceStartCity & ServiceEndCity & PNRCreateDate & ServiceStartDate & GenderCode & Age & PostalCode & ... & TrvldClassOfService & BookingChannel & BaseFareAmt & TotalDocAmt & UflyMemberStatus & CardHolder & BookedProduct & EnrollDate & StopoverCode & TripMonth\\\\\n",
       "\\hline\n",
       "\t 3.377365e+12         & AAABJK               & 2                    & JFK                  & MSP                  & 2013-11-23           & 2013-12-13           & F                    & 66                   &                      & ...                  & Coach                & Outside Booking      & 234.20               &   0.0                &                      &                      & CHEOPQ               &                      & O                    & December            \\\\\n",
       "\t 3.377365e+12         & AAABJK               & 1                    & MSP                  & JFK                  & 2013-11-23           & 2013-12-08           & F                    & 66                   &                      & ...                  & First Class          & Outside Booking      & 234.20               &   0.0                &                      &                      & CHEOPQ               &                      &                      & December            \\\\\n",
       "\t 3.372107e+12         & AAABMK               & 2                    & MSP                  & SFO                  & 2014-02-04           & 2014-02-23           & M                    & 37                   &                      & ...                  & Discount First Class & SCA Website Booking  & 293.96               & 338.0                &                      &                      &                      &                      & O                    & February            \\\\\n",
       "\t 3.372107e+12         & AAABMK               & 1                    & SFO                  & MSP                  & 2014-02-04           & 2014-02-20           & M                    & 37                   &                      & ...                  & Discount First Class & SCA Website Booking  & 293.96               & 338.0                &                      &                      &                      &                      &                      & February            \\\\\n",
       "\t 3.372107e+12         & AAABTP               & 1                    & MCO                  & MSP                  & 2014-03-13           & 2014-04-23           & F                    & 69                   &                      & ...                  & Coach                & Reservations Booking & 112.56               & 132.0                &                      &                      &                      &                      &                      & April               \\\\\n",
       "\t 3.372106e+12         & AAACLY               & 1                    & PSP                  & MSP                  & 2012-10-06           & 2013-02-12           & M                    & 54                   &                      & ...                  & Coach                & SCA Website Booking  & 171.16               & 194.8                &                      &                      &                      &                      &                      & February            \\\\\n",
       "\\end{tabular}\n"
      ],
      "text/markdown": [
       "\n",
       "| TicketNum | PNRLocatorID | CouponSeqNbr | ServiceStartCity | ServiceEndCity | PNRCreateDate | ServiceStartDate | GenderCode | Age | PostalCode | ... | TrvldClassOfService | BookingChannel | BaseFareAmt | TotalDocAmt | UflyMemberStatus | CardHolder | BookedProduct | EnrollDate | StopoverCode | TripMonth |\n",
       "|---|---|---|---|---|---|---|---|---|---|---|---|---|---|---|---|---|---|---|---|---|\n",
       "| 3.377365e+12         | AAABJK               | 2                    | JFK                  | MSP                  | 2013-11-23           | 2013-12-13           | F                    | 66                   |                      | ...                  | Coach                | Outside Booking      | 234.20               |   0.0                |                      |                      | CHEOPQ               |                      | O                    | December             |\n",
       "| 3.377365e+12         | AAABJK               | 1                    | MSP                  | JFK                  | 2013-11-23           | 2013-12-08           | F                    | 66                   |                      | ...                  | First Class          | Outside Booking      | 234.20               |   0.0                |                      |                      | CHEOPQ               |                      |                      | December             |\n",
       "| 3.372107e+12         | AAABMK               | 2                    | MSP                  | SFO                  | 2014-02-04           | 2014-02-23           | M                    | 37                   |                      | ...                  | Discount First Class | SCA Website Booking  | 293.96               | 338.0                |                      |                      |                      |                      | O                    | February             |\n",
       "| 3.372107e+12         | AAABMK               | 1                    | SFO                  | MSP                  | 2014-02-04           | 2014-02-20           | M                    | 37                   |                      | ...                  | Discount First Class | SCA Website Booking  | 293.96               | 338.0                |                      |                      |                      |                      |                      | February             |\n",
       "| 3.372107e+12         | AAABTP               | 1                    | MCO                  | MSP                  | 2014-03-13           | 2014-04-23           | F                    | 69                   |                      | ...                  | Coach                | Reservations Booking | 112.56               | 132.0                |                      |                      |                      |                      |                      | April                |\n",
       "| 3.372106e+12         | AAACLY               | 1                    | PSP                  | MSP                  | 2012-10-06           | 2013-02-12           | M                    | 54                   |                      | ...                  | Coach                | SCA Website Booking  | 171.16               | 194.8                |                      |                      |                      |                      |                      | February             |\n",
       "\n"
      ],
      "text/plain": [
       "  TicketNum    PNRLocatorID CouponSeqNbr ServiceStartCity ServiceEndCity\n",
       "1 3.377365e+12 AAABJK       2            JFK              MSP           \n",
       "2 3.377365e+12 AAABJK       1            MSP              JFK           \n",
       "3 3.372107e+12 AAABMK       2            MSP              SFO           \n",
       "4 3.372107e+12 AAABMK       1            SFO              MSP           \n",
       "5 3.372107e+12 AAABTP       1            MCO              MSP           \n",
       "6 3.372106e+12 AAACLY       1            PSP              MSP           \n",
       "  PNRCreateDate ServiceStartDate GenderCode Age PostalCode ...\n",
       "1 2013-11-23    2013-12-13       F          66             ...\n",
       "2 2013-11-23    2013-12-08       F          66             ...\n",
       "3 2014-02-04    2014-02-23       M          37             ...\n",
       "4 2014-02-04    2014-02-20       M          37             ...\n",
       "5 2014-03-13    2014-04-23       F          69             ...\n",
       "6 2012-10-06    2013-02-12       M          54             ...\n",
       "  TrvldClassOfService  BookingChannel       BaseFareAmt TotalDocAmt\n",
       "1 Coach                Outside Booking      234.20        0.0      \n",
       "2 First Class          Outside Booking      234.20        0.0      \n",
       "3 Discount First Class SCA Website Booking  293.96      338.0      \n",
       "4 Discount First Class SCA Website Booking  293.96      338.0      \n",
       "5 Coach                Reservations Booking 112.56      132.0      \n",
       "6 Coach                SCA Website Booking  171.16      194.8      \n",
       "  UflyMemberStatus CardHolder BookedProduct EnrollDate StopoverCode TripMonth\n",
       "1                             CHEOPQ                   O            December \n",
       "2                             CHEOPQ                                December \n",
       "3                                                      O            February \n",
       "4                                                                   February \n",
       "5                                                                   April    \n",
       "6                                                                   February "
      ]
     },
     "metadata": {},
     "output_type": "display_data"
    }
   ],
   "source": [
    "head(data)"
   ]
  },
  {
   "cell_type": "code",
   "execution_count": 112,
   "metadata": {},
   "outputs": [],
   "source": [
    "## Filter on the clusters we care about investigating on the whole data set\n",
    "\n",
    "target_clusters_subset <-\n",
    "        suncountry %>%\n",
    "                filter(cluster == 1 | cluster == 3 | cluster == 4 | cluster == 5)"
   ]
  },
  {
   "cell_type": "code",
   "execution_count": 21,
   "metadata": {},
   "outputs": [],
   "source": [
    "## Bring together columns to use as a look-up\n",
    "\n",
    "target_clusters_subset <- target_clusters_subset %>%\n",
    "        unite(key, ServiceStartCity, ServiceEndCity, GenderCode, TripMonth, Age)"
   ]
  },
  {
   "cell_type": "code",
   "execution_count": 113,
   "metadata": {},
   "outputs": [
    {
     "data": {
      "text/html": [
       "<table>\n",
       "<thead><tr><th scope=col>id</th><th scope=col>ServiceStartCity</th><th scope=col>ServiceEndCity</th><th scope=col>GenderCode</th><th scope=col>BookingChannel</th><th scope=col>TimeGap</th><th scope=col>TripMonth</th><th scope=col>Age</th><th scope=col>UflyMember</th><th scope=col>CardHolderFlag</th><th scope=col>cluster</th></tr></thead>\n",
       "<tbody>\n",
       "\t<tr><td>1                  </td><td>MSP                </td><td>SAN                </td><td>F                  </td><td>Outside Booking    </td><td> 27                </td><td>December           </td><td>21                 </td><td>0                  </td><td>0                  </td><td>1                  </td></tr>\n",
       "\t<tr><td>3                  </td><td>MSP                </td><td>SEA                </td><td>F                  </td><td>Outside Booking    </td><td> 63                </td><td>December           </td><td>63                 </td><td>0                  </td><td>0                  </td><td>3                  </td></tr>\n",
       "\t<tr><td>4                  </td><td>MSP                </td><td>SEA                </td><td>F                  </td><td>SCA Website Booking</td><td> 63                </td><td>August             </td><td>39                 </td><td>0                  </td><td>0                  </td><td>4                  </td></tr>\n",
       "\t<tr><td>5                  </td><td>MSP                </td><td>ANC                </td><td>F                  </td><td>Outside Booking    </td><td>137                </td><td>July               </td><td>25                 </td><td>0                  </td><td>0                  </td><td>3                  </td></tr>\n",
       "\t<tr><td>6                  </td><td>MSP                </td><td>CUN                </td><td>M                  </td><td>Outside Booking    </td><td> 24                </td><td>December           </td><td>21                 </td><td>0                  </td><td>0                  </td><td>1                  </td></tr>\n",
       "\t<tr><td>7                  </td><td>MSP                </td><td>MCO                </td><td>M                  </td><td>Outside Booking    </td><td>127                </td><td>December           </td><td>39                 </td><td>0                  </td><td>0                  </td><td>1                  </td></tr>\n",
       "</tbody>\n",
       "</table>\n"
      ],
      "text/latex": [
       "\\begin{tabular}{r|lllllllllll}\n",
       " id & ServiceStartCity & ServiceEndCity & GenderCode & BookingChannel & TimeGap & TripMonth & Age & UflyMember & CardHolderFlag & cluster\\\\\n",
       "\\hline\n",
       "\t 1                   & MSP                 & SAN                 & F                   & Outside Booking     &  27                 & December            & 21                  & 0                   & 0                   & 1                  \\\\\n",
       "\t 3                   & MSP                 & SEA                 & F                   & Outside Booking     &  63                 & December            & 63                  & 0                   & 0                   & 3                  \\\\\n",
       "\t 4                   & MSP                 & SEA                 & F                   & SCA Website Booking &  63                 & August              & 39                  & 0                   & 0                   & 4                  \\\\\n",
       "\t 5                   & MSP                 & ANC                 & F                   & Outside Booking     & 137                 & July                & 25                  & 0                   & 0                   & 3                  \\\\\n",
       "\t 6                   & MSP                 & CUN                 & M                   & Outside Booking     &  24                 & December            & 21                  & 0                   & 0                   & 1                  \\\\\n",
       "\t 7                   & MSP                 & MCO                 & M                   & Outside Booking     & 127                 & December            & 39                  & 0                   & 0                   & 1                  \\\\\n",
       "\\end{tabular}\n"
      ],
      "text/markdown": [
       "\n",
       "| id | ServiceStartCity | ServiceEndCity | GenderCode | BookingChannel | TimeGap | TripMonth | Age | UflyMember | CardHolderFlag | cluster |\n",
       "|---|---|---|---|---|---|---|---|---|---|---|\n",
       "| 1                   | MSP                 | SAN                 | F                   | Outside Booking     |  27                 | December            | 21                  | 0                   | 0                   | 1                   |\n",
       "| 3                   | MSP                 | SEA                 | F                   | Outside Booking     |  63                 | December            | 63                  | 0                   | 0                   | 3                   |\n",
       "| 4                   | MSP                 | SEA                 | F                   | SCA Website Booking |  63                 | August              | 39                  | 0                   | 0                   | 4                   |\n",
       "| 5                   | MSP                 | ANC                 | F                   | Outside Booking     | 137                 | July                | 25                  | 0                   | 0                   | 3                   |\n",
       "| 6                   | MSP                 | CUN                 | M                   | Outside Booking     |  24                 | December            | 21                  | 0                   | 0                   | 1                   |\n",
       "| 7                   | MSP                 | MCO                 | M                   | Outside Booking     | 127                 | December            | 39                  | 0                   | 0                   | 1                   |\n",
       "\n"
      ],
      "text/plain": [
       "  id ServiceStartCity ServiceEndCity GenderCode BookingChannel      TimeGap\n",
       "1 1  MSP              SAN            F          Outside Booking      27    \n",
       "2 3  MSP              SEA            F          Outside Booking      63    \n",
       "3 4  MSP              SEA            F          SCA Website Booking  63    \n",
       "4 5  MSP              ANC            F          Outside Booking     137    \n",
       "5 6  MSP              CUN            M          Outside Booking      24    \n",
       "6 7  MSP              MCO            M          Outside Booking     127    \n",
       "  TripMonth Age UflyMember CardHolderFlag cluster\n",
       "1 December  21  0          0              1      \n",
       "2 December  63  0          0              3      \n",
       "3 August    39  0          0              4      \n",
       "4 July      25  0          0              3      \n",
       "5 December  21  0          0              1      \n",
       "6 December  39  0          0              1      "
      ]
     },
     "metadata": {},
     "output_type": "display_data"
    }
   ],
   "source": [
    "## Confirm the function combined the fields correctly\n",
    "\n",
    "head(target_clusters_subset)"
   ]
  },
  {
   "cell_type": "code",
   "execution_count": 23,
   "metadata": {},
   "outputs": [],
   "source": [
    "## Perform the same transformation on the whole data set - this is what we'll use to filter\n",
    "\n",
    "data <- data %>% \n",
    "            unite(key, ServiceStartCity, ServiceEndCity, GenderCode, TripMonth, Age)"
   ]
  },
  {
   "cell_type": "code",
   "execution_count": 39,
   "metadata": {},
   "outputs": [],
   "source": [
    "## Create a subset of the data based on that filter criteria\n",
    "## We look up customers who took the same flights, at the same time of year, at the same age\n",
    "\n",
    "data_subset <- data %>%\n",
    "        filter(key %in% target_clusters_subset$key)"
   ]
  },
  {
   "cell_type": "code",
   "execution_count": 40,
   "metadata": {},
   "outputs": [],
   "source": [
    "## Because all of the columns were merged together to form the key, we have split them out again\n",
    "\n",
    "data_subset <- \n",
    "        data_subset %>%\n",
    "            separate(key, c(\"ServiceStartCity\", \"ServiceEndCity\", \"GenderCode\", \"TripMonth\", \"Age\"))"
   ]
  },
  {
   "cell_type": "code",
   "execution_count": 41,
   "metadata": {},
   "outputs": [
    {
     "data": {
      "text/plain": [
       "   TicketNum          PNRLocatorID     CouponSeqNbr   ServiceStartCity  \n",
       " Min.   :3.372e+12   OPKWDG :   268   Min.   :1.000   Length:759762     \n",
       " 1st Qu.:3.372e+12   JHUCQB :   145   1st Qu.:1.000   Class :character  \n",
       " Median :3.372e+12   LQBDYD :   145   Median :1.000   Mode  :character  \n",
       " Mean   :3.374e+12   KOKCQW :   139   Mean   :1.253                     \n",
       " 3rd Qu.:3.377e+12   BZFZYN :   125   3rd Qu.:1.000                     \n",
       " Max.   :3.380e+12   GJLMUJ :   106   Max.   :8.000                     \n",
       "                     (Other):758834                                     \n",
       " ServiceEndCity      GenderCode         TripMonth             Age           \n",
       " Length:759762      Length:759762      Length:759762      Length:759762     \n",
       " Class :character   Class :character   Class :character   Class :character  \n",
       " Mode  :character   Mode  :character   Mode  :character   Mode  :character  \n",
       "                                                                            \n",
       "                                                                            \n",
       "                                                                            \n",
       "                                                                            \n",
       " PNRCreateDate        ServiceStartDate       PostalCode    \n",
       " Min.   :2011-06-22   Min.   :2013-01-01          :614157  \n",
       " 1st Qu.:2013-05-29   1st Qu.:2013-07-15   55416  :  1896  \n",
       " Median :2013-11-15   Median :2014-02-01   55347  :  1856  \n",
       " Mean   :2013-11-09   Mean   :2014-01-10   55311  :  1850  \n",
       " 3rd Qu.:2014-05-08   3rd Qu.:2014-07-06   55044  :  1824  \n",
       " Max.   :2014-12-31   Max.   :2014-12-31   55124  :  1539  \n",
       "                                           (Other):136640  \n",
       "            BkdClassOfService            TrvldClassOfService\n",
       " Coach               :741624   Coach               :704844  \n",
       " Discount First Class:   162   Discount First Class: 16190  \n",
       " First Class         : 17976   First Class         : 38728  \n",
       "                                                            \n",
       "                                                            \n",
       "                                                            \n",
       "                                                            \n",
       "              BookingChannel    BaseFareAmt      TotalDocAmt    \n",
       " Outside Booking     :347490   Min.   :   0.0   Min.   :   0.0  \n",
       " SCA Website Booking :311212   1st Qu.: 180.5   1st Qu.: 197.8  \n",
       " Reservations Booking: 51898   Median : 275.3   Median : 307.8  \n",
       " SY Vacation         : 26294   Mean   : 289.0   Mean   : 314.6  \n",
       " Tour Operator Portal: 20161   3rd Qu.: 368.4   3rd Qu.: 412.8  \n",
       " MSP                 :  1582   Max.   :1884.7   Max.   :5885.0  \n",
       " (Other)             :  1125                                    \n",
       " UflyMemberStatus  CardHolder     BookedProduct   \n",
       "         :613317        :613317          :494870  \n",
       " Elite   :  2933   false:138921   SSWMIR : 84455  \n",
       " Standard:143512   true :  7524   EXP    : 26314  \n",
       "                                  GRP    : 26008  \n",
       "                                  BSGTIX : 20339  \n",
       "                                  SCV    : 20247  \n",
       "                                  (Other): 87529  \n",
       "                       EnrollDate     StopoverCode\n",
       "                            :613317    :519431    \n",
       " 2007-07-17 00:00:00.0000000:  4317   O:192519    \n",
       " 2007-12-02 15:06:38.0000000:   152   X: 47812    \n",
       " 2007-12-02 15:27:19.0000000:   148               \n",
       " 2013-01-23 15:53:24.0000000:    63               \n",
       " 2007-07-23 17:28:30.0000000:    37               \n",
       " (Other)                    :141728               "
      ]
     },
     "metadata": {},
     "output_type": "display_data"
    }
   ],
   "source": [
    "## Looks like we have about 759,000 observations - way too much.\n",
    "## We can whittle this down a little more by merging on the flight trips\n",
    "## And only get one trip per passenger\n",
    "\n",
    "summary(data_subset)"
   ]
  },
  {
   "cell_type": "code",
   "execution_count": 42,
   "metadata": {},
   "outputs": [],
   "source": [
    "flight_legs <- function(dataframe_in) {\n",
    "  \n",
    "  a <- dataframe_in %>% \n",
    "  select(PNRLocatorID, TicketNum, CouponSeqNbr, ServiceStartCity, ServiceEndCity) %>% \n",
    "  group_by(TicketNum) %>% mutate(trip_max = max(CouponSeqNbr))\n",
    "\n",
    "  a1 <- a %>% filter(CouponSeqNbr == 1) %>% \n",
    "    select(PNRLocatorID, TicketNum, ServiceStartCity, ServiceEndCity, trip_max) %>% \n",
    "    rename(City1 = ServiceStartCity, City2 = ServiceEndCity)\n",
    "  \n",
    "  a2 <- a %>% filter(CouponSeqNbr == 2) %>% \n",
    "    select(PNRLocatorID, TicketNum, ServiceEndCity, trip_max) %>% \n",
    "    rename(City3 = ServiceEndCity)\n",
    "  \n",
    "  a3 <- a %>% filter(CouponSeqNbr == 3) %>% \n",
    "    select(PNRLocatorID, TicketNum, ServiceEndCity, trip_max) %>% \n",
    "    rename(City4 = ServiceEndCity)\n",
    "  \n",
    "  a4 <- a %>% filter(CouponSeqNbr == 4) %>% \n",
    "    select(PNRLocatorID, TicketNum, ServiceEndCity, trip_max) %>% \n",
    "    rename(City5 = ServiceEndCity)\n",
    "  \n",
    "  a5 <- a %>% filter(CouponSeqNbr == 5) %>% \n",
    "    select(PNRLocatorID, TicketNum, ServiceEndCity, trip_max) %>% \n",
    "    rename(City6 = ServiceEndCity)\n",
    "  \n",
    "  a6 <- a %>% filter(CouponSeqNbr == 6) %>% \n",
    "    select(PNRLocatorID, TicketNum, ServiceEndCity, trip_max) %>% \n",
    "    rename(City7 = ServiceEndCity)\n",
    "  \n",
    "  jc <- c(\"trip_max\" = \"trip_max\", \"PNRLocatorID\"=\"PNRLocatorID\", \n",
    "          \"TicketNum\"=\"TicketNum\")\n",
    "    \n",
    "  j1 <- left_join(a1, a2, by=jc)\n",
    "  j2 <- left_join(j1, a3, by=jc)\n",
    "  j3 <- left_join(j2, a4, by=jc)\n",
    "  j4 <- left_join(j3, a5, by=jc)\n",
    "  j5 <- left_join(j4, a6, by=jc) %>% \n",
    "    select(PNRLocatorID, TicketNum, trip_max, \n",
    "           City1, City2, City3, City4, City5, \n",
    "           City6, City7)\n",
    "  \n",
    "  jx <- as_tibble(j5) %>% \n",
    "    unite(\"Airport_Sequence\", City1:City7, sep = \"->\", na.rm = TRUE)\n",
    "    \n",
    "  jx <- jx[!duplicated(jx),]\n",
    "  \n",
    "  return(jx)\n",
    "}"
   ]
  },
  {
   "cell_type": "code",
   "execution_count": 43,
   "metadata": {},
   "outputs": [],
   "source": [
    "# Flight sequence \n",
    "df_seq1 <- data_subset %>% filter(CouponSeqNbr == 1) \n",
    "fl_sequence <- left_join(df_seq1, flight_legs(data_subset), by = c(\"PNRLocatorID\", \"TicketNum\"))"
   ]
  },
  {
   "cell_type": "code",
   "execution_count": 47,
   "metadata": {},
   "outputs": [
    {
     "data": {
      "text/plain": [
       "   TicketNum          PNRLocatorID     CouponSeqNbr ServiceStartCity  \n",
       " Min.   :3.372e+12   OPKWDG :   268   Min.   :1     Length:591952     \n",
       " 1st Qu.:3.372e+12   JHUCQB :   145   1st Qu.:1     Class :character  \n",
       " Median :3.372e+12   LQBDYD :   145   Median :1     Mode  :character  \n",
       " Mean   :3.374e+12   KOKCQW :   139   Mean   :1                       \n",
       " 3rd Qu.:3.377e+12   BZFZYN :   125   3rd Qu.:1                       \n",
       " Max.   :3.380e+12   GJLMUJ :   106   Max.   :1                       \n",
       "                     (Other):591024                                   \n",
       " ServiceEndCity      GenderCode         TripMonth             Age           \n",
       " Length:591952      Length:591952      Length:591952      Length:591952     \n",
       " Class :character   Class :character   Class :character   Class :character  \n",
       " Mode  :character   Mode  :character   Mode  :character   Mode  :character  \n",
       "                                                                            \n",
       "                                                                            \n",
       "                                                                            \n",
       "                                                                            \n",
       " PNRCreateDate        ServiceStartDate       PostalCode    \n",
       " Min.   :2011-06-22   Min.   :2013-01-01          :469480  \n",
       " 1st Qu.:2013-05-06   1st Qu.:2013-06-28   55416  :  1801  \n",
       " Median :2013-11-07   Median :2014-02-01   55311  :  1789  \n",
       " Mean   :2013-10-26   Mean   :2014-01-01   55044  :  1777  \n",
       " 3rd Qu.:2014-04-15   3rd Qu.:2014-06-18   55347  :  1768  \n",
       " Max.   :2014-12-31   Max.   :2014-12-31   55304  :  1501  \n",
       "                                           (Other):113836  \n",
       "            BkdClassOfService            TrvldClassOfService\n",
       " Coach               :576523   Coach               :546641  \n",
       " Discount First Class:   147   Discount First Class: 13046  \n",
       " First Class         : 15282   First Class         : 32265  \n",
       "                                                            \n",
       "                                                            \n",
       "                                                            \n",
       "                                                            \n",
       "              BookingChannel    BaseFareAmt      TotalDocAmt    \n",
       " SCA Website Booking :251158   Min.   :   0.0   Min.   :   0.0  \n",
       " Outside Booking     :245537   1st Qu.: 174.0   1st Qu.: 184.9  \n",
       " Reservations Booking: 46710   Median : 273.5   Median : 297.8  \n",
       " SY Vacation         : 25995   Mean   : 285.1   Mean   : 306.6  \n",
       " Tour Operator Portal: 20161   3rd Qu.: 366.5   3rd Qu.: 407.0  \n",
       " MSP                 :  1562   Max.   :1840.0   Max.   :5334.0  \n",
       " (Other)             :   829                                    \n",
       " UflyMemberStatus  CardHolder     BookedProduct   \n",
       "         :468743        :468743          :368335  \n",
       " Elite   :  2459   false:116449   SSWMIR : 62156  \n",
       " Standard:120750   true :  6760   GRP    : 24792  \n",
       "                                  EXP    : 23785  \n",
       "                                  BSGTIX : 20339  \n",
       "                                  SCV    : 19959  \n",
       "                                  (Other): 72586  \n",
       "                       EnrollDate     StopoverCode    trip_max\n",
       "                            :468743    :519431     Min.   :1  \n",
       " 2007-07-17 00:00:00.0000000:  3840   O: 72511     1st Qu.:1  \n",
       " 2007-12-02 15:27:19.0000000:   138   X:    10     Median :1  \n",
       " 2007-12-02 15:06:38.0000000:   121                Mean   :1  \n",
       " 2013-01-23 15:53:24.0000000:    54                3rd Qu.:1  \n",
       " 2007-07-23 17:28:30.0000000:    37                Max.   :4  \n",
       " (Other)                    :119019                           \n",
       " Airport_Sequence  \n",
       " Length:591952     \n",
       " Class :character  \n",
       " Mode  :character  \n",
       "                   \n",
       "                   \n",
       "                   \n",
       "                   "
      ]
     },
     "metadata": {},
     "output_type": "display_data"
    }
   ],
   "source": [
    "summary(fl_sequence)"
   ]
  },
  {
   "cell_type": "code",
   "execution_count": 46,
   "metadata": {},
   "outputs": [
    {
     "data": {
      "text/html": [
       "<table>\n",
       "<thead><tr><th scope=col>TicketNum</th><th scope=col>PNRLocatorID</th><th scope=col>CouponSeqNbr</th><th scope=col>ServiceStartCity</th><th scope=col>ServiceEndCity</th><th scope=col>GenderCode</th><th scope=col>TripMonth</th><th scope=col>Age</th><th scope=col>PNRCreateDate</th><th scope=col>ServiceStartDate</th><th scope=col>...</th><th scope=col>BookingChannel</th><th scope=col>BaseFareAmt</th><th scope=col>TotalDocAmt</th><th scope=col>UflyMemberStatus</th><th scope=col>CardHolder</th><th scope=col>BookedProduct</th><th scope=col>EnrollDate</th><th scope=col>StopoverCode</th><th scope=col>trip_max</th><th scope=col>Airport_Sequence</th></tr></thead>\n",
       "<tbody>\n",
       "\t<tr><td>3.377278e+12                                                       </td><td>AAAOXY                                                             </td><td>1                                                                  </td><td>MSP                                                                </td><td>JFK                                                                </td><td>M                                                                  </td><td><span style=white-space:pre-wrap>August   </span>                  </td><td>31                                                                 </td><td>2013-08-05                                                         </td><td>2013-08-27                                                         </td><td>...                                                                </td><td><span style=white-space:pre-wrap>Outside Booking    </span>        </td><td><span style=white-space:pre-wrap>  0.00</span>                     </td><td><span style=white-space:pre-wrap>  0.0</span>                      </td><td><span style=white-space:pre-wrap>     </span>                      </td><td><span style=white-space:pre-wrap>    </span>                       </td><td>CHEOPQ                                                             </td><td><span style=white-space:pre-wrap>                           </span></td><td>O                                                                  </td><td>1                                                                  </td><td>MSP-&gt;JFK                                                        </td></tr>\n",
       "\t<tr><td>3.377507e+12                                                       </td><td>AAAUWL                                                             </td><td>1                                                                  </td><td>MSP                                                                </td><td>SFO                                                                </td><td>F                                                                  </td><td>December                                                           </td><td>45                                                                 </td><td>2014-11-10                                                         </td><td>2014-12-02                                                         </td><td>...                                                                </td><td><span style=white-space:pre-wrap>Outside Booking    </span>        </td><td>240.93                                                             </td><td>273.1                                                              </td><td><span style=white-space:pre-wrap>     </span>                      </td><td><span style=white-space:pre-wrap>    </span>                       </td><td><span style=white-space:pre-wrap>      </span>                     </td><td><span style=white-space:pre-wrap>                           </span></td><td>                                                                   </td><td>1                                                                  </td><td>MSP-&gt;SFO                                                        </td></tr>\n",
       "\t<tr><td>3.377468e+12                                                       </td><td>AABCHD                                                             </td><td>1                                                                  </td><td>MSP                                                                </td><td>LAS                                                                </td><td>F                                                                  </td><td>September                                                          </td><td>43                                                                 </td><td>2014-07-21                                                         </td><td>2014-09-05                                                         </td><td>...                                                                </td><td><span style=white-space:pre-wrap>Outside Booking    </span>        </td><td>305.12                                                             </td><td>356.2                                                              </td><td><span style=white-space:pre-wrap>     </span>                      </td><td><span style=white-space:pre-wrap>    </span>                       </td><td><span style=white-space:pre-wrap>      </span>                     </td><td><span style=white-space:pre-wrap>                           </span></td><td>                                                                   </td><td>1                                                                  </td><td>MSP-&gt;LAS                                                        </td></tr>\n",
       "\t<tr><td>3.372108e+12               </td><td>AABGAX                     </td><td>1                          </td><td>MSP                        </td><td>LAS                        </td><td>F                          </td><td>September                  </td><td>56                         </td><td>2014-07-28                 </td><td>2014-09-29                 </td><td>...                        </td><td>SCA Website Booking        </td><td>199.07                     </td><td>242.2                      </td><td>Elite                      </td><td>true                       </td><td>SSWMIR                     </td><td>2007-07-17 00:00:00.0000000</td><td>                           </td><td>1                          </td><td>MSP-&gt;LAS                </td></tr>\n",
       "\t<tr><td>3.377436e+12                                                       </td><td>AABGUJ                                                             </td><td>1                                                                  </td><td>MSP                                                                </td><td>JFK                                                                </td><td>F                                                                  </td><td><span style=white-space:pre-wrap>July     </span>                  </td><td>31                                                                 </td><td>2014-06-30                                                         </td><td>2014-07-30                                                         </td><td>...                                                                </td><td><span style=white-space:pre-wrap>Outside Booking    </span>        </td><td><span style=white-space:pre-wrap>  0.00</span>                     </td><td><span style=white-space:pre-wrap>  0.0</span>                      </td><td><span style=white-space:pre-wrap>     </span>                      </td><td><span style=white-space:pre-wrap>    </span>                       </td><td><span style=white-space:pre-wrap>      </span>                     </td><td><span style=white-space:pre-wrap>                           </span></td><td>O                                                                  </td><td>1                                                                  </td><td>MSP-&gt;JFK                                                        </td></tr>\n",
       "\t<tr><td>3.377436e+12                                                       </td><td>AABGUJ                                                             </td><td>1                                                                  </td><td>MSP                                                                </td><td>JFK                                                                </td><td>M                                                                  </td><td><span style=white-space:pre-wrap>July     </span>                  </td><td>7                                                                  </td><td>2014-06-30                                                         </td><td>2014-07-30                                                         </td><td>...                                                                </td><td><span style=white-space:pre-wrap>Outside Booking    </span>        </td><td><span style=white-space:pre-wrap>  0.00</span>                     </td><td><span style=white-space:pre-wrap>  0.0</span>                      </td><td><span style=white-space:pre-wrap>     </span>                      </td><td><span style=white-space:pre-wrap>    </span>                       </td><td><span style=white-space:pre-wrap>      </span>                     </td><td><span style=white-space:pre-wrap>                           </span></td><td>O                                                                  </td><td>1                                                                  </td><td>MSP-&gt;JFK                                                        </td></tr>\n",
       "</tbody>\n",
       "</table>\n"
      ],
      "text/latex": [
       "\\begin{tabular}{r|lllllllllllllllllllllll}\n",
       " TicketNum & PNRLocatorID & CouponSeqNbr & ServiceStartCity & ServiceEndCity & GenderCode & TripMonth & Age & PNRCreateDate & ServiceStartDate & ... & BookingChannel & BaseFareAmt & TotalDocAmt & UflyMemberStatus & CardHolder & BookedProduct & EnrollDate & StopoverCode & trip\\_max & Airport\\_Sequence\\\\\n",
       "\\hline\n",
       "\t 3.377278e+12                & AAAOXY                      & 1                           & MSP                         & JFK                         & M                           & August                      & 31                          & 2013-08-05                  & 2013-08-27                  & ...                         & Outside Booking             &   0.00                      &   0.0                       &                             &                             & CHEOPQ                      &                             & O                           & 1                           & MSP->JFK                   \\\\\n",
       "\t 3.377507e+12                & AAAUWL                      & 1                           & MSP                         & SFO                         & F                           & December                    & 45                          & 2014-11-10                  & 2014-12-02                  & ...                         & Outside Booking             & 240.93                      & 273.1                       &                             &                             &                             &                             &                             & 1                           & MSP->SFO                   \\\\\n",
       "\t 3.377468e+12                & AABCHD                      & 1                           & MSP                         & LAS                         & F                           & September                   & 43                          & 2014-07-21                  & 2014-09-05                  & ...                         & Outside Booking             & 305.12                      & 356.2                       &                             &                             &                             &                             &                             & 1                           & MSP->LAS                   \\\\\n",
       "\t 3.372108e+12                & AABGAX                      & 1                           & MSP                         & LAS                         & F                           & September                   & 56                          & 2014-07-28                  & 2014-09-29                  & ...                         & SCA Website Booking         & 199.07                      & 242.2                       & Elite                       & true                        & SSWMIR                      & 2007-07-17 00:00:00.0000000 &                             & 1                           & MSP->LAS                   \\\\\n",
       "\t 3.377436e+12                & AABGUJ                      & 1                           & MSP                         & JFK                         & F                           & July                        & 31                          & 2014-06-30                  & 2014-07-30                  & ...                         & Outside Booking             &   0.00                      &   0.0                       &                             &                             &                             &                             & O                           & 1                           & MSP->JFK                   \\\\\n",
       "\t 3.377436e+12                & AABGUJ                      & 1                           & MSP                         & JFK                         & M                           & July                        & 7                           & 2014-06-30                  & 2014-07-30                  & ...                         & Outside Booking             &   0.00                      &   0.0                       &                             &                             &                             &                             & O                           & 1                           & MSP->JFK                   \\\\\n",
       "\\end{tabular}\n"
      ],
      "text/markdown": [
       "\n",
       "| TicketNum | PNRLocatorID | CouponSeqNbr | ServiceStartCity | ServiceEndCity | GenderCode | TripMonth | Age | PNRCreateDate | ServiceStartDate | ... | BookingChannel | BaseFareAmt | TotalDocAmt | UflyMemberStatus | CardHolder | BookedProduct | EnrollDate | StopoverCode | trip_max | Airport_Sequence |\n",
       "|---|---|---|---|---|---|---|---|---|---|---|---|---|---|---|---|---|---|---|---|---|\n",
       "| 3.377278e+12                | AAAOXY                      | 1                           | MSP                         | JFK                         | M                           | August                      | 31                          | 2013-08-05                  | 2013-08-27                  | ...                         | Outside Booking             |   0.00                      |   0.0                       |                             |                             | CHEOPQ                      |                             | O                           | 1                           | MSP->JFK                    |\n",
       "| 3.377507e+12                | AAAUWL                      | 1                           | MSP                         | SFO                         | F                           | December                    | 45                          | 2014-11-10                  | 2014-12-02                  | ...                         | Outside Booking             | 240.93                      | 273.1                       |                             |                             |                             |                             |                             | 1                           | MSP->SFO                    |\n",
       "| 3.377468e+12                | AABCHD                      | 1                           | MSP                         | LAS                         | F                           | September                   | 43                          | 2014-07-21                  | 2014-09-05                  | ...                         | Outside Booking             | 305.12                      | 356.2                       |                             |                             |                             |                             |                             | 1                           | MSP->LAS                    |\n",
       "| 3.372108e+12                | AABGAX                      | 1                           | MSP                         | LAS                         | F                           | September                   | 56                          | 2014-07-28                  | 2014-09-29                  | ...                         | SCA Website Booking         | 199.07                      | 242.2                       | Elite                       | true                        | SSWMIR                      | 2007-07-17 00:00:00.0000000 |                             | 1                           | MSP->LAS                    |\n",
       "| 3.377436e+12                | AABGUJ                      | 1                           | MSP                         | JFK                         | F                           | July                        | 31                          | 2014-06-30                  | 2014-07-30                  | ...                         | Outside Booking             |   0.00                      |   0.0                       |                             |                             |                             |                             | O                           | 1                           | MSP->JFK                    |\n",
       "| 3.377436e+12                | AABGUJ                      | 1                           | MSP                         | JFK                         | M                           | July                        | 7                           | 2014-06-30                  | 2014-07-30                  | ...                         | Outside Booking             |   0.00                      |   0.0                       |                             |                             |                             |                             | O                           | 1                           | MSP->JFK                    |\n",
       "\n"
      ],
      "text/plain": [
       "  TicketNum    PNRLocatorID CouponSeqNbr ServiceStartCity ServiceEndCity\n",
       "1 3.377278e+12 AAAOXY       1            MSP              JFK           \n",
       "2 3.377507e+12 AAAUWL       1            MSP              SFO           \n",
       "3 3.377468e+12 AABCHD       1            MSP              LAS           \n",
       "4 3.372108e+12 AABGAX       1            MSP              LAS           \n",
       "5 3.377436e+12 AABGUJ       1            MSP              JFK           \n",
       "6 3.377436e+12 AABGUJ       1            MSP              JFK           \n",
       "  GenderCode TripMonth Age PNRCreateDate ServiceStartDate ...\n",
       "1 M          August    31  2013-08-05    2013-08-27       ...\n",
       "2 F          December  45  2014-11-10    2014-12-02       ...\n",
       "3 F          September 43  2014-07-21    2014-09-05       ...\n",
       "4 F          September 56  2014-07-28    2014-09-29       ...\n",
       "5 F          July      31  2014-06-30    2014-07-30       ...\n",
       "6 M          July      7   2014-06-30    2014-07-30       ...\n",
       "  BookingChannel      BaseFareAmt TotalDocAmt UflyMemberStatus CardHolder\n",
       "1 Outside Booking       0.00        0.0                                  \n",
       "2 Outside Booking     240.93      273.1                                  \n",
       "3 Outside Booking     305.12      356.2                                  \n",
       "4 SCA Website Booking 199.07      242.2       Elite            true      \n",
       "5 Outside Booking       0.00        0.0                                  \n",
       "6 Outside Booking       0.00        0.0                                  \n",
       "  BookedProduct EnrollDate                  StopoverCode trip_max\n",
       "1 CHEOPQ                                    O            1       \n",
       "2                                                        1       \n",
       "3                                                        1       \n",
       "4 SSWMIR        2007-07-17 00:00:00.0000000              1       \n",
       "5                                           O            1       \n",
       "6                                           O            1       \n",
       "  Airport_Sequence\n",
       "1 MSP->JFK        \n",
       "2 MSP->SFO        \n",
       "3 MSP->LAS        \n",
       "4 MSP->LAS        \n",
       "5 MSP->JFK        \n",
       "6 MSP->JFK        "
      ]
     },
     "metadata": {},
     "output_type": "display_data"
    }
   ],
   "source": [
    "head(fl_sequence)"
   ]
  },
  {
   "cell_type": "code",
   "execution_count": 49,
   "metadata": {},
   "outputs": [],
   "source": [
    "## Add in a few descriptive fields for final table\n",
    "\n",
    "fl_sequence$UflyMember = case_when(fl_sequence$UflyMemberStatus == \"\" ~ \"Non-member\",\n",
    "                                    fl_sequence$UflyMemberStatus != \"\" ~ \"UFly Member\")\n",
    "\n",
    "fl_sequence$CardHolderFlag = case_when(fl_sequence$CardHolder == \"true\" ~ \"Card Holder\",\n",
    "                                fl_sequence$CardHolder != \"true\" ~ \"Non-card Holder\")"
   ]
  },
  {
   "cell_type": "code",
   "execution_count": 57,
   "metadata": {},
   "outputs": [],
   "source": [
    "final_column_set <- c(\"ServiceStartCity\", \"ServiceEndCity\", \"GenderCode\", \"BkdClassOfService\", \"TrvldClassOfService\",\n",
    "                      \"TripMonth\", \"Age\", \"BookingChannel\", \"BaseFareAmt\", \"Airport_Sequence\", \"UflyMember\", \"CardHolderFlag\")"
   ]
  },
  {
   "cell_type": "code",
   "execution_count": 67,
   "metadata": {},
   "outputs": [],
   "source": [
    "final_clean_output <- fl_sequence[, final_column_set]"
   ]
  },
  {
   "cell_type": "code",
   "execution_count": 68,
   "metadata": {},
   "outputs": [
    {
     "data": {
      "text/html": [
       "<table>\n",
       "<thead><tr><th scope=col>ServiceStartCity</th><th scope=col>ServiceEndCity</th><th scope=col>GenderCode</th><th scope=col>BkdClassOfService</th><th scope=col>TrvldClassOfService</th><th scope=col>TripMonth</th><th scope=col>Age</th><th scope=col>BookingChannel</th><th scope=col>BaseFareAmt</th><th scope=col>Airport_Sequence</th><th scope=col>UflyMember</th><th scope=col>CardHolderFlag</th></tr></thead>\n",
       "<tbody>\n",
       "\t<tr><td>MSP                                                         </td><td>JFK                                                         </td><td>M                                                           </td><td>Coach                                                       </td><td><span style=white-space:pre-wrap>Coach               </span></td><td><span style=white-space:pre-wrap>August   </span>           </td><td>31                                                          </td><td><span style=white-space:pre-wrap>Outside Booking    </span> </td><td><span style=white-space:pre-wrap>  0.00</span>              </td><td>MSP-&gt;JFK                                                 </td><td>Non-member                                                  </td><td>Non-card Holder                                             </td></tr>\n",
       "\t<tr><td>MSP                                                         </td><td>SFO                                                         </td><td>F                                                           </td><td>Coach                                                       </td><td><span style=white-space:pre-wrap>Coach               </span></td><td>December                                                    </td><td>45                                                          </td><td><span style=white-space:pre-wrap>Outside Booking    </span> </td><td>240.93                                                      </td><td>MSP-&gt;SFO                                                 </td><td>Non-member                                                  </td><td>Non-card Holder                                             </td></tr>\n",
       "\t<tr><td>MSP                                                         </td><td>LAS                                                         </td><td>F                                                           </td><td>Coach                                                       </td><td><span style=white-space:pre-wrap>Coach               </span></td><td>September                                                   </td><td>43                                                          </td><td><span style=white-space:pre-wrap>Outside Booking    </span> </td><td>305.12                                                      </td><td>MSP-&gt;LAS                                                 </td><td>Non-member                                                  </td><td>Non-card Holder                                             </td></tr>\n",
       "\t<tr><td>MSP                                                    </td><td>LAS                                                    </td><td>F                                                      </td><td>Coach                                                  </td><td>Discount First Class                                   </td><td>September                                              </td><td>56                                                     </td><td>SCA Website Booking                                    </td><td>199.07                                                 </td><td>MSP-&gt;LAS                                            </td><td>UFly Member                                            </td><td><span style=white-space:pre-wrap>Card Holder    </span></td></tr>\n",
       "\t<tr><td>MSP                                                         </td><td>JFK                                                         </td><td>F                                                           </td><td>Coach                                                       </td><td><span style=white-space:pre-wrap>Coach               </span></td><td><span style=white-space:pre-wrap>July     </span>           </td><td>31                                                          </td><td><span style=white-space:pre-wrap>Outside Booking    </span> </td><td><span style=white-space:pre-wrap>  0.00</span>              </td><td>MSP-&gt;JFK                                                 </td><td>Non-member                                                  </td><td>Non-card Holder                                             </td></tr>\n",
       "\t<tr><td>MSP                                                         </td><td>JFK                                                         </td><td>M                                                           </td><td>Coach                                                       </td><td><span style=white-space:pre-wrap>Coach               </span></td><td><span style=white-space:pre-wrap>July     </span>           </td><td>7                                                           </td><td><span style=white-space:pre-wrap>Outside Booking    </span> </td><td><span style=white-space:pre-wrap>  0.00</span>              </td><td>MSP-&gt;JFK                                                 </td><td>Non-member                                                  </td><td>Non-card Holder                                             </td></tr>\n",
       "</tbody>\n",
       "</table>\n"
      ],
      "text/latex": [
       "\\begin{tabular}{r|llllllllllll}\n",
       " ServiceStartCity & ServiceEndCity & GenderCode & BkdClassOfService & TrvldClassOfService & TripMonth & Age & BookingChannel & BaseFareAmt & Airport\\_Sequence & UflyMember & CardHolderFlag\\\\\n",
       "\\hline\n",
       "\t MSP                  & JFK                  & M                    & Coach                & Coach                & August               & 31                   & Outside Booking      &   0.00               & MSP->JFK             & Non-member           & Non-card Holder     \\\\\n",
       "\t MSP                  & SFO                  & F                    & Coach                & Coach                & December             & 45                   & Outside Booking      & 240.93               & MSP->SFO             & Non-member           & Non-card Holder     \\\\\n",
       "\t MSP                  & LAS                  & F                    & Coach                & Coach                & September            & 43                   & Outside Booking      & 305.12               & MSP->LAS             & Non-member           & Non-card Holder     \\\\\n",
       "\t MSP                  & LAS                  & F                    & Coach                & Discount First Class & September            & 56                   & SCA Website Booking  & 199.07               & MSP->LAS             & UFly Member          & Card Holder         \\\\\n",
       "\t MSP                  & JFK                  & F                    & Coach                & Coach                & July                 & 31                   & Outside Booking      &   0.00               & MSP->JFK             & Non-member           & Non-card Holder     \\\\\n",
       "\t MSP                  & JFK                  & M                    & Coach                & Coach                & July                 & 7                    & Outside Booking      &   0.00               & MSP->JFK             & Non-member           & Non-card Holder     \\\\\n",
       "\\end{tabular}\n"
      ],
      "text/markdown": [
       "\n",
       "| ServiceStartCity | ServiceEndCity | GenderCode | BkdClassOfService | TrvldClassOfService | TripMonth | Age | BookingChannel | BaseFareAmt | Airport_Sequence | UflyMember | CardHolderFlag |\n",
       "|---|---|---|---|---|---|---|---|---|---|---|---|\n",
       "| MSP                  | JFK                  | M                    | Coach                | Coach                | August               | 31                   | Outside Booking      |   0.00               | MSP->JFK             | Non-member           | Non-card Holder      |\n",
       "| MSP                  | SFO                  | F                    | Coach                | Coach                | December             | 45                   | Outside Booking      | 240.93               | MSP->SFO             | Non-member           | Non-card Holder      |\n",
       "| MSP                  | LAS                  | F                    | Coach                | Coach                | September            | 43                   | Outside Booking      | 305.12               | MSP->LAS             | Non-member           | Non-card Holder      |\n",
       "| MSP                  | LAS                  | F                    | Coach                | Discount First Class | September            | 56                   | SCA Website Booking  | 199.07               | MSP->LAS             | UFly Member          | Card Holder          |\n",
       "| MSP                  | JFK                  | F                    | Coach                | Coach                | July                 | 31                   | Outside Booking      |   0.00               | MSP->JFK             | Non-member           | Non-card Holder      |\n",
       "| MSP                  | JFK                  | M                    | Coach                | Coach                | July                 | 7                    | Outside Booking      |   0.00               | MSP->JFK             | Non-member           | Non-card Holder      |\n",
       "\n"
      ],
      "text/plain": [
       "  ServiceStartCity ServiceEndCity GenderCode BkdClassOfService\n",
       "1 MSP              JFK            M          Coach            \n",
       "2 MSP              SFO            F          Coach            \n",
       "3 MSP              LAS            F          Coach            \n",
       "4 MSP              LAS            F          Coach            \n",
       "5 MSP              JFK            F          Coach            \n",
       "6 MSP              JFK            M          Coach            \n",
       "  TrvldClassOfService  TripMonth Age BookingChannel      BaseFareAmt\n",
       "1 Coach                August    31  Outside Booking       0.00     \n",
       "2 Coach                December  45  Outside Booking     240.93     \n",
       "3 Coach                September 43  Outside Booking     305.12     \n",
       "4 Discount First Class September 56  SCA Website Booking 199.07     \n",
       "5 Coach                July      31  Outside Booking       0.00     \n",
       "6 Coach                July      7   Outside Booking       0.00     \n",
       "  Airport_Sequence UflyMember  CardHolderFlag \n",
       "1 MSP->JFK         Non-member  Non-card Holder\n",
       "2 MSP->SFO         Non-member  Non-card Holder\n",
       "3 MSP->LAS         Non-member  Non-card Holder\n",
       "4 MSP->LAS         UFly Member Card Holder    \n",
       "5 MSP->JFK         Non-member  Non-card Holder\n",
       "6 MSP->JFK         Non-member  Non-card Holder"
      ]
     },
     "metadata": {},
     "output_type": "display_data"
    },
    {
     "data": {
      "text/plain": [
       " ServiceStartCity   ServiceEndCity      GenderCode       \n",
       " Length:591952      Length:591952      Length:591952     \n",
       " Class :character   Class :character   Class :character  \n",
       " Mode  :character   Mode  :character   Mode  :character  \n",
       "                                                         \n",
       "                                                         \n",
       "                                                         \n",
       "                                                         \n",
       "            BkdClassOfService            TrvldClassOfService  TripMonth        \n",
       " Coach               :576523   Coach               :546641   Length:591952     \n",
       " Discount First Class:   147   Discount First Class: 13046   Class :character  \n",
       " First Class         : 15282   First Class         : 32265   Mode  :character  \n",
       "                                                                               \n",
       "                                                                               \n",
       "                                                                               \n",
       "                                                                               \n",
       "     Age                         BookingChannel    BaseFareAmt    \n",
       " Length:591952      SCA Website Booking :251158   Min.   :   0.0  \n",
       " Class :character   Outside Booking     :245537   1st Qu.: 174.0  \n",
       " Mode  :character   Reservations Booking: 46710   Median : 273.5  \n",
       "                    SY Vacation         : 25995   Mean   : 285.1  \n",
       "                    Tour Operator Portal: 20161   3rd Qu.: 366.5  \n",
       "                    MSP                 :  1562   Max.   :1840.0  \n",
       "                    (Other)             :   829                   \n",
       " Airport_Sequence    UflyMember        CardHolderFlag    \n",
       " Length:591952      Length:591952      Length:591952     \n",
       " Class :character   Class :character   Class :character  \n",
       " Mode  :character   Mode  :character   Mode  :character  \n",
       "                                                         \n",
       "                                                         \n",
       "                                                         \n",
       "                                                         "
      ]
     },
     "metadata": {},
     "output_type": "display_data"
    }
   ],
   "source": [
    "head(final_clean_output)\n",
    "\n",
    "summary(final_clean_output)"
   ]
  },
  {
   "cell_type": "code",
   "execution_count": 60,
   "metadata": {},
   "outputs": [],
   "source": [
    "## Output the data into a separate csv file\n",
    "\n",
    "final_clean_output_as_csv <- write.csv(final_clean_output, file = \"SunCountry_Population_Filtered.csv\")"
   ]
  },
  {
   "cell_type": "code",
   "execution_count": 6,
   "metadata": {},
   "outputs": [],
   "source": [
    "## Read in the newly generated file - one more step, we need to add our cluster information\n",
    "\n",
    "final_clean_output <- read.csv(\"SunCountry_Population_Filtered.csv\")"
   ]
  },
  {
   "cell_type": "code",
   "execution_count": 78,
   "metadata": {},
   "outputs": [
    {
     "data": {
      "text/html": [
       "<table>\n",
       "<thead><tr><th scope=col>id</th><th scope=col>ServiceStartCity</th><th scope=col>ServiceEndCity</th><th scope=col>GenderCode</th><th scope=col>BkdClassOfService</th><th scope=col>TrvldClassOfService</th><th scope=col>TripMonth</th><th scope=col>Age</th><th scope=col>BookingChannel</th><th scope=col>BaseFareAmt</th><th scope=col>Airport_Sequence</th><th scope=col>UflyMember</th><th scope=col>CardHolderFlag</th></tr></thead>\n",
       "<tbody>\n",
       "\t<tr><td>1                                                           </td><td>MSP                                                         </td><td>JFK                                                         </td><td>M                                                           </td><td>Coach                                                       </td><td><span style=white-space:pre-wrap>Coach               </span></td><td><span style=white-space:pre-wrap>August   </span>           </td><td>31                                                          </td><td><span style=white-space:pre-wrap>Outside Booking    </span> </td><td><span style=white-space:pre-wrap>  0.00</span>              </td><td>MSP-&gt;JFK                                                 </td><td>Non-member                                                  </td><td>Non-card Holder                                             </td></tr>\n",
       "\t<tr><td>2                                                           </td><td>MSP                                                         </td><td>SFO                                                         </td><td>F                                                           </td><td>Coach                                                       </td><td><span style=white-space:pre-wrap>Coach               </span></td><td>December                                                    </td><td>45                                                          </td><td><span style=white-space:pre-wrap>Outside Booking    </span> </td><td>240.93                                                      </td><td>MSP-&gt;SFO                                                 </td><td>Non-member                                                  </td><td>Non-card Holder                                             </td></tr>\n",
       "\t<tr><td>3                                                           </td><td>MSP                                                         </td><td>LAS                                                         </td><td>F                                                           </td><td>Coach                                                       </td><td><span style=white-space:pre-wrap>Coach               </span></td><td>September                                                   </td><td>43                                                          </td><td><span style=white-space:pre-wrap>Outside Booking    </span> </td><td>305.12                                                      </td><td>MSP-&gt;LAS                                                 </td><td>Non-member                                                  </td><td>Non-card Holder                                             </td></tr>\n",
       "\t<tr><td>4                                                      </td><td>MSP                                                    </td><td>LAS                                                    </td><td>F                                                      </td><td>Coach                                                  </td><td>Discount First Class                                   </td><td>September                                              </td><td>56                                                     </td><td>SCA Website Booking                                    </td><td>199.07                                                 </td><td>MSP-&gt;LAS                                            </td><td>UFly Member                                            </td><td><span style=white-space:pre-wrap>Card Holder    </span></td></tr>\n",
       "\t<tr><td>5                                                           </td><td>MSP                                                         </td><td>JFK                                                         </td><td>F                                                           </td><td>Coach                                                       </td><td><span style=white-space:pre-wrap>Coach               </span></td><td><span style=white-space:pre-wrap>July     </span>           </td><td>31                                                          </td><td><span style=white-space:pre-wrap>Outside Booking    </span> </td><td><span style=white-space:pre-wrap>  0.00</span>              </td><td>MSP-&gt;JFK                                                 </td><td>Non-member                                                  </td><td>Non-card Holder                                             </td></tr>\n",
       "\t<tr><td>6                                                           </td><td>MSP                                                         </td><td>JFK                                                         </td><td>M                                                           </td><td>Coach                                                       </td><td><span style=white-space:pre-wrap>Coach               </span></td><td><span style=white-space:pre-wrap>July     </span>           </td><td> 7                                                          </td><td><span style=white-space:pre-wrap>Outside Booking    </span> </td><td><span style=white-space:pre-wrap>  0.00</span>              </td><td>MSP-&gt;JFK                                                 </td><td>Non-member                                                  </td><td>Non-card Holder                                             </td></tr>\n",
       "</tbody>\n",
       "</table>\n"
      ],
      "text/latex": [
       "\\begin{tabular}{r|lllllllllllll}\n",
       " id & ServiceStartCity & ServiceEndCity & GenderCode & BkdClassOfService & TrvldClassOfService & TripMonth & Age & BookingChannel & BaseFareAmt & Airport\\_Sequence & UflyMember & CardHolderFlag\\\\\n",
       "\\hline\n",
       "\t 1                    & MSP                  & JFK                  & M                    & Coach                & Coach                & August               & 31                   & Outside Booking      &   0.00               & MSP->JFK             & Non-member           & Non-card Holder     \\\\\n",
       "\t 2                    & MSP                  & SFO                  & F                    & Coach                & Coach                & December             & 45                   & Outside Booking      & 240.93               & MSP->SFO             & Non-member           & Non-card Holder     \\\\\n",
       "\t 3                    & MSP                  & LAS                  & F                    & Coach                & Coach                & September            & 43                   & Outside Booking      & 305.12               & MSP->LAS             & Non-member           & Non-card Holder     \\\\\n",
       "\t 4                    & MSP                  & LAS                  & F                    & Coach                & Discount First Class & September            & 56                   & SCA Website Booking  & 199.07               & MSP->LAS             & UFly Member          & Card Holder         \\\\\n",
       "\t 5                    & MSP                  & JFK                  & F                    & Coach                & Coach                & July                 & 31                   & Outside Booking      &   0.00               & MSP->JFK             & Non-member           & Non-card Holder     \\\\\n",
       "\t 6                    & MSP                  & JFK                  & M                    & Coach                & Coach                & July                 &  7                   & Outside Booking      &   0.00               & MSP->JFK             & Non-member           & Non-card Holder     \\\\\n",
       "\\end{tabular}\n"
      ],
      "text/markdown": [
       "\n",
       "| id | ServiceStartCity | ServiceEndCity | GenderCode | BkdClassOfService | TrvldClassOfService | TripMonth | Age | BookingChannel | BaseFareAmt | Airport_Sequence | UflyMember | CardHolderFlag |\n",
       "|---|---|---|---|---|---|---|---|---|---|---|---|---|\n",
       "| 1                    | MSP                  | JFK                  | M                    | Coach                | Coach                | August               | 31                   | Outside Booking      |   0.00               | MSP->JFK             | Non-member           | Non-card Holder      |\n",
       "| 2                    | MSP                  | SFO                  | F                    | Coach                | Coach                | December             | 45                   | Outside Booking      | 240.93               | MSP->SFO             | Non-member           | Non-card Holder      |\n",
       "| 3                    | MSP                  | LAS                  | F                    | Coach                | Coach                | September            | 43                   | Outside Booking      | 305.12               | MSP->LAS             | Non-member           | Non-card Holder      |\n",
       "| 4                    | MSP                  | LAS                  | F                    | Coach                | Discount First Class | September            | 56                   | SCA Website Booking  | 199.07               | MSP->LAS             | UFly Member          | Card Holder          |\n",
       "| 5                    | MSP                  | JFK                  | F                    | Coach                | Coach                | July                 | 31                   | Outside Booking      |   0.00               | MSP->JFK             | Non-member           | Non-card Holder      |\n",
       "| 6                    | MSP                  | JFK                  | M                    | Coach                | Coach                | July                 |  7                   | Outside Booking      |   0.00               | MSP->JFK             | Non-member           | Non-card Holder      |\n",
       "\n"
      ],
      "text/plain": [
       "  id ServiceStartCity ServiceEndCity GenderCode BkdClassOfService\n",
       "1 1  MSP              JFK            M          Coach            \n",
       "2 2  MSP              SFO            F          Coach            \n",
       "3 3  MSP              LAS            F          Coach            \n",
       "4 4  MSP              LAS            F          Coach            \n",
       "5 5  MSP              JFK            F          Coach            \n",
       "6 6  MSP              JFK            M          Coach            \n",
       "  TrvldClassOfService  TripMonth Age BookingChannel      BaseFareAmt\n",
       "1 Coach                August    31  Outside Booking       0.00     \n",
       "2 Coach                December  45  Outside Booking     240.93     \n",
       "3 Coach                September 43  Outside Booking     305.12     \n",
       "4 Discount First Class September 56  SCA Website Booking 199.07     \n",
       "5 Coach                July      31  Outside Booking       0.00     \n",
       "6 Coach                July       7  Outside Booking       0.00     \n",
       "  Airport_Sequence UflyMember  CardHolderFlag \n",
       "1 MSP->JFK         Non-member  Non-card Holder\n",
       "2 MSP->SFO         Non-member  Non-card Holder\n",
       "3 MSP->LAS         Non-member  Non-card Holder\n",
       "4 MSP->LAS         UFly Member Card Holder    \n",
       "5 MSP->JFK         Non-member  Non-card Holder\n",
       "6 MSP->JFK         Non-member  Non-card Holder"
      ]
     },
     "metadata": {},
     "output_type": "display_data"
    }
   ],
   "source": [
    "head(final_clean_output)"
   ]
  },
  {
   "cell_type": "code",
   "execution_count": 119,
   "metadata": {},
   "outputs": [],
   "source": [
    "## Remove duplicate rows from our target cluster subset of data\n",
    "\n",
    "remove_dups <- distinct(target_clusters_subset)"
   ]
  },
  {
   "cell_type": "code",
   "execution_count": 130,
   "metadata": {},
   "outputs": [],
   "source": [
    "## Using SQL query to pull the columns that we want and get the cluster information included as well\n",
    "\n",
    "final_summary_output <- sqldf(\"SELECT f.ServiceStartCity, f.ServiceEndCity, f.GenderCode, f.BkdClassOfService, f.TrvldClassOfService, f.TripMonth, f.Age,\n",
    "                    f.BookingChannel, f.BaseFareAmt, f.Airport_Sequence, f.UflyMember, f.CardHolderFlag, r.cluster\n",
    "                            from final_clean_output f\n",
    "                            INNER JOIN remove_dups r\n",
    "                        ON (f.ServiceStartCity = r.ServiceStartCity AND f.ServiceEndCity = r.ServiceEndCity \n",
    "                            AND f.GenderCode = r.GenderCode AND f.TripMonth = r.TripMonth AND f.Age = r.Age)\")"
   ]
  },
  {
   "cell_type": "code",
   "execution_count": 131,
   "metadata": {},
   "outputs": [
    {
     "data": {
      "text/plain": [
       " ServiceStartCity   ServiceEndCity      GenderCode       \n",
       " Length:533596      Length:533596      Length:533596     \n",
       " Class :character   Class :character   Class :character  \n",
       " Mode  :character   Mode  :character   Mode  :character  \n",
       "                                                         \n",
       "                                                         \n",
       "                                                         \n",
       "                                                         \n",
       "            BkdClassOfService            TrvldClassOfService  TripMonth        \n",
       " Coach               :516775   Coach               :483851   Length:533596     \n",
       " Discount First Class:   161   Discount First Class: 14774   Class :character  \n",
       " First Class         : 16660   First Class         : 34971   Mode  :character  \n",
       "                                                                               \n",
       "                                                                               \n",
       "                                                                               \n",
       "                                                                               \n",
       "      Age         BookingChannel      BaseFareAmt     Airport_Sequence \n",
       " Min.   :  0.00   Length:533596      Min.   :   0.0   MSP->LAS:106229  \n",
       " 1st Qu.: 27.00   Class :character   1st Qu.: 195.9   MSP->MCO: 72552  \n",
       " Median : 39.00   Mode  :character   Median : 283.8   MSP->JFK: 46392  \n",
       " Mean   : 39.05                      Mean   : 306.4   MSP->SFO: 41265  \n",
       " 3rd Qu.: 52.00                      3rd Qu.: 378.6   MSP->LAX: 38697  \n",
       " Max.   :114.00                      Max.   :1840.0   MSP->BOS: 31777  \n",
       "                                                      (Other) :196684  \n",
       "  UflyMember        CardHolderFlag        cluster     \n",
       " Length:533596      Length:533596      Min.   :1.000  \n",
       " Class :character   Class :character   1st Qu.:3.000  \n",
       " Mode  :character   Mode  :character   Median :3.000  \n",
       "                                       Mean   :3.242  \n",
       "                                       3rd Qu.:4.000  \n",
       "                                       Max.   :5.000  \n",
       "                                                      "
      ]
     },
     "metadata": {},
     "output_type": "display_data"
    }
   ],
   "source": [
    "## Perform the same manipulation and remove duplicate rows\n",
    "\n",
    "final_summary_output <- distinct(final_summary_output)\n",
    "\n",
    "## View some summary statistics\n",
    "\n",
    "summary(final_summary_output)"
   ]
  },
  {
   "cell_type": "code",
   "execution_count": 132,
   "metadata": {},
   "outputs": [],
   "source": [
    "## No NAs!  Thats great\n",
    "\n",
    "## Let's output this to a CSV\n",
    "\n",
    "final_summary_output_as_csv <- write.csv(final_summary_output, file = \"SunCountry_Summary_Output.csv\")"
   ]
  },
  {
   "cell_type": "code",
   "execution_count": 1,
   "metadata": {},
   "outputs": [],
   "source": [
    "## Read it back in as a CSV, since this is much faster\n",
    "\n",
    "final_summary_output <-read.csv(\"SunCountry_Summary_Output.csv\")"
   ]
  },
  {
   "cell_type": "code",
   "execution_count": 2,
   "metadata": {},
   "outputs": [
    {
     "data": {
      "text/html": [
       "<table>\n",
       "<thead><tr><th scope=col>X</th><th scope=col>ServiceStartCity</th><th scope=col>ServiceEndCity</th><th scope=col>GenderCode</th><th scope=col>BkdClassOfService</th><th scope=col>TrvldClassOfService</th><th scope=col>TripMonth</th><th scope=col>Age</th><th scope=col>BookingChannel</th><th scope=col>BaseFareAmt</th><th scope=col>Airport_Sequence</th><th scope=col>UflyMember</th><th scope=col>CardHolderFlag</th><th scope=col>cluster</th></tr></thead>\n",
       "<tbody>\n",
       "\t<tr><td>1                                                           </td><td>MSP                                                         </td><td>JFK                                                         </td><td>M                                                           </td><td>Coach                                                       </td><td><span style=white-space:pre-wrap>Coach               </span></td><td><span style=white-space:pre-wrap>August   </span>           </td><td>31                                                          </td><td><span style=white-space:pre-wrap>Outside Booking    </span> </td><td><span style=white-space:pre-wrap>  0.00</span>              </td><td>MSP-&gt;JFK                                                 </td><td>Non-member                                                  </td><td>Non-card Holder                                             </td><td>1                                                           </td></tr>\n",
       "\t<tr><td>2                                                           </td><td>MSP                                                         </td><td>JFK                                                         </td><td>M                                                           </td><td>Coach                                                       </td><td><span style=white-space:pre-wrap>Coach               </span></td><td><span style=white-space:pre-wrap>August   </span>           </td><td>31                                                          </td><td><span style=white-space:pre-wrap>Outside Booking    </span> </td><td><span style=white-space:pre-wrap>  0.00</span>              </td><td>MSP-&gt;JFK                                                 </td><td>Non-member                                                  </td><td>Non-card Holder                                             </td><td>5                                                           </td></tr>\n",
       "\t<tr><td>3                                                           </td><td>MSP                                                         </td><td>SFO                                                         </td><td>F                                                           </td><td>Coach                                                       </td><td><span style=white-space:pre-wrap>Coach               </span></td><td>December                                                    </td><td>45                                                          </td><td><span style=white-space:pre-wrap>Outside Booking    </span> </td><td>240.93                                                      </td><td>MSP-&gt;SFO                                                 </td><td>Non-member                                                  </td><td>Non-card Holder                                             </td><td>3                                                           </td></tr>\n",
       "\t<tr><td>4                                                           </td><td>MSP                                                         </td><td>LAS                                                         </td><td>F                                                           </td><td>Coach                                                       </td><td><span style=white-space:pre-wrap>Coach               </span></td><td>September                                                   </td><td>43                                                          </td><td><span style=white-space:pre-wrap>Outside Booking    </span> </td><td>305.12                                                      </td><td>MSP-&gt;LAS                                                 </td><td>Non-member                                                  </td><td>Non-card Holder                                             </td><td>3                                                           </td></tr>\n",
       "\t<tr><td>5                                                      </td><td>MSP                                                    </td><td>LAS                                                    </td><td>F                                                      </td><td>Coach                                                  </td><td>Discount First Class                                   </td><td>September                                              </td><td>56                                                     </td><td>SCA Website Booking                                    </td><td>199.07                                                 </td><td>MSP-&gt;LAS                                            </td><td>UFly Member                                            </td><td><span style=white-space:pre-wrap>Card Holder    </span></td><td>3                                                      </td></tr>\n",
       "\t<tr><td>6                                                           </td><td>MSP                                                         </td><td>JFK                                                         </td><td>F                                                           </td><td>Coach                                                       </td><td><span style=white-space:pre-wrap>Coach               </span></td><td><span style=white-space:pre-wrap>July     </span>           </td><td>31                                                          </td><td><span style=white-space:pre-wrap>Outside Booking    </span> </td><td><span style=white-space:pre-wrap>  0.00</span>              </td><td>MSP-&gt;JFK                                                 </td><td>Non-member                                                  </td><td>Non-card Holder                                             </td><td>3                                                           </td></tr>\n",
       "</tbody>\n",
       "</table>\n"
      ],
      "text/latex": [
       "\\begin{tabular}{r|llllllllllllll}\n",
       " X & ServiceStartCity & ServiceEndCity & GenderCode & BkdClassOfService & TrvldClassOfService & TripMonth & Age & BookingChannel & BaseFareAmt & Airport\\_Sequence & UflyMember & CardHolderFlag & cluster\\\\\n",
       "\\hline\n",
       "\t 1                    & MSP                  & JFK                  & M                    & Coach                & Coach                & August               & 31                   & Outside Booking      &   0.00               & MSP->JFK             & Non-member           & Non-card Holder      & 1                   \\\\\n",
       "\t 2                    & MSP                  & JFK                  & M                    & Coach                & Coach                & August               & 31                   & Outside Booking      &   0.00               & MSP->JFK             & Non-member           & Non-card Holder      & 5                   \\\\\n",
       "\t 3                    & MSP                  & SFO                  & F                    & Coach                & Coach                & December             & 45                   & Outside Booking      & 240.93               & MSP->SFO             & Non-member           & Non-card Holder      & 3                   \\\\\n",
       "\t 4                    & MSP                  & LAS                  & F                    & Coach                & Coach                & September            & 43                   & Outside Booking      & 305.12               & MSP->LAS             & Non-member           & Non-card Holder      & 3                   \\\\\n",
       "\t 5                    & MSP                  & LAS                  & F                    & Coach                & Discount First Class & September            & 56                   & SCA Website Booking  & 199.07               & MSP->LAS             & UFly Member          & Card Holder          & 3                   \\\\\n",
       "\t 6                    & MSP                  & JFK                  & F                    & Coach                & Coach                & July                 & 31                   & Outside Booking      &   0.00               & MSP->JFK             & Non-member           & Non-card Holder      & 3                   \\\\\n",
       "\\end{tabular}\n"
      ],
      "text/markdown": [
       "\n",
       "| X | ServiceStartCity | ServiceEndCity | GenderCode | BkdClassOfService | TrvldClassOfService | TripMonth | Age | BookingChannel | BaseFareAmt | Airport_Sequence | UflyMember | CardHolderFlag | cluster |\n",
       "|---|---|---|---|---|---|---|---|---|---|---|---|---|---|\n",
       "| 1                    | MSP                  | JFK                  | M                    | Coach                | Coach                | August               | 31                   | Outside Booking      |   0.00               | MSP->JFK             | Non-member           | Non-card Holder      | 1                    |\n",
       "| 2                    | MSP                  | JFK                  | M                    | Coach                | Coach                | August               | 31                   | Outside Booking      |   0.00               | MSP->JFK             | Non-member           | Non-card Holder      | 5                    |\n",
       "| 3                    | MSP                  | SFO                  | F                    | Coach                | Coach                | December             | 45                   | Outside Booking      | 240.93               | MSP->SFO             | Non-member           | Non-card Holder      | 3                    |\n",
       "| 4                    | MSP                  | LAS                  | F                    | Coach                | Coach                | September            | 43                   | Outside Booking      | 305.12               | MSP->LAS             | Non-member           | Non-card Holder      | 3                    |\n",
       "| 5                    | MSP                  | LAS                  | F                    | Coach                | Discount First Class | September            | 56                   | SCA Website Booking  | 199.07               | MSP->LAS             | UFly Member          | Card Holder          | 3                    |\n",
       "| 6                    | MSP                  | JFK                  | F                    | Coach                | Coach                | July                 | 31                   | Outside Booking      |   0.00               | MSP->JFK             | Non-member           | Non-card Holder      | 3                    |\n",
       "\n"
      ],
      "text/plain": [
       "  X ServiceStartCity ServiceEndCity GenderCode BkdClassOfService\n",
       "1 1 MSP              JFK            M          Coach            \n",
       "2 2 MSP              JFK            M          Coach            \n",
       "3 3 MSP              SFO            F          Coach            \n",
       "4 4 MSP              LAS            F          Coach            \n",
       "5 5 MSP              LAS            F          Coach            \n",
       "6 6 MSP              JFK            F          Coach            \n",
       "  TrvldClassOfService  TripMonth Age BookingChannel      BaseFareAmt\n",
       "1 Coach                August    31  Outside Booking       0.00     \n",
       "2 Coach                August    31  Outside Booking       0.00     \n",
       "3 Coach                December  45  Outside Booking     240.93     \n",
       "4 Coach                September 43  Outside Booking     305.12     \n",
       "5 Discount First Class September 56  SCA Website Booking 199.07     \n",
       "6 Coach                July      31  Outside Booking       0.00     \n",
       "  Airport_Sequence UflyMember  CardHolderFlag  cluster\n",
       "1 MSP->JFK         Non-member  Non-card Holder 1      \n",
       "2 MSP->JFK         Non-member  Non-card Holder 5      \n",
       "3 MSP->SFO         Non-member  Non-card Holder 3      \n",
       "4 MSP->LAS         Non-member  Non-card Holder 3      \n",
       "5 MSP->LAS         UFly Member Card Holder     3      \n",
       "6 MSP->JFK         Non-member  Non-card Holder 3      "
      ]
     },
     "metadata": {},
     "output_type": "display_data"
    }
   ],
   "source": [
    "## Look at the first few rows to see a nice, clean dataset\n",
    "\n",
    "head(final_summary_output)"
   ]
  },
  {
   "cell_type": "code",
   "execution_count": 21,
   "metadata": {},
   "outputs": [
    {
     "name": "stderr",
     "output_type": "stream",
     "text": [
      "Selecting by trip_count\n"
     ]
    }
   ],
   "source": [
    "## Group by the cluster and show the trip locations and their counts\n",
    "\n",
    "clusters_by_airport_trips <- final_summary_output %>%\n",
    "        group_by(cluster, Airport_Sequence) %>%\n",
    "        summarise(trip_count = n()) %>%\n",
    "        top_n(10) %>%\n",
    "        arrange(desc(trip_count))"
   ]
  },
  {
   "cell_type": "code",
   "execution_count": 23,
   "metadata": {},
   "outputs": [
    {
     "data": {
      "text/html": [
       "<table>\n",
       "<thead><tr><th scope=col>cluster</th><th scope=col>Airport_Sequence</th><th scope=col>trip_count</th></tr></thead>\n",
       "<tbody>\n",
       "\t<tr><td>5          </td><td>MSP-&gt;LAS</td><td>43962      </td></tr>\n",
       "\t<tr><td>3          </td><td>MSP-&gt;LAS</td><td>43798      </td></tr>\n",
       "\t<tr><td>1          </td><td>MSP-&gt;MCO</td><td>30284      </td></tr>\n",
       "\t<tr><td>4          </td><td>MSP-&gt;MCO</td><td>29455      </td></tr>\n",
       "\t<tr><td>1          </td><td>MSP-&gt;JFK</td><td>13188      </td></tr>\n",
       "\t<tr><td>3          </td><td>MSP-&gt;JFK</td><td>12931      </td></tr>\n",
       "\t<tr><td>1          </td><td>MSP-&gt;SFO</td><td>12898      </td></tr>\n",
       "\t<tr><td>1          </td><td>MSP-&gt;LAS</td><td>11526      </td></tr>\n",
       "\t<tr><td>3          </td><td>MSP-&gt;SFO</td><td>11483      </td></tr>\n",
       "\t<tr><td>4          </td><td>MSP-&gt;JFK</td><td>11285      </td></tr>\n",
       "\t<tr><td>1          </td><td>MSP-&gt;LAX</td><td>11126      </td></tr>\n",
       "\t<tr><td>5          </td><td>MSP-&gt;RSW</td><td>10428      </td></tr>\n",
       "\t<tr><td>3          </td><td>MSP-&gt;SEA</td><td>10037      </td></tr>\n",
       "\t<tr><td>4          </td><td>MSP-&gt;LAX</td><td> 9771      </td></tr>\n",
       "\t<tr><td>3          </td><td>MSP-&gt;LAX</td><td> 9597      </td></tr>\n",
       "\t<tr><td>1          </td><td>MSP-&gt;BOS</td><td> 9451      </td></tr>\n",
       "\t<tr><td>4          </td><td>MSP-&gt;SEA</td><td> 9011      </td></tr>\n",
       "\t<tr><td>5          </td><td>MSP-&gt;JFK</td><td> 8988      </td></tr>\n",
       "\t<tr><td>3          </td><td>MSP-&gt;CUN</td><td> 8862      </td></tr>\n",
       "\t<tr><td>4          </td><td>MSP-&gt;SFO</td><td> 8732      </td></tr>\n",
       "</tbody>\n",
       "</table>\n"
      ],
      "text/latex": [
       "\\begin{tabular}{r|lll}\n",
       " cluster & Airport\\_Sequence & trip\\_count\\\\\n",
       "\\hline\n",
       "\t 5        & MSP->LAS & 43962   \\\\\n",
       "\t 3        & MSP->LAS & 43798   \\\\\n",
       "\t 1        & MSP->MCO & 30284   \\\\\n",
       "\t 4        & MSP->MCO & 29455   \\\\\n",
       "\t 1        & MSP->JFK & 13188   \\\\\n",
       "\t 3        & MSP->JFK & 12931   \\\\\n",
       "\t 1        & MSP->SFO & 12898   \\\\\n",
       "\t 1        & MSP->LAS & 11526   \\\\\n",
       "\t 3        & MSP->SFO & 11483   \\\\\n",
       "\t 4        & MSP->JFK & 11285   \\\\\n",
       "\t 1        & MSP->LAX & 11126   \\\\\n",
       "\t 5        & MSP->RSW & 10428   \\\\\n",
       "\t 3        & MSP->SEA & 10037   \\\\\n",
       "\t 4        & MSP->LAX &  9771   \\\\\n",
       "\t 3        & MSP->LAX &  9597   \\\\\n",
       "\t 1        & MSP->BOS &  9451   \\\\\n",
       "\t 4        & MSP->SEA &  9011   \\\\\n",
       "\t 5        & MSP->JFK &  8988   \\\\\n",
       "\t 3        & MSP->CUN &  8862   \\\\\n",
       "\t 4        & MSP->SFO &  8732   \\\\\n",
       "\\end{tabular}\n"
      ],
      "text/markdown": [
       "\n",
       "| cluster | Airport_Sequence | trip_count |\n",
       "|---|---|---|\n",
       "| 5        | MSP->LAS | 43962    |\n",
       "| 3        | MSP->LAS | 43798    |\n",
       "| 1        | MSP->MCO | 30284    |\n",
       "| 4        | MSP->MCO | 29455    |\n",
       "| 1        | MSP->JFK | 13188    |\n",
       "| 3        | MSP->JFK | 12931    |\n",
       "| 1        | MSP->SFO | 12898    |\n",
       "| 1        | MSP->LAS | 11526    |\n",
       "| 3        | MSP->SFO | 11483    |\n",
       "| 4        | MSP->JFK | 11285    |\n",
       "| 1        | MSP->LAX | 11126    |\n",
       "| 5        | MSP->RSW | 10428    |\n",
       "| 3        | MSP->SEA | 10037    |\n",
       "| 4        | MSP->LAX |  9771    |\n",
       "| 3        | MSP->LAX |  9597    |\n",
       "| 1        | MSP->BOS |  9451    |\n",
       "| 4        | MSP->SEA |  9011    |\n",
       "| 5        | MSP->JFK |  8988    |\n",
       "| 3        | MSP->CUN |  8862    |\n",
       "| 4        | MSP->SFO |  8732    |\n",
       "\n"
      ],
      "text/plain": [
       "   cluster Airport_Sequence trip_count\n",
       "1  5       MSP->LAS         43962     \n",
       "2  3       MSP->LAS         43798     \n",
       "3  1       MSP->MCO         30284     \n",
       "4  4       MSP->MCO         29455     \n",
       "5  1       MSP->JFK         13188     \n",
       "6  3       MSP->JFK         12931     \n",
       "7  1       MSP->SFO         12898     \n",
       "8  1       MSP->LAS         11526     \n",
       "9  3       MSP->SFO         11483     \n",
       "10 4       MSP->JFK         11285     \n",
       "11 1       MSP->LAX         11126     \n",
       "12 5       MSP->RSW         10428     \n",
       "13 3       MSP->SEA         10037     \n",
       "14 4       MSP->LAX          9771     \n",
       "15 3       MSP->LAX          9597     \n",
       "16 1       MSP->BOS          9451     \n",
       "17 4       MSP->SEA          9011     \n",
       "18 5       MSP->JFK          8988     \n",
       "19 3       MSP->CUN          8862     \n",
       "20 4       MSP->SFO          8732     "
      ]
     },
     "metadata": {},
     "output_type": "display_data"
    }
   ],
   "source": [
    "head(clusters_by_airport_trips, 20)"
   ]
  },
  {
   "cell_type": "code",
   "execution_count": 35,
   "metadata": {},
   "outputs": [
    {
     "name": "stderr",
     "output_type": "stream",
     "text": [
      "Selecting by passenger_count\n"
     ]
    },
    {
     "data": {
      "text/html": [
       "<table>\n",
       "<thead><tr><th scope=col>cluster</th><th scope=col>GenderCode</th><th scope=col>passenger_count</th></tr></thead>\n",
       "<tbody>\n",
       "\t<tr><td>3     </td><td>F     </td><td>137129</td></tr>\n",
       "\t<tr><td>4     </td><td>F     </td><td>122211</td></tr>\n",
       "\t<tr><td>5     </td><td>M     </td><td>121855</td></tr>\n",
       "\t<tr><td>1     </td><td>M     </td><td>114836</td></tr>\n",
       "\t<tr><td>1     </td><td>F     </td><td> 14192</td></tr>\n",
       "\t<tr><td>3     </td><td>M     </td><td> 11354</td></tr>\n",
       "\t<tr><td>5     </td><td>F     </td><td>  9165</td></tr>\n",
       "\t<tr><td>4     </td><td>M     </td><td>  2853</td></tr>\n",
       "\t<tr><td>4     </td><td>U     </td><td>     1</td></tr>\n",
       "</tbody>\n",
       "</table>\n"
      ],
      "text/latex": [
       "\\begin{tabular}{r|lll}\n",
       " cluster & GenderCode & passenger\\_count\\\\\n",
       "\\hline\n",
       "\t 3      & F      & 137129\\\\\n",
       "\t 4      & F      & 122211\\\\\n",
       "\t 5      & M      & 121855\\\\\n",
       "\t 1      & M      & 114836\\\\\n",
       "\t 1      & F      &  14192\\\\\n",
       "\t 3      & M      &  11354\\\\\n",
       "\t 5      & F      &   9165\\\\\n",
       "\t 4      & M      &   2853\\\\\n",
       "\t 4      & U      &      1\\\\\n",
       "\\end{tabular}\n"
      ],
      "text/markdown": [
       "\n",
       "| cluster | GenderCode | passenger_count |\n",
       "|---|---|---|\n",
       "| 3      | F      | 137129 |\n",
       "| 4      | F      | 122211 |\n",
       "| 5      | M      | 121855 |\n",
       "| 1      | M      | 114836 |\n",
       "| 1      | F      |  14192 |\n",
       "| 3      | M      |  11354 |\n",
       "| 5      | F      |   9165 |\n",
       "| 4      | M      |   2853 |\n",
       "| 4      | U      |      1 |\n",
       "\n"
      ],
      "text/plain": [
       "  cluster GenderCode passenger_count\n",
       "1 3       F          137129         \n",
       "2 4       F          122211         \n",
       "3 5       M          121855         \n",
       "4 1       M          114836         \n",
       "5 1       F           14192         \n",
       "6 3       M           11354         \n",
       "7 5       F            9165         \n",
       "8 4       M            2853         \n",
       "9 4       U               1         "
      ]
     },
     "metadata": {},
     "output_type": "display_data"
    }
   ],
   "source": [
    "## Group by the cluster and gender and their counts\n",
    "\n",
    "clusters_by_gender <-\n",
    "\n",
    "final_summary_output %>%\n",
    "        group_by(cluster, GenderCode) %>%\n",
    "        summarise(passenger_count = n()) %>%\n",
    "        top_n(10) %>%\n",
    "        arrange(desc(passenger_count))\n",
    "\n",
    "head(clusters_by_gender, 20)"
   ]
  },
  {
   "cell_type": "code",
   "execution_count": 34,
   "metadata": {},
   "outputs": [
    {
     "name": "stderr",
     "output_type": "stream",
     "text": [
      "Selecting by trip_count\n"
     ]
    },
    {
     "data": {
      "text/html": [
       "<table>\n",
       "<thead><tr><th scope=col>cluster</th><th scope=col>BkdClassOfService</th><th scope=col>trip_count</th></tr></thead>\n",
       "<tbody>\n",
       "\t<tr><td>3                   </td><td>Coach               </td><td>144083              </td></tr>\n",
       "\t<tr><td>5                   </td><td>Coach               </td><td>125573              </td></tr>\n",
       "\t<tr><td>1                   </td><td>Coach               </td><td>125094              </td></tr>\n",
       "\t<tr><td>4                   </td><td>Coach               </td><td>122025              </td></tr>\n",
       "\t<tr><td>5                   </td><td>First Class         </td><td>  5409              </td></tr>\n",
       "\t<tr><td>3                   </td><td>First Class         </td><td>  4346              </td></tr>\n",
       "\t<tr><td>1                   </td><td>First Class         </td><td>  3901              </td></tr>\n",
       "\t<tr><td>4                   </td><td>First Class         </td><td>  3004              </td></tr>\n",
       "\t<tr><td>3                   </td><td>Discount First Class</td><td>    54              </td></tr>\n",
       "\t<tr><td>5                   </td><td>Discount First Class</td><td>    38              </td></tr>\n",
       "\t<tr><td>4                   </td><td>Discount First Class</td><td>    36              </td></tr>\n",
       "\t<tr><td>1                   </td><td>Discount First Class</td><td>    33              </td></tr>\n",
       "</tbody>\n",
       "</table>\n"
      ],
      "text/latex": [
       "\\begin{tabular}{r|lll}\n",
       " cluster & BkdClassOfService & trip\\_count\\\\\n",
       "\\hline\n",
       "\t 3                    & Coach                & 144083              \\\\\n",
       "\t 5                    & Coach                & 125573              \\\\\n",
       "\t 1                    & Coach                & 125094              \\\\\n",
       "\t 4                    & Coach                & 122025              \\\\\n",
       "\t 5                    & First Class          &   5409              \\\\\n",
       "\t 3                    & First Class          &   4346              \\\\\n",
       "\t 1                    & First Class          &   3901              \\\\\n",
       "\t 4                    & First Class          &   3004              \\\\\n",
       "\t 3                    & Discount First Class &     54              \\\\\n",
       "\t 5                    & Discount First Class &     38              \\\\\n",
       "\t 4                    & Discount First Class &     36              \\\\\n",
       "\t 1                    & Discount First Class &     33              \\\\\n",
       "\\end{tabular}\n"
      ],
      "text/markdown": [
       "\n",
       "| cluster | BkdClassOfService | trip_count |\n",
       "|---|---|---|\n",
       "| 3                    | Coach                | 144083               |\n",
       "| 5                    | Coach                | 125573               |\n",
       "| 1                    | Coach                | 125094               |\n",
       "| 4                    | Coach                | 122025               |\n",
       "| 5                    | First Class          |   5409               |\n",
       "| 3                    | First Class          |   4346               |\n",
       "| 1                    | First Class          |   3901               |\n",
       "| 4                    | First Class          |   3004               |\n",
       "| 3                    | Discount First Class |     54               |\n",
       "| 5                    | Discount First Class |     38               |\n",
       "| 4                    | Discount First Class |     36               |\n",
       "| 1                    | Discount First Class |     33               |\n",
       "\n"
      ],
      "text/plain": [
       "   cluster BkdClassOfService    trip_count\n",
       "1  3       Coach                144083    \n",
       "2  5       Coach                125573    \n",
       "3  1       Coach                125094    \n",
       "4  4       Coach                122025    \n",
       "5  5       First Class            5409    \n",
       "6  3       First Class            4346    \n",
       "7  1       First Class            3901    \n",
       "8  4       First Class            3004    \n",
       "9  3       Discount First Class     54    \n",
       "10 5       Discount First Class     38    \n",
       "11 4       Discount First Class     36    \n",
       "12 1       Discount First Class     33    "
      ]
     },
     "metadata": {},
     "output_type": "display_data"
    }
   ],
   "source": [
    "## Group by the cluster and show the booking class and their counts\n",
    "\n",
    "clusters_by_booking_class <-\n",
    "\n",
    "final_summary_output %>%\n",
    "        group_by(cluster, BkdClassOfService) %>%\n",
    "        summarise(trip_count = n()) %>%\n",
    "        top_n(10) %>%\n",
    "        arrange(desc(trip_count))\n",
    "\n",
    "head(clusters_by_booking_class, 20)"
   ]
  },
  {
   "cell_type": "code",
   "execution_count": 36,
   "metadata": {},
   "outputs": [
    {
     "name": "stderr",
     "output_type": "stream",
     "text": [
      "Selecting by trip_count\n"
     ]
    },
    {
     "data": {
      "text/html": [
       "<table>\n",
       "<thead><tr><th scope=col>cluster</th><th scope=col>BookingChannel</th><th scope=col>trip_count</th></tr></thead>\n",
       "<tbody>\n",
       "\t<tr><td>3                   </td><td>SCA Website Booking </td><td>65817               </td></tr>\n",
       "\t<tr><td>3                   </td><td>Outside Booking     </td><td>64314               </td></tr>\n",
       "\t<tr><td>1                   </td><td>Outside Booking     </td><td>60655               </td></tr>\n",
       "\t<tr><td>5                   </td><td>SCA Website Booking </td><td>60600               </td></tr>\n",
       "\t<tr><td>4                   </td><td>SCA Website Booking </td><td>60079               </td></tr>\n",
       "\t<tr><td>1                   </td><td>SCA Website Booking </td><td>57140               </td></tr>\n",
       "\t<tr><td>5                   </td><td>Outside Booking     </td><td>53629               </td></tr>\n",
       "\t<tr><td>4                   </td><td>Outside Booking     </td><td>52394               </td></tr>\n",
       "\t<tr><td>3                   </td><td>SY Vacation         </td><td> 9715               </td></tr>\n",
       "\t<tr><td>5                   </td><td>SY Vacation         </td><td> 8796               </td></tr>\n",
       "\t<tr><td>4                   </td><td>Reservations Booking</td><td> 7165               </td></tr>\n",
       "\t<tr><td>3                   </td><td>Reservations Booking</td><td> 7077               </td></tr>\n",
       "\t<tr><td>5                   </td><td>Reservations Booking</td><td> 6570               </td></tr>\n",
       "\t<tr><td>1                   </td><td>Reservations Booking</td><td> 6470               </td></tr>\n",
       "\t<tr><td>4                   </td><td>SY Vacation         </td><td> 4254               </td></tr>\n",
       "\t<tr><td>1                   </td><td>SY Vacation         </td><td> 3535               </td></tr>\n",
       "\t<tr><td>3                   </td><td>Tour Operator Portal</td><td>  896               </td></tr>\n",
       "\t<tr><td>5                   </td><td>Tour Operator Portal</td><td>  755               </td></tr>\n",
       "\t<tr><td>4                   </td><td>Tour Operator Portal</td><td>  677               </td></tr>\n",
       "\t<tr><td>1                   </td><td>Tour Operator Portal</td><td>  563               </td></tr>\n",
       "</tbody>\n",
       "</table>\n"
      ],
      "text/latex": [
       "\\begin{tabular}{r|lll}\n",
       " cluster & BookingChannel & trip\\_count\\\\\n",
       "\\hline\n",
       "\t 3                    & SCA Website Booking  & 65817               \\\\\n",
       "\t 3                    & Outside Booking      & 64314               \\\\\n",
       "\t 1                    & Outside Booking      & 60655               \\\\\n",
       "\t 5                    & SCA Website Booking  & 60600               \\\\\n",
       "\t 4                    & SCA Website Booking  & 60079               \\\\\n",
       "\t 1                    & SCA Website Booking  & 57140               \\\\\n",
       "\t 5                    & Outside Booking      & 53629               \\\\\n",
       "\t 4                    & Outside Booking      & 52394               \\\\\n",
       "\t 3                    & SY Vacation          &  9715               \\\\\n",
       "\t 5                    & SY Vacation          &  8796               \\\\\n",
       "\t 4                    & Reservations Booking &  7165               \\\\\n",
       "\t 3                    & Reservations Booking &  7077               \\\\\n",
       "\t 5                    & Reservations Booking &  6570               \\\\\n",
       "\t 1                    & Reservations Booking &  6470               \\\\\n",
       "\t 4                    & SY Vacation          &  4254               \\\\\n",
       "\t 1                    & SY Vacation          &  3535               \\\\\n",
       "\t 3                    & Tour Operator Portal &   896               \\\\\n",
       "\t 5                    & Tour Operator Portal &   755               \\\\\n",
       "\t 4                    & Tour Operator Portal &   677               \\\\\n",
       "\t 1                    & Tour Operator Portal &   563               \\\\\n",
       "\\end{tabular}\n"
      ],
      "text/markdown": [
       "\n",
       "| cluster | BookingChannel | trip_count |\n",
       "|---|---|---|\n",
       "| 3                    | SCA Website Booking  | 65817                |\n",
       "| 3                    | Outside Booking      | 64314                |\n",
       "| 1                    | Outside Booking      | 60655                |\n",
       "| 5                    | SCA Website Booking  | 60600                |\n",
       "| 4                    | SCA Website Booking  | 60079                |\n",
       "| 1                    | SCA Website Booking  | 57140                |\n",
       "| 5                    | Outside Booking      | 53629                |\n",
       "| 4                    | Outside Booking      | 52394                |\n",
       "| 3                    | SY Vacation          |  9715                |\n",
       "| 5                    | SY Vacation          |  8796                |\n",
       "| 4                    | Reservations Booking |  7165                |\n",
       "| 3                    | Reservations Booking |  7077                |\n",
       "| 5                    | Reservations Booking |  6570                |\n",
       "| 1                    | Reservations Booking |  6470                |\n",
       "| 4                    | SY Vacation          |  4254                |\n",
       "| 1                    | SY Vacation          |  3535                |\n",
       "| 3                    | Tour Operator Portal |   896                |\n",
       "| 5                    | Tour Operator Portal |   755                |\n",
       "| 4                    | Tour Operator Portal |   677                |\n",
       "| 1                    | Tour Operator Portal |   563                |\n",
       "\n"
      ],
      "text/plain": [
       "   cluster BookingChannel       trip_count\n",
       "1  3       SCA Website Booking  65817     \n",
       "2  3       Outside Booking      64314     \n",
       "3  1       Outside Booking      60655     \n",
       "4  5       SCA Website Booking  60600     \n",
       "5  4       SCA Website Booking  60079     \n",
       "6  1       SCA Website Booking  57140     \n",
       "7  5       Outside Booking      53629     \n",
       "8  4       Outside Booking      52394     \n",
       "9  3       SY Vacation           9715     \n",
       "10 5       SY Vacation           8796     \n",
       "11 4       Reservations Booking  7165     \n",
       "12 3       Reservations Booking  7077     \n",
       "13 5       Reservations Booking  6570     \n",
       "14 1       Reservations Booking  6470     \n",
       "15 4       SY Vacation           4254     \n",
       "16 1       SY Vacation           3535     \n",
       "17 3       Tour Operator Portal   896     \n",
       "18 5       Tour Operator Portal   755     \n",
       "19 4       Tour Operator Portal   677     \n",
       "20 1       Tour Operator Portal   563     "
      ]
     },
     "metadata": {},
     "output_type": "display_data"
    }
   ],
   "source": [
    "## Group by the cluster and show the booking channel and their counts\n",
    "\n",
    "clusters_by_booking_channel <-\n",
    "\n",
    "final_summary_output %>%\n",
    "        group_by(cluster, BookingChannel) %>%\n",
    "        summarise(trip_count = n()) %>%\n",
    "        top_n(10) %>%\n",
    "        arrange(desc(trip_count))\n",
    "\n",
    "head(clusters_by_booking_channel, 20)"
   ]
  },
  {
   "cell_type": "code",
   "execution_count": 38,
   "metadata": {},
   "outputs": [
    {
     "name": "stderr",
     "output_type": "stream",
     "text": [
      "Selecting by trip_count\n"
     ]
    },
    {
     "data": {
      "text/html": [
       "<table>\n",
       "<thead><tr><th scope=col>cluster</th><th scope=col>UflyMember</th><th scope=col>trip_count</th></tr></thead>\n",
       "<tbody>\n",
       "\t<tr><td>3          </td><td>Non-member </td><td>112072     </td></tr>\n",
       "\t<tr><td>1          </td><td>Non-member </td><td> 99755     </td></tr>\n",
       "\t<tr><td>4          </td><td>Non-member </td><td> 96789     </td></tr>\n",
       "\t<tr><td>5          </td><td>Non-member </td><td> 96025     </td></tr>\n",
       "\t<tr><td>3          </td><td>UFly Member</td><td> 36411     </td></tr>\n",
       "\t<tr><td>5          </td><td>UFly Member</td><td> 34995     </td></tr>\n",
       "\t<tr><td>1          </td><td>UFly Member</td><td> 29273     </td></tr>\n",
       "\t<tr><td>4          </td><td>UFly Member</td><td> 28276     </td></tr>\n",
       "</tbody>\n",
       "</table>\n"
      ],
      "text/latex": [
       "\\begin{tabular}{r|lll}\n",
       " cluster & UflyMember & trip\\_count\\\\\n",
       "\\hline\n",
       "\t 3           & Non-member  & 112072     \\\\\n",
       "\t 1           & Non-member  &  99755     \\\\\n",
       "\t 4           & Non-member  &  96789     \\\\\n",
       "\t 5           & Non-member  &  96025     \\\\\n",
       "\t 3           & UFly Member &  36411     \\\\\n",
       "\t 5           & UFly Member &  34995     \\\\\n",
       "\t 1           & UFly Member &  29273     \\\\\n",
       "\t 4           & UFly Member &  28276     \\\\\n",
       "\\end{tabular}\n"
      ],
      "text/markdown": [
       "\n",
       "| cluster | UflyMember | trip_count |\n",
       "|---|---|---|\n",
       "| 3           | Non-member  | 112072      |\n",
       "| 1           | Non-member  |  99755      |\n",
       "| 4           | Non-member  |  96789      |\n",
       "| 5           | Non-member  |  96025      |\n",
       "| 3           | UFly Member |  36411      |\n",
       "| 5           | UFly Member |  34995      |\n",
       "| 1           | UFly Member |  29273      |\n",
       "| 4           | UFly Member |  28276      |\n",
       "\n"
      ],
      "text/plain": [
       "  cluster UflyMember  trip_count\n",
       "1 3       Non-member  112072    \n",
       "2 1       Non-member   99755    \n",
       "3 4       Non-member   96789    \n",
       "4 5       Non-member   96025    \n",
       "5 3       UFly Member  36411    \n",
       "6 5       UFly Member  34995    \n",
       "7 1       UFly Member  29273    \n",
       "8 4       UFly Member  28276    "
      ]
     },
     "metadata": {},
     "output_type": "display_data"
    }
   ],
   "source": [
    "## Group by the cluster and show uflymembership and their counts\n",
    "\n",
    "clusters_by_uflymembership <-\n",
    "\n",
    "final_summary_output %>%\n",
    "        group_by(cluster, UflyMember) %>%\n",
    "        summarise(trip_count = n()) %>%\n",
    "        top_n(10) %>%\n",
    "        arrange(desc(trip_count))\n",
    "\n",
    "head(clusters_by_uflymembership, 20)"
   ]
  },
  {
   "cell_type": "code",
   "execution_count": 40,
   "metadata": {},
   "outputs": [
    {
     "name": "stderr",
     "output_type": "stream",
     "text": [
      "Selecting by trip_count\n"
     ]
    },
    {
     "data": {
      "text/html": [
       "<table>\n",
       "<thead><tr><th scope=col>cluster</th><th scope=col>CardHolderFlag</th><th scope=col>trip_count</th></tr></thead>\n",
       "<tbody>\n",
       "\t<tr><td>3              </td><td>Non-card Holder</td><td>146307         </td></tr>\n",
       "\t<tr><td>5              </td><td>Non-card Holder</td><td>128640         </td></tr>\n",
       "\t<tr><td>1              </td><td>Non-card Holder</td><td>127457         </td></tr>\n",
       "\t<tr><td>4              </td><td>Non-card Holder</td><td>123735         </td></tr>\n",
       "\t<tr><td>5              </td><td>Card Holder    </td><td>  2380         </td></tr>\n",
       "\t<tr><td>3              </td><td>Card Holder    </td><td>  2176         </td></tr>\n",
       "\t<tr><td>1              </td><td>Card Holder    </td><td>  1571         </td></tr>\n",
       "\t<tr><td>4              </td><td>Card Holder    </td><td>  1330         </td></tr>\n",
       "</tbody>\n",
       "</table>\n"
      ],
      "text/latex": [
       "\\begin{tabular}{r|lll}\n",
       " cluster & CardHolderFlag & trip\\_count\\\\\n",
       "\\hline\n",
       "\t 3               & Non-card Holder & 146307         \\\\\n",
       "\t 5               & Non-card Holder & 128640         \\\\\n",
       "\t 1               & Non-card Holder & 127457         \\\\\n",
       "\t 4               & Non-card Holder & 123735         \\\\\n",
       "\t 5               & Card Holder     &   2380         \\\\\n",
       "\t 3               & Card Holder     &   2176         \\\\\n",
       "\t 1               & Card Holder     &   1571         \\\\\n",
       "\t 4               & Card Holder     &   1330         \\\\\n",
       "\\end{tabular}\n"
      ],
      "text/markdown": [
       "\n",
       "| cluster | CardHolderFlag | trip_count |\n",
       "|---|---|---|\n",
       "| 3               | Non-card Holder | 146307          |\n",
       "| 5               | Non-card Holder | 128640          |\n",
       "| 1               | Non-card Holder | 127457          |\n",
       "| 4               | Non-card Holder | 123735          |\n",
       "| 5               | Card Holder     |   2380          |\n",
       "| 3               | Card Holder     |   2176          |\n",
       "| 1               | Card Holder     |   1571          |\n",
       "| 4               | Card Holder     |   1330          |\n",
       "\n"
      ],
      "text/plain": [
       "  cluster CardHolderFlag  trip_count\n",
       "1 3       Non-card Holder 146307    \n",
       "2 5       Non-card Holder 128640    \n",
       "3 1       Non-card Holder 127457    \n",
       "4 4       Non-card Holder 123735    \n",
       "5 5       Card Holder       2380    \n",
       "6 3       Card Holder       2176    \n",
       "7 1       Card Holder       1571    \n",
       "8 4       Card Holder       1330    "
      ]
     },
     "metadata": {},
     "output_type": "display_data"
    }
   ],
   "source": [
    "## Group by the cluster and show uflymembership and their counts\n",
    "\n",
    "clusters_by_cardholderstatus <-\n",
    "\n",
    "final_summary_output %>%\n",
    "        group_by(cluster, CardHolderFlag) %>%\n",
    "        summarise(trip_count = n()) %>%\n",
    "        top_n(10) %>%\n",
    "        arrange(desc(trip_count))\n",
    "\n",
    "head(clusters_by_cardholderstatus, 20)"
   ]
  },
  {
   "cell_type": "code",
   "execution_count": 20,
   "metadata": {},
   "outputs": [
    {
     "name": "stderr",
     "output_type": "stream",
     "text": [
      "`stat_bin()` using `bins = 30`. Pick better value with `binwidth`.\n"
     ]
    },
    {
     "data": {
      "image/png": "[encoded data removed]",
      "text/plain": [
       "plot without title"
      ]
     },
     "metadata": {},
     "output_type": "display_data"
    }
   ],
   "source": [
    "ggplot(data = final_summary_output, aes(final_summary_output$Age)) + \n",
    "    geom_histogram() + \n",
    "    facet_wrap(. ~ cluster) +\n",
    "    labs(x = \"Age\", y = \"Number of Trips\", title = \"Age Demographics for Customer Segments (Entire Population)\")"
   ]
  },
  {
   "cell_type": "code",
   "execution_count": null,
   "metadata": {},
   "outputs": [],
   "source": []
  },
  {
   "cell_type": "code",
   "execution_count": null,
   "metadata": {},
   "outputs": [],
   "source": []
  },
  {
   "cell_type": "code",
   "execution_count": null,
   "metadata": {},
   "outputs": [],
   "source": []
  },
  {
   "cell_type": "code",
   "execution_count": null,
   "metadata": {},
   "outputs": [],
   "source": []
  },
  {
   "cell_type": "code",
   "execution_count": null,
   "metadata": {},
   "outputs": [],
   "source": []
  }
 ],
 "metadata": {
  "hide_input": false,
  "kernelspec": {
   "display_name": "R",
   "language": "R",
   "name": "ir"
  },
  "language_info": {
   "codemirror_mode": "r",
   "file_extension": ".r",
   "mimetype": "text/x-r-source",
   "name": "R",
   "pygments_lexer": "r",
   "version": "3.6.1"
  }
 },
 "nbformat": 4,
 "nbformat_minor": 2
}
