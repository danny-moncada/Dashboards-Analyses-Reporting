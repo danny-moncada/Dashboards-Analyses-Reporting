{
 "cells": [
  {
   "cell_type": "code",
   "execution_count": 1,
   "metadata": {},
   "outputs": [
    {
     "ename": "ERROR",
     "evalue": "Error in library(PerformanceAnalytics): there is no package called 'PerformanceAnalytics'\n",
     "output_type": "error",
     "traceback": [
      "Error in library(PerformanceAnalytics): there is no package called 'PerformanceAnalytics'\nTraceback:\n",
      "1. library(PerformanceAnalytics)",
      "2. stop(txt, domain = NA)"
     ]
    }
   ],
   "source": [
    "library(PerformanceAnalytics)"
   ]
  },
  {
   "cell_type": "code",
   "execution_count": 2,
   "metadata": {},
   "outputs": [],
   "source": [
    "library(readxl)"
   ]
  },
  {
   "cell_type": "code",
   "execution_count": 68,
   "metadata": {},
   "outputs": [],
   "source": [
    "## Hypothesis for an linear regression - Quiz 5\n",
    "\n",
    "## Volume = β0 + β1 (Income) + ε\n",
    "\n",
    "# β0: Purchase volume when the Income = 0, since this value of Income is well outside the \n",
    "# range of values (minimum Income = $12,000), β0 has no interpretation in the problem context.\n",
    "\n",
    "# β1: The increase in mean monthly purchase volume (in $s) for every $1 increase in family \n",
    "# income for the population of Moose customers.\n",
    "\n",
    "# B1 is unknown so I do not know what this is, there's no epilson on a fitted line"
   ]
  },
  {
   "cell_type": "code",
   "execution_count": 69,
   "metadata": {},
   "outputs": [],
   "source": [
    "## Fit the model to the data, identifying the fitted model.\n",
    "\n",
    "# Volume = 36.537 + 0.00218 (Income)\n",
    "\n",
    "# > linefitQ5 <- lm(Volume ~ Income) \n",
    "# > summary(linefitQ5)\n",
    "# Coefficients: \n",
    "#                          Estimate        Std. Error        t value         Pr(>|t|)    \n",
    "# (Intercept)       36.536631      25.997684      1.405         0.1769 \n",
    "# Income            0.002178         0.001199      1.817         0.0859"
   ]
  },
  {
   "cell_type": "code",
   "execution_count": 70,
   "metadata": {},
   "outputs": [],
   "source": [
    "## R2  = .155;  15.5% of the variation in monthly purchase volume in the sample can be accounted for \n",
    "# by the linear relationship with family income.\n",
    "\n",
    "# > summary(linefitQ5)$r.squared \n",
    "# [1] 0.1549827"
   ]
  },
  {
   "cell_type": "code",
   "execution_count": 71,
   "metadata": {},
   "outputs": [],
   "source": [
    "## s = 31.56; this is our estimate of the standard deviation of the error term ε, it is the standard deviation of \n",
    "# the points around the fitted regression line, a measure of the variation in monthly purchase volume that is \n",
    "# not captured by the linear relationship with family income.\n",
    "\n",
    "# > summary(linefitQ5)$sigma \n",
    "# [1] 31.55788"
   ]
  },
  {
   "cell_type": "code",
   "execution_count": 72,
   "metadata": {},
   "outputs": [],
   "source": [
    "# DO NOT USE\n",
    "# It is 85% certain that this range of values contains the true mean of B1.\n",
    "# There is a 8.5 out of 10 chance that B1 is present in the above interval.\n",
    "# There is an 85% chance that the true B1 will be captured by a sample within the range [0000 - 0000]\n",
    "\n",
    "# USE\n",
    "# We are 85% confident that this process will generate an interval containing the true value of B1.\n",
    "# 85% of the time this procedure will give us an interval that contains the parameter of B1."
   ]
  },
  {
   "cell_type": "code",
   "execution_count": 73,
   "metadata": {},
   "outputs": [],
   "source": [
    "# 85% CI = (0.000376, 0.00398).  There is a 85% probability of getting an interval that contains the true slope \n",
    "#(β1 as defined in Question 1) describing the linear relationship between monthly purchase volume and family \n",
    "# income as specified by the given model.\n",
    "\n",
    "# > confint(linefitQ5, level = .85) \n",
    " #                 7.5 %              92.5 %\n",
    "# (Intercept)     -2.5562848432    75.629547567\n",
    "# Income           0.0003755216      0.003980772"
   ]
  },
  {
   "cell_type": "code",
   "execution_count": 74,
   "metadata": {},
   "outputs": [
    {
     "name": "stderr",
     "output_type": "stream",
     "text": [
      "Your code contains a unicode char which cannot be displayed in your\n",
      "current locale and R will silently convert it to an escaped form when the\n",
      "R kernel executes this code. This can lead to subtle errors if you use\n",
      "such chars to do comparisons. For more information, please see\n",
      "https://github.com/IRkernel/repr/wiki/Problems-with-unicode-on-windows"
     ]
    }
   ],
   "source": [
    "# H0: β1 = 0; there is no linear relationship between monthly purchase volume and family income\n",
    "\n",
    "# HA: β1 ≠ 0; there is a linear relationship between monthly purchase volume and family income\n",
    "\n",
    "# p-value = .0859; There is an 8.6% chance of getting this sample result if in fact there were no linear \n",
    "#relationship between monthly purchase volume and family income.  You would only conclude a linear relationship \n",
    "# if the acceptable level of error in drawing this conclusion is greater than 0.0859.\n",
    "\n",
    "# > summary(linefitQ5)\n",
    "# Coefficients: \n",
    "#                          Estimate                 Std. Error         t value         Pr(>|t|)    \n",
    "# (Intercept)       36.536631           25.997684        1.405           0.1769 \n",
    "# Income              0.002178             0.001199          1.817           0.0859"
   ]
  },
  {
   "cell_type": "code",
   "execution_count": 75,
   "metadata": {},
   "outputs": [],
   "source": [
    "# this is the model we're trying to fit\n",
    "# a) y = B0 + B1(LS) + B2(HS) + B3(Age) + B4(Rooms) + B5(Baths) + B6(Garage) + E\n",
    "\n",
    "# b) p-value: 2.576e-08\n",
    "    # r2: Multiple R-squared:  0.8472\n",
    "# H0 for p-value: All B1 = B2 = B6 = 0; no relationship\n",
    "# Ha for p-value: There is a relationship w/ at least 1\n",
    "# interpretation: the probability of obtaining this model if there was no relationship between any of the variables\n",
    "# 85% of the variation in the appraised values of the houses is caused by the predictor variables \n",
    "\n",
    "# c. 95% C.I. for B1 = [124.86432506 - 459.5043570]\n",
    "\n",
    "# We are 95% confident that this process will generate an interval containing the true value of B1, the estimate of how much \n",
    "# appraised value changes based on the house's lot size\n",
    "\n",
    "# d.anova output\n",
    "# p = .007667 (this is a sequential test, relationship of Value and Age holding LotSize and HouseSize fixed)\n",
    "# H0: There is no relationship between Value & Age\n",
    "# Ha: There is a relationship between Value & Age\n",
    "\n",
    "# p = .03269 (there is relationship of Value and Age, holding all others fixed beyond others)\n",
    "\n",
    "# Residual standard error: 52.84\n",
    "\n",
    "# e. Relationship between Baths and Appraised Value\n",
    "# p-value = holding all others fixed .00523, Baths - Appraised Values PERIOD. \n",
    "# p-value (holding .73707\n",
    "\n",
    "#f H0: There is no relationship between the number of baths and a house's appraised value\n",
    "    # Ha: There is a relationship between the number of baths and a house's appraised value"
   ]
  },
  {
   "cell_type": "code",
   "execution_count": 76,
   "metadata": {},
   "outputs": [],
   "source": [
    "# LotSize    1.183e-07 relationship of Value and LotSize\n",
    "# HouseSize  7.839e-08 relationship of Value and HouseSize holding LotSize fixed\n",
    "# Age        0.007667 relationship of Value and Age, holding LotSize and HouseSize fixed\n",
    "# Rooms      0.232825 relationship of Value and Rooms, holding LotSize, HouseSize, and Age fixed\n",
    "# Baths      0.628486    \n",
    "# Garage     0.350359"
   ]
  },
  {
   "cell_type": "code",
   "execution_count": null,
   "metadata": {},
   "outputs": [],
   "source": []
  },
  {
   "cell_type": "code",
   "execution_count": null,
   "metadata": {},
   "outputs": [],
   "source": []
  },
  {
   "cell_type": "code",
   "execution_count": null,
   "metadata": {},
   "outputs": [],
   "source": []
  },
  {
   "cell_type": "code",
   "execution_count": null,
   "metadata": {},
   "outputs": [],
   "source": []
  },
  {
   "cell_type": "code",
   "execution_count": null,
   "metadata": {},
   "outputs": [],
   "source": []
  },
  {
   "cell_type": "code",
   "execution_count": 3,
   "metadata": {},
   "outputs": [],
   "source": [
    "houses <- read_excel(\"Values.xlsx\", na = \"NA\", col_names = TRUE)\n",
    "\n",
    "attach(houses)"
   ]
  },
  {
   "cell_type": "code",
   "execution_count": 4,
   "metadata": {},
   "outputs": [],
   "source": [
    "linefitHouses <- lm(AppraisedValue ~ LotSize + HouseSize + Age + Rooms + Baths + Garage)"
   ]
  },
  {
   "cell_type": "code",
   "execution_count": 5,
   "metadata": {},
   "outputs": [
    {
     "data": {
      "text/plain": [
       "\n",
       "Call:\n",
       "lm(formula = AppraisedValue ~ LotSize + HouseSize + Age + Rooms + \n",
       "    Baths + Garage)\n",
       "\n",
       "Residuals:\n",
       "     Min       1Q   Median       3Q      Max \n",
       "-103.793  -29.668    0.199   35.731  100.207 \n",
       "\n",
       "Coefficients:\n",
       "             Estimate Std. Error t value Pr(>|t|)   \n",
       "(Intercept)  83.06381   68.78871   1.208  0.23950   \n",
       "LotSize     292.18434   80.88338   3.612  0.00146 **\n",
       "HouseSize     0.10058    0.02796   3.597  0.00152 **\n",
       "Age          -1.25349    0.55150  -2.273  0.03269 * \n",
       "Rooms        10.68976    7.54185   1.417  0.16977   \n",
       "Baths         6.27865   18.47597   0.340  0.73707   \n",
       "Garage       15.97114   16.75384   0.953  0.35036   \n",
       "---\n",
       "Signif. codes:  0 '***' 0.001 '**' 0.01 '*' 0.05 '.' 0.1 ' ' 1\n",
       "\n",
       "Residual standard error: 52.84 on 23 degrees of freedom\n",
       "Multiple R-squared:  0.8472,\tAdjusted R-squared:  0.8074 \n",
       "F-statistic: 21.26 on 6 and 23 DF,  p-value: 2.576e-08\n"
      ]
     },
     "metadata": {},
     "output_type": "display_data"
    }
   ],
   "source": [
    "summary(linefitHouses)"
   ]
  },
  {
   "cell_type": "code",
   "execution_count": 6,
   "metadata": {},
   "outputs": [
    {
     "data": {
      "text/html": [
       "<table>\n",
       "<thead><tr><th></th><th scope=col>2.5 %</th><th scope=col>97.5 %</th></tr></thead>\n",
       "<tbody>\n",
       "\t<tr><th scope=row>(Intercept)</th><td>-59.23647111</td><td>225.3640888 </td></tr>\n",
       "\t<tr><th scope=row>LotSize</th><td>124.86432506</td><td>459.5043570 </td></tr>\n",
       "\t<tr><th scope=row>HouseSize</th><td>  0.04273679</td><td>  0.1584248 </td></tr>\n",
       "\t<tr><th scope=row>Age</th><td> -2.39435315</td><td> -0.1126329 </td></tr>\n",
       "\t<tr><th scope=row>Rooms</th><td> -4.91173374</td><td> 26.2912606 </td></tr>\n",
       "\t<tr><th scope=row>Baths</th><td>-31.94180328</td><td> 44.4991111 </td></tr>\n",
       "\t<tr><th scope=row>Garage</th><td>-18.68681193</td><td> 50.6290935 </td></tr>\n",
       "</tbody>\n",
       "</table>\n"
      ],
      "text/latex": [
       "\\begin{tabular}{r|ll}\n",
       "  & 2.5 \\% & 97.5 \\%\\\\\n",
       "\\hline\n",
       "\t(Intercept) & -59.23647111 & 225.3640888 \\\\\n",
       "\tLotSize & 124.86432506 & 459.5043570 \\\\\n",
       "\tHouseSize &   0.04273679 &   0.1584248 \\\\\n",
       "\tAge &  -2.39435315 &  -0.1126329 \\\\\n",
       "\tRooms &  -4.91173374 &  26.2912606 \\\\\n",
       "\tBaths & -31.94180328 &  44.4991111 \\\\\n",
       "\tGarage & -18.68681193 &  50.6290935 \\\\\n",
       "\\end{tabular}\n"
      ],
      "text/markdown": [
       "\n",
       "| <!--/--> | 2.5 % | 97.5 % | \n",
       "|---|---|---|---|---|---|---|\n",
       "| (Intercept) | -59.23647111 | 225.3640888  | \n",
       "| LotSize | 124.86432506 | 459.5043570  | \n",
       "| HouseSize |   0.04273679 |   0.1584248  | \n",
       "| Age |  -2.39435315 |  -0.1126329  | \n",
       "| Rooms |  -4.91173374 |  26.2912606  | \n",
       "| Baths | -31.94180328 |  44.4991111  | \n",
       "| Garage | -18.68681193 |  50.6290935  | \n",
       "\n",
       "\n"
      ],
      "text/plain": [
       "            2.5 %        97.5 %     \n",
       "(Intercept) -59.23647111 225.3640888\n",
       "LotSize     124.86432506 459.5043570\n",
       "HouseSize     0.04273679   0.1584248\n",
       "Age          -2.39435315  -0.1126329\n",
       "Rooms        -4.91173374  26.2912606\n",
       "Baths       -31.94180328  44.4991111\n",
       "Garage      -18.68681193  50.6290935"
      ]
     },
     "metadata": {},
     "output_type": "display_data"
    }
   ],
   "source": [
    "confint(linefitHouses, level = .95)"
   ]
  },
  {
   "cell_type": "code",
   "execution_count": 7,
   "metadata": {},
   "outputs": [
    {
     "name": "stdout",
     "output_type": "stream",
     "text": [
      "Analysis of Variance Table\n",
      "\n",
      "Response: AppraisedValue\n",
      "          Df Sum Sq Mean Sq F value    Pr(>F)    \n",
      "LotSize    1 158435  158435 56.7543 1.183e-07 ***\n",
      "HouseSize  1 166428  166428 59.6178 7.839e-08 ***\n",
      "Age        1  23836   23836  8.5387  0.007667 ** \n",
      "Rooms      1   4192    4192  1.5016  0.232825    \n",
      "Baths      1    671     671  0.2405  0.628486    \n",
      "Garage     1   2537    2537  0.9087  0.350359    \n",
      "Residuals 23  64206    2792                      \n",
      "---\n",
      "Signif. codes:  0 '***' 0.001 '**' 0.01 '*' 0.05 '.' 0.1 ' ' 1\n"
     ]
    }
   ],
   "source": [
    "print(anova(linefitHouses))"
   ]
  },
  {
   "cell_type": "code",
   "execution_count": 8,
   "metadata": {},
   "outputs": [
    {
     "data": {
      "text/plain": [
       "\n",
       "Call:\n",
       "lm(formula = AppraisedValue ~ Garage + Baths + Rooms + Age + \n",
       "    HouseSize + LotSize)\n",
       "\n",
       "Residuals:\n",
       "     Min       1Q   Median       3Q      Max \n",
       "-103.793  -29.668    0.199   35.731  100.207 \n",
       "\n",
       "Coefficients:\n",
       "             Estimate Std. Error t value Pr(>|t|)   \n",
       "(Intercept)  83.06381   68.78871   1.208  0.23950   \n",
       "Garage       15.97114   16.75384   0.953  0.35036   \n",
       "Baths         6.27865   18.47597   0.340  0.73707   \n",
       "Rooms        10.68976    7.54185   1.417  0.16977   \n",
       "Age          -1.25349    0.55150  -2.273  0.03269 * \n",
       "HouseSize     0.10058    0.02796   3.597  0.00152 **\n",
       "LotSize     292.18434   80.88338   3.612  0.00146 **\n",
       "---\n",
       "Signif. codes:  0 '***' 0.001 '**' 0.01 '*' 0.05 '.' 0.1 ' ' 1\n",
       "\n",
       "Residual standard error: 52.84 on 23 degrees of freedom\n",
       "Multiple R-squared:  0.8472,\tAdjusted R-squared:  0.8074 \n",
       "F-statistic: 21.26 on 6 and 23 DF,  p-value: 2.576e-08\n"
      ]
     },
     "metadata": {},
     "output_type": "display_data"
    }
   ],
   "source": [
    "linefitHousesr <- lm(AppraisedValue ~ Garage + Baths + Rooms + Age + HouseSize + LotSize)\n",
    "summary(linefitHousesr)"
   ]
  },
  {
   "cell_type": "code",
   "execution_count": 9,
   "metadata": {},
   "outputs": [
    {
     "data": {
      "image/png": "[encoded data removed]",
      "text/plain": [
       "plot without title"
      ]
     },
     "metadata": {},
     "output_type": "display_data"
    }
   ],
   "source": [
    "## this is basura\n",
    "\n",
    "plot(AppraisedValue, Baths, pch = 16 ,  xlab = \"Baths\",  ylab = \"Appraised Value\")\n",
    "abline(lm(Baths ~ AppraisedValue), lty=2,  col= 'red')"
   ]
  },
  {
   "cell_type": "code",
   "execution_count": 10,
   "metadata": {},
   "outputs": [
    {
     "data": {
      "text/plain": [
       "\n",
       "Call:\n",
       "lm(formula = AppraisedValue ~ Baths)\n",
       "\n",
       "Residuals:\n",
       "    Min      1Q  Median      3Q     Max \n",
       "-204.22  -56.00  -21.05   46.49  316.86 \n",
       "\n",
       "Coefficients:\n",
       "            Estimate Std. Error t value Pr(>|t|)   \n",
       "(Intercept)   217.71      60.06   3.625  0.00114 **\n",
       "Baths          86.07      28.42   3.029  0.00523 **\n",
       "---\n",
       "Signif. codes:  0 '***' 0.001 '**' 0.01 '*' 0.05 '.' 0.1 ' ' 1\n",
       "\n",
       "Residual standard error: 106.3 on 28 degrees of freedom\n",
       "Multiple R-squared:  0.2468,\tAdjusted R-squared:  0.2198 \n",
       "F-statistic: 9.172 on 1 and 28 DF,  p-value: 0.005233\n"
      ]
     },
     "metadata": {},
     "output_type": "display_data"
    }
   ],
   "source": [
    "linefitbath <- lm(AppraisedValue ~ Baths)\n",
    "summary(linefitbath)"
   ]
  },
  {
   "cell_type": "code",
   "execution_count": 11,
   "metadata": {},
   "outputs": [
    {
     "data": {
      "text/html": [
       "<table>\n",
       "<thead><tr><th></th><th scope=col>LotSize</th><th scope=col>HouseSize</th><th scope=col>Age</th><th scope=col>Rooms</th><th scope=col>Baths</th><th scope=col>Garage</th></tr></thead>\n",
       "<tbody>\n",
       "\t<tr><th scope=row>LotSize</th><td> 1.00000000</td><td> 0.4177096 </td><td>-0.20264831</td><td> 0.06618112</td><td> 0.09200025</td><td> 0.27196859</td></tr>\n",
       "\t<tr><th scope=row>HouseSize</th><td> 0.41770962</td><td> 1.0000000 </td><td>-0.41040532</td><td> 0.39957251</td><td> 0.52131437</td><td> 0.57134322</td></tr>\n",
       "\t<tr><th scope=row>Age</th><td>-0.20264831</td><td>-0.4104053 </td><td> 1.00000000</td><td>-0.00858975</td><td>-0.51086188</td><td>-0.53206415</td></tr>\n",
       "\t<tr><th scope=row>Rooms</th><td> 0.06618112</td><td> 0.3995725 </td><td>-0.00858975</td><td> 1.00000000</td><td> 0.13345696</td><td> 0.02879164</td></tr>\n",
       "\t<tr><th scope=row>Baths</th><td> 0.09200025</td><td> 0.5213144 </td><td>-0.51086188</td><td> 0.13345696</td><td> 1.00000000</td><td> 0.49311367</td></tr>\n",
       "\t<tr><th scope=row>Garage</th><td> 0.27196859</td><td> 0.5713432 </td><td>-0.53206415</td><td> 0.02879164</td><td> 0.49311367</td><td> 1.00000000</td></tr>\n",
       "</tbody>\n",
       "</table>\n"
      ],
      "text/latex": [
       "\\begin{tabular}{r|llllll}\n",
       "  & LotSize & HouseSize & Age & Rooms & Baths & Garage\\\\\n",
       "\\hline\n",
       "\tLotSize &  1.00000000 &  0.4177096  & -0.20264831 &  0.06618112 &  0.09200025 &  0.27196859\\\\\n",
       "\tHouseSize &  0.41770962 &  1.0000000  & -0.41040532 &  0.39957251 &  0.52131437 &  0.57134322\\\\\n",
       "\tAge & -0.20264831 & -0.4104053  &  1.00000000 & -0.00858975 & -0.51086188 & -0.53206415\\\\\n",
       "\tRooms &  0.06618112 &  0.3995725  & -0.00858975 &  1.00000000 &  0.13345696 &  0.02879164\\\\\n",
       "\tBaths &  0.09200025 &  0.5213144  & -0.51086188 &  0.13345696 &  1.00000000 &  0.49311367\\\\\n",
       "\tGarage &  0.27196859 &  0.5713432  & -0.53206415 &  0.02879164 &  0.49311367 &  1.00000000\\\\\n",
       "\\end{tabular}\n"
      ],
      "text/markdown": [
       "\n",
       "| <!--/--> | LotSize | HouseSize | Age | Rooms | Baths | Garage | \n",
       "|---|---|---|---|---|---|\n",
       "| LotSize |  1.00000000 |  0.4177096  | -0.20264831 |  0.06618112 |  0.09200025 |  0.27196859 | \n",
       "| HouseSize |  0.41770962 |  1.0000000  | -0.41040532 |  0.39957251 |  0.52131437 |  0.57134322 | \n",
       "| Age | -0.20264831 | -0.4104053  |  1.00000000 | -0.00858975 | -0.51086188 | -0.53206415 | \n",
       "| Rooms |  0.06618112 |  0.3995725  | -0.00858975 |  1.00000000 |  0.13345696 |  0.02879164 | \n",
       "| Baths |  0.09200025 |  0.5213144  | -0.51086188 |  0.13345696 |  1.00000000 |  0.49311367 | \n",
       "| Garage |  0.27196859 |  0.5713432  | -0.53206415 |  0.02879164 |  0.49311367 |  1.00000000 | \n",
       "\n",
       "\n"
      ],
      "text/plain": [
       "          LotSize     HouseSize  Age         Rooms       Baths      \n",
       "LotSize    1.00000000  0.4177096 -0.20264831  0.06618112  0.09200025\n",
       "HouseSize  0.41770962  1.0000000 -0.41040532  0.39957251  0.52131437\n",
       "Age       -0.20264831 -0.4104053  1.00000000 -0.00858975 -0.51086188\n",
       "Rooms      0.06618112  0.3995725 -0.00858975  1.00000000  0.13345696\n",
       "Baths      0.09200025  0.5213144 -0.51086188  0.13345696  1.00000000\n",
       "Garage     0.27196859  0.5713432 -0.53206415  0.02879164  0.49311367\n",
       "          Garage     \n",
       "LotSize    0.27196859\n",
       "HouseSize  0.57134322\n",
       "Age       -0.53206415\n",
       "Rooms      0.02879164\n",
       "Baths      0.49311367\n",
       "Garage     1.00000000"
      ]
     },
     "metadata": {},
     "output_type": "display_data"
    }
   ],
   "source": [
    "cor(houses[,3:8])"
   ]
  },
  {
   "cell_type": "code",
   "execution_count": 86,
   "metadata": {},
   "outputs": [],
   "source": [
    "# The more correlated they (if they are above .7, i cannot throw them out)\n",
    "# I can't hold them fixed if there is too much colinearity and it affects my ability to make an accurate prediction\n",
    "# As I move one unit of HouseSize, the other factors will move as well\n",
    "# I have high colinearity in things in my model, then I want to remove them to make sure they are not\n",
    "# interefering with my model\n",
    "# |.7| is garbage, toss it from the model"
   ]
  },
  {
   "cell_type": "code",
   "execution_count": null,
   "metadata": {},
   "outputs": [],
   "source": []
  },
  {
   "cell_type": "code",
   "execution_count": 12,
   "metadata": {},
   "outputs": [
    {
     "data": {
      "image/png": "[encoded data removed]",
      "text/plain": [
       "plot without title"
      ]
     },
     "metadata": {},
     "output_type": "display_data"
    }
   ],
   "source": [
    "plot(AppraisedValue, LotSize, pch = 16 ,  xlab = \"LotSize\",  ylab = \"Appraised Value\")\n",
    "abline(lm(LotSize ~ AppraisedValue), lty=2,  col= 'red')"
   ]
  },
  {
   "cell_type": "code",
   "execution_count": 13,
   "metadata": {},
   "outputs": [
    {
     "data": {
      "image/png": "[encoded data removed]",
      "text/plain": [
       "plot without title"
      ]
     },
     "metadata": {},
     "output_type": "display_data"
    }
   ],
   "source": [
    "plot(AppraisedValue, HouseSize, pch = 16 ,  xlab = \"HouseSize\",  ylab = \"Appraised Value\")\n",
    "abline(lm(HouseSize ~ AppraisedValue), lty=2,  col= 'red')"
   ]
  },
  {
   "cell_type": "code",
   "execution_count": 14,
   "metadata": {},
   "outputs": [
    {
     "data": {
      "image/png": "[encoded data removed]",
      "text/plain": [
       "plot without title"
      ]
     },
     "metadata": {},
     "output_type": "display_data"
    }
   ],
   "source": [
    "plot(AppraisedValue, Age, pch = 16 ,  xlab = \"Age\",  ylab = \"Appraised Value\")\n",
    "abline(lm(Age ~ AppraisedValue), lty=2,  col= 'red')"
   ]
  },
  {
   "cell_type": "code",
   "execution_count": 15,
   "metadata": {},
   "outputs": [
    {
     "data": {
      "text/plain": [
       "\n",
       "Call:\n",
       "lm(formula = AppraisedValue ~ LotSize + HouseSize + Age + Rooms + \n",
       "    Garage)\n",
       "\n",
       "Residuals:\n",
       "     Min       1Q   Median       3Q      Max \n",
       "-100.320  -30.285    2.373   37.549   99.067 \n",
       "\n",
       "Coefficients:\n",
       "            Estimate Std. Error t value Pr(>|t|)    \n",
       "(Intercept)  93.5166    60.3841   1.549 0.134542    \n",
       "LotSize     286.7124    77.7901   3.686 0.001161 ** \n",
       "HouseSize     0.1036     0.0260   3.985 0.000547 ***\n",
       "Age          -1.3123     0.5139  -2.554 0.017422 *  \n",
       "Rooms        10.6438     7.4004   1.438 0.163269    \n",
       "Garage       16.8365    16.2512   1.036 0.310521    \n",
       "---\n",
       "Signif. codes:  0 '***' 0.001 '**' 0.01 '*' 0.05 '.' 0.1 ' ' 1\n",
       "\n",
       "Residual standard error: 51.85 on 24 degrees of freedom\n",
       "Multiple R-squared:  0.8465,\tAdjusted R-squared:  0.8145 \n",
       "F-statistic: 26.46 on 5 and 24 DF,  p-value: 4.946e-09\n"
      ]
     },
     "metadata": {},
     "output_type": "display_data"
    }
   ],
   "source": [
    "linefit3 <- lm(AppraisedValue ~ LotSize + HouseSize + Age + Rooms + Garage)\n",
    "summary(linefit3)"
   ]
  },
  {
   "cell_type": "code",
   "execution_count": 91,
   "metadata": {},
   "outputs": [],
   "source": [
    "# use step wise regression\n",
    "# maximize R2\n",
    "# minimize S - remove variance in the model\n",
    "# good residuals - they don't violate residuals assumptions\n",
    "# logical relationships"
   ]
  },
  {
   "cell_type": "code",
   "execution_count": 16,
   "metadata": {},
   "outputs": [
    {
     "data": {
      "text/plain": [
       "\n",
       "Call:\n",
       "lm(formula = AppraisedValue ~ LotSize + HouseSize + Age + Rooms)\n",
       "\n",
       "Residuals:\n",
       "     Min       1Q   Median       3Q      Max \n",
       "-105.587  -41.783    1.241   35.946   84.754 \n",
       "\n",
       "Coefficients:\n",
       "             Estimate Std. Error t value Pr(>|t|)    \n",
       "(Intercept) 102.95667   59.78017   1.722  0.09737 .  \n",
       "LotSize     287.35749   77.90157   3.689  0.00110 ** \n",
       "HouseSize     0.11607    0.02309   5.027 3.48e-05 ***\n",
       "Age          -1.50801    0.47859  -3.151  0.00419 ** \n",
       "Rooms         9.03443    7.24610   1.247  0.22403    \n",
       "---\n",
       "Signif. codes:  0 '***' 0.001 '**' 0.01 '*' 0.05 '.' 0.1 ' ' 1\n",
       "\n",
       "Residual standard error: 51.93 on 25 degrees of freedom\n",
       "Multiple R-squared:  0.8396,\tAdjusted R-squared:  0.8139 \n",
       "F-statistic: 32.72 on 4 and 25 DF,  p-value: 1.335e-09\n"
      ]
     },
     "metadata": {},
     "output_type": "display_data"
    }
   ],
   "source": [
    "linefit3 <- lm(AppraisedValue ~ LotSize + HouseSize + Age + Rooms)\n",
    "summary(linefit3)"
   ]
  },
  {
   "cell_type": "code",
   "execution_count": 17,
   "metadata": {},
   "outputs": [
    {
     "data": {
      "text/plain": [
       "\n",
       "Call:\n",
       "lm(formula = AppraisedValue ~ LotSize + HouseSize + Age)\n",
       "\n",
       "Residuals:\n",
       "    Min      1Q  Median      3Q     Max \n",
       "-117.80  -36.08   12.82   30.57   98.98 \n",
       "\n",
       "Coefficients:\n",
       "             Estimate Std. Error t value Pr(>|t|)    \n",
       "(Intercept) 136.79404   53.82964   2.541  0.01735 *  \n",
       "LotSize     276.08764   78.19613   3.531  0.00157 ** \n",
       "HouseSize     0.12882    0.02092   6.157 1.65e-06 ***\n",
       "Age          -1.39893    0.47552  -2.942  0.00677 ** \n",
       "---\n",
       "Signif. codes:  0 '***' 0.001 '**' 0.01 '*' 0.05 '.' 0.1 ' ' 1\n",
       "\n",
       "Residual standard error: 52.48 on 26 degrees of freedom\n",
       "Multiple R-squared:  0.8296,\tAdjusted R-squared:   0.81 \n",
       "F-statistic:  42.2 on 3 and 26 DF,  p-value: 3.911e-10\n"
      ]
     },
     "metadata": {},
     "output_type": "display_data"
    }
   ],
   "source": [
    "linefit3 <- lm(AppraisedValue ~ LotSize + HouseSize + Age)\n",
    "summary(linefit3)"
   ]
  },
  {
   "cell_type": "code",
   "execution_count": 18,
   "metadata": {},
   "outputs": [
    {
     "data": {
      "text/plain": [
       "\n",
       "Call:\n",
       "lm(formula = AppraisedValue ~ LotSize + HouseSize)\n",
       "\n",
       "Residuals:\n",
       "     Min       1Q   Median       3Q      Max \n",
       "-154.626  -19.157    0.078   32.528  134.022 \n",
       "\n",
       "Coefficients:\n",
       "             Estimate Std. Error t value Pr(>|t|)    \n",
       "(Intercept)  20.20904   41.27293   0.490  0.62834    \n",
       "LotSize     284.75545   88.52728   3.217  0.00336 ** \n",
       "HouseSize     0.15136    0.02206   6.862 2.26e-07 ***\n",
       "---\n",
       "Signif. codes:  0 '***' 0.001 '**' 0.01 '*' 0.05 '.' 0.1 ' ' 1\n",
       "\n",
       "Residual standard error: 59.46 on 27 degrees of freedom\n",
       "Multiple R-squared:  0.7729,\tAdjusted R-squared:  0.7561 \n",
       "F-statistic: 45.95 on 2 and 27 DF,  p-value: 2.034e-09\n"
      ]
     },
     "metadata": {},
     "output_type": "display_data"
    }
   ],
   "source": [
    "linefit3 <- lm(AppraisedValue ~ LotSize + HouseSize)\n",
    "summary(linefit3)"
   ]
  },
  {
   "cell_type": "code",
   "execution_count": 19,
   "metadata": {},
   "outputs": [
    {
     "data": {
      "text/plain": [
       "\n",
       "Call:\n",
       "lm(formula = AppraisedValue ~ LotSize)\n",
       "\n",
       "Residuals:\n",
       "    Min      1Q  Median      3Q     Max \n",
       "-186.33  -43.39  -12.63   25.88  308.47 \n",
       "\n",
       "Coefficients:\n",
       "            Estimate Std. Error t value Pr(>|t|)    \n",
       "(Intercept)   257.22      36.74   7.001  1.3e-07 ***\n",
       "LotSize       538.49     130.83   4.116 0.000308 ***\n",
       "---\n",
       "Signif. codes:  0 '***' 0.001 '**' 0.01 '*' 0.05 '.' 0.1 ' ' 1\n",
       "\n",
       "Residual standard error: 96.71 on 28 degrees of freedom\n",
       "Multiple R-squared:  0.377,\tAdjusted R-squared:  0.3547 \n",
       "F-statistic: 16.94 on 1 and 28 DF,  p-value: 0.0003078\n"
      ]
     },
     "metadata": {},
     "output_type": "display_data"
    }
   ],
   "source": [
    "linefit3 <- lm(AppraisedValue ~ LotSize)\n",
    "summary(linefit3)"
   ]
  },
  {
   "cell_type": "code",
   "execution_count": null,
   "metadata": {},
   "outputs": [],
   "source": []
  },
  {
   "cell_type": "code",
   "execution_count": null,
   "metadata": {},
   "outputs": [],
   "source": []
  },
  {
   "cell_type": "code",
   "execution_count": null,
   "metadata": {},
   "outputs": [],
   "source": []
  },
  {
   "cell_type": "code",
   "execution_count": null,
   "metadata": {},
   "outputs": [],
   "source": [
    "# Simple is easier\n",
    "# Make a judgment call\n",
    "# get k, R2, s, highest p-value for all the different models\n",
    "\n",
    "## I PICKED THIS MODEL WITHOUT KNOWING A SINGLE THING ON WHY THIS SHOULD WORK\n",
    "## ANALYSIS IS ALL IN MY MIND"
   ]
  },
  {
   "cell_type": "code",
   "execution_count": 20,
   "metadata": {},
   "outputs": [
    {
     "ename": "ERROR",
     "evalue": "Error in xy.coords(x, y, xlabel, ylabel, log): object 'PriceDif' not found\n",
     "output_type": "error",
     "traceback": [
      "Error in xy.coords(x, y, xlabel, ylabel, log): object 'PriceDif' not found\nTraceback:\n",
      "1. plot(AppraisedValue, PriceDif, pch = 16, xlab = \"PriceDif\", ylab = \"Demand\")",
      "2. plot.default(AppraisedValue, PriceDif, pch = 16, xlab = \"PriceDif\", \n .     ylab = \"Demand\")",
      "3. xy.coords(x, y, xlabel, ylabel, log)"
     ]
    }
   ],
   "source": [
    "plot(AppraisedValue, PriceDif, pch = 16 ,  xlab = \"PriceDif\",  ylab = \"Demand\")\n",
    "abline(lm(AppraisedValue ~ HouseSize + LotSize + Age), lty=2,  col= 'red')"
   ]
  },
  {
   "cell_type": "code",
   "execution_count": null,
   "metadata": {},
   "outputs": [],
   "source": [
    "# R.S.\n",
    "# Stability\n",
    "# E ~ N(O, o2) for all {Xi}"
   ]
  },
  {
   "cell_type": "code",
   "execution_count": 21,
   "metadata": {},
   "outputs": [
    {
     "data": {
      "image/png": "[encoded data removed]",
      "text/plain": [
       "Plot with title \"Standardized Residual Plot\""
      ]
     },
     "metadata": {},
     "output_type": "display_data"
    }
   ],
   "source": [
    "linefit3 <- lm(AppraisedValue ~ HouseSize + LotSize + Age)\n",
    "linefit3.stres <- rstandard(linefit3)\n",
    "plot(linefit3$fitted.values, linefit3.stres, pch = 16 ,  main = \"Standardized Residual Plot\",  \n",
    "     xlab = \"Fitted Appraised Value\",  ylab = \"Standardized Residuals\")\n",
    "abline(0,0,  lty=2,  col=\"red\")"
   ]
  },
  {
   "cell_type": "code",
   "execution_count": 22,
   "metadata": {},
   "outputs": [
    {
     "data": {
      "image/png": "[encoded data removed]",
      "text/plain": [
       "Plot with title \"Histogram of linefit3.stres\""
      ]
     },
     "metadata": {},
     "output_type": "display_data"
    }
   ],
   "source": [
    "h <- hist(linefit3.stres)\n",
    "x <- linefit3.stres\n",
    "xfit <- seq(min(x), max(x), length = 50 )\n",
    "yfit <- dnorm(xfit, mean =mean(x), sd =sd(x))\n",
    "yfit <- yfit*diff(h$mids[1:2])*length(x)\n",
    "lines(xfit, yfit, col=\"blue\")"
   ]
  },
  {
   "cell_type": "code",
   "execution_count": 23,
   "metadata": {},
   "outputs": [
    {
     "data": {
      "image/png": "[encoded data removed]",
      "text/plain": [
       "Plot with title \"Normal Probability Plot\""
      ]
     },
     "metadata": {},
     "output_type": "display_data"
    }
   ],
   "source": [
    "qqnorm(linefit3.stres, main = \"Normal Probability Plot\",  xlab = \"Normal Scores\",  ylab = \"Standardized Residuals\")\n",
    "qqline(linefit3.stres, col = \"red\")"
   ]
  },
  {
   "cell_type": "code",
   "execution_count": 101,
   "metadata": {},
   "outputs": [
    {
     "data": {
      "text/plain": [
       "\n",
       "\tShapiro-Wilk normality test\n",
       "\n",
       "data:  linefit3.stres\n",
       "W = 0.96723, p-value = 0.4665\n"
      ]
     },
     "metadata": {},
     "output_type": "display_data"
    }
   ],
   "source": [
    "shapiro.test(linefit3.stres)"
   ]
  },
  {
   "cell_type": "code",
   "execution_count": null,
   "metadata": {},
   "outputs": [],
   "source": []
  },
  {
   "cell_type": "code",
   "execution_count": null,
   "metadata": {},
   "outputs": [],
   "source": [
    "# R 7.2 Detergent"
   ]
  },
  {
   "cell_type": "code",
   "execution_count": 24,
   "metadata": {},
   "outputs": [],
   "source": [
    "library(readxl)\n",
    "fresh <- read_excel(\"Fresh.xlsx\", na = \"NA\", col_names = TRUE)\n",
    "\n",
    "attach(fresh)"
   ]
  },
  {
   "cell_type": "code",
   "execution_count": 25,
   "metadata": {},
   "outputs": [
    {
     "data": {
      "text/html": [
       "<table>\n",
       "<thead><tr><th scope=col>Price</th><th scope=col>IndPrice</th><th scope=col>AdvExp</th><th scope=col>PriceDif</th><th scope=col>Demand</th></tr></thead>\n",
       "<tbody>\n",
       "\t<tr><td>3.85 </td><td>3.80 </td><td>5.50 </td><td>-0.05</td><td>7.38 </td></tr>\n",
       "\t<tr><td>3.75 </td><td>4.00 </td><td>6.75 </td><td> 0.25</td><td>8.51 </td></tr>\n",
       "\t<tr><td>3.70 </td><td>4.30 </td><td>7.25 </td><td> 0.60</td><td>9.52 </td></tr>\n",
       "\t<tr><td>3.70 </td><td>3.70 </td><td>5.50 </td><td> 0.00</td><td>7.50 </td></tr>\n",
       "\t<tr><td>3.60 </td><td>3.85 </td><td>7.00 </td><td> 0.25</td><td>9.33 </td></tr>\n",
       "\t<tr><td>3.60 </td><td>3.80 </td><td>6.50 </td><td> 0.20</td><td>8.28 </td></tr>\n",
       "</tbody>\n",
       "</table>\n"
      ],
      "text/latex": [
       "\\begin{tabular}{r|lllll}\n",
       " Price & IndPrice & AdvExp & PriceDif & Demand\\\\\n",
       "\\hline\n",
       "\t 3.85  & 3.80  & 5.50  & -0.05 & 7.38 \\\\\n",
       "\t 3.75  & 4.00  & 6.75  &  0.25 & 8.51 \\\\\n",
       "\t 3.70  & 4.30  & 7.25  &  0.60 & 9.52 \\\\\n",
       "\t 3.70  & 3.70  & 5.50  &  0.00 & 7.50 \\\\\n",
       "\t 3.60  & 3.85  & 7.00  &  0.25 & 9.33 \\\\\n",
       "\t 3.60  & 3.80  & 6.50  &  0.20 & 8.28 \\\\\n",
       "\\end{tabular}\n"
      ],
      "text/markdown": [
       "\n",
       "Price | IndPrice | AdvExp | PriceDif | Demand | \n",
       "|---|---|---|---|---|---|\n",
       "| 3.85  | 3.80  | 5.50  | -0.05 | 7.38  | \n",
       "| 3.75  | 4.00  | 6.75  |  0.25 | 8.51  | \n",
       "| 3.70  | 4.30  | 7.25  |  0.60 | 9.52  | \n",
       "| 3.70  | 3.70  | 5.50  |  0.00 | 7.50  | \n",
       "| 3.60  | 3.85  | 7.00  |  0.25 | 9.33  | \n",
       "| 3.60  | 3.80  | 6.50  |  0.20 | 8.28  | \n",
       "\n",
       "\n"
      ],
      "text/plain": [
       "  Price IndPrice AdvExp PriceDif Demand\n",
       "1 3.85  3.80     5.50   -0.05    7.38  \n",
       "2 3.75  4.00     6.75    0.25    8.51  \n",
       "3 3.70  4.30     7.25    0.60    9.52  \n",
       "4 3.70  3.70     5.50    0.00    7.50  \n",
       "5 3.60  3.85     7.00    0.25    9.33  \n",
       "6 3.60  3.80     6.50    0.20    8.28  "
      ]
     },
     "metadata": {},
     "output_type": "display_data"
    }
   ],
   "source": [
    "head(fresh)"
   ]
  },
  {
   "cell_type": "code",
   "execution_count": 46,
   "metadata": {},
   "outputs": [],
   "source": [
    "linefitfresh <- lm(Demand ~ Price + IndPrice + AdvExp)"
   ]
  },
  {
   "cell_type": "code",
   "execution_count": 47,
   "metadata": {},
   "outputs": [
    {
     "data": {
      "text/plain": [
       "\n",
       "Call:\n",
       "lm(formula = Demand ~ Price + IndPrice + AdvExp)\n",
       "\n",
       "Residuals:\n",
       "     Min       1Q   Median       3Q      Max \n",
       "-0.41065 -0.11562 -0.00984  0.13466  0.51361 \n",
       "\n",
       "Coefficients:\n",
       "            Estimate Std. Error t value Pr(>|t|)    \n",
       "(Intercept)   7.5891     2.4450   3.104 0.004567 ** \n",
       "Price        -2.3577     0.6379  -3.696 0.001028 ** \n",
       "IndPrice      1.6122     0.2954   5.459 1.01e-05 ***\n",
       "AdvExp        0.5012     0.1259   3.981 0.000491 ***\n",
       "---\n",
       "Signif. codes:  0 '***' 0.001 '**' 0.01 '*' 0.05 '.' 0.1 ' ' 1\n",
       "\n",
       "Residual standard error: 0.2347 on 26 degrees of freedom\n",
       "Multiple R-squared:  0.8936,\tAdjusted R-squared:  0.8813 \n",
       "F-statistic:  72.8 on 3 and 26 DF,  p-value: 8.883e-13\n"
      ]
     },
     "metadata": {},
     "output_type": "display_data"
    }
   ],
   "source": [
    "summary(linefitfresh)"
   ]
  },
  {
   "cell_type": "code",
   "execution_count": 48,
   "metadata": {},
   "outputs": [
    {
     "data": {
      "text/plain": [
       "\n",
       "Call:\n",
       "lm(formula = Demand ~ Price + IndPrice)\n",
       "\n",
       "Residuals:\n",
       "     Min       1Q   Median       3Q      Max \n",
       "-0.54823 -0.19811  0.00107  0.18421  0.64891 \n",
       "\n",
       "Coefficients:\n",
       "            Estimate Std. Error t value Pr(>|t|)    \n",
       "(Intercept)  13.6082     2.3924   5.688 4.83e-06 ***\n",
       "Price        -4.0086     0.6036  -6.641 3.98e-07 ***\n",
       "IndPrice      2.4686     0.2520   9.796 2.21e-10 ***\n",
       "---\n",
       "Signif. codes:  0 '***' 0.001 '**' 0.01 '*' 0.05 '.' 0.1 ' ' 1\n",
       "\n",
       "Residual standard error: 0.2922 on 27 degrees of freedom\n",
       "Multiple R-squared:  0.8288,\tAdjusted R-squared:  0.8161 \n",
       "F-statistic: 65.33 on 2 and 27 DF,  p-value: 4.507e-11\n"
      ]
     },
     "metadata": {},
     "output_type": "display_data"
    }
   ],
   "source": [
    "linefitfresh2 <- lm(Demand ~ Price + IndPrice)\n",
    "summary(linefitfresh2)"
   ]
  },
  {
   "cell_type": "code",
   "execution_count": 49,
   "metadata": {},
   "outputs": [
    {
     "data": {
      "text/plain": [
       "\n",
       "Call:\n",
       "lm(formula = Demand ~ Price)\n",
       "\n",
       "Residuals:\n",
       "     Min       1Q   Median       3Q      Max \n",
       "-1.05949 -0.50562 -0.04312  0.52938  1.01325 \n",
       "\n",
       "Coefficients:\n",
       "            Estimate Std. Error t value Pr(>|t|)    \n",
       "(Intercept)   21.624      4.711   4.590  8.5e-05 ***\n",
       "Price         -3.545      1.261  -2.812   0.0089 ** \n",
       "---\n",
       "Signif. codes:  0 '***' 0.001 '**' 0.01 '*' 0.05 '.' 0.1 ' ' 1\n",
       "\n",
       "Residual standard error: 0.6122 on 28 degrees of freedom\n",
       "Multiple R-squared:  0.2202,\tAdjusted R-squared:  0.1923 \n",
       "F-statistic: 7.905 on 1 and 28 DF,  p-value: 0.008902\n"
      ]
     },
     "metadata": {},
     "output_type": "display_data"
    }
   ],
   "source": [
    "linefitfresh2 <- lm(Demand ~ Price)\n",
    "summary(linefitfresh2)"
   ]
  },
  {
   "cell_type": "code",
   "execution_count": null,
   "metadata": {},
   "outputs": [],
   "source": [
    "# a) Demand = B0 + B1(Price) + B2(IndPrice) + B3(AdExp) + E\n",
    "\n",
    "# b.\n",
    "\n",
    "# c. \n",
    "# For each additional $1 that the average industry price goes up, the demand of bottles goes up by 1.6122 * 100 (160 bottles)\n",
    "# Price        -2.3577\n",
    "# For each additional $1 increase in our price, the demand goes down an average of 2.3577 * 100 (235 bottles)\n",
    "# Price        -2.3577\n",
    "# B0 is meaningless, this would be the demand for something that is free which is not happening\n",
    "\n",
    "# H0: B3 = 0; no relationship between adv/sales holding price, industry price fixed\n",
    "# Ha: B3 =/= 0\n",
    "# make sure to mention in the conclusion, #### holding all other variables CONSTANT ###"
   ]
  },
  {
   "cell_type": "code",
   "execution_count": 52,
   "metadata": {},
   "outputs": [
    {
     "data": {
      "text/html": [
       "<table>\n",
       "<thead><tr><th></th><th scope=col>Price</th><th scope=col>IndPrice</th><th scope=col>AdvExp</th></tr></thead>\n",
       "<tbody>\n",
       "\t<tr><th scope=row>Price</th><td> 1.00000000</td><td>0.07836681 </td><td>-0.468793  </td></tr>\n",
       "\t<tr><th scope=row>IndPrice</th><td> 0.07836681</td><td>1.00000000 </td><td> 0.604540  </td></tr>\n",
       "\t<tr><th scope=row>AdvExp</th><td>-0.46879301</td><td>0.60454000 </td><td> 1.000000  </td></tr>\n",
       "</tbody>\n",
       "</table>\n"
      ],
      "text/latex": [
       "\\begin{tabular}{r|lll}\n",
       "  & Price & IndPrice & AdvExp\\\\\n",
       "\\hline\n",
       "\tPrice &  1.00000000 & 0.07836681  & -0.468793  \\\\\n",
       "\tIndPrice &  0.07836681 & 1.00000000  &  0.604540  \\\\\n",
       "\tAdvExp & -0.46879301 & 0.60454000  &  1.000000  \\\\\n",
       "\\end{tabular}\n"
      ],
      "text/markdown": [
       "\n",
       "| <!--/--> | Price | IndPrice | AdvExp | \n",
       "|---|---|---|\n",
       "| Price |  1.00000000 | 0.07836681  | -0.468793   | \n",
       "| IndPrice |  0.07836681 | 1.00000000  |  0.604540   | \n",
       "| AdvExp | -0.46879301 | 0.60454000  |  1.000000   | \n",
       "\n",
       "\n"
      ],
      "text/plain": [
       "         Price       IndPrice   AdvExp   \n",
       "Price     1.00000000 0.07836681 -0.468793\n",
       "IndPrice  0.07836681 1.00000000  0.604540\n",
       "AdvExp   -0.46879301 0.60454000  1.000000"
      ]
     },
     "metadata": {},
     "output_type": "display_data"
    }
   ],
   "source": [
    "cor(fresh[,1:3])"
   ]
  },
  {
   "cell_type": "code",
   "execution_count": null,
   "metadata": {},
   "outputs": [],
   "source": []
  },
  {
   "cell_type": "code",
   "execution_count": 28,
   "metadata": {},
   "outputs": [
    {
     "data": {
      "text/html": [
       "<table>\n",
       "<thead><tr><th></th><th scope=col>Demand</th><th scope=col>PriceDif</th><th scope=col>AdvExp</th><th scope=col>IndPrice</th><th scope=col>Price</th></tr></thead>\n",
       "<tbody>\n",
       "\t<tr><th scope=row>Demand</th><td> 1.0000000 </td><td> 0.8896718 </td><td> 0.8759536 </td><td>0.74094817 </td><td>-0.46922030</td></tr>\n",
       "\t<tr><th scope=row>PriceDif</th><td> 0.8896718 </td><td> 1.0000000 </td><td> 0.7599640 </td><td>0.91856618 </td><td>-0.32206650</td></tr>\n",
       "\t<tr><th scope=row>AdvExp</th><td> 0.8759536 </td><td> 0.7599640 </td><td> 1.0000000 </td><td>0.60454000 </td><td>-0.46879301</td></tr>\n",
       "\t<tr><th scope=row>IndPrice</th><td> 0.7409482 </td><td> 0.9185662 </td><td> 0.6045400 </td><td>1.00000000 </td><td> 0.07836681</td></tr>\n",
       "\t<tr><th scope=row>Price</th><td>-0.4692203 </td><td>-0.3220665 </td><td>-0.4687930 </td><td>0.07836681 </td><td> 1.00000000</td></tr>\n",
       "</tbody>\n",
       "</table>\n"
      ],
      "text/latex": [
       "\\begin{tabular}{r|lllll}\n",
       "  & Demand & PriceDif & AdvExp & IndPrice & Price\\\\\n",
       "\\hline\n",
       "\tDemand &  1.0000000  &  0.8896718  &  0.8759536  & 0.74094817  & -0.46922030\\\\\n",
       "\tPriceDif &  0.8896718  &  1.0000000  &  0.7599640  & 0.91856618  & -0.32206650\\\\\n",
       "\tAdvExp &  0.8759536  &  0.7599640  &  1.0000000  & 0.60454000  & -0.46879301\\\\\n",
       "\tIndPrice &  0.7409482  &  0.9185662  &  0.6045400  & 1.00000000  &  0.07836681\\\\\n",
       "\tPrice & -0.4692203  & -0.3220665  & -0.4687930  & 0.07836681  &  1.00000000\\\\\n",
       "\\end{tabular}\n"
      ],
      "text/markdown": [
       "\n",
       "| <!--/--> | Demand | PriceDif | AdvExp | IndPrice | Price | \n",
       "|---|---|---|---|---|\n",
       "| Demand |  1.0000000  |  0.8896718  |  0.8759536  | 0.74094817  | -0.46922030 | \n",
       "| PriceDif |  0.8896718  |  1.0000000  |  0.7599640  | 0.91856618  | -0.32206650 | \n",
       "| AdvExp |  0.8759536  |  0.7599640  |  1.0000000  | 0.60454000  | -0.46879301 | \n",
       "| IndPrice |  0.7409482  |  0.9185662  |  0.6045400  | 1.00000000  |  0.07836681 | \n",
       "| Price | -0.4692203  | -0.3220665  | -0.4687930  | 0.07836681  |  1.00000000 | \n",
       "\n",
       "\n"
      ],
      "text/plain": [
       "         Demand     PriceDif   AdvExp     IndPrice   Price      \n",
       "Demand    1.0000000  0.8896718  0.8759536 0.74094817 -0.46922030\n",
       "PriceDif  0.8896718  1.0000000  0.7599640 0.91856618 -0.32206650\n",
       "AdvExp    0.8759536  0.7599640  1.0000000 0.60454000 -0.46879301\n",
       "IndPrice  0.7409482  0.9185662  0.6045400 1.00000000  0.07836681\n",
       "Price    -0.4692203 -0.3220665 -0.4687930 0.07836681  1.00000000"
      ]
     },
     "metadata": {},
     "output_type": "display_data"
    }
   ],
   "source": [
    "cor(fresh[,5:1])"
   ]
  },
  {
   "cell_type": "code",
   "execution_count": 30,
   "metadata": {},
   "outputs": [
    {
     "data": {
      "image/png": "[encoded data removed]",
      "text/plain": [
       "plot without title"
      ]
     },
     "metadata": {},
     "output_type": "display_data"
    }
   ],
   "source": [
    "plot(Demand, PriceDif, pch = 16 ,  xlab = \"PriceDif\",  ylab = \"Demand\")\n",
    "abline(lm(PriceDif ~ Demand), lty=2,  col= 'red')"
   ]
  },
  {
   "cell_type": "code",
   "execution_count": 31,
   "metadata": {},
   "outputs": [
    {
     "data": {
      "image/png": "[encoded data removed]",
      "text/plain": [
       "plot without title"
      ]
     },
     "metadata": {},
     "output_type": "display_data"
    }
   ],
   "source": [
    "plot(Demand, AdvExp, pch = 16 ,  xlab = \"AdvExp\",  ylab = \"Demand\")\n",
    "abline(lm(AdvExp ~ Demand), lty=2,  col= 'red')"
   ]
  },
  {
   "cell_type": "code",
   "execution_count": 32,
   "metadata": {},
   "outputs": [
    {
     "data": {
      "image/png": "[encoded data removed]",
      "text/plain": [
       "plot without title"
      ]
     },
     "metadata": {},
     "output_type": "display_data"
    }
   ],
   "source": [
    "plot(Demand, IndPrice, pch = 16 ,  xlab = \"IndPrice\",  ylab = \"Demand\")\n",
    "abline(lm(IndPrice ~ Demand), lty=2,  col= 'red')"
   ]
  },
  {
   "cell_type": "code",
   "execution_count": 33,
   "metadata": {},
   "outputs": [
    {
     "data": {
      "image/png": "[encoded data removed]",
      "text/plain": [
       "plot without title"
      ]
     },
     "metadata": {},
     "output_type": "display_data"
    }
   ],
   "source": [
    "plot(Demand, Price, pch = 16 ,  xlab = \"Price\",  ylab = \"Demand\")\n",
    "abline(lm(Price ~ Demand), lty=2,  col= 'red')"
   ]
  },
  {
   "cell_type": "code",
   "execution_count": 64,
   "metadata": {},
   "outputs": [
    {
     "data": {
      "text/plain": [
       "\n",
       "Call:\n",
       "lm(formula = Demand ~ AdvExp + PriceDif)\n",
       "\n",
       "Residuals:\n",
       "     Min       1Q   Median       3Q      Max \n",
       "-0.49779 -0.12031 -0.00867  0.11084  0.58106 \n",
       "\n",
       "Coefficients:\n",
       "            Estimate Std. Error t value Pr(>|t|)    \n",
       "(Intercept)   4.4075     0.7223   6.102 1.62e-06 ***\n",
       "AdvExp        0.5635     0.1191   4.733 6.25e-05 ***\n",
       "PriceDif      1.5883     0.2994   5.304 1.35e-05 ***\n",
       "---\n",
       "Signif. codes:  0 '***' 0.001 '**' 0.01 '*' 0.05 '.' 0.1 ' ' 1\n",
       "\n",
       "Residual standard error: 0.2383 on 27 degrees of freedom\n",
       "Multiple R-squared:  0.886,\tAdjusted R-squared:  0.8776 \n",
       "F-statistic:   105 on 2 and 27 DF,  p-value: 1.845e-13\n"
      ]
     },
     "metadata": {},
     "output_type": "display_data"
    }
   ],
   "source": [
    "linefit2 <- lm(Demand ~ AdvExp + PriceDif)\n",
    "summary(linefit2)"
   ]
  },
  {
   "cell_type": "code",
   "execution_count": 65,
   "metadata": {},
   "outputs": [
    {
     "data": {
      "image/png": "[encoded data removed]",
      "text/plain": [
       "Plot with title \"Standardized Residual Plot\""
      ]
     },
     "metadata": {},
     "output_type": "display_data"
    }
   ],
   "source": [
    "\n",
    "linefit2.stres <- rstandard(linefit2)\n",
    "plot(linefit2$fitted.values, linefit2.stres, pch = 16 ,  main = \"Standardized Residual Plot\",  \n",
    "     xlab = \"Fitted Demand (100,000s of Bottles)\",  ylab = \"Standardized Residuals\")\n",
    "abline(0,0,  lty=2,  col=\"red\")"
   ]
  },
  {
   "cell_type": "code",
   "execution_count": 66,
   "metadata": {},
   "outputs": [
    {
     "data": {
      "image/png": "[encoded data removed]",
      "text/plain": [
       "Plot with title \"Histogram of linefit2.stres\""
      ]
     },
     "metadata": {},
     "output_type": "display_data"
    }
   ],
   "source": [
    "h <- hist(linefit2.stres)\n",
    "x <- linefit2.stres\n",
    "xfit <- seq(min(x), max(x), length = 50 )\n",
    "yfit <- dnorm(xfit, mean =mean(x), sd =sd(x))\n",
    "yfit <- yfit*diff(h$mids[1:2])*length(x)\n",
    "lines(xfit, yfit, col=\"blue\")"
   ]
  },
  {
   "cell_type": "code",
   "execution_count": 67,
   "metadata": {},
   "outputs": [
    {
     "data": {
      "image/png": "[encoded data removed]",
      "text/plain": [
       "Plot with title \"Normal Probability Plot\""
      ]
     },
     "metadata": {},
     "output_type": "display_data"
    }
   ],
   "source": [
    "qqnorm(linefit2.stres, main = \"Normal Probability Plot\",  xlab = \"Normal Scores\",  ylab = \"Standardized Residuals\")\n",
    "qqline(linefit2.stres, col = \"red\")"
   ]
  },
  {
   "cell_type": "code",
   "execution_count": 68,
   "metadata": {},
   "outputs": [
    {
     "data": {
      "text/plain": [
       "\n",
       "\tShapiro-Wilk normality test\n",
       "\n",
       "data:  linefit2.stres\n",
       "W = 0.97474, p-value = 0.675\n"
      ]
     },
     "metadata": {},
     "output_type": "display_data"
    }
   ],
   "source": [
    "shapiro.test(linefit2.stres)"
   ]
  },
  {
   "cell_type": "code",
   "execution_count": null,
   "metadata": {},
   "outputs": [],
   "source": [
    "# maximize R2\n",
    "# minimize S - remove variance in the model\n",
    "# good residuals - they don't violate residuals assumptions\n",
    "# logical relationships"
   ]
  },
  {
   "cell_type": "code",
   "execution_count": 63,
   "metadata": {},
   "outputs": [
    {
     "data": {
      "text/plain": [
       "\n",
       "Call:\n",
       "lm(formula = Demand ~ AdvExp + PriceDif)\n",
       "\n",
       "Residuals:\n",
       "     Min       1Q   Median       3Q      Max \n",
       "-0.49779 -0.12031 -0.00867  0.11084  0.58106 \n",
       "\n",
       "Coefficients:\n",
       "            Estimate Std. Error t value Pr(>|t|)    \n",
       "(Intercept)   4.4075     0.7223   6.102 1.62e-06 ***\n",
       "AdvExp        0.5635     0.1191   4.733 6.25e-05 ***\n",
       "PriceDif      1.5883     0.2994   5.304 1.35e-05 ***\n",
       "---\n",
       "Signif. codes:  0 '***' 0.001 '**' 0.01 '*' 0.05 '.' 0.1 ' ' 1\n",
       "\n",
       "Residual standard error: 0.2383 on 27 degrees of freedom\n",
       "Multiple R-squared:  0.886,\tAdjusted R-squared:  0.8776 \n",
       "F-statistic:   105 on 2 and 27 DF,  p-value: 1.845e-13\n"
      ]
     },
     "metadata": {},
     "output_type": "display_data"
    }
   ],
   "source": [
    "linefit2 <- lm(Demand ~ AdvExp + PriceDif)\n",
    "summary(linefit2)"
   ]
  },
  {
   "cell_type": "code",
   "execution_count": null,
   "metadata": {},
   "outputs": [],
   "source": []
  },
  {
   "cell_type": "code",
   "execution_count": null,
   "metadata": {},
   "outputs": [],
   "source": [
    "# Demand = B0 + B1(Price) + B2(IndPrice) + B3(AdExp) + e\n",
    "# force B1 = -B2 or the Price to negatively industry price\n",
    "\n",
    "# Demand = B0 + B1(IndPrice - Price) + B2 (AdExp) + e"
   ]
  },
  {
   "cell_type": "code",
   "execution_count": null,
   "metadata": {},
   "outputs": [],
   "source": []
  },
  {
   "cell_type": "code",
   "execution_count": 59,
   "metadata": {},
   "outputs": [
    {
     "data": {
      "image/png": "[encoded data removed]",
      "text/plain": [
       "plot without title"
      ]
     },
     "metadata": {},
     "output_type": "display_data"
    }
   ],
   "source": [
    "pairs(~  Demand + AdvExp + PriceDif, main=\"Simple Scatterplot Matrix\")"
   ]
  },
  {
   "cell_type": "code",
   "execution_count": null,
   "metadata": {},
   "outputs": [],
   "source": []
  }
 ],
 "metadata": {
  "kernelspec": {
   "display_name": "R",
   "language": "R",
   "name": "ir"
  },
  "language_info": {
   "codemirror_mode": "r",
   "file_extension": ".r",
   "mimetype": "text/x-r-source",
   "name": "R",
   "pygments_lexer": "r",
   "version": "3.5.1"
  }
 },
 "nbformat": 4,
 "nbformat_minor": 2
}
