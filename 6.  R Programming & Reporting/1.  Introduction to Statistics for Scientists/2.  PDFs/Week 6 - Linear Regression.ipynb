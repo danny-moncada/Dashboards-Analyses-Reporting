{
 "cells": [
  {
   "cell_type": "code",
   "execution_count": 18,
   "metadata": {},
   "outputs": [
    {
     "data": {
      "text/plain": [
       "    Min.  1st Qu.   Median     Mean  3rd Qu.     Max. \n",
       "-1.91729 -0.71709 -0.03383 -0.05990  0.43220  3.28879 "
      ]
     },
     "metadata": {},
     "output_type": "display_data"
    }
   ],
   "source": [
    "x = rnorm(100)\n",
    "summary(x)"
   ]
  },
  {
   "cell_type": "code",
   "execution_count": 19,
   "metadata": {},
   "outputs": [],
   "source": [
    "library(readxl)"
   ]
  },
  {
   "cell_type": "code",
   "execution_count": 20,
   "metadata": {},
   "outputs": [
    {
     "data": {
      "text/html": [
       "<table>\n",
       "<thead><tr><th scope=col>Price</th><th scope=col>Size</th></tr></thead>\n",
       "<tbody>\n",
       "\t<tr><td>180.0</td><td>23   </td></tr>\n",
       "\t<tr><td> 98.1</td><td>11   </td></tr>\n",
       "\t<tr><td>173.1</td><td>20   </td></tr>\n",
       "\t<tr><td>136.5</td><td>17   </td></tr>\n",
       "\t<tr><td>141.0</td><td>15   </td></tr>\n",
       "\t<tr><td>165.9</td><td>21   </td></tr>\n",
       "\t<tr><td>193.5</td><td>24   </td></tr>\n",
       "\t<tr><td>127.8</td><td>13   </td></tr>\n",
       "\t<tr><td>163.5</td><td>19   </td></tr>\n",
       "\t<tr><td>172.5</td><td>25   </td></tr>\n",
       "</tbody>\n",
       "</table>\n"
      ],
      "text/latex": [
       "\\begin{tabular}{r|ll}\n",
       " Price & Size\\\\\n",
       "\\hline\n",
       "\t 180.0 & 23   \\\\\n",
       "\t  98.1 & 11   \\\\\n",
       "\t 173.1 & 20   \\\\\n",
       "\t 136.5 & 17   \\\\\n",
       "\t 141.0 & 15   \\\\\n",
       "\t 165.9 & 21   \\\\\n",
       "\t 193.5 & 24   \\\\\n",
       "\t 127.8 & 13   \\\\\n",
       "\t 163.5 & 19   \\\\\n",
       "\t 172.5 & 25   \\\\\n",
       "\\end{tabular}\n"
      ],
      "text/markdown": [
       "\n",
       "Price | Size | \n",
       "|---|---|---|---|---|---|---|---|---|---|\n",
       "| 180.0 | 23    | \n",
       "|  98.1 | 11    | \n",
       "| 173.1 | 20    | \n",
       "| 136.5 | 17    | \n",
       "| 141.0 | 15    | \n",
       "| 165.9 | 21    | \n",
       "| 193.5 | 24    | \n",
       "| 127.8 | 13    | \n",
       "| 163.5 | 19    | \n",
       "| 172.5 | 25    | \n",
       "\n",
       "\n"
      ],
      "text/plain": [
       "   Price Size\n",
       "1  180.0 23  \n",
       "2   98.1 11  \n",
       "3  173.1 20  \n",
       "4  136.5 17  \n",
       "5  141.0 15  \n",
       "6  165.9 21  \n",
       "7  193.5 24  \n",
       "8  127.8 13  \n",
       "9  163.5 19  \n",
       "10 172.5 25  "
      ]
     },
     "metadata": {},
     "output_type": "display_data"
    }
   ],
   "source": [
    "# A real estate agency collects data concerning\n",
    "  # house sales prices ($1000s) and house sizes (100s of square feet).\n",
    "\n",
    "houses <- read_excel(\"Houses.xlsx\", na = \"NA\", col_names = TRUE)\n",
    "houses"
   ]
  },
  {
   "cell_type": "code",
   "execution_count": 21,
   "metadata": {},
   "outputs": [
    {
     "data": {
      "image/png": "[encoded data removed]",
      "text/plain": [
       "Plot with title \"Houses\""
      ]
     },
     "metadata": {},
     "output_type": "display_data"
    }
   ],
   "source": [
    "# scatter plot w/ fitted linear regression line\n",
    "\n",
    "plot(houses$Size, houses$Price, pch = 16, main = \"Houses\", xlab = \"House Size (100s of square feet)\",\n",
    "    ylab = \"Sale Price ($10000s)\")\n",
    "abline(lm(houses$Price ~ houses$Size), lty = 2, col = \"red\")"
   ]
  },
  {
   "cell_type": "code",
   "execution_count": 22,
   "metadata": {},
   "outputs": [
    {
     "data": {
      "text/plain": [
       "\n",
       "Call:\n",
       "lm(formula = houses$Price ~ houses$Size)\n",
       "\n",
       "Residuals:\n",
       "    Min      1Q  Median      3Q     Max \n",
       "-18.032  -6.780   3.270   7.396  11.070 \n",
       "\n",
       "Coefficients:\n",
       "            Estimate Std. Error t value Pr(>|t|)    \n",
       "(Intercept)  48.0244    14.4135   3.332   0.0104 *  \n",
       "houses$Size   5.7003     0.7457   7.644 6.05e-05 ***\n",
       "---\n",
       "Signif. codes:  0 '***' 0.001 '**' 0.01 '*' 0.05 '.' 0.1 ' ' 1\n",
       "\n",
       "Residual standard error: 10.59 on 8 degrees of freedom\n",
       "Multiple R-squared:  0.8796,\tAdjusted R-squared:  0.8645 \n",
       "F-statistic: 58.43 on 1 and 8 DF,  p-value: 6.05e-05\n"
      ]
     },
     "metadata": {},
     "output_type": "display_data"
    }
   ],
   "source": [
    "# fit the model\n",
    "\n",
    "linefit1 <- lm(houses$Price ~ houses$Size)\n",
    "\n",
    "# to see an information summary of the fitted model\n",
    "summary(linefit1)"
   ]
  },
  {
   "cell_type": "code",
   "execution_count": 23,
   "metadata": {},
   "outputs": [
    {
     "data": {
      "text/html": [
       "0.879578395656473"
      ],
      "text/latex": [
       "0.879578395656473"
      ],
      "text/markdown": [
       "0.879578395656473"
      ],
      "text/plain": [
       "[1] 0.8795784"
      ]
     },
     "metadata": {},
     "output_type": "display_data"
    }
   ],
   "source": [
    "# to see the coefficient of determination R-squared\n",
    "summary(linefit1)$r.squared"
   ]
  },
  {
   "cell_type": "code",
   "execution_count": 24,
   "metadata": {},
   "outputs": [
    {
     "name": "stdout",
     "output_type": "stream",
     "text": [
      "         1          2          3          4          5          6          7 \n",
      "  0.868750 -12.627679  11.069643  -8.429464   7.471131  -1.830655   8.668452 \n",
      "         8          9         10 \n",
      "  5.671726   7.169940 -18.031845 \n"
     ]
    }
   ],
   "source": [
    "# the observed residuals, epsilon-hats\n",
    "resids <- residuals(linefit1)\n",
    "print(resids)"
   ]
  },
  {
   "cell_type": "code",
   "execution_count": 25,
   "metadata": {},
   "outputs": [
    {
     "data": {
      "text/html": [
       "10.5879706633451"
      ],
      "text/latex": [
       "10.5879706633451"
      ],
      "text/markdown": [
       "10.5879706633451"
      ],
      "text/plain": [
       "[1] 10.58797"
      ]
     },
     "metadata": {},
     "output_type": "display_data"
    }
   ],
   "source": [
    "# standard deviation of the residuals = sqrt(MSE)\n",
    "summary(linefit1)$sigma"
   ]
  },
  {
   "cell_type": "code",
   "execution_count": 26,
   "metadata": {},
   "outputs": [
    {
     "data": {
      "image/png": "[encoded data removed]",
      "text/plain": [
       "Plot with title \"\""
      ]
     },
     "metadata": {},
     "output_type": "display_data"
    }
   ],
   "source": [
    "par(mfrow = c(2, 2))\n",
    "plot(lm(Starbucks$carb ~ Starbucks$calories))\n",
    "#plot(lm(cal100s ~ Starbucks$carb))"
   ]
  },
  {
   "cell_type": "markdown",
   "metadata": {},
   "source": [
    "# R6-1. Starbucks 1. \n",
    "# Starbucks only lists the number of calories on the display items. We are interested in predicting the amount of carbohydrates (in grams) for a menu item based on its calorie content (measured in 100s). The data are in the file starbucks.xlsx."
   ]
  },
  {
   "cell_type": "code",
   "execution_count": 1,
   "metadata": {},
   "outputs": [
    {
     "data": {
      "text/html": [
       "<table>\n",
       "<thead><tr><th scope=col>item</th><th scope=col>calories</th><th scope=col>fat</th><th scope=col>carb</th><th scope=col>fiber</th><th scope=col>protein</th><th scope=col>type</th></tr></thead>\n",
       "<tbody>\n",
       "\t<tr><td>8-Grain Roll               </td><td>3.5                        </td><td> 8                         </td><td>67                         </td><td>5                          </td><td>10                         </td><td>bakery                     </td></tr>\n",
       "\t<tr><td>Apple Bran Muffin          </td><td>3.5                        </td><td> 9                         </td><td>64                         </td><td>7                          </td><td> 6                         </td><td>bakery                     </td></tr>\n",
       "\t<tr><td>Apple Fritter              </td><td>4.2                        </td><td>20                         </td><td>59                         </td><td>0                          </td><td> 5                         </td><td>bakery                     </td></tr>\n",
       "\t<tr><td>Banana Nut Loaf            </td><td>4.9                        </td><td>19                         </td><td>75                         </td><td>4                          </td><td> 7                         </td><td>bakery                     </td></tr>\n",
       "\t<tr><td>Birthday Cake Mini Doughnut</td><td>1.3                        </td><td> 6                         </td><td>17                         </td><td>0                          </td><td> 0                         </td><td>bakery                     </td></tr>\n",
       "</tbody>\n",
       "</table>\n"
      ],
      "text/latex": [
       "\\begin{tabular}{r|lllllll}\n",
       " item & calories & fat & carb & fiber & protein & type\\\\\n",
       "\\hline\n",
       "\t 8-Grain Roll                & 3.5                         &  8                          & 67                          & 5                           & 10                          & bakery                     \\\\\n",
       "\t Apple Bran Muffin           & 3.5                         &  9                          & 64                          & 7                           &  6                          & bakery                     \\\\\n",
       "\t Apple Fritter               & 4.2                         & 20                          & 59                          & 0                           &  5                          & bakery                     \\\\\n",
       "\t Banana Nut Loaf             & 4.9                         & 19                          & 75                          & 4                           &  7                          & bakery                     \\\\\n",
       "\t Birthday Cake Mini Doughnut & 1.3                         &  6                          & 17                          & 0                           &  0                          & bakery                     \\\\\n",
       "\\end{tabular}\n"
      ],
      "text/markdown": [
       "\n",
       "item | calories | fat | carb | fiber | protein | type | \n",
       "|---|---|---|---|---|\n",
       "| 8-Grain Roll                | 3.5                         |  8                          | 67                          | 5                           | 10                          | bakery                      | \n",
       "| Apple Bran Muffin           | 3.5                         |  9                          | 64                          | 7                           |  6                          | bakery                      | \n",
       "| Apple Fritter               | 4.2                         | 20                          | 59                          | 0                           |  5                          | bakery                      | \n",
       "| Banana Nut Loaf             | 4.9                         | 19                          | 75                          | 4                           |  7                          | bakery                      | \n",
       "| Birthday Cake Mini Doughnut | 1.3                         |  6                          | 17                          | 0                           |  0                          | bakery                      | \n",
       "\n",
       "\n"
      ],
      "text/plain": [
       "  item                        calories fat carb fiber protein type  \n",
       "1 8-Grain Roll                3.5       8  67   5     10      bakery\n",
       "2 Apple Bran Muffin           3.5       9  64   7      6      bakery\n",
       "3 Apple Fritter               4.2      20  59   0      5      bakery\n",
       "4 Banana Nut Loaf             4.9      19  75   4      7      bakery\n",
       "5 Birthday Cake Mini Doughnut 1.3       6  17   0      0      bakery"
      ]
     },
     "metadata": {},
     "output_type": "display_data"
    }
   ],
   "source": [
    "library(readxl)\n",
    "Starbucks <- read_excel(\"starbucks.xlsx\", na = \"NA\", col_names = TRUE)\n",
    "head(Starbucks, 5)\n",
    "\n",
    "attach(Starbucks)\n",
    "#cal100s <- Starbucks$calories*100\n",
    "#print(cal100s)"
   ]
  },
  {
   "cell_type": "markdown",
   "metadata": {},
   "source": [
    "# A.  Graph the data - is a linear relationship indicated?"
   ]
  },
  {
   "cell_type": "code",
   "execution_count": 3,
   "metadata": {},
   "outputs": [
    {
     "data": {
      "text/html": [
       "0.8"
      ],
      "text/latex": [
       "0.8"
      ],
      "text/markdown": [
       "0.8"
      ],
      "text/plain": [
       "[1] 0.8"
      ]
     },
     "metadata": {},
     "output_type": "display_data"
    }
   ],
   "source": [
    "min(calories)"
   ]
  },
  {
   "cell_type": "code",
   "execution_count": 2,
   "metadata": {},
   "outputs": [
    {
     "data": {
      "image/png": "[encoded data removed]",
      "text/plain": [
       "Plot with title \"Starbucks\""
      ]
     },
     "metadata": {},
     "output_type": "display_data"
    }
   ],
   "source": [
    "plot(calories, carb, pch = 16, main = \"Starbucks\", xlab = \"Calories (100s)\", ylab = \"Carbohydrates (grams)\")\n",
    "abline(lm(carb ~ calories), lty = 2, col = \"red\")"
   ]
  },
  {
   "cell_type": "markdown",
   "metadata": {},
   "source": [
    "# Yes, when you plot the data and look at the fitted regression line, it indicates a relationship\n",
    "# Higher calories content = More Carbs"
   ]
  },
  {
   "cell_type": "markdown",
   "metadata": {},
   "source": [
    "# b) Fit the linear model to the data. Interpret 𝛽𝛽̂0 and 𝛽𝛽̂1 in the problem context"
   ]
  },
  {
   "cell_type": "code",
   "execution_count": 4,
   "metadata": {},
   "outputs": [
    {
     "data": {
      "text/plain": [
       "\n",
       "Call:\n",
       "lm(formula = carb ~ calories)\n",
       "\n",
       "Residuals:\n",
       "    Min      1Q  Median      3Q     Max \n",
       "-31.477  -7.476  -1.029  10.127  28.644 \n",
       "\n",
       "Coefficients:\n",
       "            Estimate Std. Error t value Pr(>|t|)    \n",
       "(Intercept)    8.944      4.746   1.884   0.0634 .  \n",
       "calories      10.603      1.338   7.923 1.67e-11 ***\n",
       "---\n",
       "Signif. codes:  0 '***' 0.001 '**' 0.01 '*' 0.05 '.' 0.1 ' ' 1\n",
       "\n",
       "Residual standard error: 12.29 on 75 degrees of freedom\n",
       "Multiple R-squared:  0.4556,\tAdjusted R-squared:  0.4484 \n",
       "F-statistic: 62.77 on 1 and 75 DF,  p-value: 1.673e-11\n"
      ]
     },
     "metadata": {},
     "output_type": "display_data"
    },
    {
     "data": {
      "text/html": [
       "<dl class=dl-horizontal>\n",
       "\t<dt>(Intercept)</dt>\n",
       "\t\t<dd>8.94356047663462</dd>\n",
       "\t<dt>calories</dt>\n",
       "\t\t<dd>10.603088705631</dd>\n",
       "</dl>\n"
      ],
      "text/latex": [
       "\\begin{description*}\n",
       "\\item[(Intercept)] 8.94356047663462\n",
       "\\item[calories] 10.603088705631\n",
       "\\end{description*}\n"
      ],
      "text/markdown": [
       "(Intercept)\n",
       ":   8.94356047663462calories\n",
       ":   10.603088705631\n",
       "\n"
      ],
      "text/plain": [
       "(Intercept)    calories \n",
       "    8.94356    10.60309 "
      ]
     },
     "metadata": {},
     "output_type": "display_data"
    }
   ],
   "source": [
    "linefitStarbucks <- lm(carb ~ calories)\n",
    "\n",
    "summary(linefitStarbucks)\n",
    "\n",
    "coefficients(linefitStarbucks)"
   ]
  },
  {
   "cell_type": "code",
   "execution_count": null,
   "metadata": {},
   "outputs": [],
   "source": [
    "# Linear model hypothesis : y = B0 + B1X + e\n",
    "\n",
    "# what is mu for the process? Mu~y/x = B0 + B1X\n",
    "\n",
    "# linear model for sample: y^ = B^0 + B^1X\n",
    "# fitted lines have estimates of means for different values of x\n",
    "\n",
    "# for B0, the following applies\n",
    "# it has to be logically meaningful, in this case it is ok since things can have zero\n",
    "# half a standard deviation below - cautious about interpretation, but this is outside the data range\n",
    "# don't bother intrepreting this value\n",
    "\n",
    "# if its in the range, zero calorie muffins in the data set, this is the estimate of the number of carbs\n",
    "# (8.94) for any item that has zero calories\n",
    "\n",
    "# B1 interpretation\n",
    "# For every 100 calories, we see an increase 10.603 carbs in the menu item"
   ]
  },
  {
   "cell_type": "markdown",
   "metadata": {},
   "source": [
    "# B0 = 8.94356 - when X = 0, meaningless"
   ]
  },
  {
   "cell_type": "markdown",
   "metadata": {},
   "source": [
    "# c) Find and interpret the coefficient of determination ( R2 ) ."
   ]
  },
  {
   "cell_type": "code",
   "execution_count": 5,
   "metadata": {},
   "outputs": [
    {
     "name": "stdout",
     "output_type": "stream",
     "text": [
      "[1] 0.4556237\n"
     ]
    }
   ],
   "source": [
    "print(summary(linefitStarbucks)$r.squared)"
   ]
  },
  {
   "cell_type": "markdown",
   "metadata": {},
   "source": [
    "# About 45% of the variability in the value of carbs in a Starbucks menu item can be explained by its calorie amount."
   ]
  },
  {
   "cell_type": "code",
   "execution_count": 32,
   "metadata": {},
   "outputs": [],
   "source": [
    "# 45%  of the variability in carbs can be explained by its calorie amount\n",
    "# this is removing the variability from Y (carbs) by using X as a determining\n",
    "\n",
    "# Proportion of variation in Y that is explained by model (and variation in {Xi})\n",
    "# Range [0, 1]\n",
    "# 0 means it explains 0% of the variation in Y, meaning there is no relationship between these variables\n",
    "# R^2 of 1 means it is explaining all of the varation in Y, which means there is a perfect relationship"
   ]
  },
  {
   "cell_type": "markdown",
   "metadata": {},
   "source": [
    "# d) Find s = SQRT(MSE) and interpret in context"
   ]
  },
  {
   "cell_type": "code",
   "execution_count": 6,
   "metadata": {},
   "outputs": [
    {
     "data": {
      "text/html": [
       "12.2932484705815"
      ],
      "text/latex": [
       "12.2932484705815"
      ],
      "text/markdown": [
       "12.2932484705815"
      ],
      "text/plain": [
       "[1] 12.29325"
      ]
     },
     "metadata": {},
     "output_type": "display_data"
    }
   ],
   "source": [
    "summary(linefitStarbucks)$sigma"
   ]
  },
  {
   "cell_type": "code",
   "execution_count": 34,
   "metadata": {},
   "outputs": [],
   "source": [
    "# s is the measure of the variability that is unexplained\n",
    "# sε estimates the standard deviation σ of the normal random variable ε in the model.\n",
    "# Its meaning is that among all menu items in the sample Starbucks, the standard deviation of their calorie amount is about 12.3 points. \n",
    "# Such a large value means that the final exam scores of each sub-population of menu items, based on the # of carbs, are highly variable.\n",
    "\n",
    "# Standard deviation of the sample errors, or in this context, the observed residuals\n",
    "# The epilsons represent that part of Y that is not captured by the relationship of the X values (predictor variables)\n",
    "# r^2 is adjusted to how many predictor variables there are in the model"
   ]
  },
  {
   "cell_type": "markdown",
   "metadata": {},
   "source": [
    "# e) Run the anova function on the fitted line (the result of the model lm). \n",
    "    ## Connect the results to Parts (c)and (d)."
   ]
  },
  {
   "cell_type": "code",
   "execution_count": 7,
   "metadata": {},
   "outputs": [
    {
     "name": "stdout",
     "output_type": "stream",
     "text": [
      "Analysis of Variance Table\n",
      "\n",
      "Response: carb\n",
      "          Df  Sum Sq Mean Sq F value    Pr(>F)    \n",
      "calories   1  9486.4  9486.4  62.772 1.673e-11 ***\n",
      "Residuals 75 11334.3   151.1                      \n",
      "---\n",
      "Signif. codes:  0 '***' 0.001 '**' 0.01 '*' 0.05 '.' 0.1 ' ' 1\n"
     ]
    }
   ],
   "source": [
    "print(anova(linefitStarbucks))"
   ]
  },
  {
   "cell_type": "code",
   "execution_count": 66,
   "metadata": {},
   "outputs": [
    {
     "data": {
      "text/html": [
       "0.455623490084387"
      ],
      "text/latex": [
       "0.455623490084387"
      ],
      "text/markdown": [
       "0.455623490084387"
      ],
      "text/plain": [
       "[1] 0.4556235"
      ]
     },
     "metadata": {},
     "output_type": "display_data"
    },
    {
     "data": {
      "text/html": [
       "12.2922739962954"
      ],
      "text/latex": [
       "12.2922739962954"
      ],
      "text/markdown": [
       "12.2922739962954"
      ],
      "text/plain": [
       "[1] 12.29227"
      ]
     },
     "metadata": {},
     "output_type": "display_data"
    }
   ],
   "source": [
    "# H0: B1 = 0 (no relationship)\n",
    "# Ha: Ba =/= 0 (relationship)\n",
    "# Conclude that there is a relationship between x and y\n",
    "\n",
    "# Large F value, we can conclude that Ha is true, that there is a relationship between Carbs and Calories\n",
    "# we took our interval variability and took that split it into two pieces, top and bottom\n",
    "# this is the ratio of variation because of the Xes\n",
    "# this is a sample statistic\n",
    "\n",
    "9486.4 / (9486.4  + 11334.3) # this is c.\n",
    "sqrt(151.1) # this is d."
   ]
  },
  {
   "cell_type": "markdown",
   "metadata": {},
   "source": [
    "# f) Find the residuals for the items Apple Bran Muffin and Apple Fritter. Interpret the values in context."
   ]
  },
  {
   "cell_type": "code",
   "execution_count": 8,
   "metadata": {},
   "outputs": [
    {
     "data": {
      "text/html": [
       "<table>\n",
       "<thead><tr><th scope=col>item</th><th scope=col>calories</th><th scope=col>fat</th><th scope=col>carb</th><th scope=col>fiber</th><th scope=col>protein</th><th scope=col>type</th></tr></thead>\n",
       "<tbody>\n",
       "\t<tr><td>8-Grain Roll               </td><td>3.5                        </td><td> 8                         </td><td>67                         </td><td>5                          </td><td>10                         </td><td>bakery                     </td></tr>\n",
       "\t<tr><td>Apple Bran Muffin          </td><td>3.5                        </td><td> 9                         </td><td>64                         </td><td>7                          </td><td> 6                         </td><td>bakery                     </td></tr>\n",
       "\t<tr><td>Apple Fritter              </td><td>4.2                        </td><td>20                         </td><td>59                         </td><td>0                          </td><td> 5                         </td><td>bakery                     </td></tr>\n",
       "\t<tr><td>Banana Nut Loaf            </td><td>4.9                        </td><td>19                         </td><td>75                         </td><td>4                          </td><td> 7                         </td><td>bakery                     </td></tr>\n",
       "\t<tr><td>Birthday Cake Mini Doughnut</td><td>1.3                        </td><td> 6                         </td><td>17                         </td><td>0                          </td><td> 0                         </td><td>bakery                     </td></tr>\n",
       "</tbody>\n",
       "</table>\n"
      ],
      "text/latex": [
       "\\begin{tabular}{r|lllllll}\n",
       " item & calories & fat & carb & fiber & protein & type\\\\\n",
       "\\hline\n",
       "\t 8-Grain Roll                & 3.5                         &  8                          & 67                          & 5                           & 10                          & bakery                     \\\\\n",
       "\t Apple Bran Muffin           & 3.5                         &  9                          & 64                          & 7                           &  6                          & bakery                     \\\\\n",
       "\t Apple Fritter               & 4.2                         & 20                          & 59                          & 0                           &  5                          & bakery                     \\\\\n",
       "\t Banana Nut Loaf             & 4.9                         & 19                          & 75                          & 4                           &  7                          & bakery                     \\\\\n",
       "\t Birthday Cake Mini Doughnut & 1.3                         &  6                          & 17                          & 0                           &  0                          & bakery                     \\\\\n",
       "\\end{tabular}\n"
      ],
      "text/markdown": [
       "\n",
       "item | calories | fat | carb | fiber | protein | type | \n",
       "|---|---|---|---|---|\n",
       "| 8-Grain Roll                | 3.5                         |  8                          | 67                          | 5                           | 10                          | bakery                      | \n",
       "| Apple Bran Muffin           | 3.5                         |  9                          | 64                          | 7                           |  6                          | bakery                      | \n",
       "| Apple Fritter               | 4.2                         | 20                          | 59                          | 0                           |  5                          | bakery                      | \n",
       "| Banana Nut Loaf             | 4.9                         | 19                          | 75                          | 4                           |  7                          | bakery                      | \n",
       "| Birthday Cake Mini Doughnut | 1.3                         |  6                          | 17                          | 0                           |  0                          | bakery                      | \n",
       "\n",
       "\n"
      ],
      "text/plain": [
       "  item                        calories fat carb fiber protein type  \n",
       "1 8-Grain Roll                3.5       8  67   5     10      bakery\n",
       "2 Apple Bran Muffin           3.5       9  64   7      6      bakery\n",
       "3 Apple Fritter               4.2      20  59   0      5      bakery\n",
       "4 Banana Nut Loaf             4.9      19  75   4      7      bakery\n",
       "5 Birthday Cake Mini Doughnut 1.3       6  17   0      0      bakery"
      ]
     },
     "metadata": {},
     "output_type": "display_data"
    }
   ],
   "source": [
    "head(Starbucks, 5)"
   ]
  },
  {
   "cell_type": "code",
   "execution_count": 82,
   "metadata": {},
   "outputs": [
    {
     "name": "stdout",
     "output_type": "stream",
     "text": [
      "        2         3 \n",
      "17.945629  5.523467 \n"
     ]
    }
   ],
   "source": [
    "resids <- residuals(linefitStarbucks) \n",
    "print(resids[2:3])"
   ]
  },
  {
   "cell_type": "code",
   "execution_count": 86,
   "metadata": {},
   "outputs": [
    {
     "ename": "ERROR",
     "evalue": "Error in x[j]: only 0's may be mixed with negative subscripts\n",
     "output_type": "error",
     "traceback": [
      "Error in x[j]: only 0's may be mixed with negative subscripts\nTraceback:\n",
      "1. subset(coffee, item == \"Apple Bran Muffin\", select = c(resids))",
      "2. subset.data.frame(coffee, item == \"Apple Bran Muffin\", select = c(resids))",
      "3. x[r, vars, drop = drop]",
      "4. `[.data.frame`(x, r, vars, drop = drop)"
     ]
    }
   ],
   "source": [
    "coffee = data.frame(Starbucks)\n",
    "subset(coffee, item == \"Apple Bran Muffin\",\n",
    "      select = c(resids))"
   ]
  },
  {
   "cell_type": "code",
   "execution_count": null,
   "metadata": {},
   "outputs": [],
   "source": [
    "# y - y^"
   ]
  },
  {
   "cell_type": "markdown",
   "metadata": {},
   "source": [
    "# g) Obtain a point estimate of the carbohydrates of an item with 200 calories."
   ]
  },
  {
   "cell_type": "code",
   "execution_count": 67,
   "metadata": {},
   "outputs": [
    {
     "name": "stdout",
     "output_type": "stream",
     "text": [
      "[1] 30.15\n"
     ]
    },
    {
     "data": {
      "text/html": [
       "<table>\n",
       "<thead><tr><th></th><th scope=col>fit</th><th scope=col>lwr</th><th scope=col>upr</th></tr></thead>\n",
       "<tbody>\n",
       "\t<tr><th scope=row>1</th><td>30.14974</td><td>5.225474</td><td>55.074  </td></tr>\n",
       "</tbody>\n",
       "</table>\n"
      ],
      "text/latex": [
       "\\begin{tabular}{r|lll}\n",
       "  & fit & lwr & upr\\\\\n",
       "\\hline\n",
       "\t1 & 30.14974 & 5.225474 & 55.074  \\\\\n",
       "\\end{tabular}\n"
      ],
      "text/markdown": [
       "\n",
       "| <!--/--> | fit | lwr | upr | \n",
       "|---|\n",
       "| 1 | 30.14974 | 5.225474 | 55.074   | \n",
       "\n",
       "\n"
      ],
      "text/plain": [
       "  fit      lwr      upr   \n",
       "1 30.14974 5.225474 55.074"
      ]
     },
     "metadata": {},
     "output_type": "display_data"
    }
   ],
   "source": [
    "point_estimate <- 8.944 + (10.603 * 2)\n",
    "print(point_estimate)\n",
    "new.dat <- data.frame(calories=2)\n",
    "\n",
    "predict(linefitStarbucks, new.dat, interval = 'predict')"
   ]
  },
  {
   "cell_type": "code",
   "execution_count": null,
   "metadata": {},
   "outputs": [],
   "source": [
    "# remember what scale you are using"
   ]
  },
  {
   "cell_type": "code",
   "execution_count": 68,
   "metadata": {},
   "outputs": [
    {
     "name": "stderr",
     "output_type": "stream",
     "text": [
      "Warning message in predict.lm(linefitStarbucks, interval = \"predict\", level = 0.9):\n",
      "\"predictions on current data refer to _future_ responses\n",
      "\""
     ]
    },
    {
     "data": {},
     "metadata": {},
     "output_type": "display_data"
    },
    {
     "data": {
      "image/png": "[encoded data removed]",
      "text/plain": [
       "plot without title"
      ]
     },
     "metadata": {},
     "output_type": "display_data"
    }
   ],
   "source": [
    "predict_df <- predict(linefitStarbucks, interval = 'predict', level = .90)\n",
    "\n",
    "merged_df <- cbind(Starbucks, predict_df)\n",
    "\n",
    "\n",
    "ggplot(merged_df, aes(x=calories, y=carb)) + \n",
    " geom_point(color='#2980B9', size = 2) +\n",
    " geom_line(aes(y=lwr), color = \"red\", linetype = \"dashed\")+\n",
    " geom_line(aes(y=upr), color = \"red\", linetype = \"dashed\")+\n",
    " geom_smooth(method=lm, color='#2C3E50')"
   ]
  },
  {
   "cell_type": "markdown",
   "metadata": {},
   "source": [
    "# R6-2. Starbucks 2"
   ]
  },
  {
   "cell_type": "markdown",
   "metadata": {},
   "source": [
    "# h) Do the data provide evidence of a relationship between calories and carbohydrates? State the null and alternative hypotheses, report the p-value, and state your conclusion."
   ]
  },
  {
   "cell_type": "markdown",
   "metadata": {},
   "source": [
    "* Ho = there is no relationship between calories and carbohydrates; B1 = 0\n",
    "* Ha = there is a **relationship** between calories and carbohydrates; B1 =/= 0\n",
    "* There is little chance that we would obtain this sample, if in fact there is no relationship"
   ]
  },
  {
   "cell_type": "markdown",
   "metadata": {},
   "source": [
    "# i) Calculate the 90% confidence intervals for β0 and β1 and interpret them in context."
   ]
  },
  {
   "cell_type": "code",
   "execution_count": 11,
   "metadata": {},
   "outputs": [
    {
     "name": "stdout",
     "output_type": "stream",
     "text": [
      "                 5 %     95 %\n",
      "(Intercept) 1.039446 16.84767\n",
      "calories    8.374277 12.83190\n"
     ]
    }
   ],
   "source": [
    "print(confint(linefitStarbucks, level = .90))"
   ]
  },
  {
   "cell_type": "code",
   "execution_count": null,
   "metadata": {},
   "outputs": [],
   "source": [
    "# B0 has no interpretation, so its pointless, this would be \n",
    "\n",
    "# We are 90% confident that, among all Starbucks menu items,\n",
    "# for every 100 calories, a menu item\n",
    "# goes up by between 8.37 and 12.83 carbs if in fact the sample data set reflects the population is correct"
   ]
  },
  {
   "cell_type": "markdown",
   "metadata": {},
   "source": [
    "# R6-3. Starbucks 3"
   ]
  },
  {
   "cell_type": "markdown",
   "metadata": {},
   "source": [
    "# j) What assumptions are needed for the regression analyses done above?"
   ]
  },
  {
   "cell_type": "code",
   "execution_count": 41,
   "metadata": {},
   "outputs": [],
   "source": [
    "# Random sampling (our sample data came from an unbiased sampling of the process)\n",
    "# Process stability (we're assuming that the process and the relationships in that process are relatively stable)\n",
    "# Ei ~ Normal(Mean 0, SD o): Epilson terms that they are normally distributed across all values of the predictors\n",
    "# E ~ N(0, o2) for all (Xi) - We're assuming all the epilsons are normally distributed across all values of X\n",
    "# Y = Uy + e\n",
    "# epilson hats are estimates of epilson and can be used to test the assumptions about epilson\n",
    "\n",
    "# Standardized residual are the z-scores of the residuals\n",
    "# Normality test on the standardized residuals - is there anything wrong with our assumption of normality?"
   ]
  },
  {
   "cell_type": "markdown",
   "metadata": {},
   "source": [
    "# k) Check the assumptions using the standardized residuals."
   ]
  },
  {
   "cell_type": "code",
   "execution_count": 90,
   "metadata": {},
   "outputs": [
    {
     "data": {
      "image/png": "[encoded data removed]",
      "text/plain": [
       "Plot with title \"Standardized Residual Plot\""
      ]
     },
     "metadata": {},
     "output_type": "display_data"
    }
   ],
   "source": [
    "linefitStarbucks.stres <- rstandard(linefitStarbucks)\n",
    "plot(Starbucks$calories, linefitStarbucks.stres, pch = 16, main = \"Standardized Residual Plot\", \n",
    "     xlab = \"Calories (100s)\", ylab = \"Standardized Residuals\")\n",
    "abline(0,0, lty=2, col=\"red\")"
   ]
  },
  {
   "cell_type": "code",
   "execution_count": 14,
   "metadata": {},
   "outputs": [
    {
     "data": {
      "image/png": "[encoded data removed]",
      "text/plain": [
       "Plot with title \"Normal Probability Plot\""
      ]
     },
     "metadata": {},
     "output_type": "display_data"
    }
   ],
   "source": [
    "qqnorm(linefitStarbucks.stres, main = \"Normal Probability Plot\", xlab = \"Normal Scores\", ylab = \"Standardized Residuals\")\n",
    "qqline(linefitStarbucks.stres, col = \"red\")"
   ]
  },
  {
   "cell_type": "code",
   "execution_count": 15,
   "metadata": {},
   "outputs": [
    {
     "name": "stdout",
     "output_type": "stream",
     "text": [
      "\n",
      "\tShapiro-Wilk normality test\n",
      "\n",
      "data:  linefitStarbucks.stres\n",
      "W = 0.99032, p-value = 0.832\n",
      "\n"
     ]
    }
   ],
   "source": [
    "print(shapiro.test(linefitStarbucks.stres))"
   ]
  },
  {
   "cell_type": "markdown",
   "metadata": {},
   "source": [
    "# R6-4. Starbucks 4"
   ]
  },
  {
   "cell_type": "markdown",
   "metadata": {},
   "source": [
    "# l) Find an interval for the carbohydrate amount of a product having 450 calories with 90% confidence. Interpret the interval."
   ]
  },
  {
   "cell_type": "code",
   "execution_count": 92,
   "metadata": {},
   "outputs": [
    {
     "name": "stdout",
     "output_type": "stream",
     "text": [
      "       fit      lwr     upr\n",
      "1 56.65746 35.90302 77.4119\n"
     ]
    }
   ],
   "source": [
    "#attach(Starbucks)\n",
    "linefit_2 <- lm(carb ~ calories)\n",
    "newdata <- data.frame(calories = 4.5)\n",
    "\n",
    "# 90% prediction interval for carbs amount for a single product having 450 Calories\n",
    "print(predict(linefit_2, newdata, interval=\"predict\", level = .90))"
   ]
  },
  {
   "cell_type": "code",
   "execution_count": 93,
   "metadata": {},
   "outputs": [
    {
     "name": "stdout",
     "output_type": "stream",
     "text": [
      "       fit      lwr      upr\n",
      "1 56.65746 53.25409 60.06083\n"
     ]
    }
   ],
   "source": [
    "# 90% prediction interval for carbs amount for any product that has 450 calories\n",
    "print(predict(linefit_2, newdata, interval=\"confidence\", level = .90))"
   ]
  },
  {
   "cell_type": "code",
   "execution_count": null,
   "metadata": {},
   "outputs": [],
   "source": [
    "# We are 90% confident that, for Starbucks items that have 450 calories,\n",
    "# We are 90% confident that we obtained an interval for a single Starbuck item that has 450 calories\n",
    "# they will average 56.66 carbs, in the range of 35.90 and 77.41 carbs if in fact the sample data set reflects the population.\n",
    "# [35.90, 77.41]\n",
    "# for Y/X = 4.5"
   ]
  },
  {
   "cell_type": "code",
   "execution_count": null,
   "metadata": {},
   "outputs": [],
   "source": []
  },
  {
   "cell_type": "code",
   "execution_count": null,
   "metadata": {},
   "outputs": [],
   "source": []
  },
  {
   "cell_type": "code",
   "execution_count": null,
   "metadata": {},
   "outputs": [],
   "source": []
  },
  {
   "cell_type": "code",
   "execution_count": 20,
   "metadata": {},
   "outputs": [],
   "source": [
    "library(\"ggplot2\")"
   ]
  },
  {
   "cell_type": "code",
   "execution_count": 40,
   "metadata": {},
   "outputs": [
    {
     "data": {},
     "metadata": {},
     "output_type": "display_data"
    },
    {
     "data": {
      "image/png": "[encoded data removed]",
      "text/plain": [
       "plot without title"
      ]
     },
     "metadata": {},
     "output_type": "display_data"
    }
   ],
   "source": [
    "slope <- linefit_2$coefficients[2]\n",
    "y_intercept = linefit_2$coefficients[1]\n",
    "\n",
    "ggplot(Starbucks, aes(calories, carb)) + \n",
    "    geom_point() +\n",
    "#    geom_abline(slope = slope, intercept = y_intercept, lty = 2, col = 'red')\n",
    "    geom_smooth(method='lm', col = 'red') +\n",
    "    labs(title = 'Starbucks')"
   ]
  },
  {
   "cell_type": "code",
   "execution_count": 44,
   "metadata": {},
   "outputs": [],
   "source": [
    "detach(Starbucks)"
   ]
  },
  {
   "cell_type": "code",
   "execution_count": null,
   "metadata": {},
   "outputs": [],
   "source": []
  },
  {
   "cell_type": "code",
   "execution_count": null,
   "metadata": {},
   "outputs": [],
   "source": [
    "# read dataset\n",
    "df = mtcars\n",
    "\n",
    "# create multiple linear model\n",
    "lm_fit <- lm(mpg ~ cyl + hp, data=df)\n",
    "summary(lm_fit)\n",
    "\n",
    "# save predictions of the model in the new data frame \n",
    "# together with variable you want to plot against\n",
    "predicted_df <- data.frame(mpg_pred = predict(lm_fit, df), hp=df$hp)\n",
    "\n",
    "# this is the predicted line of multiple linear regression\n",
    "ggplot(data = df, aes(x = mpg, y = hp)) + \n",
    "  geom_point(color='blue') +\n",
    "  geom_line(color='red',data = predicted_df, aes(x=mpg_pred, y=hp))"
   ]
  },
  {
   "cell_type": "code",
   "execution_count": null,
   "metadata": {},
   "outputs": [],
   "source": []
  },
  {
   "cell_type": "code",
   "execution_count": 46,
   "metadata": {},
   "outputs": [],
   "source": [
    "# Multiple Regression\n",
    "    # Data file: see file for documentation"
   ]
  },
  {
   "cell_type": "code",
   "execution_count": 47,
   "metadata": {},
   "outputs": [],
   "source": [
    "drywall <- read_excel(\"Drywall.xlsx\", na = \"NA\", col_names = TRUE)\n",
    "\n",
    "# Shorthand to allow referring to dataframe columns without stating the dataframe name"
   ]
  },
  {
   "cell_type": "code",
   "execution_count": 48,
   "metadata": {},
   "outputs": [],
   "source": [
    "attach(drywall)"
   ]
  },
  {
   "cell_type": "code",
   "execution_count": 49,
   "metadata": {},
   "outputs": [
    {
     "data": {
      "image/png": "[encoded data removed]",
      "text/plain": [
       "plot without title"
      ]
     },
     "metadata": {},
     "output_type": "display_data"
    }
   ],
   "source": [
    "plot(Permits, Sales, pch = 16, xlab = \"Number of Permits in County\", ylab = \"Sales (100s of sheets)\")"
   ]
  },
  {
   "cell_type": "code",
   "execution_count": 50,
   "metadata": {},
   "outputs": [
    {
     "data": {
      "image/png": "[encoded data removed]",
      "text/plain": [
       "plot without title"
      ]
     },
     "metadata": {},
     "output_type": "display_data"
    }
   ],
   "source": [
    "plot(Mortgage, Sales, pch = 16, xlab = \"Five-year Mortgage Rate\", ylab = \"Sales (100s of sheets)\")"
   ]
  },
  {
   "cell_type": "code",
   "execution_count": 51,
   "metadata": {},
   "outputs": [
    {
     "data": {
      "image/png": "[encoded data removed]",
      "text/plain": [
       "plot without title"
      ]
     },
     "metadata": {},
     "output_type": "display_data"
    }
   ],
   "source": [
    "plot(A_Vacancy, Sales, pch = 16, xlab = \"Apartment Vacancy Rate (%)\", ylab = \"Sales (100s of sheets)\")"
   ]
  },
  {
   "cell_type": "code",
   "execution_count": 52,
   "metadata": {},
   "outputs": [
    {
     "data": {
      "image/png": "[encoded data removed]",
      "text/plain": [
       "plot without title"
      ]
     },
     "metadata": {},
     "output_type": "display_data"
    }
   ],
   "source": [
    "plot(O_Vacancy, Sales, pch = 16, xlab = \"Office Vacancy Rate (%)\", ylab = \"Sales (100s of sheets)\")"
   ]
  },
  {
   "cell_type": "code",
   "execution_count": 53,
   "metadata": {},
   "outputs": [
    {
     "data": {
      "text/plain": [
       "\n",
       "Call:\n",
       "lm(formula = Sales ~ Permits + Mortgage + A_Vacancy + O_Vacancy)\n",
       "\n",
       "Residuals:\n",
       "    Min      1Q  Median      3Q     Max \n",
       "-86.822 -25.351   9.409  22.602  78.391 \n",
       "\n",
       "Coefficients:\n",
       "            Estimate Std. Error t value Pr(>|t|)    \n",
       "(Intercept)  -43.873     83.213  -0.527    0.604    \n",
       "Permits        4.763      0.395  12.057 2.39e-10 ***\n",
       "Mortgage      16.988     15.159   1.121    0.276    \n",
       "A_Vacancy    -10.528      6.394  -1.646    0.116    \n",
       "O_Vacancy      1.308      2.791   0.469    0.645    \n",
       "---\n",
       "Signif. codes:  0 '***' 0.001 '**' 0.01 '*' 0.05 '.' 0.1 ' ' 1\n",
       "\n",
       "Residual standard error: 40.13 on 19 degrees of freedom\n",
       "Multiple R-squared:  0.8935,\tAdjusted R-squared:  0.8711 \n",
       "F-statistic: 39.86 on 4 and 19 DF,  p-value: 5.448e-09\n"
      ]
     },
     "metadata": {},
     "output_type": "display_data"
    }
   ],
   "source": [
    "# fit the model linefit4 <- lm(Sales ~ Permits + Mortgage + A_Vacancy + O_Vacancy)\n",
    "linefit4 <- lm(Sales ~ Permits + Mortgage + A_Vacancy + O_Vacancy)\n",
    "\n",
    "# information summary of the fitted model summary(linefit4)\n",
    "summary(linefit4)"
   ]
  },
  {
   "cell_type": "code",
   "execution_count": 54,
   "metadata": {},
   "outputs": [
    {
     "name": "stdout",
     "output_type": "stream",
     "text": [
      "         1          2          3          4          5          6          7 \n",
      " 78.390864  14.256410 -20.600557 -86.822107  22.822671 -27.580036  22.528809 \n",
      "         8          9         10         11         12         13         14 \n",
      "-47.759222 -24.607992  27.740794  15.757952  26.559573  -4.549211  21.712180 \n",
      "        15         16         17         18         19         20         21 \n",
      " -1.870581 -20.658747 -34.671535 -42.122439  44.388902  37.969736  20.533014 \n",
      "        22         23         24 \n",
      "-42.999311  17.018283   4.562549 \n"
     ]
    }
   ],
   "source": [
    "# the observed residuals, epsilon-hats\n",
    "residsMR <- residuals(linefit4)\n",
    "print(residsMR)"
   ]
  },
  {
   "cell_type": "code",
   "execution_count": 55,
   "metadata": {},
   "outputs": [
    {
     "data": {
      "text/html": [
       "40.1323850427774"
      ],
      "text/latex": [
       "40.1323850427774"
      ],
      "text/markdown": [
       "40.1323850427774"
      ],
      "text/plain": [
       "[1] 40.13239"
      ]
     },
     "metadata": {},
     "output_type": "display_data"
    }
   ],
   "source": [
    "# standard deviation of the residuals = sqrt(MSE)\n",
    "summary(linefit4)$sigma"
   ]
  },
  {
   "cell_type": "code",
   "execution_count": 56,
   "metadata": {},
   "outputs": [],
   "source": [
    "detach(drywall)"
   ]
  },
  {
   "cell_type": "code",
   "execution_count": 57,
   "metadata": {},
   "outputs": [],
   "source": [
    "# A real estate agency collects data concerning \n",
    "# house sales prices ($1000s) and house sizes (100s of square feet). \n",
    "#install readxl package first\n",
    "\n",
    "library(readxl)\n",
    "houses <- read_excel(\"Houses.xlsx\", na=\"NA\", col_names = TRUE)"
   ]
  },
  {
   "cell_type": "code",
   "execution_count": null,
   "metadata": {},
   "outputs": [],
   "source": []
  },
  {
   "cell_type": "code",
   "execution_count": null,
   "metadata": {},
   "outputs": [],
   "source": []
  },
  {
   "cell_type": "code",
   "execution_count": null,
   "metadata": {},
   "outputs": [],
   "source": []
  },
  {
   "cell_type": "code",
   "execution_count": null,
   "metadata": {},
   "outputs": [],
   "source": []
  },
  {
   "cell_type": "code",
   "execution_count": null,
   "metadata": {},
   "outputs": [],
   "source": []
  },
  {
   "cell_type": "code",
   "execution_count": null,
   "metadata": {},
   "outputs": [],
   "source": []
  },
  {
   "cell_type": "code",
   "execution_count": null,
   "metadata": {},
   "outputs": [],
   "source": []
  }
 ],
 "metadata": {
  "kernelspec": {
   "display_name": "R",
   "language": "R",
   "name": "ir"
  },
  "language_info": {
   "codemirror_mode": "r",
   "file_extension": ".r",
   "mimetype": "text/x-r-source",
   "name": "R",
   "pygments_lexer": "r",
   "version": "3.5.1"
  }
 },
 "nbformat": 4,
 "nbformat_minor": 2
}
