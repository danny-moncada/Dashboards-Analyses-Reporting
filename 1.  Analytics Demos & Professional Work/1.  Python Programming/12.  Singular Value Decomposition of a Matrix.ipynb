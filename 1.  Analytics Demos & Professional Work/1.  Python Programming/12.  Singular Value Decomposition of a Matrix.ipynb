{
 "cells": [
  {
   "cell_type": "code",
   "execution_count": 1,
   "metadata": {},
   "outputs": [],
   "source": [
    "import numpy as np\n",
    "from scipy import linalg\n",
    "\n",
    "def perform_svd(matrix):\n",
    "    \n",
    "    m, n = matrix.shape\n",
    "    \n",
    "    A = matrix\n",
    "    print(\"Here's your original matrix:\")\n",
    "    print(A.__str__())\n",
    "    print()\n",
    "    \n",
    "    U, s, Vt = linalg.svd(A)\n",
    "    \n",
    "    if m == n:\n",
    "        Sigma = np.diag(s)\n",
    "    elif m > n:\n",
    "        Sigma = np.zeros((m, n))\n",
    "        Sigma[:n, :n] = np.diag(s)\n",
    "    else:\n",
    "        Sigma = np.zeros((m, n))\n",
    "        Sigma[:m, :m] = np.diag(s)\n",
    "           \n",
    "    print(\"Please hold.... Numpy is performing some magic\")\n",
    "    print(\".......\")\n",
    "    print(\"Ok Numpy is ready for you\")\n",
    "    print()\n",
    "    \n",
    "    print(\"Here is U:\")\n",
    "    print(np.round(U, 4).__str__())\n",
    "    print()\n",
    "    \n",
    "    print(\"Here is Σ:\")\n",
    "    print(np.round(Sigma, 4).__str__())\n",
    "    print()\n",
    "    \n",
    "    print(\"Here is Vt:\")\n",
    "    print(np.round(Vt, 4).__str__())\n",
    "    print()\n",
    "    \n",
    "    print(\"Ok, now that Numpy took your nice matrix apart, we're going to put it back together\")\n",
    "    print(\"Please hold one more time!\")\n",
    "    print(\".........\")\n",
    "    print(\".........\")\n",
    "    print(\"OK DONE!\")\n",
    "    \n",
    "    B = U.dot(Sigma.dot(Vt))\n",
    "    print()\n",
    "    print(np.round(B, 0).__str__())"
   ]
  },
  {
   "cell_type": "code",
   "execution_count": 2,
   "metadata": {},
   "outputs": [
    {
     "name": "stdout",
     "output_type": "stream",
     "text": [
      "Here's your original matrix:\n",
      "[[ 1  1  0]\n",
      " [ 0  1 -1]]\n",
      "\n",
      "Please hold.... Numpy is performing some magic\n",
      ".......\n",
      "Ok Numpy is ready for you\n",
      "\n",
      "Here is U:\n",
      "[[-0.7071 -0.7071]\n",
      " [-0.7071  0.7071]]\n",
      "\n",
      "Here is Σ:\n",
      "[[1.7321 0.     0.    ]\n",
      " [0.     1.     0.    ]]\n",
      "\n",
      "Here is Vt:\n",
      "[[-0.4082 -0.8165  0.4082]\n",
      " [-0.7071  0.     -0.7071]\n",
      " [-0.5774  0.5774  0.5774]]\n",
      "\n",
      "Ok, now that Numpy took your nice matrix apart, we're going to put it back together\n",
      "Please hold one more time!\n",
      ".........\n",
      ".........\n",
      "OK DONE!\n",
      "\n",
      "[[ 1.  1.  0.]\n",
      " [ 0.  1. -1.]]\n"
     ]
    }
   ],
   "source": [
    "A = np.array([[1, 1, 0], [0, 1, -1]])\n",
    "perform_svd(A)"
   ]
  },
  {
   "cell_type": "code",
   "execution_count": 3,
   "metadata": {},
   "outputs": [
    {
     "name": "stdout",
     "output_type": "stream",
     "text": [
      "Here's your original matrix:\n",
      "[[2 1]\n",
      " [1 2]]\n",
      "\n",
      "Please hold.... Numpy is performing some magic\n",
      ".......\n",
      "Ok Numpy is ready for you\n",
      "\n",
      "Here is U:\n",
      "[[-0.7071 -0.7071]\n",
      " [-0.7071  0.7071]]\n",
      "\n",
      "Here is Σ:\n",
      "[[3. 0.]\n",
      " [0. 1.]]\n",
      "\n",
      "Here is Vt:\n",
      "[[-0.7071 -0.7071]\n",
      " [-0.7071  0.7071]]\n",
      "\n",
      "Ok, now that Numpy took your nice matrix apart, we're going to put it back together\n",
      "Please hold one more time!\n",
      ".........\n",
      ".........\n",
      "OK DONE!\n",
      "\n",
      "[[2. 1.]\n",
      " [1. 2.]]\n"
     ]
    }
   ],
   "source": [
    "B = np.array([[2, 1], [1, 2]])\n",
    "perform_svd(B)"
   ]
  },
  {
   "cell_type": "code",
   "execution_count": 4,
   "metadata": {},
   "outputs": [
    {
     "name": "stdout",
     "output_type": "stream",
     "text": [
      "Here's your original matrix:\n",
      "[[7 2]\n",
      " [3 4]\n",
      " [5 3]]\n",
      "\n",
      "Please hold.... Numpy is performing some magic\n",
      ".......\n",
      "Ok Numpy is ready for you\n",
      "\n",
      "Here is U:\n",
      "[[-0.6937  0.5934 -0.4082]\n",
      " [-0.4427 -0.7983 -0.4082]\n",
      " [-0.5682 -0.1025  0.8165]]\n",
      "\n",
      "Here is Σ:\n",
      "[[10.2514  0.    ]\n",
      " [ 0.      2.6284]\n",
      " [ 0.      0.    ]]\n",
      "\n",
      "Here is Vt:\n",
      "[[-0.8803 -0.4743]\n",
      " [ 0.4743 -0.8803]]\n",
      "\n",
      "Ok, now that Numpy took your nice matrix apart, we're going to put it back together\n",
      "Please hold one more time!\n",
      ".........\n",
      ".........\n",
      "OK DONE!\n",
      "\n",
      "[[7. 2.]\n",
      " [3. 4.]\n",
      " [5. 3.]]\n"
     ]
    }
   ],
   "source": [
    "C = np.array([[7, 2], [3, 4], [5, 3]])\n",
    "perform_svd(C)"
   ]
  },
  {
   "cell_type": "code",
   "execution_count": 5,
   "metadata": {},
   "outputs": [
    {
     "name": "stdout",
     "output_type": "stream",
     "text": [
      "Here's your original matrix:\n",
      "[[ 1  2  3  4  5  6]\n",
      " [11 12 13 14 15 16]\n",
      " [21 22 23 24 25 26]]\n",
      "\n",
      "Please hold.... Numpy is performing some magic\n",
      ".......\n",
      "Ok Numpy is ready for you\n",
      "\n",
      "Here is U:\n",
      "[[-0.1327  0.9032  0.4082]\n",
      " [-0.4956  0.2962 -0.8165]\n",
      " [-0.8584 -0.3107  0.4082]]\n",
      "\n",
      "Here is Σ:\n",
      "[[67.2239  0.      0.      0.      0.      0.    ]\n",
      " [ 0.      3.7338  0.      0.      0.      0.    ]\n",
      " [ 0.      0.      0.      0.      0.      0.    ]]\n",
      "\n",
      "Here is Vt:\n",
      "[[-0.3512 -0.3733 -0.3954 -0.4176 -0.4397 -0.4618]\n",
      " [-0.6328 -0.3948 -0.1568  0.0812  0.3193  0.5573]\n",
      " [-0.3676 -0.2019  0.5264  0.4645  0.1375 -0.5589]\n",
      " [-0.0908  0.2595 -0.5937  0.7164 -0.2356 -0.0558]\n",
      " [-0.2297  0.4741 -0.2993 -0.2577  0.665  -0.3525]\n",
      " [-0.5292  0.6098  0.316  -0.1538 -0.4337  0.1909]]\n",
      "\n",
      "Ok, now that Numpy took your nice matrix apart, we're going to put it back together\n",
      "Please hold one more time!\n",
      ".........\n",
      ".........\n",
      "OK DONE!\n",
      "\n",
      "[[ 1.  2.  3.  4.  5.  6.]\n",
      " [11. 12. 13. 14. 15. 16.]\n",
      " [21. 22. 23. 24. 25. 26.]]\n"
     ]
    }
   ],
   "source": [
    "D = np.array([[1,2,3,4,5,6],\n",
    "              [11,12,13,14,15,16],\n",
    "              [21,22,23,24,25,26]])\n",
    "perform_svd(D)"
   ]
  }
 ],
 "metadata": {
  "kernelspec": {
   "display_name": "Python 3",
   "language": "python",
   "name": "python3"
  },
  "language_info": {
   "codemirror_mode": {
    "name": "ipython",
    "version": 3
   },
   "file_extension": ".py",
   "mimetype": "text/x-python",
   "name": "python",
   "nbconvert_exporter": "python",
   "pygments_lexer": "ipython3",
   "version": "3.5.4"
  }
 },
 "nbformat": 4,
 "nbformat_minor": 2
}
