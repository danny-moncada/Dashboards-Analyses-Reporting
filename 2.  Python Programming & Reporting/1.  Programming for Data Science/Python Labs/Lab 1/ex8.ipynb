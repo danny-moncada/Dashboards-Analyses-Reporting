{
 "cells": [
  {
   "cell_type": "code",
   "execution_count": 1,
   "metadata": {
    "collapsed": true
   },
   "outputs": [],
   "source": [
    "## Danny Moncada - MSBA 6310 - ex8.py\n",
    "## An odometer logs the number of miles driven by the car. Write a program that prompts the user for a beginning \n",
    "## odometer reading, ending odometer reading, and number of gallons. Then print out the estimated fuel efficiency"
   ]
  },
  {
   "cell_type": "code",
   "execution_count": 21,
   "metadata": {},
   "outputs": [
    {
     "name": "stdout",
     "output_type": "stream",
     "text": [
      "Enter beginning odometer: 23352\n",
      "Enter ending odometer: 23695\n",
      "Enter gallons: 14\n",
      "\n",
      "Fuel Efficiency: 24.50 miles per gallon\n"
     ]
    }
   ],
   "source": [
    "## get user input for beginning, ending odometer readings and number of gallons\n",
    "\n",
    "start_odometer = input(\"Enter beginning odometer: \")\n",
    "end_odometer = input(\"Enter ending odometer: \")\n",
    "no_of_gallons = input(\"Enter gallons: \")\n",
    "\n",
    "## caluclate the fuel efficiency by subtracting the ending starting odometer reading from the ending odometer reading\n",
    "## and dividing by the number of gallons, and then print the resulting fuel efficiency\n",
    "print()\n",
    "print(\"Fuel Efficiency: %s miles per gallon\" % (format(((float(end_odometer) - float(start_odometer)) / float(no_of_gallons)), '.2f')))"
   ]
  }
 ],
 "metadata": {
  "kernelspec": {
   "display_name": "Python 3",
   "language": "python",
   "name": "python3"
  },
  "language_info": {
   "codemirror_mode": {
    "name": "ipython",
    "version": 3
   },
   "file_extension": ".py",
   "mimetype": "text/x-python",
   "name": "python",
   "nbconvert_exporter": "python",
   "pygments_lexer": "ipython3",
   "version": "3.5.4"
  }
 },
 "nbformat": 4,
 "nbformat_minor": 2
}
