{
 "cells": [
  {
   "cell_type": "code",
   "execution_count": null,
   "metadata": {
    "collapsed": true
   },
   "outputs": [],
   "source": [
    "## Danny Moncada - MSBA 6310 - ex2.py\n",
    "## The price of ketchup is an important number!  Write a program that calculates the price of ketchup."
   ]
  },
  {
   "cell_type": "code",
   "execution_count": 11,
   "metadata": {},
   "outputs": [
    {
     "name": "stdout",
     "output_type": "stream",
     "text": [
      "The price of ketchup is $1.53\n"
     ]
    }
   ],
   "source": [
    "## 1.  Assign string \"ketchup\" to variable 'item'\n",
    "item = \"ketchup\"\n",
    "\n",
    "## 2.  Assign $1.80 to variable 'regular_price'\n",
    "regular_price = 1.80\n",
    "\n",
    "## 3.  Assign .27¢ to the variable 'discount'\n",
    "discount = .27\n",
    "\n",
    "## 4.  Print out price of \"ketchup\" by subtracting 'discount' from 'regular_price'\n",
    "print(\"The price of %s is $%s\" %(item, regular_price - discount))"
   ]
  }
 ],
 "metadata": {
  "kernelspec": {
   "display_name": "Python 3",
   "language": "python",
   "name": "python3"
  },
  "language_info": {
   "codemirror_mode": {
    "name": "ipython",
    "version": 3
   },
   "file_extension": ".py",
   "mimetype": "text/x-python",
   "name": "python",
   "nbconvert_exporter": "python",
   "pygments_lexer": "ipython3",
   "version": "3.5.4"
  }
 },
 "nbformat": 4,
 "nbformat_minor": 2
}
