{
 "cells": [
  {
   "cell_type": "code",
   "execution_count": 1,
   "metadata": {
    "collapsed": true
   },
   "outputs": [],
   "source": [
    "## Danny Moncada - MSBA 6310 - ex7.py\n",
    "## Number of calories burned per hour by cycling = 200, running = 475, swimming = 275\n",
    "## A person loses 1 pound of weight for each 3500 cal\n",
    "## Write a program to read the number of hours spent in each activity and then display the number of pounds worked off"
   ]
  },
  {
   "cell_type": "code",
   "execution_count": 26,
   "metadata": {},
   "outputs": [
    {
     "name": "stdout",
     "output_type": "stream",
     "text": [
      "Enter hours cycling: 2\n",
      "Enter hours running : 3\n",
      "Enter hours swimming: 1\n",
      "\n",
      "Total pounds lost: 0.60\n"
     ]
    }
   ],
   "source": [
    "## get user input for number of hours spent cycling, running, and swimming\n",
    "cycling_hours = input(\"Enter hours cycling: \")\n",
    "running_hours = input(\"Enter hours running : \")\n",
    "swimming_hours = input(\"Enter hours swimming: \")\n",
    "\n",
    "## calculate calories burned\n",
    "calories_burned = (float(cycling_hours) * 200) + (float(running_hours) * 475) + (float(swimming_hours) * 275)\n",
    "\n",
    "## print the total amount of pounds lost by dividing calories burned by 3500\n",
    "print()\n",
    "print(\"Total pounds lost: %s\" %(format(calories_burned / 3500, '.2f')))"
   ]
  }
 ],
 "metadata": {
  "kernelspec": {
   "display_name": "Python 3",
   "language": "python",
   "name": "python3"
  },
  "language_info": {
   "codemirror_mode": {
    "name": "ipython",
    "version": 3
   },
   "file_extension": ".py",
   "mimetype": "text/x-python",
   "name": "python",
   "nbconvert_exporter": "python",
   "pygments_lexer": "ipython3",
   "version": "3.5.4"
  }
 },
 "nbformat": 4,
 "nbformat_minor": 2
}
