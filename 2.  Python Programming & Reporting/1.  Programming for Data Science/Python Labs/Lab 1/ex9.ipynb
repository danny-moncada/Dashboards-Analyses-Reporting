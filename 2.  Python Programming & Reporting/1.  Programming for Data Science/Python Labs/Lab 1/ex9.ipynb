{
 "cells": [
  {
   "cell_type": "code",
   "execution_count": 1,
   "metadata": {
    "collapsed": true
   },
   "outputs": [],
   "source": [
    "## Danny Moncada - MSBA 6310 - ex9.py\n",
    "## Write a program that takes time 1 in hours and minutes, time 2 in hours and minutes, and prints the result of the two times\n",
    "## added together in h:mm format"
   ]
  },
  {
   "cell_type": "code",
   "execution_count": 1,
   "metadata": {},
   "outputs": [
    {
     "name": "stdout",
     "output_type": "stream",
     "text": [
      "Enter time 1 hours: 1\n",
      "Enter time 1 minutes: 30\n",
      "Enter time 2 hours: 40\n",
      "Enter time 2 minutes: 1\n",
      "\n",
      "Total time is 41:31\n"
     ]
    }
   ],
   "source": [
    "## get user input for time 1 hours & minutes, time 2 hours & minutes\n",
    "time_1_hours = input(\"Enter time 1 hours: \")\n",
    "time_1_minutes = input(\"Enter time 1 minutes: \")\n",
    "time_2_hours = input(\"Enter time 2 hours: \")\n",
    "time_2_minutes = input(\"Enter time 2 minutes: \")\n",
    "\n",
    "## calculate the total time by converting hours into minutes and getting the sum of all user input, 'total_time'\n",
    "total_time = (int(time_1_hours) + int(time_2_hours)) * 60 + int(time_1_minutes) + int(time_2_minutes)\n",
    "\n",
    "## print the results by dividing the total time by 60 to get hours, and getting the reminder of that division to get minutes\n",
    "print()\n",
    "print(\"Total time is %s:%s\" % (int(total_time / 60), total_time % 60))"
   ]
  }
 ],
 "metadata": {
  "kernelspec": {
   "display_name": "Python 3",
   "language": "python",
   "name": "python3"
  },
  "language_info": {
   "codemirror_mode": {
    "name": "ipython",
    "version": 3
   },
   "file_extension": ".py",
   "mimetype": "text/x-python",
   "name": "python",
   "nbconvert_exporter": "python",
   "pygments_lexer": "ipython3",
   "version": "3.5.4"
  }
 },
 "nbformat": 4,
 "nbformat_minor": 2
}
