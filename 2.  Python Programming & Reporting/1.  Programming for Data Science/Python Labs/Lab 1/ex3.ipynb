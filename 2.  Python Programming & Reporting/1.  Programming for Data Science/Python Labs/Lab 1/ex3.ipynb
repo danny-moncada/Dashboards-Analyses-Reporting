{
 "cells": [
  {
   "cell_type": "code",
   "execution_count": 9,
   "metadata": {
    "collapsed": true
   },
   "outputs": [],
   "source": [
    "## Danny Moncada - MSBA 6310 - ex3.py\n",
    "## Write a program that adds two numbers together"
   ]
  },
  {
   "cell_type": "code",
   "execution_count": 12,
   "metadata": {},
   "outputs": [
    {
     "name": "stdout",
     "output_type": "stream",
     "text": [
      "Enter first number: 2\n",
      "\n",
      "Enter second number: 3\n",
      "\n",
      "The sum is 5.\n"
     ]
    }
   ],
   "source": [
    "## request user input for the two numbers to add together\n",
    "first_number = input(\"Enter first number: \")\n",
    "print()\n",
    "second_number = input(\"Enter second number: \")\n",
    "\n",
    "## convert those numbers into int - using 'float' in case a user wants to include a decimal\n",
    "sum_of_numbers = int(float(first_number)) + int(float(second_number))\n",
    "\n",
    "## print the result of summing the two numbers\n",
    "print()\n",
    "print(\"The sum is %s.\" %(sum_of_numbers))"
   ]
  }
 ],
 "metadata": {
  "kernelspec": {
   "display_name": "Python 3",
   "language": "python",
   "name": "python3"
  },
  "language_info": {
   "codemirror_mode": {
    "name": "ipython",
    "version": 3
   },
   "file_extension": ".py",
   "mimetype": "text/x-python",
   "name": "python",
   "nbconvert_exporter": "python",
   "pygments_lexer": "ipython3",
   "version": "3.5.4"
  }
 },
 "nbformat": 4,
 "nbformat_minor": 2
}
