{
 "cells": [
  {
   "cell_type": "code",
   "execution_count": null,
   "metadata": {
    "collapsed": true
   },
   "outputs": [],
   "source": [
    "## Danny Moncada - MSBA 6310 - ex4.py\n",
    "## An auto repair shop bills customers at $35.00 an hour for labor.  Costs for parts and supplies are subject to 7% sales tax\n",
    "## Write a program to prompt the user for customer name, labor hours, and total cost of parts and supplies, then calculate\n",
    "## and display the total bill."
   ]
  },
  {
   "cell_type": "code",
   "execution_count": 15,
   "metadata": {},
   "outputs": [
    {
     "name": "stdout",
     "output_type": "stream",
     "text": [
      "Please enter customer name: John Doe\n",
      "\n",
      "Please enter labor hours: 3.5\n",
      "\n",
      "Please enter cost of parts and supplies: 84.55\n",
      "\n",
      "Customer: John Doe\n",
      "\n",
      "Labor cost: $122.50\n",
      "Parts cost: $90.47\n",
      "Total cost: $212.97\n"
     ]
    }
   ],
   "source": [
    "## request user input for their name, the number of labor hours, and the cost of parts\n",
    "## the print statements are just to space out the prompts\n",
    "customer_name = input(\"Please enter customer name: \")\n",
    "print()\n",
    "labor_hours = input(\"Please enter labor hours: \")\n",
    "print()\n",
    "cost_of_parts = input(\"Please enter cost of parts and supplies: \")\n",
    "print()\n",
    "\n",
    "## calculate the labor cost, the cost of parts & supplies, and the total cost\n",
    "labor_cost = float(labor_hours) * 35.0\n",
    "parts_sales_tax_cost = float(cost_of_parts) * 1.07 \n",
    "total_cost = labor_cost + parts_sales_tax_cost\n",
    "\n",
    "## print the results in the proper format\n",
    "print(\"Customer: %s\" %(customer_name))\n",
    "print()\n",
    "print(\"Labor cost: $%s\" %(format(labor_cost, '.2f')))\n",
    "print(\"Parts cost: $%s\" %(format(parts_sales_tax_cost, '.2f')))\n",
    "print(\"Total cost: $%s\" %(format(total_cost, '.2f')))"
   ]
  }
 ],
 "metadata": {
  "kernelspec": {
   "display_name": "Python 3",
   "language": "python",
   "name": "python3"
  },
  "language_info": {
   "codemirror_mode": {
    "name": "ipython",
    "version": 3
   },
   "file_extension": ".py",
   "mimetype": "text/x-python",
   "name": "python",
   "nbconvert_exporter": "python",
   "pygments_lexer": "ipython3",
   "version": "3.5.4"
  }
 },
 "nbformat": 4,
 "nbformat_minor": 2
}
