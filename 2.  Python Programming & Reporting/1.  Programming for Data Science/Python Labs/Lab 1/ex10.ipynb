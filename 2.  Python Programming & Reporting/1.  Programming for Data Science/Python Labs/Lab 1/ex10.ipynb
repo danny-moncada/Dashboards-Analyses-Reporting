{
 "cells": [
  {
   "cell_type": "code",
   "execution_count": 1,
   "metadata": {
    "collapsed": true
   },
   "outputs": [],
   "source": [
    "## Danny Moncada - MSBA 6310 - ex10.py\n",
    "## Write a program that prompts a user for inital height and initial velocity for a ball thrown in the air\n",
    "## The program should calculate the height of the ball after 3 seconds, via the formula -16t^2 + vt + h\n",
    "## where t = time (in seconds), v = initial velocity, and h = initial height"
   ]
  },
  {
   "cell_type": "code",
   "execution_count": 4,
   "metadata": {},
   "outputs": [
    {
     "name": "stdout",
     "output_type": "stream",
     "text": [
      "Enter initial velocity (fps): 50\n",
      "Enter initial height (feet): 5\n",
      "\n",
      "The height after 3 seconds is: 11.0 ft\n"
     ]
    }
   ],
   "source": [
    "## get user input for initial velocity and height\n",
    "initial_velocity = input(\"Enter initial velocity (fps): \")\n",
    "initial_height = input(\"Enter initial height (feet): \")\n",
    "\n",
    "## print the height after 3 seconds by using the formula and substituting the users input for the velocity and height\n",
    "print()\n",
    "print(\"The height after 3 seconds is: %s ft\" % ((-16 * 3**2) + (float(initial_velocity)* 3) + float(initial_height)))"
   ]
  },
  {
   "cell_type": "code",
   "execution_count": null,
   "metadata": {
    "collapsed": true
   },
   "outputs": [],
   "source": []
  },
  {
   "cell_type": "code",
   "execution_count": null,
   "metadata": {
    "collapsed": true
   },
   "outputs": [],
   "source": []
  }
 ],
 "metadata": {
  "kernelspec": {
   "display_name": "Python 3",
   "language": "python",
   "name": "python3"
  },
  "language_info": {
   "codemirror_mode": {
    "name": "ipython",
    "version": 3
   },
   "file_extension": ".py",
   "mimetype": "text/x-python",
   "name": "python",
   "nbconvert_exporter": "python",
   "pygments_lexer": "ipython3",
   "version": "3.5.4"
  }
 },
 "nbformat": 4,
 "nbformat_minor": 2
}
