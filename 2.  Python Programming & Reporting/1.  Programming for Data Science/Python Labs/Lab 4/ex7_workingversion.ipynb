{
 "cells": [
  {
   "cell_type": "code",
   "execution_count": 1,
   "metadata": {
    "collapsed": true
   },
   "outputs": [],
   "source": [
    "## Danny Moncada - MSBA 6310 - Lab 4 - ex7.py\n",
    "## Write a class named HighRoller that utilizes PairofDice() class to implement a simple game\n",
    "## Each player is represented by a pair of dice\n",
    "## roll_all gives each player one roll\n",
    "## the winner with highest roll total is determined by winner method"
   ]
  },
  {
   "cell_type": "code",
   "execution_count": 156,
   "metadata": {
    "collapsed": true
   },
   "outputs": [],
   "source": [
    "from random import randint\n",
    "\n",
    "class HighRoller(object):\n",
    "    def __init__(self):\n",
    "        self.players = []\n",
    "        \n",
    "    def add_player(self, str):\n",
    "        self.players.append(str)\n",
    "        \n",
    "    def roll_all(self):\n",
    "        rolls = {}\n",
    "        for player in self.players:\n",
    "            dice1 = randint(1, 6)\n",
    "            dice2 = randint(1, 6)\n",
    "            rolls[player] = dice1 + dice2\n",
    "        return rolls\n",
    "    \n",
    "    def winner(self):\n",
    "        max_val = max(rolls.values())\n",
    "        return [(key) for key, value in rolls.items() if value == max_val]\n",
    "    \n",
    "    def total(self, name):\n",
    "        return [(value) for key, value in rolls.items()] "
   ]
  },
  {
   "cell_type": "code",
   "execution_count": 157,
   "metadata": {
    "collapsed": true
   },
   "outputs": [],
   "source": [
    "game = HighRoller()"
   ]
  },
  {
   "cell_type": "code",
   "execution_count": 158,
   "metadata": {
    "collapsed": true
   },
   "outputs": [],
   "source": [
    "game.add_player(\"Perky\")\n",
    "game.add_player(\"Nipper\")\n",
    "game.add_player(\"Bubbles\")"
   ]
  },
  {
   "cell_type": "code",
   "execution_count": 159,
   "metadata": {},
   "outputs": [
    {
     "data": {
      "text/plain": [
       "{'Bubbles': 9, 'Nipper': 8, 'Perky': 9}"
      ]
     },
     "execution_count": 159,
     "metadata": {},
     "output_type": "execute_result"
    }
   ],
   "source": [
    "game.roll_all()"
   ]
  },
  {
   "cell_type": "code",
   "execution_count": 160,
   "metadata": {},
   "outputs": [
    {
     "data": {
      "text/plain": [
       "['Perky']"
      ]
     },
     "execution_count": 160,
     "metadata": {},
     "output_type": "execute_result"
    }
   ],
   "source": [
    "game.winner()"
   ]
  },
  {
   "cell_type": "code",
   "execution_count": 161,
   "metadata": {},
   "outputs": [
    {
     "ename": "AttributeError",
     "evalue": "'str' object has no attribute 'total'",
     "output_type": "error",
     "traceback": [
      "\u001b[1;31m---------------------------------------------------------------------------\u001b[0m",
      "\u001b[1;31mAttributeError\u001b[0m                            Traceback (most recent call last)",
      "\u001b[1;32m<ipython-input-161-a63435a1b35a>\u001b[0m in \u001b[0;36m<module>\u001b[1;34m()\u001b[0m\n\u001b[1;32m----> 1\u001b[1;33m \u001b[0mgame\u001b[0m\u001b[1;33m.\u001b[0m\u001b[0mplayers\u001b[0m\u001b[1;33m[\u001b[0m\u001b[1;36m0\u001b[0m\u001b[1;33m]\u001b[0m\u001b[1;33m.\u001b[0m\u001b[0mtotal\u001b[0m\u001b[1;33m(\u001b[0m\u001b[1;33m)\u001b[0m\u001b[1;33m\u001b[0m\u001b[0m\n\u001b[0m",
      "\u001b[1;31mAttributeError\u001b[0m: 'str' object has no attribute 'total'"
     ]
    }
   ],
   "source": [
    "game.players[0].total()"
   ]
  },
  {
   "cell_type": "code",
   "execution_count": 162,
   "metadata": {},
   "outputs": [
    {
     "data": {
      "text/plain": [
       "__main__.HighRoller"
      ]
     },
     "execution_count": 162,
     "metadata": {},
     "output_type": "execute_result"
    }
   ],
   "source": [
    "type(game)"
   ]
  },
  {
   "cell_type": "code",
   "execution_count": null,
   "metadata": {
    "collapsed": true
   },
   "outputs": [],
   "source": []
  },
  {
   "cell_type": "code",
   "execution_count": null,
   "metadata": {
    "collapsed": true
   },
   "outputs": [],
   "source": []
  },
  {
   "cell_type": "code",
   "execution_count": null,
   "metadata": {
    "collapsed": true
   },
   "outputs": [],
   "source": [
    "## ignore this junk, this was when i first started the notebook"
   ]
  },
  {
   "cell_type": "markdown",
   "metadata": {},
   "source": [
    "Learning Classes"
   ]
  },
  {
   "cell_type": "code",
   "execution_count": 20,
   "metadata": {},
   "outputs": [
    {
     "name": "stdout",
     "output_type": "stream",
     "text": [
      "This side is up: Heads\n",
      "I am tossing the coin ...\n",
      "This side is up: Tails\n",
      "This side is up: Tails\n",
      "This side is up: Heads\n",
      "This side is up: Heads\n",
      "This side is up: Tails\n",
      "This side is up: Heads\n",
      "This side is up: Heads\n",
      "This side is up: Tails\n",
      "This side is up: Heads\n",
      "This side is up: Heads\n"
     ]
    }
   ],
   "source": [
    "import random\n",
    "\n",
    "## The Coin class simulates a coin that be flipped\n",
    "\n",
    "class Coin:\n",
    "    \n",
    "    def __init__(self):\n",
    "        self.__sideup = \"Heads\"\n",
    "        \n",
    "    def toss(self):\n",
    "        if random.randint(0, 1) == 0:\n",
    "            self.__sideup = \"Heads\"\n",
    "        else:\n",
    "            self.__sideup = \"Tails\"\n",
    "            \n",
    "    def get_sideup(self):\n",
    "        return self.sideup\n",
    "    \n",
    "def main():\n",
    "    my_coin = Coin()\n",
    "    \n",
    "    print(\"This side is up:\", my_coin.get_sideup())\n",
    "    \n",
    "    print(\"I am tossing the coin ...\")\n",
    "    for i in range(10):\n",
    "        my_coin.toss()\n",
    "        print(\"This side is up:\", my_coin.get_sideup())\n",
    "    \n",
    "main()"
   ]
  },
  {
   "cell_type": "code",
   "execution_count": 1,
   "metadata": {},
   "outputs": [
    {
     "name": "stdout",
     "output_type": "stream",
     "text": [
      "Enter your starting balance: 1000\n",
      "How much were you paid this week? 500\n",
      "I will deposit that into your account.\n",
      "The balance is $1,500.00\n",
      "How much would you like to withdraw? 1200\n",
      "I will withdraw that from your account.\n",
      "The balance is $300.00\n"
     ]
    }
   ],
   "source": [
    "import bankaccount\n",
    "\n",
    "def main():\n",
    "    \n",
    "    start_bal = float(input(\"Enter your starting balance: \"))\n",
    "    \n",
    "    savings = bankaccount.BankAccount(start_bal)\n",
    "    \n",
    "    pay = float(input(\"How much were you paid this week? \"))\n",
    "    print(\"I will deposit that into your account.\")\n",
    "    savings.deposit(pay)\n",
    "    \n",
    "    print(savings)\n",
    "    \n",
    "    cash = float(input(\"How much would you like to withdraw? \"))\n",
    "    print(\"I will withdraw that from your account.\")\n",
    "    savings.withdraw(cash)\n",
    "    \n",
    "    print(savings)\n",
    "    \n",
    "main()"
   ]
  },
  {
   "cell_type": "code",
   "execution_count": 2,
   "metadata": {},
   "outputs": [
    {
     "name": "stdout",
     "output_type": "stream",
     "text": [
      "The balance is $1,500.00\n"
     ]
    }
   ],
   "source": [
    "account = bankaccount.BankAccount(1500)\n",
    "message = str(account)\n",
    "print(message)"
   ]
  },
  {
   "cell_type": "code",
   "execution_count": null,
   "metadata": {
    "collapsed": true
   },
   "outputs": [],
   "source": []
  },
  {
   "cell_type": "code",
   "execution_count": 27,
   "metadata": {
    "collapsed": true
   },
   "outputs": [],
   "source": [
    "from random import randint\n",
    "\n",
    "class PairOfDice():\n",
    "    def __init__(self):\n",
    "        self.rolls = []\n",
    "    \n",
    "    def roll(self):\n",
    "        self.roll_of_dice = randint(1, 6) + randint(1, 6)\n",
    "        \n",
    "\n",
    "    def total(self):\n",
    "        "
   ]
  },
  {
   "cell_type": "code",
   "execution_count": 28,
   "metadata": {
    "collapsed": true
   },
   "outputs": [],
   "source": [
    "aa = PairOfDice()"
   ]
  },
  {
   "cell_type": "code",
   "execution_count": 29,
   "metadata": {},
   "outputs": [
    {
     "data": {
      "text/plain": [
       "[]"
      ]
     },
     "execution_count": 29,
     "metadata": {},
     "output_type": "execute_result"
    }
   ],
   "source": [
    "aa.rolls"
   ]
  },
  {
   "cell_type": "code",
   "execution_count": 30,
   "metadata": {},
   "outputs": [
    {
     "data": {
      "text/plain": [
       "7"
      ]
     },
     "execution_count": 30,
     "metadata": {},
     "output_type": "execute_result"
    }
   ],
   "source": [
    "aa.roll()"
   ]
  },
  {
   "cell_type": "code",
   "execution_count": null,
   "metadata": {
    "collapsed": true
   },
   "outputs": [],
   "source": []
  },
  {
   "cell_type": "code",
   "execution_count": 21,
   "metadata": {},
   "outputs": [
    {
     "data": {
      "text/plain": [
       "9"
      ]
     },
     "execution_count": 21,
     "metadata": {},
     "output_type": "execute_result"
    }
   ],
   "source": []
  },
  {
   "cell_type": "code",
   "execution_count": null,
   "metadata": {
    "collapsed": true
   },
   "outputs": [],
   "source": []
  },
  {
   "cell_type": "code",
   "execution_count": null,
   "metadata": {
    "collapsed": true
   },
   "outputs": [],
   "source": []
  },
  {
   "cell_type": "code",
   "execution_count": null,
   "metadata": {
    "collapsed": true
   },
   "outputs": [],
   "source": []
  },
  {
   "cell_type": "markdown",
   "metadata": {
    "collapsed": true
   },
   "source": [
    "## Here's where the actual code I finalized to use for the program\n",
    "\n",
    "## I figured out transforming my instance to a str value required creating a specific function for that \n",
    "## in my Class.  I literally just followed line by line constructing a new class and that was the missing\n",
    "## link.  Look at my roll_all() function. literally figured out to just call my \"own\" function on myself to simulate a roll"
   ]
  },
  {
   "cell_type": "code",
   "execution_count": 8,
   "metadata": {},
   "outputs": [],
   "source": [
    "from random import randint\n",
    "\n",
    "class HighRoller():\n",
    "    \n",
    "    def __init__(self):\n",
    "        self.players = []\n",
    "        self.player_scores = {}\n",
    "        \n",
    "    def add_player(self, player):\n",
    "        self.players.append(PairOfDice(player))\n",
    "        \n",
    "    def roll_all(self):\n",
    "        for i in self.players:\n",
    "            i.roll()\n",
    "            self.player_scores[i] = i.total()\n",
    "    \n",
    "    def winner(self):\n",
    "        return [str(k) for k, v in self.player_scores.items() if v == max(self.player_scores.values())]\n",
    "    \n",
    "class PairOfDice():\n",
    "    \n",
    "    def __init__(self, name):\n",
    "        self.name = name\n",
    "\n",
    "    def roll(self):\n",
    "        self.dice_roll = randint(1, 6) + randint(1, 6)\n",
    "\n",
    "    def total(self):\n",
    "        return self.dice_roll\n",
    "    \n",
    "    def __str__(self):\n",
    "        return \"{}\".format(self.name)"
   ]
  },
  {
   "cell_type": "code",
   "execution_count": 9,
   "metadata": {
    "collapsed": true
   },
   "outputs": [],
   "source": [
    "d = HighRoller()"
   ]
  },
  {
   "cell_type": "code",
   "execution_count": 10,
   "metadata": {
    "collapsed": true
   },
   "outputs": [],
   "source": [
    "d.add_player(\"Perky\")\n",
    "d.add_player(\"Nipper\")\n",
    "d.add_player(\"Bubbles\")"
   ]
  },
  {
   "cell_type": "code",
   "execution_count": 11,
   "metadata": {},
   "outputs": [
    {
     "data": {
      "text/plain": [
       "{<__main__.PairOfDice at 0x1ff8c9bf908>: 9,\n",
       " <__main__.PairOfDice at 0x1ff8c9bf898>: 11,\n",
       " <__main__.PairOfDice at 0x1ff8c9bf860>: 7}"
      ]
     },
     "execution_count": 11,
     "metadata": {},
     "output_type": "execute_result"
    }
   ],
   "source": [
    "d.roll_all()"
   ]
  },
  {
   "cell_type": "code",
   "execution_count": 12,
   "metadata": {},
   "outputs": [
    {
     "data": {
      "text/plain": [
       "['Nipper']"
      ]
     },
     "execution_count": 12,
     "metadata": {},
     "output_type": "execute_result"
    }
   ],
   "source": [
    "d.winner()"
   ]
  },
  {
   "cell_type": "code",
   "execution_count": null,
   "metadata": {
    "collapsed": true
   },
   "outputs": [],
   "source": []
  },
  {
   "cell_type": "code",
   "execution_count": 16,
   "metadata": {},
   "outputs": [
    {
     "data": {
      "text/plain": [
       "7"
      ]
     },
     "execution_count": 16,
     "metadata": {},
     "output_type": "execute_result"
    }
   ],
   "source": [
    "d.players[0].total()"
   ]
  },
  {
   "cell_type": "code",
   "execution_count": null,
   "metadata": {
    "collapsed": true
   },
   "outputs": [],
   "source": []
  },
  {
   "cell_type": "code",
   "execution_count": 24,
   "metadata": {},
   "outputs": [
    {
     "name": "stdout",
     "output_type": "stream",
     "text": [
      "# of times you rolled a 7 : 155 \n"
     ]
    }
   ],
   "source": [
    "some_dice = PairOfDice(\"Perky\")\n",
    "count = 0\n",
    "for i in range (0, 1000):\n",
    "    some_dice.roll()\n",
    "    if some_dice.total() == 7:\n",
    "        count += 1\n",
    "\n",
    "print('# of times you rolled a 7 : {} ' . format (count))"
   ]
  },
  {
   "cell_type": "code",
   "execution_count": null,
   "metadata": {
    "collapsed": true
   },
   "outputs": [],
   "source": []
  },
  {
   "cell_type": "code",
   "execution_count": 13,
   "metadata": {
    "collapsed": true
   },
   "outputs": [],
   "source": [
    "danny = PairOfDice()"
   ]
  },
  {
   "cell_type": "code",
   "execution_count": 16,
   "metadata": {
    "collapsed": true
   },
   "outputs": [],
   "source": [
    "danny.roll()"
   ]
  },
  {
   "cell_type": "code",
   "execution_count": 17,
   "metadata": {},
   "outputs": [
    {
     "data": {
      "text/plain": [
       "10"
      ]
     },
     "execution_count": 17,
     "metadata": {},
     "output_type": "execute_result"
    }
   ],
   "source": [
    "danny.total()"
   ]
  },
  {
   "cell_type": "code",
   "execution_count": null,
   "metadata": {
    "collapsed": true
   },
   "outputs": [],
   "source": []
  }
 ],
 "metadata": {
  "kernelspec": {
   "display_name": "Python 3",
   "language": "python",
   "name": "python3"
  },
  "language_info": {
   "codemirror_mode": {
    "name": "ipython",
    "version": 3
   },
   "file_extension": ".py",
   "mimetype": "text/x-python",
   "name": "python",
   "nbconvert_exporter": "python",
   "pygments_lexer": "ipython3",
   "version": "3.5.4"
  }
 },
 "nbformat": 4,
 "nbformat_minor": 2
}
