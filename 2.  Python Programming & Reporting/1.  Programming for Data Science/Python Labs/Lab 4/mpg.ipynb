{
 "cells": [
  {
   "cell_type": "code",
   "execution_count": null,
   "metadata": {},
   "outputs": [],
   "source": []
  },
  {
   "cell_type": "code",
   "execution_count": null,
   "metadata": {},
   "outputs": [],
   "source": []
  },
  {
   "cell_type": "code",
   "execution_count": 9,
   "metadata": {},
   "outputs": [],
   "source": [
    "def mpg(car_file):\n",
    "    \n",
    "    new_dict = {}\n",
    "    \n",
    "    with open(car_file, 'r') as f:\n",
    "        for line in f:\n",
    "            file = line.strip('\\n').split(',')\n",
    "            \n",
    "            print(file)\n",
    "            \n",
    "            if file[0] != new_dict.keys():\n",
    "                new_list = []\n",
    "                \n",
    "                new_dict[file[0]] = new_list.append(float(file[1]))\n",
    "                \n",
    "           # else:\n",
    "            #    new_dict[file[0]] = float(file[1])\n",
    "    \n",
    "    return new_dict"
   ]
  },
  {
   "cell_type": "code",
   "execution_count": 10,
   "metadata": {},
   "outputs": [
    {
     "name": "stdout",
     "output_type": "stream",
     "text": [
      "['Prius', '2.1']\n",
      "['Camry', '4.1']\n",
      "['Sebring', '4.2']\n",
      "['Mustang', '5.3 ']\n",
      "['Accord', '4.1']\n",
      "['Camry', '3.8']\n",
      "['Camry', '3.9']\n",
      "['Mustang', '5.2']\n",
      "['Accord', '4.3']\n",
      "['Prius', '2.3']\n",
      "['Camry', '4.2']\n",
      "['Accord', '4.4']\n"
     ]
    },
    {
     "data": {
      "text/plain": [
       "{'Prius': 2.3, 'Camry': 4.2, 'Sebring': 4.2, 'Mustang': 5.2, 'Accord': 4.4}"
      ]
     },
     "execution_count": 10,
     "metadata": {},
     "output_type": "execute_result"
    }
   ],
   "source": [
    "mpg(\"mileage.txt\")"
   ]
  },
  {
   "cell_type": "code",
   "execution_count": 11,
   "metadata": {},
   "outputs": [
    {
     "data": {
      "text/plain": [
       "43.47826086956522"
      ]
     },
     "execution_count": 11,
     "metadata": {},
     "output_type": "execute_result"
    }
   ],
   "source": [
    "100/2.3"
   ]
  },
  {
   "cell_type": "code",
   "execution_count": 12,
   "metadata": {},
   "outputs": [
    {
     "data": {
      "text/plain": [
       "45.45454545454545"
      ]
     },
     "execution_count": 12,
     "metadata": {},
     "output_type": "execute_result"
    }
   ],
   "source": [
    "100/2.2"
   ]
  },
  {
   "cell_type": "code",
   "execution_count": 14,
   "metadata": {},
   "outputs": [
    {
     "data": {
      "text/plain": [
       "3.25"
      ]
     },
     "execution_count": 14,
     "metadata": {},
     "output_type": "execute_result"
    }
   ],
   "source": [
    "2.1+2.3"
   ]
  },
  {
   "cell_type": "code",
   "execution_count": null,
   "metadata": {},
   "outputs": [],
   "source": [
    "100/"
   ]
  },
  {
   "cell_type": "code",
   "execution_count": 19,
   "metadata": {},
   "outputs": [
    {
     "name": "stdout",
     "output_type": "stream",
     "text": [
      "['Prius', '2.1']\n",
      "{'Prius': None}\n",
      "['Camry', '4.1']\n",
      "{'Prius': None, 'Camry': None}\n",
      "['Sebring', '4.2']\n",
      "{'Prius': None, 'Camry': None, 'Sebring': None}\n",
      "['Mustang', '5.3 ']\n",
      "{'Prius': None, 'Camry': None, 'Sebring': None, 'Mustang': None}\n",
      "['Accord', '4.1']\n",
      "{'Prius': None, 'Camry': None, 'Sebring': None, 'Mustang': None, 'Accord': None}\n",
      "['Camry', '3.8']\n",
      "{'Prius': None, 'Camry': None, 'Sebring': None, 'Mustang': None, 'Accord': None}\n",
      "['Camry', '3.9']\n",
      "{'Prius': None, 'Camry': None, 'Sebring': None, 'Mustang': None, 'Accord': None}\n",
      "['Mustang', '5.2']\n",
      "{'Prius': None, 'Camry': None, 'Sebring': None, 'Mustang': None, 'Accord': None}\n",
      "['Accord', '4.3']\n",
      "{'Prius': None, 'Camry': None, 'Sebring': None, 'Mustang': None, 'Accord': None}\n",
      "['Prius', '2.3']\n",
      "{'Prius': None, 'Camry': None, 'Sebring': None, 'Mustang': None, 'Accord': None}\n",
      "['Camry', '4.2']\n",
      "{'Prius': None, 'Camry': None, 'Sebring': None, 'Mustang': None, 'Accord': None}\n",
      "['Accord', '4.4']\n",
      "{'Prius': None, 'Camry': None, 'Sebring': None, 'Mustang': None, 'Accord': None}\n"
     ]
    }
   ],
   "source": [
    "new_dict = {}\n",
    "\n",
    "with open(\"mileage.txt\", 'r') as f:\n",
    "        for line in f:\n",
    "            car, mpg = line.strip('\\n').split(',')\n",
    "            \n",
    "            if file[0] != new_dict.keys():\n",
    "                new_list = []\n",
    "                \n",
    "                new_dict[file[0]] = new_list.append(float(file[1]))\n",
    "                print(new_dict)\n",
    "                \n",
    "                        if state not in states:\n",
    "            states[state] = 0\n",
    "        states[state]+=1"
   ]
  },
  {
   "cell_type": "code",
   "execution_count": 23,
   "metadata": {},
   "outputs": [
    {
     "name": "stdout",
     "output_type": "stream",
     "text": [
      "Prius 2.1\n",
      "{'Prius': 2.1}\n",
      "Camry 4.1\n",
      "{'Prius': 2.1, 'Camry': 4.1}\n",
      "Sebring 4.2\n",
      "{'Prius': 2.1, 'Camry': 4.1, 'Sebring': 4.2}\n",
      "Mustang 5.3\n",
      "{'Prius': 2.1, 'Camry': 4.1, 'Sebring': 4.2, 'Mustang': 5.3}\n",
      "Accord 4.1\n",
      "{'Prius': 2.1, 'Camry': 4.1, 'Sebring': 4.2, 'Mustang': 5.3, 'Accord': 4.1}\n",
      "Camry 3.8\n",
      "{'Prius': 2.1, 'Camry': 7.8999999999999995, 'Sebring': 4.2, 'Mustang': 5.3, 'Accord': 4.1}\n",
      "Camry 3.9\n",
      "{'Prius': 2.1, 'Camry': 11.799999999999999, 'Sebring': 4.2, 'Mustang': 5.3, 'Accord': 4.1}\n",
      "Mustang 5.2\n",
      "{'Prius': 2.1, 'Camry': 11.799999999999999, 'Sebring': 4.2, 'Mustang': 10.5, 'Accord': 4.1}\n",
      "Accord 4.3\n",
      "{'Prius': 2.1, 'Camry': 11.799999999999999, 'Sebring': 4.2, 'Mustang': 10.5, 'Accord': 8.399999999999999}\n",
      "Prius 2.3\n",
      "{'Prius': 4.4, 'Camry': 11.799999999999999, 'Sebring': 4.2, 'Mustang': 10.5, 'Accord': 8.399999999999999}\n",
      "Camry 4.2\n",
      "{'Prius': 4.4, 'Camry': 16.0, 'Sebring': 4.2, 'Mustang': 10.5, 'Accord': 8.399999999999999}\n",
      "Accord 4.4\n",
      "{'Prius': 4.4, 'Camry': 16.0, 'Sebring': 4.2, 'Mustang': 10.5, 'Accord': 12.799999999999999}\n"
     ]
    }
   ],
   "source": [
    "new_dict = {}\n",
    "\n",
    "with open(\"mileage.txt\", 'r') as f:\n",
    "        for line in f:\n",
    "            car, mpg = line.strip('\\n').split(',')\n",
    "            mpg = float(mpg)\n",
    "            \n",
    "            if car not in new_dict:\n",
    "                mpg_list = []\n",
    "                new_dict[car] = mpg_list.append(mpg)\n",
    "                \n",
    "            else:\n",
    "                new_dict[car] += mpg\n",
    "            \n",
    "            print(car, mpg)\n",
    "            print(new_dict)"
   ]
  },
  {
   "cell_type": "code",
   "execution_count": 59,
   "metadata": {},
   "outputs": [
    {
     "name": "stdout",
     "output_type": "stream",
     "text": [
      "{'Prius': 45.5}\n",
      "{'Prius': 45.5, 'Camry': 25.0}\n",
      "{'Prius': 45.5, 'Camry': 25.0, 'Sebring': 23.8}\n",
      "{'Prius': 45.5, 'Camry': 25.0, 'Sebring': 23.8, 'Mustang': 19.0}\n",
      "{'Prius': 45.5, 'Camry': 25.0, 'Sebring': 23.8, 'Mustang': 19.0, 'Accord': 23.4}\n"
     ]
    }
   ],
   "source": [
    "new_dict = {}\n",
    "summary_dict = {}\n",
    "\n",
    "with open(\"mileage.txt\", 'r') as f:\n",
    "        for line in f:\n",
    "            car, mpg = line.strip('\\n').split(',')\n",
    "            mpg = float(mpg)\n",
    "            \n",
    "            mpg_list = []\n",
    "            if car not in new_dict:\n",
    "                mpg_list.append(mpg)\n",
    "                new_dict[car] = mpg_list\n",
    "                \n",
    "            else:\n",
    "                new_dict[car].append(mpg)\n",
    "                \n",
    "        for key in new_dict.keys():\n",
    "            summary_dict[key] = round(100 / (sum(new_dict[key]) / len(new_dict[key])), 1)\n",
    "            \n",
    "            print(summary_dict)"
   ]
  },
  {
   "cell_type": "code",
   "execution_count": 56,
   "metadata": {},
   "outputs": [
    {
     "data": {
      "text/plain": [
       "45.45454545454545"
      ]
     },
     "execution_count": 56,
     "metadata": {},
     "output_type": "execute_result"
    }
   ],
   "source": [
    "100 / 2.2"
   ]
  },
  {
   "cell_type": "code",
   "execution_count": 28,
   "metadata": {},
   "outputs": [
    {
     "data": {
      "text/plain": [
       "3.25"
      ]
     },
     "execution_count": 28,
     "metadata": {},
     "output_type": "execute_result"
    }
   ],
   "source": [
    "2.1 + 2.3 / 2"
   ]
  },
  {
   "cell_type": "code",
   "execution_count": null,
   "metadata": {},
   "outputs": [],
   "source": []
  },
  {
   "cell_type": "code",
   "execution_count": null,
   "metadata": {},
   "outputs": [],
   "source": []
  }
 ],
 "metadata": {
  "kernelspec": {
   "display_name": "Python 3",
   "language": "python",
   "name": "python3"
  },
  "language_info": {
   "codemirror_mode": {
    "name": "ipython",
    "version": 3
   },
   "file_extension": ".py",
   "mimetype": "text/x-python",
   "name": "python",
   "nbconvert_exporter": "python",
   "pygments_lexer": "ipython3",
   "version": "3.7.4"
  }
 },
 "nbformat": 4,
 "nbformat_minor": 2
}
