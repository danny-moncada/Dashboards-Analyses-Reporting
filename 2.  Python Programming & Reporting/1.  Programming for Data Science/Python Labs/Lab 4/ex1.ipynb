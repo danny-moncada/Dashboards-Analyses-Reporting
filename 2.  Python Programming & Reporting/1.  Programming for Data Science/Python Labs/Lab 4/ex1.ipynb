{
 "cells": [
  {
   "cell_type": "code",
   "execution_count": 1,
   "metadata": {
    "collapsed": true
   },
   "outputs": [],
   "source": [
    "## Danny Moncada - MSBA 6310 - Lab 4 - ex1.py\n",
    "## Determine the name of the class, its attributes, and its methods.  Write the definition for this class WageCalculator"
   ]
  },
  {
   "cell_type": "code",
   "execution_count": 9,
   "metadata": {
    "collapsed": true
   },
   "outputs": [],
   "source": [
    "class WageCalculator(object):\n",
    "    def hours(self):\n",
    "        self.hours = int(hours)\n",
    "    def wage(self):\n",
    "        self.wage = int(wage)\n",
    "    def cal_gross_pay(self):\n",
    "        return self.hours * self.wage"
   ]
  },
  {
   "cell_type": "code",
   "execution_count": 10,
   "metadata": {
    "collapsed": true
   },
   "outputs": [],
   "source": []
  },
  {
   "cell_type": "code",
   "execution_count": 13,
   "metadata": {},
   "outputs": [
    {
     "data": {
      "text/plain": [
       "437.5"
      ]
     },
     "execution_count": 13,
     "metadata": {},
     "output_type": "execute_result"
    }
   ],
   "source": [
    "a_calculator = WageCalculator()\n",
    "\n",
    "a_calculator.hours = 35\n",
    "\n",
    "a_calculator.wage = 12.50\n",
    "\n",
    "a_calculator.cal_gross_pay()"
   ]
  },
  {
   "cell_type": "code",
   "execution_count": null,
   "metadata": {
    "collapsed": true
   },
   "outputs": [],
   "source": []
  }
 ],
 "metadata": {
  "kernelspec": {
   "display_name": "Python 3",
   "language": "python",
   "name": "python3"
  },
  "language_info": {
   "codemirror_mode": {
    "name": "ipython",
    "version": 3
   },
   "file_extension": ".py",
   "mimetype": "text/x-python",
   "name": "python",
   "nbconvert_exporter": "python",
   "pygments_lexer": "ipython3",
   "version": "3.5.4"
  }
 },
 "nbformat": 4,
 "nbformat_minor": 2
}
