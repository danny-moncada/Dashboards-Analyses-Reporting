{
 "cells": [
  {
   "cell_type": "code",
   "execution_count": 9,
   "metadata": {
    "collapsed": true
   },
   "outputs": [],
   "source": [
    "import numpy as np\n",
    "\n",
    "borders = []\n",
    "\n",
    "with open('border_data.csv', 'r') as f:\n",
    "    lines = f.read().splitlines()[1:]\n",
    "    for line in lines:\n",
    "        borders.append(line.split(\",\")[1].split('-'))\n",
    "\n",
    "st = 'IA'\n",
    "        \n",
    "def states_within_n(st):\n",
    "    for i in range(len(borders)):\n",
    "        if borders[i][0] == st or borders[i][1] == st:\n",
    "           print([[borders[i][0]]+[borders[i][1]]])\n",
    "\n",
    "#def addstates(n)\n",
    "#    for i in range(n):\n"
   ]
  },
  {
   "cell_type": "code",
   "execution_count": 10,
   "metadata": {},
   "outputs": [
    {
     "name": "stdout",
     "output_type": "stream",
     "text": [
      "[['IA', 'MN']]\n",
      "[['MN', 'ND']]\n",
      "[['MN', 'SD']]\n",
      "[['MN', 'WI']]\n"
     ]
    }
   ],
   "source": [
    "states_within_n('MN')"
   ]
  },
  {
   "cell_type": "code",
   "execution_count": 4,
   "metadata": {},
   "outputs": [
    {
     "data": {
      "text/plain": [
       "[['VA', 'WV'],\n",
       " ['UT', 'WY'],\n",
       " ['TN', 'VA'],\n",
       " ['SD', 'WY'],\n",
       " ['PA', 'WV'],\n",
       " ['OR', 'WA'],\n",
       " ['OK', 'TX'],\n",
       " ['OH', 'WV'],\n",
       " ['OH', 'PA'],\n",
       " ['NY', 'VT'],\n",
       " ['NY', 'PA'],\n",
       " ['NV', 'UT'],\n",
       " ['NV', 'OR'],\n",
       " ['NM', 'UT'],\n",
       " ['NM', 'TX'],\n",
       " ['NM', 'OK'],\n",
       " ['NJ', 'PA'],\n",
       " ['NJ', 'NY'],\n",
       " ['NH', 'VT'],\n",
       " ['NE', 'WY'],\n",
       " ['NE', 'SD'],\n",
       " ['ND', 'SD'],\n",
       " ['NC', 'VA'],\n",
       " ['NC', 'TN'],\n",
       " ['NC', 'SC'],\n",
       " ['MT', 'WY'],\n",
       " ['MT', 'SD'],\n",
       " ['MT', 'ND'],\n",
       " ['MS', 'TN'],\n",
       " ['MO', 'TN'],\n",
       " ['MO', 'OK'],\n",
       " ['MO', 'NE'],\n",
       " ['MN', 'WI'],\n",
       " ['MN', 'SD'],\n",
       " ['MN', 'ND'],\n",
       " ['MI', 'WI'],\n",
       " ['MI', 'OH'],\n",
       " ['ME', 'NH'],\n",
       " ['MD', 'WV'],\n",
       " ['MD', 'VA'],\n",
       " ['MD', 'PA'],\n",
       " ['MA', 'VT'],\n",
       " ['MA', 'RI'],\n",
       " ['MA', 'NY'],\n",
       " ['MA', 'NH'],\n",
       " ['LA', 'TX'],\n",
       " ['LA', 'MS'],\n",
       " ['KY', 'WV'],\n",
       " ['KY', 'VA'],\n",
       " ['KY', 'TN'],\n",
       " ['KY', 'OH'],\n",
       " ['KY', 'MO'],\n",
       " ['KS', 'OK'],\n",
       " ['KS', 'NE'],\n",
       " ['KS', 'MO'],\n",
       " ['IN', 'OH'],\n",
       " ['IN', 'MI'],\n",
       " ['IN', 'KY'],\n",
       " ['IL', 'WI'],\n",
       " ['IL', 'MO'],\n",
       " ['IL', 'KY'],\n",
       " ['IL', 'IN'],\n",
       " ['IL', 'IA'],\n",
       " ['ID', 'WY'],\n",
       " ['ID', 'WA'],\n",
       " ['ID', 'UT'],\n",
       " ['ID', 'OR'],\n",
       " ['ID', 'NV'],\n",
       " ['ID', 'MT'],\n",
       " ['IA', 'WI'],\n",
       " ['IA', 'SD'],\n",
       " ['IA', 'NE'],\n",
       " ['IA', 'MO'],\n",
       " ['IA', 'MN'],\n",
       " ['GA', 'TN'],\n",
       " ['GA', 'SC'],\n",
       " ['GA', 'NC'],\n",
       " ['FL', 'GA'],\n",
       " ['DE', 'PA'],\n",
       " ['DE', 'NJ'],\n",
       " ['DE', 'MD'],\n",
       " ['DC', 'VA'],\n",
       " ['DC', 'MD'],\n",
       " ['CT', 'RI'],\n",
       " ['CT', 'NY'],\n",
       " ['CT', 'MA'],\n",
       " ['CO', 'WY'],\n",
       " ['CO', 'UT'],\n",
       " ['CO', 'OK'],\n",
       " ['CO', 'NM'],\n",
       " ['CO', 'NE'],\n",
       " ['CO', 'KS'],\n",
       " ['CA', 'OR'],\n",
       " ['CA', 'NV'],\n",
       " ['AZ', 'UT'],\n",
       " ['AZ', 'NV'],\n",
       " ['AZ', 'NM'],\n",
       " ['AZ', 'CO'],\n",
       " ['AZ', 'CA'],\n",
       " ['AR', 'TX'],\n",
       " ['AR', 'TN'],\n",
       " ['AR', 'OK'],\n",
       " ['AR', 'MS'],\n",
       " ['AR', 'MO'],\n",
       " ['AR', 'LA'],\n",
       " ['AL', 'TN'],\n",
       " ['AL', 'MS'],\n",
       " ['AL', 'GA'],\n",
       " ['AL', 'FL']]"
      ]
     },
     "execution_count": 4,
     "metadata": {},
     "output_type": "execute_result"
    }
   ],
   "source": [
    "borders[::-1]"
   ]
  },
  {
   "cell_type": "code",
   "execution_count": null,
   "metadata": {
    "collapsed": true
   },
   "outputs": [],
   "source": []
  },
  {
   "cell_type": "code",
   "execution_count": null,
   "metadata": {
    "collapsed": true
   },
   "outputs": [],
   "source": []
  },
  {
   "cell_type": "code",
   "execution_count": 5,
   "metadata": {
    "collapsed": true
   },
   "outputs": [],
   "source": [
    "as_array = np.array(sum(borders, []))"
   ]
  },
  {
   "cell_type": "code",
   "execution_count": 13,
   "metadata": {},
   "outputs": [
    {
     "data": {
      "text/plain": [
       "(array([ 71, 148, 150, 152], dtype=int64),)"
      ]
     },
     "execution_count": 13,
     "metadata": {},
     "output_type": "execute_result"
    }
   ],
   "source": [
    "np.where(as_array == 'MN')"
   ]
  },
  {
   "cell_type": "code",
   "execution_count": null,
   "metadata": {
    "collapsed": true
   },
   "outputs": [],
   "source": []
  },
  {
   "cell_type": "code",
   "execution_count": null,
   "metadata": {
    "collapsed": true
   },
   "outputs": [],
   "source": []
  },
  {
   "cell_type": "code",
   "execution_count": null,
   "metadata": {
    "collapsed": true
   },
   "outputs": [],
   "source": []
  },
  {
   "cell_type": "code",
   "execution_count": null,
   "metadata": {
    "collapsed": true
   },
   "outputs": [],
   "source": []
  },
  {
   "cell_type": "code",
   "execution_count": null,
   "metadata": {
    "collapsed": true
   },
   "outputs": [],
   "source": []
  },
  {
   "cell_type": "code",
   "execution_count": 1,
   "metadata": {},
   "outputs": [
    {
     "data": {
      "text/plain": [
       "[['IA', 'MN'], ['MN', 'ND'], ['MN', 'SD'], ['MN', 'WI']]"
      ]
     },
     "execution_count": 1,
     "metadata": {},
     "output_type": "execute_result"
    }
   ],
   "source": [
    "borders = []\n",
    "\n",
    "with open('border_data.csv', 'r') as f:\n",
    "    lines = f.read().splitlines()[1:]\n",
    "    for line in lines:\n",
    "        borders.append(line.split(\",\")[1].split('-'))\n",
    "\n",
    "st = 'MN'\n",
    "\n",
    "new_list = []\n",
    "\n",
    "for i in range(len(borders)):\n",
    "    if borders[i][1] == st:\n",
    "        left_border = borders[i][:1]\n",
    "        new_list.append(left_border+[st])\n",
    "    elif borders[i][0] == st:\n",
    "        right_border = borders[i][1:]\n",
    "        new_list.append([st]+right_border)\n",
    "        \n",
    "new_list"
   ]
  },
  {
   "cell_type": "code",
   "execution_count": 11,
   "metadata": {},
   "outputs": [
    {
     "data": {
      "text/plain": [
       "['IA', 'MN', 'MN', 'ND', 'MN', 'SD', 'MN', 'WI']"
      ]
     },
     "execution_count": 11,
     "metadata": {},
     "output_type": "execute_result"
    }
   ],
   "source": [
    "sum([x for x in borders if (x[0]=='MN' or x[1]=='MN')], [])"
   ]
  },
  {
   "cell_type": "code",
   "execution_count": 12,
   "metadata": {},
   "outputs": [
    {
     "name": "stdout",
     "output_type": "stream",
     "text": [
      "[['IA', 'MN'], ['MN', 'ND'], ['MN', 'SD'], ['MN', 'WI']]\n"
     ]
    }
   ],
   "source": [
    "print([x for x in borders if (x[0]=='MN' or x[1]=='MN')])"
   ]
  },
  {
   "cell_type": "code",
   "execution_count": 31,
   "metadata": {},
   "outputs": [
    {
     "name": "stdout",
     "output_type": "stream",
     "text": [
      "71 MN IA MO IA NE\n",
      "148 MN ND MN SD MN\n",
      "150 MN SD MN WI MO\n",
      "152 MN WI MO NE MO\n"
     ]
    }
   ],
   "source": [
    "st = 'MN'\n",
    "flat_list = sum(borders, [])\n",
    "for i in range(len(flat_list)):\n",
    "    if flat_list[i] == st:\n",
    "        print(i, flat_list[i], flat_list[i+1], flat_list[i+2], flat_list[i+3], flat_list[i+4])"
   ]
  },
  {
   "cell_type": "code",
   "execution_count": 38,
   "metadata": {},
   "outputs": [
    {
     "data": {
      "text/plain": [
       "['IA',\n",
       " 'MN',\n",
       " 'IA',\n",
       " 'MO',\n",
       " 'IA',\n",
       " 'NE',\n",
       " 'IA',\n",
       " 'SD',\n",
       " 'IA',\n",
       " 'WI',\n",
       " 'ID',\n",
       " 'MT',\n",
       " 'ID',\n",
       " 'NV',\n",
       " 'ID',\n",
       " 'OR',\n",
       " 'ID',\n",
       " 'UT',\n",
       " 'ID',\n",
       " 'WA',\n",
       " 'ID',\n",
       " 'WY',\n",
       " 'IL',\n",
       " 'IA',\n",
       " 'IL',\n",
       " 'IN',\n",
       " 'IL',\n",
       " 'KY',\n",
       " 'IL',\n",
       " 'MO',\n",
       " 'IL',\n",
       " 'WI',\n",
       " 'IN',\n",
       " 'KY',\n",
       " 'IN',\n",
       " 'MI',\n",
       " 'IN',\n",
       " 'OH',\n",
       " 'KS',\n",
       " 'MO',\n",
       " 'KS',\n",
       " 'NE',\n",
       " 'KS',\n",
       " 'OK',\n",
       " 'KY',\n",
       " 'MO',\n",
       " 'KY',\n",
       " 'OH',\n",
       " 'KY',\n",
       " 'TN',\n",
       " 'KY',\n",
       " 'VA',\n",
       " 'KY',\n",
       " 'WV',\n",
       " 'LA',\n",
       " 'MS',\n",
       " 'LA',\n",
       " 'TX',\n",
       " 'MA',\n",
       " 'NH',\n",
       " 'MA',\n",
       " 'NY',\n",
       " 'MA',\n",
       " 'RI',\n",
       " 'MA',\n",
       " 'VT',\n",
       " 'MD',\n",
       " 'PA',\n",
       " 'MD',\n",
       " 'VA',\n",
       " 'MD',\n",
       " 'WV',\n",
       " 'ME',\n",
       " 'NH',\n",
       " 'MI',\n",
       " 'OH',\n",
       " 'MI',\n",
       " 'WI',\n",
       " 'MN',\n",
       " 'ND',\n",
       " 'MN',\n",
       " 'SD',\n",
       " 'MN',\n",
       " 'WI',\n",
       " 'MO',\n",
       " 'NE',\n",
       " 'MO',\n",
       " 'OK',\n",
       " 'MO',\n",
       " 'TN',\n",
       " 'MS',\n",
       " 'TN',\n",
       " 'MT',\n",
       " 'ND',\n",
       " 'MT',\n",
       " 'SD',\n",
       " 'MT',\n",
       " 'WY',\n",
       " 'NC',\n",
       " 'SC',\n",
       " 'NC',\n",
       " 'TN',\n",
       " 'NC',\n",
       " 'VA',\n",
       " 'ND',\n",
       " 'SD',\n",
       " 'NE',\n",
       " 'SD',\n",
       " 'NE',\n",
       " 'WY',\n",
       " 'NH',\n",
       " 'VT',\n",
       " 'NJ',\n",
       " 'NY',\n",
       " 'NJ',\n",
       " 'PA',\n",
       " 'NM',\n",
       " 'OK',\n",
       " 'NM',\n",
       " 'TX',\n",
       " 'NM',\n",
       " 'UT',\n",
       " 'NV',\n",
       " 'OR',\n",
       " 'NV',\n",
       " 'UT',\n",
       " 'NY',\n",
       " 'PA',\n",
       " 'NY',\n",
       " 'VT',\n",
       " 'OH',\n",
       " 'PA',\n",
       " 'OH',\n",
       " 'WV',\n",
       " 'OK',\n",
       " 'TX',\n",
       " 'OR',\n",
       " 'WA',\n",
       " 'PA',\n",
       " 'WV',\n",
       " 'SD',\n",
       " 'WY',\n",
       " 'TN',\n",
       " 'VA',\n",
       " 'UT',\n",
       " 'WY',\n",
       " 'VA',\n",
       " 'WV']"
      ]
     },
     "execution_count": 38,
     "metadata": {},
     "output_type": "execute_result"
    }
   ],
   "source": [
    "flat_list[70:]"
   ]
  },
  {
   "cell_type": "code",
   "execution_count": null,
   "metadata": {
    "collapsed": true
   },
   "outputs": [],
   "source": []
  },
  {
   "cell_type": "code",
   "execution_count": null,
   "metadata": {
    "collapsed": true
   },
   "outputs": [],
   "source": []
  },
  {
   "cell_type": "code",
   "execution_count": 3,
   "metadata": {},
   "outputs": [
    {
     "name": "stdout",
     "output_type": "stream",
     "text": [
      "['IA']\n",
      "['ND']\n",
      "['SD']\n",
      "['WI']\n"
     ]
    }
   ],
   "source": [
    "border_list = []\n",
    "\n",
    "for i in range(len(borders)):\n",
    "    if borders[i][1] == st:\n",
    "        left_border = borders[i][:1]\n",
    "        border_list.append(left_border)\n",
    "    elif borders[i][0] == st:\n",
    "        right_border = borders[i][1:]\n",
    "        border_list.append(right_border)\n",
    "        \n",
    "for item in border_list:\n",
    "    print(item)"
   ]
  },
  {
   "cell_type": "code",
   "execution_count": 38,
   "metadata": {
    "collapsed": true
   },
   "outputs": [],
   "source": [
    "flat_list = [item for sublist in borders for item in sublist]\n",
    "\n",
    "#st = 'MN'\n",
    "#for i in borders:\n",
    " #   print(i[0] == st)"
   ]
  },
  {
   "cell_type": "code",
   "execution_count": 2,
   "metadata": {},
   "outputs": [
    {
     "ename": "NameError",
     "evalue": "name 'flat_list' is not defined",
     "output_type": "error",
     "traceback": [
      "\u001b[1;31m---------------------------------------------------------------------------\u001b[0m",
      "\u001b[1;31mNameError\u001b[0m                                 Traceback (most recent call last)",
      "\u001b[1;32m<ipython-input-2-059005da8da6>\u001b[0m in \u001b[0;36m<module>\u001b[1;34m()\u001b[0m\n\u001b[1;32m----> 1\u001b[1;33m \u001b[0mflat_list\u001b[0m\u001b[1;33m\u001b[0m\u001b[0m\n\u001b[0m",
      "\u001b[1;31mNameError\u001b[0m: name 'flat_list' is not defined"
     ]
    }
   ],
   "source": [
    "flat_list"
   ]
  },
  {
   "cell_type": "code",
   "execution_count": 58,
   "metadata": {},
   "outputs": [
    {
     "name": "stdout",
     "output_type": "stream",
     "text": [
      "AL\n",
      "AL\n",
      "AL\n",
      "AL\n",
      "AR\n",
      "AR\n",
      "AR\n",
      "AR\n",
      "AR\n",
      "AR\n",
      "AZ\n",
      "AZ\n",
      "AZ\n",
      "AZ\n",
      "AZ\n",
      "CA\n",
      "CA\n",
      "CO\n",
      "CO\n",
      "CO\n",
      "CO\n",
      "CO\n",
      "CO\n",
      "CT\n",
      "CT\n",
      "CT\n",
      "DC\n",
      "DC\n",
      "DE\n",
      "DE\n",
      "DE\n",
      "FL\n",
      "GA\n",
      "GA\n",
      "GA\n",
      "IA\n",
      "IA\n",
      "IA\n",
      "IA\n",
      "IA\n",
      "ID\n",
      "ID\n",
      "ID\n",
      "ID\n",
      "ID\n",
      "ID\n",
      "IL\n",
      "IL\n",
      "IL\n",
      "IL\n",
      "IL\n",
      "IN\n",
      "IN\n",
      "IN\n",
      "KS\n",
      "KS\n",
      "KS\n",
      "KY\n",
      "KY\n",
      "KY\n",
      "KY\n",
      "KY\n",
      "LA\n",
      "LA\n",
      "MA\n",
      "MA\n",
      "MA\n",
      "MA\n",
      "MD\n",
      "MD\n",
      "MD\n",
      "ME\n",
      "MI\n",
      "MI\n",
      "MN\n",
      "MN\n",
      "MN\n",
      "MO\n",
      "MO\n",
      "MO\n",
      "MS\n",
      "MT\n",
      "MT\n",
      "MT\n",
      "NC\n",
      "NC\n",
      "NC\n",
      "ND\n",
      "NE\n",
      "NE\n",
      "NH\n",
      "NJ\n",
      "NJ\n",
      "NM\n",
      "NM\n",
      "NM\n",
      "NV\n",
      "NV\n",
      "NY\n",
      "NY\n",
      "OH\n",
      "OH\n",
      "OK\n",
      "OR\n",
      "PA\n",
      "SD\n",
      "TN\n",
      "UT\n",
      "VA\n"
     ]
    }
   ],
   "source": [
    "for sublist in borders:\n",
    "    print(sublist[0])"
   ]
  },
  {
   "cell_type": "code",
   "execution_count": 61,
   "metadata": {
    "collapsed": true
   },
   "outputs": [],
   "source": [
    "borders_array = np.array(borders)"
   ]
  },
  {
   "cell_type": "code",
   "execution_count": 64,
   "metadata": {},
   "outputs": [
    {
     "data": {
      "text/plain": [
       "(array([35, 74, 75, 76], dtype=int64), array([1, 0, 0, 0], dtype=int64))"
      ]
     },
     "execution_count": 64,
     "metadata": {},
     "output_type": "execute_result"
    }
   ],
   "source": [
    "np.where(borders_array == 'MN')"
   ]
  },
  {
   "cell_type": "code",
   "execution_count": 65,
   "metadata": {},
   "outputs": [
    {
     "data": {
      "text/plain": [
       "array([['AL', 'FL'],\n",
       "       ['AL', 'GA'],\n",
       "       ['AL', 'MS'],\n",
       "       ['AL', 'TN'],\n",
       "       ['AR', 'LA'],\n",
       "       ['AR', 'MO'],\n",
       "       ['AR', 'MS'],\n",
       "       ['AR', 'OK'],\n",
       "       ['AR', 'TN'],\n",
       "       ['AR', 'TX'],\n",
       "       ['AZ', 'CA'],\n",
       "       ['AZ', 'CO'],\n",
       "       ['AZ', 'NM'],\n",
       "       ['AZ', 'NV'],\n",
       "       ['AZ', 'UT'],\n",
       "       ['CA', 'NV'],\n",
       "       ['CA', 'OR'],\n",
       "       ['CO', 'KS'],\n",
       "       ['CO', 'NE'],\n",
       "       ['CO', 'NM'],\n",
       "       ['CO', 'OK'],\n",
       "       ['CO', 'UT'],\n",
       "       ['CO', 'WY'],\n",
       "       ['CT', 'MA'],\n",
       "       ['CT', 'NY'],\n",
       "       ['CT', 'RI'],\n",
       "       ['DC', 'MD'],\n",
       "       ['DC', 'VA'],\n",
       "       ['DE', 'MD'],\n",
       "       ['DE', 'NJ'],\n",
       "       ['DE', 'PA'],\n",
       "       ['FL', 'GA'],\n",
       "       ['GA', 'NC'],\n",
       "       ['GA', 'SC'],\n",
       "       ['GA', 'TN'],\n",
       "       ['IA', 'MN'],\n",
       "       ['IA', 'MO'],\n",
       "       ['IA', 'NE'],\n",
       "       ['IA', 'SD'],\n",
       "       ['IA', 'WI'],\n",
       "       ['ID', 'MT'],\n",
       "       ['ID', 'NV'],\n",
       "       ['ID', 'OR'],\n",
       "       ['ID', 'UT'],\n",
       "       ['ID', 'WA'],\n",
       "       ['ID', 'WY'],\n",
       "       ['IL', 'IA'],\n",
       "       ['IL', 'IN'],\n",
       "       ['IL', 'KY'],\n",
       "       ['IL', 'MO'],\n",
       "       ['IL', 'WI'],\n",
       "       ['IN', 'KY'],\n",
       "       ['IN', 'MI'],\n",
       "       ['IN', 'OH'],\n",
       "       ['KS', 'MO'],\n",
       "       ['KS', 'NE'],\n",
       "       ['KS', 'OK'],\n",
       "       ['KY', 'MO'],\n",
       "       ['KY', 'OH'],\n",
       "       ['KY', 'TN'],\n",
       "       ['KY', 'VA'],\n",
       "       ['KY', 'WV'],\n",
       "       ['LA', 'MS'],\n",
       "       ['LA', 'TX'],\n",
       "       ['MA', 'NH'],\n",
       "       ['MA', 'NY'],\n",
       "       ['MA', 'RI'],\n",
       "       ['MA', 'VT'],\n",
       "       ['MD', 'PA'],\n",
       "       ['MD', 'VA'],\n",
       "       ['MD', 'WV'],\n",
       "       ['ME', 'NH'],\n",
       "       ['MI', 'OH'],\n",
       "       ['MI', 'WI'],\n",
       "       ['MN', 'ND'],\n",
       "       ['MN', 'SD'],\n",
       "       ['MN', 'WI'],\n",
       "       ['MO', 'NE'],\n",
       "       ['MO', 'OK'],\n",
       "       ['MO', 'TN'],\n",
       "       ['MS', 'TN'],\n",
       "       ['MT', 'ND'],\n",
       "       ['MT', 'SD'],\n",
       "       ['MT', 'WY'],\n",
       "       ['NC', 'SC'],\n",
       "       ['NC', 'TN'],\n",
       "       ['NC', 'VA'],\n",
       "       ['ND', 'SD'],\n",
       "       ['NE', 'SD'],\n",
       "       ['NE', 'WY'],\n",
       "       ['NH', 'VT'],\n",
       "       ['NJ', 'NY'],\n",
       "       ['NJ', 'PA'],\n",
       "       ['NM', 'OK'],\n",
       "       ['NM', 'TX'],\n",
       "       ['NM', 'UT'],\n",
       "       ['NV', 'OR'],\n",
       "       ['NV', 'UT'],\n",
       "       ['NY', 'PA'],\n",
       "       ['NY', 'VT'],\n",
       "       ['OH', 'PA'],\n",
       "       ['OH', 'WV'],\n",
       "       ['OK', 'TX'],\n",
       "       ['OR', 'WA'],\n",
       "       ['PA', 'WV'],\n",
       "       ['SD', 'WY'],\n",
       "       ['TN', 'VA'],\n",
       "       ['UT', 'WY'],\n",
       "       ['VA', 'WV']], dtype='<U2')"
      ]
     },
     "execution_count": 65,
     "metadata": {},
     "output_type": "execute_result"
    }
   ],
   "source": [
    "borders_array"
   ]
  }
 ],
 "metadata": {
  "kernelspec": {
   "display_name": "Python 3",
   "language": "python",
   "name": "python3"
  },
  "language_info": {
   "codemirror_mode": {
    "name": "ipython",
    "version": 3
   },
   "file_extension": ".py",
   "mimetype": "text/x-python",
   "name": "python",
   "nbconvert_exporter": "python",
   "pygments_lexer": "ipython3",
   "version": "3.5.4"
  }
 },
 "nbformat": 4,
 "nbformat_minor": 2
}
