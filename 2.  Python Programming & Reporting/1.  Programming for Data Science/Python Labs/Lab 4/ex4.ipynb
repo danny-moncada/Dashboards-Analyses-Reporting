{
 "cells": [
  {
   "cell_type": "code",
   "execution_count": 46,
   "metadata": {
    "scrolled": false
   },
   "outputs": [
    {
     "name": "stdout",
     "output_type": "stream",
     "text": [
      "# of times you rolled a 7 : 162 \n"
     ]
    }
   ],
   "source": [
    "from random import randint\n",
    "\n",
    "class PairOfDice(object):\n",
    "    \n",
    "    def roll(self):\n",
    "        if i >= 0:\n",
    "            self.dice1 = randint(1, 6)\n",
    "            self.dice2 = randint(1, 6)\n",
    "            #return self.dice1 + self.dice2\n",
    "        \n",
    "    def total(self):\n",
    "        return self.dice1 + self.dice2\n",
    "    \n",
    "\n",
    "some_dice = PairOfDice()\n",
    "count = 0\n",
    "\n",
    "for i in range(0, 1000):\n",
    "    some_dice.roll()\n",
    "    if some_dice.total() == 7:\n",
    "        count += 1\n",
    "    \n",
    "print('# of times you rolled a 7 : {} '.format(count))"
   ]
  }
 ],
 "metadata": {
  "kernelspec": {
   "display_name": "Python 3",
   "language": "python",
   "name": "python3"
  },
  "language_info": {
   "codemirror_mode": {
    "name": "ipython",
    "version": 3
   },
   "file_extension": ".py",
   "mimetype": "text/x-python",
   "name": "python",
   "nbconvert_exporter": "python",
   "pygments_lexer": "ipython3",
   "version": "3.7.4"
  }
 },
 "nbformat": 4,
 "nbformat_minor": 2
}
