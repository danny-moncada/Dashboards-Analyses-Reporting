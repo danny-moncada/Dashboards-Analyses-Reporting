{
 "cells": [
  {
   "cell_type": "code",
   "execution_count": 1,
   "metadata": {
    "collapsed": true
   },
   "outputs": [],
   "source": [
    "## Danny Moncada - MSBA 6310 - Lab 2 - ex7.py\n",
    "## Write a program that requests as input the percentage cloud cover and prints the corresponding term"
   ]
  },
  {
   "cell_type": "code",
   "execution_count": 12,
   "metadata": {},
   "outputs": [
    {
     "name": "stdout",
     "output_type": "stream",
     "text": [
      "Enter percentage cloud cover: 100\n",
      "Overcast\n"
     ]
    }
   ],
   "source": [
    "# get user input for percentage cloud cover\n",
    "cloud_cover = int(input(\"Enter percentage cloud cover: \"))\n",
    "\n",
    "if cloud_cover <= 30:\n",
    "    print(\"Clear\")\n",
    "elif cloud_cover >= 31 and cloud_cover <= 70:\n",
    "    print(\"Partly cloudy\")\n",
    "elif cloud_cover >= 71 and cloud_cover <= 99:\n",
    "    print(\"Mostly cloudy\")\n",
    "else:\n",
    "    print(\"Overcast\")"
   ]
  }
 ],
 "metadata": {
  "kernelspec": {
   "display_name": "Python 3",
   "language": "python",
   "name": "python3"
  },
  "language_info": {
   "codemirror_mode": {
    "name": "ipython",
    "version": 3
   },
   "file_extension": ".py",
   "mimetype": "text/x-python",
   "name": "python",
   "nbconvert_exporter": "python",
   "pygments_lexer": "ipython3",
   "version": "3.5.4"
  }
 },
 "nbformat": 4,
 "nbformat_minor": 2
}
