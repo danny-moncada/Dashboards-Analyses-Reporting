{
 "cells": [
  {
   "cell_type": "code",
   "execution_count": 59,
   "metadata": {},
   "outputs": [],
   "source": [
    "## Danny Moncada - MSBA 6310 - Lab 2 - ex1.py\n",
    "## Common years consist of 365 days while leap years consist of 366 years. Most years evenly divisible by 4 are leap years \n",
    "## (exs: 2004, 2008, etc).  Centurial years (1800, 1900, 2000) are only leap years if they are divisibile by 400.\n",
    "## Write a program that accepts a year from the user and prints out whether or not the year was a leap year or common year."
   ]
  },
  {
   "cell_type": "code",
   "execution_count": 67,
   "metadata": {},
   "outputs": [
    {
     "name": "stdout",
     "output_type": "stream",
     "text": [
      "Enter year: 2014\n",
      "2014 is a not a leap year.\n"
     ]
    }
   ],
   "source": [
    "## get user input for a year\n",
    "year = int(input(\"Enter year: \"))\n",
    "\n",
    "## if year is divisible by 400 OR it is not a centurial year and divisible by 4, notify the user it is a leap year\n",
    "if (year % 400 == 0) or (year % 100 != 0 and year % 4 == 0):\n",
    "    print(\"{} is a leap year.\".format(year))\n",
    "else:\n",
    "    print(\"{} is a not a leap year.\".format(year))"
   ]
  },
  {
   "cell_type": "code",
   "execution_count": null,
   "metadata": {
    "collapsed": true
   },
   "outputs": [],
   "source": []
  }
 ],
 "metadata": {
  "kernelspec": {
   "display_name": "Python 3",
   "language": "python",
   "name": "python3"
  },
  "language_info": {
   "codemirror_mode": {
    "name": "ipython",
    "version": 3
   },
   "file_extension": ".py",
   "mimetype": "text/x-python",
   "name": "python",
   "nbconvert_exporter": "python",
   "pygments_lexer": "ipython3",
   "version": "3.5.4"
  }
 },
 "nbformat": 4,
 "nbformat_minor": 2
}
