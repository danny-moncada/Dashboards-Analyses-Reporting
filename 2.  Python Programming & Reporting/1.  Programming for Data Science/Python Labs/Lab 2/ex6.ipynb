{
 "cells": [
  {
   "cell_type": "code",
   "execution_count": 1,
   "metadata": {
    "collapsed": true
   },
   "outputs": [],
   "source": [
    "## Danny Moncada - MSBA 6310 - Lab 2 - ex6.py\n",
    "## Write a program that uses a for loop to calculate the value of 1/1 + 1/2 + 1/3 + ... + 1/n,\n",
    "## where n is provided by the user"
   ]
  },
  {
   "cell_type": "code",
   "execution_count": 52,
   "metadata": {},
   "outputs": [
    {
     "name": "stdout",
     "output_type": "stream",
     "text": [
      "Please enter the maximum denominator: 100\n",
      "The sum is 5.18737751764\n"
     ]
    }
   ],
   "source": [
    "# get user input for maximum denoinator\n",
    "n = int(input(\"Please enter the maximum denominator: \"))\n",
    "\n",
    "# use a for loop to generate the values and sum them and print the output\n",
    "print(\"The sum is {0}\".format(round(sum(1/n for n in range (1, n + 1)), 11)))"
   ]
  }
 ],
 "metadata": {
  "kernelspec": {
   "display_name": "Python 3",
   "language": "python",
   "name": "python3"
  },
  "language_info": {
   "codemirror_mode": {
    "name": "ipython",
    "version": 3
   },
   "file_extension": ".py",
   "mimetype": "text/x-python",
   "name": "python",
   "nbconvert_exporter": "python",
   "pygments_lexer": "ipython3",
   "version": "3.5.4"
  }
 },
 "nbformat": 4,
 "nbformat_minor": 2
}
