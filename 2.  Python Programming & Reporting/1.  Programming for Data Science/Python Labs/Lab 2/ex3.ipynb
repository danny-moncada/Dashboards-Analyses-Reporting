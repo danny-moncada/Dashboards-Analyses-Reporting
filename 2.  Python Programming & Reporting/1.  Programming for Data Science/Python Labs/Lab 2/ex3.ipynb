{
 "cells": [
  {
   "cell_type": "code",
   "execution_count": 1,
   "metadata": {
    "collapsed": true
   },
   "outputs": [],
   "source": [
    "## Danny Moncada - MSBA 6310 - Lab 2 - ex3.py\n",
    "## Write a program that prompts the user for 3 numbers and calculates the average of the biggest two"
   ]
  },
  {
   "cell_type": "code",
   "execution_count": 103,
   "metadata": {},
   "outputs": [
    {
     "name": "stdout",
     "output_type": "stream",
     "text": [
      "Enter first number: 5\n",
      "Enter second number: 0\n",
      "Enter third number: 2.2\n",
      "\n",
      "The average of the two largest numbers is: 3.6\n"
     ]
    }
   ],
   "source": [
    "# prompt user for three numbers\n",
    "\n",
    "first_number = float(input(\"Enter first number: \"))\n",
    "second_number = float(input(\"Enter second number: \"))\n",
    "third_number = float(input(\"Enter third number: \"))\n",
    "\n",
    "# generate a list of values and remove the smallest element from that list\n",
    "my_list = [first_number, second_number, third_number]\n",
    "my_list.remove(min(my_list))\n",
    "\n",
    "# average the two remainings by dividing the length of the list\n",
    "average = (my_list[0] + my_list[1]) / len(my_list)\n",
    "print()\n",
    "print(\"The average of the two largest numbers is: {0}\".format(average))"
   ]
  }
 ],
 "metadata": {
  "kernelspec": {
   "display_name": "Python 3",
   "language": "python",
   "name": "python3"
  },
  "language_info": {
   "codemirror_mode": {
    "name": "ipython",
    "version": 3
   },
   "file_extension": ".py",
   "mimetype": "text/x-python",
   "name": "python",
   "nbconvert_exporter": "python",
   "pygments_lexer": "ipython3",
   "version": "3.5.4"
  }
 },
 "nbformat": 4,
 "nbformat_minor": 2
}
