{
 "cells": [
  {
   "cell_type": "code",
   "execution_count": 1,
   "metadata": {
    "collapsed": true
   },
   "outputs": [],
   "source": [
    "## Danny Moncada - MSBA 6310 - Lab 2 - ex8.py\n",
    "## Write a program that requests 1. initial investment  2. interest rate 3. monthly annuity amount and counts the number of months \n",
    "## before the account will contain less than the monthly payout amount, and displays balance amount at that time"
   ]
  },
  {
   "cell_type": "code",
   "execution_count": 2,
   "metadata": {},
   "outputs": [
    {
     "name": "stdout",
     "output_type": "stream",
     "text": [
      "Please enter your inital investment: 5000\n",
      "\n",
      "Please enter annual interest rate (ex. 2.5): 0\n",
      "\n",
      "Please enter the monthly annuity payout: 4995\n",
      "After 1 months your balance is $5.00.\n"
     ]
    }
   ],
   "source": [
    "# get user input for initial investment, annual interest rate, monthly annuity payment\n",
    "\n",
    "investment = float(input(\"Please enter your inital investment: \"))\n",
    "print()\n",
    "interest_rate = float(input(\"Please enter annual interest rate (ex. 2.5): \"))\n",
    "print()\n",
    "annuity_payment = float(input(\"Please enter the monthly annuity payout: \"))\n",
    "\n",
    "# create a counter for months and iterate over the investment until it is less than the annuity payment\n",
    "months = 0\n",
    "while investment > annuity_payment:\n",
    "    months = months + 1\n",
    "    investment = investment * (1 + (interest_rate / 1200) ) - annuity_payment\n",
    "\n",
    "print(\"After {} months your balance is ${:.2f}.\".format(months, investment))"
   ]
  },
  {
   "cell_type": "code",
   "execution_count": null,
   "metadata": {
    "collapsed": true
   },
   "outputs": [],
   "source": []
  }
 ],
 "metadata": {
  "kernelspec": {
   "display_name": "Python 3",
   "language": "python",
   "name": "python3"
  },
  "language_info": {
   "codemirror_mode": {
    "name": "ipython",
    "version": 3
   },
   "file_extension": ".py",
   "mimetype": "text/x-python",
   "name": "python",
   "nbconvert_exporter": "python",
   "pygments_lexer": "ipython3",
   "version": "3.5.4"
  }
 },
 "nbformat": 4,
 "nbformat_minor": 2
}
