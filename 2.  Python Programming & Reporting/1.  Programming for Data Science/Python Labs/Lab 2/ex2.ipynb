{
 "cells": [
  {
   "cell_type": "code",
   "execution_count": 1,
   "metadata": {
    "collapsed": true
   },
   "outputs": [],
   "source": [
    "## Danny Moncada - MSBA 6310 - Lab 2 - ex2.py\n",
    "## Military time consists of 00 to 23, 0022 would correspond to 12:22AM. Write a program that converts military time to regular time"
   ]
  },
  {
   "cell_type": "code",
   "execution_count": 130,
   "metadata": {},
   "outputs": [
    {
     "name": "stdout",
     "output_type": "stream",
     "text": [
      "Enter military time: 1927\n",
      "7:27pm\n"
     ]
    }
   ],
   "source": [
    "# get user input for a military time\n",
    "military_time = input(\"Enter military time: \")\n",
    "\n",
    "## split time in hours and mins\n",
    "hours = int(military_time[:2])\n",
    "mins = military_time[2:]\n",
    "\n",
    "if hours == 0:\n",
    "    print(\"12:{}am\".format(mins))\n",
    "elif hours - 12 < 0:\n",
    "    print(\"{}:{}am\".format(hours, mins))\n",
    "elif hours >= 12:\n",
    "    print(\"{}:{}pm\".format(hours - 12, mins))"
   ]
  }
 ],
 "metadata": {
  "kernelspec": {
   "display_name": "Python 3",
   "language": "python",
   "name": "python3"
  },
  "language_info": {
   "codemirror_mode": {
    "name": "ipython",
    "version": 3
   },
   "file_extension": ".py",
   "mimetype": "text/x-python",
   "name": "python",
   "nbconvert_exporter": "python",
   "pygments_lexer": "ipython3",
   "version": "3.5.4"
  }
 },
 "nbformat": 4,
 "nbformat_minor": 2
}
