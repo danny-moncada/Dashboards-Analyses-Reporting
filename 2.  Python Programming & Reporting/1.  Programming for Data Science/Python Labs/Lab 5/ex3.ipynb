{
 "cells": [
  {
   "cell_type": "code",
   "execution_count": 3,
   "metadata": {
    "collapsed": true
   },
   "outputs": [],
   "source": [
    "import numpy as np"
   ]
  },
  {
   "cell_type": "code",
   "execution_count": null,
   "metadata": {
    "collapsed": true
   },
   "outputs": [],
   "source": []
  },
  {
   "cell_type": "code",
   "execution_count": null,
   "metadata": {
    "collapsed": true
   },
   "outputs": [],
   "source": [
    "In [1]: inventory = [[25,64,23],[30,82,19]]\n",
    "In [2]: sales = [[7,45,11],[4,24,8]]\n",
    "In [3]: final_inventory(inventory,sales)\n",
    "Out[3]:\n",
    "array([[18, 19, 12],\n",
    "[26, 58, 11]])"
   ]
  },
  {
   "cell_type": "code",
   "execution_count": 1,
   "metadata": {
    "collapsed": true
   },
   "outputs": [],
   "source": [
    "inventory = [[25,64,23],[30,82,19]]"
   ]
  },
  {
   "cell_type": "code",
   "execution_count": 2,
   "metadata": {
    "collapsed": true
   },
   "outputs": [],
   "source": [
    "sales = [[7,45,11],[4,24,8]]"
   ]
  },
  {
   "cell_type": "code",
   "execution_count": 4,
   "metadata": {
    "collapsed": true
   },
   "outputs": [],
   "source": [
    "def final_inventory(inventory, sales):\n",
    "    inventory = np.array(invertory)\n",
    "    sales = np.array(sales)\n",
    "    return inventory - sales"
   ]
  },
  {
   "cell_type": "code",
   "execution_count": 6,
   "metadata": {},
   "outputs": [
    {
     "data": {
      "text/plain": [
       "array([[18, 19, 12],\n",
       "       [26, 58, 11]])"
      ]
     },
     "execution_count": 6,
     "metadata": {},
     "output_type": "execute_result"
    }
   ],
   "source": [
    "inventory = [[25,64,23],[30,82,19]]\n",
    "sales = [[7,45,11],[4,24,8]]\n",
    "\n",
    "def final_inventory(inventory, sales):\n",
    "    inventory = np.array(inventory)\n",
    "    sales = np.array(sales)\n",
    "    return inventory - sales\n",
    "\n",
    "final_inventory(inventory, sales)"
   ]
  },
  {
   "cell_type": "code",
   "execution_count": 7,
   "metadata": {},
   "outputs": [
    {
     "data": {
      "text/plain": [
       "array([[18, 19, 12],\n",
       "       [26, 58, 11]])"
      ]
     },
     "execution_count": 7,
     "metadata": {},
     "output_type": "execute_result"
    }
   ],
   "source": [
    "inventory = [[25,64,23],[30,82,19]]\n",
    "sales = [[7,45,11],[4,24,8]]\n",
    "\n",
    "def final_inventory(inventory, sales):\n",
    "    return np.array(inventory) - np.array(sales)\n",
    "\n",
    "final_inventory(inventory, sales)"
   ]
  },
  {
   "cell_type": "code",
   "execution_count": null,
   "metadata": {
    "collapsed": true
   },
   "outputs": [],
   "source": []
  }
 ],
 "metadata": {
  "kernelspec": {
   "display_name": "Python 3",
   "language": "python",
   "name": "python3"
  },
  "language_info": {
   "codemirror_mode": {
    "name": "ipython",
    "version": 3
   },
   "file_extension": ".py",
   "mimetype": "text/x-python",
   "name": "python",
   "nbconvert_exporter": "python",
   "pygments_lexer": "ipython3",
   "version": "3.5.4"
  }
 },
 "nbformat": 4,
 "nbformat_minor": 2
}
