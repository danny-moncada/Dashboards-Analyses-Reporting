{
 "cells": [
  {
   "cell_type": "code",
   "execution_count": null,
   "metadata": {
    "collapsed": true
   },
   "outputs": [],
   "source": []
  },
  {
   "cell_type": "code",
   "execution_count": null,
   "metadata": {
    "collapsed": true
   },
   "outputs": [],
   "source": [
    "pct_change('degrees.txt')\n",
    "Out[1]:\n",
    "(array(['Computer Science', 'Business', 'Social Sciences', 'Engineering',\n",
    "'Education'],\n",
    "dtype='<U16'),\n",
    "array([ 161.8146948 , 78.6810359 , 71.89816243, 14.16046007,\n",
    "-6.30031275]))"
   ]
  },
  {
   "cell_type": "code",
   "execution_count": 112,
   "metadata": {
    "collapsed": true
   },
   "outputs": [],
   "source": [
    "import numpy as np\n",
    "\n",
    "def pct_change(filename):\n",
    "    degrees = np.loadtxt(filename, delimiter = \",\", dtype = str)\n",
    "    \n",
    "    school = degrees[:, 0:1]\n",
    "    start = degrees[:, 1:2].astype(int)\n",
    "    end = degrees[:, 2:3].astype(int)\n",
    "    \n",
    "    percent_change = (end - start) / start * 100\n",
    "    \n",
    "    return school[np.argsort(percent_change, axis = 0)[::-1]].flatten(), percent_change[np.argsort(percent_change, axis = 0)[::-1]].flatten()"
   ]
  },
  {
   "cell_type": "code",
   "execution_count": 113,
   "metadata": {},
   "outputs": [
    {
     "data": {
      "text/plain": [
       "(array(['Computer Science', 'Business', 'Social Sciences', 'Engineering',\n",
       "        'Education'], dtype='<U16'),\n",
       " array([161.8146948 ,  78.6810359 ,  71.89816243,  14.16046007,\n",
       "         -6.30031275]))"
      ]
     },
     "execution_count": 113,
     "metadata": {},
     "output_type": "execute_result"
    }
   ],
   "source": [
    "pct_change(\"degrees.txt\")"
   ]
  },
  {
   "cell_type": "code",
   "execution_count": 102,
   "metadata": {
    "collapsed": true
   },
   "outputs": [],
   "source": [
    "degrees = np.loadtxt(\"degrees.txt\", delimiter = \",\", dtype = str)"
   ]
  },
  {
   "cell_type": "code",
   "execution_count": 103,
   "metadata": {
    "collapsed": true
   },
   "outputs": [],
   "source": [
    "school = degrees[:, 0:1]"
   ]
  },
  {
   "cell_type": "code",
   "execution_count": 104,
   "metadata": {
    "collapsed": true
   },
   "outputs": [],
   "source": [
    "start = degrees[:, 1:2].astype(int)"
   ]
  },
  {
   "cell_type": "code",
   "execution_count": 105,
   "metadata": {
    "collapsed": true
   },
   "outputs": [],
   "source": [
    "end = degrees[:, 2:3].astype(int)"
   ]
  },
  {
   "cell_type": "code",
   "execution_count": 99,
   "metadata": {
    "collapsed": true
   },
   "outputs": [],
   "source": [
    "percent_change = (end - start) / start * 100"
   ]
  },
  {
   "cell_type": "code",
   "execution_count": 108,
   "metadata": {},
   "outputs": [
    {
     "data": {
      "text/plain": [
       "(array(['Computer Science', 'Business', 'Social Sciences', 'Engineering',\n",
       "        'Education'], dtype='<U16'),\n",
       " array([161.8146948 ,  78.6810359 ,  71.89816243,  14.16046007,\n",
       "         -6.30031275]))"
      ]
     },
     "execution_count": 108,
     "metadata": {},
     "output_type": "execute_result"
    }
   ],
   "source": [
    "school[np.argsort(percent_change, axis = 0)[::-1]].flatten(), percent_change[np.argsort(percent_change, axis = 0)[::-1]].flatten()"
   ]
  },
  {
   "cell_type": "code",
   "execution_count": 90,
   "metadata": {},
   "outputs": [
    {
     "data": {
      "text/plain": [
       "array([['Business', '200521', '358293'],\n",
       "       ['Computer Science', '15121', '39589'],\n",
       "       ['Education', '108074', '101265'],\n",
       "       ['Engineering', '63642', '72654'],\n",
       "       ['Social Sciences', '100513', '172780']], dtype='<U16')"
      ]
     },
     "execution_count": 90,
     "metadata": {},
     "output_type": "execute_result"
    }
   ],
   "source": [
    "degrees"
   ]
  },
  {
   "cell_type": "code",
   "execution_count": null,
   "metadata": {
    "collapsed": true
   },
   "outputs": [],
   "source": []
  },
  {
   "cell_type": "code",
   "execution_count": null,
   "metadata": {
    "collapsed": true
   },
   "outputs": [],
   "source": []
  },
  {
   "cell_type": "code",
   "execution_count": 35,
   "metadata": {
    "collapsed": true
   },
   "outputs": [],
   "source": [
    "percentage_change = (degrees[:, 2:3].astype(int) - degrees[:, 1:2].astype(int)) / degrees[:, 1:2].astype(int) * 100"
   ]
  },
  {
   "cell_type": "code",
   "execution_count": 63,
   "metadata": {},
   "outputs": [
    {
     "data": {
      "text/plain": [
       "array([[['Computer Science']],\n",
       "\n",
       "       [['Business']],\n",
       "\n",
       "       [['Social Sciences']],\n",
       "\n",
       "       [['Engineering']],\n",
       "\n",
       "       [['Education']]], dtype='<U16')"
      ]
     },
     "execution_count": 63,
     "metadata": {},
     "output_type": "execute_result"
    }
   ],
   "source": [
    "degrees[:, 0:1][np.argsort(percentage_change, axis = 0)[::-1]]"
   ]
  },
  {
   "cell_type": "code",
   "execution_count": 64,
   "metadata": {},
   "outputs": [
    {
     "data": {
      "text/plain": [
       "array([[ 78.6810359 ],\n",
       "       [161.8146948 ],\n",
       "       [ -6.30031275],\n",
       "       [ 14.16046007],\n",
       "       [ 71.89816243]])"
      ]
     },
     "execution_count": 64,
     "metadata": {},
     "output_type": "execute_result"
    }
   ],
   "source": [
    "percentage_change"
   ]
  },
  {
   "cell_type": "code",
   "execution_count": null,
   "metadata": {
    "collapsed": true
   },
   "outputs": [],
   "source": []
  }
 ],
 "metadata": {
  "kernelspec": {
   "display_name": "Python 3",
   "language": "python",
   "name": "python3"
  },
  "language_info": {
   "codemirror_mode": {
    "name": "ipython",
    "version": 3
   },
   "file_extension": ".py",
   "mimetype": "text/x-python",
   "name": "python",
   "nbconvert_exporter": "python",
   "pygments_lexer": "ipython3",
   "version": "3.5.4"
  }
 },
 "nbformat": 4,
 "nbformat_minor": 2
}
