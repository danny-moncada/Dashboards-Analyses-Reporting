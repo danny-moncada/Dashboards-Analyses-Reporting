{
 "cells": [
  {
   "cell_type": "code",
   "execution_count": 2,
   "metadata": {},
   "outputs": [],
   "source": [
    "import pandas as pd\n",
    "\n",
    "from pandas import Series, DataFrame\n",
    "\n",
    "def states_w_n_vowels(filename, n):\n",
    "    \n",
    "    states = pd.read_csv(filename, header = None)\n",
    "    \n",
    "    states['vowel_count'] = states[0].str.lower().map(set).map(str).str.count(r'[aeoiu]')\n",
    "    \n",
    "    return states[states['vowel_count'] == n][0].values"
   ]
  },
  {
   "cell_type": "code",
   "execution_count": 96,
   "metadata": {},
   "outputs": [
    {
     "data": {
      "text/plain": [
       "array(['Pennsylvania', 'Massachusetts', 'New Hampshire', 'North Carolina',\n",
       "       'Maine', 'Missouri', 'Florida', 'Iowa', 'California',\n",
       "       'West Virginia', 'South Dakota', 'Washington', 'Idaho',\n",
       "       'New Mexico', 'Arizona'], dtype=object)"
      ]
     },
     "execution_count": 96,
     "metadata": {},
     "output_type": "execute_result"
    }
   ],
   "source": [
    "states_w_n_vowels('usstates.csv', 3)"
   ]
  },
  {
   "cell_type": "code",
   "execution_count": 19,
   "metadata": {
    "scrolled": true
   },
   "outputs": [
    {
     "data": {
      "text/plain": [
       "array(['South Carolina', 'North Carolina'], dtype=object)"
      ]
     },
     "execution_count": 19,
     "metadata": {},
     "output_type": "execute_result"
    }
   ],
   "source": [
    "In [1]: states_w_n_vowels('usstates.csv', 3)\n",
    "Out[1]:\n",
    "array(['Pennsylvania', 'Massachusetts', 'New Hampshire', ..., 'Idaho',\n",
    "'New Mexico', 'Arizona'], dtype=object)"
   ]
  },
  {
   "cell_type": "code",
   "execution_count": 77,
   "metadata": {
    "collapsed": true
   },
   "outputs": [],
   "source": [
    "states = pd.read_csv('usstates.csv', header = None)"
   ]
  },
  {
   "cell_type": "code",
   "execution_count": 82,
   "metadata": {
    "collapsed": true
   },
   "outputs": [],
   "source": [
    "states['vowel_count'] = states[0].str.lower().map(set).map(str).str.count(r'[aeoiu]')"
   ]
  },
  {
   "cell_type": "code",
   "execution_count": 94,
   "metadata": {},
   "outputs": [
    {
     "data": {
      "text/plain": [
       "array(['Pennsylvania', 'Massachusetts', 'New Hampshire', 'North Carolina',\n",
       "       'Maine', 'Missouri', 'Florida', 'Iowa', 'California',\n",
       "       'West Virginia', 'South Dakota', 'Washington', 'Idaho',\n",
       "       'New Mexico', 'Arizona'], dtype=object)"
      ]
     },
     "execution_count": 94,
     "metadata": {},
     "output_type": "execute_result"
    }
   ],
   "source": [
    "states[states['vowel_count'] == 3][0].values"
   ]
  },
  {
   "cell_type": "code",
   "execution_count": 30,
   "metadata": {},
   "outputs": [
    {
     "data": {
      "text/plain": [
       "0     2\n",
       "1     3\n",
       "2     1\n",
       "3     4\n",
       "4     4\n",
       "5     3\n",
       "6     1\n",
       "7     4\n",
       "8     3\n",
       "9     2\n",
       "10    2\n",
       "11    3\n",
       "12    4\n",
       "13    2\n",
       "14    2\n",
       "15    1\n",
       "16    2\n",
       "17    4\n",
       "18    2\n",
       "19    1\n",
       "20    2\n",
       "21    1\n",
       "22    3\n",
       "23    3\n",
       "24    1\n",
       "25    2\n",
       "26    3\n",
       "27    2\n",
       "28    3\n",
       "29    2\n",
       "30    3\n",
       "31    4\n",
       "32    2\n",
       "33    1\n",
       "34    3\n",
       "35    2\n",
       "36    2\n",
       "37    2\n",
       "38    2\n",
       "39    3\n",
       "40    2\n",
       "41    3\n",
       "42    3\n",
       "43    2\n",
       "44    2\n",
       "45    2\n",
       "46    3\n",
       "47    3\n",
       "48    1\n",
       "49    2\n",
       "Name: 0, dtype: int64"
      ]
     },
     "execution_count": 30,
     "metadata": {},
     "output_type": "execute_result"
    }
   ],
   "source": [
    "states[0].str.lower().map(set).map(str).str.count(r'[aeoiu]')"
   ]
  },
  {
   "cell_type": "code",
   "execution_count": 32,
   "metadata": {},
   "outputs": [
    {
     "data": {
      "text/plain": [
       "1       Pennsylvania\n",
       "5      Massachusetts\n",
       "8      New Hampshire\n",
       "11    North Carolina\n",
       "12      Rhode Island\n",
       "22             Maine\n",
       "23          Missouri\n",
       "26           Florida\n",
       "30        California\n",
       "34     West Virginia\n",
       "39      South Dakota\n",
       "41        Washington\n",
       "46        New Mexico\n",
       "47           Arizona\n",
       "Name: 0, dtype: object"
      ]
     },
     "execution_count": 32,
     "metadata": {},
     "output_type": "execute_result"
    }
   ],
   "source": [
    "states = pd.read_csv(\"usstates.csv\", header = None)\n",
    "state_series = states[0]\n",
    "\n",
    "state_series[state_series.map(set).map(str).str.count(r'[aeiou]') == 3]\n",
    "#states_series"
   ]
  },
  {
   "cell_type": "code",
   "execution_count": 37,
   "metadata": {},
   "outputs": [
    {
     "data": {
      "text/plain": [
       "0                       [D, e, l, a, w, a, r, e]\n",
       "1           [P, e, n, n, s, y, l, v, a, n, i, a]\n",
       "2                 [N, e, w,  , J, e, r, s, e, y]\n",
       "3                          [G, e, o, r, g, i, a]\n",
       "4              [C, o, n, n, e, c, t, i, c, u, t]\n",
       "5        [M, a, s, s, a, c, h, u, s, e, t, t, s]\n",
       "6                       [M, a, r, y, l, a, n, d]\n",
       "7     [S, o, u, t, h,  , C, a, r, o, l, i, n, a]\n",
       "8        [N, e, w,  , H, a, m, p, s, h, i, r, e]\n",
       "9                       [V, i, r, g, i, n, i, a]\n",
       "10                      [N, e, w,  , Y, o, r, k]\n",
       "11    [N, o, r, t, h,  , C, a, r, o, l, i, n, a]\n",
       "12          [R, h, o, d, e,  , I, s, l, a, n, d]\n",
       "13                         [V, e, r, m, o, n, t]\n",
       "14                      [K, e, n, t, u, c, k, y]\n",
       "15                   [T, e, n, n, e, s, s, e, e]\n",
       "16                                  [O, h, i, o]\n",
       "17                   [L, o, u, i, s, i, a, n, a]\n",
       "18                         [I, n, d, i, a, n, a]\n",
       "19             [M, i, s, s, i, s, s, i, p, p, i]\n",
       "20                      [I, l, l, i, n, o, i, s]\n",
       "21                         [A, l, a, b, a, m, a]\n",
       "22                               [M, a, i, n, e]\n",
       "23                      [M, i, s, s, o, u, r, i]\n",
       "24                      [A, r, k, a, n, s, a, s]\n",
       "25                      [M, i, c, h, i, g, a, n]\n",
       "26                         [F, l, o, r, i, d, a]\n",
       "27                               [T, e, x, a, s]\n",
       "28                                  [I, o, w, a]\n",
       "29                   [W, i, s, c, o, n, s, i, n]\n",
       "30                [C, a, l, i, f, o, r, n, i, a]\n",
       "31                   [M, i, n, n, e, s, o, t, a]\n",
       "32                            [O, r, e, g, o, n]\n",
       "33                            [K, a, n, s, a, s]\n",
       "34       [W, e, s, t,  , V, i, r, g, i, n, i, a]\n",
       "35                            [N, e, v, a, d, a]\n",
       "36                      [N, e, b, r, a, s, k, a]\n",
       "37                      [C, o, l, o, r, a, d, o]\n",
       "38          [N, o, r, t, h,  , D, a, k, o, t, a]\n",
       "39          [S, o, u, t, h,  , D, a, k, o, t, a]\n",
       "40                         [M, o, n, t, a, n, a]\n",
       "41                [W, a, s, h, i, n, g, t, o, n]\n",
       "42                               [I, d, a, h, o]\n",
       "43                         [W, y, o, m, i, n, g]\n",
       "44                                  [U, t, a, h]\n",
       "45                      [O, k, l, a, h, o, m, a]\n",
       "46                [N, e, w,  , M, e, x, i, c, o]\n",
       "47                         [A, r, i, z, o, n, a]\n",
       "48                            [A, l, a, s, k, a]\n",
       "49                            [H, a, w, a, i, i]\n",
       "Name: 0, dtype: object"
      ]
     },
     "execution_count": 37,
     "metadata": {},
     "output_type": "execute_result"
    }
   ],
   "source": [
    "states_series.map(list)"
   ]
  },
  {
   "cell_type": "code",
   "execution_count": 37,
   "metadata": {},
   "outputs": [
    {
     "data": {
      "text/plain": [
       "{'a', 'e', 'i'}"
      ]
     },
     "execution_count": 37,
     "metadata": {},
     "output_type": "execute_result"
    }
   ],
   "source": [
    "vowels"
   ]
  },
  {
   "cell_type": "code",
   "execution_count": 68,
   "metadata": {
    "collapsed": true
   },
   "outputs": [],
   "source": [
    "states['vowel_count'] = states[0].map(set).map(str).str.count(r'[aeoiu]')"
   ]
  },
  {
   "cell_type": "code",
   "execution_count": 76,
   "metadata": {},
   "outputs": [
    {
     "data": {
      "text/html": [
       "<div>\n",
       "<style scoped>\n",
       "    .dataframe tbody tr th:only-of-type {\n",
       "        vertical-align: middle;\n",
       "    }\n",
       "\n",
       "    .dataframe tbody tr th {\n",
       "        vertical-align: top;\n",
       "    }\n",
       "\n",
       "    .dataframe thead th {\n",
       "        text-align: right;\n",
       "    }\n",
       "</style>\n",
       "<table border=\"1\" class=\"dataframe\">\n",
       "  <thead>\n",
       "    <tr style=\"text-align: right;\">\n",
       "      <th></th>\n",
       "      <th>0</th>\n",
       "      <th>1</th>\n",
       "      <th>2</th>\n",
       "      <th>3</th>\n",
       "      <th>vowel_count</th>\n",
       "    </tr>\n",
       "  </thead>\n",
       "  <tbody>\n",
       "    <tr>\n",
       "      <th>1</th>\n",
       "      <td>pennsylvania</td>\n",
       "      <td>PA</td>\n",
       "      <td>44817</td>\n",
       "      <td>12296000</td>\n",
       "      <td>3</td>\n",
       "    </tr>\n",
       "    <tr>\n",
       "      <th>5</th>\n",
       "      <td>massachusetts</td>\n",
       "      <td>MA</td>\n",
       "      <td>7840</td>\n",
       "      <td>5950000</td>\n",
       "      <td>3</td>\n",
       "    </tr>\n",
       "    <tr>\n",
       "      <th>8</th>\n",
       "      <td>new hampshire</td>\n",
       "      <td>NH</td>\n",
       "      <td>8968</td>\n",
       "      <td>1165000</td>\n",
       "      <td>3</td>\n",
       "    </tr>\n",
       "    <tr>\n",
       "      <th>11</th>\n",
       "      <td>north carolina</td>\n",
       "      <td>NC</td>\n",
       "      <td>48711</td>\n",
       "      <td>7617000</td>\n",
       "      <td>3</td>\n",
       "    </tr>\n",
       "    <tr>\n",
       "      <th>22</th>\n",
       "      <td>maine</td>\n",
       "      <td>ME</td>\n",
       "      <td>60862</td>\n",
       "      <td>1240000</td>\n",
       "      <td>3</td>\n",
       "    </tr>\n",
       "    <tr>\n",
       "      <th>23</th>\n",
       "      <td>missouri</td>\n",
       "      <td>MO</td>\n",
       "      <td>69704</td>\n",
       "      <td>5458562</td>\n",
       "      <td>3</td>\n",
       "    </tr>\n",
       "    <tr>\n",
       "      <th>26</th>\n",
       "      <td>florida</td>\n",
       "      <td>FL</td>\n",
       "      <td>53927</td>\n",
       "      <td>15313000</td>\n",
       "      <td>3</td>\n",
       "    </tr>\n",
       "    <tr>\n",
       "      <th>28</th>\n",
       "      <td>iowa</td>\n",
       "      <td>IA</td>\n",
       "      <td>55869</td>\n",
       "      <td>2930000</td>\n",
       "      <td>3</td>\n",
       "    </tr>\n",
       "    <tr>\n",
       "      <th>30</th>\n",
       "      <td>california</td>\n",
       "      <td>CA</td>\n",
       "      <td>155959</td>\n",
       "      <td>34888000</td>\n",
       "      <td>3</td>\n",
       "    </tr>\n",
       "    <tr>\n",
       "      <th>34</th>\n",
       "      <td>west virginia</td>\n",
       "      <td>WV</td>\n",
       "      <td>24078</td>\n",
       "      <td>1840000</td>\n",
       "      <td>3</td>\n",
       "    </tr>\n",
       "    <tr>\n",
       "      <th>39</th>\n",
       "      <td>south dakota</td>\n",
       "      <td>SD</td>\n",
       "      <td>77121</td>\n",
       "      <td>770000</td>\n",
       "      <td>3</td>\n",
       "    </tr>\n",
       "    <tr>\n",
       "      <th>41</th>\n",
       "      <td>washington</td>\n",
       "      <td>WA</td>\n",
       "      <td>71303</td>\n",
       "      <td>6070000</td>\n",
       "      <td>3</td>\n",
       "    </tr>\n",
       "    <tr>\n",
       "      <th>42</th>\n",
       "      <td>idaho</td>\n",
       "      <td>ID</td>\n",
       "      <td>83574</td>\n",
       "      <td>1290000</td>\n",
       "      <td>3</td>\n",
       "    </tr>\n",
       "    <tr>\n",
       "      <th>46</th>\n",
       "      <td>new mexico</td>\n",
       "      <td>NM</td>\n",
       "      <td>121598</td>\n",
       "      <td>1823000</td>\n",
       "      <td>3</td>\n",
       "    </tr>\n",
       "    <tr>\n",
       "      <th>47</th>\n",
       "      <td>arizona</td>\n",
       "      <td>AZ</td>\n",
       "      <td>113635</td>\n",
       "      <td>4437000</td>\n",
       "      <td>3</td>\n",
       "    </tr>\n",
       "  </tbody>\n",
       "</table>\n",
       "</div>"
      ],
      "text/plain": [
       "                 0   1       2         3  vowel_count\n",
       "1     pennsylvania  PA   44817  12296000            3\n",
       "5    massachusetts  MA    7840   5950000            3\n",
       "8    new hampshire  NH    8968   1165000            3\n",
       "11  north carolina  NC   48711   7617000            3\n",
       "22           maine  ME   60862   1240000            3\n",
       "23        missouri  MO   69704   5458562            3\n",
       "26         florida  FL   53927  15313000            3\n",
       "28            iowa  IA   55869   2930000            3\n",
       "30      california  CA  155959  34888000            3\n",
       "34   west virginia  WV   24078   1840000            3\n",
       "39    south dakota  SD   77121    770000            3\n",
       "41      washington  WA   71303   6070000            3\n",
       "42           idaho  ID   83574   1290000            3\n",
       "46      new mexico  NM  121598   1823000            3\n",
       "47         arizona  AZ  113635   4437000            3"
      ]
     },
     "execution_count": 76,
     "metadata": {},
     "output_type": "execute_result"
    }
   ],
   "source": [
    "states[states['vowel_count'] == 3]"
   ]
  },
  {
   "cell_type": "code",
   "execution_count": null,
   "metadata": {
    "collapsed": true
   },
   "outputs": [],
   "source": []
  },
  {
   "cell_type": "code",
   "execution_count": null,
   "metadata": {
    "collapsed": true
   },
   "outputs": [],
   "source": []
  },
  {
   "cell_type": "code",
   "execution_count": null,
   "metadata": {
    "collapsed": true
   },
   "outputs": [],
   "source": []
  }
 ],
 "metadata": {
  "kernelspec": {
   "display_name": "Python 3",
   "language": "python",
   "name": "python3"
  },
  "language_info": {
   "codemirror_mode": {
    "name": "ipython",
    "version": 3
   },
   "file_extension": ".py",
   "mimetype": "text/x-python",
   "name": "python",
   "nbconvert_exporter": "python",
   "pygments_lexer": "ipython3",
   "version": "3.5.4"
  }
 },
 "nbformat": 4,
 "nbformat_minor": 2
}
