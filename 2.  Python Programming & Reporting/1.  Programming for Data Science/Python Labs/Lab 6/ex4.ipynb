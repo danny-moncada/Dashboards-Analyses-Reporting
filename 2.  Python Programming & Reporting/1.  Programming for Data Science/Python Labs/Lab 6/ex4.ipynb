{
 "cells": [
  {
   "cell_type": "code",
   "execution_count": null,
   "metadata": {
    "collapsed": true
   },
   "outputs": [],
   "source": [
    "M 􀀀 :167 +\n",
    ":5N 􀀀 n1\n",
    "n2\n",
    "\u0002 :333\n",
    "Where:\n",
    "\u000f M is the standard median\n",
    "\u000f N is the total number of grades\n",
    "\u000f n1 is the number of grades less than the standard median\n",
    "\u000f n2 is the number of grades equal to the standard median\n",
    "If n2 = 0, then IM = M. Write a function named interpolated_median that accepts a list of\n",
    "letter grades and returns the interpolated median. Here is a list you can copy/paste for testing:\n",
    "grade s = [ 'A􀀀' , 'B' , 'C' , 'A' , 'C' , 'A' , 'B' , 'C􀀀' , 'C+' , 'B􀀀' ,\n",
    "'B􀀀' , 'A􀀀' , 'B' , 'B+' , 'C􀀀' , 'C+' , 'C' , 'B􀀀' , 'A' , 'C' ,\n",
    "'C' , 'B􀀀' , 'A' , 'C􀀀' , 'C' ]\n",
    "...and here is a sample call to the function using the above list:\n",
    "In [1]: interpolated_median(grades)\n",
    "Out[1]: 2.627875\n",
    "NOTE: In the US, letter grades generally run on a 4.0 scale with A = 4.0, A- = 3.67, B+ = 3.33,\n",
    "B = 3.0, B- = 2.67,"
   ]
  },
  {
   "cell_type": "code",
   "execution_count": null,
   "metadata": {
    "collapsed": true
   },
   "outputs": [],
   "source": []
  },
  {
   "cell_type": "code",
   "execution_count": null,
   "metadata": {
    "collapsed": true
   },
   "outputs": [],
   "source": []
  },
  {
   "cell_type": "code",
   "execution_count": null,
   "metadata": {
    "collapsed": true
   },
   "outputs": [],
   "source": []
  },
  {
   "cell_type": "code",
   "execution_count": 49,
   "metadata": {
    "collapsed": true
   },
   "outputs": [],
   "source": [
    "import pandas as pd\n",
    "\n",
    "from pandas import Series, DataFrame\n",
    "\n",
    "def interpolated_median(filename):\n",
    "    \n",
    "    scale = {'A': 4.0, 'A-': 3.67, 'B+': 3.33, \"B\": 3.0, \"B-\": 2.67, \"C+\": 2.33, \n",
    "                     \"C\": 2.0, \"C-\": 1.67, \"D+\": 1.33, \"D\": 1.0, \"D-\": 0.67, \"F\": 0}\n",
    "    \n",
    "    grades = pd.read_csv(filename, header = None, squeeze = True)\n",
    "    grades = grades.map(scale)\n",
    "    \n",
    "    median = grades.median()\n",
    "    total_grades = len(grades)\n",
    "    \n",
    "    n1 = len(grades[grades < median])\n",
    "    n2 = len(grades[grades == median])\n",
    "    \n",
    "    if n2 == 0:\n",
    "        return median\n",
    "    else:\n",
    "        return median - .167 + ((.5 * total_grades) - n1 )/ n2 * .333"
   ]
  },
  {
   "cell_type": "code",
   "execution_count": 50,
   "metadata": {},
   "outputs": [
    {
     "data": {
      "text/plain": [
       "2.627875"
      ]
     },
     "execution_count": 50,
     "metadata": {},
     "output_type": "execute_result"
    }
   ],
   "source": [
    "interpolated_median(\"grades.txt\")"
   ]
  },
  {
   "cell_type": "code",
   "execution_count": 28,
   "metadata": {
    "collapsed": true,
    "scrolled": true
   },
   "outputs": [],
   "source": [
    "grades = pd.read_csv(\"grades.txt\", header = None, squeeze = True)\n",
    "\n",
    "scale = {'A': 4.0, 'A-': 3.67, 'B+': 3.33, \"B\": 3.0, \"B-\": 2.67, \"C+\": 2.33, \n",
    "                     \"C\": 2.0, \"C-\": 1.67, \"D+\": 1.33, \"D\": 1.0, \"D-\": 0.67, \"F\": 0}"
   ]
  },
  {
   "cell_type": "code",
   "execution_count": 32,
   "metadata": {
    "collapsed": true
   },
   "outputs": [],
   "source": [
    "grades = grades.map(scale)\n"
   ]
  },
  {
   "cell_type": "code",
   "execution_count": 34,
   "metadata": {
    "collapsed": true
   },
   "outputs": [],
   "source": [
    "median = grades.median()"
   ]
  },
  {
   "cell_type": "code",
   "execution_count": null,
   "metadata": {
    "collapsed": true
   },
   "outputs": [],
   "source": []
  },
  {
   "cell_type": "code",
   "execution_count": 35,
   "metadata": {
    "collapsed": true
   },
   "outputs": [],
   "source": [
    "total_grades = len(grades)"
   ]
  },
  {
   "cell_type": "code",
   "execution_count": 40,
   "metadata": {
    "collapsed": true
   },
   "outputs": [],
   "source": [
    "n1 = len(grades[grades < median])\n",
    "n2 = len(grades[grades == median])"
   ]
  },
  {
   "cell_type": "code",
   "execution_count": 45,
   "metadata": {},
   "outputs": [
    {
     "data": {
      "text/plain": [
       "2.627875"
      ]
     },
     "execution_count": 45,
     "metadata": {},
     "output_type": "execute_result"
    }
   ],
   "source": [
    "median - .167 + ((.5 * total_grades) - n1 )/ n2 * .333"
   ]
  },
  {
   "cell_type": "code",
   "execution_count": null,
   "metadata": {
    "collapsed": true
   },
   "outputs": [],
   "source": []
  },
  {
   "cell_type": "code",
   "execution_count": null,
   "metadata": {
    "collapsed": true
   },
   "outputs": [],
   "source": []
  },
  {
   "cell_type": "code",
   "execution_count": null,
   "metadata": {
    "collapsed": true
   },
   "outputs": [],
   "source": []
  },
  {
   "cell_type": "code",
   "execution_count": null,
   "metadata": {
    "collapsed": true
   },
   "outputs": [],
   "source": [
    "return median - .167 + ((.5 * total) - n1 )/ n2 * .333, n1, n2"
   ]
  }
 ],
 "metadata": {
  "kernelspec": {
   "display_name": "Python 3",
   "language": "python",
   "name": "python3"
  },
  "language_info": {
   "codemirror_mode": {
    "name": "ipython",
    "version": 3
   },
   "file_extension": ".py",
   "mimetype": "text/x-python",
   "name": "python",
   "nbconvert_exporter": "python",
   "pygments_lexer": "ipython3",
   "version": "3.5.4"
  }
 },
 "nbformat": 4,
 "nbformat_minor": 2
}
