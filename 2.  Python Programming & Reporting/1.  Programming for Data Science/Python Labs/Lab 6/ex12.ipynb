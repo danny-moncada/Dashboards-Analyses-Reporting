{
 "cells": [
  {
   "cell_type": "code",
   "execution_count": 1,
   "metadata": {
    "collapsed": true
   },
   "outputs": [],
   "source": [
    "import pandas as pd\n",
    "\n",
    "from pandas import Series, DataFrame\n",
    "import itertools"
   ]
  },
  {
   "cell_type": "code",
   "execution_count": 1,
   "metadata": {},
   "outputs": [],
   "source": [
    "import pandas as pd\n",
    "from pandas import Series, DataFrame\n",
    "\n",
    "cities = ['Chicago', 'Los Angeles' ,'New York' , 'Philadelphia' ]\n",
    "\n",
    "dist_matrix = pd.read_csv('distances.txt' , header=None , names=cities)\n",
    "dist_matrix.index = cities\n",
    "\n",
    "def total_distance(dist_matrix, list_of_cities):\n",
    "    \n",
    "    dist_matrix = dist_matrix\n",
    "    begin_trip = list_of_cities\n",
    "    return_trip = list_of_cities[1:len(list_of_cities)]\n",
    "    return_trip.append(list_of_cities[0])\n",
    "    \n",
    "    return sum(dist_matrix.lookup(begin_trip, return_trip))"
   ]
  },
  {
   "cell_type": "code",
   "execution_count": 2,
   "metadata": {},
   "outputs": [
    {
     "data": {
      "text/plain": [
       "9700"
      ]
     },
     "execution_count": 2,
     "metadata": {},
     "output_type": "execute_result"
    }
   ],
   "source": [
    "total_distance(dist_matrix, [\"Chicago\", \"Los Angeles\", \"Philadelphia\", \"New York\", \"Los Angeles\"])"
   ]
  },
  {
   "cell_type": "code",
   "execution_count": 49,
   "metadata": {},
   "outputs": [
    {
     "name": "stdout",
     "output_type": "stream",
     "text": [
      "5662 ('Chicago', 'Los Angeles', 'Philadelphia', 'New York')\n"
     ]
    }
   ],
   "source": [
    "import pandas as pd\n",
    "import itertools\n",
    "cities = ['Chicago', 'Los Angeles' ,'New York' , 'Philadelphia' ]\n",
    "\n",
    "dist_matrix = pd . read_csv('distances.txt' , header=None , names=cities)\n",
    "dist_matrix.index = cities\n",
    "\n",
    "shortest_tour = []\n",
    "shortest_dist = 1000000\n",
    "\n",
    "for a_tour in itertools.permutations(cities, 4):\n",
    "    distance = total_distance(dist_matrix, list(a_tour))\n",
    "    if distance < shortest_dist:\n",
    "        shortest_dist = distance\n",
    "        shortest_tour = a_tour\n",
    "        \n",
    "print(shortest_dist , shortest_tour)"
   ]
  },
  {
   "cell_type": "code",
   "execution_count": 10,
   "metadata": {},
   "outputs": [
    {
     "name": "stdout",
     "output_type": "stream",
     "text": [
      "['Chicago', 'Los Angeles', 'Philadelphia', 'New York', 'Los Angeles']\n",
      "['Los Angeles', 'Philadelphia', 'New York', 'Los Angeles', 'Chicago']\n",
      "['Los Angeles', 'Philadelphia', 'New York', 'Los Angeles']\n"
     ]
    }
   ],
   "source": [
    "list_of_cities = [\"Chicago\", \"Los Angeles\", \"Philadelphia\", \"New York\", \"Los Angeles\"]\n",
    "\n",
    "begin_trip = list_of_cities\n",
    "return_trip = list_of_cities[1:len(list_of_cities)]\n",
    "return_trip.append(list_of_cities[0])\n",
    "\n",
    "print(begin_trip)\n",
    "print(return_trip)\n",
    "print(begin_trip[1::])\n"
   ]
  },
  {
   "cell_type": "code",
   "execution_count": 68,
   "metadata": {
    "collapsed": true
   },
   "outputs": [],
   "source": [
    "return_trip = list_cities[1:len(list_cities)].insert(len(list_cities), list_cities[0])"
   ]
  },
  {
   "cell_type": "code",
   "execution_count": 84,
   "metadata": {},
   "outputs": [
    {
     "data": {
      "text/plain": [
       "['Chicago', 'Los Angeles', 'Philadelphia', 'New York', 'Los Angeles']"
      ]
     },
     "execution_count": 84,
     "metadata": {},
     "output_type": "execute_result"
    }
   ],
   "source": [
    "list_cities"
   ]
  },
  {
   "cell_type": "code",
   "execution_count": 71,
   "metadata": {},
   "outputs": [
    {
     "data": {
      "text/plain": [
       "NoneType"
      ]
     },
     "execution_count": 71,
     "metadata": {},
     "output_type": "execute_result"
    }
   ],
   "source": [
    "type(return_trip)"
   ]
  },
  {
   "cell_type": "code",
   "execution_count": 91,
   "metadata": {},
   "outputs": [
    {
     "data": {
      "text/plain": [
       "['Los Angeles', 'Philadelphia', 'New York', 'Los Angeles', 'Chicago']"
      ]
     },
     "execution_count": 91,
     "metadata": {},
     "output_type": "execute_result"
    }
   ],
   "source": [
    "list_cities[1:len(list_cities)] + [list_cities[0]]"
   ]
  },
  {
   "cell_type": "code",
   "execution_count": 86,
   "metadata": {},
   "outputs": [
    {
     "data": {
      "text/plain": [
       "['Chicago',\n",
       " 'Los Angeles',\n",
       " 'Philadelphia',\n",
       " 'New York',\n",
       " 'Los Angeles',\n",
       " 'Chicago']"
      ]
     },
     "execution_count": 86,
     "metadata": {},
     "output_type": "execute_result"
    }
   ],
   "source": [
    "list_cities"
   ]
  },
  {
   "cell_type": "code",
   "execution_count": 94,
   "metadata": {
    "collapsed": true
   },
   "outputs": [],
   "source": [
    "def total_distance(dist_matrix, list_of_cities):\n",
    "    \n",
    "    dist_matrix = dist_matrix\n",
    "    begin_trip = list_of_cities\n",
    "    return_trip = list_of_cities[1:len(list_of_cities)] + [list_cities[0]]\n",
    "    \n",
    "    return sum(dist_matrix.lookup(begin_trip, return_trip))"
   ]
  },
  {
   "cell_type": "code",
   "execution_count": 95,
   "metadata": {},
   "outputs": [
    {
     "data": {
      "text/plain": [
       "9700"
      ]
     },
     "execution_count": 95,
     "metadata": {},
     "output_type": "execute_result"
    }
   ],
   "source": [
    "# original code\n",
    "total_distance(dist_matrix, [\"Chicago\", \"Los Angeles\", \"Philadelphia\", \"New York\", \"Los Angeles\"])"
   ]
  },
  {
   "cell_type": "code",
   "execution_count": 98,
   "metadata": {},
   "outputs": [
    {
     "name": "stdout",
     "output_type": "stream",
     "text": [
      "3608 ('Los Angeles', 'Philadelphia', 'New York', 'Chicago')\n"
     ]
    }
   ],
   "source": [
    "import pandas as pd\n",
    "import itertools\n",
    "cities = ['Chicago', 'Los Angeles' ,'New York' , 'Philadelphia' ]\n",
    "\n",
    "dist_matrix = pd . read_csv('distances.txt' , header=None , names=cities)\n",
    "dist_matrix.index = cities\n",
    "\n",
    "shortest_tour = []\n",
    "shortest_dist = 1000000\n",
    "\n",
    "for a_tour in itertools.permutations(cities, 4):\n",
    "    distance = total_distance(dist_matrix, list(a_tour))\n",
    "    if distance < shortest_dist:\n",
    "        shortest_dist = distance\n",
    "        shortest_tour = a_tour\n",
    "        \n",
    "print(shortest_dist , shortest_tour)"
   ]
  },
  {
   "cell_type": "code",
   "execution_count": null,
   "metadata": {
    "collapsed": true
   },
   "outputs": [],
   "source": []
  }
 ],
 "metadata": {
  "kernelspec": {
   "display_name": "Python 3",
   "language": "python",
   "name": "python3"
  },
  "language_info": {
   "codemirror_mode": {
    "name": "ipython",
    "version": 3
   },
   "file_extension": ".py",
   "mimetype": "text/x-python",
   "name": "python",
   "nbconvert_exporter": "python",
   "pygments_lexer": "ipython3",
   "version": "3.5.4"
  }
 },
 "nbformat": 4,
 "nbformat_minor": 2
}
