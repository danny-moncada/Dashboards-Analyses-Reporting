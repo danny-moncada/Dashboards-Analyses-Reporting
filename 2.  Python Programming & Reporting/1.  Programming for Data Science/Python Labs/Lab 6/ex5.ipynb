{
 "cells": [
  {
   "cell_type": "code",
   "execution_count": 4,
   "metadata": {},
   "outputs": [],
   "source": [
    "import pandas as pd\n",
    "\n",
    "from pandas import Series, DataFrame\n",
    "\n",
    "import numpy as np"
   ]
  },
  {
   "cell_type": "code",
   "execution_count": null,
   "metadata": {
    "collapsed": true
   },
   "outputs": [],
   "source": [
    "years_w_no_appointments('justices.csv')\n",
    "Out[1]:\n",
    "3 1792\n",
    "5 1794\n",
    "6 1795\n",
    "8 1797\n",
    "11 1800"
   ]
  },
  {
   "cell_type": "code",
   "execution_count": 10,
   "metadata": {},
   "outputs": [],
   "source": [
    "import pandas as pd\n",
    "\n",
    "from pandas import Series, DataFrame\n",
    "\n",
    "import numpy as np\n",
    "\n",
    "def years_w_no_appointments(filename):\n",
    "    \n",
    "    justices = pd.read_csv(filename, header = None)\n",
    "    \n",
    "    all_years = Series(np.arange(min(justices[4]), max(justices[4] + 1)))\n",
    "    \n",
    "    return all_years[~all_years.isin(justices[4])]"
   ]
  },
  {
   "cell_type": "code",
   "execution_count": 11,
   "metadata": {},
   "outputs": [
    {
     "data": {
      "text/plain": [
       "3      1792\n",
       "5      1794\n",
       "6      1795\n",
       "8      1797\n",
       "11     1800\n",
       "13     1802\n",
       "14     1803\n",
       "16     1805\n",
       "19     1808\n",
       "20     1809\n",
       "21     1810\n",
       "23     1812\n",
       "24     1813\n",
       "25     1814\n",
       "26     1815\n",
       "27     1816\n",
       "28     1817\n",
       "29     1818\n",
       "30     1819\n",
       "31     1820\n",
       "32     1821\n",
       "33     1822\n",
       "35     1824\n",
       "36     1825\n",
       "38     1827\n",
       "39     1828\n",
       "42     1831\n",
       "43     1832\n",
       "44     1833\n",
       "45     1834\n",
       "       ... \n",
       "175    1964\n",
       "177    1966\n",
       "179    1968\n",
       "182    1971\n",
       "184    1973\n",
       "185    1974\n",
       "187    1976\n",
       "188    1977\n",
       "189    1978\n",
       "190    1979\n",
       "191    1980\n",
       "193    1982\n",
       "194    1983\n",
       "195    1984\n",
       "196    1985\n",
       "199    1988\n",
       "200    1989\n",
       "203    1992\n",
       "206    1995\n",
       "207    1996\n",
       "208    1997\n",
       "209    1998\n",
       "210    1999\n",
       "211    2000\n",
       "212    2001\n",
       "213    2002\n",
       "214    2003\n",
       "215    2004\n",
       "218    2007\n",
       "219    2008\n",
       "Length: 132, dtype: int32"
      ]
     },
     "execution_count": 11,
     "metadata": {},
     "output_type": "execute_result"
    }
   ],
   "source": [
    "years_w_no_appointments('justices.csv')"
   ]
  },
  {
   "cell_type": "code",
   "execution_count": null,
   "metadata": {
    "collapsed": true
   },
   "outputs": [],
   "source": [
    "years_w_no_appointments(filename)"
   ]
  },
  {
   "cell_type": "code",
   "execution_count": 5,
   "metadata": {},
   "outputs": [],
   "source": [
    "justices = pd.read_csv(\"justices.csv\", header = None, squeeze = True)"
   ]
  },
  {
   "cell_type": "code",
   "execution_count": 8,
   "metadata": {},
   "outputs": [],
   "source": [
    "all_years = Series(np.arange(min(justices[4]), max(justices[4] + 1)))"
   ]
  },
  {
   "cell_type": "code",
   "execution_count": 9,
   "metadata": {},
   "outputs": [
    {
     "data": {
      "text/plain": [
       "3      1792\n",
       "5      1794\n",
       "6      1795\n",
       "8      1797\n",
       "11     1800\n",
       "13     1802\n",
       "14     1803\n",
       "16     1805\n",
       "19     1808\n",
       "20     1809\n",
       "21     1810\n",
       "23     1812\n",
       "24     1813\n",
       "25     1814\n",
       "26     1815\n",
       "27     1816\n",
       "28     1817\n",
       "29     1818\n",
       "30     1819\n",
       "31     1820\n",
       "32     1821\n",
       "33     1822\n",
       "35     1824\n",
       "36     1825\n",
       "38     1827\n",
       "39     1828\n",
       "42     1831\n",
       "43     1832\n",
       "44     1833\n",
       "45     1834\n",
       "       ... \n",
       "175    1964\n",
       "177    1966\n",
       "179    1968\n",
       "182    1971\n",
       "184    1973\n",
       "185    1974\n",
       "187    1976\n",
       "188    1977\n",
       "189    1978\n",
       "190    1979\n",
       "191    1980\n",
       "193    1982\n",
       "194    1983\n",
       "195    1984\n",
       "196    1985\n",
       "199    1988\n",
       "200    1989\n",
       "203    1992\n",
       "206    1995\n",
       "207    1996\n",
       "208    1997\n",
       "209    1998\n",
       "210    1999\n",
       "211    2000\n",
       "212    2001\n",
       "213    2002\n",
       "214    2003\n",
       "215    2004\n",
       "218    2007\n",
       "219    2008\n",
       "Length: 132, dtype: int32"
      ]
     },
     "execution_count": 9,
     "metadata": {},
     "output_type": "execute_result"
    }
   ],
   "source": [
    "all_years[~all_years.isin(justices[4])]"
   ]
  },
  {
   "cell_type": "code",
   "execution_count": null,
   "metadata": {
    "collapsed": true
   },
   "outputs": [],
   "source": []
  },
  {
   "cell_type": "code",
   "execution_count": null,
   "metadata": {
    "collapsed": true
   },
   "outputs": [],
   "source": []
  },
  {
   "cell_type": "code",
   "execution_count": 18,
   "metadata": {},
   "outputs": [
    {
     "data": {
      "text/plain": [
       "0         0\n",
       "52        0\n",
       "53        0\n",
       "37        0\n",
       "83        0\n",
       "85        0\n",
       "11        0\n",
       "96        0\n",
       "78        0\n",
       "50     1793\n",
       "49     1795\n",
       "80     1795\n",
       "5      1796\n",
       "109    1798\n",
       "46     1799\n",
       "32     1800\n",
       "68     1804\n",
       "72     1806\n",
       "26     1810\n",
       "21     1811\n",
       "56     1823\n",
       "98     1826\n",
       "99     1828\n",
       "104    1829\n",
       "51     1834\n",
       "58     1835\n",
       "31     1836\n",
       "2      1841\n",
       "97     1843\n",
       "1      1844\n",
       "       ... \n",
       "16     1942\n",
       "79     1945\n",
       "89     1946\n",
       "81     1949\n",
       "69     1949\n",
       "101    1953\n",
       "48     1954\n",
       "66     1956\n",
       "76     1957\n",
       "14     1958\n",
       "35     1962\n",
       "108    1962\n",
       "38     1965\n",
       "22     1967\n",
       "34     1969\n",
       "103    1969\n",
       "42     1971\n",
       "3      1971\n",
       "30     1975\n",
       "88     1981\n",
       "75     1987\n",
       "13     1987\n",
       "9      1990\n",
       "59     1992\n",
       "106    1993\n",
       "4      1994\n",
       "77     2005\n",
       "71     2005\n",
       "86     2009\n",
       "87     2010\n",
       "Name: 5, Length: 112, dtype: int64"
      ]
     },
     "execution_count": 18,
     "metadata": {},
     "output_type": "execute_result"
    }
   ],
   "source": [
    "justices[5].sort_values()"
   ]
  },
  {
   "cell_type": "code",
   "execution_count": null,
   "metadata": {
    "collapsed": true
   },
   "outputs": [],
   "source": []
  }
 ],
 "metadata": {
  "kernelspec": {
   "display_name": "Python 3",
   "language": "python",
   "name": "python3"
  },
  "language_info": {
   "codemirror_mode": {
    "name": "ipython",
    "version": 3
   },
   "file_extension": ".py",
   "mimetype": "text/x-python",
   "name": "python",
   "nbconvert_exporter": "python",
   "pygments_lexer": "ipython3",
   "version": "3.5.4"
  }
 },
 "nbformat": 4,
 "nbformat_minor": 2
}
