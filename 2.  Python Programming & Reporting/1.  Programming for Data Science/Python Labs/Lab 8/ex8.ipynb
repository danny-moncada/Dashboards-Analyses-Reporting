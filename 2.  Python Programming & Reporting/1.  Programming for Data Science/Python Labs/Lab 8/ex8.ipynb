{
 "cells": [
  {
   "cell_type": "code",
   "execution_count": null,
   "metadata": {
    "collapsed": true
   },
   "outputs": [],
   "source": [
    "In [1]: most_delayed_flights('flight_delays.csv')\n",
    "Out[1]:\n",
    "CARRIER FL_NUM\n",
    "CO 814 0.600000\n",
    "DH 7211 0.600000\n",
    "7215 0.428571\n",
    "7302 0.333333\n",
    "7303 0.714286\n",
    "7304 0.333333\n",
    "7307 0.600000\n",
    "7812 0.285714"
   ]
  },
  {
   "cell_type": "code",
   "execution_count": 51,
   "metadata": {
    "collapsed": true
   },
   "outputs": [],
   "source": [
    "import pandas as pd\n",
    "from pandas import Series, DataFrame\n",
    "import datetime as dt\n",
    "import time\n",
    "\n",
    "def most_delayed_flights(filename):\n",
    "    \n",
    "        flight_delays_df = pd.read_csv(filename)\n",
    "        \n",
    "        flight_delays_df['FL_DATE'] = pd.to_timedelta(flight_delays_df['FL_DATE'], unit = 'D') + dt.datetime(1899, 12, 30)\n",
    "        flight_delays_df.set_index(['FL_DATE'], inplace = True)\n",
    "        \n",
    "        eligible_flights = flight_delays_df.groupby(['CARRIER', 'FL_NUM']).resample('W-Sun')['Flight Status'].count().reset_index()\n",
    "        eligible_flights = eligible_flights[eligible_flights['Flight Status'] >= 3]\n",
    "        \n",
    "        flights = eligible_flights['FL_NUM']\n",
    "        \n",
    "        flight_delays_df = flight_delays_df[flight_delays_df['FL_NUM'].isin(flights)]\n",
    "        \n",
    "        carriers_cnt = pd.crosstab([flight_delays_df.CARRIER], flight_delays_df['Flight Status']).reset_index()\n",
    "        \n",
    "        carriers_cnt['sum of flights'] = carriers_cnt['ontime'] + carriers_cnt['delayed']\n",
    "        carriers_cnt['average'] = carriers_cnt['delayed'] / carriers_cnt['sum of flights']\n",
    "        carriers_cnt = carriers_cnt[['CARRIER', 'average']]\n",
    "        \n",
    "        flight_delays_cnt = pd.crosstab([flight_delays_df.CARRIER, flight_delays_df.FL_NUM] , flight_delays_df['Flight Status']).reset_index()\n",
    "\n",
    "        flight_delays_cnt['sum of flights'] = flight_delays_cnt['ontime'] + flight_delays_cnt['delayed']\n",
    "        flight_delays_cnt['mean'] = flight_delays_cnt['delayed'] / flight_delays_cnt['sum of flights']\n",
    "        \n",
    "        output_df = flight_delays_cnt.merge(carriers_cnt, left_on = 'CARRIER', right_on = 'CARRIER', how = 'inner')\n",
    "        output_df = output_df[output_df['mean'] >= output_df['average']]\n",
    "\n",
    "        return output_df.groupby(['CARRIER', 'FL_NUM'])['mean'].sum().rename(index = None)"
   ]
  },
  {
   "cell_type": "code",
   "execution_count": 52,
   "metadata": {},
   "outputs": [
    {
     "data": {
      "text/plain": [
       "CARRIER  FL_NUM\n",
       "CO       814       0.600000\n",
       "DH       7211      0.600000\n",
       "         7215      0.428571\n",
       "         7302      0.333333\n",
       "         7303      0.714286\n",
       "         7304      0.333333\n",
       "         7307      0.600000\n",
       "         7812      0.285714\n",
       "         7814      0.571429\n",
       "DL       746       0.142857\n",
       "         1766      0.333333\n",
       "MQ       4752      0.285714\n",
       "         4784      0.333333\n",
       "         4968      0.600000\n",
       "         4970      0.666667\n",
       "         4976      0.600000\n",
       "OH       5935      0.333333\n",
       "RU       2156      0.571429\n",
       "         2216      0.285714\n",
       "         2261      0.400000\n",
       "         2303      0.428571\n",
       "         2336      0.500000\n",
       "         2385      0.600000\n",
       "         2403      0.333333\n",
       "         2703      0.285714\n",
       "UA       846       0.000000\n",
       "US       1479      0.333333\n",
       "         2176      0.142857\n",
       "         2178      0.250000\n",
       "         2186      0.250000\n",
       "dtype: float64"
      ]
     },
     "execution_count": 52,
     "metadata": {},
     "output_type": "execute_result"
    }
   ],
   "source": [
    "most_delayed_flights('flight_delays.csv')"
   ]
  },
  {
   "cell_type": "code",
   "execution_count": 1,
   "metadata": {
    "collapsed": true
   },
   "outputs": [],
   "source": [
    "import numpy as np"
   ]
  },
  {
   "cell_type": "code",
   "execution_count": 168,
   "metadata": {
    "collapsed": true
   },
   "outputs": [],
   "source": [
    "flight_delays_df = pd.read_csv('flight_delays.csv')\n",
    "\n",
    "flight_delays_df['FL_DATE'] = pd.to_timedelta(flight_delays_df['FL_DATE'], unit = 'D') + dt.datetime(1899, 12, 30)\n",
    "\n",
    "flight_delays_df.set_index(['FL_DATE'], inplace = True)"
   ]
  },
  {
   "cell_type": "code",
   "execution_count": 105,
   "metadata": {},
   "outputs": [
    {
     "data": {
      "text/plain": [
       "FL_DATE     CARRIER  FL_NUM  Flight Status\n",
       "2004-01-01  CO       808     ontime           1\n",
       "                     814     ontime           1\n",
       "            DH       6155    ontime           1\n",
       "                     7208    ontime           1\n",
       "                     7215    ontime           1\n",
       "Name: Flight Status, dtype: int64"
      ]
     },
     "execution_count": 105,
     "metadata": {},
     "output_type": "execute_result"
    }
   ],
   "source": [
    "flight_delays_df.groupby(['FL_DATE', 'CARRIER', 'FL_NUM'])['Flight Status'].value_counts().head()"
   ]
  },
  {
   "cell_type": "code",
   "execution_count": 2,
   "metadata": {
    "collapsed": true
   },
   "outputs": [],
   "source": [
    "flight_delays_df = pd.read_csv('flight_delays.csv')\n",
    "        \n",
    "flight_delays_df['FL_DATE'] = pd.to_timedelta(flight_delays_df['FL_DATE'], unit = 'D') + dt.datetime(1899, 12, 30)\n",
    "flight_delays_df.set_index(['FL_DATE'], inplace = True)\n",
    "        \n",
    "eligible_flights = flight_delays_df.groupby(['CARRIER', 'FL_NUM']).resample('W-Sun')['Flight Status'].count().reset_index()\n",
    "eligible_flights = eligible_flights[eligible_flights['Flight Status'] >= 3]\n",
    "        \n",
    "flights = eligible_flights['FL_NUM']\n",
    "        \n",
    "flight_delays_df = flight_delays_df[flight_delays_df['FL_NUM'].isin(flights)]"
   ]
  },
  {
   "cell_type": "code",
   "execution_count": 4,
   "metadata": {},
   "outputs": [
    {
     "data": {
      "text/plain": [
       "CARRIER  Flight Status\n",
       "CO       ontime           12\n",
       "         delayed           4\n",
       "DH       ontime           88\n",
       "         delayed          32\n",
       "DL       ontime           68\n",
       "         delayed           2\n",
       "MQ       ontime           44\n",
       "         delayed          12\n",
       "OH       ontime            4\n",
       "         delayed           2\n",
       "RU       ontime           58\n",
       "         delayed          23\n",
       "UA       ontime            7\n",
       "US       ontime           78\n",
       "         delayed           4\n",
       "Name: Flight Status, dtype: int64"
      ]
     },
     "execution_count": 4,
     "metadata": {},
     "output_type": "execute_result"
    }
   ],
   "source": [
    "flight_delays_df.groupby('CARRIER')['Flight Status'].value_counts()"
   ]
  },
  {
   "cell_type": "code",
   "execution_count": 18,
   "metadata": {
    "collapsed": true
   },
   "outputs": [],
   "source": [
    "carriers_cnt = pd.crosstab([flight_delays_df.CARRIER], flight_delays_df['Flight Status']).reset_index()"
   ]
  },
  {
   "cell_type": "code",
   "execution_count": 28,
   "metadata": {
    "collapsed": true
   },
   "outputs": [],
   "source": [
    "carriers_cnt['sum of flights'] = carriers_cnt['ontime'] + carriers_cnt['delayed']\n",
    "\n",
    "carriers_cnt['average'] = carriers_cnt['delayed'] / carriers_cnt['sum of flights']\n",
    "\n",
    "carriers_cnt = carriers_cnt[['CARRIER', 'average']]"
   ]
  },
  {
   "cell_type": "code",
   "execution_count": 8,
   "metadata": {},
   "outputs": [
    {
     "data": {
      "text/html": [
       "<div>\n",
       "<style scoped>\n",
       "    .dataframe tbody tr th:only-of-type {\n",
       "        vertical-align: middle;\n",
       "    }\n",
       "\n",
       "    .dataframe tbody tr th {\n",
       "        vertical-align: top;\n",
       "    }\n",
       "\n",
       "    .dataframe thead th {\n",
       "        text-align: right;\n",
       "    }\n",
       "</style>\n",
       "<table border=\"1\" class=\"dataframe\">\n",
       "  <thead>\n",
       "    <tr style=\"text-align: right;\">\n",
       "      <th>Flight Status</th>\n",
       "      <th>CARRIER</th>\n",
       "      <th>delayed</th>\n",
       "      <th>ontime</th>\n",
       "      <th>sum of flights</th>\n",
       "      <th>mean</th>\n",
       "    </tr>\n",
       "  </thead>\n",
       "  <tbody>\n",
       "    <tr>\n",
       "      <th>0</th>\n",
       "      <td>CO</td>\n",
       "      <td>4</td>\n",
       "      <td>12</td>\n",
       "      <td>16</td>\n",
       "      <td>0.250000</td>\n",
       "    </tr>\n",
       "    <tr>\n",
       "      <th>1</th>\n",
       "      <td>DH</td>\n",
       "      <td>32</td>\n",
       "      <td>88</td>\n",
       "      <td>120</td>\n",
       "      <td>0.266667</td>\n",
       "    </tr>\n",
       "    <tr>\n",
       "      <th>2</th>\n",
       "      <td>DL</td>\n",
       "      <td>2</td>\n",
       "      <td>68</td>\n",
       "      <td>70</td>\n",
       "      <td>0.028571</td>\n",
       "    </tr>\n",
       "    <tr>\n",
       "      <th>3</th>\n",
       "      <td>MQ</td>\n",
       "      <td>12</td>\n",
       "      <td>44</td>\n",
       "      <td>56</td>\n",
       "      <td>0.214286</td>\n",
       "    </tr>\n",
       "    <tr>\n",
       "      <th>4</th>\n",
       "      <td>OH</td>\n",
       "      <td>2</td>\n",
       "      <td>4</td>\n",
       "      <td>6</td>\n",
       "      <td>0.333333</td>\n",
       "    </tr>\n",
       "    <tr>\n",
       "      <th>5</th>\n",
       "      <td>RU</td>\n",
       "      <td>23</td>\n",
       "      <td>58</td>\n",
       "      <td>81</td>\n",
       "      <td>0.283951</td>\n",
       "    </tr>\n",
       "    <tr>\n",
       "      <th>6</th>\n",
       "      <td>UA</td>\n",
       "      <td>0</td>\n",
       "      <td>7</td>\n",
       "      <td>7</td>\n",
       "      <td>0.000000</td>\n",
       "    </tr>\n",
       "    <tr>\n",
       "      <th>7</th>\n",
       "      <td>US</td>\n",
       "      <td>4</td>\n",
       "      <td>78</td>\n",
       "      <td>82</td>\n",
       "      <td>0.048780</td>\n",
       "    </tr>\n",
       "  </tbody>\n",
       "</table>\n",
       "</div>"
      ],
      "text/plain": [
       "Flight Status CARRIER  delayed  ontime  sum of flights      mean\n",
       "0                  CO        4      12              16  0.250000\n",
       "1                  DH       32      88             120  0.266667\n",
       "2                  DL        2      68              70  0.028571\n",
       "3                  MQ       12      44              56  0.214286\n",
       "4                  OH        2       4               6  0.333333\n",
       "5                  RU       23      58              81  0.283951\n",
       "6                  UA        0       7               7  0.000000\n",
       "7                  US        4      78              82  0.048780"
      ]
     },
     "execution_count": 8,
     "metadata": {},
     "output_type": "execute_result"
    }
   ],
   "source": [
    "flight_delays_cnt"
   ]
  },
  {
   "cell_type": "code",
   "execution_count": 20,
   "metadata": {
    "collapsed": true
   },
   "outputs": [],
   "source": [
    "flight_delays_cnt = pd.crosstab([flight_delays_df.CARRIER, flight_delays_df.FL_NUM] , flight_delays_df['Flight Status']).reset_index()\n",
    "\n",
    "flight_delays_cnt['sum of flights'] = flight_delays_cnt['ontime'] + flight_delays_cnt['delayed']\n",
    "\n",
    "flight_delays_cnt['mean'] = flight_delays_cnt['delayed'] / flight_delays_cnt['sum of flights']"
   ]
  },
  {
   "cell_type": "code",
   "execution_count": 29,
   "metadata": {},
   "outputs": [
    {
     "data": {
      "text/html": [
       "<div>\n",
       "<style scoped>\n",
       "    .dataframe tbody tr th:only-of-type {\n",
       "        vertical-align: middle;\n",
       "    }\n",
       "\n",
       "    .dataframe tbody tr th {\n",
       "        vertical-align: top;\n",
       "    }\n",
       "\n",
       "    .dataframe thead th {\n",
       "        text-align: right;\n",
       "    }\n",
       "</style>\n",
       "<table border=\"1\" class=\"dataframe\">\n",
       "  <thead>\n",
       "    <tr style=\"text-align: right;\">\n",
       "      <th>Flight Status</th>\n",
       "      <th>CARRIER</th>\n",
       "      <th>average</th>\n",
       "    </tr>\n",
       "  </thead>\n",
       "  <tbody>\n",
       "    <tr>\n",
       "      <th>0</th>\n",
       "      <td>CO</td>\n",
       "      <td>0.250000</td>\n",
       "    </tr>\n",
       "    <tr>\n",
       "      <th>1</th>\n",
       "      <td>DH</td>\n",
       "      <td>0.266667</td>\n",
       "    </tr>\n",
       "    <tr>\n",
       "      <th>2</th>\n",
       "      <td>DL</td>\n",
       "      <td>0.028571</td>\n",
       "    </tr>\n",
       "    <tr>\n",
       "      <th>3</th>\n",
       "      <td>MQ</td>\n",
       "      <td>0.214286</td>\n",
       "    </tr>\n",
       "    <tr>\n",
       "      <th>4</th>\n",
       "      <td>OH</td>\n",
       "      <td>0.333333</td>\n",
       "    </tr>\n",
       "  </tbody>\n",
       "</table>\n",
       "</div>"
      ],
      "text/plain": [
       "Flight Status CARRIER   average\n",
       "0                  CO  0.250000\n",
       "1                  DH  0.266667\n",
       "2                  DL  0.028571\n",
       "3                  MQ  0.214286\n",
       "4                  OH  0.333333"
      ]
     },
     "execution_count": 29,
     "metadata": {},
     "output_type": "execute_result"
    }
   ],
   "source": [
    "carriers_cnt.head()"
   ]
  },
  {
   "cell_type": "code",
   "execution_count": 22,
   "metadata": {},
   "outputs": [
    {
     "data": {
      "text/html": [
       "<div>\n",
       "<style scoped>\n",
       "    .dataframe tbody tr th:only-of-type {\n",
       "        vertical-align: middle;\n",
       "    }\n",
       "\n",
       "    .dataframe tbody tr th {\n",
       "        vertical-align: top;\n",
       "    }\n",
       "\n",
       "    .dataframe thead th {\n",
       "        text-align: right;\n",
       "    }\n",
       "</style>\n",
       "<table border=\"1\" class=\"dataframe\">\n",
       "  <thead>\n",
       "    <tr style=\"text-align: right;\">\n",
       "      <th>Flight Status</th>\n",
       "      <th>CARRIER</th>\n",
       "      <th>FL_NUM</th>\n",
       "      <th>delayed</th>\n",
       "      <th>ontime</th>\n",
       "      <th>sum of flights</th>\n",
       "      <th>mean</th>\n",
       "    </tr>\n",
       "  </thead>\n",
       "  <tbody>\n",
       "    <tr>\n",
       "      <th>0</th>\n",
       "      <td>CO</td>\n",
       "      <td>806</td>\n",
       "      <td>0</td>\n",
       "      <td>4</td>\n",
       "      <td>4</td>\n",
       "      <td>0.000000</td>\n",
       "    </tr>\n",
       "    <tr>\n",
       "      <th>1</th>\n",
       "      <td>CO</td>\n",
       "      <td>808</td>\n",
       "      <td>1</td>\n",
       "      <td>6</td>\n",
       "      <td>7</td>\n",
       "      <td>0.142857</td>\n",
       "    </tr>\n",
       "    <tr>\n",
       "      <th>2</th>\n",
       "      <td>CO</td>\n",
       "      <td>814</td>\n",
       "      <td>3</td>\n",
       "      <td>2</td>\n",
       "      <td>5</td>\n",
       "      <td>0.600000</td>\n",
       "    </tr>\n",
       "    <tr>\n",
       "      <th>3</th>\n",
       "      <td>DH</td>\n",
       "      <td>6155</td>\n",
       "      <td>1</td>\n",
       "      <td>4</td>\n",
       "      <td>5</td>\n",
       "      <td>0.200000</td>\n",
       "    </tr>\n",
       "    <tr>\n",
       "      <th>4</th>\n",
       "      <td>DH</td>\n",
       "      <td>7208</td>\n",
       "      <td>1</td>\n",
       "      <td>6</td>\n",
       "      <td>7</td>\n",
       "      <td>0.142857</td>\n",
       "    </tr>\n",
       "  </tbody>\n",
       "</table>\n",
       "</div>"
      ],
      "text/plain": [
       "Flight Status CARRIER  FL_NUM  delayed  ontime  sum of flights      mean\n",
       "0                  CO     806        0       4               4  0.000000\n",
       "1                  CO     808        1       6               7  0.142857\n",
       "2                  CO     814        3       2               5  0.600000\n",
       "3                  DH    6155        1       4               5  0.200000\n",
       "4                  DH    7208        1       6               7  0.142857"
      ]
     },
     "execution_count": 22,
     "metadata": {},
     "output_type": "execute_result"
    }
   ],
   "source": [
    "flight_delays_cnt.head()"
   ]
  },
  {
   "cell_type": "code",
   "execution_count": 31,
   "metadata": {
    "collapsed": true
   },
   "outputs": [],
   "source": [
    "output_df = flight_delays_cnt.merge(carriers_cnt, left_on = 'CARRIER', right_on = 'CARRIER', how = 'inner')"
   ]
  },
  {
   "cell_type": "code",
   "execution_count": 36,
   "metadata": {
    "collapsed": true
   },
   "outputs": [],
   "source": [
    "output_df = output_df[output_df['mean'] > output_df['average']]"
   ]
  },
  {
   "cell_type": "code",
   "execution_count": 48,
   "metadata": {},
   "outputs": [
    {
     "data": {
      "text/plain": [
       "CARRIER  FL_NUM\n",
       "CO       814       0.600000\n",
       "DH       7211      0.600000\n",
       "         7215      0.428571\n",
       "         7302      0.333333\n",
       "         7303      0.714286\n",
       "         7304      0.333333\n",
       "         7307      0.600000\n",
       "         7812      0.285714\n",
       "         7814      0.571429\n",
       "DL       746       0.142857\n",
       "         1766      0.333333\n",
       "MQ       4752      0.285714\n",
       "         4784      0.333333\n",
       "         4968      0.600000\n",
       "         4970      0.666667\n",
       "         4976      0.600000\n",
       "RU       2156      0.571429\n",
       "         2216      0.285714\n",
       "         2261      0.400000\n",
       "         2303      0.428571\n",
       "         2336      0.500000\n",
       "         2385      0.600000\n",
       "         2403      0.333333\n",
       "         2703      0.285714\n",
       "US       1479      0.333333\n",
       "         2176      0.142857\n",
       "         2178      0.250000\n",
       "         2186      0.250000\n",
       "dtype: float64"
      ]
     },
     "execution_count": 48,
     "metadata": {},
     "output_type": "execute_result"
    }
   ],
   "source": [
    "output_df.groupby(['CARRIER', 'FL_NUM'])['mean'].sum().rename(index = None)"
   ]
  },
  {
   "cell_type": "code",
   "execution_count": null,
   "metadata": {
    "collapsed": true
   },
   "outputs": [],
   "source": []
  }
 ],
 "metadata": {
  "kernelspec": {
   "display_name": "Python 3",
   "language": "python",
   "name": "python3"
  },
  "language_info": {
   "codemirror_mode": {
    "name": "ipython",
    "version": 3
   },
   "file_extension": ".py",
   "mimetype": "text/x-python",
   "name": "python",
   "nbconvert_exporter": "python",
   "pygments_lexer": "ipython3",
   "version": "3.5.4"
  }
 },
 "nbformat": 4,
 "nbformat_minor": 2
}
