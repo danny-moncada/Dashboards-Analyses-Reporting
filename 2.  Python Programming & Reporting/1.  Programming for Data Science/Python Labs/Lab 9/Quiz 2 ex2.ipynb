{
 "cells": [
  {
   "cell_type": "code",
   "execution_count": 6,
   "metadata": {},
   "outputs": [],
   "source": [
    "def bigrams(filename):\n",
    "    bigrams = {}\n",
    "    with open(filename, 'r') as f:\n",
    "        lines = f.read().splitlines()\n",
    "        for line in lines:\n",
    "            line = line.lower().split()\n",
    "            for word in range(len(line)-1):\n",
    "                pair_of_words = line[word] + \" \" + line[word+1]\n",
    "                if pair_of_words in bigrams:\n",
    "                    bigrams[pair_of_words] += 1\n",
    "                else:\n",
    "                    bigrams[pair_of_words] = 1\n",
    "\n",
    "    return bigrams"
   ]
  },
  {
   "cell_type": "code",
   "execution_count": 7,
   "metadata": {},
   "outputs": [
    {
     "data": {
      "text/plain": [
       "{'art of': 1,\n",
       " 'assume that': 2,\n",
       " 'but no': 1,\n",
       " 'else is': 1,\n",
       " 'game is': 2,\n",
       " 'gets made': 2,\n",
       " 'happens assume': 1,\n",
       " 'happens the': 1,\n",
       " 'how the': 3,\n",
       " 'is in': 1,\n",
       " 'is played': 2,\n",
       " 'it happens': 4,\n",
       " 'just assume': 1,\n",
       " 'knows how': 1,\n",
       " 'made how': 1,\n",
       " 'no one': 2,\n",
       " 'of the': 1,\n",
       " 'one else': 1,\n",
       " 'one really': 1,\n",
       " 'played game': 1,\n",
       " 'really knows': 1,\n",
       " 'room where': 2,\n",
       " 'sausage gets': 2,\n",
       " 'that it': 2,\n",
       " 'the art': 1,\n",
       " 'the game': 1,\n",
       " 'the room': 2,\n",
       " 'the sausage': 2,\n",
       " 'the trade': 1,\n",
       " 'we just': 1,\n",
       " 'where it': 2}"
      ]
     },
     "execution_count": 7,
     "metadata": {},
     "output_type": "execute_result"
    }
   ],
   "source": [
    "bigrams('room_where_it_happens.txt')"
   ]
  },
  {
   "cell_type": "code",
   "execution_count": null,
   "metadata": {
    "collapsed": true
   },
   "outputs": [],
   "source": []
  }
 ],
 "metadata": {
  "kernelspec": {
   "display_name": "Python 3",
   "language": "python",
   "name": "python3"
  },
  "language_info": {
   "codemirror_mode": {
    "name": "ipython",
    "version": 3
   },
   "file_extension": ".py",
   "mimetype": "text/x-python",
   "name": "python",
   "nbconvert_exporter": "python",
   "pygments_lexer": "ipython3",
   "version": "3.5.4"
  }
 },
 "nbformat": 4,
 "nbformat_minor": 2
}
