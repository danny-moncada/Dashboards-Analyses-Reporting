{
 "cells": [
  {
   "cell_type": "code",
   "execution_count": 2,
   "metadata": {},
   "outputs": [],
   "source": [
    "import pandas as pd\n",
    "\n",
    "from pandas import Series, DataFrame\n",
    "\n",
    "import datetime as dt"
   ]
  },
  {
   "cell_type": "code",
   "execution_count": 96,
   "metadata": {},
   "outputs": [],
   "source": [
    "## January 1987-December 1993 - monthly\n",
    "\n",
    "import pandas as pd\n",
    "\n",
    "from pandas import Series, DataFrame\n",
    "\n",
    "import datetime as dt\n",
    "\n",
    "def avg_annual(filename):\n",
    "    \n",
    "    fancy = pd.read_csv(\"fancy.dat\", header = None, names = ['sales'], squeeze = True)\n",
    "    dates = pd.DatetimeIndex(start = '01/01/1987', periods = len(fancy), freq = 'M')\n",
    "    fancy.index = dates\n",
    "    \n",
    "    annual_sales = fancy.groupby(lambda x: x.year).sum()\n",
    "    \n",
    "    return Series(round(annual_sales.mean(), 2), index =['sales'])"
   ]
  },
  {
   "cell_type": "code",
   "execution_count": 97,
   "metadata": {},
   "outputs": [
    {
     "data": {
      "text/plain": [
       "sales    171787.05\n",
       "dtype: float64"
      ]
     },
     "execution_count": 97,
     "metadata": {},
     "output_type": "execute_result"
    }
   ],
   "source": [
    "avg_annual('fancy.dat')"
   ]
  },
  {
   "cell_type": "code",
   "execution_count": null,
   "metadata": {
    "collapsed": true
   },
   "outputs": [],
   "source": []
  },
  {
   "cell_type": "code",
   "execution_count": 3,
   "metadata": {},
   "outputs": [],
   "source": [
    "fancy = pd.read_csv(\"fancy.dat\", header = None, names = ['sales'], squeeze = True)\n",
    "dates = pd.DatetimeIndex(start = '01/01/1987', periods = len(fancy), freq = 'M')\n",
    "fancy.index = dates"
   ]
  },
  {
   "cell_type": "code",
   "execution_count": 15,
   "metadata": {},
   "outputs": [
    {
     "data": {
      "text/plain": [
       "1987     64636.10\n",
       "1988     93986.04\n",
       "1989    121808.00\n",
       "1990    126059.87\n",
       "1991    164644.51\n",
       "1992    268717.73\n",
       "1993    362657.07\n",
       "Name: sales, dtype: float64"
      ]
     },
     "execution_count": 15,
     "metadata": {},
     "output_type": "execute_result"
    }
   ],
   "source": [
    "fancy.groupby(lambda x: x.year).sum()"
   ]
  },
  {
   "cell_type": "code",
   "execution_count": null,
   "metadata": {},
   "outputs": [],
   "source": []
  },
  {
   "cell_type": "code",
   "execution_count": null,
   "metadata": {},
   "outputs": [],
   "source": []
  },
  {
   "cell_type": "code",
   "execution_count": 58,
   "metadata": {},
   "outputs": [],
   "source": [
    "annual_sales = fancy.groupby(lambda x: x.year).sum()\n",
    "\n",
    "#fancy"
   ]
  },
  {
   "cell_type": "code",
   "execution_count": 95,
   "metadata": {},
   "outputs": [
    {
     "data": {
      "text/plain": [
       "sales    171787.05\n",
       "dtype: float64"
      ]
     },
     "execution_count": 95,
     "metadata": {},
     "output_type": "execute_result"
    }
   ],
   "source": [
    "return Series(round(annual_sales.mean(), 2), index =['sales'])"
   ]
  },
  {
   "cell_type": "code",
   "execution_count": 68,
   "metadata": {
    "collapsed": true
   },
   "outputs": [],
   "source": [
    "dates = pd.DatetimeIndex(start = '01/01/1987', periods = 84, freq = 'M')\n",
    "fancy = pd.read_csv(\"fancy.dat\", header = None, names = ['sales'], squeeze = True)\n",
    "fancy.index = dates"
   ]
  },
  {
   "cell_type": "code",
   "execution_count": 79,
   "metadata": {},
   "outputs": [
    {
     "data": {
      "text/plain": [
       "12"
      ]
     },
     "execution_count": 79,
     "metadata": {},
     "output_type": "execute_result"
    }
   ],
   "source": [
    "fancy.groupby(lambda x: x.month).max().idxmax()"
   ]
  },
  {
   "cell_type": "code",
   "execution_count": null,
   "metadata": {
    "collapsed": true
   },
   "outputs": [],
   "source": []
  },
  {
   "cell_type": "code",
   "execution_count": null,
   "metadata": {
    "collapsed": true
   },
   "outputs": [],
   "source": []
  },
  {
   "cell_type": "code",
   "execution_count": 15,
   "metadata": {},
   "outputs": [
    {
     "data": {
      "text/plain": [
       "DatetimeIndex(['1987-01-31', '1987-02-28', '1987-03-31', '1987-04-30',\n",
       "               '1987-05-31', '1987-06-30', '1987-07-31', '1987-08-31',\n",
       "               '1987-09-30', '1987-10-31', '1987-11-30', '1987-12-31',\n",
       "               '1988-01-31', '1988-02-29', '1988-03-31', '1988-04-30',\n",
       "               '1988-05-31', '1988-06-30', '1988-07-31', '1988-08-31',\n",
       "               '1988-09-30', '1988-10-31', '1988-11-30', '1988-12-31',\n",
       "               '1989-01-31', '1989-02-28', '1989-03-31', '1989-04-30',\n",
       "               '1989-05-31', '1989-06-30', '1989-07-31', '1989-08-31',\n",
       "               '1989-09-30', '1989-10-31', '1989-11-30', '1989-12-31',\n",
       "               '1990-01-31', '1990-02-28', '1990-03-31', '1990-04-30',\n",
       "               '1990-05-31', '1990-06-30', '1990-07-31', '1990-08-31',\n",
       "               '1990-09-30', '1990-10-31', '1990-11-30', '1990-12-31',\n",
       "               '1991-01-31', '1991-02-28', '1991-03-31', '1991-04-30',\n",
       "               '1991-05-31', '1991-06-30', '1991-07-31', '1991-08-31',\n",
       "               '1991-09-30', '1991-10-31', '1991-11-30', '1991-12-31',\n",
       "               '1992-01-31', '1992-02-29', '1992-03-31', '1992-04-30',\n",
       "               '1992-05-31', '1992-06-30', '1992-07-31', '1992-08-31',\n",
       "               '1992-09-30', '1992-10-31', '1992-11-30', '1992-12-31',\n",
       "               '1993-01-31', '1993-02-28', '1993-03-31', '1993-04-30',\n",
       "               '1993-05-31', '1993-06-30', '1993-07-31', '1993-08-31',\n",
       "               '1993-09-30', '1993-10-31', '1993-11-30', '1993-12-31'],\n",
       "              dtype='datetime64[ns]', freq='M')"
      ]
     },
     "execution_count": 15,
     "metadata": {},
     "output_type": "execute_result"
    }
   ],
   "source": [
    "pd.DatetimeIndex(start = '01/01/1987', periods = 84, freq = 'M')"
   ]
  },
  {
   "cell_type": "code",
   "execution_count": null,
   "metadata": {
    "collapsed": true
   },
   "outputs": [],
   "source": []
  }
 ],
 "metadata": {
  "kernelspec": {
   "display_name": "Python 3",
   "language": "python",
   "name": "python3"
  },
  "language_info": {
   "codemirror_mode": {
    "name": "ipython",
    "version": 3
   },
   "file_extension": ".py",
   "mimetype": "text/x-python",
   "name": "python",
   "nbconvert_exporter": "python",
   "pygments_lexer": "ipython3",
   "version": "3.5.4"
  }
 },
 "nbformat": 4,
 "nbformat_minor": 2
}
