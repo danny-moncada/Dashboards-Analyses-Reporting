{
 "cells": [
  {
   "cell_type": "code",
   "execution_count": 1,
   "metadata": {},
   "outputs": [
    {
     "data": {
      "text/plain": [
       "0.73"
      ]
     },
     "execution_count": 1,
     "metadata": {},
     "output_type": "execute_result"
    }
   ],
   "source": [
    "0 * .55 + 1 * .25 + 2 *.14 + 3*.04+4*.02"
   ]
  },
  {
   "cell_type": "code",
   "execution_count": 2,
   "metadata": {},
   "outputs": [
    {
     "data": {
      "text/plain": [
       "1.5"
      ]
     },
     "execution_count": 2,
     "metadata": {},
     "output_type": "execute_result"
    }
   ],
   "source": [
    "0 *.5 + 1*.5 + 2*.5"
   ]
  },
  {
   "cell_type": "code",
   "execution_count": 3,
   "metadata": {},
   "outputs": [
    {
     "data": {
      "text/plain": [
       "29.2"
      ]
     },
     "execution_count": 3,
     "metadata": {},
     "output_type": "execute_result"
    }
   ],
   "source": [
    ".73 * 40"
   ]
  },
  {
   "cell_type": "code",
   "execution_count": 5,
   "metadata": {},
   "outputs": [
    {
     "data": {
      "text/plain": [
       "0.99498743710662"
      ]
     },
     "execution_count": 5,
     "metadata": {},
     "output_type": "execute_result"
    }
   ],
   "source": [
    "(100 * .01 * .99) **.5"
   ]
  },
  {
   "cell_type": "code",
   "execution_count": 2,
   "metadata": {
    "collapsed": true
   },
   "outputs": [],
   "source": [
    "# Rx is all the possible scores between the two teams after 9 innings\n",
    "Rx = {0, 1, 2, 3, 4, 5, 6, 7, 8, 9, 10, 11, 12, 13, 14, 15, 16, 17, 18}\n",
    "Ry = {0, 1, 2, 3, 4, 5, 6, 7, 8, 9}"
   ]
  },
  {
   "cell_type": "code",
   "execution_count": 3,
   "metadata": {
    "collapsed": true
   },
   "outputs": [],
   "source": [
    "import math"
   ]
  },
  {
   "cell_type": "code",
   "execution_count": 5,
   "metadata": {},
   "outputs": [
    {
     "data": {
      "text/plain": [
       "4.0"
      ]
     },
     "execution_count": 5,
     "metadata": {},
     "output_type": "execute_result"
    }
   ],
   "source": [
    "math.factorial(4) / math.factorial(3)"
   ]
  },
  {
   "cell_type": "code",
   "execution_count": 7,
   "metadata": {},
   "outputs": [
    {
     "data": {
      "text/plain": [
       "0.15360000000000004"
      ]
     },
     "execution_count": 7,
     "metadata": {},
     "output_type": "execute_result"
    }
   ],
   "source": [
    "4.0 * (2/5)**3  * (3/5)"
   ]
  },
  {
   "cell_type": "code",
   "execution_count": 12,
   "metadata": {
    "collapsed": true
   },
   "outputs": [],
   "source": [
    "home_team = [0, 1]\n",
    "away_team = [0, 1]"
   ]
  },
  {
   "cell_type": "code",
   "execution_count": 16,
   "metadata": {},
   "outputs": [
    {
     "data": {
      "text/plain": [
       "[(0, 0), (1, 1)]"
      ]
     },
     "execution_count": 16,
     "metadata": {},
     "output_type": "execute_result"
    }
   ],
   "source": [
    "scores = zip(home_team, away_team)\n",
    "scores2 = zip(scores, home_team, away_team)\n",
    "list(scores)\n",
    "#list(scores2)"
   ]
  },
  {
   "cell_type": "code",
   "execution_count": 5,
   "metadata": {
    "collapsed": true
   },
   "outputs": [],
   "source": [
    "scores2 = zip(scores, home_team, away_team)"
   ]
  },
  {
   "cell_type": "code",
   "execution_count": 14,
   "metadata": {},
   "outputs": [
    {
     "data": {
      "text/plain": [
       "[]"
      ]
     },
     "execution_count": 14,
     "metadata": {},
     "output_type": "execute_result"
    }
   ],
   "source": [
    "list(scores)"
   ]
  },
  {
   "cell_type": "code",
   "execution_count": 1,
   "metadata": {
    "collapsed": true
   },
   "outputs": [],
   "source": [
    "import operator as op\n",
    "from functools import reduce\n",
    "\n",
    "# Function for finding nCr\n",
    "def ncr(n, r):\n",
    "    r = min(r, n-r)\n",
    "    numer = reduce(op.mul, range(n, n-r, -1), 1)\n",
    "    denom = reduce(op.mul, range(1, r+1), 1)\n",
    "    return numer//denom\n",
    "\n",
    "def probable_payouts(ph, pa):\n",
    "    # make a list of length 10 to store the win probability\n",
    "    # of each score\n",
    "    winProb = [0] * 10\n",
    "    # For each innning (there are 9)\n",
    "    for inning in range(9):\n",
    "        # inining ranges from 0 to 8.\n",
    "        # But we want it to be rom 1 to 9\n",
    "        # So we will use (inning + 1) everywhere\n",
    "        # Since score can range from 0 to inning*2\n",
    "        for score in range((inning+1) * 2 + 1):\n",
    "            # Calculate the probability of scoring score here\n",
    "            nCr = ncr((inning+1) * 2, score)\n",
    "            # probability of getting a score is\n",
    "            # = nCr * P^r * (1-P)^(n-r)\n",
    "            # We use %(mod)10 to get the last digit\n",
    "            winProb[score%10] += nCr * pow(ph, score) * pow(pa, (inning+1) * 2 - score)\n",
    "            # winProb has the probability of winning\n",
    "            # make a dictionary\n",
    "            payout = {}\n",
    "            for score in range(10):\n",
    "                payout[score] = winProb[score] * 5\n",
    "    return payout"
   ]
  },
  {
   "cell_type": "code",
   "execution_count": 2,
   "metadata": {},
   "outputs": [
    {
     "data": {
      "text/plain": [
       "{0: 3.5031700134277344,\n",
       " 1: 5.510292053222656,\n",
       " 2: 5.705814361572266,\n",
       " 3: 5.140533447265625,\n",
       " 4: 5.051727294921875,\n",
       " 5: 4.884185791015625,\n",
       " 6: 4.662799835205078,\n",
       " 7: 4.236488342285156,\n",
       " 8: 3.576488494873047,\n",
       " 9: 2.7285003662109375}"
      ]
     },
     "execution_count": 2,
     "metadata": {},
     "output_type": "execute_result"
    }
   ],
   "source": [
    "probable_payouts(.5, .5)"
   ]
  },
  {
   "cell_type": "code",
   "execution_count": 3,
   "metadata": {
    "collapsed": true
   },
   "outputs": [],
   "source": [
    "import operator as op\n",
    "from functools import reduce\n",
    "\n",
    "# Function for finding nCr\n",
    "def ncr(n, r):\n",
    "    r = min(r, n-r)\n",
    "    numer = reduce(op.mul, range(n, n-r, -1), 1)\n",
    "    denom = reduce(op.mul, range(1, r+1), 1)\n",
    "    return numer//denom\n",
    "\n",
    "def probable_payouts(ph, pa):\n",
    "    # make a list of length 10 to store the win probability\n",
    "    # of each score\n",
    "    winProb = [0] * 10\n",
    "    # For each innning (there are 9)\n",
    "    for inning in range(9):\n",
    "        # inining ranges from 0 to 8.\n",
    "        # But we want it to be rom 1 to 9\n",
    "        # So we will use (inning + 1) everywhere\n",
    "        # Since score can range from 0 to inning*2\n",
    "        for score in range((inning+1) * 2 + 1):\n",
    "            # Calculate the probability of scoring score here\n",
    "            nCr = ncr((inning+1) * 2, score)\n",
    "            # probability of getting a score is\n",
    "            # = nCr * P^r * (1-P)^(n-r)\n",
    "            # We use %(mod)10 to get the last digit\n",
    "            winProb[score%10] += nCr * pow(ph, score) * pow(pa, (inning+1) * 2 - score)\n",
    "            # winProb has the probability of winning\n",
    "            # make a dictionary\n",
    "            payout = {}\n",
    "            for score in range(10):\n",
    "                payout[score] = winProb[score] * 5\n",
    "    return payout"
   ]
  },
  {
   "cell_type": "code",
   "execution_count": 6,
   "metadata": {},
   "outputs": [
    {
     "data": {
      "text/plain": [
       "{0: 8.733826565077734,\n",
       " 1: 11.403553138446178,\n",
       " 2: 9.759750260892638,\n",
       " 3: 7.089930291139056,\n",
       " 4: 4.356006583953002,\n",
       " 5: 2.2353357732262724,\n",
       " 6: 0.9556920580466288,\n",
       " 7: 0.3402378701281693,\n",
       " 8: 0.10083171334094858,\n",
       " 9: 0.024835745749401623}"
      ]
     },
     "execution_count": 6,
     "metadata": {},
     "output_type": "execute_result"
    }
   ],
   "source": [
    "probable_payouts(.2, .8)"
   ]
  },
  {
   "cell_type": "code",
   "execution_count": 5,
   "metadata": {},
   "outputs": [
    {
     "data": {
      "text/plain": [
       "{0: 3.5031700134277344,\n",
       " 1: 5.510292053222656,\n",
       " 2: 5.705814361572266,\n",
       " 3: 5.140533447265625,\n",
       " 4: 5.051727294921875,\n",
       " 5: 4.884185791015625,\n",
       " 6: 4.662799835205078,\n",
       " 7: 4.236488342285156,\n",
       " 8: 3.576488494873047,\n",
       " 9: 2.7285003662109375}"
      ]
     },
     "execution_count": 5,
     "metadata": {},
     "output_type": "execute_result"
    }
   ],
   "source": [
    "probable_payouts(.5, .5)"
   ]
  },
  {
   "cell_type": "code",
   "execution_count": null,
   "metadata": {
    "collapsed": true
   },
   "outputs": [],
   "source": []
  }
 ],
 "metadata": {
  "kernelspec": {
   "display_name": "Python 3",
   "language": "python",
   "name": "python3"
  },
  "language_info": {
   "codemirror_mode": {
    "name": "ipython",
    "version": 3
   },
   "file_extension": ".py",
   "mimetype": "text/x-python",
   "name": "python",
   "nbconvert_exporter": "python",
   "pygments_lexer": "ipython3",
   "version": "3.5.4"
  }
 },
 "nbformat": 4,
 "nbformat_minor": 2
}
