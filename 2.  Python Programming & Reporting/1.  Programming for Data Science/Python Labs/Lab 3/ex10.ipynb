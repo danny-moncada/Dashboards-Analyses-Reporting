{
 "cells": [
  {
   "cell_type": "code",
   "execution_count": 1,
   "metadata": {
    "collapsed": true
   },
   "outputs": [],
   "source": [
    "## Danny Moncada - MSBA 6310 - Lab 3 - ex10.py\n",
    "## Write a function named justices_appointed_by that accepts one argument (a President's name) and returns\n",
    "## a list of all US Supreme Court justices appointed by that President"
   ]
  },
  {
   "cell_type": "code",
   "execution_count": 56,
   "metadata": {},
   "outputs": [],
   "source": [
    "def justices_appointed_by(name):\n",
    "    \n",
    "    import os\n",
    "\n",
    "    text = open(name).readlines()\n",
    "    \n",
    "    justices = []\n",
    "\n",
    "    for line in text:\n",
    "        first_name, last_name, president, state, start_year, end_year = line.split(\",\")\n",
    "        full_name = first_name + \" \" + last_name\n",
    "        if name.lower() in president.lower():\n",
    "            justices.append(full_name)\n",
    "            \n",
    "    return justices"
   ]
  }
 ],
 "metadata": {
  "kernelspec": {
   "display_name": "Python 3",
   "language": "python",
   "name": "python3"
  },
  "language_info": {
   "codemirror_mode": {
    "name": "ipython",
    "version": 3
   },
   "file_extension": ".py",
   "mimetype": "text/x-python",
   "name": "python",
   "nbconvert_exporter": "python",
   "pygments_lexer": "ipython3",
   "version": "3.5.4"
  }
 },
 "nbformat": 4,
 "nbformat_minor": 2
}
