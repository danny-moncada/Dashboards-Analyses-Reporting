{
 "cells": [
  {
   "cell_type": "code",
   "execution_count": 1,
   "metadata": {
    "collapsed": true
   },
   "outputs": [],
   "source": [
    "## Danny Moncada - MSBA 6310 - Lab 3 - ex7.py\n",
    "## Write a function interpolated_median that accepts a list of letter grades and returns the interpolated median"
   ]
  },
  {
   "cell_type": "code",
   "execution_count": 88,
   "metadata": {
    "collapsed": true
   },
   "outputs": [],
   "source": [
    "def interpolated_median(grades):\n",
    "    try:\n",
    "        import statistics as stats\n",
    "\n",
    "        scale = {'A': 4.0, 'A-': 3.67, 'B+': 3.33, \"B\": 3.0, \"B-\": 2.67, \"C+\": 2.33, \n",
    "                     \"C\": 2.0, \"C-\": 1.67, \"D+\": 1.33, \"D\": 1.0, \"D-\": 0.67, \"F\": 0}\n",
    "\n",
    "        numbers = [v for grade in sorted(grades) for k, v in scale.items() if k == grade]\n",
    "\n",
    "        median = stats.median(numbers)\n",
    "        total = len(numbers)\n",
    "        n1 = len([number for number in numbers if number < median])\n",
    "        n2 = len([number for number in numbers if number == median])\n",
    "\n",
    "        if n2 == 0:\n",
    "           return median\n",
    "        else:\n",
    "           return median - .167 + ((.5 * total) - n1 )/ n2 * .333, n1, n2\n",
    "    except:\n",
    "        return \"Error: no letter grades provided\""
   ]
  },
  {
   "cell_type": "code",
   "execution_count": 89,
   "metadata": {},
   "outputs": [
    {
     "data": {
      "text/plain": [
       "(3.9995000000000003, 0, 1)"
      ]
     },
     "execution_count": 89,
     "metadata": {},
     "output_type": "execute_result"
    }
   ],
   "source": [
    "grades=[\"A\"]\n",
    "\n",
    "interpolated_median(grades)"
   ]
  },
  {
   "cell_type": "code",
   "execution_count": 85,
   "metadata": {},
   "outputs": [
    {
     "data": {
      "text/plain": [
       "11"
      ]
     },
     "execution_count": 85,
     "metadata": {},
     "output_type": "execute_result"
    }
   ],
   "source": [
    "n1"
   ]
  },
  {
   "cell_type": "code",
   "execution_count": null,
   "metadata": {
    "collapsed": true
   },
   "outputs": [],
   "source": []
  }
 ],
 "metadata": {
  "kernelspec": {
   "display_name": "Python 3",
   "language": "python",
   "name": "python3"
  },
  "language_info": {
   "codemirror_mode": {
    "name": "ipython",
    "version": 3
   },
   "file_extension": ".py",
   "mimetype": "text/x-python",
   "name": "python",
   "nbconvert_exporter": "python",
   "pygments_lexer": "ipython3",
   "version": "3.5.4"
  }
 },
 "nbformat": 4,
 "nbformat_minor": 2
}
