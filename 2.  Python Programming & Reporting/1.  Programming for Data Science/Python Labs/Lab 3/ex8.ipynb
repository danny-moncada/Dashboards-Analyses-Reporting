{
 "cells": [
  {
   "cell_type": "code",
   "execution_count": 1,
   "metadata": {
    "collapsed": true
   },
   "outputs": [],
   "source": [
    "## Danny Moncada - MSBA 6310 - Lab 3 - ex8.py\n",
    "## Write a function double_or_1 that accepts one argument (a whole dollar amount) and returns the minimum number \n",
    "## of turns required to obtain exactly that dollar amount"
   ]
  },
  {
   "cell_type": "code",
   "execution_count": 42,
   "metadata": {},
   "outputs": [],
   "source": [
    "def double_or_1(amount):\n",
    "    number_of_turns = 0\n",
    "    while(amount != 1):\n",
    "        number_of_turns+=1\n",
    "        if(amount % 2 == 0):\n",
    "            amount = amount / 2\n",
    "        else:\n",
    "            amount = amount - 1\n",
    "        \n",
    "    return number_of_turns"
   ]
  }
 ],
 "metadata": {
  "kernelspec": {
   "display_name": "Python 3",
   "language": "python",
   "name": "python3"
  },
  "language_info": {
   "codemirror_mode": {
    "name": "ipython",
    "version": 3
   },
   "file_extension": ".py",
   "mimetype": "text/x-python",
   "name": "python",
   "nbconvert_exporter": "python",
   "pygments_lexer": "ipython3",
   "version": "3.5.4"
  }
 },
 "nbformat": 4,
 "nbformat_minor": 2
}
