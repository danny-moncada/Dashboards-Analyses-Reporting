{
 "cells": [
  {
   "cell_type": "code",
   "execution_count": 1,
   "metadata": {
    "collapsed": true
   },
   "outputs": [],
   "source": [
    "## Danny Moncada - MSBA 6310 - Lab 3 - ex5.py\n",
    "## Write a function classify_eggs that accepts a list containing the weight of each egg and returns a dictionary of egg classifications"
   ]
  },
  {
   "cell_type": "code",
   "execution_count": null,
   "metadata": {
    "collapsed": true
   },
   "outputs": [],
   "source": [
    "def classify_eggs(egg_weights):\n",
    "    weights = {\"Small\": 1.5, \"Medium\": 1.75, \"Large\": 2, \"Extra Large\": 2.25, \"Jumbo\": 2.5}\n",
    "    sorting_dict = {}\n",
    "    classify_dict = {}\n",
    "    output_dict = {}\n",
    "\n",
    "    for i in egg_weights:\n",
    "        for v in sorted(weights.values(), reverse = True):\n",
    "            if i >= v:\n",
    "                sorting_dict[i] = v\n",
    "                break\n",
    "\n",
    "    for k, v in sorted(weights.items()):\n",
    "        classify_dict[k] = []\n",
    "        for i in sorting_dict.values():\n",
    "            if i == v:\n",
    "                classify_dict[k].append(i)\n",
    "\n",
    "    for k, v in classify_dict.items():\n",
    "        if len(v) > 0:\n",
    "            output_dict[k] = len(v)\n",
    "            \n",
    "    return output_dict"
   ]
  },
  {
   "cell_type": "code",
   "execution_count": null,
   "metadata": {
    "collapsed": true
   },
   "outputs": [],
   "source": []
  },
  {
   "cell_type": "code",
   "execution_count": null,
   "metadata": {
    "collapsed": true
   },
   "outputs": [],
   "source": []
  },
  {
   "cell_type": "code",
   "execution_count": null,
   "metadata": {
    "collapsed": true
   },
   "outputs": [],
   "source": []
  },
  {
   "cell_type": "code",
   "execution_count": null,
   "metadata": {
    "collapsed": true
   },
   "outputs": [],
   "source": []
  },
  {
   "cell_type": "code",
   "execution_count": null,
   "metadata": {
    "collapsed": true
   },
   "outputs": [],
   "source": []
  },
  {
   "cell_type": "code",
   "execution_count": null,
   "metadata": {
    "collapsed": true
   },
   "outputs": [],
   "source": []
  },
  {
   "cell_type": "code",
   "execution_count": 14,
   "metadata": {},
   "outputs": [
    {
     "data": {
      "text/plain": [
       "[1.75, 1.75, 2.25, 2, 2.5, 2.5, 2.25]"
      ]
     },
     "execution_count": 14,
     "metadata": {},
     "output_type": "execute_result"
    }
   ],
   "source": [
    "def classify_eggs(egg_weights):\n",
    "    count = []\n",
    "    weights = {\"small\": 1.5, \"medium\": 1.75, \"large\": 2, \"extra large\": 2.25, \"jumbo\": 2.5}\n",
    "    for item in egg_weights:\n",
    "        for value in sorted(weights.values(), reverse=True):\n",
    "            if item >= value:\n",
    "                count.append(value)\n",
    "                break\n",
    "                \n",
    "    return count\n",
    "\n",
    "classify_eggs(egg_weights)                "
   ]
  },
  {
   "cell_type": "code",
   "execution_count": 450,
   "metadata": {
    "collapsed": true
   },
   "outputs": [],
   "source": [
    "def classify_eggs(egg_weights):\n",
    "    weights = {\"Small\": 1.5, \"Medium\": 1.75, \"Large\": 2, \"Extra Large\": 2.25, \"Jumbo\": 2.5}\n",
    "    sorting_dict = {}\n",
    "    classify_dict = {}\n",
    "    output_dict = {}\n",
    "\n",
    "    for i in egg_weights:\n",
    "        for v in sorted(weights.values(), reverse = True):\n",
    "            if i >= v:\n",
    "                sorting_dict[i] = v\n",
    "                break\n",
    "\n",
    "    for k, v in sorted(weights.items()):\n",
    "        classify_dict[k] = []\n",
    "        for i in sorting_dict.values():\n",
    "            if i == v:\n",
    "                classify_dict[k].append(i)\n",
    "\n",
    "    for k, v in classify_dict.items():\n",
    "        if len(v) > 0:\n",
    "            output_dict[k] = len(v)\n",
    "            \n",
    "    return output_dict"
   ]
  },
  {
   "cell_type": "code",
   "execution_count": 452,
   "metadata": {},
   "outputs": [
    {
     "data": {
      "text/plain": [
       "{'Extra Large': 2, 'Jumbo': 2, 'Large': 1, 'Medium': 2}"
      ]
     },
     "execution_count": 452,
     "metadata": {},
     "output_type": "execute_result"
    }
   ],
   "source": [
    "classify_eggs([1.21, 1.82, 1.9, 1.31, 2.45, 2.2, 1.4, 2.74, 2.99, 2.38])"
   ]
  },
  {
   "cell_type": "code",
   "execution_count": null,
   "metadata": {
    "collapsed": true
   },
   "outputs": [],
   "source": []
  },
  {
   "cell_type": "code",
   "execution_count": 416,
   "metadata": {
    "collapsed": true
   },
   "outputs": [],
   "source": [
    "weights = {\"small\": 1.5, \"medium\": 1.75, \"large\": 2, \"extra large\": 2.25, \"jumbo\": 2.5}\n",
    "eggs = [1.21, 1.82, 1.9, 1.31, 2.45, 2.2, 1.4, 2.74, 2.99, 2.38]\n",
    "first_dict = {}\n",
    "for k, v in sorted(weights.items(), reverse = True):\n",
    "    for i in eggs:\n",
    "        if i >= v:\n",
    "            first_dict[i] = v"
   ]
  },
  {
   "cell_type": "code",
   "execution_count": 417,
   "metadata": {},
   "outputs": [
    {
     "data": {
      "text/plain": [
       "{1.82: 1.75, 1.9: 1.75, 2.2: 2, 2.38: 2.25, 2.45: 2.25, 2.74: 2.25, 2.99: 2.25}"
      ]
     },
     "execution_count": 417,
     "metadata": {},
     "output_type": "execute_result"
    }
   ],
   "source": [
    "first_dict"
   ]
  },
  {
   "cell_type": "code",
   "execution_count": 424,
   "metadata": {
    "collapsed": true
   },
   "outputs": [],
   "source": [
    "\n",
    "for i in eggs:\n",
    "    for v in sorted(weights.values(), reverse = True):\n",
    "        if i >= v:\n",
    "            my_dict[i] = v\n",
    "            break\n",
    "#list(my_dict.values()).count(1.75)"
   ]
  },
  {
   "cell_type": "code",
   "execution_count": 425,
   "metadata": {},
   "outputs": [
    {
     "data": {
      "text/plain": [
       "{1.82: 1.75, 1.9: 1.75, 2.2: 2, 2.38: 2.25, 2.45: 2.25, 2.74: 2.5, 2.99: 2.5}"
      ]
     },
     "execution_count": 425,
     "metadata": {},
     "output_type": "execute_result"
    }
   ],
   "source": [
    "my_dict"
   ]
  },
  {
   "cell_type": "code",
   "execution_count": null,
   "metadata": {
    "collapsed": true
   },
   "outputs": [],
   "source": []
  },
  {
   "cell_type": "code",
   "execution_count": null,
   "metadata": {
    "collapsed": true
   },
   "outputs": [],
   "source": []
  },
  {
   "cell_type": "code",
   "execution_count": null,
   "metadata": {
    "collapsed": true
   },
   "outputs": [],
   "source": []
  },
  {
   "cell_type": "code",
   "execution_count": null,
   "metadata": {
    "collapsed": true
   },
   "outputs": [],
   "source": []
  },
  {
   "cell_type": "code",
   "execution_count": 341,
   "metadata": {},
   "outputs": [
    {
     "name": "stdout",
     "output_type": "stream",
     "text": [
      "1.82 1.5\n",
      "1.9 1.5\n",
      "2.45 1.5\n",
      "2.2 1.5\n",
      "2.74 1.5\n",
      "2.99 1.5\n",
      "2.38 1.5\n",
      "2.45 2\n",
      "2.2 2\n",
      "2.74 2\n",
      "2.99 2\n",
      "2.38 2\n",
      "2.45 2.25\n",
      "2.74 2.25\n",
      "2.99 2.25\n",
      "2.38 2.25\n",
      "2.74 2.5\n",
      "2.99 2.5\n",
      "1.82 1.75\n",
      "1.9 1.75\n",
      "2.45 1.75\n",
      "2.2 1.75\n",
      "2.74 1.75\n",
      "2.99 1.75\n",
      "2.38 1.75\n"
     ]
    }
   ],
   "source": [
    "def classify_eggs(egg_weights):\n",
    "    weights = {\"Small\": 1.5, \"Medium\": 1.75, \"Large\": 2, \"Extra Large\": 2.25, \"Jumbo\": 2.5}\n",
    "    final_dict = {}\n",
    "    my_dict = {}\n",
    "    last_dic = {}\n",
    "\n",
    "    for i in eggs:\n",
    "        for v in sorted(weights.values(), reverse = True):\n",
    "            if i >= v:\n",
    "                my_dict[i] = v\n",
    "                break\n",
    "\n",
    "    for k, v in sorted(weights.items()):\n",
    "        final_dict[k] = []\n",
    "        for i in my_dict.values():\n",
    "            if i == v:\n",
    "                final_dict[k].append(i)\n",
    "\n",
    "    for k, v in final_dict.items():\n",
    "        if len(v) > 0:\n",
    "            last_dic[k] = len(v)\n"
   ]
  },
  {
   "cell_type": "code",
   "execution_count": 338,
   "metadata": {},
   "outputs": [
    {
     "data": {
      "text/plain": [
       "{1.5: [2.38], 1.75: [2.38], 2: [2.38], 2.25: [2.38], 2.5: []}"
      ]
     },
     "execution_count": 338,
     "metadata": {},
     "output_type": "execute_result"
    }
   ],
   "source": [
    "final_dict"
   ]
  },
  {
   "cell_type": "code",
   "execution_count": null,
   "metadata": {
    "collapsed": true
   },
   "outputs": [],
   "source": []
  },
  {
   "cell_type": "code",
   "execution_count": null,
   "metadata": {
    "collapsed": true
   },
   "outputs": [],
   "source": []
  },
  {
   "cell_type": "code",
   "execution_count": 11,
   "metadata": {},
   "outputs": [
    {
     "name": "stdout",
     "output_type": "stream",
     "text": [
      "2.5\n",
      "3\n",
      "3.25\n",
      "3.5\n",
      "2.75\n"
     ]
    }
   ],
   "source": [
    "weights = {\"small\": 1.5, \"medium\": 1.75, \"large\": 2, \"extra large\": 2.25, \"jumbo\": 2.5}\n",
    "\n",
    "for value in weights.values():\n",
    "    if value > 1:\n",
    "        print(value + 1)"
   ]
  },
  {
   "cell_type": "code",
   "execution_count": 2,
   "metadata": {
    "collapsed": true
   },
   "outputs": [],
   "source": []
  },
  {
   "cell_type": "code",
   "execution_count": null,
   "metadata": {
    "collapsed": true
   },
   "outputs": [],
   "source": []
  }
 ],
 "metadata": {
  "kernelspec": {
   "display_name": "Python 3",
   "language": "python",
   "name": "python3"
  },
  "language_info": {
   "codemirror_mode": {
    "name": "ipython",
    "version": 3
   },
   "file_extension": ".py",
   "mimetype": "text/x-python",
   "name": "python",
   "nbconvert_exporter": "python",
   "pygments_lexer": "ipython3",
   "version": "3.5.4"
  }
 },
 "nbformat": 4,
 "nbformat_minor": 2
}
