{
 "cells": [
  {
   "cell_type": "code",
   "execution_count": null,
   "metadata": {
    "collapsed": true
   },
   "outputs": [],
   "source": [
    "## Danny Moncada - MSBA 6310 - Lab 3 - ex2.py\n",
    "## Write a program that asks a user for a word and creates a histogram of character counts, then print \n",
    "## the characters in alphabetical order"
   ]
  },
  {
   "cell_type": "code",
   "execution_count": 8,
   "metadata": {},
   "outputs": [
    {
     "name": "stdout",
     "output_type": "stream",
     "text": [
      "Enter a word: mississippi\n",
      "i 4\n",
      "m 1\n",
      "p 2\n",
      "s 4\n"
     ]
    }
   ],
   "source": [
    "word = input(\"Enter a word: \")\n",
    "\n",
    "histogram = dict()\n",
    "\n",
    "# count each letter\n",
    "for char in word:\n",
    "    histogram[char] = histogram.get(char, 0) + 1\n",
    "    \n",
    "for char in sorted(histogram):\n",
    "    print(\"{0} {1}\".format(char, histogram[char]))"
   ]
  },
  {
   "cell_type": "code",
   "execution_count": null,
   "metadata": {
    "collapsed": true
   },
   "outputs": [],
   "source": []
  }
 ],
 "metadata": {
  "kernelspec": {
   "display_name": "Python 3",
   "language": "python",
   "name": "python3"
  },
  "language_info": {
   "codemirror_mode": {
    "name": "ipython",
    "version": 3
   },
   "file_extension": ".py",
   "mimetype": "text/x-python",
   "name": "python",
   "nbconvert_exporter": "python",
   "pygments_lexer": "ipython3",
   "version": "3.5.4"
  }
 },
 "nbformat": 4,
 "nbformat_minor": 2
}
