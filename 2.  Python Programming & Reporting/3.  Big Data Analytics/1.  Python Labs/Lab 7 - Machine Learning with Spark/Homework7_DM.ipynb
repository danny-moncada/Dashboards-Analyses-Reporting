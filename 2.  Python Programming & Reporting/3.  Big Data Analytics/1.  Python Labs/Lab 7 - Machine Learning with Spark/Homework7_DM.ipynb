{
 "cells": [
  {
   "cell_type": "code",
   "execution_count": 1,
   "metadata": {},
   "outputs": [
    {
     "data": {
      "text/html": [
       "<style>.container { width:100% !important; }</style>"
      ],
      "text/plain": [
       "<IPython.core.display.HTML object>"
      ]
     },
     "metadata": {},
     "output_type": "display_data"
    }
   ],
   "source": [
    "from IPython.core.display import display, HTML\n",
    "display(HTML(\"<style>.container { width:100% !important; }</style>\"))"
   ]
  },
  {
   "cell_type": "code",
   "execution_count": 2,
   "metadata": {},
   "outputs": [],
   "source": [
    "## Import all the libraries that will be used in this notebook\n",
    "\n",
    "from pyspark.ml import Pipeline\n",
    "from pyspark.ml.classification import LogisticRegression, RandomForestClassifier\n",
    "from pyspark.ml.feature import StringIndexer, VectorIndexer, OneHotEncoder, VectorAssembler, IndexToString\n",
    "from pyspark.ml.evaluation import BinaryClassificationEvaluator, MulticlassClassificationEvaluator\n",
    "from pyspark.ml.tuning import CrossValidator, ParamGridBuilder\n",
    "from pyspark.sql.functions import *"
   ]
  },
  {
   "cell_type": "markdown",
   "metadata": {},
   "source": [
    "# MSBA 6330 Homework 7 - Spark MLlib - Danny Moncada"
   ]
  },
  {
   "cell_type": "markdown",
   "metadata": {},
   "source": [
    "## Part A. Short Answers"
   ]
  },
  {
   "cell_type": "markdown",
   "metadata": {},
   "source": [
    "1\\. Both Scikit-learn and Spark MLlib can run machine learning models, discuss the strengths of each (name two for each package). If you use sources to support your answers, be sure to credit the sources"
   ]
  },
  {
   "cell_type": "markdown",
   "metadata": {},
   "source": [
    "# Answer:\n",
    "\n",
    "`scikit-learn` is a Python module that integrates a wide range of machine learning algorithms for supervised and unsupervised problems.  The highlight of this package is its focus on bringing machine learning to non-specialists using a general-purpose high-level language. [JMLR 12, pg. 2826]\n",
    "\n",
    "<b>Strengths</b>:\n",
    "<br>\n",
    "<br>1.  `scikit-learn` avoids using framework code and keeps the number of different objects to a minimum, and instead rely on `numpy` arrays for data containers.  Utilizing a bare-bone design and API helps it integrate seamlessly with other scientific Python libraries like `scipy`.  If you are familiar with both and how they work, then understanding `scikit-learn` is pretty straightfoward.  [JMLR 12, pg. 2827]\n",
    "<br>\n",
    "<br>2. `scikit-learn` provides modern implementations of many well known machine learning algorithms, while at the same time maintaining an easy-to-use interface integrated with Python (this is why I love this, <i>integrated with Python!</i>).  Therefore, this answers the need for statistical data analysis by non-specialists in various/numerous industries, as well as in fields outside of computer-science like biology or physics.  [JMLR 12, pg. 2826]\n",
    "\n",
    "<br>\n",
    "<br>\n",
    "\n",
    "`spark MLlib` is Spark’s open-source distributed machine learning library.  It provides efficient functionality for a wide range of learning settings and includes several underlying statistical, optimization, and linear algebra primitives.  `spark MLlib` supports several languages and provides a high-level API that leverages Spark’s rich ecosystem to simplify the development of end-to-end machine learning pipelines.  [JMLR 17, pg. 2]\n",
    "\n",
    "<b>Strengths</b>:\n",
    "<br>\n",
    "<br>1. Multi-language support: Java, Scala, Python, R.\n",
    "<br>\n",
    "<br>2. Unified stack: A special purpose machine learning package like `scikit-learn` MAY be better, but the cost of having to switch between different languages or data formats may be prohibitive.  With this one library, you can perform a multitude of different machine learning techniques without having to switch between APIs or programs.  One stop shopping!"
   ]
  },
  {
   "cell_type": "markdown",
   "metadata": {},
   "source": [
    "<span style=\"color:blue\">\n",
    "\n",
    "[1] Pedregosa et al. (2011). <i>Scikit-learn: Machine Learning in Python</i> [PDF File]. Retreived August 10, 2019, from Journal of Machine Learning 12: http://www.jmlr.org/papers/volume12/pedregosa11a/pedregosa11a.pdf\n",
    "\n",
    "\n",
    "[2]  Xiangrui Meng et al.  <i>MLlib: Machine Learning in Apache Spark</i> [PDF File].  Retreived August 10, 2019, from Journal of Machine Learning 17: http://www.jmlr.org/papers/volume17/15-237/15-237.pdf\n",
    "</span>"
   ]
  },
  {
   "cell_type": "markdown",
   "metadata": {},
   "source": [
    "## Part B. Analyze Titanic Dataset using pyspark.ml"
   ]
  },
  {
   "cell_type": "markdown",
   "metadata": {},
   "source": [
    "This is a famous dataset for machine learning. A description of the dataset can be found at [kaggle website](https://www.kaggle.com/c/titanic/data). In the following, we apply the logistic regression model from pyspark.ml package to this dataset. The goal is to predict survival of passages on board titanice, and to use the pipeline and feature tools from pyspark.ml. \n",
    "\n",
    "Though the data is small (and does not warrant the use of big data tools such as Spark), we can use it to learn the process of training and apply machine learning models that scale well. \n",
    "\n",
    "**In the following, we require you to make sure that your analysis is scalable; that is, all the heavy lifting should be done using distributed computing (collecting a DataFrame and process it using Pandas will not be scalable unless the dataframe is guaranteed to be small). You should assume that you are working with a huge dataset with hundreds of millions of rows. That said, there may be parts of your analysis that results in a DataFrame that is guaranteed to be small enough. For example, the resulf of summary statistics will always be small enough that you can analyze it locally using Python (e.g., Pandas).**"
   ]
  },
  {
   "cell_type": "markdown",
   "metadata": {},
   "source": [
    "### Step 1: read data from local folder\n",
    "\n",
    "1\\. Load csv data into a data frame\n",
    "- you should infer schema from the csv file"
   ]
  },
  {
   "cell_type": "code",
   "execution_count": 3,
   "metadata": {},
   "outputs": [
    {
     "name": "stdout",
     "output_type": "stream",
     "text": [
      "PassengerId,Survived,Pclass,Name,Sex,Age,SibSp,Parch,Ticket,Fare,Cabin,Embarked\r\n",
      "1,0,3,\"Braund, Mr. Owen Harris\",male,22,1,0,A/5 21171,7.25,,S\r\n",
      "2,1,1,\"Cumings, Mrs. John Bradley (Florence Briggs Thayer)\",female,38,1,0,PC 17599,71.2833,C85,C\r\n",
      "3,1,3,\"Heikkinen, Miss. Laina\",female,26,0,0,STON/O2. 3101282,7.925,,S\r\n",
      "4,1,1,\"Futrelle, Mrs. Jacques Heath (Lily May Peel)\",female,35,1,0,113803,53.1,C123,S\r\n"
     ]
    }
   ],
   "source": [
    "! head -5 titanic*"
   ]
  },
  {
   "cell_type": "code",
   "execution_count": 4,
   "metadata": {},
   "outputs": [],
   "source": [
    "titanic_df = sqlCtx.read.format(\"csv\").option(\"header\", \"true\") \\\n",
    "    .option(\"inferSchema\", \"true\").load(\"titanic.csv\")"
   ]
  },
  {
   "cell_type": "code",
   "execution_count": 5,
   "metadata": {},
   "outputs": [
    {
     "data": {
      "text/plain": [
       "DataFrame[PassengerId: int, Survived: int, Pclass: int, Name: string, Sex: string, Age: double, SibSp: int, Parch: int, Ticket: string, Fare: double, Cabin: string, Embarked: string]"
      ]
     },
     "execution_count": 5,
     "metadata": {},
     "output_type": "execute_result"
    }
   ],
   "source": [
    "titanic_df.cache()"
   ]
  },
  {
   "cell_type": "markdown",
   "metadata": {},
   "source": [
    "2\\. Verify the schema and first 5 rows of data\n",
    "- **tip**: using Spark DataFrame's `toPandas()` for nicer display of data."
   ]
  },
  {
   "cell_type": "code",
   "execution_count": 6,
   "metadata": {},
   "outputs": [
    {
     "name": "stdout",
     "output_type": "stream",
     "text": [
      "root\n",
      " |-- PassengerId: integer (nullable = true)\n",
      " |-- Survived: integer (nullable = true)\n",
      " |-- Pclass: integer (nullable = true)\n",
      " |-- Name: string (nullable = true)\n",
      " |-- Sex: string (nullable = true)\n",
      " |-- Age: double (nullable = true)\n",
      " |-- SibSp: integer (nullable = true)\n",
      " |-- Parch: integer (nullable = true)\n",
      " |-- Ticket: string (nullable = true)\n",
      " |-- Fare: double (nullable = true)\n",
      " |-- Cabin: string (nullable = true)\n",
      " |-- Embarked: string (nullable = true)\n",
      "\n"
     ]
    }
   ],
   "source": [
    "titanic_df.printSchema()"
   ]
  },
  {
   "cell_type": "code",
   "execution_count": 7,
   "metadata": {},
   "outputs": [
    {
     "data": {
      "text/html": [
       "<div>\n",
       "<style scoped>\n",
       "    .dataframe tbody tr th:only-of-type {\n",
       "        vertical-align: middle;\n",
       "    }\n",
       "\n",
       "    .dataframe tbody tr th {\n",
       "        vertical-align: top;\n",
       "    }\n",
       "\n",
       "    .dataframe thead th {\n",
       "        text-align: right;\n",
       "    }\n",
       "</style>\n",
       "<table border=\"1\" class=\"dataframe\">\n",
       "  <thead>\n",
       "    <tr style=\"text-align: right;\">\n",
       "      <th></th>\n",
       "      <th>PassengerId</th>\n",
       "      <th>Survived</th>\n",
       "      <th>Pclass</th>\n",
       "      <th>Name</th>\n",
       "      <th>Sex</th>\n",
       "      <th>Age</th>\n",
       "      <th>SibSp</th>\n",
       "      <th>Parch</th>\n",
       "      <th>Ticket</th>\n",
       "      <th>Fare</th>\n",
       "      <th>Cabin</th>\n",
       "      <th>Embarked</th>\n",
       "    </tr>\n",
       "  </thead>\n",
       "  <tbody>\n",
       "    <tr>\n",
       "      <th>0</th>\n",
       "      <td>1</td>\n",
       "      <td>0</td>\n",
       "      <td>3</td>\n",
       "      <td>Braund, Mr. Owen Harris</td>\n",
       "      <td>male</td>\n",
       "      <td>22.0</td>\n",
       "      <td>1</td>\n",
       "      <td>0</td>\n",
       "      <td>A/5 21171</td>\n",
       "      <td>7.2500</td>\n",
       "      <td>None</td>\n",
       "      <td>S</td>\n",
       "    </tr>\n",
       "    <tr>\n",
       "      <th>1</th>\n",
       "      <td>2</td>\n",
       "      <td>1</td>\n",
       "      <td>1</td>\n",
       "      <td>Cumings, Mrs. John Bradley (Florence Briggs Th...</td>\n",
       "      <td>female</td>\n",
       "      <td>38.0</td>\n",
       "      <td>1</td>\n",
       "      <td>0</td>\n",
       "      <td>PC 17599</td>\n",
       "      <td>71.2833</td>\n",
       "      <td>C85</td>\n",
       "      <td>C</td>\n",
       "    </tr>\n",
       "    <tr>\n",
       "      <th>2</th>\n",
       "      <td>3</td>\n",
       "      <td>1</td>\n",
       "      <td>3</td>\n",
       "      <td>Heikkinen, Miss. Laina</td>\n",
       "      <td>female</td>\n",
       "      <td>26.0</td>\n",
       "      <td>0</td>\n",
       "      <td>0</td>\n",
       "      <td>STON/O2. 3101282</td>\n",
       "      <td>7.9250</td>\n",
       "      <td>None</td>\n",
       "      <td>S</td>\n",
       "    </tr>\n",
       "    <tr>\n",
       "      <th>3</th>\n",
       "      <td>4</td>\n",
       "      <td>1</td>\n",
       "      <td>1</td>\n",
       "      <td>Futrelle, Mrs. Jacques Heath (Lily May Peel)</td>\n",
       "      <td>female</td>\n",
       "      <td>35.0</td>\n",
       "      <td>1</td>\n",
       "      <td>0</td>\n",
       "      <td>113803</td>\n",
       "      <td>53.1000</td>\n",
       "      <td>C123</td>\n",
       "      <td>S</td>\n",
       "    </tr>\n",
       "    <tr>\n",
       "      <th>4</th>\n",
       "      <td>5</td>\n",
       "      <td>0</td>\n",
       "      <td>3</td>\n",
       "      <td>Allen, Mr. William Henry</td>\n",
       "      <td>male</td>\n",
       "      <td>35.0</td>\n",
       "      <td>0</td>\n",
       "      <td>0</td>\n",
       "      <td>373450</td>\n",
       "      <td>8.0500</td>\n",
       "      <td>None</td>\n",
       "      <td>S</td>\n",
       "    </tr>\n",
       "  </tbody>\n",
       "</table>\n",
       "</div>"
      ],
      "text/plain": [
       "   PassengerId  Survived  Pclass  \\\n",
       "0            1         0       3   \n",
       "1            2         1       1   \n",
       "2            3         1       3   \n",
       "3            4         1       1   \n",
       "4            5         0       3   \n",
       "\n",
       "                                                Name     Sex   Age  SibSp  \\\n",
       "0                            Braund, Mr. Owen Harris    male  22.0      1   \n",
       "1  Cumings, Mrs. John Bradley (Florence Briggs Th...  female  38.0      1   \n",
       "2                             Heikkinen, Miss. Laina  female  26.0      0   \n",
       "3       Futrelle, Mrs. Jacques Heath (Lily May Peel)  female  35.0      1   \n",
       "4                           Allen, Mr. William Henry    male  35.0      0   \n",
       "\n",
       "   Parch            Ticket     Fare Cabin Embarked  \n",
       "0      0         A/5 21171   7.2500  None        S  \n",
       "1      0          PC 17599  71.2833   C85        C  \n",
       "2      0  STON/O2. 3101282   7.9250  None        S  \n",
       "3      0            113803  53.1000  C123        S  \n",
       "4      0            373450   8.0500  None        S  "
      ]
     },
     "execution_count": 7,
     "metadata": {},
     "output_type": "execute_result"
    }
   ],
   "source": [
    "titanic_df.toPandas().head(5)"
   ]
  },
  {
   "cell_type": "markdown",
   "metadata": {},
   "source": [
    "### Step 2. Data exploration\n",
    "the goal of this step is to familiarize yourself with the dataset\n",
    "- detect data problems\n",
    "- inform the data engineering steps\n",
    "- inform the feature selection"
   ]
  },
  {
   "cell_type": "markdown",
   "metadata": {},
   "source": [
    "3\\. Obtain summary statistics on the dataframe, which again will inform our data processing strategies\n",
    "- pay attention to whether there are missing data\n",
    "- whether the field appears to be continous or discrete\n",
    "\n"
   ]
  },
  {
   "cell_type": "code",
   "execution_count": 8,
   "metadata": {},
   "outputs": [
    {
     "data": {
      "text/html": [
       "<div>\n",
       "<style scoped>\n",
       "    .dataframe tbody tr th:only-of-type {\n",
       "        vertical-align: middle;\n",
       "    }\n",
       "\n",
       "    .dataframe tbody tr th {\n",
       "        vertical-align: top;\n",
       "    }\n",
       "\n",
       "    .dataframe thead th {\n",
       "        text-align: right;\n",
       "    }\n",
       "</style>\n",
       "<table border=\"1\" class=\"dataframe\">\n",
       "  <thead>\n",
       "    <tr style=\"text-align: right;\">\n",
       "      <th>summary</th>\n",
       "      <th>count</th>\n",
       "      <th>mean</th>\n",
       "      <th>stddev</th>\n",
       "      <th>min</th>\n",
       "      <th>max</th>\n",
       "    </tr>\n",
       "  </thead>\n",
       "  <tbody>\n",
       "    <tr>\n",
       "      <th>PassengerId</th>\n",
       "      <td>891</td>\n",
       "      <td>446.0</td>\n",
       "      <td>257.3538420152301</td>\n",
       "      <td>1</td>\n",
       "      <td>891</td>\n",
       "    </tr>\n",
       "    <tr>\n",
       "      <th>Survived</th>\n",
       "      <td>891</td>\n",
       "      <td>0.3838383838383838</td>\n",
       "      <td>0.48659245426485753</td>\n",
       "      <td>0</td>\n",
       "      <td>1</td>\n",
       "    </tr>\n",
       "    <tr>\n",
       "      <th>Pclass</th>\n",
       "      <td>891</td>\n",
       "      <td>2.308641975308642</td>\n",
       "      <td>0.8360712409770491</td>\n",
       "      <td>1</td>\n",
       "      <td>3</td>\n",
       "    </tr>\n",
       "    <tr>\n",
       "      <th>Name</th>\n",
       "      <td>891</td>\n",
       "      <td>None</td>\n",
       "      <td>None</td>\n",
       "      <td>\"Andersson, Mr. August Edvard (\"\"Wennerstrom\"\")\"</td>\n",
       "      <td>van Melkebeke, Mr. Philemon</td>\n",
       "    </tr>\n",
       "    <tr>\n",
       "      <th>Sex</th>\n",
       "      <td>891</td>\n",
       "      <td>None</td>\n",
       "      <td>None</td>\n",
       "      <td>female</td>\n",
       "      <td>male</td>\n",
       "    </tr>\n",
       "    <tr>\n",
       "      <th>Age</th>\n",
       "      <td>714</td>\n",
       "      <td>29.69911764705882</td>\n",
       "      <td>14.526497332334035</td>\n",
       "      <td>0.42</td>\n",
       "      <td>80.0</td>\n",
       "    </tr>\n",
       "    <tr>\n",
       "      <th>SibSp</th>\n",
       "      <td>891</td>\n",
       "      <td>0.5230078563411896</td>\n",
       "      <td>1.1027434322934315</td>\n",
       "      <td>0</td>\n",
       "      <td>8</td>\n",
       "    </tr>\n",
       "    <tr>\n",
       "      <th>Parch</th>\n",
       "      <td>891</td>\n",
       "      <td>0.38159371492704824</td>\n",
       "      <td>0.8060572211299488</td>\n",
       "      <td>0</td>\n",
       "      <td>6</td>\n",
       "    </tr>\n",
       "    <tr>\n",
       "      <th>Ticket</th>\n",
       "      <td>891</td>\n",
       "      <td>260318.54916792738</td>\n",
       "      <td>471609.26868834975</td>\n",
       "      <td>110152</td>\n",
       "      <td>WE/P 5735</td>\n",
       "    </tr>\n",
       "    <tr>\n",
       "      <th>Fare</th>\n",
       "      <td>891</td>\n",
       "      <td>32.2042079685746</td>\n",
       "      <td>49.69342859718089</td>\n",
       "      <td>0.0</td>\n",
       "      <td>512.3292</td>\n",
       "    </tr>\n",
       "    <tr>\n",
       "      <th>Cabin</th>\n",
       "      <td>204</td>\n",
       "      <td>None</td>\n",
       "      <td>None</td>\n",
       "      <td>A10</td>\n",
       "      <td>T</td>\n",
       "    </tr>\n",
       "    <tr>\n",
       "      <th>Embarked</th>\n",
       "      <td>889</td>\n",
       "      <td>None</td>\n",
       "      <td>None</td>\n",
       "      <td>C</td>\n",
       "      <td>S</td>\n",
       "    </tr>\n",
       "  </tbody>\n",
       "</table>\n",
       "</div>"
      ],
      "text/plain": [
       "summary     count                 mean               stddev  \\\n",
       "PassengerId   891                446.0    257.3538420152301   \n",
       "Survived      891   0.3838383838383838  0.48659245426485753   \n",
       "Pclass        891    2.308641975308642   0.8360712409770491   \n",
       "Name          891                 None                 None   \n",
       "Sex           891                 None                 None   \n",
       "Age           714    29.69911764705882   14.526497332334035   \n",
       "SibSp         891   0.5230078563411896   1.1027434322934315   \n",
       "Parch         891  0.38159371492704824   0.8060572211299488   \n",
       "Ticket        891   260318.54916792738   471609.26868834975   \n",
       "Fare          891     32.2042079685746    49.69342859718089   \n",
       "Cabin         204                 None                 None   \n",
       "Embarked      889                 None                 None   \n",
       "\n",
       "summary                                                   min  \\\n",
       "PassengerId                                                 1   \n",
       "Survived                                                    0   \n",
       "Pclass                                                      1   \n",
       "Name         \"Andersson, Mr. August Edvard (\"\"Wennerstrom\"\")\"   \n",
       "Sex                                                    female   \n",
       "Age                                                      0.42   \n",
       "SibSp                                                       0   \n",
       "Parch                                                       0   \n",
       "Ticket                                                 110152   \n",
       "Fare                                                      0.0   \n",
       "Cabin                                                     A10   \n",
       "Embarked                                                    C   \n",
       "\n",
       "summary                              max  \n",
       "PassengerId                          891  \n",
       "Survived                               1  \n",
       "Pclass                                 3  \n",
       "Name         van Melkebeke, Mr. Philemon  \n",
       "Sex                                 male  \n",
       "Age                                 80.0  \n",
       "SibSp                                  8  \n",
       "Parch                                  6  \n",
       "Ticket                         WE/P 5735  \n",
       "Fare                            512.3292  \n",
       "Cabin                                  T  \n",
       "Embarked                               S  "
      ]
     },
     "execution_count": 8,
     "metadata": {},
     "output_type": "execute_result"
    }
   ],
   "source": [
    "titanic_df.describe().toPandas().set_index(\"summary\").T"
   ]
  },
  {
   "cell_type": "markdown",
   "metadata": {},
   "source": [
    "4\\. Frequency analysis for categorical columns: for each of the string (except for `name` and `ticket`) and categorical columns (numerical colums except for `Age` and `Fare`), print the count of the 10 most frequent values ordered by descending order of frequency.\n",
    "- useful for deciding whether the string column can be treated as a categorical variable\n",
    "- useful for detecting errors, missing values in such columns\n",
    "\n",
    "*Tip: since we are doing this repeatedly, useful to write a function*"
   ]
  },
  {
   "cell_type": "code",
   "execution_count": 9,
   "metadata": {},
   "outputs": [],
   "source": [
    "## I removed PassengerId from the analysis as well, it really has no bearing on whether they survived\n",
    "\n",
    "excluded = ['Name', 'Ticket', 'Age', 'Fare', 'PassengerId']\n",
    "    \n",
    "def freq_analysis(df):\n",
    "    \n",
    "    output = []\n",
    "    \n",
    "    for i in df.columns:\n",
    "        if i not in excluded:\n",
    "            output.append(df.groupby(i).count().toPandas().sort_values(\"count\", ascending = False).head(10))\n",
    "            \n",
    "    for i in output:\n",
    "        print(i)\n",
    "        print()"
   ]
  },
  {
   "cell_type": "code",
   "execution_count": 10,
   "metadata": {},
   "outputs": [
    {
     "name": "stdout",
     "output_type": "stream",
     "text": [
      "   Survived  count\n",
      "1         0    549\n",
      "0         1    342\n",
      "\n",
      "   Pclass  count\n",
      "1       3    491\n",
      "0       1    216\n",
      "2       2    184\n",
      "\n",
      "      Sex  count\n",
      "1    male    577\n",
      "0  female    314\n",
      "\n",
      "   SibSp  count\n",
      "6      0    608\n",
      "0      1    209\n",
      "5      2     28\n",
      "3      4     18\n",
      "1      3     16\n",
      "4      8      7\n",
      "2      5      5\n",
      "\n",
      "   Parch  count\n",
      "6      0    678\n",
      "0      1    118\n",
      "5      2     80\n",
      "2      3      5\n",
      "3      5      5\n",
      "4      4      4\n",
      "1      6      1\n",
      "\n",
      "           Cabin  count\n",
      "45          None    687\n",
      "31       B96 B98      4\n",
      "73            G6      4\n",
      "99   C23 C25 C27      4\n",
      "15            F2      3\n",
      "25       C22 C26      3\n",
      "71          E101      3\n",
      "103          F33      3\n",
      "67             D      3\n",
      "34           D20      2\n",
      "\n",
      "  Embarked  count\n",
      "3        S    644\n",
      "2        C    168\n",
      "0        Q     77\n",
      "1     None      2\n",
      "\n"
     ]
    }
   ],
   "source": [
    "## Run the function I created above to print the count of the 10 most frequent values ordered by desc\n",
    "\n",
    "freq_analysis(titanic_df)"
   ]
  },
  {
   "cell_type": "markdown",
   "metadata": {},
   "source": [
    "5\\. Histogram for numerical columns: SparkSQL does not have a histogram function, but RDD has one. So one strategy is to convert DataFrame to RDD then call histogram there. The [rdd's histogram function](https://spark.apache.org/docs/1.1.1/api/python/pyspark.rdd.RDD-class.html#histogram) is described here. For your convenience, we have provided a function that takes the histogram function's return values and plot them in a bar chart.\n",
    "\n",
    "Use RDD's histogram function to analyze the two numerical fields: Age and Fare, and plot the results using the following function. **Also answer the question at the end.**"
   ]
  },
  {
   "cell_type": "code",
   "execution_count": 11,
   "metadata": {},
   "outputs": [],
   "source": [
    "import numpy as np\n",
    "import matplotlib.pyplot as plt\n",
    "\n",
    "def create_hist(rdd_histogram_data,field):\n",
    "    \"\"\"Given an RDD.histogram and field name, plot a histogram bar chart\"\"\"\n",
    "    heights = np.array(rdd_histogram_data[1])\n",
    "    full_bins = rdd_histogram_data[0]\n",
    "    mid_point_bins = full_bins[:-1]\n",
    "    widths = [(i - j)*0.8 for i, j in zip(full_bins[:-1], full_bins[1:])]\n",
    "    bar = plt.bar(mid_point_bins, heights, width=widths, color='b')\n",
    "    plt.ylabel('Frequency')\n",
    "    plt.title('Histogram of '+field)  \n",
    "    return bar"
   ]
  },
  {
   "cell_type": "code",
   "execution_count": 12,
   "metadata": {},
   "outputs": [
    {
     "data": {
      "text/plain": [
       "([0.42,\n",
       "  8.378,\n",
       "  16.336000000000002,\n",
       "  24.294000000000004,\n",
       "  32.252,\n",
       "  40.21,\n",
       "  48.168000000000006,\n",
       "  56.126000000000005,\n",
       "  64.084,\n",
       "  72.042,\n",
       "  80.0],\n",
       " [54, 46, 177, 169, 118, 70, 45, 24, 9, 2])"
      ]
     },
     "execution_count": 12,
     "metadata": {},
     "output_type": "execute_result"
    }
   ],
   "source": [
    "age_hist_rdd = titanic_df.select(\"Age\").rdd.map(lambda r: r.Age).histogram(10)\n",
    "\n",
    "age_hist_rdd"
   ]
  },
  {
   "cell_type": "code",
   "execution_count": 13,
   "metadata": {},
   "outputs": [
    {
     "data": {
      "text/plain": [
       "<BarContainer object of 10 artists>"
      ]
     },
     "execution_count": 13,
     "metadata": {},
     "output_type": "execute_result"
    },
    {
     "data": {
      "image/png": "[encoded data removed]",
      "text/plain": [
       "<Figure size 432x288 with 1 Axes>"
      ]
     },
     "metadata": {
      "needs_background": "light"
     },
     "output_type": "display_data"
    }
   ],
   "source": [
    "create_hist(age_hist_rdd, \"Age\")"
   ]
  },
  {
   "cell_type": "code",
   "execution_count": 14,
   "metadata": {},
   "outputs": [
    {
     "data": {
      "text/plain": [
       "([0.0,\n",
       "  51.23292,\n",
       "  102.46584,\n",
       "  153.69876,\n",
       "  204.93168,\n",
       "  256.1646,\n",
       "  307.39752,\n",
       "  358.63044,\n",
       "  409.86336,\n",
       "  461.09628,\n",
       "  512.3292],\n",
       " [732, 106, 31, 2, 11, 6, 0, 0, 0, 3])"
      ]
     },
     "execution_count": 14,
     "metadata": {},
     "output_type": "execute_result"
    }
   ],
   "source": [
    "fare_hist_rdd = titanic_df.select(\"Fare\").rdd.map(lambda r: r.Fare).histogram(10)\n",
    "\n",
    "fare_hist_rdd"
   ]
  },
  {
   "cell_type": "code",
   "execution_count": 15,
   "metadata": {},
   "outputs": [
    {
     "data": {
      "text/plain": [
       "<BarContainer object of 10 artists>"
      ]
     },
     "execution_count": 15,
     "metadata": {},
     "output_type": "execute_result"
    },
    {
     "data": {
      "image/png": "[encoded data removed]",
      "text/plain": [
       "<Figure size 432x288 with 1 Axes>"
      ]
     },
     "metadata": {
      "needs_background": "light"
     },
     "output_type": "display_data"
    }
   ],
   "source": [
    "create_hist(fare_hist_rdd, \"Fare\")"
   ]
  },
  {
   "cell_type": "markdown",
   "metadata": {},
   "source": [
    "**Question**: Why haven't we suggested you to Pandas' convenient `hist` function to obtain the histogram?"
   ]
  },
  {
   "cell_type": "markdown",
   "metadata": {},
   "source": [
    "# Answer:\n",
    "\n",
    "Spark DataFrames are much different compared to Pandas DataFrames; you cannot exactly transform a Spark DataFrame to a Pandas DataFrame.  In the exercise above, the function that actually generates the histogram converts the two RDDs, Age and Fare, into `numpy` arrays.  It then dynamically builds out the bins for the given distribution, and plots them out.  To do this transformation with `hist`, you would need it to already be in a dataframe format and then assign your own bins, like below.  You would only want to do this method for a quick visualization of the distribution."
   ]
  },
  {
   "cell_type": "code",
   "execution_count": 16,
   "metadata": {},
   "outputs": [
    {
     "data": {
      "text/plain": [
       "array([[<matplotlib.axes._subplots.AxesSubplot object at 0x7f62133862b0>]],\n",
       "      dtype=object)"
      ]
     },
     "execution_count": 16,
     "metadata": {},
     "output_type": "execute_result"
    },
    {
     "data": {
      "image/png": "[encoded data removed]",
      "text/plain": [
       "<Figure size 432x288 with 1 Axes>"
      ]
     },
     "metadata": {
      "needs_background": "light"
     },
     "output_type": "display_data"
    }
   ],
   "source": [
    "titanic_df.select(\"Age\").toPandas().hist(bins = 10)"
   ]
  },
  {
   "cell_type": "code",
   "execution_count": 17,
   "metadata": {},
   "outputs": [
    {
     "data": {
      "text/plain": [
       "array([[<matplotlib.axes._subplots.AxesSubplot object at 0x7f62132f0a20>]],\n",
       "      dtype=object)"
      ]
     },
     "execution_count": 17,
     "metadata": {},
     "output_type": "execute_result"
    },
    {
     "data": {
      "image/png": "[encoded data removed]",
      "text/plain": [
       "<Figure size 432x288 with 1 Axes>"
      ]
     },
     "metadata": {
      "needs_background": "light"
     },
     "output_type": "display_data"
    }
   ],
   "source": [
    "titanic_df.select(\"Fare\").toPandas().hist(bins = 10)"
   ]
  },
  {
   "cell_type": "markdown",
   "metadata": {},
   "source": [
    "### Step 3. Some feature engineering\n",
    "the goal of this step is to do necessary feature engineering. Note that currently `pyspark.ml.features` provide a few feature engineering tools such as:\n",
    "- stringindexer: for convert string labels into numerical labels (0, 1,...), ordered by label frequencies\n",
    "- one-hot-encoder: mapping a column of category indices to a column of binary vectors.\n",
    "- vector assembler: merges multiple columns into one vector columns needed for most algorithms\n",
    "\n",
    "here we will focus on\n",
    "- dealing with missing values\n",
    "- creating new columns\n",
    "- converting data types"
   ]
  },
  {
   "cell_type": "markdown",
   "metadata": {},
   "source": [
    "6\\. Create a new data frame by selecting all feature columns you plan to use, plus `Survived` and convert all numerical columns into double type. The reason we convert all numeric types to doubles is because it seems that PySpark does not work well with other numerical types. Then show the first 10 rows\n",
    "\n",
    "**hint**: one way to convert data types is through PySpark's `.cast()` method for column expressions\n"
   ]
  },
  {
   "cell_type": "code",
   "execution_count": 18,
   "metadata": {},
   "outputs": [],
   "source": [
    "## Create the featureA_df, my alpha version of the feature dataframe.  It will go through several changes/transformations so I give it Alpha\n",
    "## All numeric type columns are converted to double.  All string stay the same\n",
    "\n",
    "featureA_df = titanic_df.select(col(\"Survived\"), col(\"Embarked\"), col(\"Sex\"), col(\"Pclass\").cast(\"double\"), col(\"SibSp\").cast(\"double\"), \\\n",
    "                              col(\"Age\").cast(\"double\"), col(\"Fare\").cast(\"double\"))"
   ]
  },
  {
   "cell_type": "code",
   "execution_count": 19,
   "metadata": {},
   "outputs": [
    {
     "name": "stdout",
     "output_type": "stream",
     "text": [
      "+--------+--------+------+------+-----+----+-------+\n",
      "|Survived|Embarked|   Sex|Pclass|SibSp| Age|   Fare|\n",
      "+--------+--------+------+------+-----+----+-------+\n",
      "|       0|       S|  male|   3.0|  1.0|22.0|   7.25|\n",
      "|       1|       C|female|   1.0|  1.0|38.0|71.2833|\n",
      "|       1|       S|female|   3.0|  0.0|26.0|  7.925|\n",
      "|       1|       S|female|   1.0|  1.0|35.0|   53.1|\n",
      "|       0|       S|  male|   3.0|  0.0|35.0|   8.05|\n",
      "|       0|       Q|  male|   3.0|  0.0|null| 8.4583|\n",
      "|       0|       S|  male|   1.0|  0.0|54.0|51.8625|\n",
      "|       0|       S|  male|   3.0|  3.0| 2.0| 21.075|\n",
      "|       1|       S|female|   3.0|  0.0|27.0|11.1333|\n",
      "|       1|       C|female|   2.0|  1.0|14.0|30.0708|\n",
      "+--------+--------+------+------+-----+----+-------+\n",
      "only showing top 10 rows\n",
      "\n"
     ]
    }
   ],
   "source": [
    "## Show the first 10 rows\n",
    "\n",
    "featureA_df.show(10)"
   ]
  },
  {
   "cell_type": "code",
   "execution_count": 20,
   "metadata": {},
   "outputs": [
    {
     "name": "stdout",
     "output_type": "stream",
     "text": [
      "root\n",
      " |-- Survived: integer (nullable = true)\n",
      " |-- Embarked: string (nullable = true)\n",
      " |-- Sex: string (nullable = true)\n",
      " |-- Pclass: double (nullable = true)\n",
      " |-- SibSp: double (nullable = true)\n",
      " |-- Age: double (nullable = true)\n",
      " |-- Fare: double (nullable = true)\n",
      "\n"
     ]
    }
   ],
   "source": [
    "## Show the schema to confirm the datatypes were converted successfully.\n",
    "\n",
    "featureA_df.printSchema()"
   ]
  },
  {
   "cell_type": "markdown",
   "metadata": {},
   "source": [
    "7\\. From the summary statistics, we notice that there are missing values in the `Age` and `Embarked` columns. One way of dealing with this is to drop rows with missing values. Alternatively, we may use a mean replacement strategy. \n",
    "\n",
    "- Replace the null values in the `Age` column with the mean age. \n",
    "- Create a new binary indicator column **AgeNA**, indicated whether the `Age` value was imputed (**hint**: you may use isnull() function from pyspark.sql). This column needs to be a double type. \n",
    "- Drop the remaining rows with missing values (i.e., in the `Embarked` column)\n"
   ]
  },
  {
   "cell_type": "code",
   "execution_count": 21,
   "metadata": {},
   "outputs": [],
   "source": [
    "## I re-initialize the DataFrame in case I screw up any of the transformation below, I can keep it all in this cell and re-run the first line\n",
    "## But I debugged this thoroughly and had no issues after finalizing the program\n",
    "\n",
    "feature_df = featureA_df\n",
    "\n",
    "### Creating a new feature_df, first I need to create the AgeNA Column since I will fill in values after the fact.\n",
    "\n",
    "feature_df = feature_df.select(\"*\", when(feature_df.Age.isNull(), 1.0).otherwise(0.0).alias(\"AgeNA\"))\n",
    "\n",
    "### Replace any Age that is null with the average age, which was a simple calculation that I saved as a variable\n",
    "\n",
    "avg_age = feature_df.agg(avg(\"Age\")).collect()[0][0]\n",
    "feature_df = feature_df.withColumn(\"Age\", when(feature_df.Age.isNull(), avg_age).otherwise(feature_df.Age))\n",
    "\n",
    "## drop any remaining rows with NA values and we're done!\n",
    "feature_df = feature_df.dropna()"
   ]
  },
  {
   "cell_type": "markdown",
   "metadata": {},
   "source": [
    "8\\. Verify the new DataFrame by printing its schema and descriptive statistics (to ascertain there are no missing values)."
   ]
  },
  {
   "cell_type": "code",
   "execution_count": 22,
   "metadata": {},
   "outputs": [
    {
     "name": "stdout",
     "output_type": "stream",
     "text": [
      "root\n",
      " |-- Survived: integer (nullable = true)\n",
      " |-- Embarked: string (nullable = true)\n",
      " |-- Sex: string (nullable = true)\n",
      " |-- Pclass: double (nullable = true)\n",
      " |-- SibSp: double (nullable = true)\n",
      " |-- Age: double (nullable = true)\n",
      " |-- Fare: double (nullable = true)\n",
      " |-- AgeNA: double (nullable = false)\n",
      "\n"
     ]
    }
   ],
   "source": [
    "feature_df.printSchema()"
   ]
  },
  {
   "cell_type": "code",
   "execution_count": 23,
   "metadata": {},
   "outputs": [
    {
     "data": {
      "text/html": [
       "<div>\n",
       "<style scoped>\n",
       "    .dataframe tbody tr th:only-of-type {\n",
       "        vertical-align: middle;\n",
       "    }\n",
       "\n",
       "    .dataframe tbody tr th {\n",
       "        vertical-align: top;\n",
       "    }\n",
       "\n",
       "    .dataframe thead th {\n",
       "        text-align: right;\n",
       "    }\n",
       "</style>\n",
       "<table border=\"1\" class=\"dataframe\">\n",
       "  <thead>\n",
       "    <tr style=\"text-align: right;\">\n",
       "      <th>summary</th>\n",
       "      <th>count</th>\n",
       "      <th>mean</th>\n",
       "      <th>stddev</th>\n",
       "      <th>min</th>\n",
       "      <th>max</th>\n",
       "    </tr>\n",
       "  </thead>\n",
       "  <tbody>\n",
       "    <tr>\n",
       "      <th>Survived</th>\n",
       "      <td>889</td>\n",
       "      <td>0.38245219347581555</td>\n",
       "      <td>0.48625968831477334</td>\n",
       "      <td>0</td>\n",
       "      <td>1</td>\n",
       "    </tr>\n",
       "    <tr>\n",
       "      <th>Embarked</th>\n",
       "      <td>889</td>\n",
       "      <td>None</td>\n",
       "      <td>None</td>\n",
       "      <td>C</td>\n",
       "      <td>S</td>\n",
       "    </tr>\n",
       "    <tr>\n",
       "      <th>Sex</th>\n",
       "      <td>889</td>\n",
       "      <td>None</td>\n",
       "      <td>None</td>\n",
       "      <td>female</td>\n",
       "      <td>male</td>\n",
       "    </tr>\n",
       "    <tr>\n",
       "      <th>Pclass</th>\n",
       "      <td>889</td>\n",
       "      <td>2.3115860517435323</td>\n",
       "      <td>0.8346997785705753</td>\n",
       "      <td>1.0</td>\n",
       "      <td>3.0</td>\n",
       "    </tr>\n",
       "    <tr>\n",
       "      <th>SibSp</th>\n",
       "      <td>889</td>\n",
       "      <td>0.5241844769403825</td>\n",
       "      <td>1.103704875596923</td>\n",
       "      <td>0.0</td>\n",
       "      <td>8.0</td>\n",
       "    </tr>\n",
       "    <tr>\n",
       "      <th>Age</th>\n",
       "      <td>889</td>\n",
       "      <td>29.653446370674192</td>\n",
       "      <td>12.968366309252314</td>\n",
       "      <td>0.42</td>\n",
       "      <td>80.0</td>\n",
       "    </tr>\n",
       "    <tr>\n",
       "      <th>Fare</th>\n",
       "      <td>889</td>\n",
       "      <td>32.09668087739029</td>\n",
       "      <td>49.69750431670795</td>\n",
       "      <td>0.0</td>\n",
       "      <td>512.3292</td>\n",
       "    </tr>\n",
       "    <tr>\n",
       "      <th>AgeNA</th>\n",
       "      <td>889</td>\n",
       "      <td>0.19910011248593926</td>\n",
       "      <td>0.3995482811002537</td>\n",
       "      <td>0.0</td>\n",
       "      <td>1.0</td>\n",
       "    </tr>\n",
       "  </tbody>\n",
       "</table>\n",
       "</div>"
      ],
      "text/plain": [
       "summary  count                 mean               stddev     min       max\n",
       "Survived   889  0.38245219347581555  0.48625968831477334       0         1\n",
       "Embarked   889                 None                 None       C         S\n",
       "Sex        889                 None                 None  female      male\n",
       "Pclass     889   2.3115860517435323   0.8346997785705753     1.0       3.0\n",
       "SibSp      889   0.5241844769403825    1.103704875596923     0.0       8.0\n",
       "Age        889   29.653446370674192   12.968366309252314    0.42      80.0\n",
       "Fare       889    32.09668087739029    49.69750431670795     0.0  512.3292\n",
       "AgeNA      889  0.19910011248593926   0.3995482811002537     0.0       1.0"
      ]
     },
     "execution_count": 23,
     "metadata": {},
     "output_type": "execute_result"
    }
   ],
   "source": [
    "## No missing values, all 889\n",
    "\n",
    "feature_df.describe().toPandas().set_index(\"summary\").T"
   ]
  },
  {
   "cell_type": "markdown",
   "metadata": {},
   "source": [
    "### Step 4: Indexers and Encoders for string/categorical columns (for use with Pipeline)\n",
    "\n",
    "String columns cannot be directly in with some of the models such as LogisticRegression. Neither are categorical columns. Our strategy is to convert string and categorical variables into a series of binary dummies. Fortunately, these steps are already provided as part of pyspark.ml.features. \n",
    "\n",
    "To convert indexed categorical values into a vector of binary indicators, we can leverage `OneHotEncoder`\n",
    "\n",
    "Finally, we need to assemble a vector column with all the numerical features. This is achieved by `VectorAssembler`\n",
    "\n",
    "\n",
    "Click on each below to familiar with them if you need further information.\n",
    "- [StringIndexer](https://spark.apache.org/docs/latest/api/python/pyspark.ml.html#pyspark.ml.feature.StringIndexer): for convert string labels into numerical labels (0, 1,...), ordered by label frequencies\n",
    "- [OneHotEncoderEstimator](https://spark.apache.org/docs/latest/api/python/pyspark.ml.html#pyspark.ml.feature.OneHotEncoderEstimator): mapping a column of category indices to a column of binary vectors (the least frequent one will be dropped by default).\n",
    "- [VectorAssembler](https://spark.apache.org/docs/latest/api/python/pyspark.ml.html#pyspark.ml.feature.VectorAssembler): merges multiple columns into one vector columns needed for most algorithms"
   ]
  },
  {
   "cell_type": "markdown",
   "metadata": {},
   "source": [
    "9\\. Create string indexers for string features, and OneHotEncoder estimators for indexed string values:\n",
    "- call them `[field]_indexer`, `[field]_encoder` respectively (e.g. gender_indexer, gender_encoder)\n",
    "\n",
    "- You should test them on the data to make sure that they work as intended."
   ]
  },
  {
   "cell_type": "code",
   "execution_count": 24,
   "metadata": {},
   "outputs": [],
   "source": [
    "## Create string indexers for the string features & Survived column\n",
    "\n",
    "embark_indexer = StringIndexer(inputCol = 'Embarked', outputCol = 'indexed_Embarked')\n",
    "gender_indexer = StringIndexer(inputCol = 'Sex', outputCol = 'indexed_Sex')\n",
    "\n",
    "survive_indexer = StringIndexer(inputCol = \"Survived\", outputCol = \"indexed_Survived\")"
   ]
  },
  {
   "cell_type": "code",
   "execution_count": 25,
   "metadata": {},
   "outputs": [],
   "source": [
    "## Create encoders for indexed columns to vectorize them\n",
    "\n",
    "gender_encoder = OneHotEncoder(inputCol = \"indexed_Sex\", outputCol = \"vectorized_Sex\")\n",
    "embark_encoder = OneHotEncoder(inputCol = \"indexed_Embarked\", outputCol = \"vectorized_Embarked\")"
   ]
  },
  {
   "cell_type": "code",
   "execution_count": 26,
   "metadata": {},
   "outputs": [
    {
     "name": "stdout",
     "output_type": "stream",
     "text": [
      "+--------+--------+------+------+-----+-----------------+-------+-----+----------------+-----------+----------------+-------------------+--------------+\n",
      "|Survived|Embarked|   Sex|Pclass|SibSp|              Age|   Fare|AgeNA|indexed_Embarked|indexed_Sex|indexed_Survived|vectorized_Embarked|vectorized_Sex|\n",
      "+--------+--------+------+------+-----+-----------------+-------+-----+----------------+-----------+----------------+-------------------+--------------+\n",
      "|       0|       S|  male|   3.0|  1.0|             22.0|   7.25|  0.0|             0.0|        0.0|             0.0|      (2,[0],[1.0])| (1,[0],[1.0])|\n",
      "|       1|       C|female|   1.0|  1.0|             38.0|71.2833|  0.0|             1.0|        1.0|             1.0|      (2,[1],[1.0])|     (1,[],[])|\n",
      "|       1|       S|female|   3.0|  0.0|             26.0|  7.925|  0.0|             0.0|        1.0|             1.0|      (2,[0],[1.0])|     (1,[],[])|\n",
      "|       1|       S|female|   1.0|  1.0|             35.0|   53.1|  0.0|             0.0|        1.0|             1.0|      (2,[0],[1.0])|     (1,[],[])|\n",
      "|       0|       S|  male|   3.0|  0.0|             35.0|   8.05|  0.0|             0.0|        0.0|             0.0|      (2,[0],[1.0])| (1,[0],[1.0])|\n",
      "|       0|       Q|  male|   3.0|  0.0|29.69911764705882| 8.4583|  1.0|             2.0|        0.0|             0.0|          (2,[],[])| (1,[0],[1.0])|\n",
      "|       0|       S|  male|   1.0|  0.0|             54.0|51.8625|  0.0|             0.0|        0.0|             0.0|      (2,[0],[1.0])| (1,[0],[1.0])|\n",
      "|       0|       S|  male|   3.0|  3.0|              2.0| 21.075|  0.0|             0.0|        0.0|             0.0|      (2,[0],[1.0])| (1,[0],[1.0])|\n",
      "+--------+--------+------+------+-----+-----------------+-------+-----+----------------+-----------+----------------+-------------------+--------------+\n",
      "only showing top 8 rows\n",
      "\n",
      "Looks like it's working as expected!\n"
     ]
    }
   ],
   "source": [
    "## Testing my StringIndexers & OneHotEncoders\n",
    "## Fit the indexers first, then transform\n",
    "test = embark_indexer.fit(feature_df).transform(feature_df)\n",
    "test = gender_indexer.fit(test).transform(test)\n",
    "\n",
    "test = survive_indexer.fit(test).transform(test)\n",
    "\n",
    "## Transform for the final time to get the vectorized columns\n",
    "test = embark_encoder.transform(test)\n",
    "test = gender_encoder.transform(test)\n",
    "\n",
    "test.show(8)\n",
    "\n",
    "print(\"Looks like it's working as expected!\")"
   ]
  },
  {
   "cell_type": "markdown",
   "metadata": {},
   "source": [
    "### Step 5: Assemble feature columns into a feature vector (for use with the pipeline)\n",
    "10\\. use `VectorAssember` to assemble all features into one column, we shall the new column `features`"
   ]
  },
  {
   "cell_type": "code",
   "execution_count": 27,
   "metadata": {},
   "outputs": [],
   "source": [
    "## Put all of my features columns into a variable, in case I want to add/remove/change them later on, but I settled on these\n",
    "\n",
    "featureCols = [\"Pclass\", \"SibSp\", \"Age\", \"Fare\", \"AgeNA\", \"vectorized_Embarked\", \"vectorized_Sex\"]\n",
    "\n",
    "## Build my VectorAssembler and create my features column\n",
    "va = VectorAssembler(inputCols = featureCols, outputCol = \"features\")"
   ]
  },
  {
   "cell_type": "code",
   "execution_count": 28,
   "metadata": {},
   "outputs": [
    {
     "name": "stdout",
     "output_type": "stream",
     "text": [
      "+--------+--------+------+------+-----+-----------------+-------+-----+----------------+-----------+----------------+-------------------+--------------+--------------------+\n",
      "|Survived|Embarked|   Sex|Pclass|SibSp|              Age|   Fare|AgeNA|indexed_Embarked|indexed_Sex|indexed_Survived|vectorized_Embarked|vectorized_Sex|            features|\n",
      "+--------+--------+------+------+-----+-----------------+-------+-----+----------------+-----------+----------------+-------------------+--------------+--------------------+\n",
      "|       0|       S|  male|   3.0|  1.0|             22.0|   7.25|  0.0|             0.0|        0.0|             0.0|      (2,[0],[1.0])| (1,[0],[1.0])|[3.0,1.0,22.0,7.2...|\n",
      "|       1|       C|female|   1.0|  1.0|             38.0|71.2833|  0.0|             1.0|        1.0|             1.0|      (2,[1],[1.0])|     (1,[],[])|[1.0,1.0,38.0,71....|\n",
      "|       1|       S|female|   3.0|  0.0|             26.0|  7.925|  0.0|             0.0|        1.0|             1.0|      (2,[0],[1.0])|     (1,[],[])|(8,[0,2,3,5],[3.0...|\n",
      "|       1|       S|female|   1.0|  1.0|             35.0|   53.1|  0.0|             0.0|        1.0|             1.0|      (2,[0],[1.0])|     (1,[],[])|[1.0,1.0,35.0,53....|\n",
      "|       0|       S|  male|   3.0|  0.0|             35.0|   8.05|  0.0|             0.0|        0.0|             0.0|      (2,[0],[1.0])| (1,[0],[1.0])|[3.0,0.0,35.0,8.0...|\n",
      "|       0|       Q|  male|   3.0|  0.0|29.69911764705882| 8.4583|  1.0|             2.0|        0.0|             0.0|          (2,[],[])| (1,[0],[1.0])|[3.0,0.0,29.69911...|\n",
      "|       0|       S|  male|   1.0|  0.0|             54.0|51.8625|  0.0|             0.0|        0.0|             0.0|      (2,[0],[1.0])| (1,[0],[1.0])|[1.0,0.0,54.0,51....|\n",
      "|       0|       S|  male|   3.0|  3.0|              2.0| 21.075|  0.0|             0.0|        0.0|             0.0|      (2,[0],[1.0])| (1,[0],[1.0])|[3.0,3.0,2.0,21.0...|\n",
      "+--------+--------+------+------+-----+-----------------+-------+-----+----------------+-----------+----------------+-------------------+--------------+--------------------+\n",
      "only showing top 8 rows\n",
      "\n"
     ]
    }
   ],
   "source": [
    "## Testing to make sure VectorAssembler works\n",
    "## Show the first 8 rows to confirm transformation will work\n",
    "\n",
    "vectorized = va.transform(test)\n",
    "\n",
    "vectorized.show(8)"
   ]
  },
  {
   "cell_type": "markdown",
   "metadata": {},
   "source": [
    "### Step 6: Create the LogisticRegression model (for use with the pipeline)\n",
    "- the documentation of LogisticRegression from pyspark.ml can be [found here](https://spark.apache.org/docs/latest/api/python/pyspark.ml.html#pyspark.ml.classification.LogisticRegression).\n",
    "\n",
    "11\\. Create the LogisticRegression model"
   ]
  },
  {
   "cell_type": "code",
   "execution_count": 29,
   "metadata": {},
   "outputs": [],
   "source": [
    "## Build the LR model using my features column and my indexed Survived column\n",
    "\n",
    "lr = LogisticRegression(featuresCol = \"features\", labelCol = \"indexed_Survived\")"
   ]
  },
  {
   "cell_type": "markdown",
   "metadata": {},
   "source": [
    "### Step 7. Assemble Pipelines \n",
    "12\\. put together the stages of the pipeline, with the last step being the logisistic regression"
   ]
  },
  {
   "cell_type": "code",
   "execution_count": 30,
   "metadata": {},
   "outputs": [],
   "source": [
    "## Build my pipeline and get ready to feed it to my LR model\n",
    "\n",
    "pl = Pipeline(stages = [embark_indexer, gender_indexer, survive_indexer, gender_encoder, embark_encoder, va, lr])"
   ]
  },
  {
   "cell_type": "markdown",
   "metadata": {},
   "source": [
    "### Step 8: prepare training and test datasets\n",
    "13\\. Please use a 70-30 random split here for training and testing data sets respectively, then verify their sizes"
   ]
  },
  {
   "cell_type": "code",
   "execution_count": 31,
   "metadata": {},
   "outputs": [],
   "source": [
    "## Split my feature_df 70/30 for my training and testing data sets.\n",
    "\n",
    "train, test = feature_df.randomSplit([0.7, 0.3])"
   ]
  },
  {
   "cell_type": "code",
   "execution_count": 32,
   "metadata": {},
   "outputs": [
    {
     "name": "stdout",
     "output_type": "stream",
     "text": [
      "The train DataFrame has 627 number of rows.\n",
      "\n",
      "The test DataFrame has 262 number of rows.\n",
      "\n",
      "There are 889 total number of rows, matching the 889 number of rows from the original DataFrame.\n"
     ]
    }
   ],
   "source": [
    "## Confirm their sizes after the split and make sure they add up to the original dataframe\n",
    "\n",
    "print(\"The train DataFrame has {} number of rows.\".format(train.count()))\n",
    "print()\n",
    "\n",
    "print(\"The test DataFrame has {} number of rows.\".format(test.count()))\n",
    "print()\n",
    "\n",
    "print(\"There are {} total number of rows, matching the {} number of rows from the original DataFrame.\".format(train.count() + test.count(), feature_df.count()))"
   ]
  },
  {
   "cell_type": "markdown",
   "metadata": {},
   "source": [
    "### Step 9: Fit the model and use it on the test dataset"
   ]
  },
  {
   "cell_type": "markdown",
   "metadata": {},
   "source": [
    "14\\. Fit the model using the predefined pipeline on the training set"
   ]
  },
  {
   "cell_type": "code",
   "execution_count": 33,
   "metadata": {},
   "outputs": [],
   "source": [
    "## Fit the model using my cool Pipeline\n",
    "\n",
    "pipelineModel = pl.fit(train)"
   ]
  },
  {
   "cell_type": "markdown",
   "metadata": {},
   "source": [
    "15\\. Use the fitted model to obtain predictions on the test set"
   ]
  },
  {
   "cell_type": "code",
   "execution_count": 34,
   "metadata": {},
   "outputs": [],
   "source": [
    "## Make my predictions on the test set\n",
    "\n",
    "predictions = pipelineModel.transform(test)"
   ]
  },
  {
   "cell_type": "markdown",
   "metadata": {},
   "source": [
    "16\\. Obtain the logistic regression model, and report its coefficients\n",
    "- you can easily obtain the model for each stage of the pipeline using **.stages[index]**"
   ]
  },
  {
   "cell_type": "code",
   "execution_count": 35,
   "metadata": {},
   "outputs": [
    {
     "data": {
      "text/plain": [
       "DenseVector([-1.0032, -0.5, -0.0507, 0.0049, -0.3729, -0.4947, -0.1556, -2.6339])"
      ]
     },
     "execution_count": 35,
     "metadata": {},
     "output_type": "execute_result"
    }
   ],
   "source": [
    "### Get the coefficients and display them\n",
    "\n",
    "pipelineModel.stages[-1].coefficients"
   ]
  },
  {
   "cell_type": "markdown",
   "metadata": {},
   "source": [
    "17\\. Interpret the first two coefficients (optional but encouraged)"
   ]
  },
  {
   "cell_type": "markdown",
   "metadata": {},
   "source": [
    "# Answer:\n",
    "\n",
    "I have `PassengerClass` and `SibSp` (# of siblings / spouses aboard the Titanic) as my first two metrics in the features column.\n",
    "<br>\n",
    "<br>\n",
    "The first coefficient is -1.0032.  Since we see that there is a negative correlation between PassengerClass to Survival Rate, what this is telling us is that the smaller the PassengerClass ( < 1), the more likely the passenger was able to survive; our Logistic Regression model is telling us that if you were a passenger in 1st class (1.0), you were more likely to survive than passengers in 3rd class (3.0).  This logically makes sense, since 1st class passengers were likely closer to the top of the ship when it sank.\n",
    "<br>\n",
    "<br>\n",
    "The second coefficient is -0.5.  Similarly, there is a negative correlation between the number of siblings and spouses the passenger had with them compared to Survival Rate; our Logistic Regression model is telling us is that the less siblings or spouses had aboard the ship, the more likely they were to survive.  Again, this conceptually/logically makes sense, since those passengers who only had to worry about their own well being likely would have fled, and many of those husbands with women and children were likely to have died to stay behind."
   ]
  },
  {
   "cell_type": "markdown",
   "metadata": {},
   "source": [
    "### Step 10. Evaluate model performance"
   ]
  },
  {
   "cell_type": "markdown",
   "metadata": {},
   "source": [
    "It is useful to see how is the results DataFrame after applying the model.\n",
    "\n",
    "18\\. print first 5 rows of the results"
   ]
  },
  {
   "cell_type": "code",
   "execution_count": 47,
   "metadata": {},
   "outputs": [
    {
     "data": {
      "text/html": [
       "<div>\n",
       "<style scoped>\n",
       "    .dataframe tbody tr th:only-of-type {\n",
       "        vertical-align: middle;\n",
       "    }\n",
       "\n",
       "    .dataframe tbody tr th {\n",
       "        vertical-align: top;\n",
       "    }\n",
       "\n",
       "    .dataframe thead th {\n",
       "        text-align: right;\n",
       "    }\n",
       "</style>\n",
       "<table border=\"1\" class=\"dataframe\">\n",
       "  <thead>\n",
       "    <tr style=\"text-align: right;\">\n",
       "      <th></th>\n",
       "      <th>Survived</th>\n",
       "      <th>Embarked</th>\n",
       "      <th>Sex</th>\n",
       "      <th>Pclass</th>\n",
       "      <th>SibSp</th>\n",
       "      <th>Age</th>\n",
       "      <th>Fare</th>\n",
       "      <th>AgeNA</th>\n",
       "      <th>indexed_Embarked</th>\n",
       "      <th>indexed_Sex</th>\n",
       "      <th>indexed_Survived</th>\n",
       "      <th>vectorized_Sex</th>\n",
       "      <th>vectorized_Embarked</th>\n",
       "      <th>features</th>\n",
       "      <th>rawPrediction</th>\n",
       "      <th>probability</th>\n",
       "      <th>prediction</th>\n",
       "    </tr>\n",
       "  </thead>\n",
       "  <tbody>\n",
       "    <tr>\n",
       "      <th>0</th>\n",
       "      <td>0</td>\n",
       "      <td>C</td>\n",
       "      <td>female</td>\n",
       "      <td>3.0</td>\n",
       "      <td>0.0</td>\n",
       "      <td>17.000000</td>\n",
       "      <td>14.4583</td>\n",
       "      <td>0.0</td>\n",
       "      <td>1.0</td>\n",
       "      <td>1.0</td>\n",
       "      <td>0.0</td>\n",
       "      <td>(0.0)</td>\n",
       "      <td>(0.0, 1.0)</td>\n",
       "      <td>(3.0, 0.0, 17.0, 14.4583, 0.0, 0.0, 1.0, 0.0)</td>\n",
       "      <td>[-1.557613799281047, 1.557613799281047]</td>\n",
       "      <td>[0.1739893179761806, 0.8260106820238194]</td>\n",
       "      <td>1.0</td>\n",
       "    </tr>\n",
       "    <tr>\n",
       "      <th>1</th>\n",
       "      <td>0</td>\n",
       "      <td>C</td>\n",
       "      <td>female</td>\n",
       "      <td>3.0</td>\n",
       "      <td>0.0</td>\n",
       "      <td>29.699118</td>\n",
       "      <td>15.2458</td>\n",
       "      <td>1.0</td>\n",
       "      <td>1.0</td>\n",
       "      <td>1.0</td>\n",
       "      <td>0.0</td>\n",
       "      <td>(0.0)</td>\n",
       "      <td>(0.0, 1.0)</td>\n",
       "      <td>[3.0, 0.0, 29.69911764705882, 15.2458, 1.0, 0....</td>\n",
       "      <td>[-0.5452783751667569, 0.5452783751667569]</td>\n",
       "      <td>[0.3669605542328859, 0.6330394457671141]</td>\n",
       "      <td>1.0</td>\n",
       "    </tr>\n",
       "    <tr>\n",
       "      <th>2</th>\n",
       "      <td>0</td>\n",
       "      <td>C</td>\n",
       "      <td>male</td>\n",
       "      <td>1.0</td>\n",
       "      <td>0.0</td>\n",
       "      <td>24.000000</td>\n",
       "      <td>79.2000</td>\n",
       "      <td>0.0</td>\n",
       "      <td>1.0</td>\n",
       "      <td>0.0</td>\n",
       "      <td>0.0</td>\n",
       "      <td>(1.0)</td>\n",
       "      <td>(0.0, 1.0)</td>\n",
       "      <td>[1.0, 0.0, 24.0, 79.2, 0.0, 0.0, 1.0, 1.0]</td>\n",
       "      <td>[-0.8927028577509448, 0.8927028577509448]</td>\n",
       "      <td>[0.29055236755718555, 0.7094476324428145]</td>\n",
       "      <td>1.0</td>\n",
       "    </tr>\n",
       "    <tr>\n",
       "      <th>3</th>\n",
       "      <td>0</td>\n",
       "      <td>C</td>\n",
       "      <td>male</td>\n",
       "      <td>1.0</td>\n",
       "      <td>0.0</td>\n",
       "      <td>24.000000</td>\n",
       "      <td>247.5208</td>\n",
       "      <td>0.0</td>\n",
       "      <td>1.0</td>\n",
       "      <td>0.0</td>\n",
       "      <td>0.0</td>\n",
       "      <td>(1.0)</td>\n",
       "      <td>(0.0, 1.0)</td>\n",
       "      <td>[1.0, 0.0, 24.0, 247.5208, 0.0, 0.0, 1.0, 1.0]</td>\n",
       "      <td>[-1.7170995127360196, 1.7170995127360196]</td>\n",
       "      <td>[0.15224514208793857, 0.8477548579120614]</td>\n",
       "      <td>1.0</td>\n",
       "    </tr>\n",
       "    <tr>\n",
       "      <th>4</th>\n",
       "      <td>0</td>\n",
       "      <td>C</td>\n",
       "      <td>male</td>\n",
       "      <td>1.0</td>\n",
       "      <td>0.0</td>\n",
       "      <td>27.000000</td>\n",
       "      <td>211.5000</td>\n",
       "      <td>0.0</td>\n",
       "      <td>1.0</td>\n",
       "      <td>0.0</td>\n",
       "      <td>0.0</td>\n",
       "      <td>(1.0)</td>\n",
       "      <td>(0.0, 1.0)</td>\n",
       "      <td>[1.0, 0.0, 27.0, 211.5, 0.0, 0.0, 1.0, 1.0]</td>\n",
       "      <td>[-1.388713289766545, 1.388713289766545]</td>\n",
       "      <td>[0.19961325225967042, 0.8003867477403296]</td>\n",
       "      <td>1.0</td>\n",
       "    </tr>\n",
       "  </tbody>\n",
       "</table>\n",
       "</div>"
      ],
      "text/plain": [
       "   Survived Embarked     Sex  Pclass  SibSp        Age      Fare  AgeNA  \\\n",
       "0         0        C  female     3.0    0.0  17.000000   14.4583    0.0   \n",
       "1         0        C  female     3.0    0.0  29.699118   15.2458    1.0   \n",
       "2         0        C    male     1.0    0.0  24.000000   79.2000    0.0   \n",
       "3         0        C    male     1.0    0.0  24.000000  247.5208    0.0   \n",
       "4         0        C    male     1.0    0.0  27.000000  211.5000    0.0   \n",
       "\n",
       "   indexed_Embarked  indexed_Sex  indexed_Survived vectorized_Sex  \\\n",
       "0               1.0          1.0               0.0          (0.0)   \n",
       "1               1.0          1.0               0.0          (0.0)   \n",
       "2               1.0          0.0               0.0          (1.0)   \n",
       "3               1.0          0.0               0.0          (1.0)   \n",
       "4               1.0          0.0               0.0          (1.0)   \n",
       "\n",
       "  vectorized_Embarked                                           features  \\\n",
       "0          (0.0, 1.0)      (3.0, 0.0, 17.0, 14.4583, 0.0, 0.0, 1.0, 0.0)   \n",
       "1          (0.0, 1.0)  [3.0, 0.0, 29.69911764705882, 15.2458, 1.0, 0....   \n",
       "2          (0.0, 1.0)         [1.0, 0.0, 24.0, 79.2, 0.0, 0.0, 1.0, 1.0]   \n",
       "3          (0.0, 1.0)     [1.0, 0.0, 24.0, 247.5208, 0.0, 0.0, 1.0, 1.0]   \n",
       "4          (0.0, 1.0)        [1.0, 0.0, 27.0, 211.5, 0.0, 0.0, 1.0, 1.0]   \n",
       "\n",
       "                               rawPrediction  \\\n",
       "0    [-1.557613799281047, 1.557613799281047]   \n",
       "1  [-0.5452783751667569, 0.5452783751667569]   \n",
       "2  [-0.8927028577509448, 0.8927028577509448]   \n",
       "3  [-1.7170995127360196, 1.7170995127360196]   \n",
       "4    [-1.388713289766545, 1.388713289766545]   \n",
       "\n",
       "                                 probability  prediction  \n",
       "0   [0.1739893179761806, 0.8260106820238194]         1.0  \n",
       "1   [0.3669605542328859, 0.6330394457671141]         1.0  \n",
       "2  [0.29055236755718555, 0.7094476324428145]         1.0  \n",
       "3  [0.15224514208793857, 0.8477548579120614]         1.0  \n",
       "4  [0.19961325225967042, 0.8003867477403296]         1.0  "
      ]
     },
     "execution_count": 47,
     "metadata": {},
     "output_type": "execute_result"
    }
   ],
   "source": [
    "predictions.limit(5).toPandas()"
   ]
  },
  {
   "cell_type": "markdown",
   "metadata": {},
   "source": [
    "19\\. Obtain the AUC, f1, Accuracy, Weighted Precision, Weighted Recall for the model \n",
    "\n",
    "**tip**: we will report the same metrics below a few times. It may be handy for you to create a function for the calculation of the five metrics."
   ]
  },
  {
   "cell_type": "code",
   "execution_count": 37,
   "metadata": {},
   "outputs": [],
   "source": [
    "## Create a function that calculates the five requested metrics \n",
    "\n",
    "def reporting_metrics(prediction_df, label, prediction):\n",
    "    \n",
    "    AoC_eval = BinaryClassificationEvaluator(labelCol = label, rawPredictionCol = prediction, metricName = \"areaUnderROC\")\n",
    "    AoC = AoC_eval.evaluate(prediction_df)\n",
    "    print(\"AreaUnderROC = %s\" % AoC)\n",
    "    \n",
    "    f1_eval = MulticlassClassificationEvaluator(labelCol = label, predictionCol = prediction, metricName = \"f1\")\n",
    "    f1 = f1_eval.evaluate(prediction_df)\n",
    "    print(\"f1 = %s\" % f1)\n",
    "    \n",
    "    acc_eval = MulticlassClassificationEvaluator(labelCol = label, predictionCol = prediction, metricName = \"accuracy\")\n",
    "    acc = acc_eval.evaluate(prediction_df)\n",
    "    print(\"Accuracy = %s\" % acc)\n",
    "    \n",
    "    wp_eval = MulticlassClassificationEvaluator(labelCol= label, predictionCol = prediction, metricName = \"weightedPrecision\")\n",
    "    wp = wp_eval.evaluate(prediction_df)\n",
    "    print(\"weightedPrecision = %s\" % wp)\n",
    "    \n",
    "    wr_eval = MulticlassClassificationEvaluator(labelCol= label, predictionCol = prediction, metricName = \"weightedRecall\")\n",
    "    wr = wr_eval.evaluate(prediction_df)\n",
    "    print(\"weightedRecall = %s\" % wr)"
   ]
  },
  {
   "cell_type": "code",
   "execution_count": 38,
   "metadata": {},
   "outputs": [
    {
     "name": "stdout",
     "output_type": "stream",
     "text": [
      "AreaUnderROC = 0.7880974695407685\n",
      "f1 = 0.8046916266012225\n",
      "Accuracy = 0.8053435114503816\n",
      "weightedPrecision = 0.8042602496577647\n",
      "weightedRecall = 0.8053435114503816\n"
     ]
    }
   ],
   "source": [
    "## Run function to get the metrics based on the prediction, and have the results printed\n",
    "\n",
    "reporting_metrics(predictions, \"indexed_Survived\", \"prediction\")"
   ]
  },
  {
   "cell_type": "markdown",
   "metadata": {},
   "source": [
    "20\\. Fit a RandomForest model, obtain predictions, and report same the performance metrics as above"
   ]
  },
  {
   "cell_type": "code",
   "execution_count": 39,
   "metadata": {},
   "outputs": [
    {
     "data": {
      "text/html": [
       "<div>\n",
       "<style scoped>\n",
       "    .dataframe tbody tr th:only-of-type {\n",
       "        vertical-align: middle;\n",
       "    }\n",
       "\n",
       "    .dataframe tbody tr th {\n",
       "        vertical-align: top;\n",
       "    }\n",
       "\n",
       "    .dataframe thead th {\n",
       "        text-align: right;\n",
       "    }\n",
       "</style>\n",
       "<table border=\"1\" class=\"dataframe\">\n",
       "  <thead>\n",
       "    <tr style=\"text-align: right;\">\n",
       "      <th></th>\n",
       "      <th>prediction</th>\n",
       "      <th>Survived</th>\n",
       "      <th>features</th>\n",
       "    </tr>\n",
       "  </thead>\n",
       "  <tbody>\n",
       "    <tr>\n",
       "      <th>0</th>\n",
       "      <td>1.0</td>\n",
       "      <td>0</td>\n",
       "      <td>(3.0, 0.0, 17.0, 14.4583, 0.0, 0.0, 1.0, 0.0)</td>\n",
       "    </tr>\n",
       "    <tr>\n",
       "      <th>1</th>\n",
       "      <td>1.0</td>\n",
       "      <td>0</td>\n",
       "      <td>[3.0, 0.0, 29.69911764705882, 15.2458, 1.0, 0....</td>\n",
       "    </tr>\n",
       "    <tr>\n",
       "      <th>2</th>\n",
       "      <td>0.0</td>\n",
       "      <td>0</td>\n",
       "      <td>[1.0, 0.0, 24.0, 79.2, 0.0, 0.0, 1.0, 1.0]</td>\n",
       "    </tr>\n",
       "    <tr>\n",
       "      <th>3</th>\n",
       "      <td>0.0</td>\n",
       "      <td>0</td>\n",
       "      <td>[1.0, 0.0, 24.0, 247.5208, 0.0, 0.0, 1.0, 1.0]</td>\n",
       "    </tr>\n",
       "    <tr>\n",
       "      <th>4</th>\n",
       "      <td>0.0</td>\n",
       "      <td>0</td>\n",
       "      <td>[1.0, 0.0, 27.0, 211.5, 0.0, 0.0, 1.0, 1.0]</td>\n",
       "    </tr>\n",
       "    <tr>\n",
       "      <th>5</th>\n",
       "      <td>0.0</td>\n",
       "      <td>0</td>\n",
       "      <td>[1.0, 0.0, 56.0, 30.6958, 0.0, 0.0, 1.0, 1.0]</td>\n",
       "    </tr>\n",
       "    <tr>\n",
       "      <th>6</th>\n",
       "      <td>0.0</td>\n",
       "      <td>0</td>\n",
       "      <td>[1.0, 0.0, 58.0, 29.7, 0.0, 0.0, 1.0, 1.0]</td>\n",
       "    </tr>\n",
       "    <tr>\n",
       "      <th>7</th>\n",
       "      <td>0.0</td>\n",
       "      <td>0</td>\n",
       "      <td>[1.0, 0.0, 65.0, 61.9792, 0.0, 0.0, 1.0, 1.0]</td>\n",
       "    </tr>\n",
       "  </tbody>\n",
       "</table>\n",
       "</div>"
      ],
      "text/plain": [
       "   prediction  Survived                                           features\n",
       "0         1.0         0      (3.0, 0.0, 17.0, 14.4583, 0.0, 0.0, 1.0, 0.0)\n",
       "1         1.0         0  [3.0, 0.0, 29.69911764705882, 15.2458, 1.0, 0....\n",
       "2         0.0         0         [1.0, 0.0, 24.0, 79.2, 0.0, 0.0, 1.0, 1.0]\n",
       "3         0.0         0     [1.0, 0.0, 24.0, 247.5208, 0.0, 0.0, 1.0, 1.0]\n",
       "4         0.0         0        [1.0, 0.0, 27.0, 211.5, 0.0, 0.0, 1.0, 1.0]\n",
       "5         0.0         0      [1.0, 0.0, 56.0, 30.6958, 0.0, 0.0, 1.0, 1.0]\n",
       "6         0.0         0         [1.0, 0.0, 58.0, 29.7, 0.0, 0.0, 1.0, 1.0]\n",
       "7         0.0         0      [1.0, 0.0, 65.0, 61.9792, 0.0, 0.0, 1.0, 1.0]"
      ]
     },
     "execution_count": 39,
     "metadata": {},
     "output_type": "execute_result"
    }
   ],
   "source": [
    "## Create a RForest model - I hard coded a maxDept and numTrees different from the default to demonstrate the performance tuning aspect\n",
    "\n",
    "rf = RandomForestClassifier(labelCol = \"indexed_Survived\", featuresCol = \"features\", maxDepth = 3, numTrees = 25)\n",
    "\n",
    "## Create the RForest Pipeline and stage it as variable rf_pl\n",
    "rf_pl = Pipeline(stages = [embark_indexer, gender_indexer, survive_indexer, gender_encoder, embark_encoder, va, rf])\n",
    "\n",
    "## Fit the RForest model on the train DataFrame\n",
    "rf_model = rf_pl.fit(train)\n",
    "\n",
    "## Make the predictions based on the fitted RForest model\n",
    "rf_predictions = rf_model.transform(test)\n",
    "\n",
    "## Show the final predictions DataFrame for the RForest model\n",
    "rf_predictions.select(\"prediction\", \"Survived\", \"features\").toPandas().head(8)"
   ]
  },
  {
   "cell_type": "code",
   "execution_count": 40,
   "metadata": {},
   "outputs": [
    {
     "name": "stdout",
     "output_type": "stream",
     "text": [
      "AreaUnderROC = 0.7908153701968135\n",
      "f1 = 0.8139682735906119\n",
      "Accuracy = 0.816793893129771\n",
      "weightedPrecision = 0.8148577169255591\n",
      "weightedRecall = 0.8167938931297709\n"
     ]
    }
   ],
   "source": [
    "## Run the reporting metrics function to see how the RForest model performed.  It should be SLIGHTLY better than our Logistic Regression model.\n",
    "\n",
    "reporting_metrics(rf_predictions, \"indexed_Survived\", \"prediction\")"
   ]
  },
  {
   "cell_type": "markdown",
   "metadata": {},
   "source": [
    "21\\. RandomForest has a few parameters can be further tuned. We are considering among these:\n",
    "\n",
    "- maxDepth: {3, 5}\n",
    "- numTrees: {15, 20, 25}\n",
    "\n",
    "\n",
    "Use CrossValidator (3 folds) to find the best parameter combination. Obtain predictions using the best model (using areaUnderROC as a metric), and report same the performance metrics as above."
   ]
  },
  {
   "cell_type": "code",
   "execution_count": 41,
   "metadata": {},
   "outputs": [],
   "source": [
    "## Create the ParamGrid to test the other combinations as requested.  We will test a maxDepth of 3 and 5, and numTrees of 15, 20, 25\n",
    "paramGrid = ParamGridBuilder().addGrid(rf.maxDepth,[3,5]).addGrid(rf.numTrees, [15, 20, 25]).build()\n",
    "\n",
    "## Build an evaluator to test the RForest Classifier using areaUnderROC as the test metric\n",
    "evaluator = BinaryClassificationEvaluator(labelCol = 'indexed_Survived', rawPredictionCol = 'prediction', metricName='areaUnderROC')\n",
    "\n",
    "## Build the cross validator based on the RForest Pipeline above, the ParamGrid, the evaluation metrics, and 3 folds\n",
    "crossval = CrossValidator(estimator = rf_pl, estimatorParamMaps = paramGrid, evaluator = evaluator, numFolds = 3)"
   ]
  },
  {
   "cell_type": "code",
   "execution_count": 42,
   "metadata": {},
   "outputs": [
    {
     "data": {
      "text/html": [
       "<div>\n",
       "<style scoped>\n",
       "    .dataframe tbody tr th:only-of-type {\n",
       "        vertical-align: middle;\n",
       "    }\n",
       "\n",
       "    .dataframe tbody tr th {\n",
       "        vertical-align: top;\n",
       "    }\n",
       "\n",
       "    .dataframe thead th {\n",
       "        text-align: right;\n",
       "    }\n",
       "</style>\n",
       "<table border=\"1\" class=\"dataframe\">\n",
       "  <thead>\n",
       "    <tr style=\"text-align: right;\">\n",
       "      <th></th>\n",
       "      <th>Survived</th>\n",
       "      <th>Embarked</th>\n",
       "      <th>Sex</th>\n",
       "      <th>Pclass</th>\n",
       "      <th>SibSp</th>\n",
       "      <th>Age</th>\n",
       "      <th>Fare</th>\n",
       "      <th>AgeNA</th>\n",
       "      <th>indexed_Embarked</th>\n",
       "      <th>indexed_Sex</th>\n",
       "      <th>indexed_Survived</th>\n",
       "      <th>vectorized_Sex</th>\n",
       "      <th>vectorized_Embarked</th>\n",
       "      <th>features</th>\n",
       "      <th>rawPrediction</th>\n",
       "      <th>probability</th>\n",
       "      <th>prediction</th>\n",
       "    </tr>\n",
       "  </thead>\n",
       "  <tbody>\n",
       "    <tr>\n",
       "      <th>0</th>\n",
       "      <td>0</td>\n",
       "      <td>C</td>\n",
       "      <td>female</td>\n",
       "      <td>3.0</td>\n",
       "      <td>0.0</td>\n",
       "      <td>17.000000</td>\n",
       "      <td>14.4583</td>\n",
       "      <td>0.0</td>\n",
       "      <td>1.0</td>\n",
       "      <td>1.0</td>\n",
       "      <td>0.0</td>\n",
       "      <td>(0.0)</td>\n",
       "      <td>(0.0, 1.0)</td>\n",
       "      <td>(3.0, 0.0, 17.0, 14.4583, 0.0, 0.0, 1.0, 0.0)</td>\n",
       "      <td>[10.244450379909571, 14.755549620090433]</td>\n",
       "      <td>[0.4097780151963828, 0.5902219848036172]</td>\n",
       "      <td>1.0</td>\n",
       "    </tr>\n",
       "    <tr>\n",
       "      <th>1</th>\n",
       "      <td>0</td>\n",
       "      <td>C</td>\n",
       "      <td>female</td>\n",
       "      <td>3.0</td>\n",
       "      <td>0.0</td>\n",
       "      <td>29.699118</td>\n",
       "      <td>15.2458</td>\n",
       "      <td>1.0</td>\n",
       "      <td>1.0</td>\n",
       "      <td>1.0</td>\n",
       "      <td>0.0</td>\n",
       "      <td>(0.0)</td>\n",
       "      <td>(0.0, 1.0)</td>\n",
       "      <td>[3.0, 0.0, 29.69911764705882, 15.2458, 1.0, 0....</td>\n",
       "      <td>[8.807304307249915, 16.192695692750085]</td>\n",
       "      <td>[0.3522921722899966, 0.6477078277100035]</td>\n",
       "      <td>1.0</td>\n",
       "    </tr>\n",
       "    <tr>\n",
       "      <th>2</th>\n",
       "      <td>0</td>\n",
       "      <td>C</td>\n",
       "      <td>male</td>\n",
       "      <td>1.0</td>\n",
       "      <td>0.0</td>\n",
       "      <td>24.000000</td>\n",
       "      <td>79.2000</td>\n",
       "      <td>0.0</td>\n",
       "      <td>1.0</td>\n",
       "      <td>0.0</td>\n",
       "      <td>0.0</td>\n",
       "      <td>(1.0)</td>\n",
       "      <td>(0.0, 1.0)</td>\n",
       "      <td>[1.0, 0.0, 24.0, 79.2, 0.0, 0.0, 1.0, 1.0]</td>\n",
       "      <td>[15.759949003040537, 9.240050996959466]</td>\n",
       "      <td>[0.6303979601216214, 0.3696020398783786]</td>\n",
       "      <td>0.0</td>\n",
       "    </tr>\n",
       "  </tbody>\n",
       "</table>\n",
       "</div>"
      ],
      "text/plain": [
       "   Survived Embarked     Sex  Pclass  SibSp        Age     Fare  AgeNA  \\\n",
       "0         0        C  female     3.0    0.0  17.000000  14.4583    0.0   \n",
       "1         0        C  female     3.0    0.0  29.699118  15.2458    1.0   \n",
       "2         0        C    male     1.0    0.0  24.000000  79.2000    0.0   \n",
       "\n",
       "   indexed_Embarked  indexed_Sex  indexed_Survived vectorized_Sex  \\\n",
       "0               1.0          1.0               0.0          (0.0)   \n",
       "1               1.0          1.0               0.0          (0.0)   \n",
       "2               1.0          0.0               0.0          (1.0)   \n",
       "\n",
       "  vectorized_Embarked                                           features  \\\n",
       "0          (0.0, 1.0)      (3.0, 0.0, 17.0, 14.4583, 0.0, 0.0, 1.0, 0.0)   \n",
       "1          (0.0, 1.0)  [3.0, 0.0, 29.69911764705882, 15.2458, 1.0, 0....   \n",
       "2          (0.0, 1.0)         [1.0, 0.0, 24.0, 79.2, 0.0, 0.0, 1.0, 1.0]   \n",
       "\n",
       "                              rawPrediction  \\\n",
       "0  [10.244450379909571, 14.755549620090433]   \n",
       "1   [8.807304307249915, 16.192695692750085]   \n",
       "2   [15.759949003040537, 9.240050996959466]   \n",
       "\n",
       "                                probability  prediction  \n",
       "0  [0.4097780151963828, 0.5902219848036172]         1.0  \n",
       "1  [0.3522921722899966, 0.6477078277100035]         1.0  \n",
       "2  [0.6303979601216214, 0.3696020398783786]         0.0  "
      ]
     },
     "execution_count": 42,
     "metadata": {},
     "output_type": "execute_result"
    }
   ],
   "source": [
    "## Run the CrossValidator on the train dataset and create a new output rf_model_2\n",
    "rf_model_2 = crossval.fit(train)\n",
    "\n",
    "## Transform the test data set and try to do a better job predicting!\n",
    "transformed_data = rf_model_2.transform(test)\n",
    "\n",
    "## Show a few lines of the final transformed test data to see if it worked\n",
    "transformed_data.toPandas().head(3)"
   ]
  },
  {
   "cell_type": "code",
   "execution_count": 43,
   "metadata": {},
   "outputs": [
    {
     "name": "stdout",
     "output_type": "stream",
     "text": [
      "AreaUnderROC = 0.7892845985629491\n",
      "f1 = 0.8215881857839298\n",
      "Accuracy = 0.8282442748091603\n",
      "weightedPrecision = 0.8325688585331013\n",
      "weightedRecall = 0.8282442748091603\n"
     ]
    }
   ],
   "source": [
    "## Run function to get the metrics based on the improved RF prediction, and have the results printed\n",
    "\n",
    "reporting_metrics(transformed_data, \"indexed_Survived\", \"prediction\")"
   ]
  },
  {
   "cell_type": "code",
   "execution_count": 44,
   "metadata": {},
   "outputs": [],
   "source": [
    "## Much better results this time!  What an improvement!"
   ]
  },
  {
   "cell_type": "markdown",
   "metadata": {},
   "source": [
    "22\\. What are the parameters selected by the CrossValidator?\n",
    "\n",
    "**tip**: \n",
    "- CrossValidator's `bestModel` stores the best model\n",
    "- You can call the best random forest model's `explainParam(parametername)` to see the value of a given parameter\n"
   ]
  },
  {
   "cell_type": "code",
   "execution_count": 45,
   "metadata": {},
   "outputs": [
    {
     "name": "stdout",
     "output_type": "stream",
     "text": [
      "RandomForestClassificationModel (uid=RandomForestClassifier_1bd815745ac8) with 25 trees\n"
     ]
    }
   ],
   "source": [
    "## Select the best model and just print out the winner!\n",
    "best_model = rf_model_2.bestModel.stages[-1]\n",
    "\n",
    "print(best_model)"
   ]
  },
  {
   "cell_type": "code",
   "execution_count": 46,
   "metadata": {},
   "outputs": [
    {
     "name": "stdout",
     "output_type": "stream",
     "text": [
      "The CrossValidator selected 25 numTrees param for the best random forest model.\n",
      "\n",
      "The CrossValidator selected 5 maxDepth param for the best random forest model.\n"
     ]
    }
   ],
   "source": [
    "## Display the selected parameters chosen by the CrossValidator\n",
    "\n",
    "print(\"The CrossValidator selected {} numTrees param for the best random forest model.\".format(best_model.explainParam(\"numTrees\")[-3:-1]))\n",
    "\n",
    "print()\n",
    "\n",
    "print(\"The CrossValidator selected {} maxDepth param for the best random forest model.\".format(best_model.explainParam(\"numTrees\")[-2]))"
   ]
  }
 ],
 "metadata": {
  "anaconda-cloud": {},
  "kernelspec": {
   "display_name": "Pyspark (Py3)",
   "language": "",
   "name": "pyspark"
  },
  "language_info": {
   "codemirror_mode": {
    "name": "ipython",
    "version": 3
   },
   "file_extension": ".py",
   "mimetype": "text/x-python",
   "name": "python",
   "nbconvert_exporter": "python",
   "pygments_lexer": "ipython3",
   "version": "3.6.7"
  }
 },
 "nbformat": 4,
 "nbformat_minor": 1
}
