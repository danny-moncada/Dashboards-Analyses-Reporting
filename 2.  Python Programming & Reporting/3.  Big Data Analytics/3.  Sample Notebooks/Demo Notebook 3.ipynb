{
 "cells": [
  {
   "cell_type": "code",
   "execution_count": 1,
   "metadata": {},
   "outputs": [
    {
     "data": {
      "text/html": [
       "<style>.container { width:100% !important; }</style>"
      ],
      "text/plain": [
       "<IPython.core.display.HTML object>"
      ]
     },
     "metadata": {},
     "output_type": "display_data"
    }
   ],
   "source": [
    "from IPython.core.display import display, HTML\n",
    "display(HTML(\"<style>.container { width:100% !important; }</style>\"))"
   ]
  },
  {
   "cell_type": "markdown",
   "metadata": {},
   "source": [
    "# 2019 Part-time MSBA 6330 Final Exam, Part 2 - Danny Moncada"
   ]
  },
  {
   "cell_type": "markdown",
   "metadata": {},
   "source": [
    "This workbook contains no actual questions. For actual questions, please go to [final exam questions](http://idsdl.csom.umn.edu/c/bigdata19/index.php?p=showsolution&key==Y2dz5yZrdTU24WTC1SbyVGdklWbc52bpRXds92c&after=5EDMy8SOw8COwACMwoDMwoDO) (user: guest ; password: 1234321). This exam questions is view only by design as I don't want to questions to be distributed. \n",
    "\n",
    "Feel free to open the exam questions on a different screen or a computer/mobile device."
   ]
  },
  {
   "cell_type": "markdown",
   "metadata": {},
   "source": [
    "## A. Using Spark RDD to process `movies.dat`"
   ]
  },
  {
   "cell_type": "markdown",
   "metadata": {},
   "source": [
    "1\\. [http://idsdl.csom.umn.edu/c/share/movies.dat](http://idsdl.csom.umn.edu/c/share/movies.dat)"
   ]
  },
  {
   "cell_type": "code",
   "execution_count": 2,
   "metadata": {},
   "outputs": [
    {
     "name": "stdout",
     "output_type": "stream",
     "text": [
      "--2019-08-16 20:04:12--  http://idsdl.csom.umn.edu/c/share/movies.dat\r\n",
      "Resolving idsdl.csom.umn.edu (idsdl.csom.umn.edu)... 134.84.138.46, 2607:ea00:101:480a:250:56ff:febb:e76b\r\n",
      "Connecting to idsdl.csom.umn.edu (idsdl.csom.umn.edu)|134.84.138.46|:80... connected.\r\n",
      "HTTP request sent, awaiting response... 200 OK\r\n",
      "Length: 171308 (167K)\r\n",
      "Saving to: ‘movies.dat’\r\n",
      "\r\n",
      "\r",
      "movies.dat            0%[                    ]       0  --.-KB/s               \r",
      "movies.dat          100%[===================>] 167.29K  --.-KB/s    in 0.005s  \r\n",
      "\r\n",
      "2019-08-16 20:04:12 (35.2 MB/s) - ‘movies.dat’ saved [171308/171308]\r\n",
      "\r\n"
     ]
    }
   ],
   "source": [
    "! wget http://idsdl.csom.umn.edu/c/share/movies.dat"
   ]
  },
  {
   "cell_type": "code",
   "execution_count": 3,
   "metadata": {},
   "outputs": [
    {
     "name": "stdout",
     "output_type": "stream",
     "text": [
      "1::Toy Story (1995)::Animation|Children's|Comedy\r\n",
      "2::Jumanji (1995)::Adventure|Children's|Fantasy\r\n",
      "3::Grumpier Old Men (1995)::Comedy|Romance\r\n",
      "4::Waiting to Exhale (1995)::Comedy|Drama\r\n",
      "5::Father of the Bride Part II (1995)::Comedy\r\n",
      "6::Heat (1995)::Action|Crime|Thriller\r\n",
      "7::Sabrina (1995)::Comedy|Romance\r\n",
      "8::Tom and Huck (1995)::Adventure|Children's\r\n",
      "9::Sudden Death (1995)::Action\r\n",
      "10::GoldenEye (1995)::Action|Adventure|Thriller\r\n"
     ]
    }
   ],
   "source": [
    "! head -10 movies.dat"
   ]
  },
  {
   "cell_type": "markdown",
   "metadata": {},
   "source": [
    "2\\."
   ]
  },
  {
   "cell_type": "code",
   "execution_count": 8,
   "metadata": {},
   "outputs": [],
   "source": [
    "## Create an RDD from the movies.dat file, split each line on :: since that is the delimiter as per looking at the file above.\n",
    "\n",
    "movies = sc.textFile(\"movies.dat\") \\\n",
    "    .map(lambda line: line.split(\"::\"))"
   ]
  },
  {
   "cell_type": "code",
   "execution_count": 9,
   "metadata": {},
   "outputs": [
    {
     "data": {
      "text/plain": [
       "PythonRDD[10] at RDD at PythonRDD.scala:53"
      ]
     },
     "execution_count": 9,
     "metadata": {},
     "output_type": "execute_result"
    }
   ],
   "source": [
    "## Cache the RDD so that it doesn't read the data file again.\n",
    "\n",
    "movies.cache()"
   ]
  },
  {
   "cell_type": "markdown",
   "metadata": {},
   "source": [
    "3\\. "
   ]
  },
  {
   "cell_type": "code",
   "execution_count": 11,
   "metadata": {},
   "outputs": [
    {
     "data": {
      "text/plain": [
       "3883"
      ]
     },
     "execution_count": 11,
     "metadata": {},
     "output_type": "execute_result"
    }
   ],
   "source": [
    "movies.collect()\n",
    "movies.count()"
   ]
  },
  {
   "cell_type": "markdown",
   "metadata": {},
   "source": [
    "**Question**: Explain the role of cache()."
   ]
  },
  {
   "cell_type": "markdown",
   "metadata": {},
   "source": [
    "**Answer**: `count` and `collect` are both \"Action\" operations on an RDD.  These return a local data set / value.  What caching does is makes it so that the file isn't read twice - it keeps the RDD in memory.  That being said, the two \"Action\" operations still read through the whole data frame twice, the first time when it \"collects\" and displays output, and the second time when it performs the \"count\" function to display how many rows are in the RDD.  Caching is nice if you had to filter and THEN do a count, since it would just read the RDD (that was already in memory) once.  However, in this instance, it still has to read the RDD twice so it's not as useful/effective."
   ]
  },
  {
   "cell_type": "markdown",
   "metadata": {},
   "source": [
    "4\\. "
   ]
  },
  {
   "cell_type": "code",
   "execution_count": 12,
   "metadata": {},
   "outputs": [
    {
     "data": {
      "text/plain": [
       "[['1', 'Toy Story (1995)', \"Animation|Children's|Comedy\"],\n",
       " ['2', 'Jumanji (1995)', \"Adventure|Children's|Fantasy\"],\n",
       " ['3', 'Grumpier Old Men (1995)', 'Comedy|Romance'],\n",
       " ['4', 'Waiting to Exhale (1995)', 'Comedy|Drama'],\n",
       " ['5', 'Father of the Bride Part II (1995)', 'Comedy'],\n",
       " ['6', 'Heat (1995)', 'Action|Crime|Thriller'],\n",
       " ['7', 'Sabrina (1995)', 'Comedy|Romance'],\n",
       " ['8', 'Tom and Huck (1995)', \"Adventure|Children's\"],\n",
       " ['9', 'Sudden Death (1995)', 'Action'],\n",
       " ['10', 'GoldenEye (1995)', 'Action|Adventure|Thriller']]"
      ]
     },
     "execution_count": 12,
     "metadata": {},
     "output_type": "execute_result"
    }
   ],
   "source": [
    "## Show the first ten rows of the RDD\n",
    "\n",
    "movies.take(10)"
   ]
  },
  {
   "cell_type": "markdown",
   "metadata": {},
   "source": [
    "5\\. "
   ]
  },
  {
   "cell_type": "code",
   "execution_count": 13,
   "metadata": {},
   "outputs": [],
   "source": [
    "import re\n",
    "# the regular expression pattern has been given to you.\n",
    "pattern = re.compile(\"(.*)\\((\\d+)\\)$\")\n",
    "\n",
    "def parse_nameyear(s):\n",
    "    ''' parse the string s and return [name,year]. In case of error, returns [None, None]\n",
    "        e.g. parse_nameyear(\"Tom and Huck (1995)\") returns [\"Tom and Huck\", \"1995\"]\n",
    "    '''\n",
    "    matched = pattern.match(s)\n",
    "    if matched:\n",
    "        return [matched.group(1).strip(),int(matched.group(2))]\n",
    "    else:\n",
    "        return [None, None]"
   ]
  },
  {
   "cell_type": "code",
   "execution_count": 22,
   "metadata": {},
   "outputs": [],
   "source": [
    "## Create a function to get the elements that we want, movieid, movie name, year\n",
    "## Creates a tuple with movieid (as int), movie name, year (as int)\n",
    "\n",
    "def movie_year(line):\n",
    "    return int(line[0]), parse_nameyear(line[1])[0], int(parse_nameyear(line[1])[1])"
   ]
  },
  {
   "cell_type": "code",
   "execution_count": 24,
   "metadata": {},
   "outputs": [],
   "source": [
    "## Create an RDD movieyear from movies using my function, that gets me movieid, movie name, year\n",
    "\n",
    "movieyear = movies.map(lambda r: movie_year(r))"
   ]
  },
  {
   "cell_type": "code",
   "execution_count": 25,
   "metadata": {},
   "outputs": [
    {
     "data": {
      "text/plain": [
       "[(1, 'Toy Story', 1995),\n",
       " (2, 'Jumanji', 1995),\n",
       " (3, 'Grumpier Old Men', 1995),\n",
       " (4, 'Waiting to Exhale', 1995),\n",
       " (5, 'Father of the Bride Part II', 1995)]"
      ]
     },
     "execution_count": 25,
     "metadata": {},
     "output_type": "execute_result"
    }
   ],
   "source": [
    "## Verify the content of the RDD\n",
    "\n",
    "movieyear.take(5)"
   ]
  },
  {
   "cell_type": "markdown",
   "metadata": {},
   "source": [
    "6\\. "
   ]
  },
  {
   "cell_type": "code",
   "execution_count": 32,
   "metadata": {},
   "outputs": [],
   "source": [
    "## Join the three elements of each row in the RDD with a \\t , then save this as the output\n",
    "\n",
    "movie_year_tab = movieyear.map(lambda r: \"\\t\".join(map(str, r)))"
   ]
  },
  {
   "cell_type": "code",
   "execution_count": 33,
   "metadata": {},
   "outputs": [],
   "source": [
    "movie_year_tab.saveAsTextFile(\"movieyear\")"
   ]
  },
  {
   "cell_type": "markdown",
   "metadata": {},
   "source": [
    "7\\. "
   ]
  },
  {
   "cell_type": "code",
   "execution_count": 37,
   "metadata": {},
   "outputs": [
    {
     "name": "stdout",
     "output_type": "stream",
     "text": [
      "total 108\r\n",
      "-rw-rw-r-- 1 vagrant vagrant 108542 Aug 16 20:24 part-00000\r\n",
      "-rw-rw-r-- 1 vagrant vagrant      0 Aug 16 20:24 _SUCCESS\r\n"
     ]
    }
   ],
   "source": [
    "## Look at the output from saving the movieyear file - it makes it a directory\n",
    "\n",
    "! ls -l movieyear/"
   ]
  },
  {
   "cell_type": "code",
   "execution_count": 36,
   "metadata": {},
   "outputs": [
    {
     "name": "stdout",
     "output_type": "stream",
     "text": [
      "1\tToy Story\t1995\r\n",
      "2\tJumanji\t1995\r\n",
      "3\tGrumpier Old Men\t1995\r\n",
      "4\tWaiting to Exhale\t1995\r\n",
      "5\tFather of the Bride Part II\t1995\r\n",
      "6\tHeat\t1995\r\n",
      "7\tSabrina\t1995\r\n",
      "8\tTom and Huck\t1995\r\n",
      "9\tSudden Death\t1995\r\n",
      "10\tGoldenEye\t1995\r\n",
      "cat: write error: Broken pipe\r\n"
     ]
    }
   ],
   "source": [
    "## Confirm the first ten rows of the file - looks good!\n",
    "\n",
    "! cat movieyear/* | head -10"
   ]
  },
  {
   "cell_type": "markdown",
   "metadata": {},
   "source": [
    "## B. Use Spark SQL to Analyze `SFPD` dataset"
   ]
  },
  {
   "cell_type": "markdown",
   "metadata": {},
   "source": [
    "8\\. [http://idsdl.csom.umn.edu/c/share/sfpd.json](http://idsdl.csom.umn.edu/c/share/sfpd.json)"
   ]
  },
  {
   "cell_type": "code",
   "execution_count": 38,
   "metadata": {},
   "outputs": [
    {
     "name": "stdout",
     "output_type": "stream",
     "text": [
      "--2019-08-16 20:27:37--  http://idsdl.csom.umn.edu/c/share/sfpd.json\n",
      "Resolving idsdl.csom.umn.edu (idsdl.csom.umn.edu)... 134.84.138.46, 2607:ea00:101:480a:250:56ff:febb:e76b\n",
      "Connecting to idsdl.csom.umn.edu (idsdl.csom.umn.edu)|134.84.138.46|:80... connected.\n",
      "HTTP request sent, awaiting response... 200 OK\n",
      "Length: 1863319 (1.8M) [application/json]\n",
      "Saving to: ‘sfpd.json’\n",
      "\n",
      "sfpd.json           100%[===================>]   1.78M  --.-KB/s    in 0.1s    \n",
      "\n",
      "2019-08-16 20:27:37 (15.3 MB/s) - ‘sfpd.json’ saved [1863319/1863319]\n",
      "\n"
     ]
    }
   ],
   "source": [
    "## Download the file\n",
    "\n",
    "! wget http://idsdl.csom.umn.edu/c/share/sfpd.json"
   ]
  },
  {
   "cell_type": "code",
   "execution_count": 39,
   "metadata": {},
   "outputs": [
    {
     "name": "stdout",
     "output_type": "stream",
     "text": [
      "{\"Category\": \"FRAUD\", \"Descript\": \"CREDIT CARD, THEFT BY USE OF\", \"PdDistrict\": \"CENTRAL\", \"Location\": \"(37.7878271137225, -122.408384275542)\", \"IncidentNum\": \"150446227\", \"Time\": \"23:59\", \"Y\": 37.7878271137225, \"X\": -122.408384275542, \"Resolution\": \"NONE\", \"DayOfWeek\": \"Thursday\", \"Address\": \"300 Block of POWELL ST\", \"Date\": \"05/21/2015\", \"PdId\": 15044622709320}\r\n",
      "{\"Category\": \"NON-CRIMINAL\", \"Descript\": \"LOST PROPERTY\", \"PdDistrict\": \"CENTRAL\", \"Location\": \"(37.7878271137225, -122.408384275542)\", \"IncidentNum\": \"150446227\", \"Time\": \"23:59\", \"Y\": 37.7878271137225, \"X\": -122.408384275542, \"Resolution\": \"NONE\", \"DayOfWeek\": \"Thursday\", \"Address\": \"300 Block of POWELL ST\", \"Date\": \"05/21/2015\", \"PdId\": 15044622771000}\r\n",
      "{\"Category\": \"WARRANTS\", \"Descript\": \"ENROUTE TO OUTSIDE JURISDICTION\", \"PdDistrict\": \"CENTRAL\", \"Location\": \"(37.8082613305439, -122.414988252591)\", \"IncidentNum\": \"150444550\", \"Time\": \"23:54\", \"Y\": 37.8082613305439, \"X\": -122.414988252591, \"Resolution\": \"ARREST, BOOKED\", \"DayOfWeek\": \"Thursday\", \"Address\": \"100 Block of JEFFERSON ST\", \"Date\": \"05/21/2015\", \"PdId\": 15044455062050}\r\n",
      "{\"Category\": \"WARRANTS\", \"Descript\": \"WARRANT ARREST\", \"PdDistrict\": \"CENTRAL\", \"Location\": \"(37.8082613305439, -122.414988252591)\", \"IncidentNum\": \"150444550\", \"Time\": \"23:54\", \"Y\": 37.8082613305439, \"X\": -122.414988252591, \"Resolution\": \"ARREST, BOOKED\", \"DayOfWeek\": \"Thursday\", \"Address\": \"100 Block of JEFFERSON ST\", \"Date\": \"05/21/2015\", \"PdId\": 15044455063010}\r\n",
      "{\"Category\": \"OTHER OFFENSES\", \"Descript\": \"TRAFFIC VIOLATION ARREST\", \"PdDistrict\": \"CENTRAL\", \"Location\": \"(37.8082613305439, -122.414988252591)\", \"IncidentNum\": \"150444550\", \"Time\": \"23:54\", \"Y\": 37.8082613305439, \"X\": -122.414988252591, \"Resolution\": \"ARREST, BOOKED\", \"DayOfWeek\": \"Thursday\", \"Address\": \"100 Block of JEFFERSON ST\", \"Date\": \"05/21/2015\", \"PdId\": 15044455065010}\r\n"
     ]
    }
   ],
   "source": [
    "## Examine the first 5 rows\n",
    "\n",
    "! head -5 sfpd.json"
   ]
  },
  {
   "cell_type": "markdown",
   "metadata": {},
   "source": [
    "9\\."
   ]
  },
  {
   "cell_type": "code",
   "execution_count": 40,
   "metadata": {},
   "outputs": [],
   "source": [
    "## Use spark json reader to read in the file\n",
    "\n",
    "sfpd = spark.read.json(\"sfpd.json\")"
   ]
  },
  {
   "cell_type": "code",
   "execution_count": 41,
   "metadata": {},
   "outputs": [
    {
     "name": "stdout",
     "output_type": "stream",
     "text": [
      "root\n",
      " |-- Address: string (nullable = true)\n",
      " |-- Category: string (nullable = true)\n",
      " |-- Date: string (nullable = true)\n",
      " |-- DayOfWeek: string (nullable = true)\n",
      " |-- Descript: string (nullable = true)\n",
      " |-- IncidentNum: string (nullable = true)\n",
      " |-- Location: string (nullable = true)\n",
      " |-- PdDistrict: string (nullable = true)\n",
      " |-- PdId: long (nullable = true)\n",
      " |-- Resolution: string (nullable = true)\n",
      " |-- Time: string (nullable = true)\n",
      " |-- X: double (nullable = true)\n",
      " |-- Y: double (nullable = true)\n",
      "\n"
     ]
    }
   ],
   "source": [
    "## Examine the DataFrame schema to make sure it looks good - per the data types in the instructions, everything is a string except for X and Y, we'll leave them as DOUBLE\n",
    "\n",
    "sfpd.printSchema()"
   ]
  },
  {
   "cell_type": "code",
   "execution_count": 43,
   "metadata": {},
   "outputs": [
    {
     "data": {
      "text/html": [
       "<div>\n",
       "<style scoped>\n",
       "    .dataframe tbody tr th:only-of-type {\n",
       "        vertical-align: middle;\n",
       "    }\n",
       "\n",
       "    .dataframe tbody tr th {\n",
       "        vertical-align: top;\n",
       "    }\n",
       "\n",
       "    .dataframe thead th {\n",
       "        text-align: right;\n",
       "    }\n",
       "</style>\n",
       "<table border=\"1\" class=\"dataframe\">\n",
       "  <thead>\n",
       "    <tr style=\"text-align: right;\">\n",
       "      <th></th>\n",
       "      <th>Address</th>\n",
       "      <th>Category</th>\n",
       "      <th>Date</th>\n",
       "      <th>DayOfWeek</th>\n",
       "      <th>Descript</th>\n",
       "      <th>IncidentNum</th>\n",
       "      <th>Location</th>\n",
       "      <th>PdDistrict</th>\n",
       "      <th>PdId</th>\n",
       "      <th>Resolution</th>\n",
       "      <th>Time</th>\n",
       "      <th>X</th>\n",
       "      <th>Y</th>\n",
       "    </tr>\n",
       "  </thead>\n",
       "  <tbody>\n",
       "    <tr>\n",
       "      <th>0</th>\n",
       "      <td>300 Block of POWELL ST</td>\n",
       "      <td>FRAUD</td>\n",
       "      <td>05/21/2015</td>\n",
       "      <td>Thursday</td>\n",
       "      <td>CREDIT CARD, THEFT BY USE OF</td>\n",
       "      <td>150446227</td>\n",
       "      <td>(37.7878271137225, -122.408384275542)</td>\n",
       "      <td>CENTRAL</td>\n",
       "      <td>15044622709320</td>\n",
       "      <td>NONE</td>\n",
       "      <td>23:59</td>\n",
       "      <td>-122.408384</td>\n",
       "      <td>37.787827</td>\n",
       "    </tr>\n",
       "    <tr>\n",
       "      <th>1</th>\n",
       "      <td>300 Block of POWELL ST</td>\n",
       "      <td>NON-CRIMINAL</td>\n",
       "      <td>05/21/2015</td>\n",
       "      <td>Thursday</td>\n",
       "      <td>LOST PROPERTY</td>\n",
       "      <td>150446227</td>\n",
       "      <td>(37.7878271137225, -122.408384275542)</td>\n",
       "      <td>CENTRAL</td>\n",
       "      <td>15044622771000</td>\n",
       "      <td>NONE</td>\n",
       "      <td>23:59</td>\n",
       "      <td>-122.408384</td>\n",
       "      <td>37.787827</td>\n",
       "    </tr>\n",
       "    <tr>\n",
       "      <th>2</th>\n",
       "      <td>100 Block of JEFFERSON ST</td>\n",
       "      <td>WARRANTS</td>\n",
       "      <td>05/21/2015</td>\n",
       "      <td>Thursday</td>\n",
       "      <td>ENROUTE TO OUTSIDE JURISDICTION</td>\n",
       "      <td>150444550</td>\n",
       "      <td>(37.8082613305439, -122.414988252591)</td>\n",
       "      <td>CENTRAL</td>\n",
       "      <td>15044455062050</td>\n",
       "      <td>ARREST, BOOKED</td>\n",
       "      <td>23:54</td>\n",
       "      <td>-122.414988</td>\n",
       "      <td>37.808261</td>\n",
       "    </tr>\n",
       "    <tr>\n",
       "      <th>3</th>\n",
       "      <td>100 Block of JEFFERSON ST</td>\n",
       "      <td>WARRANTS</td>\n",
       "      <td>05/21/2015</td>\n",
       "      <td>Thursday</td>\n",
       "      <td>WARRANT ARREST</td>\n",
       "      <td>150444550</td>\n",
       "      <td>(37.8082613305439, -122.414988252591)</td>\n",
       "      <td>CENTRAL</td>\n",
       "      <td>15044455063010</td>\n",
       "      <td>ARREST, BOOKED</td>\n",
       "      <td>23:54</td>\n",
       "      <td>-122.414988</td>\n",
       "      <td>37.808261</td>\n",
       "    </tr>\n",
       "    <tr>\n",
       "      <th>4</th>\n",
       "      <td>100 Block of JEFFERSON ST</td>\n",
       "      <td>OTHER OFFENSES</td>\n",
       "      <td>05/21/2015</td>\n",
       "      <td>Thursday</td>\n",
       "      <td>TRAFFIC VIOLATION ARREST</td>\n",
       "      <td>150444550</td>\n",
       "      <td>(37.8082613305439, -122.414988252591)</td>\n",
       "      <td>CENTRAL</td>\n",
       "      <td>15044455065010</td>\n",
       "      <td>ARREST, BOOKED</td>\n",
       "      <td>23:54</td>\n",
       "      <td>-122.414988</td>\n",
       "      <td>37.808261</td>\n",
       "    </tr>\n",
       "  </tbody>\n",
       "</table>\n",
       "</div>"
      ],
      "text/plain": [
       "                     Address        Category        Date DayOfWeek  \\\n",
       "0     300 Block of POWELL ST           FRAUD  05/21/2015  Thursday   \n",
       "1     300 Block of POWELL ST    NON-CRIMINAL  05/21/2015  Thursday   \n",
       "2  100 Block of JEFFERSON ST        WARRANTS  05/21/2015  Thursday   \n",
       "3  100 Block of JEFFERSON ST        WARRANTS  05/21/2015  Thursday   \n",
       "4  100 Block of JEFFERSON ST  OTHER OFFENSES  05/21/2015  Thursday   \n",
       "\n",
       "                          Descript IncidentNum  \\\n",
       "0     CREDIT CARD, THEFT BY USE OF   150446227   \n",
       "1                    LOST PROPERTY   150446227   \n",
       "2  ENROUTE TO OUTSIDE JURISDICTION   150444550   \n",
       "3                   WARRANT ARREST   150444550   \n",
       "4         TRAFFIC VIOLATION ARREST   150444550   \n",
       "\n",
       "                                Location PdDistrict            PdId  \\\n",
       "0  (37.7878271137225, -122.408384275542)    CENTRAL  15044622709320   \n",
       "1  (37.7878271137225, -122.408384275542)    CENTRAL  15044622771000   \n",
       "2  (37.8082613305439, -122.414988252591)    CENTRAL  15044455062050   \n",
       "3  (37.8082613305439, -122.414988252591)    CENTRAL  15044455063010   \n",
       "4  (37.8082613305439, -122.414988252591)    CENTRAL  15044455065010   \n",
       "\n",
       "       Resolution   Time           X          Y  \n",
       "0            NONE  23:59 -122.408384  37.787827  \n",
       "1            NONE  23:59 -122.408384  37.787827  \n",
       "2  ARREST, BOOKED  23:54 -122.414988  37.808261  \n",
       "3  ARREST, BOOKED  23:54 -122.414988  37.808261  \n",
       "4  ARREST, BOOKED  23:54 -122.414988  37.808261  "
      ]
     },
     "execution_count": 43,
     "metadata": {},
     "output_type": "execute_result"
    }
   ],
   "source": [
    "## Limit to 5 rows so we don't read in the entire DataFrame, then use toPandas to make it readable.  Looks pretty clean to me!\n",
    "\n",
    "sfpd.limit(5).toPandas()"
   ]
  },
  {
   "cell_type": "markdown",
   "metadata": {},
   "source": [
    "10\\."
   ]
  },
  {
   "cell_type": "code",
   "execution_count": 44,
   "metadata": {},
   "outputs": [
    {
     "data": {
      "text/html": [
       "<div>\n",
       "<style scoped>\n",
       "    .dataframe tbody tr th:only-of-type {\n",
       "        vertical-align: middle;\n",
       "    }\n",
       "\n",
       "    .dataframe tbody tr th {\n",
       "        vertical-align: top;\n",
       "    }\n",
       "\n",
       "    .dataframe thead th {\n",
       "        text-align: right;\n",
       "    }\n",
       "</style>\n",
       "<table border=\"1\" class=\"dataframe\">\n",
       "  <thead>\n",
       "    <tr style=\"text-align: right;\">\n",
       "      <th></th>\n",
       "      <th>summary</th>\n",
       "      <th>Address</th>\n",
       "      <th>Category</th>\n",
       "      <th>Date</th>\n",
       "      <th>DayOfWeek</th>\n",
       "      <th>Descript</th>\n",
       "      <th>IncidentNum</th>\n",
       "      <th>Location</th>\n",
       "      <th>PdDistrict</th>\n",
       "      <th>PdId</th>\n",
       "      <th>Resolution</th>\n",
       "      <th>Time</th>\n",
       "      <th>X</th>\n",
       "      <th>Y</th>\n",
       "    </tr>\n",
       "  </thead>\n",
       "  <tbody>\n",
       "    <tr>\n",
       "      <th>0</th>\n",
       "      <td>count</td>\n",
       "      <td>5000</td>\n",
       "      <td>5000</td>\n",
       "      <td>5000</td>\n",
       "      <td>5000</td>\n",
       "      <td>5000</td>\n",
       "      <td>5000</td>\n",
       "      <td>5000</td>\n",
       "      <td>5000</td>\n",
       "      <td>5000</td>\n",
       "      <td>5000</td>\n",
       "      <td>5000</td>\n",
       "      <td>5000</td>\n",
       "      <td>5000</td>\n",
       "    </tr>\n",
       "    <tr>\n",
       "      <th>1</th>\n",
       "      <td>mean</td>\n",
       "      <td>None</td>\n",
       "      <td>None</td>\n",
       "      <td>None</td>\n",
       "      <td>None</td>\n",
       "      <td>None</td>\n",
       "      <td>1.513429158822E8</td>\n",
       "      <td>None</td>\n",
       "      <td>None</td>\n",
       "      <td>1.5134291615212957E13</td>\n",
       "      <td>None</td>\n",
       "      <td>None</td>\n",
       "      <td>-122.42551042937846</td>\n",
       "      <td>37.767211340211325</td>\n",
       "    </tr>\n",
       "    <tr>\n",
       "      <th>2</th>\n",
       "      <td>stddev</td>\n",
       "      <td>None</td>\n",
       "      <td>None</td>\n",
       "      <td>None</td>\n",
       "      <td>None</td>\n",
       "      <td>None</td>\n",
       "      <td>2136698.504698914</td>\n",
       "      <td>None</td>\n",
       "      <td>None</td>\n",
       "      <td>2.136698449241794E11</td>\n",
       "      <td>None</td>\n",
       "      <td>None</td>\n",
       "      <td>0.027885011741052634</td>\n",
       "      <td>0.02465335189943103</td>\n",
       "    </tr>\n",
       "    <tr>\n",
       "      <th>3</th>\n",
       "      <td>min</td>\n",
       "      <td>0 Block of 12TH ST</td>\n",
       "      <td>ARSON</td>\n",
       "      <td>05/09/2015</td>\n",
       "      <td>Friday</td>\n",
       "      <td>ACCESS CARD INFORMATION, THEFT OF</td>\n",
       "      <td>130525465</td>\n",
       "      <td>(37.7084449580792, -122.458822989017)</td>\n",
       "      <td>BAYVIEW</td>\n",
       "      <td>13052546507023</td>\n",
       "      <td>ARREST, BOOKED</td>\n",
       "      <td>00:01</td>\n",
       "      <td>-122.513642064265</td>\n",
       "      <td>37.7084449580792</td>\n",
       "    </tr>\n",
       "    <tr>\n",
       "      <th>4</th>\n",
       "      <td>max</td>\n",
       "      <td>ZOE ST / BRANNAN ST</td>\n",
       "      <td>WEAPON LAWS</td>\n",
       "      <td>05/21/2015</td>\n",
       "      <td>Wednesday</td>\n",
       "      <td>WEAPON, POSSESS OR BRING OTHER ON SCHOOL GROUNDS</td>\n",
       "      <td>159002606</td>\n",
       "      <td>(37.819975492297, -122.37427517671)</td>\n",
       "      <td>TENDERLOIN</td>\n",
       "      <td>15900260627170</td>\n",
       "      <td>UNFOUNDED</td>\n",
       "      <td>23:59</td>\n",
       "      <td>-122.365565425353</td>\n",
       "      <td>37.819975492297</td>\n",
       "    </tr>\n",
       "  </tbody>\n",
       "</table>\n",
       "</div>"
      ],
      "text/plain": [
       "  summary              Address     Category        Date  DayOfWeek  \\\n",
       "0   count                 5000         5000        5000       5000   \n",
       "1    mean                 None         None        None       None   \n",
       "2  stddev                 None         None        None       None   \n",
       "3     min   0 Block of 12TH ST        ARSON  05/09/2015     Friday   \n",
       "4     max  ZOE ST / BRANNAN ST  WEAPON LAWS  05/21/2015  Wednesday   \n",
       "\n",
       "                                           Descript        IncidentNum  \\\n",
       "0                                              5000               5000   \n",
       "1                                              None   1.513429158822E8   \n",
       "2                                              None  2136698.504698914   \n",
       "3                 ACCESS CARD INFORMATION, THEFT OF          130525465   \n",
       "4  WEAPON, POSSESS OR BRING OTHER ON SCHOOL GROUNDS          159002606   \n",
       "\n",
       "                                Location  PdDistrict                   PdId  \\\n",
       "0                                   5000        5000                   5000   \n",
       "1                                   None        None  1.5134291615212957E13   \n",
       "2                                   None        None   2.136698449241794E11   \n",
       "3  (37.7084449580792, -122.458822989017)     BAYVIEW         13052546507023   \n",
       "4    (37.819975492297, -122.37427517671)  TENDERLOIN         15900260627170   \n",
       "\n",
       "       Resolution   Time                     X                    Y  \n",
       "0            5000   5000                  5000                 5000  \n",
       "1            None   None   -122.42551042937846   37.767211340211325  \n",
       "2            None   None  0.027885011741052634  0.02465335189943103  \n",
       "3  ARREST, BOOKED  00:01     -122.513642064265     37.7084449580792  \n",
       "4       UNFOUNDED  23:59     -122.365565425353      37.819975492297  "
      ]
     },
     "execution_count": 44,
     "metadata": {},
     "output_type": "execute_result"
    }
   ],
   "source": [
    "## Get summary statistics to make sure all elements were loaded successfully\n",
    "\n",
    "sfpd.describe().toPandas()"
   ]
  },
  {
   "cell_type": "markdown",
   "metadata": {},
   "source": [
    "-"
   ]
  },
  {
   "cell_type": "markdown",
   "metadata": {},
   "source": [
    "**Answer**: There are NO missing values, per the summary statistics.  Every column has 5000 in the count, that means that the entire dataset made it over!"
   ]
  },
  {
   "cell_type": "markdown",
   "metadata": {},
   "source": [
    "11\\. "
   ]
  },
  {
   "cell_type": "code",
   "execution_count": 46,
   "metadata": {},
   "outputs": [],
   "source": [
    "## Exclude these columns [Descript, Address, Location, PdId, IncidentNum]\n",
    "## Create a new DF sfpd2 with just the columns we want\n",
    "\n",
    "sfpd2 = sfpd.select(\"Category\", \"Date\", \"DayOfWeek\", \"PdDistrict\", \"Resolution\", \"Time\", \"X\", \"Y\")"
   ]
  },
  {
   "cell_type": "code",
   "execution_count": 47,
   "metadata": {},
   "outputs": [
    {
     "data": {
      "text/html": [
       "<div>\n",
       "<style scoped>\n",
       "    .dataframe tbody tr th:only-of-type {\n",
       "        vertical-align: middle;\n",
       "    }\n",
       "\n",
       "    .dataframe tbody tr th {\n",
       "        vertical-align: top;\n",
       "    }\n",
       "\n",
       "    .dataframe thead th {\n",
       "        text-align: right;\n",
       "    }\n",
       "</style>\n",
       "<table border=\"1\" class=\"dataframe\">\n",
       "  <thead>\n",
       "    <tr style=\"text-align: right;\">\n",
       "      <th></th>\n",
       "      <th>Category</th>\n",
       "      <th>Date</th>\n",
       "      <th>DayOfWeek</th>\n",
       "      <th>PdDistrict</th>\n",
       "      <th>Resolution</th>\n",
       "      <th>Time</th>\n",
       "      <th>X</th>\n",
       "      <th>Y</th>\n",
       "    </tr>\n",
       "  </thead>\n",
       "  <tbody>\n",
       "    <tr>\n",
       "      <th>0</th>\n",
       "      <td>FRAUD</td>\n",
       "      <td>05/21/2015</td>\n",
       "      <td>Thursday</td>\n",
       "      <td>CENTRAL</td>\n",
       "      <td>NONE</td>\n",
       "      <td>23:59</td>\n",
       "      <td>-122.408384</td>\n",
       "      <td>37.787827</td>\n",
       "    </tr>\n",
       "    <tr>\n",
       "      <th>1</th>\n",
       "      <td>NON-CRIMINAL</td>\n",
       "      <td>05/21/2015</td>\n",
       "      <td>Thursday</td>\n",
       "      <td>CENTRAL</td>\n",
       "      <td>NONE</td>\n",
       "      <td>23:59</td>\n",
       "      <td>-122.408384</td>\n",
       "      <td>37.787827</td>\n",
       "    </tr>\n",
       "    <tr>\n",
       "      <th>2</th>\n",
       "      <td>WARRANTS</td>\n",
       "      <td>05/21/2015</td>\n",
       "      <td>Thursday</td>\n",
       "      <td>CENTRAL</td>\n",
       "      <td>ARREST, BOOKED</td>\n",
       "      <td>23:54</td>\n",
       "      <td>-122.414988</td>\n",
       "      <td>37.808261</td>\n",
       "    </tr>\n",
       "    <tr>\n",
       "      <th>3</th>\n",
       "      <td>WARRANTS</td>\n",
       "      <td>05/21/2015</td>\n",
       "      <td>Thursday</td>\n",
       "      <td>CENTRAL</td>\n",
       "      <td>ARREST, BOOKED</td>\n",
       "      <td>23:54</td>\n",
       "      <td>-122.414988</td>\n",
       "      <td>37.808261</td>\n",
       "    </tr>\n",
       "    <tr>\n",
       "      <th>4</th>\n",
       "      <td>OTHER OFFENSES</td>\n",
       "      <td>05/21/2015</td>\n",
       "      <td>Thursday</td>\n",
       "      <td>CENTRAL</td>\n",
       "      <td>ARREST, BOOKED</td>\n",
       "      <td>23:54</td>\n",
       "      <td>-122.414988</td>\n",
       "      <td>37.808261</td>\n",
       "    </tr>\n",
       "  </tbody>\n",
       "</table>\n",
       "</div>"
      ],
      "text/plain": [
       "         Category        Date DayOfWeek PdDistrict      Resolution   Time  \\\n",
       "0           FRAUD  05/21/2015  Thursday    CENTRAL            NONE  23:59   \n",
       "1    NON-CRIMINAL  05/21/2015  Thursday    CENTRAL            NONE  23:59   \n",
       "2        WARRANTS  05/21/2015  Thursday    CENTRAL  ARREST, BOOKED  23:54   \n",
       "3        WARRANTS  05/21/2015  Thursday    CENTRAL  ARREST, BOOKED  23:54   \n",
       "4  OTHER OFFENSES  05/21/2015  Thursday    CENTRAL  ARREST, BOOKED  23:54   \n",
       "\n",
       "            X          Y  \n",
       "0 -122.408384  37.787827  \n",
       "1 -122.408384  37.787827  \n",
       "2 -122.414988  37.808261  \n",
       "3 -122.414988  37.808261  \n",
       "4 -122.414988  37.808261  "
      ]
     },
     "execution_count": 47,
     "metadata": {},
     "output_type": "execute_result"
    }
   ],
   "source": [
    "## Just check to make sure that new DF was created succesfully\n",
    "\n",
    "sfpd2.limit(5).toPandas()"
   ]
  },
  {
   "cell_type": "markdown",
   "metadata": {},
   "source": [
    "12\\. "
   ]
  },
  {
   "cell_type": "code",
   "execution_count": 52,
   "metadata": {},
   "outputs": [],
   "source": [
    "## Group by the DayOfWeek\n",
    "# Do a count to get the count of days\n",
    "# Rename the column for clarity\n",
    "# Order by count of days descending and show the result\n",
    "\n",
    "day_of_week_freq = sfpd2.groupBy(\"DayOfWeek\").count().withColumnRenamed(\"count\", \"count_of_days\").orderBy(\"count_of_days\", ascending = False)"
   ]
  },
  {
   "cell_type": "code",
   "execution_count": 53,
   "metadata": {},
   "outputs": [
    {
     "name": "stdout",
     "output_type": "stream",
     "text": [
      "+---------+-------------+\n",
      "|DayOfWeek|count_of_days|\n",
      "+---------+-------------+\n",
      "|   Monday|          788|\n",
      "|   Sunday|          776|\n",
      "| Saturday|          774|\n",
      "| Thursday|          757|\n",
      "|  Tuesday|          755|\n",
      "|Wednesday|          723|\n",
      "|   Friday|          427|\n",
      "+---------+-------------+\n",
      "\n"
     ]
    }
   ],
   "source": [
    "day_of_week_freq.show()"
   ]
  },
  {
   "cell_type": "markdown",
   "metadata": {},
   "source": [
    "13\\. "
   ]
  },
  {
   "cell_type": "code",
   "execution_count": 55,
   "metadata": {},
   "outputs": [
    {
     "name": "stdout",
     "output_type": "stream",
     "text": [
      "+---------------------+\n",
      "|Resolution           |\n",
      "+---------------------+\n",
      "|JUVENILE BOOKED      |\n",
      "|EXCEPTIONAL CLEARANCE|\n",
      "|ARREST, BOOKED       |\n",
      "|LOCATED              |\n",
      "|UNFOUNDED            |\n",
      "|PSYCHOPATHIC CASE    |\n",
      "|ARREST, CITED        |\n",
      "|NONE                 |\n",
      "+---------------------+\n",
      "\n"
     ]
    }
   ],
   "source": [
    "## Explore the field Resolution and determine if there are multiple values in the column, just get a distinct set of values for the column\n",
    "\n",
    "sfpd2.select(\"Resolution\").distinct().show(truncate = False)"
   ]
  },
  {
   "cell_type": "markdown",
   "metadata": {},
   "source": [
    "**Answer**: Yes, there are *two* instances of multiple values: ARREST, BOOKED and ARREST, CITED.\n",
    "\n",
    "Unrelated, but there is a resolution code for PYSCHOPATHIC CASE - YIKES!"
   ]
  },
  {
   "cell_type": "markdown",
   "metadata": {},
   "source": [
    "14\\."
   ]
  },
  {
   "cell_type": "code",
   "execution_count": 57,
   "metadata": {},
   "outputs": [],
   "source": [
    "## Import sql functions for the manipulation below, and then much later on in the notebook\n",
    "\n",
    "import pyspark.sql.functions as f"
   ]
  },
  {
   "cell_type": "code",
   "execution_count": 67,
   "metadata": {},
   "outputs": [],
   "source": [
    "## A lot in this step, so we take it one at a time\n",
    "## The first line creates a new column called \"resolution\", where I split the \"Resolution\" column on the \", \" so I can split the ARREST/BOOKED and ARREST/CITED into two buckets\n",
    "## Explode them so that there is a row for each - so that we don't mess up the count\n",
    "## Group them by resolution, our newly renamed column\n",
    "## Peform a count\n",
    "## Rename the count column to num_case\n",
    "## Order by num_case in descending order\n",
    "\n",
    "\n",
    "case_freq = sfpd2.withColumn(\"resolution\", f.explode(f.split(sfpd2.Resolution, \", \"))) \\\n",
    "        .groupBy(\"resolution\") \\\n",
    "        .count() \\\n",
    "        .withColumnRenamed(\"count\", \"num_case\") \\\n",
    "        .orderBy(\"num_case\", ascending = False)"
   ]
  },
  {
   "cell_type": "code",
   "execution_count": 68,
   "metadata": {},
   "outputs": [
    {
     "data": {
      "text/html": [
       "<div>\n",
       "<style scoped>\n",
       "    .dataframe tbody tr th:only-of-type {\n",
       "        vertical-align: middle;\n",
       "    }\n",
       "\n",
       "    .dataframe tbody tr th {\n",
       "        vertical-align: top;\n",
       "    }\n",
       "\n",
       "    .dataframe thead th {\n",
       "        text-align: right;\n",
       "    }\n",
       "</style>\n",
       "<table border=\"1\" class=\"dataframe\">\n",
       "  <thead>\n",
       "    <tr style=\"text-align: right;\">\n",
       "      <th></th>\n",
       "      <th>resolution</th>\n",
       "      <th>num_case</th>\n",
       "    </tr>\n",
       "  </thead>\n",
       "  <tbody>\n",
       "    <tr>\n",
       "      <th>0</th>\n",
       "      <td>NONE</td>\n",
       "      <td>3642</td>\n",
       "    </tr>\n",
       "    <tr>\n",
       "      <th>1</th>\n",
       "      <td>ARREST</td>\n",
       "      <td>1221</td>\n",
       "    </tr>\n",
       "    <tr>\n",
       "      <th>2</th>\n",
       "      <td>BOOKED</td>\n",
       "      <td>1179</td>\n",
       "    </tr>\n",
       "    <tr>\n",
       "      <th>3</th>\n",
       "      <td>UNFOUNDED</td>\n",
       "      <td>60</td>\n",
       "    </tr>\n",
       "    <tr>\n",
       "      <th>4</th>\n",
       "      <td>CITED</td>\n",
       "      <td>42</td>\n",
       "    </tr>\n",
       "    <tr>\n",
       "      <th>5</th>\n",
       "      <td>JUVENILE BOOKED</td>\n",
       "      <td>36</td>\n",
       "    </tr>\n",
       "    <tr>\n",
       "      <th>6</th>\n",
       "      <td>LOCATED</td>\n",
       "      <td>19</td>\n",
       "    </tr>\n",
       "    <tr>\n",
       "      <th>7</th>\n",
       "      <td>EXCEPTIONAL CLEARANCE</td>\n",
       "      <td>14</td>\n",
       "    </tr>\n",
       "    <tr>\n",
       "      <th>8</th>\n",
       "      <td>PSYCHOPATHIC CASE</td>\n",
       "      <td>8</td>\n",
       "    </tr>\n",
       "  </tbody>\n",
       "</table>\n",
       "</div>"
      ],
      "text/plain": [
       "              resolution  num_case\n",
       "0                   NONE      3642\n",
       "1                 ARREST      1221\n",
       "2                 BOOKED      1179\n",
       "3              UNFOUNDED        60\n",
       "4                  CITED        42\n",
       "5        JUVENILE BOOKED        36\n",
       "6                LOCATED        19\n",
       "7  EXCEPTIONAL CLEARANCE        14\n",
       "8      PSYCHOPATHIC CASE         8"
      ]
     },
     "execution_count": 68,
     "metadata": {},
     "output_type": "execute_result"
    }
   ],
   "source": [
    "## Show the result as a Pandas DataFrame for readability\n",
    "\n",
    "case_freq.toPandas()"
   ]
  },
  {
   "cell_type": "markdown",
   "metadata": {},
   "source": [
    "15\\."
   ]
  },
  {
   "cell_type": "code",
   "execution_count": 69,
   "metadata": {},
   "outputs": [],
   "source": [
    "## Create a temporary view to do some SQL magic!\n",
    "\n",
    "sfpd2.createOrReplaceTempView(\"category_pdDistrict_view\")"
   ]
  },
  {
   "cell_type": "code",
   "execution_count": 80,
   "metadata": {},
   "outputs": [],
   "source": [
    "## Create a new DataFrame based on the SQL query.  We select the category, the pdDistrit, and a count for the number of cases, group them by the category then pdDistrict\n",
    "## HAVING filters out on those combinations with 30+ cases\n",
    "## Order the results in DESC order\n",
    "\n",
    "category_pdDistrict_analysis = \\\n",
    "    spark.sql(\"SELECT Category as category, PdDistrict as pdDistrict, count(*) as num_cases FROM category_pdDistrict_view GROUP BY category, pdDistrict HAVING num_cases >= 30 ORDER BY num_cases DESC\")"
   ]
  },
  {
   "cell_type": "code",
   "execution_count": 140,
   "metadata": {},
   "outputs": [
    {
     "name": "stdout",
     "output_type": "stream",
     "text": [
      "+--------------+----------+---------+\n",
      "|      category|pdDistrict|num_cases|\n",
      "+--------------+----------+---------+\n",
      "| LARCENY/THEFT|  SOUTHERN|      315|\n",
      "| LARCENY/THEFT|  NORTHERN|      249|\n",
      "| LARCENY/THEFT|   CENTRAL|      244|\n",
      "| LARCENY/THEFT|   TARAVAL|      139|\n",
      "|  NON-CRIMINAL|  SOUTHERN|      110|\n",
      "| LARCENY/THEFT|      PARK|      104|\n",
      "|OTHER OFFENSES|   MISSION|       97|\n",
      "| LARCENY/THEFT|  RICHMOND|       94|\n",
      "|OTHER OFFENSES|  SOUTHERN|       91|\n",
      "|OTHER OFFENSES|   BAYVIEW|       90|\n",
      "|OTHER OFFENSES| INGLESIDE|       83|\n",
      "| LARCENY/THEFT|   MISSION|       79|\n",
      "|  NON-CRIMINAL|   TARAVAL|       69|\n",
      "|  NON-CRIMINAL|  NORTHERN|       69|\n",
      "|       ASSAULT|   BAYVIEW|       69|\n",
      "|  NON-CRIMINAL|   CENTRAL|       69|\n",
      "| LARCENY/THEFT|   BAYVIEW|       68|\n",
      "| LARCENY/THEFT| INGLESIDE|       68|\n",
      "|  NON-CRIMINAL|   MISSION|       66|\n",
      "|       ASSAULT|   MISSION|       65|\n",
      "|       ASSAULT|  SOUTHERN|       62|\n",
      "|OTHER OFFENSES|  NORTHERN|       60|\n",
      "| LARCENY/THEFT|TENDERLOIN|       59|\n",
      "|OTHER OFFENSES|TENDERLOIN|       58|\n",
      "| VEHICLE THEFT| INGLESIDE|       57|\n",
      "|  NON-CRIMINAL|TENDERLOIN|       56|\n",
      "| VEHICLE THEFT|   MISSION|       49|\n",
      "|OTHER OFFENSES|   TARAVAL|       47|\n",
      "|  NON-CRIMINAL|  RICHMOND|       47|\n",
      "| VEHICLE THEFT|   TARAVAL|       46|\n",
      "|OTHER OFFENSES|   CENTRAL|       44|\n",
      "|  NON-CRIMINAL|   BAYVIEW|       42|\n",
      "| VEHICLE THEFT|  SOUTHERN|       41|\n",
      "|       ASSAULT| INGLESIDE|       41|\n",
      "|     VANDALISM|  SOUTHERN|       40|\n",
      "|       ASSAULT|TENDERLOIN|       40|\n",
      "|  NON-CRIMINAL|      PARK|       40|\n",
      "|       ASSAULT|  NORTHERN|       39|\n",
      "|     VANDALISM| INGLESIDE|       38|\n",
      "|     VANDALISM|  NORTHERN|       38|\n",
      "| VEHICLE THEFT|  NORTHERN|       37|\n",
      "|  NON-CRIMINAL| INGLESIDE|       36|\n",
      "|OTHER OFFENSES|      PARK|       34|\n",
      "|       ASSAULT|   TARAVAL|       33|\n",
      "|      BURGLARY| INGLESIDE|       32|\n",
      "|      BURGLARY|   CENTRAL|       32|\n",
      "| VEHICLE THEFT|   BAYVIEW|       32|\n",
      "|     VANDALISM|   BAYVIEW|       32|\n",
      "|      WARRANTS|  NORTHERN|       30|\n",
      "+--------------+----------+---------+\n",
      "\n"
     ]
    }
   ],
   "source": [
    "## Show the entire table - I did not convert to a Pandas DataFrame because this is a simple table.\n",
    "\n",
    "category_pdDistrict_analysis.show(100)"
   ]
  },
  {
   "cell_type": "markdown",
   "metadata": {},
   "source": [
    "16\\."
   ]
  },
  {
   "cell_type": "code",
   "execution_count": 82,
   "metadata": {},
   "outputs": [],
   "source": [
    "## Save sfpd2 dataframe as parquet - no need to change anything to save it as parquet - this is default behavior.  Overwrite just in case I have to do it again.\n",
    "\n",
    "sfpd2.write.mode(\"overwrite\").save(\"sfpd2\")"
   ]
  },
  {
   "cell_type": "code",
   "execution_count": 83,
   "metadata": {},
   "outputs": [
    {
     "name": "stdout",
     "output_type": "stream",
     "text": [
      "total 80\r\n",
      "-rw-rw-r-- 1 vagrant vagrant 79627 Aug 16 21:08 part-00000-dd98bd50-e316-41c7-b535-d20cf76c3cb3-c000.snappy.parquet\r\n",
      "-rw-rw-r-- 1 vagrant vagrant     0 Aug 16 21:08 _SUCCESS\r\n"
     ]
    }
   ],
   "source": [
    "! ls -l sfpd2/"
   ]
  },
  {
   "cell_type": "code",
   "execution_count": 85,
   "metadata": {},
   "outputs": [
    {
     "name": "stdout",
     "output_type": "stream",
     "text": [
      "PAR1\u0015\u0004\u0015�\b\u0015�\u0007L\u0015B\u0015\u0004\u0000\u0000�\u0004�i\u0005\u0000\u0000\u0000FRAUD\f",
      "\u0000\u0000\u0000NON-CRIMINAL\b\u0000\u0000\u0000WARRANTS\u000e\u0000\u0000\u0000OTHER OFFENSES\u0007\u0000\u0000\u0000ASSAULT\u0007\u0000\u0000\u0000ROBBERY\r",
      "\u0000\u0000\u0000LARCENY/THEFT\b\u0000\u0000\u0000BURGLARY\u0001E4MISSING PERSON\u0001/\u001c",
      "VEHICLE \u0005/P\t\u0000\u0000\u0000VANDALISM\u0016\u0000\u0000\u0000SEX \u0011s(, FORCIBLE\u000f\u0005\u001a0CONDARY CODES\u0001]8SUSPICIOUS OCC\u000b",
      "\u0001�hEAPON LAWS\r",
      "\u0000\u0000\u0000DRUG/NARCOTIC\u0005E4TOLEN PROPERTY\u00013(DRUNKENNESS!\u001b\u0000A\u0001�!\u000b",
      " TRESPASS\u0016!0PORGERY/COUNTERFEITING\u0001&\u001c",
      "GAMBLING!\u001f\u001c",
      "RUNAWAY\u0012\u0001y\u001c",
      "ISORDERL\u0001�\u0018NDUCT\u001b\u0000\u0001�\u0004IV!\r",
      "\u0010UNDER!\u0001$ INFLUENCE\u0001@PBRIBERY\r\n",
      "cat: write error: Broken pipe\r\n"
     ]
    }
   ],
   "source": [
    "## Parquet format - so unreadable to the human eye, but I just want to see that it did write data\n",
    "\n",
    "! cat sfpd2/* | head -1"
   ]
  },
  {
   "cell_type": "markdown",
   "metadata": {},
   "source": [
    "## C. Using MLlib to do Churn prediction"
   ]
  },
  {
   "cell_type": "code",
   "execution_count": 138,
   "metadata": {},
   "outputs": [],
   "source": [
    "## import the libraries for doing MLLib\n",
    "\n",
    "from pyspark.ml import Pipeline\n",
    "from pyspark.ml.classification import LogisticRegression\n",
    "from pyspark.ml.feature import VectorAssembler\n",
    "from pyspark.ml.evaluation import BinaryClassificationEvaluator\n",
    "from pyspark.ml.tuning import CrossValidator, ParamGridBuilder"
   ]
  },
  {
   "cell_type": "markdown",
   "metadata": {},
   "source": [
    "17\\. [http://idsdl.csom.umn.edu/c/share/train.csv](http://idsdl.csom.umn.edu/c/share/train.csv) and  [http://idsdl.csom.umn.edu/c/share/test.csv](http://idsdl.csom.umn.edu/c/share/test.csv)"
   ]
  },
  {
   "cell_type": "code",
   "execution_count": 87,
   "metadata": {},
   "outputs": [
    {
     "name": "stdout",
     "output_type": "stream",
     "text": [
      "--2019-08-16 21:12:00--  http://idsdl.csom.umn.edu/c/share/train.csv\r\n",
      "Resolving idsdl.csom.umn.edu (idsdl.csom.umn.edu)... 134.84.138.46, 2607:ea00:101:480a:250:56ff:febb:e76b\r\n",
      "Connecting to idsdl.csom.umn.edu (idsdl.csom.umn.edu)|134.84.138.46|:80... connected.\r\n",
      "HTTP request sent, awaiting response... 200 OK\r\n",
      "Length: 141010 (138K) [text/csv]\r\n",
      "Saving to: ‘train.csv’\r\n",
      "\r\n",
      "\r",
      "train.csv             0%[                    ]       0  --.-KB/s               \r",
      "train.csv           100%[===================>] 137.71K  --.-KB/s    in 0.003s  \r\n",
      "\r\n",
      "2019-08-16 21:12:00 (43.5 MB/s) - ‘train.csv’ saved [141010/141010]\r\n",
      "\r\n"
     ]
    }
   ],
   "source": [
    "! wget http://idsdl.csom.umn.edu/c/share/train.csv"
   ]
  },
  {
   "cell_type": "code",
   "execution_count": 88,
   "metadata": {},
   "outputs": [
    {
     "name": "stdout",
     "output_type": "stream",
     "text": [
      "--2019-08-16 21:12:09--  http://idsdl.csom.umn.edu/c/share/test.csv\r\n",
      "Resolving idsdl.csom.umn.edu (idsdl.csom.umn.edu)... 134.84.138.46, 2607:ea00:101:480a:250:56ff:febb:e76b\r\n",
      "Connecting to idsdl.csom.umn.edu (idsdl.csom.umn.edu)|134.84.138.46|:80... connected.\r\n",
      "HTTP request sent, awaiting response... 200 OK\r\n",
      "Length: 35493 (35K) [text/csv]\r\n",
      "Saving to: ‘test.csv’\r\n",
      "\r\n",
      "\r",
      "test.csv              0%[                    ]       0  --.-KB/s               \r",
      "test.csv            100%[===================>]  34.66K  --.-KB/s    in 0.003s  \r\n",
      "\r\n",
      "2019-08-16 21:12:09 (12.7 MB/s) - ‘test.csv’ saved [35493/35493]\r\n",
      "\r\n"
     ]
    }
   ],
   "source": [
    "! wget http://idsdl.csom.umn.edu/c/share/test.csv"
   ]
  },
  {
   "cell_type": "markdown",
   "metadata": {},
   "source": [
    "18\\."
   ]
  },
  {
   "cell_type": "code",
   "execution_count": 89,
   "metadata": {},
   "outputs": [
    {
     "name": "stdout",
     "output_type": "stream",
     "text": [
      "==> test.csv <==\r\n",
      "Account length,International plan,Voice mail plan,Number vmail messages,Total day minutes,Total day calls,Total eve minutes,Total eve calls,Total night minutes,Total night calls,Total intl minutes,Total intl calls,Customer service calls,Churn\r\n",
      "117,0.0,0.0,0,184.5,97,351.6,80,215.8,90,8.7,4,1,0\r\n",
      "65,0.0,0.0,0,129.1,137,228.5,83,208.8,111,12.7,6,4,1\r\n",
      "161,0.0,0.0,0,332.9,67,317.8,97,160.6,128,5.4,9,4,1\r\n",
      "111,0.0,0.0,0,110.4,103,137.3,102,189.6,105,7.7,6,2,0\r\n",
      "49,0.0,0.0,0,119.3,117,215.1,109,178.7,90,11.1,1,1,0\r\n",
      "36,0.0,1.0,30,146.3,128,162.5,80,129.3,109,14.5,6,0,0\r\n",
      "65,0.0,0.0,0,211.3,120,162.6,122,134.7,118,13.2,5,3,0\r\n",
      "119,0.0,0.0,0,159.1,114,231.3,117,143.2,91,8.8,3,5,1\r\n",
      "10,0.0,0.0,0,186.1,112,190.2,66,282.8,57,11.4,6,2,0\r\n",
      "\r\n",
      "==> train.csv <==\r\n",
      "Account length,International plan,Voice mail plan,Number vmail messages,Total day minutes,Total day calls,Total eve minutes,Total eve calls,Total night minutes,Total night calls,Total intl minutes,Total intl calls,Customer service calls,Churn\r\n",
      "128,0.0,1.0,25,265.1,110,197.4,99,244.7,91,10.0,3,1,0\r\n",
      "107,0.0,1.0,26,161.6,123,195.5,103,254.4,103,13.7,3,1,0\r\n",
      "137,0.0,0.0,0,243.4,114,121.2,110,162.6,104,12.2,5,0,0\r\n",
      "84,1.0,0.0,0,299.4,71,61.9,88,196.9,89,6.6,7,2,0\r\n",
      "75,1.0,0.0,0,166.7,113,148.3,122,186.9,121,10.1,3,3,0\r\n",
      "118,1.0,0.0,0,223.4,98,220.6,101,203.9,118,6.3,6,0,0\r\n",
      "121,0.0,1.0,24,218.2,88,348.5,108,212.6,118,7.5,7,3,0\r\n",
      "147,1.0,0.0,0,157.0,79,103.1,94,211.8,96,7.1,6,0,0\r\n",
      "141,1.0,1.0,37,258.6,84,222.0,111,326.4,97,11.2,5,0,0\r\n"
     ]
    }
   ],
   "source": [
    "## Examine first 10 lines to verify format, looks like this will be a CSV, straight forward.  Has a column header already which is nice.\n",
    "\n",
    "! head -10 *.csv"
   ]
  },
  {
   "cell_type": "markdown",
   "metadata": {},
   "source": [
    "19\\."
   ]
  },
  {
   "cell_type": "code",
   "execution_count": 91,
   "metadata": {},
   "outputs": [],
   "source": [
    "## Schema will probably be OK as well - doesn't look like a messy file\n",
    "## Load the CSVs into new DataFrames, traindata and testdata respectively.\n",
    "\n",
    "\n",
    "traindata = sqlCtx.read.format(\"csv\").option(\"header\", \"true\") \\\n",
    "    .option(\"inferSchema\", \"true\").load(\"train.csv\")\n",
    "\n",
    "testdata = sqlCtx.read.format(\"csv\").option(\"header\", \"true\") \\\n",
    "    .option(\"inferSchema\", \"true\").load(\"test.csv\")"
   ]
  },
  {
   "cell_type": "code",
   "execution_count": 94,
   "metadata": {},
   "outputs": [
    {
     "name": "stdout",
     "output_type": "stream",
     "text": [
      "root\n",
      " |-- Account length: integer (nullable = true)\n",
      " |-- International plan: double (nullable = true)\n",
      " |-- Voice mail plan: double (nullable = true)\n",
      " |-- Number vmail messages: integer (nullable = true)\n",
      " |-- Total day minutes: double (nullable = true)\n",
      " |-- Total day calls: integer (nullable = true)\n",
      " |-- Total eve minutes: double (nullable = true)\n",
      " |-- Total eve calls: integer (nullable = true)\n",
      " |-- Total night minutes: double (nullable = true)\n",
      " |-- Total night calls: integer (nullable = true)\n",
      " |-- Total intl minutes: double (nullable = true)\n",
      " |-- Total intl calls: integer (nullable = true)\n",
      " |-- Customer service calls: integer (nullable = true)\n",
      " |-- Churn: integer (nullable = true)\n",
      "\n"
     ]
    },
    {
     "data": {
      "text/html": [
       "<div>\n",
       "<style scoped>\n",
       "    .dataframe tbody tr th:only-of-type {\n",
       "        vertical-align: middle;\n",
       "    }\n",
       "\n",
       "    .dataframe tbody tr th {\n",
       "        vertical-align: top;\n",
       "    }\n",
       "\n",
       "    .dataframe thead th {\n",
       "        text-align: right;\n",
       "    }\n",
       "</style>\n",
       "<table border=\"1\" class=\"dataframe\">\n",
       "  <thead>\n",
       "    <tr style=\"text-align: right;\">\n",
       "      <th></th>\n",
       "      <th>Account length</th>\n",
       "      <th>International plan</th>\n",
       "      <th>Voice mail plan</th>\n",
       "      <th>Number vmail messages</th>\n",
       "      <th>Total day minutes</th>\n",
       "      <th>Total day calls</th>\n",
       "      <th>Total eve minutes</th>\n",
       "      <th>Total eve calls</th>\n",
       "      <th>Total night minutes</th>\n",
       "      <th>Total night calls</th>\n",
       "      <th>Total intl minutes</th>\n",
       "      <th>Total intl calls</th>\n",
       "      <th>Customer service calls</th>\n",
       "      <th>Churn</th>\n",
       "    </tr>\n",
       "  </thead>\n",
       "  <tbody>\n",
       "    <tr>\n",
       "      <th>0</th>\n",
       "      <td>128</td>\n",
       "      <td>0.0</td>\n",
       "      <td>1.0</td>\n",
       "      <td>25</td>\n",
       "      <td>265.1</td>\n",
       "      <td>110</td>\n",
       "      <td>197.4</td>\n",
       "      <td>99</td>\n",
       "      <td>244.7</td>\n",
       "      <td>91</td>\n",
       "      <td>10.0</td>\n",
       "      <td>3</td>\n",
       "      <td>1</td>\n",
       "      <td>0</td>\n",
       "    </tr>\n",
       "    <tr>\n",
       "      <th>1</th>\n",
       "      <td>107</td>\n",
       "      <td>0.0</td>\n",
       "      <td>1.0</td>\n",
       "      <td>26</td>\n",
       "      <td>161.6</td>\n",
       "      <td>123</td>\n",
       "      <td>195.5</td>\n",
       "      <td>103</td>\n",
       "      <td>254.4</td>\n",
       "      <td>103</td>\n",
       "      <td>13.7</td>\n",
       "      <td>3</td>\n",
       "      <td>1</td>\n",
       "      <td>0</td>\n",
       "    </tr>\n",
       "    <tr>\n",
       "      <th>2</th>\n",
       "      <td>137</td>\n",
       "      <td>0.0</td>\n",
       "      <td>0.0</td>\n",
       "      <td>0</td>\n",
       "      <td>243.4</td>\n",
       "      <td>114</td>\n",
       "      <td>121.2</td>\n",
       "      <td>110</td>\n",
       "      <td>162.6</td>\n",
       "      <td>104</td>\n",
       "      <td>12.2</td>\n",
       "      <td>5</td>\n",
       "      <td>0</td>\n",
       "      <td>0</td>\n",
       "    </tr>\n",
       "    <tr>\n",
       "      <th>3</th>\n",
       "      <td>84</td>\n",
       "      <td>1.0</td>\n",
       "      <td>0.0</td>\n",
       "      <td>0</td>\n",
       "      <td>299.4</td>\n",
       "      <td>71</td>\n",
       "      <td>61.9</td>\n",
       "      <td>88</td>\n",
       "      <td>196.9</td>\n",
       "      <td>89</td>\n",
       "      <td>6.6</td>\n",
       "      <td>7</td>\n",
       "      <td>2</td>\n",
       "      <td>0</td>\n",
       "    </tr>\n",
       "    <tr>\n",
       "      <th>4</th>\n",
       "      <td>75</td>\n",
       "      <td>1.0</td>\n",
       "      <td>0.0</td>\n",
       "      <td>0</td>\n",
       "      <td>166.7</td>\n",
       "      <td>113</td>\n",
       "      <td>148.3</td>\n",
       "      <td>122</td>\n",
       "      <td>186.9</td>\n",
       "      <td>121</td>\n",
       "      <td>10.1</td>\n",
       "      <td>3</td>\n",
       "      <td>3</td>\n",
       "      <td>0</td>\n",
       "    </tr>\n",
       "  </tbody>\n",
       "</table>\n",
       "</div>"
      ],
      "text/plain": [
       "   Account length  International plan  Voice mail plan  Number vmail messages  \\\n",
       "0             128                 0.0              1.0                     25   \n",
       "1             107                 0.0              1.0                     26   \n",
       "2             137                 0.0              0.0                      0   \n",
       "3              84                 1.0              0.0                      0   \n",
       "4              75                 1.0              0.0                      0   \n",
       "\n",
       "   Total day minutes  Total day calls  Total eve minutes  Total eve calls  \\\n",
       "0              265.1              110              197.4               99   \n",
       "1              161.6              123              195.5              103   \n",
       "2              243.4              114              121.2              110   \n",
       "3              299.4               71               61.9               88   \n",
       "4              166.7              113              148.3              122   \n",
       "\n",
       "   Total night minutes  Total night calls  Total intl minutes  \\\n",
       "0                244.7                 91                10.0   \n",
       "1                254.4                103                13.7   \n",
       "2                162.6                104                12.2   \n",
       "3                196.9                 89                 6.6   \n",
       "4                186.9                121                10.1   \n",
       "\n",
       "   Total intl calls  Customer service calls  Churn  \n",
       "0                 3                       1      0  \n",
       "1                 3                       1      0  \n",
       "2                 5                       0      0  \n",
       "3                 7                       2      0  \n",
       "4                 3                       3      0  "
      ]
     },
     "execution_count": 94,
     "metadata": {},
     "output_type": "execute_result"
    }
   ],
   "source": [
    "## show the DataFrame schema to confirm load was successfully, and then show the first 5 rows.  Looks good!\n",
    "\n",
    "traindata.printSchema()\n",
    "\n",
    "traindata.limit(5).toPandas()"
   ]
  },
  {
   "cell_type": "code",
   "execution_count": 95,
   "metadata": {},
   "outputs": [
    {
     "name": "stdout",
     "output_type": "stream",
     "text": [
      "root\n",
      " |-- Account length: integer (nullable = true)\n",
      " |-- International plan: double (nullable = true)\n",
      " |-- Voice mail plan: double (nullable = true)\n",
      " |-- Number vmail messages: integer (nullable = true)\n",
      " |-- Total day minutes: double (nullable = true)\n",
      " |-- Total day calls: integer (nullable = true)\n",
      " |-- Total eve minutes: double (nullable = true)\n",
      " |-- Total eve calls: integer (nullable = true)\n",
      " |-- Total night minutes: double (nullable = true)\n",
      " |-- Total night calls: integer (nullable = true)\n",
      " |-- Total intl minutes: double (nullable = true)\n",
      " |-- Total intl calls: integer (nullable = true)\n",
      " |-- Customer service calls: integer (nullable = true)\n",
      " |-- Churn: integer (nullable = true)\n",
      "\n"
     ]
    },
    {
     "data": {
      "text/html": [
       "<div>\n",
       "<style scoped>\n",
       "    .dataframe tbody tr th:only-of-type {\n",
       "        vertical-align: middle;\n",
       "    }\n",
       "\n",
       "    .dataframe tbody tr th {\n",
       "        vertical-align: top;\n",
       "    }\n",
       "\n",
       "    .dataframe thead th {\n",
       "        text-align: right;\n",
       "    }\n",
       "</style>\n",
       "<table border=\"1\" class=\"dataframe\">\n",
       "  <thead>\n",
       "    <tr style=\"text-align: right;\">\n",
       "      <th></th>\n",
       "      <th>Account length</th>\n",
       "      <th>International plan</th>\n",
       "      <th>Voice mail plan</th>\n",
       "      <th>Number vmail messages</th>\n",
       "      <th>Total day minutes</th>\n",
       "      <th>Total day calls</th>\n",
       "      <th>Total eve minutes</th>\n",
       "      <th>Total eve calls</th>\n",
       "      <th>Total night minutes</th>\n",
       "      <th>Total night calls</th>\n",
       "      <th>Total intl minutes</th>\n",
       "      <th>Total intl calls</th>\n",
       "      <th>Customer service calls</th>\n",
       "      <th>Churn</th>\n",
       "    </tr>\n",
       "  </thead>\n",
       "  <tbody>\n",
       "    <tr>\n",
       "      <th>0</th>\n",
       "      <td>117</td>\n",
       "      <td>0.0</td>\n",
       "      <td>0.0</td>\n",
       "      <td>0</td>\n",
       "      <td>184.5</td>\n",
       "      <td>97</td>\n",
       "      <td>351.6</td>\n",
       "      <td>80</td>\n",
       "      <td>215.8</td>\n",
       "      <td>90</td>\n",
       "      <td>8.7</td>\n",
       "      <td>4</td>\n",
       "      <td>1</td>\n",
       "      <td>0</td>\n",
       "    </tr>\n",
       "    <tr>\n",
       "      <th>1</th>\n",
       "      <td>65</td>\n",
       "      <td>0.0</td>\n",
       "      <td>0.0</td>\n",
       "      <td>0</td>\n",
       "      <td>129.1</td>\n",
       "      <td>137</td>\n",
       "      <td>228.5</td>\n",
       "      <td>83</td>\n",
       "      <td>208.8</td>\n",
       "      <td>111</td>\n",
       "      <td>12.7</td>\n",
       "      <td>6</td>\n",
       "      <td>4</td>\n",
       "      <td>1</td>\n",
       "    </tr>\n",
       "    <tr>\n",
       "      <th>2</th>\n",
       "      <td>161</td>\n",
       "      <td>0.0</td>\n",
       "      <td>0.0</td>\n",
       "      <td>0</td>\n",
       "      <td>332.9</td>\n",
       "      <td>67</td>\n",
       "      <td>317.8</td>\n",
       "      <td>97</td>\n",
       "      <td>160.6</td>\n",
       "      <td>128</td>\n",
       "      <td>5.4</td>\n",
       "      <td>9</td>\n",
       "      <td>4</td>\n",
       "      <td>1</td>\n",
       "    </tr>\n",
       "    <tr>\n",
       "      <th>3</th>\n",
       "      <td>111</td>\n",
       "      <td>0.0</td>\n",
       "      <td>0.0</td>\n",
       "      <td>0</td>\n",
       "      <td>110.4</td>\n",
       "      <td>103</td>\n",
       "      <td>137.3</td>\n",
       "      <td>102</td>\n",
       "      <td>189.6</td>\n",
       "      <td>105</td>\n",
       "      <td>7.7</td>\n",
       "      <td>6</td>\n",
       "      <td>2</td>\n",
       "      <td>0</td>\n",
       "    </tr>\n",
       "    <tr>\n",
       "      <th>4</th>\n",
       "      <td>49</td>\n",
       "      <td>0.0</td>\n",
       "      <td>0.0</td>\n",
       "      <td>0</td>\n",
       "      <td>119.3</td>\n",
       "      <td>117</td>\n",
       "      <td>215.1</td>\n",
       "      <td>109</td>\n",
       "      <td>178.7</td>\n",
       "      <td>90</td>\n",
       "      <td>11.1</td>\n",
       "      <td>1</td>\n",
       "      <td>1</td>\n",
       "      <td>0</td>\n",
       "    </tr>\n",
       "  </tbody>\n",
       "</table>\n",
       "</div>"
      ],
      "text/plain": [
       "   Account length  International plan  Voice mail plan  Number vmail messages  \\\n",
       "0             117                 0.0              0.0                      0   \n",
       "1              65                 0.0              0.0                      0   \n",
       "2             161                 0.0              0.0                      0   \n",
       "3             111                 0.0              0.0                      0   \n",
       "4              49                 0.0              0.0                      0   \n",
       "\n",
       "   Total day minutes  Total day calls  Total eve minutes  Total eve calls  \\\n",
       "0              184.5               97              351.6               80   \n",
       "1              129.1              137              228.5               83   \n",
       "2              332.9               67              317.8               97   \n",
       "3              110.4              103              137.3              102   \n",
       "4              119.3              117              215.1              109   \n",
       "\n",
       "   Total night minutes  Total night calls  Total intl minutes  \\\n",
       "0                215.8                 90                 8.7   \n",
       "1                208.8                111                12.7   \n",
       "2                160.6                128                 5.4   \n",
       "3                189.6                105                 7.7   \n",
       "4                178.7                 90                11.1   \n",
       "\n",
       "   Total intl calls  Customer service calls  Churn  \n",
       "0                 4                       1      0  \n",
       "1                 6                       4      1  \n",
       "2                 9                       4      1  \n",
       "3                 6                       2      0  \n",
       "4                 1                       1      0  "
      ]
     },
     "execution_count": 95,
     "metadata": {},
     "output_type": "execute_result"
    }
   ],
   "source": [
    "## show the DataFrame schema to confirm load was successfully, and then show the first 5 rows.  Looks good!\n",
    "\n",
    "testdata.printSchema()\n",
    "\n",
    "testdata.limit(5).toPandas()"
   ]
  },
  {
   "cell_type": "code",
   "execution_count": 96,
   "metadata": {},
   "outputs": [
    {
     "data": {
      "text/plain": [
       "DataFrame[Account length: int, International plan: double, Voice mail plan: double, Number vmail messages: int, Total day minutes: double, Total day calls: int, Total eve minutes: double, Total eve calls: int, Total night minutes: double, Total night calls: int, Total intl minutes: double, Total intl calls: int, Customer service calls: int, Churn: int]"
      ]
     },
     "execution_count": 96,
     "metadata": {},
     "output_type": "execute_result"
    }
   ],
   "source": [
    "## Cache the dataframes because we'll be doing a lot of manipulation it seems!\n",
    "\n",
    "traindata.cache()\n",
    "testdata.cache()"
   ]
  },
  {
   "cell_type": "markdown",
   "metadata": {},
   "source": [
    "20\\. "
   ]
  },
  {
   "cell_type": "code",
   "execution_count": 99,
   "metadata": {},
   "outputs": [],
   "source": [
    "## Create a function to remove white space \" \" from column headers and replace with \"_\" - to save time and make it reusable.\n",
    "\n",
    "def remove_whitespace(df):\n",
    "    for col in df.columns:\n",
    "        df = df.withColumnRenamed(col, col.replace(\" \", \"_\"))\n",
    "    return df"
   ]
  },
  {
   "cell_type": "code",
   "execution_count": 102,
   "metadata": {},
   "outputs": [],
   "source": [
    "## Implement the function to remove white space and replace with _\n",
    "\n",
    "traindata = remove_whitespace(traindata)\n",
    "\n",
    "testdata = remove_whitespace(testdata)"
   ]
  },
  {
   "cell_type": "code",
   "execution_count": 105,
   "metadata": {},
   "outputs": [],
   "source": [
    "## Covert all of the column types to double - we can use another function to do this programmatically\n",
    "## function takes each column in the dataframe and just CASTs it as a DOUBLE.\n",
    "\n",
    "def double_it(df):\n",
    "    for col in df.columns:\n",
    "        df = df.withColumn(\n",
    "        col, \n",
    "        f.col(col).cast(\"double\")\n",
    "        )\n",
    "    return df"
   ]
  },
  {
   "cell_type": "code",
   "execution_count": 108,
   "metadata": {},
   "outputs": [
    {
     "data": {
      "text/plain": [
       "DataFrame[Account_length: double, International_plan: double, Voice_mail_plan: double, Number_vmail_messages: double, Total_day_minutes: double, Total_day_calls: double, Total_eve_minutes: double, Total_eve_calls: double, Total_night_minutes: double, Total_night_calls: double, Total_intl_minutes: double, Total_intl_calls: double, Customer_service_calls: double, Churn: double]"
      ]
     },
     "execution_count": 108,
     "metadata": {},
     "output_type": "execute_result"
    }
   ],
   "source": [
    "## test function to make sure it works\n",
    "\n",
    "double_it(traindata)"
   ]
  },
  {
   "cell_type": "code",
   "execution_count": 109,
   "metadata": {},
   "outputs": [],
   "source": [
    "## Make everything DOUBLE datatype and overwrite original dataframes\n",
    "\n",
    "traindata = double_it(traindata)\n",
    "\n",
    "testdata = double_it(testdata)"
   ]
  },
  {
   "cell_type": "code",
   "execution_count": 110,
   "metadata": {},
   "outputs": [
    {
     "name": "stdout",
     "output_type": "stream",
     "text": [
      "root\n",
      " |-- Account_length: double (nullable = true)\n",
      " |-- International_plan: double (nullable = true)\n",
      " |-- Voice_mail_plan: double (nullable = true)\n",
      " |-- Number_vmail_messages: double (nullable = true)\n",
      " |-- Total_day_minutes: double (nullable = true)\n",
      " |-- Total_day_calls: double (nullable = true)\n",
      " |-- Total_eve_minutes: double (nullable = true)\n",
      " |-- Total_eve_calls: double (nullable = true)\n",
      " |-- Total_night_minutes: double (nullable = true)\n",
      " |-- Total_night_calls: double (nullable = true)\n",
      " |-- Total_intl_minutes: double (nullable = true)\n",
      " |-- Total_intl_calls: double (nullable = true)\n",
      " |-- Customer_service_calls: double (nullable = true)\n",
      " |-- Churn: double (nullable = true)\n",
      "\n",
      "root\n",
      " |-- Account_length: double (nullable = true)\n",
      " |-- International_plan: double (nullable = true)\n",
      " |-- Voice_mail_plan: double (nullable = true)\n",
      " |-- Number_vmail_messages: double (nullable = true)\n",
      " |-- Total_day_minutes: double (nullable = true)\n",
      " |-- Total_day_calls: double (nullable = true)\n",
      " |-- Total_eve_minutes: double (nullable = true)\n",
      " |-- Total_eve_calls: double (nullable = true)\n",
      " |-- Total_night_minutes: double (nullable = true)\n",
      " |-- Total_night_calls: double (nullable = true)\n",
      " |-- Total_intl_minutes: double (nullable = true)\n",
      " |-- Total_intl_calls: double (nullable = true)\n",
      " |-- Customer_service_calls: double (nullable = true)\n",
      " |-- Churn: double (nullable = true)\n",
      "\n"
     ]
    }
   ],
   "source": [
    "## Confirm transformations were successful - We look good!\n",
    "\n",
    "traindata.printSchema()\n",
    "\n",
    "testdata.printSchema()"
   ]
  },
  {
   "cell_type": "code",
   "execution_count": 115,
   "metadata": {},
   "outputs": [
    {
     "data": {
      "text/plain": [
       "['Account_length',\n",
       " 'International_plan',\n",
       " 'Voice_mail_plan',\n",
       " 'Number_vmail_messages',\n",
       " 'Total_day_minutes',\n",
       " 'Total_day_calls',\n",
       " 'Total_eve_minutes',\n",
       " 'Total_eve_calls',\n",
       " 'Total_night_minutes',\n",
       " 'Total_night_calls',\n",
       " 'Total_intl_minutes',\n",
       " 'Total_intl_calls',\n",
       " 'Customer_service_calls']"
      ]
     },
     "execution_count": 115,
     "metadata": {},
     "output_type": "execute_result"
    }
   ],
   "source": [
    "## Determine the correct feature columns - per the instructions it should be everything BUT Churn\n",
    "## Easily done by subscripting the DataFrames columns to only return the first to the second to last column\n",
    "## Set featureCols to this output\n",
    "\n",
    "featureCols = traindata.columns[0:-1]\n",
    "\n",
    "## Build my VectorAssembler and create my features column\n",
    "\n",
    "va = VectorAssembler(inputCols = featureCols, outputCol = \"features\")\n",
    "\n",
    "## Just double checking my features columns are correct\n",
    "featureCols"
   ]
  },
  {
   "cell_type": "code",
   "execution_count": 118,
   "metadata": {},
   "outputs": [
    {
     "name": "stdout",
     "output_type": "stream",
     "text": [
      "+-------------------------------------------------------------------+\n",
      "|features                                                           |\n",
      "+-------------------------------------------------------------------+\n",
      "|[117.0,0.0,0.0,0.0,184.5,97.0,351.6,80.0,215.8,90.0,8.7,4.0,1.0]   |\n",
      "|[65.0,0.0,0.0,0.0,129.1,137.0,228.5,83.0,208.8,111.0,12.7,6.0,4.0] |\n",
      "|[161.0,0.0,0.0,0.0,332.9,67.0,317.8,97.0,160.6,128.0,5.4,9.0,4.0]  |\n",
      "|[111.0,0.0,0.0,0.0,110.4,103.0,137.3,102.0,189.6,105.0,7.7,6.0,2.0]|\n",
      "|[49.0,0.0,0.0,0.0,119.3,117.0,215.1,109.0,178.7,90.0,11.1,1.0,1.0] |\n",
      "|[36.0,0.0,1.0,30.0,146.3,128.0,162.5,80.0,129.3,109.0,14.5,6.0,0.0]|\n",
      "|[65.0,0.0,0.0,0.0,211.3,120.0,162.6,122.0,134.7,118.0,13.2,5.0,3.0]|\n",
      "|[119.0,0.0,0.0,0.0,159.1,114.0,231.3,117.0,143.2,91.0,8.8,3.0,5.0] |\n",
      "|[10.0,0.0,0.0,0.0,186.1,112.0,190.2,66.0,282.8,57.0,11.4,6.0,2.0]  |\n",
      "|[68.0,0.0,0.0,0.0,148.8,70.0,246.5,164.0,129.8,103.0,12.1,3.0,3.0] |\n",
      "+-------------------------------------------------------------------+\n",
      "only showing top 10 rows\n",
      "\n"
     ]
    }
   ],
   "source": [
    "## Testing to make sure VectorAssembler works\n",
    "## Show the first 8 rows to confirm transformation will work\n",
    "\n",
    "vectorized = va.transform(testdata)\n",
    "\n",
    "vectorized.select(\"features\").show(10, truncate = False)"
   ]
  },
  {
   "cell_type": "code",
   "execution_count": 119,
   "metadata": {},
   "outputs": [],
   "source": [
    "## Build the LR model using my features column and my indexed Survived column\n",
    "\n",
    "lr = LogisticRegression(featuresCol = \"features\", labelCol = \"Churn\")"
   ]
  },
  {
   "cell_type": "code",
   "execution_count": 120,
   "metadata": {},
   "outputs": [],
   "source": [
    "## Build my pipeline and get ready to feed it to my LR model\n",
    "\n",
    "pl = Pipeline(stages = [va, lr])"
   ]
  },
  {
   "cell_type": "code",
   "execution_count": 121,
   "metadata": {},
   "outputs": [],
   "source": [
    "## Run my pipeline to test the LogisticRegressionModel to make sure it works\n",
    "\n",
    "pipelineModel = pl.fit(traindata)\n",
    "\n",
    "## Transform my testdata to see if it looks ok\n",
    "\n",
    "predictions = pipelineModel.transform(testdata)"
   ]
  },
  {
   "cell_type": "code",
   "execution_count": 125,
   "metadata": {},
   "outputs": [
    {
     "data": {
      "text/html": [
       "<div>\n",
       "<style scoped>\n",
       "    .dataframe tbody tr th:only-of-type {\n",
       "        vertical-align: middle;\n",
       "    }\n",
       "\n",
       "    .dataframe tbody tr th {\n",
       "        vertical-align: top;\n",
       "    }\n",
       "\n",
       "    .dataframe thead th {\n",
       "        text-align: right;\n",
       "    }\n",
       "</style>\n",
       "<table border=\"1\" class=\"dataframe\">\n",
       "  <thead>\n",
       "    <tr style=\"text-align: right;\">\n",
       "      <th></th>\n",
       "      <th>Churn</th>\n",
       "      <th>features</th>\n",
       "      <th>prediction</th>\n",
       "    </tr>\n",
       "  </thead>\n",
       "  <tbody>\n",
       "    <tr>\n",
       "      <th>0</th>\n",
       "      <td>0.0</td>\n",
       "      <td>[117.0, 0.0, 0.0, 0.0, 184.5, 97.0, 351.6, 80....</td>\n",
       "      <td>0.0</td>\n",
       "    </tr>\n",
       "    <tr>\n",
       "      <th>1</th>\n",
       "      <td>1.0</td>\n",
       "      <td>[65.0, 0.0, 0.0, 0.0, 129.1, 137.0, 228.5, 83....</td>\n",
       "      <td>0.0</td>\n",
       "    </tr>\n",
       "    <tr>\n",
       "      <th>2</th>\n",
       "      <td>1.0</td>\n",
       "      <td>[161.0, 0.0, 0.0, 0.0, 332.9, 67.0, 317.8, 97....</td>\n",
       "      <td>1.0</td>\n",
       "    </tr>\n",
       "    <tr>\n",
       "      <th>3</th>\n",
       "      <td>0.0</td>\n",
       "      <td>[111.0, 0.0, 0.0, 0.0, 110.4, 103.0, 137.3, 10...</td>\n",
       "      <td>0.0</td>\n",
       "    </tr>\n",
       "    <tr>\n",
       "      <th>4</th>\n",
       "      <td>0.0</td>\n",
       "      <td>[49.0, 0.0, 0.0, 0.0, 119.3, 117.0, 215.1, 109...</td>\n",
       "      <td>0.0</td>\n",
       "    </tr>\n",
       "    <tr>\n",
       "      <th>5</th>\n",
       "      <td>0.0</td>\n",
       "      <td>[36.0, 0.0, 1.0, 30.0, 146.3, 128.0, 162.5, 80...</td>\n",
       "      <td>0.0</td>\n",
       "    </tr>\n",
       "    <tr>\n",
       "      <th>6</th>\n",
       "      <td>0.0</td>\n",
       "      <td>[65.0, 0.0, 0.0, 0.0, 211.3, 120.0, 162.6, 122...</td>\n",
       "      <td>0.0</td>\n",
       "    </tr>\n",
       "    <tr>\n",
       "      <th>7</th>\n",
       "      <td>1.0</td>\n",
       "      <td>[119.0, 0.0, 0.0, 0.0, 159.1, 114.0, 231.3, 11...</td>\n",
       "      <td>0.0</td>\n",
       "    </tr>\n",
       "    <tr>\n",
       "      <th>8</th>\n",
       "      <td>0.0</td>\n",
       "      <td>[10.0, 0.0, 0.0, 0.0, 186.1, 112.0, 190.2, 66....</td>\n",
       "      <td>0.0</td>\n",
       "    </tr>\n",
       "    <tr>\n",
       "      <th>9</th>\n",
       "      <td>0.0</td>\n",
       "      <td>[68.0, 0.0, 0.0, 0.0, 148.8, 70.0, 246.5, 164....</td>\n",
       "      <td>0.0</td>\n",
       "    </tr>\n",
       "  </tbody>\n",
       "</table>\n",
       "</div>"
      ],
      "text/plain": [
       "   Churn                                           features  prediction\n",
       "0    0.0  [117.0, 0.0, 0.0, 0.0, 184.5, 97.0, 351.6, 80....         0.0\n",
       "1    1.0  [65.0, 0.0, 0.0, 0.0, 129.1, 137.0, 228.5, 83....         0.0\n",
       "2    1.0  [161.0, 0.0, 0.0, 0.0, 332.9, 67.0, 317.8, 97....         1.0\n",
       "3    0.0  [111.0, 0.0, 0.0, 0.0, 110.4, 103.0, 137.3, 10...         0.0\n",
       "4    0.0  [49.0, 0.0, 0.0, 0.0, 119.3, 117.0, 215.1, 109...         0.0\n",
       "5    0.0  [36.0, 0.0, 1.0, 30.0, 146.3, 128.0, 162.5, 80...         0.0\n",
       "6    0.0  [65.0, 0.0, 0.0, 0.0, 211.3, 120.0, 162.6, 122...         0.0\n",
       "7    1.0  [119.0, 0.0, 0.0, 0.0, 159.1, 114.0, 231.3, 11...         0.0\n",
       "8    0.0  [10.0, 0.0, 0.0, 0.0, 186.1, 112.0, 190.2, 66....         0.0\n",
       "9    0.0  [68.0, 0.0, 0.0, 0.0, 148.8, 70.0, 246.5, 164....         0.0"
      ]
     },
     "execution_count": 125,
     "metadata": {},
     "output_type": "execute_result"
    }
   ],
   "source": [
    "## Show the first 5 rows\n",
    "\n",
    "predictions.select(\"Churn\", \"features\", \"prediction\").limit(10).toPandas()"
   ]
  },
  {
   "cell_type": "markdown",
   "metadata": {},
   "source": [
    "21\\. "
   ]
  },
  {
   "cell_type": "code",
   "execution_count": 127,
   "metadata": {},
   "outputs": [],
   "source": [
    "## Create the ParamGrid to test regParam three levels.\n",
    "paramGrid = ParamGridBuilder().addGrid(lr.regParam,[0.0,1.0,2.0]).build()\n",
    "\n",
    "## Build an evaluator to test the RForest Classifier using areaUnderROC as the test metric\n",
    "evaluator = BinaryClassificationEvaluator(labelCol = 'Churn', rawPredictionCol = 'prediction', metricName='areaUnderROC')\n",
    "\n",
    "## Build the cross validator based on the RForest Pipeline above, the ParamGrid, the evaluation metrics, and 3 folds\n",
    "crossval = CrossValidator(estimator = pl, estimatorParamMaps = paramGrid, evaluator = evaluator, numFolds = 3)"
   ]
  },
  {
   "cell_type": "markdown",
   "metadata": {},
   "source": [
    "22\\."
   ]
  },
  {
   "cell_type": "code",
   "execution_count": 129,
   "metadata": {},
   "outputs": [],
   "source": [
    "## Run the CrossValidator on the train dataset and create a new output churn_model\n",
    "churn_model = crossval.fit(traindata)"
   ]
  },
  {
   "cell_type": "markdown",
   "metadata": {},
   "source": [
    "23\\."
   ]
  },
  {
   "cell_type": "code",
   "execution_count": 130,
   "metadata": {},
   "outputs": [],
   "source": [
    "## Transform the test data set WITH THE BEST MODEL and try to do a better job predicting!\n",
    "\n",
    "transformed_data = churn_model.bestModel.transform(testdata)"
   ]
  },
  {
   "cell_type": "code",
   "execution_count": 136,
   "metadata": {},
   "outputs": [
    {
     "data": {
      "text/html": [
       "<div>\n",
       "<style scoped>\n",
       "    .dataframe tbody tr th:only-of-type {\n",
       "        vertical-align: middle;\n",
       "    }\n",
       "\n",
       "    .dataframe tbody tr th {\n",
       "        vertical-align: top;\n",
       "    }\n",
       "\n",
       "    .dataframe thead th {\n",
       "        text-align: right;\n",
       "    }\n",
       "</style>\n",
       "<table border=\"1\" class=\"dataframe\">\n",
       "  <thead>\n",
       "    <tr style=\"text-align: right;\">\n",
       "      <th></th>\n",
       "      <th>Churn</th>\n",
       "      <th>prediction</th>\n",
       "      <th>Account_length</th>\n",
       "      <th>International_plan</th>\n",
       "      <th>Voice_mail_plan</th>\n",
       "      <th>Number_vmail_messages</th>\n",
       "      <th>Total_day_minutes</th>\n",
       "      <th>Total_eve_minutes</th>\n",
       "      <th>Total_eve_calls</th>\n",
       "      <th>Total_night_minutes</th>\n",
       "      <th>Total_night_calls</th>\n",
       "      <th>Total_intl_minutes</th>\n",
       "      <th>Total_intl_calls</th>\n",
       "      <th>Customer_service_calls</th>\n",
       "    </tr>\n",
       "  </thead>\n",
       "  <tbody>\n",
       "    <tr>\n",
       "      <th>0</th>\n",
       "      <td>0.0</td>\n",
       "      <td>0.0</td>\n",
       "      <td>117.0</td>\n",
       "      <td>0.0</td>\n",
       "      <td>0.0</td>\n",
       "      <td>0.0</td>\n",
       "      <td>184.5</td>\n",
       "      <td>351.6</td>\n",
       "      <td>80.0</td>\n",
       "      <td>215.8</td>\n",
       "      <td>90.0</td>\n",
       "      <td>8.7</td>\n",
       "      <td>4.0</td>\n",
       "      <td>1.0</td>\n",
       "    </tr>\n",
       "    <tr>\n",
       "      <th>1</th>\n",
       "      <td>1.0</td>\n",
       "      <td>0.0</td>\n",
       "      <td>65.0</td>\n",
       "      <td>0.0</td>\n",
       "      <td>0.0</td>\n",
       "      <td>0.0</td>\n",
       "      <td>129.1</td>\n",
       "      <td>228.5</td>\n",
       "      <td>83.0</td>\n",
       "      <td>208.8</td>\n",
       "      <td>111.0</td>\n",
       "      <td>12.7</td>\n",
       "      <td>6.0</td>\n",
       "      <td>4.0</td>\n",
       "    </tr>\n",
       "    <tr>\n",
       "      <th>2</th>\n",
       "      <td>1.0</td>\n",
       "      <td>1.0</td>\n",
       "      <td>161.0</td>\n",
       "      <td>0.0</td>\n",
       "      <td>0.0</td>\n",
       "      <td>0.0</td>\n",
       "      <td>332.9</td>\n",
       "      <td>317.8</td>\n",
       "      <td>97.0</td>\n",
       "      <td>160.6</td>\n",
       "      <td>128.0</td>\n",
       "      <td>5.4</td>\n",
       "      <td>9.0</td>\n",
       "      <td>4.0</td>\n",
       "    </tr>\n",
       "    <tr>\n",
       "      <th>3</th>\n",
       "      <td>0.0</td>\n",
       "      <td>0.0</td>\n",
       "      <td>111.0</td>\n",
       "      <td>0.0</td>\n",
       "      <td>0.0</td>\n",
       "      <td>0.0</td>\n",
       "      <td>110.4</td>\n",
       "      <td>137.3</td>\n",
       "      <td>102.0</td>\n",
       "      <td>189.6</td>\n",
       "      <td>105.0</td>\n",
       "      <td>7.7</td>\n",
       "      <td>6.0</td>\n",
       "      <td>2.0</td>\n",
       "    </tr>\n",
       "    <tr>\n",
       "      <th>4</th>\n",
       "      <td>0.0</td>\n",
       "      <td>0.0</td>\n",
       "      <td>49.0</td>\n",
       "      <td>0.0</td>\n",
       "      <td>0.0</td>\n",
       "      <td>0.0</td>\n",
       "      <td>119.3</td>\n",
       "      <td>215.1</td>\n",
       "      <td>109.0</td>\n",
       "      <td>178.7</td>\n",
       "      <td>90.0</td>\n",
       "      <td>11.1</td>\n",
       "      <td>1.0</td>\n",
       "      <td>1.0</td>\n",
       "    </tr>\n",
       "    <tr>\n",
       "      <th>5</th>\n",
       "      <td>0.0</td>\n",
       "      <td>0.0</td>\n",
       "      <td>36.0</td>\n",
       "      <td>0.0</td>\n",
       "      <td>1.0</td>\n",
       "      <td>30.0</td>\n",
       "      <td>146.3</td>\n",
       "      <td>162.5</td>\n",
       "      <td>80.0</td>\n",
       "      <td>129.3</td>\n",
       "      <td>109.0</td>\n",
       "      <td>14.5</td>\n",
       "      <td>6.0</td>\n",
       "      <td>0.0</td>\n",
       "    </tr>\n",
       "    <tr>\n",
       "      <th>6</th>\n",
       "      <td>0.0</td>\n",
       "      <td>0.0</td>\n",
       "      <td>65.0</td>\n",
       "      <td>0.0</td>\n",
       "      <td>0.0</td>\n",
       "      <td>0.0</td>\n",
       "      <td>211.3</td>\n",
       "      <td>162.6</td>\n",
       "      <td>122.0</td>\n",
       "      <td>134.7</td>\n",
       "      <td>118.0</td>\n",
       "      <td>13.2</td>\n",
       "      <td>5.0</td>\n",
       "      <td>3.0</td>\n",
       "    </tr>\n",
       "    <tr>\n",
       "      <th>7</th>\n",
       "      <td>1.0</td>\n",
       "      <td>0.0</td>\n",
       "      <td>119.0</td>\n",
       "      <td>0.0</td>\n",
       "      <td>0.0</td>\n",
       "      <td>0.0</td>\n",
       "      <td>159.1</td>\n",
       "      <td>231.3</td>\n",
       "      <td>117.0</td>\n",
       "      <td>143.2</td>\n",
       "      <td>91.0</td>\n",
       "      <td>8.8</td>\n",
       "      <td>3.0</td>\n",
       "      <td>5.0</td>\n",
       "    </tr>\n",
       "    <tr>\n",
       "      <th>8</th>\n",
       "      <td>0.0</td>\n",
       "      <td>0.0</td>\n",
       "      <td>10.0</td>\n",
       "      <td>0.0</td>\n",
       "      <td>0.0</td>\n",
       "      <td>0.0</td>\n",
       "      <td>186.1</td>\n",
       "      <td>190.2</td>\n",
       "      <td>66.0</td>\n",
       "      <td>282.8</td>\n",
       "      <td>57.0</td>\n",
       "      <td>11.4</td>\n",
       "      <td>6.0</td>\n",
       "      <td>2.0</td>\n",
       "    </tr>\n",
       "    <tr>\n",
       "      <th>9</th>\n",
       "      <td>0.0</td>\n",
       "      <td>0.0</td>\n",
       "      <td>68.0</td>\n",
       "      <td>0.0</td>\n",
       "      <td>0.0</td>\n",
       "      <td>0.0</td>\n",
       "      <td>148.8</td>\n",
       "      <td>246.5</td>\n",
       "      <td>164.0</td>\n",
       "      <td>129.8</td>\n",
       "      <td>103.0</td>\n",
       "      <td>12.1</td>\n",
       "      <td>3.0</td>\n",
       "      <td>3.0</td>\n",
       "    </tr>\n",
       "  </tbody>\n",
       "</table>\n",
       "</div>"
      ],
      "text/plain": [
       "   Churn  prediction  Account_length  International_plan  Voice_mail_plan  \\\n",
       "0    0.0         0.0           117.0                 0.0              0.0   \n",
       "1    1.0         0.0            65.0                 0.0              0.0   \n",
       "2    1.0         1.0           161.0                 0.0              0.0   \n",
       "3    0.0         0.0           111.0                 0.0              0.0   \n",
       "4    0.0         0.0            49.0                 0.0              0.0   \n",
       "5    0.0         0.0            36.0                 0.0              1.0   \n",
       "6    0.0         0.0            65.0                 0.0              0.0   \n",
       "7    1.0         0.0           119.0                 0.0              0.0   \n",
       "8    0.0         0.0            10.0                 0.0              0.0   \n",
       "9    0.0         0.0            68.0                 0.0              0.0   \n",
       "\n",
       "   Number_vmail_messages  Total_day_minutes  Total_eve_minutes  \\\n",
       "0                    0.0              184.5              351.6   \n",
       "1                    0.0              129.1              228.5   \n",
       "2                    0.0              332.9              317.8   \n",
       "3                    0.0              110.4              137.3   \n",
       "4                    0.0              119.3              215.1   \n",
       "5                   30.0              146.3              162.5   \n",
       "6                    0.0              211.3              162.6   \n",
       "7                    0.0              159.1              231.3   \n",
       "8                    0.0              186.1              190.2   \n",
       "9                    0.0              148.8              246.5   \n",
       "\n",
       "   Total_eve_calls  Total_night_minutes  Total_night_calls  \\\n",
       "0             80.0                215.8               90.0   \n",
       "1             83.0                208.8              111.0   \n",
       "2             97.0                160.6              128.0   \n",
       "3            102.0                189.6              105.0   \n",
       "4            109.0                178.7               90.0   \n",
       "5             80.0                129.3              109.0   \n",
       "6            122.0                134.7              118.0   \n",
       "7            117.0                143.2               91.0   \n",
       "8             66.0                282.8               57.0   \n",
       "9            164.0                129.8              103.0   \n",
       "\n",
       "   Total_intl_minutes  Total_intl_calls  Customer_service_calls  \n",
       "0                 8.7               4.0                     1.0  \n",
       "1                12.7               6.0                     4.0  \n",
       "2                 5.4               9.0                     4.0  \n",
       "3                 7.7               6.0                     2.0  \n",
       "4                11.1               1.0                     1.0  \n",
       "5                14.5               6.0                     0.0  \n",
       "6                13.2               5.0                     3.0  \n",
       "7                 8.8               3.0                     5.0  \n",
       "8                11.4               6.0                     2.0  \n",
       "9                12.1               3.0                     3.0  "
      ]
     },
     "execution_count": 136,
     "metadata": {},
     "output_type": "execute_result"
    }
   ],
   "source": [
    "## Present the first 10 rows of the prediction outcome DF with churn, prediction and ALLLLLLLLLLLLLL feature columns\n",
    "\n",
    "transformed_data.select(\"Churn\", \"prediction\", \"Account_length\", \\\n",
    "                        \"International_plan\", \"Voice_mail_plan\", \"Number_vmail_messages\", \"Total_day_minutes\", \\\n",
    "                        \"Total_eve_minutes\", \"Total_eve_calls\", \"Total_night_minutes\", \"Total_night_calls\", \\\n",
    "                        \"Total_intl_minutes\", \"Total_intl_calls\", \"Customer_service_calls\").limit(10).toPandas()"
   ]
  },
  {
   "cell_type": "markdown",
   "metadata": {},
   "source": [
    "24\\. "
   ]
  },
  {
   "cell_type": "code",
   "execution_count": 137,
   "metadata": {},
   "outputs": [
    {
     "name": "stdout",
     "output_type": "stream",
     "text": [
      "AreaUnderROC = 0.5772543246227456\n"
     ]
    }
   ],
   "source": [
    "AoC_eval = BinaryClassificationEvaluator(labelCol = \"Churn\", rawPredictionCol = \"prediction\", metricName = \"areaUnderROC\")\n",
    "AoC = AoC_eval.evaluate(transformed_data)\n",
    "print(\"AreaUnderROC = %s\" % AoC)"
   ]
  },
  {
   "cell_type": "markdown",
   "metadata": {},
   "source": [
    "**Answer**: The area under the ROC metrics for the predictions obtained for the test dataset is 0.5772543246227456.  Yikes!"
   ]
  },
  {
   "cell_type": "markdown",
   "metadata": {},
   "source": [
    "# Professor De, thank you very much for a great semester.  It has been a pleasure.  - DM"
   ]
  },
  {
   "cell_type": "markdown",
   "metadata": {
    "collapsed": true
   },
   "source": [
    "\n",
    "## Submission Check list\n",
    "\n",
    "- Convert the jupyter notebook to a single **html file** and submit the html file. \n",
    "- You have listed the question numbers clearly for grading purpose.\n",
    "- Make sure that when there is a bold-faced **Question**, you have an explicit **Answer**."
   ]
  }
 ],
 "metadata": {
  "kernelspec": {
   "display_name": "Pyspark (Py3)",
   "language": "",
   "name": "pyspark"
  },
  "language_info": {
   "codemirror_mode": {
    "name": "ipython",
    "version": 3
   },
   "file_extension": ".py",
   "mimetype": "text/x-python",
   "name": "python",
   "nbconvert_exporter": "python",
   "pygments_lexer": "ipython3",
   "version": "3.6.7"
  }
 },
 "nbformat": 4,
 "nbformat_minor": 2
}
