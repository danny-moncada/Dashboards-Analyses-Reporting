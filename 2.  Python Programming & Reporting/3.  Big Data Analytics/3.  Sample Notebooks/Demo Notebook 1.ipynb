{
 "cells": [
  {
   "cell_type": "markdown",
   "metadata": {},
   "source": [
    "# Linux OS"
   ]
  },
  {
   "cell_type": "code",
   "execution_count": 1,
   "metadata": {},
   "outputs": [
    {
     "ename": "SyntaxError",
     "evalue": "invalid syntax (<ipython-input-1-6d232236cd9e>, line 1)",
     "output_type": "error",
     "traceback": [
      "\u001b[1;36m  File \u001b[1;32m\"<ipython-input-1-6d232236cd9e>\"\u001b[1;36m, line \u001b[1;32m1\u001b[0m\n\u001b[1;33m    File listing:\u001b[0m\n\u001b[1;37m               ^\u001b[0m\n\u001b[1;31mSyntaxError\u001b[0m\u001b[1;31m:\u001b[0m invalid syntax\n"
     ]
    }
   ],
   "source": [
    "File listing:\n",
    "    \n",
    "ls -l (include permissions)\n",
    "ls -a (hidden files)\n",
    "ls / (root dir)\n",
    "    \n",
    "Changing dirs:\n",
    "    \n",
    "cd /usr/bin\n",
    "cd / (root)\n",
    "cd .. (move up one level)\n",
    "cd ~ (home)\n",
    "cd tabkey to auto complete\n",
    "\n",
    "Copy:\n",
    "    \n",
    "cp filename filename2 (in the same dir)\n",
    "cp filename /dirname (to dirname)\n",
    "\n",
    "Move:\n",
    "\n",
    "mv filename filename2 (rename file1 to file2)\n",
    "mv filename /dirname\n",
    "\n",
    "Delete:\n",
    "\n",
    "rm filename1\n",
    "rm -r dirname (remove dir recursively and save dir for last)\n",
    "\n",
    "Find:\n",
    "    \n",
    "find . -name \"test*\" (find file starting with \"test\" in current folder(\".\"))\n",
    "find ~/training_materials -name \"*test*\" (find any file with test in the name in the home/training_materials)\n",
    "\n",
    "Create/remove dirs:\n",
    "    \n",
    "mkdir dir1\n",
    "rm -r dir1 (remove recursively)\n",
    "\n",
    "Sample/view large text files:\n",
    "    \n",
    "less (b to move up, space to move down)\n",
    "/characters to search forward for char\n",
    "n (search again)\n",
    "q: quit\n",
    "\n",
    "Pipe:\n",
    "\n",
    "ls - l > file_list.txt (store results in file_list.txt) - Redirect output\n",
    "\n",
    "sort < file_list.txt (sort results of file_list.txt) - Redirect input\n",
    "\n",
    "cat file | more (show content screen by screen)\n",
    "grep -i \"the\" filename | less (output of grep fed into less)\n",
    "\n",
    "\n",
    "Head:\n",
    "    \n",
    "head ad_data1.txt (first ten lines)\n",
    "head -n 20 ad_data1.txt (show first 20 lines)\n",
    "\n",
    "Tail:\n",
    "    \n",
    "tail -n 30 filename.txt (show last 30 lines)"
   ]
  },
  {
   "cell_type": "markdown",
   "metadata": {},
   "source": [
    "# HDFS"
   ]
  },
  {
   "cell_type": "code",
   "execution_count": null,
   "metadata": {},
   "outputs": [],
   "source": [
    "File listing:\n",
    "    \n",
    "hadoop fs -ls /\n",
    "    \n",
    "Uploading:\n",
    "    \n",
    "hadoop fs -put /user/cloudera/danny.txt /home/test/danny.txt\n",
    "    \n",
    "Downloading:\n",
    "    \n",
    "hadoop fs -get /home/test/danny.txt /user/cloudera/danny.txt\n",
    "\n",
    "Deletion:\n",
    "    \n",
    "hadoop fs -rm /reports/sales.txt\n",
    "    \n",
    "Create/remove dir:\n",
    "    \n",
    "hadoop fs -mkdir /reports (under root dir)\n",
    "hadoop fs -rm -r /reports (remove recursively)\n",
    "    \n",
    "Sample data (head/tail):\n",
    "    \n",
    "Viewing data (cat):\n",
    "        \n",
    "hadoop fs -cat /user/fred/sales.txt\n",
    "    \n",
    "Extract data (get and getmerge):\n",
    "\n",
    "hadoop fs -getmerge latlon/ $ADIR/data/latlon_all_hdfs.tsv"
   ]
  },
  {
   "cell_type": "markdown",
   "metadata": {},
   "source": [
    "# Sqoop"
   ]
  },
  {
   "cell_type": "code",
   "execution_count": null,
   "metadata": {},
   "outputs": [],
   "source": [
    "Import MySQL tables into Hadoop/Hive:\n",
    "\n",
    "sqoop import \\\n",
    "--connect jdbc:mysql://localhost/dualcore \\\n",
    "--username training --password training \\\n",
    "--fields-terminated-by '\\t' \\\n",
    "--warehouse-dir /dualcore \\\n",
    "--table employees\n",
    "    \n",
    "Using Options:\n",
    "    \n",
    "sqoop import \n",
    "--connect jdbc:mysql://localhost/movielens \n",
    "--username root --password cloudera\n",
    "--fields-terminated-by '\\t' \n",
    "--warehouse-dir /movielens/movie \n",
    "--table movie\n",
    "\n",
    "SELECT table, rows, columns\n",
    "\n",
    "sqoopimport \\\n",
    "--connectjdbc:mysql://localhost/company \\\n",
    "--usernametwheeler\\--passwordbigsecret\\\n",
    "--warehouse-dir /mydata\\\n",
    "--tableproducts \\\n",
    "--columns\"prod_id, name, price\"\n",
    "\n",
    "## SPECIFY location"
   ]
  },
  {
   "cell_type": "markdown",
   "metadata": {},
   "source": [
    "# Hive"
   ]
  },
  {
   "cell_type": "code",
   "execution_count": 2,
   "metadata": {},
   "outputs": [
    {
     "ename": "SyntaxError",
     "evalue": "invalid syntax (<ipython-input-2-4a01979e1873>, line 1)",
     "output_type": "error",
     "traceback": [
      "\u001b[1;36m  File \u001b[1;32m\"<ipython-input-2-4a01979e1873>\"\u001b[1;36m, line \u001b[1;32m1\u001b[0m\n\u001b[1;33m    Write standard Hive queries:\u001b[0m\n\u001b[1;37m                 ^\u001b[0m\n\u001b[1;31mSyntaxError\u001b[0m\u001b[1;31m:\u001b[0m invalid syntax\n"
     ]
    }
   ],
   "source": [
    "## Write standard Hive queries:\n",
    "    \n",
    "## Retrieve meta data:\n",
    "    \n",
    "## DESCRIBE [formatted] table;\n",
    "\n",
    "DESCRIBE tweets;\n",
    "    \n",
    "## SHOW DATABASES;\n",
    "\n",
    "SHOW DATABASES;\n",
    "    \n",
    "## USE DATABASE\n",
    "\n",
    "USE DATABASE flights;\n",
    "\n",
    "## JOIN TABLES;\n",
    "\n",
    "Common text functions:\n",
    "    \n",
    "## SUBSTR: return portion of input, SUBSTR(name, 0, 50)\n",
    "\n",
    "## LENGTH:\n",
    "\n",
    "## TRIM: return input without leading/trailing spaces, TRIM(name)\n",
    "\n",
    "## CONCAT: combines one or more strings, CONCAT('alice', '@google,com')\n",
    "\n",
    "## CONCAT_WS: combines with separator, CONCAT_WS(' ', 'Bob', 'Smith')\n",
    "\n",
    "## CAST:\n",
    "\n",
    "## UPPER: converts to upper case, UPPER(name)\n",
    "\n",
    "## LOWER: coverts to lower case, LOWER(name)\n",
    "\n",
    "## EXPLODE: creates a record for each element in array\n",
    "    \n",
    "SELECT SPLIT(people, ',') FROM example;\n",
    "[\"Amy\", \"Sam\", \"Ted\"] --Array <STRING>\n",
    "\n",
    "hive> SELECT EXPLODE(SPLIT(people, ',')) AS names FROM example;   \n",
    "Amy  -- 3 Strings\n",
    "Sam\n",
    "Ted\n",
    "\n",
    "## SPLIT: splits strings into ARRAY<STRING>, SPLIT('Amy/Sam/Ted', '/') = [\"Amy\", \"Sam\", \"Ted\"]\n",
    "\n",
    "## NGRAMS:\n",
    "\n",
    "SELECT EXPLODE(NGRAMS(SENTENCES(LOWER(txt)), 2, 5)) AS bigrams FROM phrases;\n",
    "\n",
    "{\"ngram\":[\"is\",\"great\"],\"estfrequency\":14.0}\n",
    "{\"ngram\":[\"great\",\"the\"],\"estfrequency\":13.0}\n",
    "{\"ngram\":[\"this\",\"tablet\"],\"estfrequency\":13.0}\n",
    "{\"ngram\":[\"i\",\"love\"],\"estfrequency\":12.0}\n",
    "{\"ngram\":[\"tablet\",\"i\"],\"estfrequency\":11.0}\n",
    "\n",
    "## REGEXP: \"text REGEXP pattern\": whether text matches pattern\n",
    "\n",
    "## REGEXP_EXTRACT (text, pattern, n): returns the string extracted using the pattern (n for how many groups)\n",
    "    \n",
    "SELECT REGEXP_EXTRACT(txt, '(\\\\d{5}).(\\\\d{5})', n);\n",
    "    \n",
    "## CREATE EXTERNAL/INTERNAL tables;\n",
    "\n",
    "CREATE TABLE tablename(colnameDATATYPE, ...)\n",
    "ROW FORMAT DELIMITED\n",
    "FIELDS TERMINATED BY '\\t'\n",
    "LINES TERMINATED BY char\n",
    "STORED AS {TEXTFILE|RCFILE|AVRO|PARQUET ....};\n",
    "\n",
    "CREATE TABLE order_details_parquet(order_idINT,prod_idINT) STORED AS PARQUET;\n",
    "INSERT OVERWRITE TABLE order_details_parquetSELECT * FROM order_details;\n",
    "\n",
    "## SPECIFY FIELD DATA TYPES;\n",
    "\n",
    "## TABLE DELIMITERS;\n",
    "\n",
    "CREATE TABLE vendors(id INT,name STRING,email STRING)\n",
    "ROW FORMAT SERDE 'org.apache.hadoop.hive.serde2.OpenCSVSerde'\n",
    "WITH SERDEPROPERTIES (\"separatorChar\"=\",\",\n",
    "                     \"quoteChar\"=\"\\\"\",\n",
    "                     \"escapeChar\"=\"\\\\\")\n",
    "\n",
    "## LOCATION;\n",
    "\n",
    "## STORAGE FORMAT;\n",
    "\n",
    "Use of OpenCSVSerDe\n",
    "\n",
    "## LOAD DATA [LOCAL] INPATH;\n",
    "\n",
    "LOAD DATA INPATH 'sales.txt' INTO TABLE sales;\n",
    "LOAD DATA LOCALINPATH '/home/bob/sales.txt'INTO TABLE sales ;\n",
    "LOAD DATA INPATH '/depts/finance/salesdata'OVERWRITEINTO TABLE sales;\n",
    "\n",
    "## sqoop hive import;\n",
    "\n",
    "sqoop import \\\n",
    "--connect  jdbc:mysql://localhost/dualcore\\\n",
    "--username training \\\n",
    "--password training \\\n",
    "--fields terminated by '\\t' \\\n",
    "--table employees \\\n",
    "--hive-import\n",
    "\n",
    "## CREATE TABLE AS SELECT;\n",
    "\n",
    "CREATE TABLE ny_customersAS SELECT cust_id, fname, lname FROM customersWHERE state = 'NY';\n",
    "CREATE TABLE jobs_archived LIKEjobs;\n",
    "\n",
    "## INSERT INTO TABLE OVERWRITE SELECT;\n",
    "\n",
    "INSERT OVERWRITE TABLE ny_customers SELECT * FROM customersWHERE state = 'NY';\n",
    "INSERT INTO TABLEny_customers SELECT * FROM customersWHERE state = 'NJ' OR state = 'CT';\n",
    "\n",
    "## CREATE AND LOAD PARTITIONED TABLES;\n",
    "\n",
    "INSERT OVERWRITE TABLE customers_by_state \n",
    "PARTITION(state)SELECT cust_id, fname, lname, address, city, zipcode, state FROM customers;\n",
    "\n",
    "## OPTIMIZE HIVE TABLE WITH BINARY STORAGE;\n"
   ]
  },
  {
   "cell_type": "code",
   "execution_count": null,
   "metadata": {},
   "outputs": [],
   "source": []
  },
  {
   "cell_type": "code",
   "execution_count": null,
   "metadata": {},
   "outputs": [],
   "source": []
  },
  {
   "cell_type": "code",
   "execution_count": null,
   "metadata": {},
   "outputs": [],
   "source": []
  },
  {
   "cell_type": "code",
   "execution_count": null,
   "metadata": {},
   "outputs": [],
   "source": []
  },
  {
   "cell_type": "code",
   "execution_count": null,
   "metadata": {},
   "outputs": [],
   "source": []
  },
  {
   "cell_type": "code",
   "execution_count": null,
   "metadata": {},
   "outputs": [],
   "source": []
  },
  {
   "cell_type": "code",
   "execution_count": null,
   "metadata": {},
   "outputs": [],
   "source": []
  },
  {
   "cell_type": "code",
   "execution_count": null,
   "metadata": {},
   "outputs": [],
   "source": []
  },
  {
   "cell_type": "code",
   "execution_count": null,
   "metadata": {},
   "outputs": [],
   "source": []
  },
  {
   "cell_type": "code",
   "execution_count": null,
   "metadata": {},
   "outputs": [],
   "source": []
  },
  {
   "cell_type": "code",
   "execution_count": null,
   "metadata": {},
   "outputs": [],
   "source": []
  },
  {
   "cell_type": "code",
   "execution_count": null,
   "metadata": {},
   "outputs": [],
   "source": []
  },
  {
   "cell_type": "code",
   "execution_count": null,
   "metadata": {},
   "outputs": [],
   "source": []
  },
  {
   "cell_type": "markdown",
   "metadata": {},
   "source": [
    "# Part II. Hands On"
   ]
  },
  {
   "cell_type": "markdown",
   "metadata": {},
   "source": [
    "# A. Short Answers"
   ]
  },
  {
   "cell_type": "code",
   "execution_count": null,
   "metadata": {},
   "outputs": [],
   "source": [
    "map function\n",
    "\n",
    "input: \"128.1.1.2 shopping_basket.html\",\"128.1.1.3 checkout.html\", \"128.1.1.2 search.html\", \"128.1.1.2 product.html\",\n",
    "        \"128.1.1.2 product.html\", \"128.1.1.3 shopping_basket.html\", \"128.1.1.4 homepage.html\", \"128.1.1.5 product.html\",\n",
    "        \"128.1.1.8 search.html\"\n",
    "output: (\"128.1.1.2\",1),(\"shopping_basket.html\",1)\n",
    "logic: split the input of the IP address of visitor and page they requested into two, \n",
    "    for each page in the list, output the (page, 1) pair.\n",
    "    \n",
    "    \n",
    "reduce function:\n",
    "input: (\"shopping_basekt.html\", 1), (\"checkout.html\", 1), (\"search.html\", 1), (\"product.html\")\n",
    "output: shopping_basket.html 2\n",
    "logic: after shuffle/sort has been completed, reduce"
   ]
  },
  {
   "cell_type": "code",
   "execution_count": null,
   "metadata": {},
   "outputs": [],
   "source": [
    "3 Main Advantages of Data Lakes\n",
    "\n",
    "-- Contents of the data lake stream in from sources to fill lake, various users can examine, dive in, or take samples\n",
    "-- Hadoop is ideal platform because you can store mixture of structured and unstructured data side by side\n",
    "-- Flexibility: More analytic capabilities and works with more data types than SQL \n",
    "    (key, value pairs accommodates different kinds of structured/unstructured data)\n",
    "-- Data is extremely complex and crosses over multiple boundaries\n",
    "    \n",
    "2 Main Disadvantages\n",
    "\n",
    "-- Must make sure that you can store the data in a way that it is retrievable by query.\n",
    "-- You must plan for sustainability - data governance, data quality, data security\n",
    "-- Data lakes are resource intensive, taking up enormous quantities of storage and the requirement of processing power."
   ]
  },
  {
   "cell_type": "code",
   "execution_count": null,
   "metadata": {},
   "outputs": [],
   "source": []
  },
  {
   "cell_type": "code",
   "execution_count": null,
   "metadata": {},
   "outputs": [],
   "source": [
    "\n",
    "\n",
    "CREATE DATABASE election;\n",
    "\n"
   ]
  },
  {
   "cell_type": "code",
   "execution_count": 1,
   "metadata": {},
   "outputs": [
    {
     "ename": "SyntaxError",
     "evalue": "invalid syntax (<ipython-input-1-3e3da65313bc>, line 1)",
     "output_type": "error",
     "traceback": [
      "\u001b[1;36m  File \u001b[1;32m\"<ipython-input-1-3e3da65313bc>\"\u001b[1;36m, line \u001b[1;32m1\u001b[0m\n\u001b[1;33m    CREATE TABLE movies (FIPS INT, AREA_NAME STRING, STATE_ABBREVIATION STRING, POPULATION INT,\u001b[0m\n\u001b[1;37m               ^\u001b[0m\n\u001b[1;31mSyntaxError\u001b[0m\u001b[1;31m:\u001b[0m invalid syntax\n"
     ]
    }
   ],
   "source": [
    "CREATE EXTERNAL TABLE counties (FIPS INT, AREA_NAME STRING, STATE_ABBREVIATION STRING, POPULATION INT, \n",
    "                     POPULATION2010 INT, AGE18 FLOAT, AGE65 FLOAT, FEMALEPCT FLOAT, WHITEPCT FLOAT, \n",
    "                                       BLACKPCT FLOAT, NATIVEPCT FLOAT, INC INT, COLLEGEPCT FLOAT) \n",
    "            ROW FORMAT SERDE 'org.apache.hadoop.hive.serde2.OpenCSVSerde' \n",
    "            WITH SERDEPROPERTIES (\"separatorChar\" = \",\") \n",
    "            LOCATION '/user/cloudera/counties';\n",
    "            \n",
    "            \n",
    "CREATE TABLE election_orc (COUNTY STRING, STATE_ABBREVIATION STRING, FIPS INT, PARTY STRING, \n",
    "                     CANDIDATE STRING, VOTES INT) \n",
    "            ROW FORMAT SERDE 'org.apache.hadoop.hive.serde2.OpenCSVSerde' \n",
    "            WITH SERDEPROPERTIES (\"separatorChar\" = \"|\", \"quoteChar\" = \"\\\"\")\n",
    "            TBLPROPERTIES(\"skip.header.line.count\"=\"1\");\n",
    "            -- LOCATION '/user/cloudera/counties' "
   ]
  },
  {
   "cell_type": "code",
   "execution_count": null,
   "metadata": {},
   "outputs": [],
   "source": []
  },
  {
   "cell_type": "code",
   "execution_count": null,
   "metadata": {},
   "outputs": [],
   "source": []
  },
  {
   "cell_type": "code",
   "execution_count": null,
   "metadata": {},
   "outputs": [],
   "source": []
  },
  {
   "cell_type": "code",
   "execution_count": null,
   "metadata": {},
   "outputs": [],
   "source": []
  },
  {
   "cell_type": "code",
   "execution_count": null,
   "metadata": {},
   "outputs": [],
   "source": []
  },
  {
   "cell_type": "code",
   "execution_count": null,
   "metadata": {},
   "outputs": [],
   "source": []
  },
  {
   "cell_type": "code",
   "execution_count": null,
   "metadata": {},
   "outputs": [],
   "source": []
  },
  {
   "cell_type": "code",
   "execution_count": null,
   "metadata": {},
   "outputs": [],
   "source": []
  },
  {
   "cell_type": "code",
   "execution_count": null,
   "metadata": {},
   "outputs": [],
   "source": []
  },
  {
   "cell_type": "code",
   "execution_count": null,
   "metadata": {},
   "outputs": [],
   "source": []
  },
  {
   "cell_type": "code",
   "execution_count": null,
   "metadata": {},
   "outputs": [],
   "source": []
  },
  {
   "cell_type": "code",
   "execution_count": null,
   "metadata": {},
   "outputs": [],
   "source": []
  },
  {
   "cell_type": "code",
   "execution_count": null,
   "metadata": {},
   "outputs": [],
   "source": []
  },
  {
   "cell_type": "code",
   "execution_count": null,
   "metadata": {},
   "outputs": [],
   "source": []
  },
  {
   "cell_type": "code",
   "execution_count": null,
   "metadata": {},
   "outputs": [],
   "source": []
  },
  {
   "cell_type": "code",
   "execution_count": null,
   "metadata": {},
   "outputs": [],
   "source": []
  },
  {
   "cell_type": "code",
   "execution_count": null,
   "metadata": {},
   "outputs": [],
   "source": []
  },
  {
   "cell_type": "code",
   "execution_count": null,
   "metadata": {},
   "outputs": [],
   "source": []
  },
  {
   "cell_type": "code",
   "execution_count": null,
   "metadata": {},
   "outputs": [],
   "source": []
  },
  {
   "cell_type": "code",
   "execution_count": null,
   "metadata": {},
   "outputs": [],
   "source": []
  },
  {
   "cell_type": "code",
   "execution_count": null,
   "metadata": {},
   "outputs": [],
   "source": []
  },
  {
   "cell_type": "code",
   "execution_count": null,
   "metadata": {},
   "outputs": [],
   "source": []
  },
  {
   "cell_type": "code",
   "execution_count": null,
   "metadata": {},
   "outputs": [],
   "source": []
  },
  {
   "cell_type": "code",
   "execution_count": null,
   "metadata": {},
   "outputs": [],
   "source": []
  },
  {
   "cell_type": "code",
   "execution_count": null,
   "metadata": {},
   "outputs": [],
   "source": []
  },
  {
   "cell_type": "code",
   "execution_count": null,
   "metadata": {},
   "outputs": [],
   "source": []
  },
  {
   "cell_type": "code",
   "execution_count": null,
   "metadata": {},
   "outputs": [],
   "source": []
  },
  {
   "cell_type": "code",
   "execution_count": null,
   "metadata": {},
   "outputs": [],
   "source": []
  },
  {
   "cell_type": "code",
   "execution_count": null,
   "metadata": {},
   "outputs": [],
   "source": []
  },
  {
   "cell_type": "code",
   "execution_count": null,
   "metadata": {},
   "outputs": [],
   "source": []
  },
  {
   "cell_type": "code",
   "execution_count": null,
   "metadata": {},
   "outputs": [],
   "source": []
  },
  {
   "cell_type": "code",
   "execution_count": null,
   "metadata": {},
   "outputs": [],
   "source": []
  },
  {
   "cell_type": "code",
   "execution_count": null,
   "metadata": {},
   "outputs": [],
   "source": []
  },
  {
   "cell_type": "code",
   "execution_count": null,
   "metadata": {},
   "outputs": [],
   "source": []
  },
  {
   "cell_type": "code",
   "execution_count": null,
   "metadata": {},
   "outputs": [],
   "source": []
  },
  {
   "cell_type": "code",
   "execution_count": null,
   "metadata": {},
   "outputs": [],
   "source": []
  },
  {
   "cell_type": "code",
   "execution_count": null,
   "metadata": {},
   "outputs": [],
   "source": []
  },
  {
   "cell_type": "code",
   "execution_count": null,
   "metadata": {},
   "outputs": [],
   "source": []
  },
  {
   "cell_type": "code",
   "execution_count": null,
   "metadata": {},
   "outputs": [],
   "source": []
  },
  {
   "cell_type": "code",
   "execution_count": null,
   "metadata": {},
   "outputs": [],
   "source": []
  },
  {
   "cell_type": "code",
   "execution_count": null,
   "metadata": {},
   "outputs": [],
   "source": []
  },
  {
   "cell_type": "code",
   "execution_count": null,
   "metadata": {},
   "outputs": [],
   "source": []
  },
  {
   "cell_type": "code",
   "execution_count": null,
   "metadata": {},
   "outputs": [],
   "source": []
  },
  {
   "cell_type": "markdown",
   "metadata": {},
   "source": []
  },
  {
   "cell_type": "code",
   "execution_count": null,
   "metadata": {},
   "outputs": [],
   "source": []
  },
  {
   "cell_type": "code",
   "execution_count": null,
   "metadata": {},
   "outputs": [],
   "source": []
  },
  {
   "cell_type": "code",
   "execution_count": null,
   "metadata": {},
   "outputs": [],
   "source": []
  },
  {
   "cell_type": "code",
   "execution_count": null,
   "metadata": {},
   "outputs": [],
   "source": []
  },
  {
   "cell_type": "code",
   "execution_count": null,
   "metadata": {},
   "outputs": [],
   "source": []
  },
  {
   "cell_type": "code",
   "execution_count": null,
   "metadata": {},
   "outputs": [],
   "source": []
  },
  {
   "cell_type": "code",
   "execution_count": null,
   "metadata": {},
   "outputs": [],
   "source": []
  },
  {
   "cell_type": "code",
   "execution_count": null,
   "metadata": {},
   "outputs": [],
   "source": []
  },
  {
   "cell_type": "code",
   "execution_count": null,
   "metadata": {},
   "outputs": [],
   "source": []
  },
  {
   "cell_type": "code",
   "execution_count": null,
   "metadata": {},
   "outputs": [],
   "source": []
  },
  {
   "cell_type": "code",
   "execution_count": null,
   "metadata": {},
   "outputs": [],
   "source": []
  },
  {
   "cell_type": "code",
   "execution_count": null,
   "metadata": {},
   "outputs": [],
   "source": []
  },
  {
   "cell_type": "code",
   "execution_count": null,
   "metadata": {},
   "outputs": [],
   "source": []
  },
  {
   "cell_type": "code",
   "execution_count": null,
   "metadata": {},
   "outputs": [],
   "source": []
  },
  {
   "cell_type": "code",
   "execution_count": null,
   "metadata": {},
   "outputs": [],
   "source": []
  },
  {
   "cell_type": "code",
   "execution_count": null,
   "metadata": {},
   "outputs": [],
   "source": []
  },
  {
   "cell_type": "code",
   "execution_count": null,
   "metadata": {},
   "outputs": [],
   "source": []
  }
 ],
 "metadata": {
  "kernelspec": {
   "display_name": "Python 3",
   "language": "python",
   "name": "python3"
  },
  "language_info": {
   "codemirror_mode": {
    "name": "ipython",
    "version": 3
   },
   "file_extension": ".py",
   "mimetype": "text/x-python",
   "name": "python",
   "nbconvert_exporter": "python",
   "pygments_lexer": "ipython3",
   "version": "3.7.3"
  }
 },
 "nbformat": 4,
 "nbformat_minor": 2
}
