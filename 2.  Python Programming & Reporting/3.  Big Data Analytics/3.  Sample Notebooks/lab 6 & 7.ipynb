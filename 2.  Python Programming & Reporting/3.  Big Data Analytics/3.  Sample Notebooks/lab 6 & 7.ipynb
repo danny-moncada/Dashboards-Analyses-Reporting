{
 "cells": [
  {
   "cell_type": "markdown",
   "metadata": {},
   "source": [
    "1. Start the beeline command line environment for Hive: __$ beeline -u jdbc:hive2://__\n",
    "2. As this lab will use the dualcore database, set it to be the current database, then display the tables in this database.\n",
    "3. Describe the table customers to learn about its fields."
   ]
  },
  {
   "cell_type": "code",
   "execution_count": null,
   "metadata": {},
   "outputs": [],
   "source": [
    "[cloudera@quickstart ~]$ beeline -u jdbc:hive2://\n",
    "scan complete in 5ms\n",
    "Connecting to jdbc:hive2://\n",
    "Connected to: Apache Hive (version 1.1.0-cdh5.10.0)\n",
    "Driver: Hive JDBC (version 1.1.0-cdh5.10.0)\n",
    "Transaction isolation: TRANSACTION_REPEATABLE_READ\n",
    "Beeline version 1.1.0-cdh5.10.0 by Apache Hive\n",
    "0: jdbc:hive2://> SHOW DATABASES;\n",
    "OK\n",
    "+----------------+--+\n",
    "| database_name  |\n",
    "+----------------+--+\n",
    "| default        |\n",
    "| dualcore       |\n",
    "+----------------+--+\n",
    "2 rows selected (4.215 seconds)\n",
    "0: jdbc:hive2://> USE DUALCORE;\n",
    "OK\n",
    "No rows affected (0.132 seconds)\n",
    "0: jdbc:hive2://>"
   ]
  },
  {
   "cell_type": "code",
   "execution_count": null,
   "metadata": {},
   "outputs": [],
   "source": [
    "0: jdbc:hive2://> SHOW TABLES;\n",
    "OK\n",
    "+----------------+--+\n",
    "|    tab_name    |\n",
    "+----------------+--+\n",
    "| customers      |\n",
    "| employees      |\n",
    "| order_details  |\n",
    "| orders         |\n",
    "| products       |\n",
    "+----------------+--+\n",
    "5 rows selected (0.163 seconds)\n",
    "0: jdbc:hive2://>\n"
   ]
  },
  {
   "cell_type": "code",
   "execution_count": null,
   "metadata": {},
   "outputs": [],
   "source": [
    "0: jdbc:hive2://> DESCRIBE CUSTOMERS;\n",
    "OK\n",
    "+-----------+------------+----------+--+\n",
    "| col_name  | data_type  | comment  |\n",
    "+-----------+------------+----------+--+\n",
    "| cust_id   | int        |          |\n",
    "| fname     | string     |          |\n",
    "| lname     | string     |          |\n",
    "| address   | string     |          |\n",
    "| city      | string     |          |\n",
    "| state     | string     |          |\n",
    "| zipcode   | string     |          |\n",
    "+-----------+------------+----------+--+\n",
    "7 rows selected (0.391 seconds)\n",
    "0: jdbc:hive2://>\n"
   ]
  },
  {
   "cell_type": "markdown",
   "metadata": {},
   "source": [
    "4. All you know about the winner is that her name is Bridget and she lives in Kansas City. Use Hive’s LIKE operator to do a wildcard search for customers with first names (fname) such as “Bridget”, “Bridgette” or “Bridgitte”. Remember to filter on the customer’s city (city). Question : Which customer did your query identify as the winner of the $5,000 prize?\n",
    "5. Exit the beeline shell and return to the command line."
   ]
  },
  {
   "cell_type": "code",
   "execution_count": null,
   "metadata": {},
   "outputs": [],
   "source": [
    "0: jdbc:hive2://> SELECT * FROM customers WHERE (fname LIKE '%Bridget%' OR fname LIKE '%Bridgette%' OR fname LIKE '%Bridgitte%') AND city = 'Kansas City';\n",
    "OK\n",
    "+--------------------+------------------+------------------+-----------------------+-----------------+------------------+--------------------+--+\n",
    "| customers.cust_id  | customers.fname  | customers.lname  |   customers.address   | customers.city  | customers.state  | customers.zipcode  |\n",
    "+--------------------+------------------+------------------+-----------------------+-----------------+------------------+--------------------+--+\n",
    "| 1139477            | Bridget          | Burch            | 1644 East 7th Street  | Kansas City     | KS               | 66119              |\n",
    "+--------------------+------------------+------------------+-----------------------+-----------------+------------------+--------------------+--+\n",
    "1 row selected (1.598 seconds)\n"
   ]
  },
  {
   "cell_type": "markdown",
   "metadata": {},
   "source": [
    "# 2. Running a Query Directly from the Command Line"
   ]
  },
  {
   "cell_type": "code",
   "execution_count": null,
   "metadata": {},
   "outputs": [],
   "source": [
    " SELECT price, brand, name FROM products ORDER BY\n",
    " price DESC LIMIT 3"
   ]
  },
  {
   "cell_type": "code",
   "execution_count": null,
   "metadata": {},
   "outputs": [],
   "source": []
  },
  {
   "cell_type": "code",
   "execution_count": null,
   "metadata": {},
   "outputs": [],
   "source": []
  },
  {
   "cell_type": "code",
   "execution_count": null,
   "metadata": {},
   "outputs": [],
   "source": []
  },
  {
   "cell_type": "code",
   "execution_count": null,
   "metadata": {},
   "outputs": [],
   "source": []
  },
  {
   "cell_type": "code",
   "execution_count": null,
   "metadata": {},
   "outputs": [],
   "source": []
  },
  {
   "cell_type": "markdown",
   "metadata": {},
   "source": [
    "# Step #4: Running a Query Through Hue and Beeswax"
   ]
  },
  {
   "cell_type": "code",
   "execution_count": null,
   "metadata": {},
   "outputs": [],
   "source": []
  },
  {
   "cell_type": "code",
   "execution_count": null,
   "metadata": {},
   "outputs": [],
   "source": [
    "SELECT COUNT(*) from customers;\n",
    "\n",
    "# 53"
   ]
  },
  {
   "cell_type": "code",
   "execution_count": null,
   "metadata": {},
   "outputs": [],
   "source": []
  },
  {
   "cell_type": "code",
   "execution_count": null,
   "metadata": {},
   "outputs": [],
   "source": []
  },
  {
   "cell_type": "code",
   "execution_count": null,
   "metadata": {},
   "outputs": [],
   "source": []
  },
  {
   "cell_type": "code",
   "execution_count": null,
   "metadata": {},
   "outputs": [],
   "source": []
  },
  {
   "cell_type": "code",
   "execution_count": null,
   "metadata": {},
   "outputs": [],
   "source": []
  },
  {
   "cell_type": "code",
   "execution_count": null,
   "metadata": {},
   "outputs": [],
   "source": []
  },
  {
   "cell_type": "code",
   "execution_count": null,
   "metadata": {},
   "outputs": [],
   "source": []
  },
  {
   "cell_type": "code",
   "execution_count": null,
   "metadata": {},
   "outputs": [],
   "source": []
  },
  {
   "cell_type": "code",
   "execution_count": null,
   "metadata": {},
   "outputs": [],
   "source": []
  },
  {
   "cell_type": "code",
   "execution_count": null,
   "metadata": {},
   "outputs": [],
   "source": []
  }
 ],
 "metadata": {
  "kernelspec": {
   "display_name": "Python 3",
   "language": "python",
   "name": "python3"
  },
  "language_info": {
   "codemirror_mode": {
    "name": "ipython",
    "version": 3
   },
   "file_extension": ".py",
   "mimetype": "text/x-python",
   "name": "python",
   "nbconvert_exporter": "python",
   "pygments_lexer": "ipython3",
   "version": "3.7.3"
  }
 },
 "nbformat": 4,
 "nbformat_minor": 2
}
