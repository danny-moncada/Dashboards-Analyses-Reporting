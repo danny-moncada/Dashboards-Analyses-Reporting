{
 "cells": [
  {
   "cell_type": "code",
   "execution_count": 1,
   "metadata": {},
   "outputs": [
    {
     "name": "stdout",
     "output_type": "stream",
     "text": [
      "('Training dataset shape:', (3673L, 11L), (3673L,))\n",
      "('Testing dataset shape:', (1225L, 11L), (1225L,))\n"
     ]
    },
    {
     "name": "stderr",
     "output_type": "stream",
     "text": [
      "D:\\ProgramData\\Anaconda3\\envs\\crawler\\lib\\site-packages\\sklearn\\ensemble\\weight_boosting.py:29: DeprecationWarning: numpy.core.umath_tests is an internal NumPy module and should not be imported. It will be removed in a future NumPy release.\n",
      "  from numpy.core.umath_tests import inner1d\n"
     ]
    }
   ],
   "source": [
    "import numpy as np\n",
    "import pandas as pd\n",
    "from sklearn.linear_model import LogisticRegression\n",
    "from sklearn.model_selection import train_test_split\n",
    "from sklearn.metrics import accuracy_score as acc\n",
    "from mlxtend.feature_selection import SequentialFeatureSelector as sfs\n",
    "\n",
    "# Read data\n",
    "df = pd.read_csv('winequality-white.csv', sep=';')\n",
    "\n",
    "# Train/test split\n",
    "X_train, X_test, y_train, y_test = train_test_split(\n",
    "    df.values[:,:-1],\n",
    "    df.values[:,-1:],\n",
    "    test_size=0.25,\n",
    "    random_state=42)\n",
    "\n",
    "y_train = y_train.ravel()\n",
    "y_test = y_test.ravel()\n",
    "\n",
    "print('Training dataset shape:', X_train.shape, y_train.shape)\n",
    "print('Testing dataset shape:', X_test.shape, y_test.shape)"
   ]
  },
  {
   "cell_type": "code",
   "execution_count": 7,
   "metadata": {},
   "outputs": [
    {
     "name": "stderr",
     "output_type": "stream",
     "text": [
      "[Parallel(n_jobs=10)]: Done   4 out of  11 | elapsed:    1.3s remaining:    2.4s\n",
      "[Parallel(n_jobs=10)]: Done  11 out of  11 | elapsed:    3.7s finished\n",
      "\n",
      "[2018-10-07 12:31:55] Features: 1/6 -- score: 0.4990383272434632[Parallel(n_jobs=10)]: Done   3 out of  10 | elapsed:    0.9s remaining:    2.2s\n",
      "[Parallel(n_jobs=10)]: Done  10 out of  10 | elapsed:    3.1s finished\n",
      "\n",
      "[2018-10-07 12:31:58] Features: 2/6 -- score: 0.5227297590506889[Parallel(n_jobs=9)]: Done   2 out of   9 | elapsed:    0.7s remaining:    2.7s\n",
      "[Parallel(n_jobs=9)]: Done   7 out of   9 | elapsed:    2.1s remaining:    0.5s\n",
      "[Parallel(n_jobs=9)]: Done   9 out of   9 | elapsed:    2.7s finished\n",
      "\n",
      "[2018-10-07 12:32:01] Features: 3/6 -- score: 0.5341606517893626[Parallel(n_jobs=8)]: Done   3 out of   8 | elapsed:    1.1s remaining:    1.9s\n",
      "[Parallel(n_jobs=8)]: Done   8 out of   8 | elapsed:    2.7s remaining:    0.0s\n",
      "[Parallel(n_jobs=8)]: Done   8 out of   8 | elapsed:    2.7s finished\n",
      "\n",
      "[2018-10-07 12:32:05] Features: 4/6 -- score: 0.5366133527723354[Parallel(n_jobs=7)]: Done   2 out of   7 | elapsed:    0.8s remaining:    2.1s\n",
      "[Parallel(n_jobs=7)]: Done   7 out of   7 | elapsed:    2.4s finished\n",
      "\n",
      "[2018-10-07 12:32:08] Features: 5/6 -- score: 0.5387842696646997[Parallel(n_jobs=6)]: Done   3 out of   6 | elapsed:    1.3s remaining:    1.3s\n",
      "[Parallel(n_jobs=6)]: Done   6 out of   6 | elapsed:    2.7s finished\n",
      "\n",
      "[2018-10-07 12:32:11] Features: 6/6 -- score: 0.5396117593985698"
     ]
    }
   ],
   "source": [
    "# Build RF classifier to use in feature selection\n",
    "clf = LogisticRegression(C=1e5)\n",
    "\n",
    "# Build step forward feature selection\n",
    "sfs1 = sfs(clf,\n",
    "           k_features=6,\n",
    "           forward=True, # Otherwise, this will be the backward selection \n",
    "           floating=False,\n",
    "           n_jobs=10, # The number of CPUs to use for evaluating \n",
    "           verbose=2,\n",
    "           scoring='accuracy',\n",
    "           cv=5)\n",
    "\n",
    "# Perform SFFS\n",
    "sfs1 = sfs1.fit(X_train, y_train)"
   ]
  },
  {
   "cell_type": "code",
   "execution_count": 8,
   "metadata": {},
   "outputs": [
    {
     "name": "stdout",
     "output_type": "stream",
     "text": [
      "[0, 1, 3, 4, 9, 10]\n"
     ]
    }
   ],
   "source": [
    "# Which features?\n",
    "feat_cols = list(sfs1.k_feature_idx_)\n",
    "print(feat_cols)"
   ]
  },
  {
   "cell_type": "code",
   "execution_count": 9,
   "metadata": {},
   "outputs": [
    {
     "name": "stdout",
     "output_type": "stream",
     "text": [
      "Training accuracy on selected features: 0.538\n",
      "Testing accuracy on selected features: 0.522\n"
     ]
    }
   ],
   "source": [
    "# Build full model with selected features\n",
    "clf =  LogisticRegression(C=1e5)\n",
    "clf.fit(X_train[:, feat_cols], y_train)\n",
    "\n",
    "y_train_pred = clf.predict(X_train[:, feat_cols])\n",
    "print('Training accuracy on selected features: %.3f' % acc(y_train, y_train_pred))\n",
    "\n",
    "y_test_pred = clf.predict(X_test[:, feat_cols])\n",
    "print('Testing accuracy on selected features: %.3f' % acc(y_test, y_test_pred))"
   ]
  },
  {
   "cell_type": "code",
   "execution_count": 10,
   "metadata": {},
   "outputs": [
    {
     "name": "stdout",
     "output_type": "stream",
     "text": [
      "Training accuracy on all features: 0.542\n",
      "Testing accuracy on all features: 0.519\n"
     ]
    }
   ],
   "source": [
    "# Build full model on ALL features, for comparison\n",
    "clf = LogisticRegression(C=1e5)\n",
    "clf.fit(X_train, y_train)\n",
    "\n",
    "y_train_pred = clf.predict(X_train)\n",
    "print('Training accuracy on all features: %.3f' % acc(y_train, y_train_pred))\n",
    "\n",
    "y_test_pred = clf.predict(X_test)\n",
    "print('Testing accuracy on all features: %.3f' % acc(y_test, y_test_pred))"
   ]
  },
  {
   "cell_type": "code",
   "execution_count": null,
   "metadata": {},
   "outputs": [],
   "source": []
  }
 ],
 "metadata": {
  "hide_input": false,
  "kernelspec": {
   "display_name": "Python 3",
   "language": "python",
   "name": "python3"
  },
  "language_info": {
   "codemirror_mode": {
    "name": "ipython",
    "version": 3
   },
   "file_extension": ".py",
   "mimetype": "text/x-python",
   "name": "python",
   "nbconvert_exporter": "python",
   "pygments_lexer": "ipython3",
   "version": "3.7.3"
  }
 },
 "nbformat": 4,
 "nbformat_minor": 2
}
