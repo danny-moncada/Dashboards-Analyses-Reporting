{
 "cells": [
  {
   "cell_type": "code",
   "execution_count": 1329,
   "metadata": {
    "collapsed": false
   },
   "outputs": [
    {
     "data": {
      "text/html": [
       "<style>.container { width:100% !important; }</style>"
      ],
      "text/plain": [
       "<IPython.core.display.HTML object>"
      ]
     },
     "metadata": {},
     "output_type": "display_data"
    }
   ],
   "source": [
    "%reload_ext ishbook\n",
    "import pandas as pd\n",
    "import plus\n",
    "import xlsxwriter\n",
    "from IPython.core.display import display, HTML\n",
    "import datetime as dt\n",
    "import iql\n",
    "display(HTML(\"<style>.container { width:100% !important; }</style>\"))"
   ]
  },
  {
   "cell_type": "code",
   "execution_count": 1330,
   "metadata": {
    "collapsed": false
   },
   "outputs": [],
   "source": [
    "teams = plus.read_google_sheet('114yDQZ7Fi6AhXBg2IhO3NZxEmAcvL12AuyXSIsZN38U',intype='key',sheet='Sheet1',headers=True,index=False)"
   ]
  },
  {
   "cell_type": "markdown",
   "metadata": {},
   "source": [
    "## Collecting Team Data from Google Sheets"
   ]
  },
  {
   "cell_type": "code",
   "execution_count": 1331,
   "metadata": {
    "collapsed": false
   },
   "outputs": [],
   "source": [
    "CS_onboarding = teams[teams.Team == 'CSClientOnboarding']\n",
    "CS_clientcare = teams[teams.Team == 'CSClientCare']"
   ]
  },
  {
   "cell_type": "code",
   "execution_count": 1332,
   "metadata": {
    "collapsed": false
   },
   "outputs": [
    {
     "data": {
      "text/html": [
       "<div>\n",
       "<table border=\"1\" class=\"dataframe\">\n",
       "  <thead>\n",
       "    <tr style=\"text-align: right;\">\n",
       "      <th></th>\n",
       "      <th>Email</th>\n",
       "      <th>Team</th>\n",
       "      <th>Location</th>\n",
       "      <th>username</th>\n",
       "    </tr>\n",
       "  </thead>\n",
       "  <tbody>\n",
       "    <tr>\n",
       "      <th>144</th>\n",
       "      <td>chante@indeed.com</td>\n",
       "      <td>CSClientOnboarding</td>\n",
       "      <td>STM</td>\n",
       "      <td>chante</td>\n",
       "    </tr>\n",
       "    <tr>\n",
       "      <th>172</th>\n",
       "      <td>cmammele@indeed.com</td>\n",
       "      <td>CSClientOnboarding</td>\n",
       "      <td>STM</td>\n",
       "      <td>cmammele</td>\n",
       "    </tr>\n",
       "    <tr>\n",
       "      <th>239</th>\n",
       "      <td>esmith@indeed.com</td>\n",
       "      <td>CSClientOnboarding</td>\n",
       "      <td>STM</td>\n",
       "      <td>esmith</td>\n",
       "    </tr>\n",
       "    <tr>\n",
       "      <th>388</th>\n",
       "      <td>joet@indeed.com</td>\n",
       "      <td>CSClientOnboarding</td>\n",
       "      <td>STM</td>\n",
       "      <td>joet</td>\n",
       "    </tr>\n",
       "    <tr>\n",
       "      <th>516</th>\n",
       "      <td>mara@indeed.com</td>\n",
       "      <td>CSClientOnboarding</td>\n",
       "      <td>STM</td>\n",
       "      <td>mara</td>\n",
       "    </tr>\n",
       "  </tbody>\n",
       "</table>\n",
       "</div>"
      ],
      "text/plain": [
       "                   Email                Team Location  username\n",
       "144    chante@indeed.com  CSClientOnboarding      STM    chante\n",
       "172  cmammele@indeed.com  CSClientOnboarding      STM  cmammele\n",
       "239    esmith@indeed.com  CSClientOnboarding      STM    esmith\n",
       "388      joet@indeed.com  CSClientOnboarding      STM      joet\n",
       "516      mara@indeed.com  CSClientOnboarding      STM      mara"
      ]
     },
     "execution_count": 1332,
     "metadata": {},
     "output_type": "execute_result"
    }
   ],
   "source": [
    "CS_onboarding.head()"
   ]
  },
  {
   "cell_type": "code",
   "execution_count": 1333,
   "metadata": {
    "collapsed": false
   },
   "outputs": [],
   "source": [
    "client_onboarding_team = ','.join(str(x) for x in CS_onboarding['username'])\n",
    "client_care_team =','.join(str(x) for x in CS_clientcare['username'])"
   ]
  },
  {
   "cell_type": "markdown",
   "metadata": {},
   "source": [
    "## Collecting Data for Chat Info for the Client Onboarding Team"
   ]
  },
  {
   "cell_type": "code",
   "execution_count": 1334,
   "metadata": {
    "collapsed": false
   },
   "outputs": [],
   "source": [
    "%%ish\n",
    "chat_info = FROM crmchats 2016-10-01 2016-12-31 WHERE username IN ({client_onboarding_team}) GROUP BY username,advertiser_id, unixtime\n",
    "output = None"
   ]
  },
  {
   "cell_type": "code",
   "execution_count": 1335,
   "metadata": {
    "collapsed": false
   },
   "outputs": [
    {
     "data": {
      "text/html": [
       "<div>\n",
       "<table border=\"1\" class=\"dataframe\">\n",
       "  <thead>\n",
       "    <tr style=\"text-align: right;\">\n",
       "      <th></th>\n",
       "      <th>username</th>\n",
       "      <th>advertiser_id</th>\n",
       "      <th>unixtime</th>\n",
       "      <th></th>\n",
       "    </tr>\n",
       "  </thead>\n",
       "  <tbody>\n",
       "    <tr>\n",
       "      <th>0</th>\n",
       "      <td>chante</td>\n",
       "      <td>9238976</td>\n",
       "      <td>1475478431</td>\n",
       "      <td>1</td>\n",
       "    </tr>\n",
       "    <tr>\n",
       "      <th>1</th>\n",
       "      <td>chante</td>\n",
       "      <td>9239014</td>\n",
       "      <td>1475480628</td>\n",
       "      <td>1</td>\n",
       "    </tr>\n",
       "    <tr>\n",
       "      <th>2</th>\n",
       "      <td>owen</td>\n",
       "      <td>5291697</td>\n",
       "      <td>1475484245</td>\n",
       "      <td>1</td>\n",
       "    </tr>\n",
       "    <tr>\n",
       "      <th>3</th>\n",
       "      <td>chante</td>\n",
       "      <td>9240264</td>\n",
       "      <td>1475484521</td>\n",
       "      <td>1</td>\n",
       "    </tr>\n",
       "    <tr>\n",
       "      <th>4</th>\n",
       "      <td>chante</td>\n",
       "      <td>9241158</td>\n",
       "      <td>1475486221</td>\n",
       "      <td>1</td>\n",
       "    </tr>\n",
       "  </tbody>\n",
       "</table>\n",
       "</div>"
      ],
      "text/plain": [
       "  username  advertiser_id    unixtime   \n",
       "0   chante        9238976  1475478431  1\n",
       "1   chante        9239014  1475480628  1\n",
       "2     owen        5291697  1475484245  1\n",
       "3   chante        9240264  1475484521  1\n",
       "4   chante        9241158  1475486221  1"
      ]
     },
     "execution_count": 1335,
     "metadata": {},
     "output_type": "execute_result"
    }
   ],
   "source": [
    "chat_info.head()"
   ]
  },
  {
   "cell_type": "code",
   "execution_count": 1336,
   "metadata": {
    "collapsed": false
   },
   "outputs": [],
   "source": [
    "chat_info.sort_values(['advertiser_id','unixtime'], ascending = True, inplace = True)\n",
    "chat_info.drop_duplicates(subset = ['advertiser_id'], keep = 'first', inplace = True)"
   ]
  },
  {
   "cell_type": "code",
   "execution_count": 1337,
   "metadata": {
    "collapsed": false
   },
   "outputs": [
    {
     "data": {
      "text/html": [
       "<div>\n",
       "<table border=\"1\" class=\"dataframe\">\n",
       "  <thead>\n",
       "    <tr style=\"text-align: right;\">\n",
       "      <th></th>\n",
       "      <th>username</th>\n",
       "      <th>advertiser_id</th>\n",
       "      <th>unixtime</th>\n",
       "      <th></th>\n",
       "    </tr>\n",
       "  </thead>\n",
       "  <tbody>\n",
       "    <tr>\n",
       "      <th>144</th>\n",
       "      <td>tylerb</td>\n",
       "      <td>0</td>\n",
       "      <td>1475691675</td>\n",
       "      <td>1</td>\n",
       "    </tr>\n",
       "    <tr>\n",
       "      <th>1591</th>\n",
       "      <td>mara</td>\n",
       "      <td>23285</td>\n",
       "      <td>1478525276</td>\n",
       "      <td>1</td>\n",
       "    </tr>\n",
       "    <tr>\n",
       "      <th>3170</th>\n",
       "      <td>esmith</td>\n",
       "      <td>42571</td>\n",
       "      <td>1481197309</td>\n",
       "      <td>1</td>\n",
       "    </tr>\n",
       "    <tr>\n",
       "      <th>1975</th>\n",
       "      <td>pmyers</td>\n",
       "      <td>46975</td>\n",
       "      <td>1479129973</td>\n",
       "      <td>1</td>\n",
       "    </tr>\n",
       "    <tr>\n",
       "      <th>3004</th>\n",
       "      <td>pmyers</td>\n",
       "      <td>57650</td>\n",
       "      <td>1480954133</td>\n",
       "      <td>1</td>\n",
       "    </tr>\n",
       "  </tbody>\n",
       "</table>\n",
       "</div>"
      ],
      "text/plain": [
       "     username  advertiser_id    unixtime   \n",
       "144    tylerb              0  1475691675  1\n",
       "1591     mara          23285  1478525276  1\n",
       "3170   esmith          42571  1481197309  1\n",
       "1975   pmyers          46975  1479129973  1\n",
       "3004   pmyers          57650  1480954133  1"
      ]
     },
     "execution_count": 1337,
     "metadata": {},
     "output_type": "execute_result"
    }
   ],
   "source": [
    "chat_info.head()"
   ]
  },
  {
   "cell_type": "code",
   "execution_count": 1338,
   "metadata": {
    "collapsed": false
   },
   "outputs": [],
   "source": [
    "chat_advertiser_info = plus.get_advertiser_info(chat_info['advertiser_id'])"
   ]
  },
  {
   "cell_type": "code",
   "execution_count": 1339,
   "metadata": {
    "collapsed": false
   },
   "outputs": [],
   "source": [
    "frd_chat = chat_advertiser_info['first_revenue_date'].to_frame()"
   ]
  },
  {
   "cell_type": "code",
   "execution_count": 1340,
   "metadata": {
    "collapsed": false
   },
   "outputs": [],
   "source": [
    "chat_info = chat_info.merge(frd_chat, how = 'left', left_on = 'advertiser_id', right_index = True)"
   ]
  },
  {
   "cell_type": "code",
   "execution_count": 1341,
   "metadata": {
    "collapsed": false
   },
   "outputs": [],
   "source": [
    "chat_info['First Chat Date This Q'] = [dt.datetime.fromtimestamp(x).strftime('%Y-%m-%d') for x in chat_info['unixtime']]"
   ]
  },
  {
   "cell_type": "code",
   "execution_count": 1342,
   "metadata": {
    "collapsed": false
   },
   "outputs": [
    {
     "data": {
      "text/plain": [
       "3426"
      ]
     },
     "execution_count": 1342,
     "metadata": {},
     "output_type": "execute_result"
    }
   ],
   "source": [
    "len(chat_info['username'])"
   ]
  },
  {
   "cell_type": "code",
   "execution_count": 1343,
   "metadata": {
    "collapsed": false
   },
   "outputs": [],
   "source": [
    "#Randomized Sample of 1000 acounts here\n",
    "chat_sample_size = chat_info.sample(n=1000)"
   ]
  },
  {
   "cell_type": "code",
   "execution_count": 1344,
   "metadata": {
    "collapsed": false
   },
   "outputs": [
    {
     "data": {
      "text/html": [
       "<div>\n",
       "<table border=\"1\" class=\"dataframe\">\n",
       "  <thead>\n",
       "    <tr style=\"text-align: right;\">\n",
       "      <th></th>\n",
       "      <th>username</th>\n",
       "      <th>advertiser_id</th>\n",
       "      <th>unixtime</th>\n",
       "      <th></th>\n",
       "      <th>first_revenue_date</th>\n",
       "      <th>First Chat Date This Q</th>\n",
       "    </tr>\n",
       "  </thead>\n",
       "  <tbody>\n",
       "    <tr>\n",
       "      <th>58</th>\n",
       "      <td>mwatts</td>\n",
       "      <td>9262939</td>\n",
       "      <td>1475577723</td>\n",
       "      <td>1</td>\n",
       "      <td>None</td>\n",
       "      <td>2016-10-04</td>\n",
       "    </tr>\n",
       "    <tr>\n",
       "      <th>89</th>\n",
       "      <td>cmammele</td>\n",
       "      <td>9268571</td>\n",
       "      <td>1475594328</td>\n",
       "      <td>1</td>\n",
       "      <td>2016-10-07</td>\n",
       "      <td>2016-10-04</td>\n",
       "    </tr>\n",
       "    <tr>\n",
       "      <th>1641</th>\n",
       "      <td>mara</td>\n",
       "      <td>9717281</td>\n",
       "      <td>1478540188</td>\n",
       "      <td>1</td>\n",
       "      <td>2016-11-07</td>\n",
       "      <td>2016-11-07</td>\n",
       "    </tr>\n",
       "    <tr>\n",
       "      <th>3172</th>\n",
       "      <td>cmammele</td>\n",
       "      <td>9906148</td>\n",
       "      <td>1481197693</td>\n",
       "      <td>1</td>\n",
       "      <td>2016-12-12</td>\n",
       "      <td>2016-12-08</td>\n",
       "    </tr>\n",
       "    <tr>\n",
       "      <th>1845</th>\n",
       "      <td>owen</td>\n",
       "      <td>9771916</td>\n",
       "      <td>1478853235</td>\n",
       "      <td>1</td>\n",
       "      <td>None</td>\n",
       "      <td>2016-11-11</td>\n",
       "    </tr>\n",
       "  </tbody>\n",
       "</table>\n",
       "</div>"
      ],
      "text/plain": [
       "      username  advertiser_id    unixtime    first_revenue_date  \\\n",
       "58      mwatts        9262939  1475577723  1               None   \n",
       "89    cmammele        9268571  1475594328  1         2016-10-07   \n",
       "1641      mara        9717281  1478540188  1         2016-11-07   \n",
       "3172  cmammele        9906148  1481197693  1         2016-12-12   \n",
       "1845      owen        9771916  1478853235  1               None   \n",
       "\n",
       "     First Chat Date This Q  \n",
       "58               2016-10-04  \n",
       "89               2016-10-04  \n",
       "1641             2016-11-07  \n",
       "3172             2016-12-08  \n",
       "1845             2016-11-11  "
      ]
     },
     "execution_count": 1344,
     "metadata": {},
     "output_type": "execute_result"
    }
   ],
   "source": [
    "chat_sample_size.head()"
   ]
  },
  {
   "cell_type": "code",
   "execution_count": 1345,
   "metadata": {
    "collapsed": true
   },
   "outputs": [],
   "source": [
    "def convert_date(date):\n",
    "    if date is None:\n",
    "        return None\n",
    "    else:\n",
    "        return dt.datetime.strptime(date, '%Y-%m-%d')"
   ]
  },
  {
   "cell_type": "code",
   "execution_count": 1346,
   "metadata": {
    "collapsed": false
   },
   "outputs": [],
   "source": [
    "chat_sample_size['first_revenue_date'] = [convert_date(date) for date in chat_sample_size['first_revenue_date']]"
   ]
  },
  {
   "cell_type": "code",
   "execution_count": 1347,
   "metadata": {
    "collapsed": false
   },
   "outputs": [],
   "source": [
    "chat_sample_size['First Chat Date This Q'] = [convert_date(date) for date in chat_sample_size['First Chat Date This Q']]"
   ]
  },
  {
   "cell_type": "code",
   "execution_count": 1348,
   "metadata": {
    "collapsed": false
   },
   "outputs": [],
   "source": [
    "chat_sample_size['Difference Between FRD and First Chat'] = chat_sample_size['first_revenue_date'] - chat_sample_size['First Chat Date This Q']"
   ]
  },
  {
   "cell_type": "code",
   "execution_count": 1349,
   "metadata": {
    "collapsed": false
   },
   "outputs": [
    {
     "data": {
      "text/html": [
       "<div>\n",
       "<table border=\"1\" class=\"dataframe\">\n",
       "  <thead>\n",
       "    <tr style=\"text-align: right;\">\n",
       "      <th></th>\n",
       "      <th>username</th>\n",
       "      <th>advertiser_id</th>\n",
       "      <th>unixtime</th>\n",
       "      <th></th>\n",
       "      <th>first_revenue_date</th>\n",
       "      <th>First Chat Date This Q</th>\n",
       "      <th>Difference Between FRD and First Chat</th>\n",
       "    </tr>\n",
       "  </thead>\n",
       "  <tbody>\n",
       "    <tr>\n",
       "      <th>58</th>\n",
       "      <td>mwatts</td>\n",
       "      <td>9262939</td>\n",
       "      <td>1475577723</td>\n",
       "      <td>1</td>\n",
       "      <td>NaT</td>\n",
       "      <td>2016-10-04</td>\n",
       "      <td>NaT</td>\n",
       "    </tr>\n",
       "    <tr>\n",
       "      <th>89</th>\n",
       "      <td>cmammele</td>\n",
       "      <td>9268571</td>\n",
       "      <td>1475594328</td>\n",
       "      <td>1</td>\n",
       "      <td>2016-10-07</td>\n",
       "      <td>2016-10-04</td>\n",
       "      <td>3 days</td>\n",
       "    </tr>\n",
       "  </tbody>\n",
       "</table>\n",
       "</div>"
      ],
      "text/plain": [
       "    username  advertiser_id    unixtime    first_revenue_date  \\\n",
       "58    mwatts        9262939  1475577723  1                NaT   \n",
       "89  cmammele        9268571  1475594328  1         2016-10-07   \n",
       "\n",
       "   First Chat Date This Q  Difference Between FRD and First Chat  \n",
       "58             2016-10-04                                    NaT  \n",
       "89             2016-10-04                                 3 days  "
      ]
     },
     "execution_count": 1349,
     "metadata": {},
     "output_type": "execute_result"
    }
   ],
   "source": [
    "chat_sample_size.head(2)"
   ]
  },
  {
   "cell_type": "code",
   "execution_count": 1350,
   "metadata": {
    "collapsed": false
   },
   "outputs": [],
   "source": [
    "condition = (chat_sample_size['Difference Between FRD and First Chat'] >= datetime.timedelta(0)) & (chat_sample_size['Difference Between FRD and First Chat'] <= datetime.timedelta(30))"
   ]
  },
  {
   "cell_type": "code",
   "execution_count": 1351,
   "metadata": {
    "collapsed": true
   },
   "outputs": [],
   "source": [
    "total_conversions_chat = len(chat_sample_size[condition]['username'])"
   ]
  },
  {
   "cell_type": "code",
   "execution_count": 1352,
   "metadata": {
    "collapsed": false
   },
   "outputs": [],
   "source": [
    "percentage_converted_from_chat = (total_conversions_chat)/1000.0"
   ]
  },
  {
   "cell_type": "markdown",
   "metadata": {},
   "source": [
    "## Collecting Data for the Client Care Team"
   ]
  },
  {
   "cell_type": "code",
   "execution_count": 1353,
   "metadata": {
    "collapsed": false
   },
   "outputs": [],
   "source": [
    "client_care_team = client_care_team.replace('casey-rose,','')"
   ]
  },
  {
   "cell_type": "code",
   "execution_count": 1354,
   "metadata": {
    "collapsed": false
   },
   "outputs": [
    {
     "data": {
      "text/plain": [
       "'adamk,adriana,alanat,andrewr,acillo,ariana,bkayi,candace,chaddavis,chanon,charlesf,cbarna,cangell,cjoyce,cturchioe,csatenberg,crystalf,cyrena,dcheung,dpeloso,dennisr,elena,epogosian,etrindle,elliez,faith,flato,gregoryw,hilda,jburnett,jeckelman,jmayne,jbogdanoff,joanne,jpetro,joshs,kbowman,karli,liset,lvalencia,lmerritt,marifaith,mneifert,mgray,mcardillo,mkeane,mkenny,mscimeca,micky,nlinzer,rachelw,rajvi,rcid,raymondbarba,roseannep,rbarba,ryanl,scaceres,serina,shanice,scaruso,sinclair,sdaniels,sheaslip,tgamliel,twaters,timothy,tnappi,tomgray,tschmarr,vlea,vincentp,virginia,whitneys,yuliya,zehra,snicole,tmichaud'"
      ]
     },
     "execution_count": 1354,
     "metadata": {},
     "output_type": "execute_result"
    }
   ],
   "source": [
    "client_care_team"
   ]
  },
  {
   "cell_type": "code",
   "execution_count": 1398,
   "metadata": {
    "collapsed": false
   },
   "outputs": [],
   "source": [
    "phone_record = pd.read_csv(\"calls_list.csv\")[[\"caller_number\", \"caller_name\", \"g_name\", \"c_name\",\n",
    "                                             \"call_s\",'duration' ,\"call_status\",]]"
   ]
  },
  {
   "cell_type": "code",
   "execution_count": 1399,
   "metadata": {
    "collapsed": true
   },
   "outputs": [],
   "source": [
    "phone_record[\"caller_number\"] = phone_record[\"caller_number\"].str.replace(r'[^0-9]+', '')"
   ]
  },
  {
   "cell_type": "code",
   "execution_count": 1400,
   "metadata": {
    "collapsed": false
   },
   "outputs": [
    {
     "data": {
      "text/html": [
       "<div>\n",
       "<table border=\"1\" class=\"dataframe\">\n",
       "  <thead>\n",
       "    <tr style=\"text-align: right;\">\n",
       "      <th></th>\n",
       "      <th>caller_number</th>\n",
       "      <th>caller_name</th>\n",
       "      <th>g_name</th>\n",
       "      <th>c_name</th>\n",
       "      <th>call_s</th>\n",
       "      <th>duration</th>\n",
       "      <th>call_status</th>\n",
       "    </tr>\n",
       "  </thead>\n",
       "  <tbody>\n",
       "    <tr>\n",
       "      <th>0</th>\n",
       "      <td>8606358747</td>\n",
       "      <td>Cromwell     CT</td>\n",
       "      <td>Sandcrawler</td>\n",
       "      <td>dradisfunnel: en_US</td>\n",
       "      <td>2016-12-31 13:37:36</td>\n",
       "      <td>00:00:28</td>\n",
       "      <td>ANSWER</td>\n",
       "    </tr>\n",
       "    <tr>\n",
       "      <th>1</th>\n",
       "      <td>2032540545</td>\n",
       "      <td>DRCUEVAS</td>\n",
       "      <td>Sandcrawler</td>\n",
       "      <td>dradisfunnel: en_US</td>\n",
       "      <td>2016-12-31 09:15:42</td>\n",
       "      <td>00:01:15</td>\n",
       "      <td>ANSWER</td>\n",
       "    </tr>\n",
       "    <tr>\n",
       "      <th>2</th>\n",
       "      <td>9373391255</td>\n",
       "      <td>PATTERSON &amp; COM</td>\n",
       "      <td>Sandcrawler</td>\n",
       "      <td>dradisfunnel: en_US</td>\n",
       "      <td>2016-12-30 16:56:54</td>\n",
       "      <td>00:05:40</td>\n",
       "      <td>ANSWER</td>\n",
       "    </tr>\n",
       "    <tr>\n",
       "      <th>3</th>\n",
       "      <td>9725133932</td>\n",
       "      <td>IRVING       TX</td>\n",
       "      <td>Sandcrawler</td>\n",
       "      <td>dradisfunnel: en_US</td>\n",
       "      <td>2016-12-30 16:24:50</td>\n",
       "      <td>00:42:07</td>\n",
       "      <td>ANSWER</td>\n",
       "    </tr>\n",
       "    <tr>\n",
       "      <th>4</th>\n",
       "      <td>6199971321</td>\n",
       "      <td>WIRELESS CALLER</td>\n",
       "      <td>Sandcrawler</td>\n",
       "      <td>dradisfunnel: en_US</td>\n",
       "      <td>2016-12-30 16:14:03</td>\n",
       "      <td>00:07:31</td>\n",
       "      <td>ANSWER</td>\n",
       "    </tr>\n",
       "  </tbody>\n",
       "</table>\n",
       "</div>"
      ],
      "text/plain": [
       "  caller_number      caller_name       g_name               c_name  \\\n",
       "0    8606358747  Cromwell     CT  Sandcrawler  dradisfunnel: en_US   \n",
       "1    2032540545         DRCUEVAS  Sandcrawler  dradisfunnel: en_US   \n",
       "2    9373391255  PATTERSON & COM  Sandcrawler  dradisfunnel: en_US   \n",
       "3    9725133932  IRVING       TX  Sandcrawler  dradisfunnel: en_US   \n",
       "4    6199971321  WIRELESS CALLER  Sandcrawler  dradisfunnel: en_US   \n",
       "\n",
       "                call_s  duration call_status  \n",
       "0  2016-12-31 13:37:36  00:00:28      ANSWER  \n",
       "1  2016-12-31 09:15:42  00:01:15      ANSWER  \n",
       "2  2016-12-30 16:56:54  00:05:40      ANSWER  \n",
       "3  2016-12-30 16:24:50  00:42:07      ANSWER  \n",
       "4  2016-12-30 16:14:03  00:07:31      ANSWER  "
      ]
     },
     "execution_count": 1400,
     "metadata": {},
     "output_type": "execute_result"
    }
   ],
   "source": [
    "phone_record.head()"
   ]
  },
  {
   "cell_type": "code",
   "execution_count": 1358,
   "metadata": {
    "collapsed": true
   },
   "outputs": [],
   "source": [
    "phone_record.drop_duplicates(subset = ['caller_name'], keep = 'last', inplace = True)"
   ]
  },
  {
   "cell_type": "code",
   "execution_count": 1359,
   "metadata": {
    "collapsed": false
   },
   "outputs": [],
   "source": [
    "%%ish\n",
    "call_info = FROM crmcalls 2016-10-01 2016-12-31 WHERE rep_username IN ({client_care_team}) client_id != 0 GROUP BY rep_username,client_id, external_number, talk_time_seconds, unixtime\n",
    "output = None"
   ]
  },
  {
   "cell_type": "code",
   "execution_count": 1360,
   "metadata": {
    "collapsed": false
   },
   "outputs": [],
   "source": [
    "call_info[\"external_number\"] = call_info[\"external_number\"].astype(\"str\")"
   ]
  },
  {
   "cell_type": "code",
   "execution_count": 1361,
   "metadata": {
    "collapsed": true
   },
   "outputs": [],
   "source": [
    "call_info[\"external_number\"] = call_info[\"external_number\"].str.replace(r'[^0-9]+', '')"
   ]
  },
  {
   "cell_type": "code",
   "execution_count": 1362,
   "metadata": {
    "collapsed": true
   },
   "outputs": [],
   "source": [
    "def remove_areacode(s):\n",
    "    return s[1:]"
   ]
  },
  {
   "cell_type": "code",
   "execution_count": 1363,
   "metadata": {
    "collapsed": false
   },
   "outputs": [],
   "source": [
    "call_info['external_number'] = [remove_areacode(s) for s in call_info['external_number']]"
   ]
  },
  {
   "cell_type": "code",
   "execution_count": 1364,
   "metadata": {
    "collapsed": false
   },
   "outputs": [
    {
     "data": {
      "text/html": [
       "<div>\n",
       "<table border=\"1\" class=\"dataframe\">\n",
       "  <thead>\n",
       "    <tr style=\"text-align: right;\">\n",
       "      <th></th>\n",
       "      <th>rep_username</th>\n",
       "      <th>client_id</th>\n",
       "      <th>external_number</th>\n",
       "      <th>talk_time_seconds</th>\n",
       "      <th>unixtime</th>\n",
       "      <th></th>\n",
       "    </tr>\n",
       "  </thead>\n",
       "  <tbody>\n",
       "    <tr>\n",
       "      <th>32322</th>\n",
       "      <td>whitneys</td>\n",
       "      <td>23</td>\n",
       "      <td>2037501030</td>\n",
       "      <td>191</td>\n",
       "      <td>1481657376</td>\n",
       "      <td>1</td>\n",
       "    </tr>\n",
       "    <tr>\n",
       "      <th>3838</th>\n",
       "      <td>adriana</td>\n",
       "      <td>154</td>\n",
       "      <td>2014890256</td>\n",
       "      <td>374</td>\n",
       "      <td>1476106122</td>\n",
       "      <td>1</td>\n",
       "    </tr>\n",
       "    <tr>\n",
       "      <th>34401</th>\n",
       "      <td>ariana</td>\n",
       "      <td>438</td>\n",
       "      <td>2125575000</td>\n",
       "      <td>307</td>\n",
       "      <td>1482170707</td>\n",
       "      <td>1</td>\n",
       "    </tr>\n",
       "    <tr>\n",
       "      <th>32796</th>\n",
       "      <td>jbogdanoff</td>\n",
       "      <td>438</td>\n",
       "      <td>2125575000</td>\n",
       "      <td>480</td>\n",
       "      <td>1481735858</td>\n",
       "      <td>1</td>\n",
       "    </tr>\n",
       "    <tr>\n",
       "      <th>8369</th>\n",
       "      <td>rbarba</td>\n",
       "      <td>475</td>\n",
       "      <td>4258828080</td>\n",
       "      <td>277</td>\n",
       "      <td>1476892760</td>\n",
       "      <td>1</td>\n",
       "    </tr>\n",
       "  </tbody>\n",
       "</table>\n",
       "</div>"
      ],
      "text/plain": [
       "      rep_username  client_id external_number  talk_time_seconds    unixtime  \\\n",
       "32322     whitneys         23      2037501030                191  1481657376   \n",
       "3838       adriana        154      2014890256                374  1476106122   \n",
       "34401       ariana        438      2125575000                307  1482170707   \n",
       "32796   jbogdanoff        438      2125575000                480  1481735858   \n",
       "8369        rbarba        475      4258828080                277  1476892760   \n",
       "\n",
       "          \n",
       "32322  1  \n",
       "3838   1  \n",
       "34401  1  \n",
       "32796  1  \n",
       "8369   1  "
      ]
     },
     "execution_count": 1364,
     "metadata": {},
     "output_type": "execute_result"
    }
   ],
   "source": [
    "call_info.sort_values('client_id').head()"
   ]
  },
  {
   "cell_type": "code",
   "execution_count": 1365,
   "metadata": {
    "collapsed": false
   },
   "outputs": [
    {
     "data": {
      "text/html": [
       "<div>\n",
       "<table border=\"1\" class=\"dataframe\">\n",
       "  <thead>\n",
       "    <tr style=\"text-align: right;\">\n",
       "      <th></th>\n",
       "      <th>caller_number</th>\n",
       "      <th>caller_name</th>\n",
       "      <th>g_name</th>\n",
       "      <th>c_name</th>\n",
       "      <th>call_s</th>\n",
       "      <th>duration</th>\n",
       "      <th>call_status</th>\n",
       "      <th>rep_username</th>\n",
       "      <th>client_id</th>\n",
       "      <th>external_number</th>\n",
       "      <th>talk_time_seconds</th>\n",
       "      <th>unixtime</th>\n",
       "      <th></th>\n",
       "    </tr>\n",
       "  </thead>\n",
       "  <tbody>\n",
       "    <tr>\n",
       "      <th>1</th>\n",
       "      <td>9373391255</td>\n",
       "      <td>PATTERSON &amp; COM</td>\n",
       "      <td>Sandcrawler</td>\n",
       "      <td>dradisfunnel: en_US</td>\n",
       "      <td>2016-12-30 16:56:54</td>\n",
       "      <td>00:05:40</td>\n",
       "      <td>ANSWER</td>\n",
       "      <td>lmerritt</td>\n",
       "      <td>10323798.0</td>\n",
       "      <td>9373391255</td>\n",
       "      <td>303.0</td>\n",
       "      <td>1.483135e+09</td>\n",
       "      <td>1.0</td>\n",
       "    </tr>\n",
       "    <tr>\n",
       "      <th>2</th>\n",
       "      <td>9725133932</td>\n",
       "      <td>IRVING       TX</td>\n",
       "      <td>Sandcrawler</td>\n",
       "      <td>dradisfunnel: en_US</td>\n",
       "      <td>2016-12-30 16:11:05</td>\n",
       "      <td>00:04:02</td>\n",
       "      <td>ANSWER</td>\n",
       "      <td>whitneys</td>\n",
       "      <td>10323742.0</td>\n",
       "      <td>9725133932</td>\n",
       "      <td>194.0</td>\n",
       "      <td>1.483132e+09</td>\n",
       "      <td>1.0</td>\n",
       "    </tr>\n",
       "    <tr>\n",
       "      <th>3</th>\n",
       "      <td>9725133932</td>\n",
       "      <td>IRVING       TX</td>\n",
       "      <td>Sandcrawler</td>\n",
       "      <td>dradisfunnel: en_US</td>\n",
       "      <td>2016-12-30 16:11:05</td>\n",
       "      <td>00:04:02</td>\n",
       "      <td>ANSWER</td>\n",
       "      <td>ryanl</td>\n",
       "      <td>10323742.0</td>\n",
       "      <td>9725133932</td>\n",
       "      <td>2352.0</td>\n",
       "      <td>1.483133e+09</td>\n",
       "      <td>1.0</td>\n",
       "    </tr>\n",
       "    <tr>\n",
       "      <th>6</th>\n",
       "      <td>4192140195</td>\n",
       "      <td>H4T AUTOS</td>\n",
       "      <td>Sandcrawler</td>\n",
       "      <td>dradisfunnel: en_US</td>\n",
       "      <td>2016-12-30 14:56:17</td>\n",
       "      <td>00:07:15</td>\n",
       "      <td>ANSWER</td>\n",
       "      <td>scaceres</td>\n",
       "      <td>10316878.0</td>\n",
       "      <td>4192140195</td>\n",
       "      <td>356.0</td>\n",
       "      <td>1.483128e+09</td>\n",
       "      <td>1.0</td>\n",
       "    </tr>\n",
       "    <tr>\n",
       "      <th>7</th>\n",
       "      <td>9415484474</td>\n",
       "      <td>ENGLEWOOD    FL</td>\n",
       "      <td>Sandcrawler</td>\n",
       "      <td>dradisfunnel: en_US</td>\n",
       "      <td>2016-12-30 14:34:56</td>\n",
       "      <td>00:04:39</td>\n",
       "      <td>ANSWER</td>\n",
       "      <td>adriana</td>\n",
       "      <td>10115938.0</td>\n",
       "      <td>9415484474</td>\n",
       "      <td>242.0</td>\n",
       "      <td>1.483127e+09</td>\n",
       "      <td>1.0</td>\n",
       "    </tr>\n",
       "  </tbody>\n",
       "</table>\n",
       "</div>"
      ],
      "text/plain": [
       "  caller_number      caller_name       g_name               c_name  \\\n",
       "1    9373391255  PATTERSON & COM  Sandcrawler  dradisfunnel: en_US   \n",
       "2    9725133932  IRVING       TX  Sandcrawler  dradisfunnel: en_US   \n",
       "3    9725133932  IRVING       TX  Sandcrawler  dradisfunnel: en_US   \n",
       "6    4192140195        H4T AUTOS  Sandcrawler  dradisfunnel: en_US   \n",
       "7    9415484474  ENGLEWOOD    FL  Sandcrawler  dradisfunnel: en_US   \n",
       "\n",
       "                call_s  duration call_status rep_username   client_id  \\\n",
       "1  2016-12-30 16:56:54  00:05:40      ANSWER     lmerritt  10323798.0   \n",
       "2  2016-12-30 16:11:05  00:04:02      ANSWER     whitneys  10323742.0   \n",
       "3  2016-12-30 16:11:05  00:04:02      ANSWER        ryanl  10323742.0   \n",
       "6  2016-12-30 14:56:17  00:07:15      ANSWER     scaceres  10316878.0   \n",
       "7  2016-12-30 14:34:56  00:04:39      ANSWER      adriana  10115938.0   \n",
       "\n",
       "  external_number  talk_time_seconds      unixtime       \n",
       "1      9373391255              303.0  1.483135e+09  1.0  \n",
       "2      9725133932              194.0  1.483132e+09  1.0  \n",
       "3      9725133932             2352.0  1.483133e+09  1.0  \n",
       "6      4192140195              356.0  1.483128e+09  1.0  \n",
       "7      9415484474              242.0  1.483127e+09  1.0  "
      ]
     },
     "execution_count": 1365,
     "metadata": {},
     "output_type": "execute_result"
    }
   ],
   "source": [
    "call_funnel_data = phone_record.merge(call_info,how = 'left', left_on = 'caller_number', right_on = 'external_number')\n",
    "call_funnel_data.dropna(inplace = True)\n",
    "call_funnel_data.head()"
   ]
  },
  {
   "cell_type": "code",
   "execution_count": 1366,
   "metadata": {
    "collapsed": false
   },
   "outputs": [],
   "source": [
    "call_advertiser_info = plus.get_advertiser_info(call_funnel_data['client_id'])"
   ]
  },
  {
   "cell_type": "code",
   "execution_count": 1367,
   "metadata": {
    "collapsed": false
   },
   "outputs": [],
   "source": [
    "frd_call = call_advertiser_info['first_revenue_date'].to_frame()"
   ]
  },
  {
   "cell_type": "code",
   "execution_count": 1368,
   "metadata": {
    "collapsed": true
   },
   "outputs": [],
   "source": [
    "call_funnel_data = call_funnel_data.merge(frd_call, how = 'left', left_on = 'client_id', right_index = True)"
   ]
  },
  {
   "cell_type": "code",
   "execution_count": 1369,
   "metadata": {
    "collapsed": true
   },
   "outputs": [],
   "source": [
    "#Randomize Here\n",
    "call_sample_size = call_funnel_data.sample(n=1000)"
   ]
  },
  {
   "cell_type": "code",
   "execution_count": 1370,
   "metadata": {
    "collapsed": false
   },
   "outputs": [
    {
     "data": {
      "text/html": [
       "<div>\n",
       "<table border=\"1\" class=\"dataframe\">\n",
       "  <thead>\n",
       "    <tr style=\"text-align: right;\">\n",
       "      <th></th>\n",
       "      <th>caller_number</th>\n",
       "      <th>caller_name</th>\n",
       "      <th>g_name</th>\n",
       "      <th>c_name</th>\n",
       "      <th>call_s</th>\n",
       "      <th>duration</th>\n",
       "      <th>call_status</th>\n",
       "      <th>rep_username</th>\n",
       "      <th>client_id</th>\n",
       "      <th>external_number</th>\n",
       "      <th>talk_time_seconds</th>\n",
       "      <th>unixtime</th>\n",
       "      <th></th>\n",
       "      <th>first_revenue_date</th>\n",
       "    </tr>\n",
       "  </thead>\n",
       "  <tbody>\n",
       "    <tr>\n",
       "      <th>499</th>\n",
       "      <td>2159684236</td>\n",
       "      <td>NEWTOWN      PA</td>\n",
       "      <td>Sandcrawler</td>\n",
       "      <td>dradisfunnel: en_US</td>\n",
       "      <td>2016-12-05 11:44:15</td>\n",
       "      <td>00:16:38</td>\n",
       "      <td>ANSWER</td>\n",
       "      <td>jburnett</td>\n",
       "      <td>10067930.0</td>\n",
       "      <td>2159684236</td>\n",
       "      <td>640.0</td>\n",
       "      <td>1.481139e+09</td>\n",
       "      <td>1.0</td>\n",
       "      <td>None</td>\n",
       "    </tr>\n",
       "    <tr>\n",
       "      <th>1005</th>\n",
       "      <td>3303435812</td>\n",
       "      <td>BERNER TRUCKING</td>\n",
       "      <td>Sandcrawler</td>\n",
       "      <td>dradisfunnel: en_US</td>\n",
       "      <td>2016-11-10 13:59:04</td>\n",
       "      <td>00:02:44</td>\n",
       "      <td>ANSWER</td>\n",
       "      <td>timothy</td>\n",
       "      <td>9748214.0</td>\n",
       "      <td>3303435812</td>\n",
       "      <td>326.0</td>\n",
       "      <td>1.481552e+09</td>\n",
       "      <td>1.0</td>\n",
       "      <td>2016-12-12</td>\n",
       "    </tr>\n",
       "  </tbody>\n",
       "</table>\n",
       "</div>"
      ],
      "text/plain": [
       "     caller_number      caller_name       g_name               c_name  \\\n",
       "499     2159684236  NEWTOWN      PA  Sandcrawler  dradisfunnel: en_US   \n",
       "1005    3303435812  BERNER TRUCKING  Sandcrawler  dradisfunnel: en_US   \n",
       "\n",
       "                   call_s  duration call_status rep_username   client_id  \\\n",
       "499   2016-12-05 11:44:15  00:16:38      ANSWER     jburnett  10067930.0   \n",
       "1005  2016-11-10 13:59:04  00:02:44      ANSWER      timothy   9748214.0   \n",
       "\n",
       "     external_number  talk_time_seconds      unixtime      first_revenue_date  \n",
       "499       2159684236              640.0  1.481139e+09  1.0               None  \n",
       "1005      3303435812              326.0  1.481552e+09  1.0         2016-12-12  "
      ]
     },
     "execution_count": 1370,
     "metadata": {},
     "output_type": "execute_result"
    }
   ],
   "source": [
    "call_sample_size.head(2)"
   ]
  },
  {
   "cell_type": "code",
   "execution_count": 1371,
   "metadata": {
    "collapsed": false
   },
   "outputs": [],
   "source": [
    "call_sample_size['first_revenue_date'] = [convert_date(date) for date in call_sample_size['first_revenue_date']]"
   ]
  },
  {
   "cell_type": "code",
   "execution_count": 1372,
   "metadata": {
    "collapsed": true
   },
   "outputs": [],
   "source": [
    "def remove_unwanted(s):\n",
    "    return s[0:10]"
   ]
  },
  {
   "cell_type": "code",
   "execution_count": 1373,
   "metadata": {
    "collapsed": false
   },
   "outputs": [],
   "source": [
    "call_sample_size['call_s'] = [remove_unwanted(s) for s in call_sample_size['call_s']]"
   ]
  },
  {
   "cell_type": "code",
   "execution_count": 1374,
   "metadata": {
    "collapsed": false
   },
   "outputs": [],
   "source": [
    "call_sample_size['call_s'] = [convert_date(date) for date in call_sample_size['call_s']]"
   ]
  },
  {
   "cell_type": "code",
   "execution_count": 1375,
   "metadata": {
    "collapsed": false
   },
   "outputs": [],
   "source": [
    "call_sample_size['Difference Between FRD and First Call'] = call_sample_size['first_revenue_date'] - call_sample_size['call_s']"
   ]
  },
  {
   "cell_type": "code",
   "execution_count": 1376,
   "metadata": {
    "collapsed": false
   },
   "outputs": [
    {
     "data": {
      "text/html": [
       "<div>\n",
       "<table border=\"1\" class=\"dataframe\">\n",
       "  <thead>\n",
       "    <tr style=\"text-align: right;\">\n",
       "      <th></th>\n",
       "      <th>caller_number</th>\n",
       "      <th>caller_name</th>\n",
       "      <th>g_name</th>\n",
       "      <th>c_name</th>\n",
       "      <th>call_s</th>\n",
       "      <th>duration</th>\n",
       "      <th>call_status</th>\n",
       "      <th>rep_username</th>\n",
       "      <th>client_id</th>\n",
       "      <th>external_number</th>\n",
       "      <th>talk_time_seconds</th>\n",
       "      <th>unixtime</th>\n",
       "      <th></th>\n",
       "      <th>first_revenue_date</th>\n",
       "      <th>Difference Between FRD and First Call</th>\n",
       "    </tr>\n",
       "  </thead>\n",
       "  <tbody>\n",
       "    <tr>\n",
       "      <th>499</th>\n",
       "      <td>2159684236</td>\n",
       "      <td>NEWTOWN      PA</td>\n",
       "      <td>Sandcrawler</td>\n",
       "      <td>dradisfunnel: en_US</td>\n",
       "      <td>2016-12-05</td>\n",
       "      <td>00:16:38</td>\n",
       "      <td>ANSWER</td>\n",
       "      <td>jburnett</td>\n",
       "      <td>10067930.0</td>\n",
       "      <td>2159684236</td>\n",
       "      <td>640.0</td>\n",
       "      <td>1.481139e+09</td>\n",
       "      <td>1.0</td>\n",
       "      <td>NaT</td>\n",
       "      <td>NaT</td>\n",
       "    </tr>\n",
       "    <tr>\n",
       "      <th>1005</th>\n",
       "      <td>3303435812</td>\n",
       "      <td>BERNER TRUCKING</td>\n",
       "      <td>Sandcrawler</td>\n",
       "      <td>dradisfunnel: en_US</td>\n",
       "      <td>2016-11-10</td>\n",
       "      <td>00:02:44</td>\n",
       "      <td>ANSWER</td>\n",
       "      <td>timothy</td>\n",
       "      <td>9748214.0</td>\n",
       "      <td>3303435812</td>\n",
       "      <td>326.0</td>\n",
       "      <td>1.481552e+09</td>\n",
       "      <td>1.0</td>\n",
       "      <td>2016-12-12</td>\n",
       "      <td>32 days</td>\n",
       "    </tr>\n",
       "    <tr>\n",
       "      <th>2054</th>\n",
       "      <td>7607058888</td>\n",
       "      <td>GOOGLE GUY</td>\n",
       "      <td>Sandcrawler</td>\n",
       "      <td>dradisfunnel: en_US</td>\n",
       "      <td>2016-10-11</td>\n",
       "      <td>00:00:48</td>\n",
       "      <td>ANSWER</td>\n",
       "      <td>elliez</td>\n",
       "      <td>122082.0</td>\n",
       "      <td>7607058888</td>\n",
       "      <td>287.0</td>\n",
       "      <td>1.482856e+09</td>\n",
       "      <td>1.0</td>\n",
       "      <td>NaT</td>\n",
       "      <td>NaT</td>\n",
       "    </tr>\n",
       "    <tr>\n",
       "      <th>1761</th>\n",
       "      <td>6195460621</td>\n",
       "      <td>POTHOS INC</td>\n",
       "      <td>Sandcrawler</td>\n",
       "      <td>dradisfunnel: en_US</td>\n",
       "      <td>2016-10-18</td>\n",
       "      <td>00:10:32</td>\n",
       "      <td>ANSWER</td>\n",
       "      <td>sheaslip</td>\n",
       "      <td>1555878.0</td>\n",
       "      <td>6195460621</td>\n",
       "      <td>551.0</td>\n",
       "      <td>1.476819e+09</td>\n",
       "      <td>1.0</td>\n",
       "      <td>NaT</td>\n",
       "      <td>NaT</td>\n",
       "    </tr>\n",
       "    <tr>\n",
       "      <th>833</th>\n",
       "      <td>3037593999</td>\n",
       "      <td>DRAIN GENIE INC</td>\n",
       "      <td>Sandcrawler</td>\n",
       "      <td>dradisfunnel: en_US</td>\n",
       "      <td>2016-11-16</td>\n",
       "      <td>00:05:51</td>\n",
       "      <td>ANSWER</td>\n",
       "      <td>shanice</td>\n",
       "      <td>9836897.0</td>\n",
       "      <td>3037593999</td>\n",
       "      <td>332.0</td>\n",
       "      <td>1.479326e+09</td>\n",
       "      <td>1.0</td>\n",
       "      <td>2016-11-16</td>\n",
       "      <td>0 days</td>\n",
       "    </tr>\n",
       "  </tbody>\n",
       "</table>\n",
       "</div>"
      ],
      "text/plain": [
       "     caller_number      caller_name       g_name               c_name  \\\n",
       "499     2159684236  NEWTOWN      PA  Sandcrawler  dradisfunnel: en_US   \n",
       "1005    3303435812  BERNER TRUCKING  Sandcrawler  dradisfunnel: en_US   \n",
       "2054    7607058888       GOOGLE GUY  Sandcrawler  dradisfunnel: en_US   \n",
       "1761    6195460621       POTHOS INC  Sandcrawler  dradisfunnel: en_US   \n",
       "833     3037593999  DRAIN GENIE INC  Sandcrawler  dradisfunnel: en_US   \n",
       "\n",
       "         call_s  duration call_status rep_username   client_id  \\\n",
       "499  2016-12-05  00:16:38      ANSWER     jburnett  10067930.0   \n",
       "1005 2016-11-10  00:02:44      ANSWER      timothy   9748214.0   \n",
       "2054 2016-10-11  00:00:48      ANSWER       elliez    122082.0   \n",
       "1761 2016-10-18  00:10:32      ANSWER     sheaslip   1555878.0   \n",
       "833  2016-11-16  00:05:51      ANSWER      shanice   9836897.0   \n",
       "\n",
       "     external_number  talk_time_seconds      unixtime      first_revenue_date  \\\n",
       "499       2159684236              640.0  1.481139e+09  1.0                NaT   \n",
       "1005      3303435812              326.0  1.481552e+09  1.0         2016-12-12   \n",
       "2054      7607058888              287.0  1.482856e+09  1.0                NaT   \n",
       "1761      6195460621              551.0  1.476819e+09  1.0                NaT   \n",
       "833       3037593999              332.0  1.479326e+09  1.0         2016-11-16   \n",
       "\n",
       "      Difference Between FRD and First Call  \n",
       "499                                     NaT  \n",
       "1005                                32 days  \n",
       "2054                                    NaT  \n",
       "1761                                    NaT  \n",
       "833                                  0 days  "
      ]
     },
     "execution_count": 1376,
     "metadata": {},
     "output_type": "execute_result"
    }
   ],
   "source": [
    "call_sample_size.head()"
   ]
  },
  {
   "cell_type": "code",
   "execution_count": 1377,
   "metadata": {
    "collapsed": true
   },
   "outputs": [],
   "source": [
    "condition = (call_sample_size['Difference Between FRD and First Call'] >= datetime.timedelta(0)) & (call_sample_size['Difference Between FRD and First Call'] <= datetime.timedelta(30))"
   ]
  },
  {
   "cell_type": "code",
   "execution_count": 1378,
   "metadata": {
    "collapsed": false
   },
   "outputs": [],
   "source": [
    "total_conversions_phone = len(call_sample_size[condition]['client_id'])"
   ]
  },
  {
   "cell_type": "code",
   "execution_count": 1379,
   "metadata": {
    "collapsed": false
   },
   "outputs": [],
   "source": [
    "percentage_converted_from_phone = total_conversions_phone/1000.0"
   ]
  },
  {
   "cell_type": "markdown",
   "metadata": {},
   "source": [
    "### Collecting Revenue Data for Client Care Team"
   ]
  },
  {
   "cell_type": "code",
   "execution_count": 1380,
   "metadata": {
    "collapsed": true
   },
   "outputs": [],
   "source": [
    "phone_revenue_data = pd.read_csv(\"converted_accounts_phone.csv\")"
   ]
  },
  {
   "cell_type": "code",
   "execution_count": 1381,
   "metadata": {
    "collapsed": true
   },
   "outputs": [],
   "source": [
    "test = call_sample_size.merge(phone_revenue_data, how = 'left', left_on = 'client_id', right_on = 'Advertiser ID')"
   ]
  },
  {
   "cell_type": "code",
   "execution_count": 1382,
   "metadata": {
    "collapsed": false
   },
   "outputs": [],
   "source": [
    "total_revenue_phone = test['Revenue (USD)'].sum()"
   ]
  },
  {
   "cell_type": "code",
   "execution_count": 1383,
   "metadata": {
    "collapsed": false
   },
   "outputs": [
    {
     "data": {
      "text/plain": [
       "22797.12"
      ]
     },
     "execution_count": 1383,
     "metadata": {},
     "output_type": "execute_result"
    }
   ],
   "source": [
    "total_revenue_phone"
   ]
  },
  {
   "cell_type": "markdown",
   "metadata": {},
   "source": [
    "### Collecting Revenue Data for Client Onboarding"
   ]
  },
  {
   "cell_type": "code",
   "execution_count": 1384,
   "metadata": {
    "collapsed": true
   },
   "outputs": [],
   "source": [
    "chat_revenue_data = pd.read_csv(\"converted_accounts_chat.csv\")"
   ]
  },
  {
   "cell_type": "code",
   "execution_count": 1385,
   "metadata": {
    "collapsed": false
   },
   "outputs": [],
   "source": [
    "test2 = chat_sample_size.merge(chat_revenue_data, how = 'left', left_on = 'advertiser_id', right_on = 'Advertiser ID')"
   ]
  },
  {
   "cell_type": "code",
   "execution_count": 1386,
   "metadata": {
    "collapsed": true
   },
   "outputs": [],
   "source": [
    "total_revenue_chat = test2['Revenue (USD)'].sum()"
   ]
  },
  {
   "cell_type": "code",
   "execution_count": 1387,
   "metadata": {
    "collapsed": false
   },
   "outputs": [
    {
     "data": {
      "text/plain": [
       "33613.38999999999"
      ]
     },
     "execution_count": 1387,
     "metadata": {},
     "output_type": "execute_result"
    }
   ],
   "source": [
    "total_revenue_chat"
   ]
  },
  {
   "cell_type": "markdown",
   "metadata": {},
   "source": [
    "## FINAL DATA RESULTS FOR CHAT"
   ]
  },
  {
   "cell_type": "code",
   "execution_count": 1388,
   "metadata": {
    "collapsed": false
   },
   "outputs": [
    {
     "data": {
      "text/plain": [
       "213"
      ]
     },
     "execution_count": 1388,
     "metadata": {},
     "output_type": "execute_result"
    }
   ],
   "source": [
    "total_conversions_chat"
   ]
  },
  {
   "cell_type": "code",
   "execution_count": 1389,
   "metadata": {
    "collapsed": false
   },
   "outputs": [
    {
     "data": {
      "text/plain": [
       "0.213"
      ]
     },
     "execution_count": 1389,
     "metadata": {},
     "output_type": "execute_result"
    }
   ],
   "source": [
    "percentage_converted_from_chat"
   ]
  },
  {
   "cell_type": "code",
   "execution_count": 1390,
   "metadata": {
    "collapsed": false
   },
   "outputs": [
    {
     "data": {
      "text/plain": [
       "33613.38999999999"
      ]
     },
     "execution_count": 1390,
     "metadata": {},
     "output_type": "execute_result"
    }
   ],
   "source": [
    "total_revenue_chat"
   ]
  },
  {
   "cell_type": "markdown",
   "metadata": {},
   "source": [
    "## FINAL DATA RESULTS FOR PHONE"
   ]
  },
  {
   "cell_type": "code",
   "execution_count": 1391,
   "metadata": {
    "collapsed": false
   },
   "outputs": [
    {
     "data": {
      "text/plain": [
       "170"
      ]
     },
     "execution_count": 1391,
     "metadata": {},
     "output_type": "execute_result"
    }
   ],
   "source": [
    "total_conversions_phone"
   ]
  },
  {
   "cell_type": "code",
   "execution_count": 1392,
   "metadata": {
    "collapsed": false
   },
   "outputs": [
    {
     "data": {
      "text/plain": [
       "0.17"
      ]
     },
     "execution_count": 1392,
     "metadata": {},
     "output_type": "execute_result"
    }
   ],
   "source": [
    "percentage_converted_from_phone"
   ]
  },
  {
   "cell_type": "code",
   "execution_count": 1393,
   "metadata": {
    "collapsed": false
   },
   "outputs": [
    {
     "data": {
      "text/plain": [
       "22797.12"
      ]
     },
     "execution_count": 1393,
     "metadata": {},
     "output_type": "execute_result"
    }
   ],
   "source": [
    "total_revenue_phone"
   ]
  },
  {
   "cell_type": "code",
   "execution_count": null,
   "metadata": {
    "collapsed": true
   },
   "outputs": [],
   "source": []
  },
  {
   "cell_type": "code",
   "execution_count": null,
   "metadata": {
    "collapsed": true
   },
   "outputs": [],
   "source": []
  },
  {
   "cell_type": "code",
   "execution_count": null,
   "metadata": {
    "collapsed": false
   },
   "outputs": [],
   "source": []
  },
  {
   "cell_type": "code",
   "execution_count": 1394,
   "metadata": {
    "collapsed": true
   },
   "outputs": [],
   "source": [
    "#test.drop({'g_name','duration','call_status','external_number','talk_time_seconds','unixtime',''},1)"
   ]
  },
  {
   "cell_type": "code",
   "execution_count": 1395,
   "metadata": {
    "collapsed": true
   },
   "outputs": [],
   "source": [
    "test.to_csv('Phone Info.csv', encoding = 'utf-8')"
   ]
  },
  {
   "cell_type": "code",
   "execution_count": 1396,
   "metadata": {
    "collapsed": true
   },
   "outputs": [],
   "source": [
    "test2.to_csv(\"Chat Info.csv\", encoding = 'utf-8')"
   ]
  },
  {
   "cell_type": "code",
   "execution_count": null,
   "metadata": {
    "collapsed": false
   },
   "outputs": [],
   "source": []
  },
  {
   "cell_type": "code",
   "execution_count": null,
   "metadata": {
    "collapsed": true
   },
   "outputs": [],
   "source": []
  }
 ],
 "metadata": {
  "anaconda-cloud": {},
  "kernelspec": {
   "display_name": "Python [conda root]",
   "language": "python",
   "name": "conda-root-py"
  },
  "language_info": {
   "codemirror_mode": {
    "name": "ipython",
    "version": 2
   },
   "file_extension": ".py",
   "mimetype": "text/x-python",
   "name": "python",
   "nbconvert_exporter": "python",
   "pygments_lexer": "ipython2",
   "version": "2.7.12"
  }
 },
 "nbformat": 4,
 "nbformat_minor": 1
}
