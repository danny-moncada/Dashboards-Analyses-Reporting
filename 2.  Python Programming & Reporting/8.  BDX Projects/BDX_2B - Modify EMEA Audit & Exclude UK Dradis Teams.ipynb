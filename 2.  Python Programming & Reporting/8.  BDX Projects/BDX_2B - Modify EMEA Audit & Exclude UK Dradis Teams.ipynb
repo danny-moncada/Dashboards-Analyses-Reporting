{
 "cells": [
  {
   "cell_type": "code",
   "execution_count": 1,
   "metadata": {},
   "outputs": [
    {
     "data": {
      "text/html": [
       "<style>.container { width:100% !important; }</style>"
      ],
      "text/plain": [
       "<IPython.core.display.HTML object>"
      ]
     },
     "metadata": {},
     "output_type": "display_data"
    }
   ],
   "source": [
    "%reload_ext ishbook\n",
    "import pandas as pd\n",
    "import plus\n",
    "import datetime as dt\n",
    "from IPython.core.display import display, HTML\n",
    "display(HTML(\"<style>.container { width:100% !important; }</style>\"))"
   ]
  },
  {
   "cell_type": "markdown",
   "metadata": {},
   "source": [
    "## Pulled in a sample output from the existing CSOS EMEA Ishbook\n",
    "\n",
    "- This is taken from a sample run on 11/2/2016\n",
    "- This is the normal output from the query/audit - I am adding a few additional steps to flag some of these accounts for removal\n"
   ]
  },
  {
   "cell_type": "code",
   "execution_count": 22,
   "metadata": {
    "collapsed": true
   },
   "outputs": [],
   "source": [
    "EMEA_ishbook_output = pd.read_csv('BIREQ_2032_test.csv')"
   ]
  },
  {
   "cell_type": "code",
   "execution_count": 76,
   "metadata": {},
   "outputs": [
    {
     "name": "stdout",
     "output_type": "stream",
     "text": [
      "Here are the first 5 rows of the sample data set:\n",
      "\n",
      "   Account Id Relationship  New User Id Date Assignment Starts  advertiser_id\n",
      "0    67845114  SERVICE_REP         3271             11/02/2016         140420\n",
      "1    86573442  SERVICE_REP         3271             11/02/2016         207496\n",
      "2    92927998  SERVICE_REP         3271             11/02/2016         236360\n",
      "3    96851770  SERVICE_REP         3271             11/02/2016         309638\n",
      "4   117254481  SERVICE_REP         3271             11/02/2016         549041\n",
      "\n",
      "This is the length of the sample dataframe: 34\n"
     ]
    }
   ],
   "source": [
    "print 'Here are the first 5 rows of the sample data set:'\n",
    "print\n",
    "print EMEA_ishbook_output.head()\n",
    "print\n",
    "print 'This is the length of the sample dataframe: {}'.format(len(EMEA_ishbook_output))"
   ]
  },
  {
   "cell_type": "code",
   "execution_count": null,
   "metadata": {
    "collapsed": true
   },
   "outputs": [],
   "source": []
  },
  {
   "cell_type": "markdown",
   "metadata": {},
   "source": [
    "## I had to pull in the advertiser IDs for the sample that I pulled from the ishbook output, because this field is not populated in the output\n",
    "\n",
    "- This step won't be necessary, if we run the check for the claimed sources before finalizing the output\n",
    "- I merge these advertiser ids so that I can use them in the PLUS call for \"claimed sources\""
   ]
  },
  {
   "cell_type": "code",
   "execution_count": 35,
   "metadata": {},
   "outputs": [],
   "source": [
    "get_advertiser_id = plus.get_advertiser_info(EMEA_ishbook_output['Account Id'], intype = 'acctid')['advertiser_id'].reset_index()"
   ]
  },
  {
   "cell_type": "code",
   "execution_count": 39,
   "metadata": {},
   "outputs": [],
   "source": [
    "EMEA_ishbook_output = EMEA_ishbook_output.merge(get_advertiser_id, how = 'left', on = 'Account Id')"
   ]
  },
  {
   "cell_type": "code",
   "execution_count": 45,
   "metadata": {},
   "outputs": [
    {
     "data": {
      "text/html": [
       "<div>\n",
       "<table border=\"1\" class=\"dataframe\">\n",
       "  <thead>\n",
       "    <tr style=\"text-align: right;\">\n",
       "      <th></th>\n",
       "      <th>Account Id</th>\n",
       "      <th>Relationship</th>\n",
       "      <th>New User Id</th>\n",
       "      <th>Date Assignment Starts</th>\n",
       "      <th>advertiser_id</th>\n",
       "    </tr>\n",
       "  </thead>\n",
       "  <tbody>\n",
       "    <tr>\n",
       "      <th>0</th>\n",
       "      <td>67845114</td>\n",
       "      <td>SERVICE_REP</td>\n",
       "      <td>3271</td>\n",
       "      <td>11/02/2016</td>\n",
       "      <td>140420</td>\n",
       "    </tr>\n",
       "    <tr>\n",
       "      <th>1</th>\n",
       "      <td>86573442</td>\n",
       "      <td>SERVICE_REP</td>\n",
       "      <td>3271</td>\n",
       "      <td>11/02/2016</td>\n",
       "      <td>207496</td>\n",
       "    </tr>\n",
       "    <tr>\n",
       "      <th>2</th>\n",
       "      <td>92927998</td>\n",
       "      <td>SERVICE_REP</td>\n",
       "      <td>3271</td>\n",
       "      <td>11/02/2016</td>\n",
       "      <td>236360</td>\n",
       "    </tr>\n",
       "    <tr>\n",
       "      <th>3</th>\n",
       "      <td>96851770</td>\n",
       "      <td>SERVICE_REP</td>\n",
       "      <td>3271</td>\n",
       "      <td>11/02/2016</td>\n",
       "      <td>309638</td>\n",
       "    </tr>\n",
       "    <tr>\n",
       "      <th>4</th>\n",
       "      <td>117254481</td>\n",
       "      <td>SERVICE_REP</td>\n",
       "      <td>3271</td>\n",
       "      <td>11/02/2016</td>\n",
       "      <td>549041</td>\n",
       "    </tr>\n",
       "  </tbody>\n",
       "</table>\n",
       "</div>"
      ],
      "text/plain": [
       "   Account Id Relationship  New User Id Date Assignment Starts  advertiser_id\n",
       "0    67845114  SERVICE_REP         3271             11/02/2016         140420\n",
       "1    86573442  SERVICE_REP         3271             11/02/2016         207496\n",
       "2    92927998  SERVICE_REP         3271             11/02/2016         236360\n",
       "3    96851770  SERVICE_REP         3271             11/02/2016         309638\n",
       "4   117254481  SERVICE_REP         3271             11/02/2016         549041"
      ]
     },
     "execution_count": 45,
     "metadata": {},
     "output_type": "execute_result"
    }
   ],
   "source": [
    "EMEA_ishbook_output.head()"
   ]
  },
  {
   "cell_type": "code",
   "execution_count": null,
   "metadata": {
    "collapsed": true
   },
   "outputs": [],
   "source": []
  },
  {
   "cell_type": "markdown",
   "metadata": {},
   "source": [
    "# **THE KEY THING TO REMEMBER FOR UPDATING THE ISHBOOK IS THAT THE STEPS BELOW CAN AND SHOULD BE DONE BEFORE FINALIZING THE OUTPUT - IT WOULD SIMPLY BE ADDING THESE STEPS BEFORE DOING THE FINAL CLEAN-UP**"
   ]
  },
  {
   "cell_type": "markdown",
   "metadata": {},
   "source": [
    "## For the EMEA SCS B Audit sample, I pull in all of the claimed sources using a PLUS call\n",
    "\n",
    "- There's an endpoint called *get_claimed_sources* that allows you to view any claimed sources for a particular advertiser\n",
    "- I pull in the *sitename* & *source_id* fields, this will contain the \"Claimed Sources\" information that is required to exclude these accounts\n",
    "- Reset the index to make the merge easier"
   ]
  },
  {
   "cell_type": "code",
   "execution_count": 46,
   "metadata": {},
   "outputs": [],
   "source": [
    "claimed_sources = plus.get_claimed_sources(EMEA_ishbook_output['advertiser_id'])[['sitename', 'source_id']].reset_index()"
   ]
  },
  {
   "cell_type": "markdown",
   "metadata": {},
   "source": [
    "## As you can see in the sample df below, there's sitenames that contain \"dradis_\" + advertiser_id\n",
    "\n",
    "- These are the advertisers that need to get removed before the output is finalized"
   ]
  },
  {
   "cell_type": "code",
   "execution_count": 47,
   "metadata": {},
   "outputs": [
    {
     "data": {
      "text/html": [
       "<div>\n",
       "<table border=\"1\" class=\"dataframe\">\n",
       "  <thead>\n",
       "    <tr style=\"text-align: right;\">\n",
       "      <th></th>\n",
       "      <th>advertiser_id</th>\n",
       "      <th>sitename</th>\n",
       "      <th>source_id</th>\n",
       "    </tr>\n",
       "  </thead>\n",
       "  <tbody>\n",
       "    <tr>\n",
       "      <th>0</th>\n",
       "      <td>140420</td>\n",
       "      <td>http://www.vacature-beveiliger.nl</td>\n",
       "      <td>0</td>\n",
       "    </tr>\n",
       "    <tr>\n",
       "      <th>1</th>\n",
       "      <td>207496</td>\n",
       "      <td>Sapienza Consulting</td>\n",
       "      <td>87997</td>\n",
       "    </tr>\n",
       "    <tr>\n",
       "      <th>2</th>\n",
       "      <td>2432765</td>\n",
       "      <td>Quby</td>\n",
       "      <td>1631861</td>\n",
       "    </tr>\n",
       "    <tr>\n",
       "      <th>3</th>\n",
       "      <td>3053246</td>\n",
       "      <td>dradis_3053246</td>\n",
       "      <td>2192947</td>\n",
       "    </tr>\n",
       "    <tr>\n",
       "      <th>4</th>\n",
       "      <td>6068338</td>\n",
       "      <td>dradis_6068338</td>\n",
       "      <td>3653656</td>\n",
       "    </tr>\n",
       "    <tr>\n",
       "      <th>5</th>\n",
       "      <td>6790556</td>\n",
       "      <td>dradis_6790556</td>\n",
       "      <td>3988811</td>\n",
       "    </tr>\n",
       "    <tr>\n",
       "      <th>6</th>\n",
       "      <td>8008487</td>\n",
       "      <td>dradis_8008487</td>\n",
       "      <td>4571598</td>\n",
       "    </tr>\n",
       "    <tr>\n",
       "      <th>7</th>\n",
       "      <td>8138891</td>\n",
       "      <td>dradis_8138891</td>\n",
       "      <td>4631845</td>\n",
       "    </tr>\n",
       "    <tr>\n",
       "      <th>8</th>\n",
       "      <td>9078401</td>\n",
       "      <td>dradis_9078401</td>\n",
       "      <td>5031976</td>\n",
       "    </tr>\n",
       "  </tbody>\n",
       "</table>\n",
       "</div>"
      ],
      "text/plain": [
       "   advertiser_id                           sitename  source_id\n",
       "0         140420  http://www.vacature-beveiliger.nl          0\n",
       "1         207496                Sapienza Consulting      87997\n",
       "2        2432765                               Quby    1631861\n",
       "3        3053246                     dradis_3053246    2192947\n",
       "4        6068338                     dradis_6068338    3653656\n",
       "5        6790556                     dradis_6790556    3988811\n",
       "6        8008487                     dradis_8008487    4571598\n",
       "7        8138891                     dradis_8138891    4631845\n",
       "8        9078401                     dradis_9078401    5031976"
      ]
     },
     "execution_count": 47,
     "metadata": {},
     "output_type": "execute_result"
    }
   ],
   "source": [
    "claimed_sources"
   ]
  },
  {
   "cell_type": "markdown",
   "metadata": {},
   "source": []
  },
  {
   "cell_type": "markdown",
   "metadata": {},
   "source": [
    "## Merge the Claimed Sources information to the existing sample dataset - filling in null values since not all of the advertisers will have claimed sources\n",
    "\n",
    "- You need this step in order to do the string filtering on any [sitename] containing 'dradis' in it\n",
    "- In my sample run, I found these accounts containing \"dradis\""
   ]
  },
  {
   "cell_type": "code",
   "execution_count": 59,
   "metadata": {
    "collapsed": true
   },
   "outputs": [],
   "source": [
    "emea_new_step = EMEA_ishbook_output.merge(claimed_sources, how = 'left', on = 'advertiser_id').fillna('NONE')"
   ]
  },
  {
   "cell_type": "code",
   "execution_count": 63,
   "metadata": {},
   "outputs": [
    {
     "data": {
      "text/html": [
       "<div>\n",
       "<table border=\"1\" class=\"dataframe\">\n",
       "  <thead>\n",
       "    <tr style=\"text-align: right;\">\n",
       "      <th></th>\n",
       "      <th>Account Id</th>\n",
       "      <th>Relationship</th>\n",
       "      <th>New User Id</th>\n",
       "      <th>Date Assignment Starts</th>\n",
       "      <th>advertiser_id</th>\n",
       "      <th>sitename</th>\n",
       "      <th>source_id</th>\n",
       "    </tr>\n",
       "  </thead>\n",
       "  <tbody>\n",
       "    <tr>\n",
       "      <th>9</th>\n",
       "      <td>183712105</td>\n",
       "      <td>SERVICE_REP</td>\n",
       "      <td>3271</td>\n",
       "      <td>11/02/2016</td>\n",
       "      <td>3053246</td>\n",
       "      <td>dradis_3053246</td>\n",
       "      <td>2.19295e+06</td>\n",
       "    </tr>\n",
       "    <tr>\n",
       "      <th>16</th>\n",
       "      <td>225078169</td>\n",
       "      <td>SERVICE_REP</td>\n",
       "      <td>3271</td>\n",
       "      <td>11/02/2016</td>\n",
       "      <td>6068338</td>\n",
       "      <td>dradis_6068338</td>\n",
       "      <td>3.65366e+06</td>\n",
       "    </tr>\n",
       "    <tr>\n",
       "      <th>17</th>\n",
       "      <td>233378848</td>\n",
       "      <td>SERVICE_REP</td>\n",
       "      <td>3271</td>\n",
       "      <td>11/02/2016</td>\n",
       "      <td>6790556</td>\n",
       "      <td>dradis_6790556</td>\n",
       "      <td>3.98881e+06</td>\n",
       "    </tr>\n",
       "    <tr>\n",
       "      <th>20</th>\n",
       "      <td>247190244</td>\n",
       "      <td>SERVICE_REP</td>\n",
       "      <td>3271</td>\n",
       "      <td>11/02/2016</td>\n",
       "      <td>8008487</td>\n",
       "      <td>dradis_8008487</td>\n",
       "      <td>4.5716e+06</td>\n",
       "    </tr>\n",
       "    <tr>\n",
       "      <th>21</th>\n",
       "      <td>248614903</td>\n",
       "      <td>SERVICE_REP</td>\n",
       "      <td>3271</td>\n",
       "      <td>11/02/2016</td>\n",
       "      <td>8138891</td>\n",
       "      <td>dradis_8138891</td>\n",
       "      <td>4.63184e+06</td>\n",
       "    </tr>\n",
       "    <tr>\n",
       "      <th>25</th>\n",
       "      <td>258413454</td>\n",
       "      <td>SERVICE_REP</td>\n",
       "      <td>3271</td>\n",
       "      <td>11/02/2016</td>\n",
       "      <td>9078401</td>\n",
       "      <td>dradis_9078401</td>\n",
       "      <td>5.03198e+06</td>\n",
       "    </tr>\n",
       "  </tbody>\n",
       "</table>\n",
       "</div>"
      ],
      "text/plain": [
       "    Account Id Relationship  New User Id Date Assignment Starts  \\\n",
       "9    183712105  SERVICE_REP         3271             11/02/2016   \n",
       "16   225078169  SERVICE_REP         3271             11/02/2016   \n",
       "17   233378848  SERVICE_REP         3271             11/02/2016   \n",
       "20   247190244  SERVICE_REP         3271             11/02/2016   \n",
       "21   248614903  SERVICE_REP         3271             11/02/2016   \n",
       "25   258413454  SERVICE_REP         3271             11/02/2016   \n",
       "\n",
       "    advertiser_id        sitename    source_id  \n",
       "9         3053246  dradis_3053246  2.19295e+06  \n",
       "16        6068338  dradis_6068338  3.65366e+06  \n",
       "17        6790556  dradis_6790556  3.98881e+06  \n",
       "20        8008487  dradis_8008487   4.5716e+06  \n",
       "21        8138891  dradis_8138891  4.63184e+06  \n",
       "25        9078401  dradis_9078401  5.03198e+06  "
      ]
     },
     "execution_count": 63,
     "metadata": {},
     "output_type": "execute_result"
    }
   ],
   "source": [
    "emea_new_step[emea_new_step['sitename'].str.contains('dradis')]"
   ]
  },
  {
   "cell_type": "markdown",
   "metadata": {},
   "source": [
    "## Here's the critical step - remove any and all accounts with that in their sitename\n",
    "\n",
    "- This will yield what the new final output of the ishbook should be - so after this step is completed, remove those fields from the final output as they are not needed to do the assignment\n",
    "- The very last dataframe is what the output SHOULD look like - with the excluded accounts that were flagged containing \"dradis\" in them"
   ]
  },
  {
   "cell_type": "code",
   "execution_count": 64,
   "metadata": {
    "collapsed": true
   },
   "outputs": [],
   "source": [
    "final_output = emea_new_step[~emea_new_step['sitename'].str.contains('dradis')]"
   ]
  },
  {
   "cell_type": "code",
   "execution_count": 70,
   "metadata": {},
   "outputs": [
    {
     "data": {
      "text/html": [
       "<div>\n",
       "<table border=\"1\" class=\"dataframe\">\n",
       "  <thead>\n",
       "    <tr style=\"text-align: right;\">\n",
       "      <th></th>\n",
       "      <th>Account Id</th>\n",
       "      <th>Relationship</th>\n",
       "      <th>New User Id</th>\n",
       "      <th>Date Assignment Starts</th>\n",
       "    </tr>\n",
       "  </thead>\n",
       "  <tbody>\n",
       "    <tr>\n",
       "      <th>0</th>\n",
       "      <td>67845114</td>\n",
       "      <td>SERVICE_REP</td>\n",
       "      <td>3271</td>\n",
       "      <td>11/02/2016</td>\n",
       "    </tr>\n",
       "    <tr>\n",
       "      <th>1</th>\n",
       "      <td>86573442</td>\n",
       "      <td>SERVICE_REP</td>\n",
       "      <td>3271</td>\n",
       "      <td>11/02/2016</td>\n",
       "    </tr>\n",
       "    <tr>\n",
       "      <th>2</th>\n",
       "      <td>92927998</td>\n",
       "      <td>SERVICE_REP</td>\n",
       "      <td>3271</td>\n",
       "      <td>11/02/2016</td>\n",
       "    </tr>\n",
       "    <tr>\n",
       "      <th>3</th>\n",
       "      <td>96851770</td>\n",
       "      <td>SERVICE_REP</td>\n",
       "      <td>3271</td>\n",
       "      <td>11/02/2016</td>\n",
       "    </tr>\n",
       "    <tr>\n",
       "      <th>4</th>\n",
       "      <td>117254481</td>\n",
       "      <td>SERVICE_REP</td>\n",
       "      <td>3271</td>\n",
       "      <td>11/02/2016</td>\n",
       "    </tr>\n",
       "    <tr>\n",
       "      <th>5</th>\n",
       "      <td>123533321</td>\n",
       "      <td>SERVICE_REP</td>\n",
       "      <td>3271</td>\n",
       "      <td>11/02/2016</td>\n",
       "    </tr>\n",
       "    <tr>\n",
       "      <th>6</th>\n",
       "      <td>148135895</td>\n",
       "      <td>SERVICE_REP</td>\n",
       "      <td>3271</td>\n",
       "      <td>11/02/2016</td>\n",
       "    </tr>\n",
       "    <tr>\n",
       "      <th>7</th>\n",
       "      <td>173687669</td>\n",
       "      <td>SERVICE_REP</td>\n",
       "      <td>3271</td>\n",
       "      <td>11/02/2016</td>\n",
       "    </tr>\n",
       "    <tr>\n",
       "      <th>8</th>\n",
       "      <td>180269461</td>\n",
       "      <td>SERVICE_REP</td>\n",
       "      <td>3271</td>\n",
       "      <td>11/02/2016</td>\n",
       "    </tr>\n",
       "    <tr>\n",
       "      <th>10</th>\n",
       "      <td>193632292</td>\n",
       "      <td>SERVICE_REP</td>\n",
       "      <td>3271</td>\n",
       "      <td>11/02/2016</td>\n",
       "    </tr>\n",
       "    <tr>\n",
       "      <th>11</th>\n",
       "      <td>195492354</td>\n",
       "      <td>SERVICE_REP</td>\n",
       "      <td>3271</td>\n",
       "      <td>11/02/2016</td>\n",
       "    </tr>\n",
       "    <tr>\n",
       "      <th>12</th>\n",
       "      <td>204248665</td>\n",
       "      <td>SERVICE_REP</td>\n",
       "      <td>3271</td>\n",
       "      <td>11/02/2016</td>\n",
       "    </tr>\n",
       "    <tr>\n",
       "      <th>13</th>\n",
       "      <td>209075379</td>\n",
       "      <td>SERVICE_REP</td>\n",
       "      <td>3271</td>\n",
       "      <td>11/02/2016</td>\n",
       "    </tr>\n",
       "    <tr>\n",
       "      <th>14</th>\n",
       "      <td>220971282</td>\n",
       "      <td>SERVICE_REP</td>\n",
       "      <td>3271</td>\n",
       "      <td>11/02/2016</td>\n",
       "    </tr>\n",
       "    <tr>\n",
       "      <th>15</th>\n",
       "      <td>224926354</td>\n",
       "      <td>SERVICE_REP</td>\n",
       "      <td>3271</td>\n",
       "      <td>11/02/2016</td>\n",
       "    </tr>\n",
       "    <tr>\n",
       "      <th>18</th>\n",
       "      <td>238249357</td>\n",
       "      <td>SERVICE_REP</td>\n",
       "      <td>3271</td>\n",
       "      <td>11/02/2016</td>\n",
       "    </tr>\n",
       "    <tr>\n",
       "      <th>19</th>\n",
       "      <td>240047563</td>\n",
       "      <td>SERVICE_REP</td>\n",
       "      <td>3271</td>\n",
       "      <td>11/02/2016</td>\n",
       "    </tr>\n",
       "    <tr>\n",
       "      <th>22</th>\n",
       "      <td>250723647</td>\n",
       "      <td>SERVICE_REP</td>\n",
       "      <td>3271</td>\n",
       "      <td>11/02/2016</td>\n",
       "    </tr>\n",
       "    <tr>\n",
       "      <th>23</th>\n",
       "      <td>255230673</td>\n",
       "      <td>SERVICE_REP</td>\n",
       "      <td>3271</td>\n",
       "      <td>11/02/2016</td>\n",
       "    </tr>\n",
       "    <tr>\n",
       "      <th>24</th>\n",
       "      <td>257840248</td>\n",
       "      <td>SERVICE_REP</td>\n",
       "      <td>3271</td>\n",
       "      <td>11/02/2016</td>\n",
       "    </tr>\n",
       "    <tr>\n",
       "      <th>26</th>\n",
       "      <td>261714768</td>\n",
       "      <td>SERVICE_REP</td>\n",
       "      <td>3271</td>\n",
       "      <td>11/02/2016</td>\n",
       "    </tr>\n",
       "    <tr>\n",
       "      <th>27</th>\n",
       "      <td>263321163</td>\n",
       "      <td>SERVICE_REP</td>\n",
       "      <td>3271</td>\n",
       "      <td>11/02/2016</td>\n",
       "    </tr>\n",
       "    <tr>\n",
       "      <th>28</th>\n",
       "      <td>263356363</td>\n",
       "      <td>SERVICE_REP</td>\n",
       "      <td>3271</td>\n",
       "      <td>11/02/2016</td>\n",
       "    </tr>\n",
       "    <tr>\n",
       "      <th>29</th>\n",
       "      <td>264088627</td>\n",
       "      <td>SERVICE_REP</td>\n",
       "      <td>3271</td>\n",
       "      <td>11/02/2016</td>\n",
       "    </tr>\n",
       "    <tr>\n",
       "      <th>30</th>\n",
       "      <td>264172481</td>\n",
       "      <td>SERVICE_REP</td>\n",
       "      <td>3271</td>\n",
       "      <td>11/02/2016</td>\n",
       "    </tr>\n",
       "    <tr>\n",
       "      <th>31</th>\n",
       "      <td>264334679</td>\n",
       "      <td>SERVICE_REP</td>\n",
       "      <td>3271</td>\n",
       "      <td>11/02/2016</td>\n",
       "    </tr>\n",
       "    <tr>\n",
       "      <th>32</th>\n",
       "      <td>264355440</td>\n",
       "      <td>SERVICE_REP</td>\n",
       "      <td>3271</td>\n",
       "      <td>11/02/2016</td>\n",
       "    </tr>\n",
       "    <tr>\n",
       "      <th>33</th>\n",
       "      <td>264385031</td>\n",
       "      <td>SERVICE_REP</td>\n",
       "      <td>3271</td>\n",
       "      <td>11/02/2016</td>\n",
       "    </tr>\n",
       "  </tbody>\n",
       "</table>\n",
       "</div>"
      ],
      "text/plain": [
       "    Account Id Relationship  New User Id Date Assignment Starts\n",
       "0     67845114  SERVICE_REP         3271             11/02/2016\n",
       "1     86573442  SERVICE_REP         3271             11/02/2016\n",
       "2     92927998  SERVICE_REP         3271             11/02/2016\n",
       "3     96851770  SERVICE_REP         3271             11/02/2016\n",
       "4    117254481  SERVICE_REP         3271             11/02/2016\n",
       "5    123533321  SERVICE_REP         3271             11/02/2016\n",
       "6    148135895  SERVICE_REP         3271             11/02/2016\n",
       "7    173687669  SERVICE_REP         3271             11/02/2016\n",
       "8    180269461  SERVICE_REP         3271             11/02/2016\n",
       "10   193632292  SERVICE_REP         3271             11/02/2016\n",
       "11   195492354  SERVICE_REP         3271             11/02/2016\n",
       "12   204248665  SERVICE_REP         3271             11/02/2016\n",
       "13   209075379  SERVICE_REP         3271             11/02/2016\n",
       "14   220971282  SERVICE_REP         3271             11/02/2016\n",
       "15   224926354  SERVICE_REP         3271             11/02/2016\n",
       "18   238249357  SERVICE_REP         3271             11/02/2016\n",
       "19   240047563  SERVICE_REP         3271             11/02/2016\n",
       "22   250723647  SERVICE_REP         3271             11/02/2016\n",
       "23   255230673  SERVICE_REP         3271             11/02/2016\n",
       "24   257840248  SERVICE_REP         3271             11/02/2016\n",
       "26   261714768  SERVICE_REP         3271             11/02/2016\n",
       "27   263321163  SERVICE_REP         3271             11/02/2016\n",
       "28   263356363  SERVICE_REP         3271             11/02/2016\n",
       "29   264088627  SERVICE_REP         3271             11/02/2016\n",
       "30   264172481  SERVICE_REP         3271             11/02/2016\n",
       "31   264334679  SERVICE_REP         3271             11/02/2016\n",
       "32   264355440  SERVICE_REP         3271             11/02/2016\n",
       "33   264385031  SERVICE_REP         3271             11/02/2016"
      ]
     },
     "execution_count": 70,
     "metadata": {},
     "output_type": "execute_result"
    }
   ],
   "source": [
    "final_output.ix[:, 0:4]"
   ]
  }
 ],
 "metadata": {
  "anaconda-cloud": {},
  "kernelspec": {
   "display_name": "Python 3",
   "language": "python",
   "name": "python3"
  },
  "language_info": {
   "codemirror_mode": {
    "name": "ipython",
    "version": 3
   },
   "file_extension": ".py",
   "mimetype": "text/x-python",
   "name": "python",
   "nbconvert_exporter": "python",
   "pygments_lexer": "ipython3",
   "version": "3.5.4"
  }
 },
 "nbformat": 4,
 "nbformat_minor": 1
}
