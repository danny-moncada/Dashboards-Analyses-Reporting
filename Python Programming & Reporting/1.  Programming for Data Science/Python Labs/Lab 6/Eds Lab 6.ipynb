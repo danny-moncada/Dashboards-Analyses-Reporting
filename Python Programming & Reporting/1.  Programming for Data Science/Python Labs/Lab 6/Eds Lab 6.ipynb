{
 "cells": [
  {
   "cell_type": "code",
   "execution_count": 44,
   "metadata": {},
   "outputs": [],
   "source": [
    "import pandas as pd\n",
    "import numpy as np\n",
    "\n",
    "def new_to_list(filename, year):\n",
    "    df = pd.read_csv(filename)\n",
    "    pdf=df[df.Year == year-1].Company\n",
    "    cdf=df[df.Year == year].Company\n",
    "    ddf=cdf[~cdf.isin(pdf)]\n",
    "\n",
    "    return ddf.sort_values().values"
   ]
  },
  {
   "cell_type": "code",
   "execution_count": 45,
   "metadata": {},
   "outputs": [
    {
     "data": {
      "text/plain": [
       "array(['AFLAC', 'AMR', 'APL', 'AT&T', 'AXA Financial', 'Ace Hardware',\n",
       "       'Aetna', \"Albertson's\", 'Allegheny Energy', 'Allmerica Financial',\n",
       "       'Alltel', 'American Electric Power', 'American Express',\n",
       "       'American General', 'American Intl. Group',\n",
       "       'American Medical Holdings', 'American Stores',\n",
       "       'AmerisourceBergen', 'Ameritech', 'Aon', 'Aramark',\n",
       "       'Arrow Electronics', 'Automatic Data Proc.', 'Avatex', 'Avnet',\n",
       "       'Bank One Corp.', 'Bank of America Corp.', 'Bank of New York Co.',\n",
       "       'BankAmerica Corp.', 'BankBoston Corp.', 'Bankers Trust Corp.',\n",
       "       'Barnett Banks', 'Bear Stearns', 'BellSouth', 'Bergen Brunswig',\n",
       "       'Best Buy', 'Beverly Enterprises', 'Bindley Western',\n",
       "       \"Boatmen's Bancshares\", \"Brink's\", 'Browning-Ferris Industries',\n",
       "       \"Bruno's\", 'Burlington No. Santa Fe', 'CMS Energy', 'CNF', 'CSX',\n",
       "       'CVS', 'Caldor', 'Caliber System', 'Capital Cities/ABC',\n",
       "       'Cardinal Health', 'Caremark International', 'CenterPoint Energy',\n",
       "       'Centerior Energy', 'Centex', 'Central & South West',\n",
       "       'Chase Manhattan Corp.', 'Chase Manhattan Corp.', 'Chubb', 'Cigna',\n",
       "       'Cinergy', 'Circuit City Stores', 'Citicorp', 'Citigroup',\n",
       "       'Columbia Energy Group', 'Columbia/HCA Healthcare', 'Comerica',\n",
       "       'Computer Sciences', 'Conrail', 'Consolidated Edison',\n",
       "       'Consolidated Natural Gas', 'Constellation Energy', 'Continental',\n",
       "       'Continental Airlines', 'CoreStates Financial Corp.',\n",
       "       'Costco Wholesale', 'DTE Energy', 'Delta Air Lines', \"Denny's\",\n",
       "       \"Dillard's\", 'Dole Food', 'Dominion Resources', 'Duke Energy',\n",
       "       'Eastman Chemical', 'Eckerd', 'Edison International', 'Enron',\n",
       "       'Entergy', 'Exelon', 'FHP International', 'FPL Group',\n",
       "       'Fannie Mae', 'FedEx', 'Federated Dept. Stores',\n",
       "       'First Chicago Corp.', 'First Chicago NBD Corp.', 'First Data',\n",
       "       'First Fidelity Bancorp.', 'First Interstate Bancorp',\n",
       "       'FirstEnergy', 'FleetBoston Financial', 'Fleming',\n",
       "       'Florida Progress', 'Food 4 Less', 'Foot Locker', 'Foster Wheeler',\n",
       "       'Fred Meyer', 'Freddie Mac', 'GEICO', 'GPU', 'GTE', 'Gap',\n",
       "       'General Re', 'Genuine Parts', 'Giant Food',\n",
       "       'Grand Union Holdings', 'Graybar Electric',\n",
       "       'Great Atlantic & Pacific Tea', 'Great Western Financial Corp.',\n",
       "       'Guardian Life of America', 'H.F. Ahmanson', 'Halliburton',\n",
       "       'Hannaford Bros.', 'Harcourt General', 'Health Net', 'HealthTrust',\n",
       "       'Hechinger', 'Home Depot', 'HomeBase, Inc.',\n",
       "       'Household International', 'Humana', 'ITT Industries',\n",
       "       'Ikon Office Solutions', 'Intelligent Electronics', 'J.C. Penney',\n",
       "       'J.P. Morgan', 'John Hancock Financial Svcs.', 'Kelly Services',\n",
       "       'KeyCorp', 'Kmart Holding', 'Kroger', 'Lehman Brothers Hldgs.',\n",
       "       'Level 3 Communications', 'Liberty Mutual Ins. Group',\n",
       "       'Limited Brands', 'Lincoln National', 'Loews',\n",
       "       'Long Island Lighting', 'Longs Drug Stores', \"Lowe's\",\n",
       "       'Lutheran Brotherhood', 'MCI Communications', 'MCI WorldCom',\n",
       "       'Manpower', 'Marsh & McLennan', 'Mass. Mutual Life Ins.',\n",
       "       'Massey Energy', 'May Dept. Stores', \"McDonald's\", 'McKesson',\n",
       "       'MediaOne Group, Inc.', 'Mellon Financial Corp.',\n",
       "       'Mercantile Stores', 'Merisel', 'Merrill Lynch', 'MetLife',\n",
       "       'MicroAge', 'Microsoft', 'Morgan Stanley', 'Morgan Stanley Group',\n",
       "       'Morrison Knudsen', 'Mutual of Omaha Ins.', 'Nash Finch',\n",
       "       'National City Corp.', 'Nationwide', 'New England Electric Sys.',\n",
       "       'New England Mutual Life Ins.', 'New York Life Insurance',\n",
       "       'Niagara Mohawk Holdings', 'Nike', 'NorAm Energy', 'Nordstrom',\n",
       "       'Norfolk Southern', 'Northeast Utilities', 'Northwest Airlines',\n",
       "       'Northwestern Mutual', 'Nynex', 'Office Depot', 'Olsten',\n",
       "       'Owens & Minor', 'PG&E Corp.', 'PNC Financial Services', 'PPL',\n",
       "       'PacifiCare Health Sys.', 'PacifiCorp', 'Pacific Enterprises',\n",
       "       'Pacific Telesis Group', 'Paine Webber Group', 'PanEnergy',\n",
       "       'Payless Cashways', 'Penn Traffic', 'Phoenix',\n",
       "       'Principal Financial', 'Progress Energy', 'Progressive',\n",
       "       'Providian', 'Prudential Ins. Co. of America',\n",
       "       'Public Service Enterprise Group', 'Publix Super Markets',\n",
       "       'R.H. Donnelley', 'RadioShack', 'Reebok International',\n",
       "       'Reliance Group Holdings', 'Republic New York Corp.', 'Revco D.S.',\n",
       "       'Rite Aid', \"Roundy's\", 'Ryder System', 'SBC Communications',\n",
       "       'SLM', 'Safeco', 'Safeway', 'Salomon', 'Santa Fe Pacific',\n",
       "       'Sears Roebuck', 'Service Merchandise', 'ServiceMaster',\n",
       "       'Shawmut National Corp.', \"Smith's Food & Drug Centers\",\n",
       "       'Sodexho Marriott Services', 'Southern', 'Southern Pacific Rail',\n",
       "       'Southwest Airlines', 'Spiegel', 'Sprint',\n",
       "       'St. Paul Travelers Cos.', 'State Farm Insurance Cos',\n",
       "       'Stop & Shop', 'SunTrust Banks', 'Supermarkets Genl. Holdings',\n",
       "       'Supervalu', 'Sysco', 'TJX', 'TXU', 'Target',\n",
       "       'Teachers Insurance & Annuity Assn.', 'Tech Data',\n",
       "       'Tele-Communications', 'Tenet Healthcare',\n",
       "       'Thrifty PayLess Holdings', 'Thrivent Financial for Lutherans',\n",
       "       'Time Warner', 'Toys `R` Us', 'Trans World Airlines',\n",
       "       'Transamerica', 'Transco Energy', 'True Value',\n",
       "       'Turner Broadcasting', 'Turner Corp.', 'U.S. Bancorp',\n",
       "       'U.S. Healthcare', 'UAL', 'US Airways Group', 'USAA', 'USF&G',\n",
       "       'Unicom', 'Union Pacific', 'United Parcel Service',\n",
       "       'United States Shoe', 'UnitedHealth Group', 'Unum',\n",
       "       'UnumProvident', 'Verizon Communications', 'Viacom', 'Viad',\n",
       "       'Vons', 'W.W. Grainger', 'Wachovia Corp.', 'Wachovia Corp.',\n",
       "       'Wal-Mart Stores', 'Walgreen', 'Walt Disney', 'Waste Management',\n",
       "       'Wellpoint', 'Wells Fargo', 'Wells Fargo & Co.', 'Williams',\n",
       "       'Winn-Dixie Stores', 'Xcel Energy', 'Yellow Roadway'], dtype=object)"
      ]
     },
     "execution_count": 45,
     "metadata": {},
     "output_type": "execute_result"
    }
   ],
   "source": [
    "new_to_list(\"fortune500.csv\", 1995)"
   ]
  },
  {
   "cell_type": "code",
   "execution_count": 25,
   "metadata": {},
   "outputs": [
    {
     "data": {
      "text/plain": [
       "25000                 Wal-Mart Stores\n",
       "25001                     Exxon Mobil\n",
       "25002                  General Motors\n",
       "25003                      Ford Motor\n",
       "25004                General Electric\n",
       "25005                   ChevronTexaco\n",
       "25006                  ConocoPhillips\n",
       "25007                       Citigroup\n",
       "25008            American Intl. Group\n",
       "25009         Intl. Business Machines\n",
       "25010                 Hewlett-Packard\n",
       "25011              Berkshire Hathaway\n",
       "25012                      Home Depot\n",
       "25013          Verizon Communications\n",
       "25014                        McKesson\n",
       "25015                 Cardinal Health\n",
       "25016                    Altria Group\n",
       "25017           Bank of America Corp.\n",
       "25018        State Farm Insurance Cos\n",
       "25019         J.P. Morgan Chase & Co.\n",
       "25020                          Kroger\n",
       "25021                   Valero Energy\n",
       "25022               AmerisourceBergen\n",
       "25023                          Pfizer\n",
       "25024                          Boeing\n",
       "25025                Procter & Gamble\n",
       "25026                          Target\n",
       "25027                            Dell\n",
       "25028                Costco Wholesale\n",
       "25029               Johnson & Johnson\n",
       "                     ...             \n",
       "25470                Wisconsin Energy\n",
       "25471         American Financial Grp.\n",
       "25472                Beazer Homes USA\n",
       "25473                Collins & Aikman\n",
       "25474                   Borders Group\n",
       "25475                      Nash Finch\n",
       "25476                   Toll Brothers\n",
       "25477                           SCANA\n",
       "25478              Whole Foods Market\n",
       "25479                         Corning\n",
       "25480                      Sealed Air\n",
       "25481                          Maxtor\n",
       "25482            Reebok International\n",
       "25483                             UGI\n",
       "25484                         Guidant\n",
       "25485                   Host Marriott\n",
       "25486              Advance Auto Parts\n",
       "25487                   ServiceMaster\n",
       "25488             Wesco International\n",
       "25489           Telephone & Data Sys.\n",
       "25490          Level 3 Communications\n",
       "25491           Brinker International\n",
       "25492           Stater Bros. Holdings\n",
       "25493    Western & Southern Financial\n",
       "25494                         Gateway\n",
       "25495                 Wm. Wrigley Jr.\n",
       "25496                  Peabody Energy\n",
       "25497           Wendy's International\n",
       "25498              Kindred Healthcare\n",
       "25499            Cincinnati Financial\n",
       "Name: Company, Length: 500, dtype: object"
      ]
     },
     "execution_count": 25,
     "metadata": {},
     "output_type": "execute_result"
    }
   ],
   "source": [
    "df = pd.read_csv(\"fortune500.csv\")\n",
    "df[df.Year == 2005].Company\n",
    "#year_before = \n",
    "#year_start = df[df[\"Year\"] == 1994]['Company']\n",
    "#year_end = df[df[\"Year\"] == 1995]['Company']\n",
    "\n",
    "#ddf=cdf[~cdf.isin(pdf)].dropna()\n",
    "#df[df.Year == 1995].Company.values\n",
    "#pdf=pd.DataFrame(df[df.Year == year-1].Company.values)\n",
    "#cdf=pd.DataFrame(df[df.Year == year].Company.values)"
   ]
  },
  {
   "cell_type": "code",
   "execution_count": 22,
   "metadata": {
    "scrolled": true
   },
   "outputs": [
    {
     "data": {
      "text/plain": [
       "pandas.core.series.Series"
      ]
     },
     "execution_count": 22,
     "metadata": {},
     "output_type": "execute_result"
    }
   ],
   "source": [
    "type(year_end)"
   ]
  },
  {
   "cell_type": "code",
   "execution_count": null,
   "metadata": {},
   "outputs": [],
   "source": []
  },
  {
   "cell_type": "code",
   "execution_count": null,
   "metadata": {},
   "outputs": [],
   "source": []
  }
 ],
 "metadata": {
  "kernelspec": {
   "display_name": "Python 3",
   "language": "python",
   "name": "python3"
  },
  "language_info": {
   "codemirror_mode": {
    "name": "ipython",
    "version": 3
   },
   "file_extension": ".py",
   "mimetype": "text/x-python",
   "name": "python",
   "nbconvert_exporter": "python",
   "pygments_lexer": "ipython3",
   "version": "3.5.4"
  }
 },
 "nbformat": 4,
 "nbformat_minor": 2
}
