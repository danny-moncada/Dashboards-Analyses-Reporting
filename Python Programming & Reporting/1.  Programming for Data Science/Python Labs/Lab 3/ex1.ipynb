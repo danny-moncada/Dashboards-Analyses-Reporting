{
 "cells": [
  {
   "cell_type": "code",
   "execution_count": null,
   "metadata": {
    "collapsed": true
   },
   "outputs": [],
   "source": [
    "## Danny Moncada - MSBA 6310 - Lab 3 - ex1.py\n",
    "## Write the following 3 functions.  Each function will take exactly 1 parameter - a list of numbers\n",
    "## 1. largest_even: returns largest even number in the array, if no even numbers return -1.\n",
    "## 2. num_two_digits: returns the number of two digit numbers in the array\n",
    "## 3. num_odd: returns the number of odd numbers in the array"
   ]
  },
  {
   "cell_type": "code",
   "execution_count": 66,
   "metadata": {},
   "outputs": [
    {
     "name": "stdout",
     "output_type": "stream",
     "text": [
      "92\n",
      "18\n",
      "10\n"
     ]
    }
   ],
   "source": [
    "nums = [47, 36, 71, 63, 12, 80, 90, 42, 25, 92, 45, 42, 5, 74, 77, 25, 0, 30, 91, 71]\n",
    "\n",
    "def largest_even(list_of_nums):\n",
    "    evens = []\n",
    "    for item in list_of_nums:\n",
    "        if item % 2 == 0:\n",
    "            evens.append(item)\n",
    "    if len(evens) == 0:\n",
    "        return -1\n",
    "    else:\n",
    "        return max(evens)\n",
    "\n",
    "def num_two_digits(list_of_nums):\n",
    "    count = 0\n",
    "    for item in list_of_nums:\n",
    "        if len(str(item)) == 2:\n",
    "            count+=1\n",
    "    return count\n",
    "\n",
    "def num_odd(list_of_nums):\n",
    "    count = 0\n",
    "    for item in list_of_nums:\n",
    "        if item % 2 != 0:\n",
    "            count+=1\n",
    "    return count\n",
    "\n",
    "print(largest_even(nums))\n",
    "print(num_two_digits(nums))\n",
    "print(num_odd(nums))"
   ]
  }
 ],
 "metadata": {
  "kernelspec": {
   "display_name": "Python 3",
   "language": "python",
   "name": "python3"
  },
  "language_info": {
   "codemirror_mode": {
    "name": "ipython",
    "version": 3
   },
   "file_extension": ".py",
   "mimetype": "text/x-python",
   "name": "python",
   "nbconvert_exporter": "python",
   "pygments_lexer": "ipython3",
   "version": "3.5.4"
  }
 },
 "nbformat": 4,
 "nbformat_minor": 2
}
