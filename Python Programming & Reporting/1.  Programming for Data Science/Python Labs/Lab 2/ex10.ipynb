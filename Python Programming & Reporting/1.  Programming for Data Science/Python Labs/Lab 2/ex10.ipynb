{
 "cells": [
  {
   "cell_type": "code",
   "execution_count": 1,
   "metadata": {
    "collapsed": true
   },
   "outputs": [],
   "source": [
    "## Danny Moncada - MSBA 6310 - Lab 2 - ex10.py\n",
    "## Write a program that requests the following and displays a depreciation schedule\n",
    "## 1. Item descriptiion, 2. Original cost, 3. Number of years of estimated life, 4. Depreciation method"
   ]
  },
  {
   "cell_type": "code",
   "execution_count": 71,
   "metadata": {},
   "outputs": [
    {
     "name": "stdout",
     "output_type": "stream",
     "text": [
      "Description of the item: Computer\n",
      "Cost of the item: 1500\n",
      "Estimated life of the item in whole years: 5\n",
      "Depreciation method (1 = straight line, 2 = double declining balance): 2\n",
      "\n",
      "Depreciation schedule for: Computer\n",
      "\n",
      "Year\tBegin\tDep\tEnd\n",
      "0\t1500.00\t0.00\t1500.00\n",
      "1\t1500.00\t600.00\t900.00\n",
      "2\t900.00\t360.00\t540.00\n",
      "3\t540.00\t216.00\t324.00\n",
      "4\t324.00\t129.60\t194.40\n",
      "5\t194.40\t194.40\t0.00\n"
     ]
    }
   ],
   "source": [
    "## get user input for description of item, cost of item, estimate life of item\n",
    "item = input(\"Description of the item: \")\n",
    "cost = float(input(\"Cost of the item: \"))\n",
    "years = int(input(\"Estimated life of the item in whole years: \"))\n",
    "depreciation_method = int(input(\"Depreciation method (1 = straight line, 2 = double declining balance): \"))\n",
    "\n",
    "count = 0\n",
    "begin = cost\n",
    "end = cost\n",
    "\n",
    "print()\n",
    "print(\"Depreciation schedule for: {0}\".format(item))\n",
    "print()\n",
    "\n",
    "if depreciation_method == 1:\n",
    "    print(\"Year\\tBegin\\tDep\\tEnd\")\n",
    "    while count <= years:\n",
    "        if count == 0:\n",
    "            depreciation = 0.00\n",
    "            print(\"{0}\\t{1:.2f}\\t{2:.2f}\\t{3:.2f}\".format(count, begin, depreciation, end))\n",
    "            count+=1\n",
    "        if count != 0:\n",
    "            depreciation = cost * (1 / years)\n",
    "            print(\"{0}\\t{1:.2f}\\t{2:.2f}\\t{3:.2f}\".format(count, begin, depreciation, end - depreciation))\n",
    "            begin = end - depreciation\n",
    "            end = end - depreciation\n",
    "            count+=1\n",
    "\n",
    "elif depreciation_method ==2:\n",
    "    print(\"Year\\tBegin\\tDep\\tEnd\")\n",
    "    while count <= years:\n",
    "        if count == 0:\n",
    "            depreciation = 0.00\n",
    "            print(\"{0}\\t{1:.2f}\\t{2:.2f}\\t{3:.2f}\".format(count, begin, depreciation, end))\n",
    "            count+=1\n",
    "        if count > 0 and count < years:\n",
    "            depreciation = begin * (2 / years)\n",
    "            print(\"{0}\\t{1:.2f}\\t{2:.2f}\\t{3:.2f}\".format(count, begin, depreciation, end - depreciation))\n",
    "            begin = end - depreciation\n",
    "            end = end - depreciation\n",
    "            count+=1\n",
    "        if count == years:\n",
    "            depreciation = begin\n",
    "            print(\"{0}\\t{1:.2f}\\t{2:.2f}\\t{3:.2f}\".format(count, end, depreciation, end - depreciation))\n",
    "            count+=1"
   ]
  }
 ],
 "metadata": {
  "kernelspec": {
   "display_name": "Python 3",
   "language": "python",
   "name": "python3"
  },
  "language_info": {
   "codemirror_mode": {
    "name": "ipython",
    "version": 3
   },
   "file_extension": ".py",
   "mimetype": "text/x-python",
   "name": "python",
   "nbconvert_exporter": "python",
   "pygments_lexer": "ipython3",
   "version": "3.5.4"
  }
 },
 "nbformat": 4,
 "nbformat_minor": 2
}
