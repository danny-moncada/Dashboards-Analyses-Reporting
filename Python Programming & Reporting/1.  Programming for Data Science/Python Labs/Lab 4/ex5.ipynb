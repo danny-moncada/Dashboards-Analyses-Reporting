{
 "cells": [
  {
   "cell_type": "code",
   "execution_count": 16,
   "metadata": {
    "collapsed": true
   },
   "outputs": [],
   "source": [
    "## Danny Moncada - MSBA 6310 - Lab 4 - ex5.py\n",
    "## Write a class named State that should have at least 3 attributes, name, area, population and one method\n",
    "## pop_density for calculating the population density\n",
    "## Write a function named load_us_states that accepts a file name, the function should return\n",
    "## a list of State objects in order of descending population density"
   ]
  },
  {
   "cell_type": "code",
   "execution_count": 327,
   "metadata": {
    "collapsed": true
   },
   "outputs": [],
   "source": [
    "def load_us_states(filename):\n",
    "\n",
    "    lines = open(filename).read().splitlines()\n",
    "    \n",
    "    def pop_density_key(arg):\n",
    "        arg = arg.split(\",\")\n",
    "        population_density = int(arg[3]) / int(arg[2])\n",
    "        return population_density\n",
    "    \n",
    "    sorted_states = sorted(lines, key = pop_density_key, reverse = True)\n",
    "\n",
    "    class State(object):\n",
    "\n",
    "        def __init__(self, name, abbrev, density, population):\n",
    "            self.name = name\n",
    "            self.abbrev = abbrev\n",
    "            self.density = density\n",
    "            self.population = population\n",
    "            \n",
    "        def pop_density(self):\n",
    "            return int(self.population) / int(self.density)\n",
    "        \n",
    "        def __repr__(self):\n",
    "            return(\"{}\").format(self.name)\n",
    "    \n",
    "    my_list = []\n",
    "    for line in sorted_states:\n",
    "        name, abbrev, density, population = line.split(\",\")\n",
    "        my_list.append(State(name, abbrev, density, population))\n",
    "        \n",
    "    return my_list"
   ]
  },
  {
   "cell_type": "code",
   "execution_count": 328,
   "metadata": {
    "collapsed": true
   },
   "outputs": [],
   "source": [
    "states = load_us_states(\"us_states.csv\")"
   ]
  },
  {
   "cell_type": "code",
   "execution_count": 332,
   "metadata": {},
   "outputs": [
    {
     "name": "stdout",
     "output_type": "stream",
     "text": [
      "New Jersey\n",
      "NJ\n",
      "1096.804637993798\n",
      "Alaska\n"
     ]
    }
   ],
   "source": [
    "print(states[0].name)\n",
    "print(states[0].abbrev)\n",
    "print(states[0].pop_density())\n",
    "print(states[49])"
   ]
  },
  {
   "cell_type": "code",
   "execution_count": null,
   "metadata": {
    "collapsed": true
   },
   "outputs": [],
   "source": [
    "In [1]: states = load_us_states('us_states.csv')\n",
    "In [2]: states[0].name\n",
    "Out[2]: 'New Jersey'\n",
    "In [3]: states[0].abbrev\n",
    "Out[3]: 'NJ'\n",
    "In [4]: states[0].pop_density()\n",
    "Out[4]: 1096.804637993798\n",
    "In [5]: print states[49]\n",
    "Alaska"
   ]
  }
 ],
 "metadata": {
  "kernelspec": {
   "display_name": "Python 3",
   "language": "python",
   "name": "python3"
  },
  "language_info": {
   "codemirror_mode": {
    "name": "ipython",
    "version": 3
   },
   "file_extension": ".py",
   "mimetype": "text/x-python",
   "name": "python",
   "nbconvert_exporter": "python",
   "pygments_lexer": "ipython3",
   "version": "3.7.4"
  }
 },
 "nbformat": 4,
 "nbformat_minor": 2
}
