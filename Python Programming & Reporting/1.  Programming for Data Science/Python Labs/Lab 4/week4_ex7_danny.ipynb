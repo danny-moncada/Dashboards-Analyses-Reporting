{
 "cells": [
  {
   "cell_type": "code",
   "execution_count": 1,
   "metadata": {
    "collapsed": true
   },
   "outputs": [],
   "source": [
    "## Danny Moncada - MSBA 6310 - Lab 4 - ex7.py\n",
    "## Write a class named HighRoller that utilizes PairofDice() class to implement a simple game\n",
    "## Each player is represented by a pair of dice\n",
    "## roll_all gives each player one roll\n",
    "## the winner with highest roll total is determined by winner method"
   ]
  },
  {
   "cell_type": "code",
   "execution_count": 1,
   "metadata": {
    "collapsed": true
   },
   "outputs": [],
   "source": [
    "from random import randint\n",
    "\n",
    "class HighRoller(object):\n",
    "    rolls = {}\n",
    "    def __init__(self):\n",
    "        self.players = []\n",
    "        \n",
    "    def add_player(self, str):\n",
    "        self.players.append(str)\n",
    "        \n",
    "    def roll_all(self):\n",
    "        for player in self.players:\n",
    "            dice1 = randint(1, 6)\n",
    "            dice2 = randint(1, 6)\n",
    "            self.rolls[player] = dice1 + dice2\n",
    "        return self.rolls\n",
    "    \n",
    "    def winner(self):\n",
    "        max_val = max(self.rolls.values())\n",
    "        return [(key) for key, value in self.rolls.items() if value == max_val]\n",
    "    \n",
    "    def total(self, name):\n",
    "        return [(value) for key, value in self.rolls.items()] "
   ]
  },
  {
   "cell_type": "code",
   "execution_count": 2,
   "metadata": {
    "collapsed": true
   },
   "outputs": [],
   "source": [
    "game = HighRoller()"
   ]
  },
  {
   "cell_type": "code",
   "execution_count": 3,
   "metadata": {
    "collapsed": true
   },
   "outputs": [],
   "source": [
    "game.add_player(\"Perky\")\n",
    "game.add_player(\"Nipper\")\n",
    "game.add_player(\"Bubbles\")"
   ]
  },
  {
   "cell_type": "code",
   "execution_count": 4,
   "metadata": {},
   "outputs": [
    {
     "data": {
      "text/plain": [
       "{'Bubbles': 5, 'Nipper': 8, 'Perky': 8}"
      ]
     },
     "execution_count": 4,
     "metadata": {},
     "output_type": "execute_result"
    }
   ],
   "source": [
    "game.roll_all()"
   ]
  },
  {
   "cell_type": "code",
   "execution_count": 5,
   "metadata": {},
   "outputs": [
    {
     "data": {
      "text/plain": [
       "['Nipper', 'Perky']"
      ]
     },
     "execution_count": 5,
     "metadata": {},
     "output_type": "execute_result"
    }
   ],
   "source": [
    "game.winner()"
   ]
  },
  {
   "cell_type": "code",
   "execution_count": 8,
   "metadata": {},
   "outputs": [
    {
     "data": {
      "text/plain": [
       "'Perky'"
      ]
     },
     "execution_count": 8,
     "metadata": {},
     "output_type": "execute_result"
    }
   ],
   "source": [
    "game.players[0]"
   ]
  },
  {
   "cell_type": "code",
   "execution_count": 162,
   "metadata": {},
   "outputs": [
    {
     "data": {
      "text/plain": [
       "__main__.HighRoller"
      ]
     },
     "execution_count": 162,
     "metadata": {},
     "output_type": "execute_result"
    }
   ],
   "source": [
    "type(game)"
   ]
  },
  {
   "cell_type": "code",
   "execution_count": null,
   "metadata": {
    "collapsed": true
   },
   "outputs": [],
   "source": []
  },
  {
   "cell_type": "code",
   "execution_count": null,
   "metadata": {
    "collapsed": true
   },
   "outputs": [],
   "source": []
  },
  {
   "cell_type": "code",
   "execution_count": null,
   "metadata": {
    "collapsed": true
   },
   "outputs": [],
   "source": [
    "## ignore this junk, this was when i first started the notebook"
   ]
  },
  {
   "cell_type": "code",
   "execution_count": null,
   "metadata": {
    "collapsed": true
   },
   "outputs": [],
   "source": [
    "from random import randint\n",
    "\n",
    "class HighRoller(object):\n",
    "    def __init__(self):\n",
    "        self.players = []\n",
    "        \n",
    "    def add_player(self, str):\n",
    "        self.players.append(str)\n",
    "        \n",
    "    \n",
    "    def roll_all():\n",
    "        rolls = {}\n",
    "        for player in self.players:\n",
    "            rolls.append(PairOfDice.roll())\n",
    "            \n",
    "    #def winner(self):\n",
    "        \n",
    "#class PairOfDice(HighRoller):\n",
    "    #def __init__(self, players):\n",
    "      #  for player in players:\n",
    "    \n",
    "    def roll(self):\n",
    "        self.dice1 = randint(1, 6)\n",
    "        self.dice2 = randint(1, 6)\n",
    "        return self.dice1, self.dice2\n",
    "\n",
    "    def total(self):\n",
    "        return self.dice1 + self.dice2"
   ]
  }
 ],
 "metadata": {
  "anaconda-cloud": {},
  "kernelspec": {
   "display_name": "Python 3",
   "language": "python",
   "name": "python3"
  },
  "language_info": {
   "codemirror_mode": {
    "name": "ipython",
    "version": 3
   },
   "file_extension": ".py",
   "mimetype": "text/x-python",
   "name": "python",
   "nbconvert_exporter": "python",
   "pygments_lexer": "ipython3",
   "version": "3.5.4"
  }
 },
 "nbformat": 4,
 "nbformat_minor": 2
}
