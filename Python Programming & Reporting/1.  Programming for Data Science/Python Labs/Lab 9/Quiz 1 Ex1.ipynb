{
 "cells": [
  {
   "cell_type": "code",
   "execution_count": null,
   "metadata": {
    "collapsed": true
   },
   "outputs": [],
   "source": [
    "In [1]: simulate_bounce(0.21, 10, 57)\n",
    "Out[1]: (2, 14.2)\n",
    "\n",
    "In [2]: simulate_bounce(0.6, 2, 18)\n",
    "Out[2]: (5, 7.2223999999999995)\n",
    "\n",
    "In [3]: simulate_bounce(0.49, 7, 43)\n",
    "Out[3]: (4, 18.868485999999997)"
   ]
  },
  {
   "cell_type": "code",
   "execution_count": 15,
   "metadata": {
    "collapsed": true
   },
   "outputs": [],
   "source": [
    "# meters\n",
    "height = 10\n",
    "\n",
    "coeff = .21\n",
    "\n",
    "# centimeters\n",
    "threshold = 57"
   ]
  },
  {
   "cell_type": "code",
   "execution_count": 16,
   "metadata": {
    "collapsed": true
   },
   "outputs": [],
   "source": [
    "height = height * 100"
   ]
  },
  {
   "cell_type": "code",
   "execution_count": 17,
   "metadata": {},
   "outputs": [],
   "source": [
    "total_distance = [initial_height]"
   ]
  },
  {
   "cell_type": "code",
   "execution_count": 28,
   "metadata": {},
   "outputs": [
    {
     "name": "stdout",
     "output_type": "stream",
     "text": [
      "1 10.0\n",
      "2 14.2\n"
     ]
    }
   ],
   "source": [
    "height = 10\n",
    "coeff = .21\n",
    "threshold = 57\n",
    "\n",
    "height = height * 100\n",
    "total_distance = [height]\n",
    "\n",
    "\n",
    "\n",
    "count = 0\n",
    "while height > threshold:\n",
    "    height = height * coeff\n",
    "    total_distance.append(height*2)\n",
    "    count +=1\n",
    "    print(count, sum(total_distance[0:len(total_distance)-1])/100)\n",
    "    "
   ]
  },
  {
   "cell_type": "code",
   "execution_count": 34,
   "metadata": {},
   "outputs": [],
   "source": [
    "def simulate_bounce(coef, height, threshold):\n",
    "    \n",
    "    height = height * 100\n",
    "    total_distance = [height]\n",
    "    count = 0 \n",
    "    \n",
    "    while height > threshold:\n",
    "        height = height * coef\n",
    "        total_distance.append(height*2)\n",
    "        count +=1\n",
    "    \n",
    "    return (count, sum(total_distance[0:len(total_distance)-1])/100)"
   ]
  },
  {
   "cell_type": "code",
   "execution_count": 35,
   "metadata": {},
   "outputs": [
    {
     "data": {
      "text/plain": [
       "(2, 14.2)"
      ]
     },
     "execution_count": 35,
     "metadata": {},
     "output_type": "execute_result"
    }
   ],
   "source": [
    "simulate_bounce(0.21, 10, 57)"
   ]
  },
  {
   "cell_type": "code",
   "execution_count": 36,
   "metadata": {},
   "outputs": [
    {
     "data": {
      "text/plain": [
       "(5, 7.2224)"
      ]
     },
     "execution_count": 36,
     "metadata": {},
     "output_type": "execute_result"
    }
   ],
   "source": [
    "simulate_bounce(0.6, 2, 18)"
   ]
  },
  {
   "cell_type": "code",
   "execution_count": 37,
   "metadata": {},
   "outputs": [
    {
     "data": {
      "text/plain": [
       "(4, 18.868485999999997)"
      ]
     },
     "execution_count": 37,
     "metadata": {},
     "output_type": "execute_result"
    }
   ],
   "source": [
    "simulate_bounce(0.49, 7, 43)"
   ]
  },
  {
   "cell_type": "code",
   "execution_count": null,
   "metadata": {
    "collapsed": true
   },
   "outputs": [],
   "source": []
  }
 ],
 "metadata": {
  "kernelspec": {
   "display_name": "Python 3",
   "language": "python",
   "name": "python3"
  },
  "language_info": {
   "codemirror_mode": {
    "name": "ipython",
    "version": 3
   },
   "file_extension": ".py",
   "mimetype": "text/x-python",
   "name": "python",
   "nbconvert_exporter": "python",
   "pygments_lexer": "ipython3",
   "version": "3.5.4"
  }
 },
 "nbformat": 4,
 "nbformat_minor": 2
}
