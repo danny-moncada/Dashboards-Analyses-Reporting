{
 "cells": [
  {
   "cell_type": "code",
   "execution_count": null,
   "metadata": {
    "collapsed": true
   },
   "outputs": [],
   "source": [
    "## Danny Moncada - MSBA 6310 - ex5.py\n",
    "## Write a program to convert a distance from US units (miles, yards, feet, inches) to international units (km, m, cm)."
   ]
  },
  {
   "cell_type": "code",
   "execution_count": 8,
   "metadata": {},
   "outputs": [
    {
     "name": "stdout",
     "output_type": "stream",
     "text": [
      "Enter miles: 3.5\n",
      "\n",
      "Enter yards: 5\n",
      "\n",
      "Enter feet: 4\n",
      "\n",
      "Enter inches: 2\n",
      "\n",
      "The metric length is: \n",
      "5 kilometers\n",
      "638 meters\n",
      "55.7 centimeters\n"
     ]
    }
   ],
   "source": [
    "## get user input for miles, yards, feet, and inches\n",
    "miles = input(\"Enter miles: \")\n",
    "print()\n",
    "yards = input(\"Enter yards: \")\n",
    "print()\n",
    "feet = input(\"Enter feet: \")\n",
    "print()\n",
    "inches = input(\"Enter inches: \")\n",
    "print()\n",
    "\n",
    "## convert all user input into one standard unit, in this case inches\n",
    "## convert the inches into centimeters\n",
    "conversion_inches = float(miles) * 63360 + float(yards) * 36 + float(feet) * 12 + float(inches)\n",
    "conversion_centimeters = conversion_inches / .3937\n",
    "\n",
    "## display the results - calculate the kilometers by dividing by 100000 and converting to int\n",
    "## calculate the meters by getting the remainder of dividing by 10000 and dividing by 100\n",
    "## calculate the centimeters by getting the reminder after dividing by 100\n",
    "print(\"The metric length is: \")\n",
    "print(\"%s kilometers\" % int(conversion_centimeters / 100000))\n",
    "print(\"%s meters\" % int(conversion_centimeters % 100000 / 100))\n",
    "print(\"%s centimeters\" % round(conversion_centimeters % 100, 1))"
   ]
  },
  {
   "cell_type": "code",
   "execution_count": 6,
   "metadata": {},
   "outputs": [
    {
     "data": {
      "text/plain": [
       "638.5572771145543"
      ]
     },
     "execution_count": 6,
     "metadata": {},
     "output_type": "execute_result"
    }
   ],
   "source": [
    "conversion_centimeters % 100000 / 100"
   ]
  },
  {
   "cell_type": "code",
   "execution_count": null,
   "metadata": {
    "collapsed": true
   },
   "outputs": [],
   "source": []
  }
 ],
 "metadata": {
  "kernelspec": {
   "display_name": "Python 3",
   "language": "python",
   "name": "python3"
  },
  "language_info": {
   "codemirror_mode": {
    "name": "ipython",
    "version": 3
   },
   "file_extension": ".py",
   "mimetype": "text/x-python",
   "name": "python",
   "nbconvert_exporter": "python",
   "pygments_lexer": "ipython3",
   "version": "3.5.4"
  }
 },
 "nbformat": 4,
 "nbformat_minor": 2
}
