{
 "cells": [
  {
   "cell_type": "markdown",
   "metadata": {},
   "source": [
    "# Lab0 - Linux Commands"
   ]
  },
  {
   "cell_type": "markdown",
   "metadata": {},
   "source": [
    "## 1. Get some information about the system"
   ]
  },
  {
   "cell_type": "code",
   "execution_count": null,
   "metadata": {},
   "outputs": [],
   "source": [
    "#View your current directory#\n",
    "\n",
    "[cloudera@quickstart ~]$ pwd\n",
    "\n",
    "/home/cloudera"
   ]
  },
  {
   "cell_type": "code",
   "execution_count": null,
   "metadata": {},
   "outputs": [],
   "source": [
    "# View the distribution/version of the Linux#\n",
    "\n",
    "[cloudera@quickstart ~]$ cat /etc/issue\n",
    "\n",
    "CentOS release 6.7 (Final)\n",
    "Kernel \\r on an \\m"
   ]
  },
  {
   "cell_type": "code",
   "execution_count": null,
   "metadata": {},
   "outputs": [],
   "source": [
    "# View how much memory is available (use the “free -h” command)\n",
    "\n",
    "[cloudera@quickstart ~]$ free -h\n",
    "             total       used       free     shared    buffers     cached\n",
    "Mem:           15G       7.6G       8.0G       2.7M       168M       1.2G\n",
    "-/+ buffers/cache:       6.2G       9.4G\n",
    "Swap:         8.0G         0B       8.0G"
   ]
  },
  {
   "cell_type": "markdown",
   "metadata": {},
   "source": [
    "## 2. Navigate the file system"
   ]
  },
  {
   "cell_type": "code",
   "execution_count": null,
   "metadata": {},
   "outputs": [],
   "source": [
    "[cloudera@quickstart ~]$ ls -l\n",
    "total 504\n",
    "drwxrwxr-x 20 cloudera cloudera   4096 Nov 12  2017 anaconda2\n",
    "-rwxrwxr-x  1 cloudera cloudera   5387 Apr  5  2017 cloudera-manager\n",
    "-rwxrwxr-x  1 cloudera cloudera   9964 Apr  5  2017 cm_api.py\n",
    "drwxrwxr-x  3 cloudera cloudera   4096 Jul 31  2017 deprecated_usr_lib\n",
    "-rw-rw-r--  1 cloudera cloudera  20387 Nov 12  2017 derby.log\n",
    "drwxrwxr-x  2 cloudera cloudera   4096 Apr  5  2017 Desktop\n",
    "drwxrwxr-x  4 cloudera cloudera   4096 Apr  5  2017 Documents\n",
    "drwxr-xr-x  2 cloudera cloudera   4096 Jun  3 11:05 Downloads\n",
    "drwxrwsr-x  9 cloudera cloudera   4096 Jul 31  2017 eclipse\n",
    "-rw-rw-r--  1 cloudera cloudera  53655 Apr  5  2017 enterprise-deployment.json\n",
    "-rw-rw-r--  1 cloudera cloudera  50515 Apr  5  2017 express-deployment.json\n",
    "-rw-rw-r--  1 cloudera cloudera    684 Aug  2  2017 hive_create_statements.hql\n",
    "-rwxrwxr-x  1 cloudera cloudera   5007 Apr  5  2017 kerberos\n",
    "drwxrwxr-x  2 cloudera cloudera   4096 Apr  5  2017 lib\n",
    "drwxrwxr-x  5 cloudera cloudera   4096 Nov 12  2017 metastore_db\n",
    "drwxr-xr-x  2 cloudera cloudera   4096 Jul 20  2017 Music\n",
    "-rwxrwxr-x  1 cloudera cloudera   4228 Apr  5  2017 parcels\n",
    "drwxr-xr-x  2 cloudera cloudera   4096 Jul 20  2017 Pictures\n",
    "drwxr-xr-x  2 cloudera cloudera   4096 Jul 20  2017 Public\n",
    "drwxrwxr-x  5 cloudera cloudera   4096 Jul 31  2017 scripts\n",
    "-rw-r--r--  1 cloudera cloudera 268140 Jul 31  2017 shakepoems.txt\n",
    "drwxr-xr-x  2 cloudera cloudera   4096 Jul 20  2017 Templates\n",
    "drwxrwxr-x  6 cloudera cloudera   4096 Nov 12  2017 training_materials\n",
    "-rw-rw-r--  1 cloudera cloudera     72 Nov 12  2017 Untitled.ipynb\n",
    "drwxr-xr-x  2 cloudera cloudera   4096 Jul 20  2017 Videos\n",
    "drwxrwxr-x 23 cloudera cloudera   4096 Jul 31  2017 workspace\n",
    "drwxrwxr-x  4 cloudera cloudera   4096 Jul 31  2017 workspace.save.dev\n",
    "\n",
    "# d for directory, - for file, x for executable in the first column.  The other stuff is file permissions."
   ]
  },
  {
   "cell_type": "code",
   "execution_count": null,
   "metadata": {},
   "outputs": [],
   "source": [
    "[cloudera@quickstart ~]$ cd training_materials/\n",
    "\n",
    "# find data_mgmt\n",
    "\n",
    "[cloudera@quickstart training_materials]$ find . -name \"data_mgmt\"\n",
    "./analyst/exercises/data_mgmt\n",
    "\n",
    "# cd to data_mgmt\n",
    "[cloudera@quickstart training_materials]$ cd analyst/exercises/data_mgmt/\n",
    "\n",
    "# see what's inside\n",
    "[cloudera@quickstart data_mgmt]$ ls\n",
    "bonus_01  loyalty_data.txt  sample_solution\n",
    "\n",
    "# copy text file to vagrant folder\n",
    "[cloudera@quickstart data_mgmt]$ cp loyalty_data.txt /vagrant\n",
    "\n",
    "# verify the file made it\n",
    "[cloudera@quickstart data_mgmt]$ ls /vagrant\n",
    "advance_labs.sh     loyalty_data.txt            style.min.css\n",
    "clouderamovies.sql  movielens.sql               toggle_spark.sh\n",
    "data                recreate_dualcore_hive.hql  update.sh\n",
    "hadoop-env.sh       runjob.sh                   Vagrantfile\n",
    "\n",
    "# remove the file\n",
    "[cloudera@quickstart data_mgmt]$ rm -r /vagrant/loyalty_data.txt\n",
    "\n",
    "# check again - it's gone VOILA!\n",
    "[cloudera@quickstart data_mgmt]$ ls /vagrant\n",
    "advance_labs.sh     hadoop-env.sh               runjob.sh        update.sh\n",
    "clouderamovies.sql  movielens.sql               style.min.css    Vagrantfile\n",
    "data                recreate_dualcore_hive.hql  toggle_spark.sh\n",
    "\n",
    "# create a dir called data in data_ingest\n",
    "[cloudera@quickstart exercises]$ cd data_ingest/\n",
    "[cloudera@quickstart data_ingest]$ mkdir data\n",
    "[cloudera@quickstart data_ingest]$ ls\n",
    "bonus_01  customers.java  employees.java      orders.java\n",
    "bonus_02  data            order_details.java  products.java\n",
    "\n",
    "# copy all text files from $ADIR/data to newly created data folder and confirm\n",
    "[cloudera@quickstart data_ingest]$ cp $ADIR/data/*.txt data\n",
    "[cloudera@quickstart data_ingest]$ ls -l data\n",
    "total 55256\n",
    "-rw-r--r-- 1 cloudera cloudera 31541004 Jun 10 14:14 ad_data1.txt\n",
    "-rw-r--r-- 1 cloudera cloudera 23769018 Jun 10 14:14 ad_data2.txt\n",
    "-rw-r--r-- 1 cloudera cloudera    27025 Jun 10 14:14 ratings_2012.txt\n",
    "-rw-r--r-- 1 cloudera cloudera  1240550 Jun 10 14:14 ratings_2013.txt\n",
    "\n",
    "# delete the dir and confirm \n",
    "[cloudera@quickstart data_ingest]$ rm -r data\n",
    "[cloudera@quickstart data_ingest]$ ls -l\n",
    "total 104\n",
    "drwxr-xr-x 2 cloudera cloudera  4096 Aug  1  2017 bonus_01\n",
    "drwxr-xr-x 3 cloudera cloudera  4096 Dec 10  2013 bonus_02\n",
    "-rw-rw-r-- 1 cloudera cloudera 20470 Aug  1  2017 customers.java\n",
    "-rw-rw-r-- 1 cloudera cloudera 28282 Aug  1  2017 employees.java\n",
    "-rw-rw-r-- 1 cloudera cloudera 11147 Aug  1  2017 order_details.java\n",
    "-rw-rw-r-- 1 cloudera cloudera 13716 Aug  1  2017 orders.java\n",
    "-rw-rw-r-- 1 cloudera cloudera 18922 Aug  1  2017 products.java"
   ]
  },
  {
   "cell_type": "markdown",
   "metadata": {},
   "source": [
    "## 3. View/handle text files"
   ]
  },
  {
   "cell_type": "code",
   "execution_count": null,
   "metadata": {},
   "outputs": [],
   "source": [
    "# head to $ADIR/data folder\n",
    "[cloudera@quickstart data_ingest]$ cd $ADIR/data\n",
    "\n",
    "# find out size of ad_data1.txt file\n",
    "[cloudera@quickstart data]$ ls -lh ad_data1.txt\n",
    "-rw-r--r-- 1 cloudera cloudera 31M Dec 10  2013 ad_data1.txt\n",
    "\n",
    "# display file content interactively on screen\n",
    "[cloudera@quickstart data]$ less ad_data1.txt\n",
    "\n",
    "lightweight     D8      05/01/2013      00:00:08        gamersite.example.com   0       72      USA     SIDE\n",
    "accelerometer   B1      05/01/2013      00:00:10        datawire.example.com    0       78      USA     INLINE\n",
    "pc      D3      05/01/2013      00:00:16        datasnap.example.com    0       49      USA     BOTTOM\n",
    "dualcore        D7      05/01/2013      00:00:22        datawire.example.com    0       58      USA     SIDE\n",
    " apps   C2      05/01/2013      00:00:23        albumreview.example.com 0       72      NETHERLANDS     INLINE\n",
    "review  D7      05/01/2013      00:00:37        amateurcoder.example.com        0       66      USA     SIDE\n",
    "browser D5      05/01/2013      00:00:39        datascientist.example.com       0       79      USA     INLINE\n",
    "touchscreen     B2      05/01/2013      00:00:47        burritofinder.example.com       0       84      USA     SIDE\n",
    "social  A2      05/01/2013      00:01:06        photosite.example.com   0       82      USA     TOP\n",
    "accelerometer   C5      05/01/2013      00:01:16        linuxlife.example.com   0       92      USA     TOP\n",
    " social D6      05/01/2013      00:01:23        datasnap.example.com    0       73      USA     INLINE\n",
    "GAMES   C5      05/01/2013      00:01:59        cellnews.example.com    0       74      USA     INLINE\n",
    "student D9      05/01/2013      00:02:05        megatips.example.com    0       60      USA     BOTTOM\n",
    "TABLET  D5      05/01/2013      00:02:05        dealfinder.example.com  0       100     USA     TOP\n",
    "tablet  D7      05/01/2013      00:02:20        megasource.example.com  1       100     USA     TOP\n",
    "lightweight     C6      05/01/2013      00:02:29        amateurcoder.example.com        0       80      USA     SIDE\n",
    "\n",
    "# take first 500 rows of ad_data1 and create a new file called ad500.txt\n",
    "[cloudera@quickstart data]$ head -n 500 ad_data1.txt > ad500.txt\n",
    "\n",
    "# find lines with REVIEW on it, review it (:D) screen by screen\n",
    "[cloudera@quickstart data]$ grep \"REVIEW\" ad_data1.txt | less\n",
    "\n",
    "REVIEW  D4      05/01/2013      05:02:58        coffeenews.example.com  0       75      USA     INLINE\n",
    "REVIEW  C3      05/01/2013      16:25:28        albumreview.example.com 0       102     USA     TOP\n",
    "REVIEW  A2      05/01/2013      17:13:04        datasnap.example.com    0       98      USA     TOP\n",
    "REVIEW  B5      05/01/2013      19:13:00        betamaxholdouts.example.com     0       116     USA     TOP\n",
    "REVIEW  B3      05/01/2013      23:56:23        codemonkeys.example.com 0       107     USA     BOTTOM\n",
    "REVIEW  C9      05/02/2013      00:24:31        bytewiz.example.com     0       62      USA     TOP\n",
    "REVIEW  C3      05/02/2013      05:14:32        movienet.example.com    0       74      USA     TOP\n",
    "REVIEW  D1      05/02/2013      15:26:29        lawnphotos.example.com  1       98      USA     TOP\n",
    "REVIEW  B1      05/02/2013      17:08:08        bytewiz.example.com     0       96      USA     TOP\n",
    "REVIEW  C3      05/03/2013      06:39:07        linuxlife.example.com   1       78      USA     TOP\n",
    "REVIEW  C5      05/03/2013      08:31:38        backupwiz.example.com   0       76      USA     SIDE\n",
    "REVIEW  D4      05/03/2013      11:27:50        gigaspan.example.com    0       86      USA     TOP\n",
    "REVIEW  C8      05/03/2013      16:32:07        audiophile.example.com  0       94      USA     SIDE\n",
    "REVIEW  C8      05/03/2013      18:10:00        mobiletips.example.com  0       104     USA     TOP\n",
    "REVIEW  B4      05/03/2013      19:39:43        cellcore.example.com    0       102     USA     TOP\n",
    "REVIEW  D5      05/04/2013      04:12:46        mobilenews.example.com  0       73      USA     INLINE\n",
    "REVIEW  C4      05/04/2013      06:56:41        audiophile.example.com  0       80      USA     TOP\n",
    "REVIEW  A5      05/04/2013      07:43:47        audioexpert.example.com 0       84      USA     TOP\n",
    "REVIEW  C1      05/04/2013      11:25:03        fashionforward.example.com      0       89      USA     BOTTOM\n",
    "REVIEW  B6      05/04/2013      12:03:43        diskcentral.example.com 0       85      LUXEMBOURG      BOTTOM\n",
    "\n",
    "# find how many lines have review in it\n",
    "[cloudera@quickstart data]$ grep \"REVIEW\" ad_data1.txt | wc -l\n",
    "234"
   ]
  },
  {
   "cell_type": "markdown",
   "metadata": {},
   "source": [
    "## 4. Basic use of vi"
   ]
  },
  {
   "cell_type": "code",
   "execution_count": null,
   "metadata": {},
   "outputs": [],
   "source": [
    "# create a new text file called poem.txt\n",
    "[cloudera@quickstart data]$ vi poem.txt\n",
    "\n",
    "# verify it was created successfully\n",
    "[cloudera@quickstart data]$ cat poem.txt\n",
    "you fit into me\n",
    "like a hook into an eye\n",
    "\n",
    "a fish hook\n",
    "an open eye"
   ]
  },
  {
   "cell_type": "code",
   "execution_count": null,
   "metadata": {},
   "outputs": [],
   "source": [
    "# open ad500 in vi mode, look for the second instance of linux and replace it with unix\n",
    "[cloudera@quickstart data]$ vi ad500.txt\n",
    "\n",
    ":/linux  # to search linux\n",
    ":/  # to search again\n",
    "i  # to enter edit mode\n",
    "# delete linux at the cursor and replace it with unix\n",
    "ESC  # to exit edit mode\n",
    ":q!  # quit without saving\n",
    "\n",
    "GPS     D1      05/01/2013      00:12:24        unixlife.example.com    0       63      USA     INLINE\n",
    "toy     D6      05/01/2013      00:12:25        dealreviewer.example.com        \n",
    "\n",
    "# clean up and delete ad500.txt and poem.txt\n",
    "[cloudera@quickstart data]$ rm -r ad500.txt poem.txt\n",
    "[cloudera@quickstart data]$ ls -al\n",
    "total 160284\n",
    "drwxr-xr-x 6 cloudera cloudera      4096 Jun 10 14:41 .\n",
    "drwxrwxr-x 5 cloudera cloudera      4096 Jul 31  2017 ..\n",
    "-rw-r--r-- 1 cloudera cloudera 106339468 Dec 10  2013 access.log\n",
    "-rw-r--r-- 1 cloudera cloudera  31541004 Dec 10  2013 ad_data1.txt\n",
    "-rw-r--r-- 1 cloudera cloudera  23769018 Dec 10  2013 ad_data2.txt\n",
    "drwxr-xr-x 2 cloudera cloudera     12288 Dec 10  2013 cscalls\n",
    "drwxr-xr-x 2 cloudera cloudera      4096 Dec 10  2013 date_format_udf\n",
    "-rw-r--r-- 1 cloudera cloudera     40126 Dec 10  2013 histogram.xlsx\n",
    "-rw-r--r-- 1 cloudera cloudera   1127316 Dec 10  2013 latlon.tsv\n",
    "drwxrwxr-x 2 cloudera cloudera      4096 Jul 31  2017 mysample\n",
    "drwxr-xr-x 2 cloudera cloudera      4096 Jul 31  2017 mysql\n",
    "-rw-r--r-- 1 cloudera cloudera     27025 Dec 10  2013 ratings_2012.txt\n",
    "-rw-r--r-- 1 cloudera cloudera   1240550 Dec 10  2013 ratings_2013.txt\n",
    "-rw-r--r-- 1 cloudera cloudera      2580 Dec 10  2013 README"
   ]
  },
  {
   "cell_type": "markdown",
   "metadata": {},
   "source": [
    "2. Find your favorite big data quote and submit it (be sure to credit the source)."
   ]
  },
  {
   "cell_type": "code",
   "execution_count": null,
   "metadata": {},
   "outputs": [],
   "source": [
    "“The world is one big data problem.” – Andrew McAfee"
   ]
  }
 ],
 "metadata": {
  "kernelspec": {
   "display_name": "Python 3",
   "language": "python",
   "name": "python3"
  },
  "language_info": {
   "codemirror_mode": {
    "name": "ipython",
    "version": 3
   },
   "file_extension": ".py",
   "mimetype": "text/x-python",
   "name": "python",
   "nbconvert_exporter": "python",
   "pygments_lexer": "ipython3",
   "version": "3.7.3"
  }
 },
 "nbformat": 4,
 "nbformat_minor": 2
}
