{
 "cells": [
  {
   "cell_type": "code",
   "execution_count": 1,
   "metadata": {},
   "outputs": [
    {
     "data": {
      "text/html": [
       "<style>.container { width:100% !important; }</style>"
      ],
      "text/plain": [
       "<IPython.core.display.HTML object>"
      ]
     },
     "metadata": {},
     "output_type": "display_data"
    }
   ],
   "source": [
    "from IPython.core.display import display, HTML\n",
    "display(HTML(\"<style>.container { width:100% !important; }</style>\"))"
   ]
  },
  {
   "cell_type": "markdown",
   "metadata": {},
   "source": [
    "# MSBA 6330 Homework 5 - Cloud Computing AWS - Danny Moncada"
   ]
  },
  {
   "cell_type": "markdown",
   "metadata": {},
   "source": [
    "# Part A. Short Answer"
   ]
  },
  {
   "cell_type": "markdown",
   "metadata": {},
   "source": [
    "1. Study five AWS services that are of interests to you. In a few sentences, explain what they are and what are their uses cases (cite sources if any)."
   ]
  },
  {
   "cell_type": "code",
   "execution_count": null,
   "metadata": {},
   "outputs": [],
   "source": []
  },
  {
   "cell_type": "code",
   "execution_count": null,
   "metadata": {},
   "outputs": [],
   "source": []
  },
  {
   "cell_type": "code",
   "execution_count": null,
   "metadata": {},
   "outputs": [],
   "source": []
  },
  {
   "cell_type": "markdown",
   "metadata": {},
   "source": [
    "# PREP WORK"
   ]
  },
  {
   "cell_type": "code",
   "execution_count": null,
   "metadata": {},
   "outputs": [],
   "source": [
    "[cloudera@quickstart ~]$ cd lastfm/\n",
    "[cloudera@quickstart lastfm]$ ls -l\n",
    "total 0\n",
    "[cloudera@quickstart lastfm]$ wget http://idsdl.csom.umn.edu/c/share/lastfm_2005.zip\n",
    "--2019-07-23 17:58:31--  http://idsdl.csom.umn.edu/c/share/lastfm_2005.zip\n",
    "Resolving idsdl.csom.umn.edu... 134.84.138.46, 2607:ea00:101:480a:250:56ff:febb:e76b\n",
    "Connecting to idsdl.csom.umn.edu|134.84.138.46|:80... connected.\n",
    "HTTP request sent, awaiting response... 200 OK\n",
    "Length: 136093960 (130M) [application/zip]\n",
    "Saving to: “lastfm_2005.zip”\n",
    "\n",
    "100%[=====================================================================================================================================================================================================================================>] 136,093,960 3.16M/s   in 50s\n",
    "\n",
    "2019-07-23 17:59:21 (2.59 MB/s) - “lastfm_2005.zip” saved [136093960/136093960]\n",
    "\n",
    "[cloudera@quickstart lastfm]$ ls -l\n",
    "total 132908\n",
    "-rw-rw-r-- 1 cloudera cloudera 136093960 Oct 29  2017 lastfm_2005.zip\n",
    "\n",
    "[cloudera@quickstart lastfm]$ unzip *\n",
    "Archive:  lastfm_2005.zip\n",
    "   creating: sample/\n",
    "  inflating: sample/sample_artist_alias.txt\n",
    "  inflating: sample/sample_artist_data.txt\n",
    "  inflating: sample/sample_user_artist_data.txt\n",
    "  inflating: README.txt\n",
    "  inflating: artist_alias.txt\n",
    "  inflating: artist_data.txt\n",
    "  inflating: user_artist_data.txt\n",
    "\n",
    "[cloudera@quickstart lastfm]$\n",
    "\n",
    "[cloudera@quickstart lastfm]$ ls -l\n",
    "total 607192\n",
    "-rw-rw-r-- 1 cloudera cloudera   2932731 May  6  2005 artist_alias.txt\n",
    "-rw-rw-r-- 1 cloudera cloudera  55963575 May  6  2005 artist_data.txt\n",
    "-rw-rw-r-- 1 cloudera cloudera 136093960 Oct 29  2017 lastfm_2005.zip\n",
    "-rw-rw-r-- 1 cloudera cloudera       787 Dec  5  2015 README.txt\n",
    "drwxrwxr-x 2 cloudera cloudera      4096 Dec  5  2015 sample\n",
    "-rw-rw-r-- 1 cloudera cloudera 426761761 May  5  2005 user_artist_data.txt\n",
    "\n",
    "[cloudera@quickstart sample]$ ls -l\n",
    "total 604\n",
    "-rw-rw-r-- 1 cloudera cloudera    640 Dec  5  2015 sample_artist_alias.txt\n",
    "-rw-rw-r-- 1 cloudera cloudera   1330 Dec  5  2015 sample_artist_data.txt\n",
    "-rw-rw-r-- 1 cloudera cloudera 608369 Mar 29  2009 sample_user_artist_data.txt\n",
    "\n",
    "[cloudera@quickstart sample]$ hadoop fs -mkdir /user/cloudera/lastfm\n",
    "[cloudera@quickstart sample]$ hadoop fs -put /home/cloudera/lastfm/sample/* /user/cloudera/lastfm\n",
    "[cloudera@quickstart sample]$ hadoop fs -ls /user/cloudera/lastfm\n",
    "Found 3 items\n",
    "-rw-r--r--   1 cloudera cloudera        640 2019-07-23 18:09 /user/cloudera/lastfm/sample_artist_alias.txt\n",
    "-rw-r--r--   1 cloudera cloudera       1330 2019-07-23 18:09 /user/cloudera/lastfm/sample_artist_data.txt\n",
    "-rw-r--r--   1 cloudera cloudera     608369 2019-07-23 18:09 /user/cloudera/lastfm/sample_user_artist_data.txt\n",
    "\n",
    "## beeline -u jdbc:hive2://\n",
    "    \n",
    "0: jdbc:hive2://> CREATE DATABASE lastfm;\n",
    "OK\n",
    "No rows affected (7.424 seconds)\n",
    "0: jdbc:hive2://> SHOW DATABASES;\n",
    "OK\n",
    "+----------------+--+\n",
    "| database_name  |\n",
    "+----------------+--+\n",
    "| default        |\n",
    "| dualcore       |\n",
    "| lastfm         |\n",
    "| tmdb_movies    |\n",
    "| tweets         |\n",
    "+----------------+--+\n",
    "5 rows selected (0.75 seconds)\n",
    "\n",
    "\n",
    "0: jdbc:hive2://> USE lastfm;\n",
    "OK\n",
    "No rows affected (3.435 seconds)\n",
    "\n",
    "0: jdbc:hive2://> CREATE EXTERNAL TABLE artist_alias (BADID INT, GOODID INT) ROW FORMAT DELIMITED FIELDS TERMINATED BY '\\t' LINES TERMINATED BY '\\n' STORED AS TEXTFILE;\n",
    "OK\n",
    "No rows affected (0.958 seconds)\n",
    "\n",
    "0: jdbc:hive2://> LOAD DATA INPATH '/user/cloudera/lastfm/sample_artist_alias.txt' OVERWRITE INTO TABLE artist_alias;\n",
    "Loading data to table lastfm.artist_alias\n",
    "19/07/23 18:43:07 [HiveServer2-Background-Pool: Thread-33]: ERROR hdfs.KeyProviderCache: Could not find uri with key [dfs.encryption.key.provider.uri] to create a keyProvider !!\n",
    "19/07/23 18:43:07 [Move-Thread-0]: WARN shims.HadoopShimsSecure: Unable to inherit permissions for file hdfs://quickstart.cloudera:8020/user/hive/warehouse/lastfm.db/artist_alias/sample_artist_alias.txt from file hdfs://quickstart.cloudera:8020/user/hive/warehouse/lastfm.db/artist_alias User does not belong to supergroup\n",
    "        at org.apache.hadoop.hdfs.server.namenode.FSNamesystem.setOwnerInt(FSNamesystem.java:1852)\n",
    "        at org.apache.hadoop.hdfs.server.namenode.FSNamesystem.setOwner(FSNamesystem.java:1826)\n",
    "        at org.apache.hadoop.hdfs.server.namenode.NameNodeRpcServer.setOwner(NameNodeRpcServer.java:661)\n",
    "        at org.apache.hadoop.hdfs.server.namenode.AuthorizationProviderProxyClientProtocol.setOwner(AuthorizationProviderProxyClientProtocol.java:187)\n",
    "        at org.apache.hadoop.hdfs.protocolPB.ClientNamenodeProtocolServerSideTranslatorPB.setOwner(ClientNamenodeProtocolServerSideTranslatorPB.java:465)\n",
    "        at org.apache.hadoop.hdfs.protocol.proto.ClientNamenodeProtocolProtos$ClientNamenodeProtocol$2.callBlockingMethod(ClientNamenodeProtocolProtos.java)\n",
    "        at org.apache.hadoop.ipc.ProtobufRpcEngine$Server$ProtoBufRpcInvoker.call(ProtobufRpcEngine.java:617)\n",
    "        at org.apache.hadoop.ipc.RPC$Server.call(RPC.java:1073)\n",
    "        at org.apache.hadoop.ipc.Server$Handler$1.run(Server.java:2216)\n",
    "        at org.apache.hadoop.ipc.Server$Handler$1.run(Server.java:2212)\n",
    "        at java.security.AccessController.doPrivileged(Native Method)\n",
    "        at javax.security.auth.Subject.doAs(Subject.java:422)\n",
    "        at org.apache.hadoop.security.UserGroupInformation.doAs(UserGroupInformation.java:1796)\n",
    "        at org.apache.hadoop.ipc.Server$Handler.run(Server.java:2210)\n",
    "\n",
    "Table lastfm.artist_alias stats: [numFiles=1, totalSize=640]\n",
    "OK\n",
    "No rows affected (1.489 seconds)\n",
    "\n",
    "0: jdbc:hive2://> SELECT * FROM artist_alias LIMIT 10;\n",
    "OK\n",
    "+---------------------+----------------------+--+\n",
    "| artist_alias.badid  | artist_alias.goodid  |\n",
    "+---------------------+----------------------+--+\n",
    "| 1092764             | 1000311              |\n",
    "| 1095122             | 1000557              |\n",
    "| 6708070             | 1007267              |\n",
    "| 10088054            | 1042317              |\n",
    "| 1195917             | 1042317              |\n",
    "| 1112006             | 1000557              |\n",
    "| 1187350             | 1294511              |\n",
    "| 1116694             | 1327092              |\n",
    "| 6793225             | 1042317              |\n",
    "| 1079959             | 1000557              |\n",
    "+---------------------+----------------------+--+\n",
    "10 rows selected (1.163 seconds)\n",
    "0: jdbc:hive2://>\n",
    "\n",
    "## FIRST TABLE LOADS FINE.  DETERMINE METHODOLOGY FOR CREATING THE UPDATED TABLE WITH CASE AND IF\n",
    "\n",
    "0: jdbc:hive2://> CREATE EXTERNAL TABLE user_artist_data (USERID INT, ARTISTID INT, PLAYCOUNT SMALLINT) ROW FORMAT DELIMITED FIELDS TERMINATED BY '\\t' LINES TERMINATED BY '\\n' STORED AS TEXTFILE;\n",
    "OK\n",
    "No rows affected (4.871 seconds)\n",
    "\n",
    "0: jdbc:hive2://> LOAD DATA INPATH '/user/cloudera/lastfm/sample_user_artist_data.txt' OVERWRITE INTO TABLE user_artist_data;\n",
    "Loading data to table lastfm.user_artist_data\n",
    "19/07/24 14:14:04 [HiveServer2-Background-Pool: Thread-31]: ERROR hdfs.KeyProviderCache: Could not find uri with key [dfs.encryption.key.provider.uri] to create a keyProvider !!\n",
    "19/07/24 14:14:04 [Move-Thread-0]: WARN shims.HadoopShimsSecure: Unable to inherit permissions for file hdfs://quickstart.cloudera:8020/user/hive/warehouse/lastfm.db/user_artist_data/sample_user_artist_data.txt from file hdfs://quickstart.cloudera:8020/user/hive/warehouse/lastfm.db/user_artist_data User does not belong to supergroup\n",
    "        at org.apache.hadoop.hdfs.server.namenode.FSNamesystem.setOwnerInt(FSNamesystem.java:1852)\n",
    "        at org.apache.hadoop.hdfs.server.namenode.FSNamesystem.setOwner(FSNamesystem.java:1826)\n",
    "        at org.apache.hadoop.hdfs.server.namenode.NameNodeRpcServer.setOwner(NameNodeRpcServer.java:661)\n",
    "        at org.apache.hadoop.hdfs.server.namenode.AuthorizationProviderProxyClientProtocol.setOwner(AuthorizationProviderProxyClientProtocol.java:187)\n",
    "        at org.apache.hadoop.hdfs.protocolPB.ClientNamenodeProtocolServerSideTranslatorPB.setOwner(ClientNamenodeProtocolServerSideTranslatorPB.java:465)\n",
    "        at org.apache.hadoop.hdfs.protocol.proto.ClientNamenodeProtocolProtos$ClientNamenodeProtocol$2.callBlockingMethod(ClientNamenodeProtocolProtos.java)\n",
    "        at org.apache.hadoop.ipc.ProtobufRpcEngine$Server$ProtoBufRpcInvoker.call(ProtobufRpcEngine.java:617)\n",
    "        at org.apache.hadoop.ipc.RPC$Server.call(RPC.java:1073)\n",
    "        at org.apache.hadoop.ipc.Server$Handler$1.run(Server.java:2216)\n",
    "        at org.apache.hadoop.ipc.Server$Handler$1.run(Server.java:2212)\n",
    "        at java.security.AccessController.doPrivileged(Native Method)\n",
    "        at javax.security.auth.Subject.doAs(Subject.java:422)\n",
    "        at org.apache.hadoop.security.UserGroupInformation.doAs(UserGroupInformation.java:1796)\n",
    "        at org.apache.hadoop.ipc.Server$Handler.run(Server.java:2210)\n",
    "\n",
    "Table lastfm.user_artist_data stats: [numFiles=1, totalSize=608369]\n",
    "OK\n",
    "No rows affected (1.99 seconds)\n",
    "\n",
    "0: jdbc:hive2://> CREATE EXTERNAL TABLE user_artist_data (USERID INT, ARTISTID INT, PLAYCOUNT SMALLINT) ROW FORMAT DELIMITED FIELDS TERMINATED BY ' ' LINES TERMINATED BY '\\n' STORED AS TEXTFILE;\n",
    "OK\n",
    "No rows affected (0.169 seconds)\n",
    "\n",
    "0: jdbc:hive2://> SELECT * from user_artist_data LIMIT 10;\n",
    "OK\n",
    "+--------------------------+----------------------------+-----------------------------+--+\n",
    "| user_artist_data.userid  | user_artist_data.artistid  | user_artist_data.playcount  |\n",
    "+--------------------------+----------------------------+-----------------------------+--+\n",
    "| 1000020                  | 1001820                    | 20                          |\n",
    "| 1000020                  | 1003557                    | 1                           |\n",
    "| 1000021                  | 700                        | 1                           |\n",
    "| 1000029                  | 1011819                    | 1                           |\n",
    "| 1000036                  | 1001820                    | 34                          |\n",
    "| 1000036                  | 1011819                    | 2                           |\n",
    "| 1000036                  | 700                        | 2                           |\n",
    "| 1000040                  | 1001820                    | 1                           |\n",
    "| 1000057                  | 1011819                    | 37                          |\n",
    "| 1000060                  | 700                        | 17                          |\n",
    "+--------------------------+----------------------------+-----------------------------+--+\n",
    "10 rows selected (0.232 seconds)\n",
    "\n",
    "0: jdbc:hive2://> CREATE EXTERNAL TABLE artist_data (ARTISTID INT, ARTISTNAME STRING) ROW FORMAT DELIMITED FIELDS TERMINATED BY '\\t' LINES TERMINATED BY '\\n' STORED AS TEXTFILE;\n",
    "OK\n",
    "No rows affected (0.178 seconds)\n",
    "\n",
    "0: jdbc:hive2://> SELECT * FROM artist_data LIMIT 10;\n",
    "OK\n",
    "+-----------------------+-------------------------------------+--+\n",
    "| artist_data.artistid  |       artist_data.artistname        |\n",
    "+-----------------------+-------------------------------------+--+\n",
    "| 1134999               | 06Crazy Life                        |\n",
    "| 6821360               | Pang Nakarin                        |\n",
    "| 10113088              | Terfel, Bartoli- Mozart: Don        |\n",
    "| 10151459              | The Flaming Sidebur                 |\n",
    "| 6826647               | Bodenstandig 3000                   |\n",
    "| 10186265              | Jota Quest e Ivete Sangalo          |\n",
    "| 6828986               | Toto_XX (1977                       |\n",
    "| 10236364              | U.S Bombs -                         |\n",
    "| 1135000               | artist formaly know as Mat          |\n",
    "| 10299728              | Kassierer - Musik fÃ¼r beide Ohren  |\n",
    "+-----------------------+-------------------------------------+--+\n",
    "10 rows selected (0.263 seconds)\n",
    "\n",
    "SELECT COUNT(USERID) from user_artist_data;\n",
    "+--------+--+\n",
    "|  _c0   |\n",
    "+--------+--+\n",
    "| 34740  |\n",
    "+--------+--+\n",
    "1 row selected (65.522 seconds)\n",
    "                                   \n",
    "0: jdbc:hive2://> SET hive.exec.dynamic.partition.mode = nonstrict;\n",
    "No rows affected (0.005 seconds)\n",
    "0: jdbc:hive2://>\n",
    "\n",
    "                                   +----------------------------------+-------------------------------------+------------------------------------+--+\n",
    "| user_artist_data_parquet.userid  | user_artist_data_parquet.playcount  | user_artist_data_parquet.artistid  |\n",
    "+----------------------------------+-------------------------------------+------------------------------------+--+\n",
    "| 1000084                          | 6                                   | 1000143                            |\n",
    "| 1000200                          | 3                                   | 1000143                            |\n",
    "| 1000316                          | 4                                   | 1000143                            |\n",
    "| 1000545                          | 4                                   | 1000143                            |\n",
    "| 1000553                          | 1                                   | 1000143                            |\n",
    "| 1000665                          | 1                                   | 1000143                            |\n",
    "| 1000768                          | 2                                   | 1000143                            |\n",
    "| 1000804                          | 2                                   | 1000143                            |\n",
    "| 1001017                          | 12                                  | 1000143                            |\n",
    "| 1001127                          | 6                                   | 1000143                            |\n",
    "+----------------------------------+-------------------------------------+------------------------------------+--+\n",
    "10 rows selected (1.748 seconds)\n",
    "0: jdbc:hive2://> DROP TABLE artist_alis_parquet;\n",
    "19/07/24 14:58:56 [HiveServer2-Background-Pool: Thread-153]: ERROR metadata.Hive: Table artist_alis_parquet not found: lastfm.artist_alis_parquet table not found\n",
    "OK\n",
    "No rows affected (0.043 seconds)\n",
    "0: jdbc:hive2://> CREATE TABLE artist_alias_parquet (BADID INT, GOODID INT) STORED AS PARQUET;\n",
    "OK\n",
    "No rows affected (0.144 seconds)\n",
    "\n",
    "0: jdbc:hive2://> SELECT * FROM artist_data_parquet LIMIT 10;\n",
    "OK\n",
    "+-------------------------------------+-------------------------------+--+\n",
    "|   artist_data_parquet.artistname    | artist_data_parquet.artistid  |\n",
    "+-------------------------------------+-------------------------------+--+\n",
    "| Terfel, Bartoli- Mozart: Don        | 10113088                      |\n",
    "| The Flaming Sidebur                 | 10151459                      |\n",
    "| Jota Quest e Ivete Sangalo          | 10186265                      |\n",
    "| U.S Bombs -                         | 10236364                      |\n",
    "| Kassierer - Musik fÃ¼r beide Ohren  | 10299728                      |\n",
    "| Rahzel, RZA                         | 10299744                      |\n",
    "| Ki-ya-Kiss                          | 10299751                      |\n",
    "| Kox-Box                             | 10435121                      |\n",
    "| 44 Hoes                             | 10475396                      |\n",
    "| CaptHook                            | 10584478                      |\n",
    "+-------------------------------------+-------------------------------+--+\n",
    "10 rows selected (0.45 seconds)\n",
    "\n",
    "\n",
    "0: jdbc:hive2://> SELECT * FROM artist_alias_parquet LIMIT 10;\n",
    "OK\n",
    "+-----------------------------+------------------------------+--+\n",
    "| artist_alias_parquet.badid  | artist_alias_parquet.goodid  |\n",
    "+-----------------------------+------------------------------+--+\n",
    "| 1092764                     | 1000311                      |\n",
    "| 1095122                     | 1000557                      |\n",
    "| 6708070                     | 1007267                      |\n",
    "| 10088054                    | 1042317                      |\n",
    "| 1195917                     | 1042317                      |\n",
    "| 1112006                     | 1000557                      |\n",
    "| 1187350                     | 1294511                      |\n",
    "| 1116694                     | 1327092                      |\n",
    "| 6793225                     | 1042317                      |\n",
    "| 1079959                     | 1000557                      |\n",
    "+-----------------------------+------------------------------+--+\n",
    "10 rows selected (0.144 seconds)\n",
    "\n",
    "SELECT U.USERID AS USERID, CASE WHEN AA.BADID IS NULL THEN U.ARTISTID ELSE AA.GOODID END AS ARTISTID, U.PLAYCOUNT AS PLAYCOUNT FROM user_artist_data_parquet U LEFT OUTER JOIN artist_alias_parquet AA ON U.artistid = AA.badid WHERE BADID IS NOT NULL;\n",
    "                                \n"
   ]
  },
  {
   "cell_type": "code",
   "execution_count": null,
   "metadata": {},
   "outputs": [],
   "source": []
  },
  {
   "cell_type": "code",
   "execution_count": null,
   "metadata": {},
   "outputs": [],
   "source": []
  },
  {
   "cell_type": "markdown",
   "metadata": {},
   "source": [
    "# Part II. Hands On"
   ]
  },
  {
   "cell_type": "markdown",
   "metadata": {},
   "source": [
    "2. Upload the data files to your s3 Bucket. Report the locations of your files."
   ]
  },
  {
   "cell_type": "code",
   "execution_count": null,
   "metadata": {},
   "outputs": [],
   "source": []
  },
  {
   "cell_type": "markdown",
   "metadata": {},
   "source": [
    "3. Create a EMR cluster with Hive + Hue enabled. Report your cluster configuration, including EMR/hadoop/Hive version, hardware configuration."
   ]
  },
  {
   "cell_type": "code",
   "execution_count": null,
   "metadata": {},
   "outputs": [],
   "source": []
  },
  {
   "cell_type": "markdown",
   "metadata": {},
   "source": [
    "4. Create an external hive table user_artist_data based on the user_artist_data on S3. Report your HiveQL command."
   ]
  },
  {
   "cell_type": "code",
   "execution_count": null,
   "metadata": {},
   "outputs": [],
   "source": [
    "CREATE DATABASE lastfm;\n",
    "\n",
    "USE lastfm;\n",
    "\n",
    "CREATE EXTERNAL TABLE user_artist_data (USERID INT, ARTISTID INT, \n",
    "                                        PLAYCOUNT SMALLINT) \n",
    "ROW FORMAT DELIMITED \n",
    "FIELDS TERMINATED BY ' ' \n",
    "LINES TERMINATED BY '\\n' \n",
    "STORED AS TEXTFILE;\n",
    "\n",
    "LOAD DATA INPATH 's3://msba6330-monca/lastfm-csv/user_artist_data.txt' INTO TABLE user_artist_data;"
   ]
  },
  {
   "cell_type": "markdown",
   "metadata": {},
   "source": [
    "5. Create an external Hive table artist_alias based on the artist_alias folder (and its content) on S3. Report your HiveQL command."
   ]
  },
  {
   "cell_type": "code",
   "execution_count": null,
   "metadata": {},
   "outputs": [],
   "source": [
    "CREATE EXTERNAL TABLE artist_alias (BADID INT, GOODID INT) \n",
    "ROW FORMAT DELIMITED \n",
    "FIELDS TERMINATED BY '\\t' \n",
    "LINES TERMINATED BY '\\n' \n",
    "STORED AS TEXTFILE;\n",
    "\n",
    "LOAD DATA INPATH 's3://msba6330-monca/lastfm-csv/artist_alias.txt' INTO TABLE artist_alias;"
   ]
  },
  {
   "cell_type": "markdown",
   "metadata": {},
   "source": [
    "6. create an external Hive table artist_data based on the artist_data folder (and its content) on S3. Report your HiveQL command."
   ]
  },
  {
   "cell_type": "code",
   "execution_count": null,
   "metadata": {},
   "outputs": [],
   "source": [
    "CREATE EXTERNAL TABLE artist_data (ARTISTID INT, ARTISTNAME STRING) \n",
    "ROW FORMAT DELIMITED\n",
    "FIELDS TERMINATED BY '\\t' \n",
    "LINES TERMINATED BY '\\n' \n",
    "STORED AS TEXTFILE;\n",
    "\n",
    "LOAD DATA INPATH 's3://msba6330-monca/lastfm-csv/artist_data.txt' INTO TABLE artist_data;"
   ]
  },
  {
   "cell_type": "markdown",
   "metadata": {},
   "source": [
    "7. Find out how many records are in the user_artist_data table. __Report the result.__"
   ]
  },
  {
   "cell_type": "code",
   "execution_count": null,
   "metadata": {},
   "outputs": [],
   "source": [
    "SELECT COUNT(USERID) FROM user_artist_data;\n",
    "\n",
    "## 24,296,858"
   ]
  },
  {
   "cell_type": "markdown",
   "metadata": {},
   "source": [
    "8. As you find out through readme.txt, the table artist_alias contains information on incorrectly spelled artist ids and the correct artist ids. Fix the incorrect artist IDs in the user_artist_data table and save the results as user_artist_data_fixed -- this would be a new comma-delimited hive table user_artist_data_fixed (fields:userid, artistid, playcount) on S3.\n",
    "\n",
    "*Hint*: You need to keep good ids and replace bad ones. The logic should be that if an artistid in the user_artist_data table has no hit in the artist_alias's list of badids, it is a good id and should be kept as is; otherwise, it should be replaced with the artistid in artist_alias. Hive's if function can come in handy for this case, and also you should think about how to join tables."
   ]
  },
  {
   "cell_type": "code",
   "execution_count": null,
   "metadata": {},
   "outputs": [],
   "source": [
    "CREATE TABLE user_artist_data_fixed (USERID INT, ARTISTID INT, PLAYCOUNT SMALLINT) \n",
    "ROW FORMAT DELIMITED \n",
    "FIELDS TERMINATED BY ',' \n",
    "LINES TERMINATED BY '\\n' \n",
    "STORED AS TEXTFILE\n",
    "LOCATION 's3://msba6330-monca/lastfm-csv/user_artist_data_fixed';\n",
    "\n",
    "INSERT OVERWRITE TABLE user_artist_data_fixed SELECT U.USERID AS USERID, \n",
    "CASE WHEN AA.BADID IS NULL THEN U.ARTISTID ELSE AA.GOODID END AS ARTISTID, \n",
    "U.PLAYCOUNT AS PLAYCOUNT \n",
    "FROM user_artist_data U LEFT OUTER JOIN artist_alias AA \n",
    "ON U.artistid = AA.badid;"
   ]
  },
  {
   "cell_type": "markdown",
   "metadata": {},
   "source": [
    "9. Compute the top 20 most popular artists by total playcount, and store results as a CSV file (fields: artistid, artist_name, playcount) on S3.  __Report the content of the CSV file__"
   ]
  },
  {
   "cell_type": "code",
   "execution_count": null,
   "metadata": {},
   "outputs": [],
   "source": [
    "CREATE EXTERNAL TABLE csvexport (ARISTID INT, ARTIST_NAME STRING, PLAYCOUNT INT) \n",
    "ROW FORMAT DELIMITED \n",
    "FIELDS TERMINATED BY ',' \n",
    "LINES TERMINATED BY '\\n' \n",
    "STORED AS TEXTFILE\n",
    "LOCATION 's3://msba6330-monca/lastfm-csv/csv_file';\n",
    "\n",
    "INSERT OVERWRITE TABLE csvexport\n",
    "SELECT U.ARTISTID AS ARTISTID, AD.ARTISTNAME AS ARTIST_NAME, SUM(U.PLAYCOUNT) AS PLAYCOUNT \n",
    "FROM user_artist_data_fixed U JOIN artist_data AD \n",
    "ON U.ARTISTID = AD.ARTISTID \n",
    "GROUP BY U.ARTISTID, AD.ARTISTNAME \n",
    "ORDER BY PLAYCOUNT DESC \n",
    "LIMIT 20;"
   ]
  },
  {
   "cell_type": "code",
   "execution_count": null,
   "metadata": {},
   "outputs": [],
   "source": []
  },
  {
   "cell_type": "markdown",
   "metadata": {},
   "source": [
    "10. clean up by deleting the s3 folders and data files created for this task. (No reporting of commands/results required)"
   ]
  },
  {
   "cell_type": "code",
   "execution_count": null,
   "metadata": {},
   "outputs": [],
   "source": [
    "## All s3 folders / data files were deleted."
   ]
  },
  {
   "cell_type": "code",
   "execution_count": null,
   "metadata": {},
   "outputs": [],
   "source": []
  },
  {
   "cell_type": "code",
   "execution_count": null,
   "metadata": {},
   "outputs": [],
   "source": []
  },
  {
   "cell_type": "markdown",
   "metadata": {},
   "source": [
    "__11. Be sure shut down the cluster when your are done and double check whether you still have anything running! Or you will be charged!__"
   ]
  },
  {
   "cell_type": "code",
   "execution_count": null,
   "metadata": {},
   "outputs": [],
   "source": [
    "## EMR cluster was shut down and did not get charged to run analysis."
   ]
  }
 ],
 "metadata": {
  "kernelspec": {
   "display_name": "Python 3",
   "language": "python",
   "name": "python3"
  },
  "language_info": {
   "codemirror_mode": {
    "name": "ipython",
    "version": 3
   },
   "file_extension": ".py",
   "mimetype": "text/x-python",
   "name": "python",
   "nbconvert_exporter": "python",
   "pygments_lexer": "ipython3",
   "version": "3.5.4"
  }
 },
 "nbformat": 4,
 "nbformat_minor": 2
}
