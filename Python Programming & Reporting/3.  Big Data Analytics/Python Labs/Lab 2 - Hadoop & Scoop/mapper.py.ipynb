{
 "cells": [
  {
   "cell_type": "code",
   "execution_count": null,
   "metadata": {},
   "outputs": [],
   "source": [
    "#!/usr/bin/env python\n",
    "\n",
    "import sys\n",
    "\n",
    "for line in sys.stdin:\n",
    "   line = line.strip()\n",
    "   (id, fname, lname, addr, city, state, zip, job, email, active, salary) = line.split(\"\\t\")\n",
    "\n",
    "   if int(salary) >= 75000:\n",
    "      print \"%s,1\" % state\n"
   ]
  },
  {
   "cell_type": "code",
   "execution_count": 29,
   "metadata": {},
   "outputs": [
    {
     "name": "stdout",
     "output_type": "stream",
     "text": [
      "22329 KY\n",
      "99645 CA\n",
      "%s,1\n"
     ]
    },
    {
     "ename": "TypeError",
     "evalue": "unsupported operand type(s) for %: 'NoneType' and 'str'",
     "output_type": "error",
     "traceback": [
      "\u001b[1;31m---------------------------------------------------------------------------\u001b[0m",
      "\u001b[1;31mTypeError\u001b[0m                                 Traceback (most recent call last)",
      "\u001b[1;32m<ipython-input-29-b3bb5258b683>\u001b[0m in \u001b[0;36m<module>\u001b[1;34m\u001b[0m\n\u001b[0;32m      4\u001b[0m         \u001b[0mprint\u001b[0m\u001b[1;33m(\u001b[0m\u001b[0msalary\u001b[0m\u001b[1;33m,\u001b[0m \u001b[0mstate\u001b[0m\u001b[1;33m)\u001b[0m\u001b[1;33m\u001b[0m\u001b[1;33m\u001b[0m\u001b[0m\n\u001b[0;32m      5\u001b[0m         \u001b[1;32mif\u001b[0m \u001b[0mint\u001b[0m\u001b[1;33m(\u001b[0m\u001b[0msalary\u001b[0m\u001b[1;33m)\u001b[0m \u001b[1;33m>=\u001b[0m \u001b[1;36m75000\u001b[0m\u001b[1;33m:\u001b[0m\u001b[1;33m\u001b[0m\u001b[1;33m\u001b[0m\u001b[0m\n\u001b[1;32m----> 6\u001b[1;33m             \u001b[0mprint\u001b[0m\u001b[1;33m(\u001b[0m\u001b[1;34m\"%s,1\"\u001b[0m\u001b[1;33m)\u001b[0m \u001b[1;33m%\u001b[0m \u001b[0mstate\u001b[0m\u001b[1;33m\u001b[0m\u001b[1;33m\u001b[0m\u001b[0m\n\u001b[0m\u001b[0;32m      7\u001b[0m   \u001b[1;31m#      elif int(salary) < 75000:\u001b[0m\u001b[1;33m\u001b[0m\u001b[1;33m\u001b[0m\u001b[1;33m\u001b[0m\u001b[0m\n\u001b[0;32m      8\u001b[0m    \u001b[1;31m#         print(\"nothing\")\u001b[0m\u001b[1;33m\u001b[0m\u001b[1;33m\u001b[0m\u001b[1;33m\u001b[0m\u001b[0m\n",
      "\u001b[1;31mTypeError\u001b[0m: unsupported operand type(s) for %: 'NoneType' and 'str'"
     ]
    }
   ],
   "source": [
    "with open(\"employee.txt\") as e:\n",
    "    for line in e:\n",
    "        (id, fname, lname, addr, city, state, zip, job, email, active, salary) = line.strip().split(\",\")\n",
    "        print(salary, state)\n",
    "        if int(salary) >= 75000:\n",
    "            print(\"%s,1\") % state\n",
    "  #      elif int(salary) < 75000:\n",
    "   #         print(\"nothing\")"
   ]
  },
  {
   "cell_type": "code",
   "execution_count": null,
   "metadata": {},
   "outputs": [],
   "source": []
  },
  {
   "cell_type": "code",
   "execution_count": 3,
   "metadata": {},
   "outputs": [],
   "source": [
    "import pandas as pd"
   ]
  },
  {
   "cell_type": "code",
   "execution_count": 13,
   "metadata": {},
   "outputs": [
    {
     "name": "stderr",
     "output_type": "stream",
     "text": [
      "b'Skipping line 1344: expected 11 fields, saw 12\\n'\n"
     ]
    }
   ],
   "source": [
    "employees = pd.read_csv(\"employee.txt\", error_bad_lines = False, header = None)"
   ]
  },
  {
   "cell_type": "code",
   "execution_count": 14,
   "metadata": {},
   "outputs": [
    {
     "data": {
      "text/html": [
       "<div>\n",
       "<style scoped>\n",
       "    .dataframe tbody tr th:only-of-type {\n",
       "        vertical-align: middle;\n",
       "    }\n",
       "\n",
       "    .dataframe tbody tr th {\n",
       "        vertical-align: top;\n",
       "    }\n",
       "\n",
       "    .dataframe thead th {\n",
       "        text-align: right;\n",
       "    }\n",
       "</style>\n",
       "<table border=\"1\" class=\"dataframe\">\n",
       "  <thead>\n",
       "    <tr style=\"text-align: right;\">\n",
       "      <th></th>\n",
       "      <th>0</th>\n",
       "      <th>1</th>\n",
       "      <th>2</th>\n",
       "      <th>3</th>\n",
       "      <th>4</th>\n",
       "      <th>5</th>\n",
       "      <th>6</th>\n",
       "      <th>7</th>\n",
       "      <th>8</th>\n",
       "      <th>9</th>\n",
       "      <th>10</th>\n",
       "    </tr>\n",
       "  </thead>\n",
       "  <tbody>\n",
       "    <tr>\n",
       "      <th>0</th>\n",
       "      <td>AA1130960</td>\n",
       "      <td>Amy</td>\n",
       "      <td>Alicea</td>\n",
       "      <td>2472 25th Street</td>\n",
       "      <td>Fulton</td>\n",
       "      <td>KY</td>\n",
       "      <td>42041</td>\n",
       "      <td>Sales Associate</td>\n",
       "      <td>aa1130960@example.com</td>\n",
       "      <td>Y</td>\n",
       "      <td>22329</td>\n",
       "    </tr>\n",
       "    <tr>\n",
       "      <th>1</th>\n",
       "      <td>AA1146303</td>\n",
       "      <td>Anna</td>\n",
       "      <td>Atkins</td>\n",
       "      <td>4640 East 10th Street</td>\n",
       "      <td>Scotts Valley</td>\n",
       "      <td>CA</td>\n",
       "      <td>95066</td>\n",
       "      <td>Assistant Manager</td>\n",
       "      <td>aa1146303@example.com</td>\n",
       "      <td>Y</td>\n",
       "      <td>99645</td>\n",
       "    </tr>\n",
       "  </tbody>\n",
       "</table>\n",
       "</div>"
      ],
      "text/plain": [
       "          0     1       2                      3              4   5      6   \\\n",
       "0  AA1130960   Amy  Alicea       2472 25th Street         Fulton  KY  42041   \n",
       "1  AA1146303  Anna  Atkins  4640 East 10th Street  Scotts Valley  CA  95066   \n",
       "\n",
       "                  7                      8  9      10  \n",
       "0    Sales Associate  aa1130960@example.com  Y  22329  \n",
       "1  Assistant Manager  aa1146303@example.com  Y  99645  "
      ]
     },
     "execution_count": 14,
     "metadata": {},
     "output_type": "execute_result"
    }
   ],
   "source": [
    "employees.head(2)"
   ]
  },
  {
   "cell_type": "code",
   "execution_count": 12,
   "metadata": {},
   "outputs": [
    {
     "name": "stdout",
     "output_type": "stream",
     "text": [
      "0\n",
      "1\n",
      "2\n",
      "3\n",
      "4\n",
      "5\n",
      "6\n",
      "7\n",
      "8\n",
      "9\n",
      "10\n"
     ]
    }
   ],
   "source": [
    "\n",
    "\n",
    "for line in employees:\n",
    "    #line = line.strip()\n",
    "    print(line)\n",
    "    #(id, fname, lname, addr, city, state, zip, job, email, active, salary) = line.split(\",\")\n",
    "\n",
    "#   if int(salary) >= 75000:\n",
    "#      print(\"%s,1\") % state"
   ]
  },
  {
   "cell_type": "code",
   "execution_count": null,
   "metadata": {},
   "outputs": [],
   "source": []
  },
  {
   "cell_type": "code",
   "execution_count": null,
   "metadata": {},
   "outputs": [],
   "source": []
  },
  {
   "cell_type": "code",
   "execution_count": null,
   "metadata": {},
   "outputs": [],
   "source": []
  },
  {
   "cell_type": "code",
   "execution_count": 21,
   "metadata": {},
   "outputs": [
    {
     "name": "stdout",
     "output_type": "stream",
     "text": [
      "22329\n",
      "99645\n",
      "26717\n",
      "26078\n",
      "17486\n",
      "22278\n",
      "17220\n",
      "18566\n",
      "25262\n"
     ]
    }
   ],
   "source": [
    "with open(\"employee_sample.txt\") as e:\n",
    "    for line in e:\n",
    "        (id, fname, lname, addr, city, state, zip, job, email, active, salary) = line.strip().split(\",\")\n",
    "        print(salary)\n",
    "        #\n",
    "         #   print(\"%s,1\") % state\n",
    "    "
   ]
  },
  {
   "cell_type": "code",
   "execution_count": null,
   "metadata": {},
   "outputs": [],
   "source": []
  }
 ],
 "metadata": {
  "kernelspec": {
   "display_name": "Python 3",
   "language": "python",
   "name": "python3"
  },
  "language_info": {
   "codemirror_mode": {
    "name": "ipython",
    "version": 3
   },
   "file_extension": ".py",
   "mimetype": "text/x-python",
   "name": "python",
   "nbconvert_exporter": "python",
   "pygments_lexer": "ipython3",
   "version": "3.7.3"
  }
 },
 "nbformat": 4,
 "nbformat_minor": 2
}
