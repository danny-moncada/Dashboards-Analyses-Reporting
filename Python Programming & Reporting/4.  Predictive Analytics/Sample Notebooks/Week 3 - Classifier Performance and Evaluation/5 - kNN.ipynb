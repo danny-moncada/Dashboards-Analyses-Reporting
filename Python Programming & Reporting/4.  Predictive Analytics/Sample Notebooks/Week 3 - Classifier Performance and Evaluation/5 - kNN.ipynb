{
 "cells": [
  {
   "cell_type": "code",
   "execution_count": 1,
   "metadata": {},
   "outputs": [],
   "source": [
    "# The simplest possible classifier is the nearest neighbor: given a new observation X_test, find in the training set (i.e.\n",
    "# the data used to train the estimator) the observation(s) with the closest feature vector.\n",
    "\n",
    "# This script illustrates the usage of kNN. \n",
    "\n",
    "%matplotlib inline\n",
    "# import necessary libraries and specify that graphs should be plotted inline.\n",
    "\n",
    "import numpy as np\n",
    "import matplotlib.pyplot as plt\n",
    "from sklearn.model_selection import train_test_split\n",
    "from sklearn.metrics import accuracy_score\n",
    "from sklearn import neighbors, datasets\n",
    "\n",
    "# import some data to play with\n",
    "# See '2 - Decision Trees' for a description of this data set\n",
    "iris = datasets.load_iris()\n",
    "X = iris.data[:, :2]  # we only take the first two features in order to easily visualize the results. \n",
    "                      # We could avoid this ugly slicing by using a two-dim dataset\n",
    "y = iris.target"
   ]
  },
  {
   "cell_type": "code",
   "execution_count": 3,
   "metadata": {},
   "outputs": [
    {
     "name": "stdout",
     "output_type": "stream",
     "text": [
      "('Accuracy: ', 0.68)\n",
      "('Accuracy: ', 0.72)\n",
      "('Accuracy: ', 0.72)\n",
      "('Accuracy: ', 0.62)\n",
      "('Accuracy: ', 0.72)\n",
      "('Accuracy: ', 0.76)\n",
      "('Accuracy: ', 0.7)\n",
      "('Accuracy: ', 0.78)\n",
      "('Accuracy: ', 0.74)\n",
      "('Accuracy: ', 0.78)\n",
      "('Accuracy: ', 0.78)\n",
      "('Accuracy: ', 0.8)\n",
      "('Accuracy: ', 0.8)\n",
      "('Accuracy: ', 0.72)\n",
      "('Accuracy: ', 0.8)\n",
      "('Accuracy: ', 0.7)\n",
      "('Accuracy: ', 0.7)\n",
      "('Accuracy: ', 0.72)\n",
      "('Accuracy: ', 0.78)\n",
      "('Accuracy: ', 0.7)\n"
     ]
    }
   ],
   "source": [
    "NUM_TRIALS=20\n",
    "\n",
    "for i in range(NUM_TRIALS):\n",
    "    X_train, X_test, y_train, y_test = train_test_split(X, y, test_size=0.33)\n",
    "    # specify the desired number of neighbors for our kNN classifier\n",
    "    n_neighbors = 3\n",
    "    clf = neighbors.KNeighborsClassifier(n_neighbors)\n",
    "    \n",
    "    ## Train the model (fit the data)\n",
    "    clf = clf.fit(X_train, y_train)\n",
    "    \n",
    "    ## test the model (fit the data)\n",
    "    y_pred=clf.predict(X_test)\n",
    "    print(\"Accuracy: \",accuracy_score(y_test, y_pred))"
   ]
  },
  {
   "cell_type": "code",
   "execution_count": null,
   "metadata": {},
   "outputs": [],
   "source": []
  }
 ],
 "metadata": {
  "anaconda-cloud": {},
  "kernelspec": {
   "display_name": "Python 3",
   "language": "python",
   "name": "python3"
  },
  "language_info": {
   "codemirror_mode": {
    "name": "ipython",
    "version": 3
   },
   "file_extension": ".py",
   "mimetype": "text/x-python",
   "name": "python",
   "nbconvert_exporter": "python",
   "pygments_lexer": "ipython3",
   "version": "3.7.1"
  }
 },
 "nbformat": 4,
 "nbformat_minor": 1
}
