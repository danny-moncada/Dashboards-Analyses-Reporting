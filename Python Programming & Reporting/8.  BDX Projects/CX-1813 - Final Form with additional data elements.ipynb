{
 "cells": [
  {
   "cell_type": "markdown",
   "metadata": {},
   "source": [
    "## This gave me all the column names from the first PLUS call I set up to get phone numbers\n",
    "\n",
    "- I  kept this here so that I could reference this later and tweak my query below to only return the columns I needed - this will make sense WAY down the line"
   ]
  },
  {
   "cell_type": "code",
   "execution_count": 11,
   "metadata": {
    "collapsed": false
   },
   "outputs": [
    {
     "name": "stdout",
     "output_type": "stream",
     "text": [
      "[u'address1', u'address2', u'city', u'company', u'contact', u'employee_count', u'phone', u'phone_type', u'state', u'url', u'zip']\n"
     ]
    }
   ],
   "source": [
    "print list(phone.columns.values)"
   ]
  },
  {
   "cell_type": "code",
   "execution_count": 2,
   "metadata": {
    "collapsed": false
   },
   "outputs": [
    {
     "data": {
      "text/html": [
       "<style>.container { width:100% !important; }</style>"
      ],
      "text/plain": [
       "<IPython.core.display.HTML object>"
      ]
     },
     "metadata": {},
     "output_type": "display_data"
    }
   ],
   "source": [
    "%reload_ext ishbook\n",
    "import pandas as pd\n",
    "import numpy as np\n",
    "import datetime as dt\n",
    "import time\n",
    "import iql\n",
    "import plus\n",
    "import re\n",
    "from IPython.core.display import display, HTML\n",
    "display(HTML(\"<style>.container { width:100% !important; }</style>\"))"
   ]
  },
  {
   "cell_type": "markdown",
   "metadata": {},
   "source": [
    "## Pull in all advertisers who clicked on \"needHelp\" from June 2016 to September 2016\n",
    "\n",
    "- References the *dradisturnstileclick* index\n",
    "- Grab the *advertiser* info, what *page* they were visiting at the time, and the *unixtime* to capture the time they requested help"
   ]
  },
  {
   "cell_type": "code",
   "execution_count": 3,
   "metadata": {
    "collapsed": false
   },
   "outputs": [],
   "source": [
    "%%ish\n",
    "\n",
    "needhelp_advids = from dradisturnstileclick 2016-06-01 2016-09-01 WHERE section = crawl element = needHelpButton advid > 0 GROUP BY advid, element, page, unixtime\n",
    "elaborate(needhelp_advids.advid)\n",
    "output = None"
   ]
  },
  {
   "cell_type": "markdown",
   "metadata": {},
   "source": [
    "## Just checking to see how many rows are in the ouput and what the df looks like\n",
    "\n",
    "- Because I called **elaborate** on the advids in my initial pull, I can see that some of them are labeled as *blank*\n",
    "- What the blanks tell me are the advertisers that started setting up a page and never actually completed their set-up: they don't have any data in their adCard"
   ]
  },
  {
   "cell_type": "code",
   "execution_count": 3,
   "metadata": {
    "collapsed": false
   },
   "outputs": [
    {
     "data": {
      "text/html": [
       "<div>\n",
       "<table border=\"1\" class=\"dataframe\">\n",
       "  <thead>\n",
       "    <tr style=\"text-align: right;\">\n",
       "      <th></th>\n",
       "      <th>advid</th>\n",
       "      <th>element</th>\n",
       "      <th>page</th>\n",
       "      <th>unixtime</th>\n",
       "      <th></th>\n",
       "      <th>_advid</th>\n",
       "    </tr>\n",
       "  </thead>\n",
       "  <tbody>\n",
       "    <tr>\n",
       "      <th>203803</th>\n",
       "      <td>8708075</td>\n",
       "      <td>needHelpButton</td>\n",
       "      <td>POST_JOB</td>\n",
       "      <td>1472708870</td>\n",
       "      <td>1</td>\n",
       "      <td>BLANK</td>\n",
       "    </tr>\n",
       "    <tr>\n",
       "      <th>203804</th>\n",
       "      <td>8671254</td>\n",
       "      <td>needHelpButton</td>\n",
       "      <td>post-job/job-description</td>\n",
       "      <td>1472708965</td>\n",
       "      <td>1</td>\n",
       "      <td>LAgeek LLC</td>\n",
       "    </tr>\n",
       "    <tr>\n",
       "      <th>203805</th>\n",
       "      <td>8740706</td>\n",
       "      <td>needHelpButton</td>\n",
       "      <td>POST_JOB</td>\n",
       "      <td>1472709140</td>\n",
       "      <td>1</td>\n",
       "      <td>BLANK</td>\n",
       "    </tr>\n",
       "    <tr>\n",
       "      <th>203806</th>\n",
       "      <td>4257441</td>\n",
       "      <td>needHelpButton</td>\n",
       "      <td>sponsor</td>\n",
       "      <td>1472709184</td>\n",
       "      <td>1</td>\n",
       "      <td>LBI Media</td>\n",
       "    </tr>\n",
       "    <tr>\n",
       "      <th>203807</th>\n",
       "      <td>8065346</td>\n",
       "      <td>needHelpButton</td>\n",
       "      <td>candidates/view</td>\n",
       "      <td>1472709388</td>\n",
       "      <td>1</td>\n",
       "      <td>Tigretek Solution Pvt. Ltd.</td>\n",
       "    </tr>\n",
       "  </tbody>\n",
       "</table>\n",
       "</div>"
      ],
      "text/plain": [
       "          advid         element                      page    unixtime     \\\n",
       "203803  8708075  needHelpButton                  POST_JOB  1472708870  1   \n",
       "203804  8671254  needHelpButton  post-job/job-description  1472708965  1   \n",
       "203805  8740706  needHelpButton                  POST_JOB  1472709140  1   \n",
       "203806  4257441  needHelpButton                   sponsor  1472709184  1   \n",
       "203807  8065346  needHelpButton           candidates/view  1472709388  1   \n",
       "\n",
       "                             _advid  \n",
       "203803                        BLANK  \n",
       "203804                   LAgeek LLC  \n",
       "203805                        BLANK  \n",
       "203806                    LBI Media  \n",
       "203807  Tigretek Solution Pvt. Ltd.  "
      ]
     },
     "execution_count": 3,
     "metadata": {},
     "output_type": "execute_result"
    }
   ],
   "source": [
    "needhelp_advids.tail()"
   ]
  },
  {
   "cell_type": "markdown",
   "metadata": {},
   "source": [
    "## Filter out those advids that are labeled *blank* by making a copy of the original df\n",
    "\n",
    "- Basically creating a condition saying anywhere where ____advid__ is not blank from the *needhelp* df, place that in the *no_blanks* df as a copy of the original df"
   ]
  },
  {
   "cell_type": "code",
   "execution_count": 4,
   "metadata": {
    "collapsed": false
   },
   "outputs": [],
   "source": [
    "no_blanks = needhelp_advids[needhelp_advids[\"_advid\"] != \"BLANK\"].copy()"
   ]
  },
  {
   "cell_type": "markdown",
   "metadata": {
    "collapsed": true
   },
   "source": [
    "## Checking the lengths of each df to make sure no data was lost"
   ]
  },
  {
   "cell_type": "code",
   "execution_count": 5,
   "metadata": {
    "collapsed": false
   },
   "outputs": [
    {
     "name": "stdout",
     "output_type": "stream",
     "text": [
      "203808\n",
      "183029\n",
      "20779\n"
     ]
    }
   ],
   "source": [
    "print len(needhelp_advids)\n",
    "print len(no_blanks)\n",
    "print len(needhelp_advids) - len(no_blanks)"
   ]
  },
  {
   "cell_type": "markdown",
   "metadata": {},
   "source": [
    "## Create Date and Time columns based on the unixtime stamp of when the advertiser clicked on needHelp\n",
    "\n",
    "- This is going to allow it to be a little more readable further along in the notebook\n",
    "- I'm also going to use this in a few of my groupBys, to be able to tie when an advertiser was stuck to when they contacted us\n",
    "\n",
    "\n",
    "    Syntax is:\n",
    "        df[column_name] = [dt.datetime.fromtimestamp(x).strftime('%Y-%-m-%d') for x in df[unxtime]\n",
    "\n",
    "Essentially, what this is saying is 'Create two columns, Date and Time, on the existing dataframe'\n",
    "\n",
    "\n",
    "For every row in no_blanks[unixtime], create a string representation of a datetime object and populate it in the appropriate column\n",
    "        - '%Y-%m-%d' formats the date as *YEAR*-*MONTH*-*DAY* (2016-09-10)\n",
    "        - '%H:%M:%S' formats the time as *HOURS(24H)*:*MINUTES*:*SECONDS* (20:15:66)"
   ]
  },
  {
   "cell_type": "code",
   "execution_count": 6,
   "metadata": {
    "collapsed": false
   },
   "outputs": [],
   "source": [
    "no_blanks[\"Need Help Date\"] = [dt.datetime.fromtimestamp(x).strftime('%Y-%m-%d') for x in no_blanks.unixtime]\n",
    "no_blanks[\"Need Help Time\"] = [dt.datetime.fromtimestamp(x).strftime('%H:%M:%S') for x in no_blanks.unixtime]"
   ]
  },
  {
   "cell_type": "markdown",
   "metadata": {},
   "source": [
    "## I also had to get the *billing_country* and *locale* for each advertiser, as I needed to split up the populations by USA only and Rest of the World\n",
    "\n",
    "- Due to the limitation of feeding more than ~100,000 advids into a PLUS call, I had to create an ARRAY which I labeled *advids* - again, my variable names aren't that great, *try to be more specific!!!*  \n",
    "\n",
    "\n",
    "- Then I created two dfs, feeding the list of advids by splitting them in half using this syntax: series[0:number]\n",
    "    - What this does is tells Python give me a SLICE of that series, from 0 to 60000 (essentially give me the first 60000 elements in my ARRAY)\n",
    "    - For the remaining advids, feed it into the second plus call\n",
    "    \n",
    "    \n",
    "- The other thing you might notice is I'm only returning the two columns that I need from that PLUS call... Unfortunately PLUS will still pull ALL of the columns for each of those advertisers but the final df will just be those two columns"
   ]
  },
  {
   "cell_type": "code",
   "execution_count": 9,
   "metadata": {
    "collapsed": false
   },
   "outputs": [],
   "source": [
    "advids = no_blanks.advid.unique()"
   ]
  },
  {
   "cell_type": "code",
   "execution_count": 11,
   "metadata": {
    "collapsed": false
   },
   "outputs": [
    {
     "name": "stdout",
     "output_type": "stream",
     "text": [
      "LDAP name:\n",
      "dmoncada\n",
      "Password:\n",
      "········\n"
     ]
    }
   ],
   "source": [
    "no_blanks_list_1 = plus.get_advertiser_info(advids[0:60000])[['billing_country', 'locale']]\n",
    "no_blanks_list_2 = plus.get_advertiser_info(advids[60000:])[['billing_country', 'locale']]"
   ]
  },
  {
   "cell_type": "markdown",
   "metadata": {},
   "source": [
    "## Combine the billing_country information with my original population to be able to split them further down in the notebook\n",
    "\n",
    "- Combined the two dfs from the above PLUS call together by using pd.concat and creating a new df labeled *all_countries*\n",
    "\n",
    "\n",
    "- Merge the *all_countries* df with my original *no_blanks* df\n",
    "\n",
    "\n",
    "    how = 'left'\n",
    "    \n",
    "I want to merge all of the records **LEFT** ONTO the original df, since they should be a 1-to-1 match and I should have a row for each one\n",
    " \n",
    "    left_on = 'advid'\n",
    "\n",
    "The original df (the LEFT one) has 'advid' as the unique identifier - that's how I will tie to the RIGHT df\n",
    "    \n",
    "    right_index = True\n",
    "   \n",
    "\n",
    "\n",
    "The RIGHT df (*all_countries*), I'll be using the INDEX as my unique identifier, since what is returned from PLUS has the advertiser ID as the index"
   ]
  },
  {
   "cell_type": "code",
   "execution_count": 12,
   "metadata": {
    "collapsed": false
   },
   "outputs": [],
   "source": [
    "all_countries = pd.concat([no_blanks_list_1, no_blanks_list_2])"
   ]
  },
  {
   "cell_type": "code",
   "execution_count": 13,
   "metadata": {
    "collapsed": false
   },
   "outputs": [],
   "source": [
    "no_blanks_countries = no_blanks.merge(all_countries, how = 'left', left_on = 'advid', right_index = True)"
   ]
  },
  {
   "cell_type": "code",
   "execution_count": 14,
   "metadata": {
    "collapsed": false
   },
   "outputs": [
    {
     "data": {
      "text/html": [
       "<div>\n",
       "<table border=\"1\" class=\"dataframe\">\n",
       "  <thead>\n",
       "    <tr style=\"text-align: right;\">\n",
       "      <th></th>\n",
       "      <th>advid</th>\n",
       "      <th>element</th>\n",
       "      <th>page</th>\n",
       "      <th>unixtime</th>\n",
       "      <th></th>\n",
       "      <th>_advid</th>\n",
       "      <th>Need Help Date</th>\n",
       "      <th>Need Help Time</th>\n",
       "      <th>billing_country</th>\n",
       "      <th>locale</th>\n",
       "    </tr>\n",
       "  </thead>\n",
       "  <tbody>\n",
       "    <tr>\n",
       "      <th>203799</th>\n",
       "      <td>4145550</td>\n",
       "      <td>needHelpButton</td>\n",
       "      <td>jobs</td>\n",
       "      <td>1472708592</td>\n",
       "      <td>1</td>\n",
       "      <td>B1 Consulting</td>\n",
       "      <td>2016-09-01</td>\n",
       "      <td>01:43:12</td>\n",
       "      <td>CA</td>\n",
       "      <td>en</td>\n",
       "    </tr>\n",
       "    <tr>\n",
       "      <th>203801</th>\n",
       "      <td>8740865</td>\n",
       "      <td>needHelpButton</td>\n",
       "      <td>SPONSOR</td>\n",
       "      <td>1472708734</td>\n",
       "      <td>1</td>\n",
       "      <td>All Creatures Behavior Counseling</td>\n",
       "      <td>2016-09-01</td>\n",
       "      <td>01:45:34</td>\n",
       "      <td>US</td>\n",
       "      <td>en</td>\n",
       "    </tr>\n",
       "    <tr>\n",
       "      <th>203804</th>\n",
       "      <td>8671254</td>\n",
       "      <td>needHelpButton</td>\n",
       "      <td>post-job/job-description</td>\n",
       "      <td>1472708965</td>\n",
       "      <td>1</td>\n",
       "      <td>LAgeek LLC</td>\n",
       "      <td>2016-09-01</td>\n",
       "      <td>01:49:25</td>\n",
       "      <td>US</td>\n",
       "      <td>en</td>\n",
       "    </tr>\n",
       "    <tr>\n",
       "      <th>203806</th>\n",
       "      <td>4257441</td>\n",
       "      <td>needHelpButton</td>\n",
       "      <td>sponsor</td>\n",
       "      <td>1472709184</td>\n",
       "      <td>1</td>\n",
       "      <td>LBI Media</td>\n",
       "      <td>2016-09-01</td>\n",
       "      <td>01:53:04</td>\n",
       "      <td>US</td>\n",
       "      <td>en</td>\n",
       "    </tr>\n",
       "    <tr>\n",
       "      <th>203807</th>\n",
       "      <td>8065346</td>\n",
       "      <td>needHelpButton</td>\n",
       "      <td>candidates/view</td>\n",
       "      <td>1472709388</td>\n",
       "      <td>1</td>\n",
       "      <td>Tigretek Solution Pvt. Ltd.</td>\n",
       "      <td>2016-09-01</td>\n",
       "      <td>01:56:28</td>\n",
       "      <td>IN</td>\n",
       "      <td>en</td>\n",
       "    </tr>\n",
       "  </tbody>\n",
       "</table>\n",
       "</div>"
      ],
      "text/plain": [
       "          advid         element                      page    unixtime     \\\n",
       "203799  4145550  needHelpButton                      jobs  1472708592  1   \n",
       "203801  8740865  needHelpButton                   SPONSOR  1472708734  1   \n",
       "203804  8671254  needHelpButton  post-job/job-description  1472708965  1   \n",
       "203806  4257441  needHelpButton                   sponsor  1472709184  1   \n",
       "203807  8065346  needHelpButton           candidates/view  1472709388  1   \n",
       "\n",
       "                                   _advid Need Help Date Need Help Time  \\\n",
       "203799                      B1 Consulting     2016-09-01       01:43:12   \n",
       "203801  All Creatures Behavior Counseling     2016-09-01       01:45:34   \n",
       "203804                         LAgeek LLC     2016-09-01       01:49:25   \n",
       "203806                          LBI Media     2016-09-01       01:53:04   \n",
       "203807        Tigretek Solution Pvt. Ltd.     2016-09-01       01:56:28   \n",
       "\n",
       "       billing_country locale  \n",
       "203799              CA     en  \n",
       "203801              US     en  \n",
       "203804              US     en  \n",
       "203806              US     en  \n",
       "203807              IN     en  "
      ]
     },
     "execution_count": 14,
     "metadata": {},
     "output_type": "execute_result"
    }
   ],
   "source": [
    "no_blanks_countries.tail(5)"
   ]
  },
  {
   "cell_type": "markdown",
   "metadata": {},
   "source": [
    "## Create a string list of UNIQUE advids to feed into the IQL queries that I am using to obtain the follow-ups submitted by the advertisers that got stuck\n",
    "\n",
    "- Going to be feeding these advids into two different IQL queries\n",
    "\n",
    "\n",
    "- I create one df *contactwebform*, feeding the advids from the orignal no_blanks df, for the same date range, to get all CWFs submitted during that time by those same advertisers\n",
    "    - Feeding the specific adveritsers helps me return a much more specific result set; otherwise I'd get ALL CWFs submitted for that time frame\n",
    "    \n",
    "\n",
    "- I then create another df *zen_desk*, using a similar process\n",
    "    - I rename the columns that are returned to match those in the *contactwebform* df, so that when I concat the two dfs later it saves me the step of renaming them later\n",
    "    \n",
    "    \n",
    "    Syntax is: \n",
    "        GROUP BY [column_in_iql]/*new_column_name*/\n",
    "\n",
    "\n",
    "- I tend to put ``Output = None`` after my IQL queries just so that the results don't auto populate and I can check the output after the fact"
   ]
  },
  {
   "cell_type": "code",
   "execution_count": 16,
   "metadata": {
    "collapsed": true
   },
   "outputs": [],
   "source": [
    "no_blank_list = ','.join(str(x) for x in pd.unique(no_blanks['advid']))"
   ]
  },
  {
   "cell_type": "code",
   "execution_count": 17,
   "metadata": {
    "collapsed": false
   },
   "outputs": [],
   "source": [
    "%%ish\n",
    "\n",
    "contactwebform = from advertiserevent 2016-06-01 2016-09-02 where activity_type = CONTACT_WEB_FORM advertiser_id IN ({no_blank_list}) group by advertiser_id, activity_type, unixtime\n",
    "Output = None"
   ]
  },
  {
   "cell_type": "code",
   "execution_count": 18,
   "metadata": {
    "collapsed": false
   },
   "outputs": [],
   "source": [
    "%%ish\n",
    "\n",
    "zen_desk = from dradisturnstileclick 2016-06-01 2016-09-02 WHERE section = crawl element = zendeskButton advid IN ({no_blank_list}) GROUP BY advid/*advertiser_id*/, element/*activity_type*/, unixtime\n",
    "Output = None"
   ]
  },
  {
   "cell_type": "markdown",
   "metadata": {},
   "source": [
    "## I use the print statements to see the length of each df as well as what the columns that are being returned look like - to make sure I can concatenate them\n",
    "\n",
    "    Syntax is:\n",
    "        print 'This string/sentence + {}'.format(the length of the dataframe)\n",
    "\n",
    "- The *.format* function converts the length of the df (which is an int/number) into a string and places it where the squiggly brackets{} are in my statement\n",
    "    \n",
    "    \n",
    "- I also print the first five lines of the dfs to make sure the column names match up"
   ]
  },
  {
   "cell_type": "code",
   "execution_count": 22,
   "metadata": {
    "collapsed": false
   },
   "outputs": [
    {
     "name": "stdout",
     "output_type": "stream",
     "text": [
      "The length of zen_desk is 35701\n",
      "\n",
      "   advertiser_id  activity_type    unixtime   \n",
      "0        6908211  zendeskButton  1464776005  1\n",
      "1        7373056  zendeskButton  1464776920  1\n",
      "2        7068691  zendeskButton  1464777545  1\n",
      "3        5158947  zendeskButton  1464778120  1\n",
      "4        3105282  zendeskButton  1464778880  1\n",
      "\n",
      "The length of contactwebform is 27767\n",
      "\n",
      "   advertiser_id     activity_type    unixtime   \n",
      "0        6051871  CONTACT_WEB_FORM  1464763613  1\n",
      "1        5569753  CONTACT_WEB_FORM  1464764103  1\n",
      "2        6412012  CONTACT_WEB_FORM  1464767466  1\n",
      "3        7242318  CONTACT_WEB_FORM  1464767662  1\n",
      "4        7275440  CONTACT_WEB_FORM  1464767743  1\n"
     ]
    }
   ],
   "source": [
    "print 'The length of zen_desk is {}'.format(len(zen_desk))\n",
    "print \n",
    "print zen_desk.head(5)\n",
    "print\n",
    "print 'The length of contactwebform is {}'.format(len(contactwebform))\n",
    "print\n",
    "print contactwebform.head()"
   ]
  },
  {
   "cell_type": "markdown",
   "metadata": {},
   "source": [
    "## Combine the two dfs from the IQL queries together, create Date & Time stamps similar to what was done previously, and combine it with the  no_blanks_countries df"
   ]
  },
  {
   "cell_type": "code",
   "execution_count": 23,
   "metadata": {
    "collapsed": true
   },
   "outputs": [],
   "source": [
    "all_contact_types = pd.concat([contactwebform, zen_desk])"
   ]
  },
  {
   "cell_type": "code",
   "execution_count": 24,
   "metadata": {
    "collapsed": true
   },
   "outputs": [],
   "source": [
    "all_contact_types[\"Contact Date\"] = [dt.datetime.fromtimestamp(x).strftime('%Y-%m-%d') for x in all_contact_types.unixtime]\n",
    "all_contact_types[\"Contact Time\"] = [dt.datetime.fromtimestamp(x).strftime('%H:%M:%S') for x in all_contact_types.unixtime]"
   ]
  },
  {
   "cell_type": "code",
   "execution_count": 25,
   "metadata": {
    "collapsed": false
   },
   "outputs": [],
   "source": [
    "no_blanks_countries.rename(columns = {'advid' : 'advertiser_id'}, inplace = True)"
   ]
  },
  {
   "cell_type": "markdown",
   "metadata": {},
   "source": [
    "## THE BIG KAHUNA\n",
    "\n",
    "- I merge the original dataset (all of the advertisers who clicked on 'needHelp' that have their billing country associated with them) with those advertisers in that list that submitted a CWF or a ZenDesk escalation\n",
    "\n",
    "\n",
    "- In order to do so, I used an ``inner`` join, as this is going to match up the two data sets on the CLOSEST time between *NEED HELP DATE* and *CONTACT DATE*\n",
    "\n",
    "\n",
    "- Essentially the merge says \"Find any instance where the same date an advertiser ID clicked on \"NEED HELP\" they ALSO had a CWF or zenDesk submitted\n",
    "    - Then, following that, find the closest time between the two\n",
    "    - This does return some instances where they submitted a CWF or zenDesk BEFORE they clicked \"NEED HELP\" - we'll be removing these"
   ]
  },
  {
   "cell_type": "code",
   "execution_count": 28,
   "metadata": {
    "collapsed": false
   },
   "outputs": [],
   "source": [
    "successful_contact = no_blanks_countries.merge(all_contact_types, how = 'inner', left_on = ['Need Help Date', 'advertiser_id'], right_on = ['Contact Date', 'advertiser_id'])"
   ]
  },
  {
   "cell_type": "markdown",
   "metadata": {},
   "source": [
    "## I need to split the data set between US only and Rest of the World\n",
    "\n",
    "- I create a ``condition`` - which is how you can filter results on a df\n",
    "\n",
    "\n",
    "    Syntax is: \n",
    "        condition_name = df[column_you_filter_on] == 'the variable you are pulling out'"
   ]
  },
  {
   "cell_type": "code",
   "execution_count": 29,
   "metadata": {
    "collapsed": false
   },
   "outputs": [],
   "source": [
    "us_only = successful_contact['billing_country'] == 'US'"
   ]
  },
  {
   "cell_type": "markdown",
   "metadata": {},
   "source": [
    "## I then feed the condition back into the original dataframe - using that to create two separate dataframes\n",
    "\n",
    "\n",
    "    Syntax is:\n",
    "        new_df_name = original_df[condition] \n",
    "        \n",
    "This says create a new df with ONLY results from my original df that meet this condition I made above - in the case below, ONLY advertisers that have a billing country that is 'US'\n",
    "\n",
    "\n",
    "    Syntax is: \n",
    "        other_df_name = orginal_df[~condition] \n",
    "        \n",
    "The squiggly \"~\" (yep, that's the technical term) says create a separate df with any results from the original df that DON'T meet the condition - again, in the case below, only advertisers that have a billing country that IS NOT EQUAL to 'US'"
   ]
  },
  {
   "cell_type": "code",
   "execution_count": 30,
   "metadata": {
    "collapsed": false
   },
   "outputs": [],
   "source": [
    "successful_contact_us = successful_contact[us_only]\n",
    "successful_contact_world = successful_contact[~us_only]"
   ]
  },
  {
   "cell_type": "code",
   "execution_count": 31,
   "metadata": {
    "collapsed": false
   },
   "outputs": [
    {
     "name": "stdout",
     "output_type": "stream",
     "text": [
      "92295\n",
      "52374\n",
      "39921\n"
     ]
    }
   ],
   "source": [
    "print len(successful_contact)\n",
    "print len(successful_contact_us)\n",
    "print len(successful_contact_world)"
   ]
  },
  {
   "cell_type": "markdown",
   "metadata": {},
   "source": [
    "## I am creating more conditions based on the requirements of the data pull\n",
    "\n",
    "- They want to see how many advertisers were able to successfully contact us during business hours and outside of business hours\n",
    "\n",
    "\n",
    "- This was kind of a nightmare to figure out because when I first set up this notebook, I didn't take into account the 12 hour vs 24 hour clock, so creating a condition took me quite a few tries\n",
    "\n",
    "\n",
    "- The two conditions are based on being between ``8AM - 08:00:00`` and ``8PM - 20:00:00``\n",
    "\n",
    "\n",
    "- Again, I created two different dfs based on these conditions - but THIS time I need to use slightly different syntax to get the result set I want\n",
    "\n",
    "\n",
    "    Syntax is:   \n",
    "        new_df = original_df[condition1 | condition2]\n",
    "        new_df = orignal_df[~condition1 & ~condition2]\n",
    "        \n",
    "- For this example, what this says is create one df where it is EITHER before 8AM OR AFTER 8PM - this gets me all of the successful contacts outside of business hours\n",
    "- Then create ANOTHER df where it is NOT after 8PM AND NOT before 8 AM - this gets me all of the successful contacts BETWEEN business hours"
   ]
  },
  {
   "cell_type": "code",
   "execution_count": 32,
   "metadata": {
    "collapsed": false
   },
   "outputs": [],
   "source": [
    "before_eight_am = successful_contact_us['Need Help Time'] < '08:00:00'\n",
    "after_eight_pm = successful_contact_us['Need Help Time'] > '20:00:00'"
   ]
  },
  {
   "cell_type": "code",
   "execution_count": 33,
   "metadata": {
    "collapsed": false
   },
   "outputs": [],
   "source": [
    "outside_business_hours_us = successful_contact_us[before_eight_am | after_eight_pm]\n",
    "inside_business_hours_us = successful_contact_us[~after_eight_pm & ~before_eight_am]"
   ]
  },
  {
   "cell_type": "code",
   "execution_count": 34,
   "metadata": {
    "collapsed": false
   },
   "outputs": [
    {
     "name": "stdout",
     "output_type": "stream",
     "text": [
      "52374\n",
      "52374\n"
     ]
    }
   ],
   "source": [
    "print len(successful_contact_us)\n",
    "print len(outside_business_hours_us) + len(inside_business_hours_us)"
   ]
  },
  {
   "cell_type": "code",
   "execution_count": 36,
   "metadata": {
    "collapsed": false
   },
   "outputs": [
    {
     "data": {
      "text/html": [
       "<div>\n",
       "<table border=\"1\" class=\"dataframe\">\n",
       "  <thead>\n",
       "    <tr style=\"text-align: right;\">\n",
       "      <th></th>\n",
       "      <th>advertiser_id</th>\n",
       "      <th>element</th>\n",
       "      <th>page</th>\n",
       "      <th>unixtime_x</th>\n",
       "      <th>_x</th>\n",
       "      <th>_advid</th>\n",
       "      <th>Need Help Date</th>\n",
       "      <th>Need Help Time</th>\n",
       "      <th>billing_country</th>\n",
       "      <th>locale</th>\n",
       "      <th>activity_type</th>\n",
       "      <th>unixtime_y</th>\n",
       "      <th>_y</th>\n",
       "      <th>Contact Date</th>\n",
       "      <th>Contact Time</th>\n",
       "    </tr>\n",
       "  </thead>\n",
       "  <tbody>\n",
       "    <tr>\n",
       "      <th>0</th>\n",
       "      <td>7452278</td>\n",
       "      <td>needHelpButton</td>\n",
       "      <td>POST_JOB</td>\n",
       "      <td>1464770600</td>\n",
       "      <td>1</td>\n",
       "      <td>job seeker</td>\n",
       "      <td>2016-06-01</td>\n",
       "      <td>04:43:20</td>\n",
       "      <td>US</td>\n",
       "      <td>en</td>\n",
       "      <td>CONTACT_WEB_FORM</td>\n",
       "      <td>1464770681</td>\n",
       "      <td>1</td>\n",
       "      <td>2016-06-01</td>\n",
       "      <td>04:44:41</td>\n",
       "    </tr>\n",
       "    <tr>\n",
       "      <th>1</th>\n",
       "      <td>7083674</td>\n",
       "      <td>needHelpButton</td>\n",
       "      <td>dashboard</td>\n",
       "      <td>1464774139</td>\n",
       "      <td>1</td>\n",
       "      <td>R&amp;S Keystone</td>\n",
       "      <td>2016-06-01</td>\n",
       "      <td>05:42:19</td>\n",
       "      <td>US</td>\n",
       "      <td>en</td>\n",
       "      <td>CONTACT_WEB_FORM</td>\n",
       "      <td>1464774209</td>\n",
       "      <td>1</td>\n",
       "      <td>2016-06-01</td>\n",
       "      <td>05:43:29</td>\n",
       "    </tr>\n",
       "    <tr>\n",
       "      <th>2</th>\n",
       "      <td>6908211</td>\n",
       "      <td>needHelpButton</td>\n",
       "      <td>dashboard</td>\n",
       "      <td>1464775998</td>\n",
       "      <td>1</td>\n",
       "      <td>SM Group LLC</td>\n",
       "      <td>2016-06-01</td>\n",
       "      <td>06:13:18</td>\n",
       "      <td>US</td>\n",
       "      <td>en</td>\n",
       "      <td>CONTACT_WEB_FORM</td>\n",
       "      <td>1464776226</td>\n",
       "      <td>1</td>\n",
       "      <td>2016-06-01</td>\n",
       "      <td>06:17:06</td>\n",
       "    </tr>\n",
       "    <tr>\n",
       "      <th>3</th>\n",
       "      <td>6908211</td>\n",
       "      <td>needHelpButton</td>\n",
       "      <td>dashboard</td>\n",
       "      <td>1464775998</td>\n",
       "      <td>1</td>\n",
       "      <td>SM Group LLC</td>\n",
       "      <td>2016-06-01</td>\n",
       "      <td>06:13:18</td>\n",
       "      <td>US</td>\n",
       "      <td>en</td>\n",
       "      <td>CONTACT_WEB_FORM</td>\n",
       "      <td>1464776241</td>\n",
       "      <td>1</td>\n",
       "      <td>2016-06-01</td>\n",
       "      <td>06:17:21</td>\n",
       "    </tr>\n",
       "    <tr>\n",
       "      <th>4</th>\n",
       "      <td>6908211</td>\n",
       "      <td>needHelpButton</td>\n",
       "      <td>dashboard</td>\n",
       "      <td>1464775998</td>\n",
       "      <td>1</td>\n",
       "      <td>SM Group LLC</td>\n",
       "      <td>2016-06-01</td>\n",
       "      <td>06:13:18</td>\n",
       "      <td>US</td>\n",
       "      <td>en</td>\n",
       "      <td>zendeskButton</td>\n",
       "      <td>1464776005</td>\n",
       "      <td>1</td>\n",
       "      <td>2016-06-01</td>\n",
       "      <td>06:13:25</td>\n",
       "    </tr>\n",
       "  </tbody>\n",
       "</table>\n",
       "</div>"
      ],
      "text/plain": [
       "   advertiser_id         element       page  unixtime_x  _x        _advid  \\\n",
       "0        7452278  needHelpButton   POST_JOB  1464770600   1    job seeker   \n",
       "1        7083674  needHelpButton  dashboard  1464774139   1  R&S Keystone   \n",
       "2        6908211  needHelpButton  dashboard  1464775998   1  SM Group LLC   \n",
       "3        6908211  needHelpButton  dashboard  1464775998   1  SM Group LLC   \n",
       "4        6908211  needHelpButton  dashboard  1464775998   1  SM Group LLC   \n",
       "\n",
       "  Need Help Date Need Help Time billing_country locale     activity_type  \\\n",
       "0     2016-06-01       04:43:20              US     en  CONTACT_WEB_FORM   \n",
       "1     2016-06-01       05:42:19              US     en  CONTACT_WEB_FORM   \n",
       "2     2016-06-01       06:13:18              US     en  CONTACT_WEB_FORM   \n",
       "3     2016-06-01       06:13:18              US     en  CONTACT_WEB_FORM   \n",
       "4     2016-06-01       06:13:18              US     en     zendeskButton   \n",
       "\n",
       "   unixtime_y  _y Contact Date Contact Time  \n",
       "0  1464770681   1   2016-06-01     04:44:41  \n",
       "1  1464774209   1   2016-06-01     05:43:29  \n",
       "2  1464776226   1   2016-06-01     06:17:06  \n",
       "3  1464776241   1   2016-06-01     06:17:21  \n",
       "4  1464776005   1   2016-06-01     06:13:25  "
      ]
     },
     "execution_count": 36,
     "metadata": {},
     "output_type": "execute_result"
    }
   ],
   "source": [
    "outside_business_hours_us.head(5)"
   ]
  },
  {
   "cell_type": "markdown",
   "metadata": {},
   "source": [
    "## I have to do one more step here: I drop duplicates because we might have instances where an advertiser clicked on needHELP more than once\n",
    "\n",
    "- This skews the data as the inner merge (done above) will match up EACH submitted CWF & zenDesk escalation with the when the advertiser clicked on \"needHELP\" - so I just get one of each instance by using drop_duplicates\n",
    "\n",
    "\n",
    "    Syntax is:\n",
    "        new_df = original_df.drop_duplicates([columns that you are de-dupping], keep = 'last')\n",
    "\n",
    "- The critical piece is 'keep = last' - this tells Python to keep the last record after de-dupping"
   ]
  },
  {
   "cell_type": "code",
   "execution_count": 38,
   "metadata": {
    "collapsed": true
   },
   "outputs": [],
   "source": [
    "us_final_out = outside_business_hours_us.drop_duplicates(['advertiser_id', 'Contact Date', 'Contact Time'], keep = 'last')\n",
    "us_final_in = inside_business_hours_us.drop_duplicates(['advertiser_id', 'Contact Date', 'Contact Time'], keep = 'last')"
   ]
  },
  {
   "cell_type": "markdown",
   "metadata": {},
   "source": [
    "## Create two more conditions (man I really became obsessed with these)\n",
    "\n",
    "- I need to only get those CWFs/zenDesks that were submitted within 1hr of clicking 'NeedHelp'\n",
    "- I also need to grab ONLY those escalation that were submitted AFTER clicking 'needHelp'\n",
    "\n",
    "\n",
    "    Snytax is:\n",
    "        condition = df[column1] - df[column2] < int\n",
    "        condition2 = df[column1] - df[column2] > int\n",
    "        \n",
    "- In this example, I create the *within_1hr* condition by subtracting the unixtime of the submission from the unixtime of when they clicked on needHelp, which gives me a timedelta series in SECONDS, since that is how unixtime is calculated\n",
    "    - I am grabbing anything LESS than 360 since 60secs (1min) * 60mins = 360\n",
    "- I then create the *no_negative* condition by doing the same calculation and only grabbing anything GREATER than 0, since that is positive\n",
    "    - A positive number means that they submitted the escalation AFTER the needHelp click"
   ]
  },
  {
   "cell_type": "code",
   "execution_count": 39,
   "metadata": {
    "collapsed": false
   },
   "outputs": [],
   "source": [
    "within_1hr = us_final_out['unixtime_y'] - us_final_out['unixtime_x'] < 360\n",
    "no_negative = us_final_out['unixtime_y'] - us_final_out['unixtime_x'] > 0\n",
    "within_1hr_in = us_final_in['unixtime_y'] - us_final_in['unixtime_x'] < 360\n",
    "no_negative_in = us_final_in['unixtime_y'] - us_final_in['unixtime_x'] > 0"
   ]
  },
  {
   "cell_type": "markdown",
   "metadata": {
    "collapsed": true
   },
   "source": [
    "## Filter the results and print out the data points I need"
   ]
  },
  {
   "cell_type": "code",
   "execution_count": 55,
   "metadata": {
    "collapsed": false
   },
   "outputs": [
    {
     "name": "stdout",
     "output_type": "stream",
     "text": [
      "This is how many successful escalations we received OUTSIDE business hours in the US\n",
      "\n",
      "zendeskButton       13808\n",
      "CONTACT_WEB_FORM     7905\n",
      "Name: activity_type, dtype: int64\n",
      "\n",
      "This is how many successful escalations we received INSIDE business hours in the US\n",
      "\n",
      "zendeskButton       2764\n",
      "CONTACT_WEB_FORM    1845\n",
      "Name: activity_type, dtype: int64\n"
     ]
    }
   ],
   "source": [
    "print 'This is how many successful escalations we received OUTSIDE business hours in the US\\n'\n",
    "print us_final_in[within_1hr_in & no_negative_in]['activity_type'].value_counts()\n",
    "print\n",
    "print 'This is how many successful escalations we received INSIDE business hours in the US\\n'\n",
    "print us_final_out[within_1hr & no_negative]['activity_type'].value_counts()"
   ]
  },
  {
   "cell_type": "markdown",
   "metadata": {},
   "source": [
    "## Concat all the results together, then do a value_count on the 'page' to see what page the advertiser was visiting when they asked for assistance"
   ]
  },
  {
   "cell_type": "code",
   "execution_count": 46,
   "metadata": {
    "collapsed": true
   },
   "outputs": [],
   "source": [
    "us_final = pd.concat([us_final_out, us_final_in])"
   ]
  },
  {
   "cell_type": "code",
   "execution_count": 61,
   "metadata": {
    "collapsed": false
   },
   "outputs": [
    {
     "name": "stdout",
     "output_type": "stream",
     "text": [
      "This is the top 5 pages that the advertisers were visiting at the time they clicked needHelp in the US\n"
     ]
    },
    {
     "data": {
      "text/plain": [
       "dashboard          8576\n",
       "jobs               5489\n",
       "candidates         2545\n",
       "candidates/view    2244\n",
       "edit-job           2108\n",
       "Name: page, dtype: int64"
      ]
     },
     "execution_count": 61,
     "metadata": {},
     "output_type": "execute_result"
    }
   ],
   "source": [
    "print 'This is the top 5 pages that the advertisers were visiting at the time they clicked needHelp in the US'\n",
    "\n",
    "us_final['page'].value_counts().head()"
   ]
  },
  {
   "cell_type": "code",
   "execution_count": 130,
   "metadata": {
    "collapsed": false
   },
   "outputs": [
    {
     "name": "stdout",
     "output_type": "stream",
     "text": [
      "The top 10 countries we have results for:\n"
     ]
    },
    {
     "data": {
      "text/plain": [
       "US    52374\n",
       "CA     7258\n",
       "GB     6254\n",
       "IN     4673\n",
       "JP     3317\n",
       "MX     2134\n",
       "NL     1959\n",
       "AU     1782\n",
       "BR     1435\n",
       "DE     1230\n",
       "Name: billing_country, dtype: int64"
      ]
     },
     "execution_count": 130,
     "metadata": {},
     "output_type": "execute_result"
    }
   ],
   "source": [
    "print 'The top 10 countries we have results for:'\n",
    "successful_contact['billing_country'].value_counts().head(10)"
   ]
  },
  {
   "cell_type": "markdown",
   "metadata": {},
   "source": [
    "## Running through a similar set of steps for the rest of the world population, with one key exception\n",
    "\n",
    "- I can't do any filtering on 'inside or outside business hours' because there is a ton of different timezones in the world and trying to factor them all in one place and then tie them back to EST would be way too resource intensive (the resource in this case is my brain and my precious, precious time)"
   ]
  },
  {
   "cell_type": "code",
   "execution_count": 52,
   "metadata": {
    "collapsed": false
   },
   "outputs": [],
   "source": [
    "successful_contact_world = successful_contact_world.drop_duplicates(['advertiser_id', 'Contact Date', 'Contact Time'], keep = 'last')"
   ]
  },
  {
   "cell_type": "code",
   "execution_count": 53,
   "metadata": {
    "collapsed": false
   },
   "outputs": [
    {
     "data": {
      "text/html": [
       "<div>\n",
       "<table border=\"1\" class=\"dataframe\">\n",
       "  <thead>\n",
       "    <tr style=\"text-align: right;\">\n",
       "      <th></th>\n",
       "      <th>advertiser_id</th>\n",
       "      <th>element</th>\n",
       "      <th>page</th>\n",
       "      <th>unixtime_x</th>\n",
       "      <th>_x</th>\n",
       "      <th>_advid</th>\n",
       "      <th>Need Help Date</th>\n",
       "      <th>Need Help Time</th>\n",
       "      <th>billing_country</th>\n",
       "      <th>locale</th>\n",
       "      <th>activity_type</th>\n",
       "      <th>unixtime_y</th>\n",
       "      <th>_y</th>\n",
       "      <th>Contact Date</th>\n",
       "      <th>Contact Time</th>\n",
       "    </tr>\n",
       "  </thead>\n",
       "  <tbody>\n",
       "    <tr>\n",
       "      <th>5</th>\n",
       "      <td>7373056</td>\n",
       "      <td>needHelpButton</td>\n",
       "      <td>post-job</td>\n",
       "      <td>1464776892</td>\n",
       "      <td>1</td>\n",
       "      <td>Four Seasons Marquees Limited</td>\n",
       "      <td>2016-06-01</td>\n",
       "      <td>06:28:12</td>\n",
       "      <td>GB</td>\n",
       "      <td>en</td>\n",
       "      <td>CONTACT_WEB_FORM</td>\n",
       "      <td>1464777853</td>\n",
       "      <td>1</td>\n",
       "      <td>2016-06-01</td>\n",
       "      <td>06:44:13</td>\n",
       "    </tr>\n",
       "  </tbody>\n",
       "</table>\n",
       "</div>"
      ],
      "text/plain": [
       "   advertiser_id         element      page  unixtime_x  _x  \\\n",
       "5        7373056  needHelpButton  post-job  1464776892   1   \n",
       "\n",
       "                          _advid Need Help Date Need Help Time  \\\n",
       "5  Four Seasons Marquees Limited     2016-06-01       06:28:12   \n",
       "\n",
       "  billing_country locale     activity_type  unixtime_y  _y Contact Date  \\\n",
       "5              GB     en  CONTACT_WEB_FORM  1464777853   1   2016-06-01   \n",
       "\n",
       "  Contact Time  \n",
       "5     06:44:13  "
      ]
     },
     "execution_count": 53,
     "metadata": {},
     "output_type": "execute_result"
    }
   ],
   "source": [
    "successful_contact_world.head(1)"
   ]
  },
  {
   "cell_type": "code",
   "execution_count": 54,
   "metadata": {
    "collapsed": false
   },
   "outputs": [],
   "source": [
    "within_1hr_world = successful_contact_world['unixtime_y'] - successful_contact_world['unixtime_x'] < 360\n",
    "no_negative_world = successful_contact_world['unixtime_y'] - successful_contact_world['unixtime_x'] > 0"
   ]
  },
  {
   "cell_type": "code",
   "execution_count": 57,
   "metadata": {
    "collapsed": false
   },
   "outputs": [
    {
     "name": "stdout",
     "output_type": "stream",
     "text": [
      "This is how many successful escalations we received in the Rest of the World OVERALL\n"
     ]
    },
    {
     "data": {
      "text/plain": [
       "zendeskButton       11691\n",
       "CONTACT_WEB_FORM     7755\n",
       "Name: activity_type, dtype: int64"
      ]
     },
     "execution_count": 57,
     "metadata": {},
     "output_type": "execute_result"
    }
   ],
   "source": [
    "print 'This is how many successful escalations we received in the Rest of the World OVERALL'\n",
    "\n",
    "successful_contact_world[within_1hr_world & no_negative_world]['activity_type'].value_counts()"
   ]
  },
  {
   "cell_type": "code",
   "execution_count": 62,
   "metadata": {
    "collapsed": false
   },
   "outputs": [
    {
     "name": "stdout",
     "output_type": "stream",
     "text": [
      "This is the top 5 pages that the advertisers were visiting at the time they clicked needHelp in the Rest of World\n"
     ]
    },
    {
     "data": {
      "text/plain": [
       "jobs         6442\n",
       "dashboard    4260\n",
       "POST_JOB     2779\n",
       "sponsor      2198\n",
       "jobs/view    1786\n",
       "Name: page, dtype: int64"
      ]
     },
     "execution_count": 62,
     "metadata": {},
     "output_type": "execute_result"
    }
   ],
   "source": [
    "print 'This is the top 5 pages that the advertisers were visiting at the time they clicked needHelp in the Rest of World'\n",
    "\n",
    "successful_contact_world['page'].value_counts().head()"
   ]
  },
  {
   "cell_type": "markdown",
   "metadata": {
    "collapsed": true
   },
   "source": [
    "## NOW I am going to do a similar set of steps to tie phone records to advertisers - this is going to be quite the journey, I hope you are ready Freddy"
   ]
  },
  {
   "cell_type": "markdown",
   "metadata": {},
   "source": [
    "- First step, I am running a PLUS call to get the company name and phone number for the advertisers that requested help\n",
    "\n",
    "\n",
    "- Yet another cool function that I learned along the way\n",
    "\n",
    "\n",
    "    Syntax is:\n",
    "        columns = [columns in the PLUS call I want to bring back]\n",
    "        new_df_name = plus.get_advertiser_cont(original_df[advertiser id].unique())[columns]\n",
    "        \n",
    "- What the PLUS call is doing is returning ONLY the two columns I set in the *columns* variable (company, phone)\n",
    "- For the unique list of advertisers from my original dataframe\n",
    "- And populate that data into a new df call *phone_numbers*"
   ]
  },
  {
   "cell_type": "code",
   "execution_count": 63,
   "metadata": {
    "collapsed": true
   },
   "outputs": [],
   "source": [
    "columns = ['company', 'phone']\n",
    "phone_numbers = plus.get_advertiser_cont(needhelp_advids[\"advid\"].unique())[columns]"
   ]
  },
  {
   "cell_type": "markdown",
   "metadata": {},
   "source": [
    "## Read in phone records that I pulled from a CSV file that I used for people who called via Sandcrawler and grab only the columns that I need\n",
    "\n",
    "\n",
    "    Syntax is:\n",
    "        df_name = pd.read_csv('filename.csv')[[columns that I want to use in the new df]]"
   ]
  },
  {
   "cell_type": "code",
   "execution_count": 64,
   "metadata": {
    "collapsed": false
   },
   "outputs": [
    {
     "data": {
      "text/html": [
       "<div>\n",
       "<table border=\"1\" class=\"dataframe\">\n",
       "  <thead>\n",
       "    <tr style=\"text-align: right;\">\n",
       "      <th></th>\n",
       "      <th>caller_number</th>\n",
       "      <th>caller_name</th>\n",
       "      <th>g_name</th>\n",
       "      <th>c_name</th>\n",
       "      <th>call_s</th>\n",
       "      <th>call_status</th>\n",
       "    </tr>\n",
       "  </thead>\n",
       "  <tbody>\n",
       "    <tr>\n",
       "      <th>0</th>\n",
       "      <td>207-386-5170</td>\n",
       "      <td>BATH         ME</td>\n",
       "      <td>Sandcrawler</td>\n",
       "      <td>bwap: en_US</td>\n",
       "      <td>2016-09-08 09:53:10</td>\n",
       "      <td>ANSWER</td>\n",
       "    </tr>\n",
       "    <tr>\n",
       "      <th>1</th>\n",
       "      <td>301-670-2823</td>\n",
       "      <td>Doyle Const</td>\n",
       "      <td>Sandcrawler</td>\n",
       "      <td>dradiswebapp: en_US</td>\n",
       "      <td>2016-09-08 09:50:42</td>\n",
       "      <td>ANSWER</td>\n",
       "    </tr>\n",
       "    <tr>\n",
       "      <th>2</th>\n",
       "      <td>847-972-5066</td>\n",
       "      <td>_ Castwell Prod</td>\n",
       "      <td>Sandcrawler</td>\n",
       "      <td>dradiswebapp: en_US</td>\n",
       "      <td>2016-09-08 09:46:00</td>\n",
       "      <td>ANSWER</td>\n",
       "    </tr>\n",
       "    <tr>\n",
       "      <th>3</th>\n",
       "      <td>845-793-1287</td>\n",
       "      <td>WIRELESS CALLER</td>\n",
       "      <td>Sandcrawler</td>\n",
       "      <td>dradiswebapp: en_US</td>\n",
       "      <td>2016-09-08 09:44:12</td>\n",
       "      <td>ANSWER</td>\n",
       "    </tr>\n",
       "    <tr>\n",
       "      <th>4</th>\n",
       "      <td>845-793-1287</td>\n",
       "      <td>WIRELESS CALLER</td>\n",
       "      <td>Sandcrawler</td>\n",
       "      <td>dradiswebapp: en_US</td>\n",
       "      <td>2016-09-08 09:43:08</td>\n",
       "      <td>ANSWER</td>\n",
       "    </tr>\n",
       "  </tbody>\n",
       "</table>\n",
       "</div>"
      ],
      "text/plain": [
       "  caller_number      caller_name       g_name               c_name  \\\n",
       "0  207-386-5170  BATH         ME  Sandcrawler          bwap: en_US   \n",
       "1  301-670-2823      Doyle Const  Sandcrawler  dradiswebapp: en_US   \n",
       "2  847-972-5066  _ Castwell Prod  Sandcrawler  dradiswebapp: en_US   \n",
       "3  845-793-1287  WIRELESS CALLER  Sandcrawler  dradiswebapp: en_US   \n",
       "4  845-793-1287  WIRELESS CALLER  Sandcrawler  dradiswebapp: en_US   \n",
       "\n",
       "                call_s call_status  \n",
       "0  2016-09-08 09:53:10      ANSWER  \n",
       "1  2016-09-08 09:50:42      ANSWER  \n",
       "2  2016-09-08 09:46:00      ANSWER  \n",
       "3  2016-09-08 09:44:12      ANSWER  \n",
       "4  2016-09-08 09:43:08      ANSWER  "
      ]
     },
     "execution_count": 64,
     "metadata": {},
     "output_type": "execute_result"
    }
   ],
   "source": [
    "phone_record = pd.read_csv(\"calls_list.csv\")[[\"caller_number\", \"caller_name\", \"g_name\", \"c_name\",\n",
    "                                             \"call_s\", \"call_status\"]]\n",
    "phone_record.head()"
   ]
  },
  {
   "cell_type": "markdown",
   "metadata": {},
   "source": [
    "## Merge the advertiser phone data from the PLUS call with the original df and then filter out any blank phone numbers - since I won't be able to find those in the phone_record df"
   ]
  },
  {
   "cell_type": "code",
   "execution_count": 65,
   "metadata": {
    "collapsed": false
   },
   "outputs": [],
   "source": [
    "countries_phone = no_blanks_countries.merge(phone_numbers, how = \"left\", left_on = \"advertiser_id\", right_index = True)\n",
    "countries_phone_two = countries_phone[countries_phone[\"phone\"] != \"\"]"
   ]
  },
  {
   "cell_type": "code",
   "execution_count": 66,
   "metadata": {
    "collapsed": false
   },
   "outputs": [
    {
     "name": "stdout",
     "output_type": "stream",
     "text": [
      "183029\n",
      "\n",
      "178139\n"
     ]
    }
   ],
   "source": [
    "print len(countries_phone)\n",
    "print \n",
    "print len(countries_phone_two)"
   ]
  },
  {
   "cell_type": "markdown",
   "metadata": {},
   "source": [
    "## Create some new columns for the phone records df to tie it back to my original dataset\n",
    "\n",
    "- Welp, unfortunately for me, the phone records df/csv doesn't have a unixtime stamp in it, so I had to create a function to convert a 'string datetime' object into a 'unixtime' object\n",
    "\n",
    "\n",
    "    Syntax is:\n",
    "        function_name = lambda x: int(time.mktime(dt.datetime.strptime(x, '%Y-%m-%d %H:%M:%S').timetuple()))\n",
    "        \n",
    "- Essentially this function is saying for every row in the df, create a unixtime stamp FROM this string object\n",
    "\n",
    "    - I have to give it the exact number of elements, as they appear in the phone records df, so the format is YEAR-MONTH-DAY 24HOUR-MINUTE-SECOND\n",
    "\n",
    "\n",
    "- I then create a new column labled 'Call Log Unixtime' (because I'm so creative) and apply the new_date function to the \"call_s\" column in the phone records df - so I can use this to do my time delta later on"
   ]
  },
  {
   "cell_type": "code",
   "execution_count": 67,
   "metadata": {
    "collapsed": true
   },
   "outputs": [],
   "source": [
    "phone_record['activity_type'] = 'PHONE CALL'\n",
    "new_date = lambda x: int(time.mktime(dt.datetime.strptime(x, \"%Y-%m-%d %H:%M:%S\").timetuple()))\n",
    "phone_record[\"Call Log Unixtime\"] = phone_record[\"call_s\"].apply(new_date)"
   ]
  },
  {
   "cell_type": "markdown",
   "metadata": {},
   "source": [
    "## I need to strip all of the special characters from the phone number information for BOTH dfs I will be merging on\n",
    "\n",
    "\n",
    "- I just reassign the values to themselves since I do not have to create a separate column\n",
    "\n",
    "\n",
    "    Syntax is:\n",
    "        df[column] = df[column].str.replace(r'[^0-9]+', '')\n",
    "        \n",
    "- What this is essentially saying is, for any NON-alphanumeric (letter or number) in the phone number fields for each of my dfs, strip those out and instead make them blank - this was a PAIN in the neck to figure out"
   ]
  },
  {
   "cell_type": "code",
   "execution_count": 68,
   "metadata": {
    "collapsed": false
   },
   "outputs": [
    {
     "name": "stderr",
     "output_type": "stream",
     "text": [
      "/Users/dmoncada/anaconda/lib/python2.7/site-packages/ipykernel/__main__.py:2: SettingWithCopyWarning: \n",
      "A value is trying to be set on a copy of a slice from a DataFrame.\n",
      "Try using .loc[row_indexer,col_indexer] = value instead\n",
      "\n",
      "See the caveats in the documentation: http://pandas.pydata.org/pandas-docs/stable/indexing.html#indexing-view-versus-copy\n",
      "  from ipykernel import kernelapp as app\n"
     ]
    }
   ],
   "source": [
    "phone_record[\"caller_number\"] = phone_record[\"caller_number\"].str.replace(r'[^0-9]+', '')\n",
    "countries_phone_two[\"phone\"] = countries_phone_two[\"phone\"].str.replace(r'[^0-9]+', '')"
   ]
  },
  {
   "cell_type": "code",
   "execution_count": 74,
   "metadata": {
    "collapsed": false
   },
   "outputs": [
    {
     "data": {
      "text/html": [
       "<div>\n",
       "<table border=\"1\" class=\"dataframe\">\n",
       "  <thead>\n",
       "    <tr style=\"text-align: right;\">\n",
       "      <th></th>\n",
       "      <th>caller_number</th>\n",
       "      <th>caller_name</th>\n",
       "      <th>g_name</th>\n",
       "      <th>c_name</th>\n",
       "      <th>call_s</th>\n",
       "      <th>call_status</th>\n",
       "      <th>activity_type</th>\n",
       "      <th>Call Log Unixtime</th>\n",
       "    </tr>\n",
       "  </thead>\n",
       "  <tbody>\n",
       "    <tr>\n",
       "      <th>0</th>\n",
       "      <td>2073865170</td>\n",
       "      <td>BATH         ME</td>\n",
       "      <td>Sandcrawler</td>\n",
       "      <td>bwap: en_US</td>\n",
       "      <td>2016-09-08 09:53:10</td>\n",
       "      <td>ANSWER</td>\n",
       "      <td>PHONE CALL</td>\n",
       "      <td>1473342790</td>\n",
       "    </tr>\n",
       "  </tbody>\n",
       "</table>\n",
       "</div>"
      ],
      "text/plain": [
       "  caller_number      caller_name       g_name       c_name  \\\n",
       "0    2073865170  BATH         ME  Sandcrawler  bwap: en_US   \n",
       "\n",
       "                call_s call_status activity_type  Call Log Unixtime  \n",
       "0  2016-09-08 09:53:10      ANSWER    PHONE CALL         1473342790  "
      ]
     },
     "execution_count": 74,
     "metadata": {},
     "output_type": "execute_result"
    }
   ],
   "source": [
    "phone_record.head(1)"
   ]
  },
  {
   "cell_type": "code",
   "execution_count": 75,
   "metadata": {
    "collapsed": false
   },
   "outputs": [
    {
     "data": {
      "text/html": [
       "<div>\n",
       "<table border=\"1\" class=\"dataframe\">\n",
       "  <thead>\n",
       "    <tr style=\"text-align: right;\">\n",
       "      <th></th>\n",
       "      <th>advertiser_id</th>\n",
       "      <th>element</th>\n",
       "      <th>page</th>\n",
       "      <th>unixtime</th>\n",
       "      <th></th>\n",
       "      <th>_advid</th>\n",
       "      <th>Need Help Date</th>\n",
       "      <th>Need Help Time</th>\n",
       "      <th>billing_country</th>\n",
       "      <th>locale</th>\n",
       "      <th>company</th>\n",
       "      <th>phone</th>\n",
       "    </tr>\n",
       "  </thead>\n",
       "  <tbody>\n",
       "    <tr>\n",
       "      <th>0</th>\n",
       "      <td>7450950</td>\n",
       "      <td>needHelpButton</td>\n",
       "      <td>ADDITIONAL_INFORMATION</td>\n",
       "      <td>1464761009</td>\n",
       "      <td>1</td>\n",
       "      <td>Career Hunter Recruitment Solutions</td>\n",
       "      <td>2016-06-01</td>\n",
       "      <td>02:03:29</td>\n",
       "      <td>US</td>\n",
       "      <td>en</td>\n",
       "      <td>Career Hunter Recruitment Solutions</td>\n",
       "      <td>09951212903</td>\n",
       "    </tr>\n",
       "  </tbody>\n",
       "</table>\n",
       "</div>"
      ],
      "text/plain": [
       "   advertiser_id         element                    page    unixtime     \\\n",
       "0        7450950  needHelpButton  ADDITIONAL_INFORMATION  1464761009  1   \n",
       "\n",
       "                                _advid Need Help Date Need Help Time  \\\n",
       "0  Career Hunter Recruitment Solutions     2016-06-01       02:03:29   \n",
       "\n",
       "  billing_country locale                              company        phone  \n",
       "0              US     en  Career Hunter Recruitment Solutions  09951212903  "
      ]
     },
     "execution_count": 75,
     "metadata": {},
     "output_type": "execute_result"
    }
   ],
   "source": [
    "countries_phone_two.head(1)"
   ]
  },
  {
   "cell_type": "markdown",
   "metadata": {},
   "source": [
    "## Very similar to the data munging we had to do above, I need to create Date and Time fields based on the unixtimes to be able to merge my phone records df to the advertisers who I was able to obtain a phone number via PLUS"
   ]
  },
  {
   "cell_type": "code",
   "execution_count": 77,
   "metadata": {
    "collapsed": false
   },
   "outputs": [],
   "source": [
    "phone_record[\"Phone Date\"] = [dt.datetime.fromtimestamp(x).strftime('%Y-%m-%d') for x in phone_record['Call Log Unixtime']]\n",
    "phone_record[\"Phone Time\"] = [dt.datetime.fromtimestamp(x).strftime('%H:%M:%S') for x in phone_record['Call Log Unixtime']]"
   ]
  },
  {
   "cell_type": "code",
   "execution_count": 78,
   "metadata": {
    "collapsed": false
   },
   "outputs": [],
   "source": [
    "successful_phone = countries_phone_two.merge(phone_record, how = 'inner', left_on = ['phone', 'Need Help Date'], \n",
    "                          right_on = ['caller_number', 'Phone Date'])"
   ]
  },
  {
   "cell_type": "markdown",
   "metadata": {},
   "source": [
    "## Again, getting fancy with conditions and creating two different dfs based on US and non-US based advertisers"
   ]
  },
  {
   "cell_type": "code",
   "execution_count": 79,
   "metadata": {
    "collapsed": false
   },
   "outputs": [],
   "source": [
    "phone_usa = successful_phone['billing_country'] == 'US'\n",
    "phone_world = successful_phone['billing_country'] != 'US'"
   ]
  },
  {
   "cell_type": "code",
   "execution_count": 80,
   "metadata": {
    "collapsed": true
   },
   "outputs": [],
   "source": [
    "phone_calls_usa = successful_phone[phone_usa]\n",
    "phone_calls_world = successful_phone[phone_world]"
   ]
  },
  {
   "cell_type": "code",
   "execution_count": 81,
   "metadata": {
    "collapsed": false
   },
   "outputs": [
    {
     "name": "stdout",
     "output_type": "stream",
     "text": [
      "17507\n",
      "15640\n",
      "1867\n"
     ]
    }
   ],
   "source": [
    "print len(successful_phone)\n",
    "print len(phone_calls_usa)\n",
    "print len(phone_calls_world)"
   ]
  },
  {
   "cell_type": "code",
   "execution_count": 100,
   "metadata": {
    "collapsed": false
   },
   "outputs": [
    {
     "data": {
      "text/html": [
       "<div>\n",
       "<table border=\"1\" class=\"dataframe\">\n",
       "  <thead>\n",
       "    <tr style=\"text-align: right;\">\n",
       "      <th></th>\n",
       "      <th>advertiser_id</th>\n",
       "      <th>element</th>\n",
       "      <th>page</th>\n",
       "      <th>unixtime</th>\n",
       "      <th></th>\n",
       "      <th>_advid</th>\n",
       "      <th>Need Help Date</th>\n",
       "      <th>Need Help Time</th>\n",
       "      <th>billing_country</th>\n",
       "      <th>locale</th>\n",
       "      <th>...</th>\n",
       "      <th>caller_number</th>\n",
       "      <th>caller_name</th>\n",
       "      <th>g_name</th>\n",
       "      <th>c_name</th>\n",
       "      <th>call_s</th>\n",
       "      <th>call_status</th>\n",
       "      <th>activity_type</th>\n",
       "      <th>Call Log Unixtime</th>\n",
       "      <th>Phone Date</th>\n",
       "      <th>Phone Time</th>\n",
       "    </tr>\n",
       "  </thead>\n",
       "  <tbody>\n",
       "    <tr>\n",
       "      <th>0</th>\n",
       "      <td>3429159</td>\n",
       "      <td>needHelpButton</td>\n",
       "      <td>edit-job</td>\n",
       "      <td>1464763587</td>\n",
       "      <td>1</td>\n",
       "      <td>Bandmerch LLC</td>\n",
       "      <td>2016-06-01</td>\n",
       "      <td>02:46:27</td>\n",
       "      <td>US</td>\n",
       "      <td>en</td>\n",
       "      <td>...</td>\n",
       "      <td>3238987157</td>\n",
       "      <td>Carmellini Eliz</td>\n",
       "      <td>Sandcrawler</td>\n",
       "      <td>dradiswebapp: en_US</td>\n",
       "      <td>2016-06-01 14:07:08</td>\n",
       "      <td>ANSWER</td>\n",
       "      <td>PHONE CALL</td>\n",
       "      <td>1464804428</td>\n",
       "      <td>2016-06-01</td>\n",
       "      <td>14:07:08</td>\n",
       "    </tr>\n",
       "  </tbody>\n",
       "</table>\n",
       "<p>1 rows × 22 columns</p>\n",
       "</div>"
      ],
      "text/plain": [
       "   advertiser_id         element      page    unixtime            _advid  \\\n",
       "0        3429159  needHelpButton  edit-job  1464763587  1  Bandmerch LLC   \n",
       "\n",
       "  Need Help Date Need Help Time billing_country locale     ...      \\\n",
       "0     2016-06-01       02:46:27              US     en     ...       \n",
       "\n",
       "  caller_number      caller_name       g_name               c_name  \\\n",
       "0    3238987157  Carmellini Eliz  Sandcrawler  dradiswebapp: en_US   \n",
       "\n",
       "                call_s call_status activity_type Call Log Unixtime  \\\n",
       "0  2016-06-01 14:07:08      ANSWER    PHONE CALL        1464804428   \n",
       "\n",
       "   Phone Date  Phone Time  \n",
       "0  2016-06-01    14:07:08  \n",
       "\n",
       "[1 rows x 22 columns]"
      ]
     },
     "execution_count": 100,
     "metadata": {},
     "output_type": "execute_result"
    }
   ],
   "source": [
    "phone_calls_usa.head(1)"
   ]
  },
  {
   "cell_type": "code",
   "execution_count": 90,
   "metadata": {
    "collapsed": true
   },
   "outputs": [],
   "source": []
  },
  {
   "cell_type": "markdown",
   "metadata": {},
   "source": [
    "## Again, similar steps that I did above (and in hindsight, I could rewrite the notebook to do it all in one shot) but I needed to separate the phone data because the phone records were such a mess and trying to tie it to phone numbers via PLUS meant I didn't want to add complexity - even though this comment is probably more complex than anything I've done in the notebook\n",
    "\n",
    "- Create a 'Time Difference' column based on when the call was logged vs when they actually clicked on 'needHelp'\n",
    "\n",
    "- Create two conditions, one based on being within the hour, the other being the call being logged AFTER they clicked on 'needHelp'\n",
    "\n",
    "- Reassign the df back to itself based on the two conditions\n",
    "    - I don't recommend doing this the first time around when you are creating a dataset - it's really easy to screw up and have to re-run through a lot of steps from above to get back to square one... I like using .copy()\n",
    "    \n",
    "    \n",
    "    Syntax is:\n",
    "        df_test = df.copy()"
   ]
  },
  {
   "cell_type": "code",
   "execution_count": 101,
   "metadata": {
    "collapsed": false
   },
   "outputs": [
    {
     "name": "stderr",
     "output_type": "stream",
     "text": [
      "/Users/dmoncada/anaconda/lib/python2.7/site-packages/ipykernel/__main__.py:1: SettingWithCopyWarning: \n",
      "A value is trying to be set on a copy of a slice from a DataFrame.\n",
      "Try using .loc[row_indexer,col_indexer] = value instead\n",
      "\n",
      "See the caveats in the documentation: http://pandas.pydata.org/pandas-docs/stable/indexing.html#indexing-view-versus-copy\n",
      "  if __name__ == '__main__':\n"
     ]
    }
   ],
   "source": [
    "phone_calls_usa['Time Diff'] = phone_calls_usa['Call Log Unixtime'] - phone_calls_usa['unixtime']"
   ]
  },
  {
   "cell_type": "code",
   "execution_count": 102,
   "metadata": {
    "collapsed": false
   },
   "outputs": [],
   "source": [
    "no_neg_us = phone_calls_usa['Time Diff'] > 0\n",
    "less_hour_us = phone_calls_usa['Time Diff'] < 360"
   ]
  },
  {
   "cell_type": "code",
   "execution_count": 103,
   "metadata": {
    "collapsed": false
   },
   "outputs": [],
   "source": [
    "phone_calls_usa = phone_calls_usa[less_hour & no_neg]"
   ]
  },
  {
   "cell_type": "markdown",
   "metadata": {
    "collapsed": true
   },
   "source": [
    "## Create another section of conditions for being between business hours - then split the df into two to get the values that I need"
   ]
  },
  {
   "cell_type": "code",
   "execution_count": 104,
   "metadata": {
    "collapsed": false
   },
   "outputs": [],
   "source": [
    "calls_eight_am = phone_calls_usa['Need Help Time'] < '08:00:00'\n",
    "calls_eight_pm = phone_calls_usa['Need Help Time'] > '20:00:00'\n",
    "calls_off_hours_usa = phone_calls_usa[calls_eight_am | calls_eight_pm]\n",
    "calls_business_hours_usa = phone_calls_usa[~calls_eight_pm & ~calls_eight_am]"
   ]
  },
  {
   "cell_type": "code",
   "execution_count": 114,
   "metadata": {
    "collapsed": false
   },
   "outputs": [
    {
     "name": "stdout",
     "output_type": "stream",
     "text": [
      "This is how many successful phone calls we received within 1HR of an advertiser clicking \"needHelp\" in the US during business hours: 10904\n",
      "\n",
      "This is how many successful phone calls we received within 1HR of an advertiser clicking \"needHelp\" in the US OUTSIDE business hours: 6\n"
     ]
    }
   ],
   "source": [
    "print '''This is how many successful phone calls we received within 1HR of an advertiser clicking \"needHelp\" in the US during business hours: {}'''''.format(len(calls_business_hours_usa))\n",
    "print\n",
    "print '''This is how many successful phone calls we received within 1HR of an advertiser clicking \"needHelp\" in the US OUTSIDE business hours: {}'''''.format(len(calls_off_hours_usa))"
   ]
  },
  {
   "cell_type": "code",
   "execution_count": 116,
   "metadata": {
    "collapsed": false
   },
   "outputs": [
    {
     "name": "stderr",
     "output_type": "stream",
     "text": [
      "/Users/dmoncada/anaconda/lib/python2.7/site-packages/ipykernel/__main__.py:1: SettingWithCopyWarning: \n",
      "A value is trying to be set on a copy of a slice from a DataFrame.\n",
      "Try using .loc[row_indexer,col_indexer] = value instead\n",
      "\n",
      "See the caveats in the documentation: http://pandas.pydata.org/pandas-docs/stable/indexing.html#indexing-view-versus-copy\n",
      "  if __name__ == '__main__':\n"
     ]
    }
   ],
   "source": [
    "phone_calls_world['Time Diff'] = phone_calls_world['Call Log Unixtime'] - phone_calls_world['unixtime']\n",
    "no_neg = phone_calls_world['Time Diff'] > 0\n",
    "less_hour = phone_calls_world['Time Diff'] < 360\n",
    "phone_calls_world = phone_calls_world[less_hour & no_neg]"
   ]
  },
  {
   "cell_type": "code",
   "execution_count": 120,
   "metadata": {
    "collapsed": false
   },
   "outputs": [
    {
     "name": "stdout",
     "output_type": "stream",
     "text": [
      "\n",
      "This is how many successful phone calls we received within 1HR of an advertiser clicking \"needHelp\" in the Rest of the World: 1212.\n",
      "\n"
     ]
    }
   ],
   "source": [
    "print\n",
    "print 'This is how many successful phone calls we received within 1HR of an advertiser clicking \"needHelp\" in the Rest of the World: {}.'.format(len(phone_calls_world))\n",
    "print"
   ]
  },
  {
   "cell_type": "code",
   "execution_count": 129,
   "metadata": {
    "collapsed": false
   },
   "outputs": [
    {
     "name": "stdout",
     "output_type": "stream",
     "text": [
      "This is the top 5 pages that the advertisers were visiting when they called us in the US:\n",
      "\n",
      "dashboard     2520\n",
      "jobs          1985\n",
      "SPONSOR        923\n",
      "candidates     729\n",
      "sponsor        700\n",
      "Name: page, dtype: int64\n",
      "\n",
      "This is the top 5 pages that the advertisers were visiting when they called us in the Rest of the World:\n",
      "\n",
      "jobs         289\n",
      "dashboard    281\n",
      "jobs/view    131\n",
      "sponsor      110\n",
      "edit-job      87\n",
      "Name: page, dtype: int64\n"
     ]
    }
   ],
   "source": [
    "print 'This is the top 5 pages that the advertisers were visiting when they called us in the US:'\n",
    "print\n",
    "print phone_calls_usa['page'].value_counts().head()\n",
    "print\n",
    "print 'This is the top 5 pages that the advertisers were visiting when they called us in the Rest of the World:'\n",
    "print\n",
    "print phone_calls_world['page'].value_counts().head()"
   ]
  },
  {
   "cell_type": "code",
   "execution_count": null,
   "metadata": {
    "collapsed": true
   },
   "outputs": [],
   "source": []
  },
  {
   "cell_type": "code",
   "execution_count": null,
   "metadata": {
    "collapsed": true
   },
   "outputs": [],
   "source": [
    "## THE VERY FIRST NOTES THAT I TOOK FOR THIS NOTEBOOK - THIS IS HOW I STARTED THE NOTEBOOK\n",
    "## BLANK needs to be stripped out of the merged dataframe.  These advertisers don't have phone numbers\n",
    "\n",
    "## create a date field from the unixtime in the needhelp df\n",
    "## pull in the CSV that contains the phone records\n",
    "## create a unixttime from the date field in the phone records\n",
    "## strip the blank spaces, +, -, periods, ()\n",
    "## create two datasets\n",
    "#--- chat time > call time\n",
    "#--- call time > chat time\n",
    "# subtract unixtime from unixtime to get at this"
   ]
  }
 ],
 "metadata": {
  "anaconda-cloud": {},
  "kernelspec": {
   "display_name": "Python [Root]",
   "language": "python",
   "name": "Python [Root]"
  },
  "language_info": {
   "codemirror_mode": {
    "name": "ipython",
    "version": 2
   },
   "file_extension": ".py",
   "mimetype": "text/x-python",
   "name": "python",
   "nbconvert_exporter": "python",
   "pygments_lexer": "ipython2",
   "version": "2.7.12"
  }
 },
 "nbformat": 4,
 "nbformat_minor": 0
}
