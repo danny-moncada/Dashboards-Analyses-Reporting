{
 "cells": [
  {
   "cell_type": "raw",
   "metadata": {},
   "source": [
    "# Results: \n",
    "\n",
    "https://docs.google.com/spreadsheets/d/1jixei7I14uKpDqzNh8-tQUbacMtOMi4RQSaLnbRe0aI/edit?ts=575b0180#gid=643914102"
   ]
  },
  {
   "cell_type": "markdown",
   "metadata": {},
   "source": [
    "# Prerequisites"
   ]
  },
  {
   "cell_type": "code",
   "execution_count": 1,
   "metadata": {
    "collapsed": false
   },
   "outputs": [],
   "source": [
    "# Import Ishbook module -\n",
    "# The three .py files must be stored in same folder as this file\n",
    "%reload_ext ishbook\n",
    "\n",
    "# Import Indeed's \"plus\" library to return information for data input\n",
    "# Import \"pandas\" data analysis library and assign alias of pd\n",
    "# Import Python's built-in \"datetime\" module for date manipulation\n",
    "import plus\n",
    "import pandas as pd   \n",
    "import datetime as dt "
   ]
  },
  {
   "cell_type": "markdown",
   "metadata": {},
   "source": [
    "# Create List of Sales Rep IDs"
   ]
  },
  {
   "cell_type": "code",
   "execution_count": 71,
   "metadata": {
    "collapsed": false
   },
   "outputs": [
    {
     "data": {
      "text/plain": [
       "'9, 12, 21, 31, 42, 47, 52, 66, 75, 75, 86, 89, 101, 102, 117, 122, 135, 137'"
      ]
     },
     "execution_count": 71,
     "metadata": {},
     "output_type": "execute_result"
    }
   ],
   "source": [
    "sales_roster = [9, 12, 21, 31, 42, 47, 52, 66, 75, 75, 86, 89, 101, 102, 117,\n",
    "    122, 135, 137, 138, 148, 149, 165, 166, 171, 179, 189, 191, 192, 197,\n",
    "    213, 214, 221, 224, 226, 232, 237, 240, 245, 248, 249, 250, 251, 251,\n",
    "    252, 253, 261, 262, 273, 274, 275, 276, 279, 280, 292, 294, 302, 303,\n",
    "    307, 308, 311, 312, 313, 322, 323, 324, 339, 347, 348, 349, 350, 354,\n",
    "    355, 356, 358, 361, 362, 363, 364, 366, 367, 369, 373, 374, 375, 376,\n",
    "    377, 398, 412, 413, 414, 415, 419, 423, 424, 425, 426, 430, 431, 432,\n",
    "    433, 434, 435, 436, 437, 438, 439, 449, 450, 451, 452, 453, 454, 471,\n",
    "    472, 485, 493, 494, 503, 504, 505, 506, 507, 515, 518, 520, 521, 522,\n",
    "    527, 533, 534, 540, 542, 547, 548, 549, 550, 551, 562, 563, 564, 565,\n",
    "    572, 573, 574, 575, 580, 581, 582, 585, 587, 591, 594, 595, 596, 599,\n",
    "    600, 601, 602, 603, 604, 605, 607, 608, 609, 610, 611, 612, 613, 614,\n",
    "    615, 625, 632, 633, 634, 635, 636, 639, 641, 642, 642, 643, 644, 645,\n",
    "    647, 650, 651, 658, 660, 661, 662, 663, 664, 665, 666, 669, 673, 674,\n",
    "    681, 685, 686, 688, 689, 693, 698, 699, 701, 703, 713, 714, 716, 717,\n",
    "    730, 731, 732, 733, 734, 735, 736, 737, 738, 753, 755, 756, 757, 758,\n",
    "    759, 760, 767, 773, 775, 776, 777, 784, 785, 786, 795, 797, 798, 802,\n",
    "    825, 831, 832, 833, 842, 844, 845, 846, 847, 849, 864, 865, 866, 867,\n",
    "    868, 869, 870, 871, 872, 873, 874, 876, 888, 889, 890, 891, 892, 894,\n",
    "    895, 897, 898, 901, 907, 908, 909, 910, 914, 915, 916, 917, 920, 924,\n",
    "    925, 926, 933, 934, 935, 936, 937, 938, 939, 947, 949, 950, 952, 956,\n",
    "    957, 960, 961, 962, 963, 964, 965, 966, 967, 968, 969, 971, 972, 973,\n",
    "    974, 975, 976, 982, 983, 986, 988, 993, 994, 995, 996, 999, 1000, 1001,\n",
    "    1008, 1009, 1029, 1030, 1031, 1032, 1033, 1034, 1035, 1036, 1043, 1044,\n",
    "    1045, 1046, 1048, 1049, 1058, 1067, 1068, 1069, 1070, 1071, 1080, 1081,\n",
    "    1082, 1083, 1084, 1085, 1086, 1087, 1088, 1089, 1090, 1091, 1092, 1097,\n",
    "    1098, 1099, 1100, 1101, 1105, 1106, 1107, 1108, 1109, 1111, 1112, 1115,\n",
    "    1123, 1124, 1125, 1128, 1131, 1133, 1134, 1135, 1136, 1137, 1138, 1139,\n",
    "    1144, 1145, 1152, 1153, 1170, 1172, 1173, 1175, 1178, 1180, 1187, 1190,\n",
    "    1191, 1192, 1193, 1194, 1195, 1196, 1200, 1208, 1209, 1210, 1211, 1212,\n",
    "    1213, 1214, 1215, 1216, 1217, 1221, 1222, 1222, 1224, 1225, 1228, 1229,\n",
    "    1230, 1231, 1232, 1234, 1246, 1247, 1248, 1249, 1251, 1252, 1253, 1254,\n",
    "    1255, 1257, 1263, 1267, 1268, 1269, 1270, 1271, 1273, 1274, 1275, 1276,\n",
    "    1277, 1278, 1279, 1282, 1285, 1287, 1290, 1291, 1294, 1299, 1300, 1302,\n",
    "    1303, 1305, 1306, 1309, 1310, 1311, 1312, 1313, 1314, 1324, 1325, 1326,\n",
    "    1329, 1330, 1331, 1332, 1335, 1355, 1361, 1364, 1366, 1369, 1373, 1374,\n",
    "    1376, 1378, 1382, 1385, 1387, 1390, 1392, 1394, 1397, 1400, 1403, 1408,\n",
    "    1409, 1410, 1412, 1419, 1427, 1429, 1430, 1431, 1439, 1440, 1441, 1442,\n",
    "    1446, 1447, 1448, 1451, 1452, 1454, 1455, 1456, 1459, 1462, 1463, 1465,\n",
    "    1467, 1470, 1474, 1475, 1476, 1477, 1478, 1480, 1481, 1483, 1484, 1485,\n",
    "    1486, 1487, 1491, 1494, 1496, 1498, 1504, 1505, 1509, 1516, 1518, 1522,\n",
    "    1525, 1526, 1527, 1528, 1530, 1531, 1534, 1535, 1535, 1536, 1537, 1538,\n",
    "    1539, 1541, 1544, 1545, 1546, 1547, 1549, 1550, 1551, 1552, 1553, 1554,\n",
    "    1556, 1557, 1559, 1560, 1561, 1562, 1563, 1569, 1570, 1571, 1573, 1577,\n",
    "    1578, 1579, 1581, 1583, 1584, 1585, 1586, 1587, 1588, 1589, 1599, 1605,\n",
    "    1606, 1610, 1612, 1616, 1617, 1617, 1619, 1620, 1621, 1624, 1625, 1626,\n",
    "    1627, 1631, 1637, 1642, 1645, 1646, 1647, 1648, 1649, 1650, 1651, 1652,\n",
    "    1653, 1654, 1655, 1658, 1662, 1664, 1665, 1666, 1667, 1669, 1670, 1671,\n",
    "    1674, 1675, 1678, 1680, 1691, 1694, 1695, 1696, 1698, 1699, 1704, 1705,\n",
    "    1708, 1712, 1714, 1716, 1720, 1721, 1726, 1728, 1730, 1732, 1736, 1737,\n",
    "    1738, 1741, 1746, 1747, 1748, 1750, 1753, 1754, 1755, 1756, 1758, 1759,\n",
    "    1762, 1764, 1766, 1769, 1773, 1778, 1792, 1794, 1796, 1799, 1805, 1811,\n",
    "    1821, 1826, 1832, 1833, 1834, 1836, 1837, 1839, 1840, 1841, 1842, 1849,\n",
    "    1849, 1855, 1857, 1858, 1859, 1860, 1863, 1864, 1865, 1868, 1876, 1878,\n",
    "    1879, 1880, 1882, 1883, 1885, 1887, 1888, 1889, 1890, 1895, 1901, 1903,\n",
    "    1904, 1905, 1906, 1907, 1909, 1910, 1917, 1919, 1920, 1923, 1925, 1930,\n",
    "    1934, 1936, 1937, 1939, 1940, 1942, 1944, 1945, 1949, 1951, 1954, 1959,\n",
    "    1961, 1962, 1963, 1964, 1974, 1982, 1987, 1989, 1990, 1991, 1993, 1994,\n",
    "    1998, 2004, 2005, 2007, 2008, 2009, 2010, 2015, 2038, 2042, 2043, 2044,\n",
    "    2073, 2084, 2090, 2096, 2097, 2098, 2099, 2108, 2109, 2117, 2131, 2134,\n",
    "    2146, 2147, 2148, 2151, 2152, 2153, 2154, 2155, 2161, 2162, 2163, 2165,\n",
    "    2166, 2167, 2168, 2175, 2176, 2178, 2189, 2218, 2219, 2225, 2226, 2227,\n",
    "    2229, 2230, 2231, 2232, 2233, 2234, 2235, 2236, 2237, 2238, 2239, 2241,\n",
    "    2242, 2244, 2251, 2252, 2253, 2254, 2257, 2259, 2261, 2262, 2263, 2265,\n",
    "    2266, 2267, 2270, 2271, 2273, 2275, 2276, 2277, 2285, 2292, 2300, 2305,\n",
    "    2307, 2310, 2311, 2312, 2316, 2317, 2318, 2319, 2321, 2322, 2323, 2336,\n",
    "    2343, 2344, 2346, 2347, 2348, 2350, 2351, 2352, 2353, 2355, 2370, 2371,\n",
    "    2372, 2374, 2377, 2380, 2381, 2382, 2383, 2384, 2385, 2390, 2392, 2393,\n",
    "    2412, 2413, 2416, 2418, 2419, 2424, 2434, 2435, 2439, 2440, 2443, 2444,\n",
    "    2446, 2449, 2457, 2468, 2469, 2470, 2472, 2473, 2474, 2475, 2476, 2477,\n",
    "    2481, 2482, 2483, 2484, 2491, 2497, 2523, 2527, 2528, 2530, 2532, 2533,\n",
    "    2534, 2535, 2536, 2537, 2538, 2540, 2541, 2548, 2549, 2550, 2551, 2552,\n",
    "    2553, 2554, 2558, 2571, 2580, 2582, 2583, 2591, 2599, 2600, 2601, 2602,\n",
    "    2603, 2604, 2605, 2606, 2607, 2609, 2610, 2611, 2612, 2613, 2616, 2617,\n",
    "    2640, 2643, 2647, 2649, 2651, 2655, 2662, 2679, 2680, 2681, 2687, 2688,\n",
    "    2689, 2693, 2697, 2698, 2718, 2719, 2722, 2724, 2732, 2735, 2738, 2757,\n",
    "    2758, 2763, 2766, 2768, 2769, 2770, 2774, 2775, 2776, 2780, 2783, 2784,\n",
    "    2802, 2804, 2808, 2810, 2811, 2814, 2815, 2818, 2819, 2821, 2837, 2838,\n",
    "    2840, 2841, 2843, 2844, 2846, 2847, 2857, 2860, 2861, 2864, 2880, 2887,\n",
    "    2888, 2894, 2896, 2897, 2898, 2899, 2900, 2901, 2907, 2908, 2909, 2923,\n",
    "    2934, 2943, 2945, 2948, 2956, 2960, 2968, 2979, 2980, 2982, 2985, 2986,\n",
    "    2987, 2989, 2993, 2994, 3010, 3065, 3066, 3087, 3087, 3088, 3111, 3112,\n",
    "    3113, 3114, 3115, 3116, 3120, 3123, 3125, 3135, 3138, 3140, 3141, 3142,\n",
    "    3143, 3158, 3159, 3166, 3199, 3207, 3208, 3209, 3210, 3211, 3212, 3213,\n",
    "    3223, 3224, 3234, 3241, 3242, 3244, 3245, 3246, 3247, 3248, 3249, 3251,\n",
    "    3253, 3254, 3255, 3257, 3258, 3259, 3261, 3262, 3263, 3264, 3267, 3268,\n",
    "    3300, 3301, 3302, 3303, 3304, 3307, 3308, 3315, 3316, 3349, 3350, 3351,\n",
    "    3352, 3354, 3355, 3356, 3357, 3358, 3359, 3361, 3362, 3363, 3364, 3365,\n",
    "    3366, 3367, 3371, 3372, 3373, 3375, 3376, 3377, 3405, 3407, 3409, 3414,\n",
    "    3415, 3419, 3420, 3423, 3424, 3425, 3426, 3427, 3428, 3429, 3431, 3433,\n",
    "    3475, 3476, 3480, 3481, 3482, 3483, 3484, 3485, 3486, 3487, 3488, 3489,\n",
    "    3490, 3491, 3500, 3501, 3502, 3520, 3521, 3522, 3526, 3527, 3528, 3529,\n",
    "    3530, 3533, 3534, 3540, 3541, 3542, 3543, 3544, 3545, 3547, 3551, 3552,\n",
    "    3553, 3556, 3592, 3625, 3626, 3627, 3628, 3632, 3636, 3637, 3638, 3639,\n",
    "    3649, 3650, 3651, 3652, 3653, 3654, 3655, 3657, 3658, 3683, 3684, 3685,\n",
    "    3686, 3687, 3688, 3689, 3690, 3691, 3693, 3694, 3695, 3696, 3700, 3701,\n",
    "    3712, 3719, 3721, 3722, 3723, 3724, 3725, 3726, 3727, 3728, 3729, 3730,\n",
    "    3732, 3735, 3736, 3766, 3768, 3769, 3770, 3771, 3772, 3773, 3774, 3775,\n",
    "    3776, 3777, 3778, 3779, 3782, 3789, 3790, 3791, 3796, 3799, 3800, 3801,\n",
    "    3802, 3803, 3813, 3819, 3820, 3821, 3822, 3823, 3824, 3825, 3826, 3827,\n",
    "    3828, 3829, 3830, 3832, 3841, 3843, 3849, 3850, 3853, 3858, 3864, 3865,\n",
    "    3866, 3869, 3870, 3871, 3872, 3873, 3875, 3891, 3892, 3893, 3894, 3896,\n",
    "    3896, 3897, 3898, 3899, 3900, 3901, 3902, 3903, 3904, 3905, 3906, 3907,\n",
    "    3908, 3909, 3927, 3928, 3933, 3937, 3938, 3939, 3940, 3942, 3943, 3944,\n",
    "    3983, 3985, 3986, 3987, 3988, 3989, 3990, 3991, 3995, 3998, 4009, 4010,\n",
    "    4011, 4013, 4034, 4049, 4052, 4055, 4056, 4057, 4058, 4059, 4060, 4061,\n",
    "    4062, 4063, 4064, 4065, 4066, 4067, 4068, 4069, 4080, 4083, 4085, 4086,\n",
    "    4087, 4089, 4090, 4091, 4092, 4093, 4094, 4095, 4096, 4097, 4098, 4099,\n",
    "    4100, 4114, 4149, 4150, 4163, 4164, 4165, 4166, 4167, 4170, 4171, 4172,\n",
    "    4173, 4174, 4175, 4176, 4178, 4179, 4180, 4181, 4184, 4185, 4186, 4206,\n",
    "    4213, 4220, 4222, 4230, 4231, 4232, 4233, 4234, 4235, 4236, 4237, 4238,\n",
    "    4239, 4240, 4241, 4242, 4243, 4244, 4245, 4248, 4250, 4251, 4255, 4265,\n",
    "    4270, 4279, 4283, 4285, 4321, 4322, 4323, 4325, 4328, 4331, 4333, 4336,\n",
    "    4337, 4338, 4339, 4340, 4372, 4373, 4374, 4375, 4376, 4377, 4385, 4387,\n",
    "    4392, 4410, 4411, 4412, 4426, 4427, 4428, 4429, 4430, 4431, 4432, 4435,\n",
    "    4436, 4437, 4439, 4440, 4442, 4443, 4446, 4448, 4449, 4454, 4460, 4470,\n",
    "    4491, 4494, 4495, 4499, 4501, 4502, 4503, 4505, 4509, 4510, 4512, 4513,\n",
    "    4514, 4517, 4521, 4534, 4549, 4552, 4560, 4571, 4572, 4573, 4574, 4575,\n",
    "    4576, 4577, 4578, 4579, 4582, 4587, 4588, 4589, 4591, 4592, 4596, 4598,\n",
    "    4601, 4602, 4606, 4609, 4611, 4612, 4613, 4614, 4620, 4630, 4636, 4637,\n",
    "    4639, 4640, 4641, 4642, 4643, 4644, 4645, 4647, 4648, 4652, 4661, 4662,\n",
    "    4669, 4671, 4673, 4674, 4677, 4680, 4681, 4682, 4687, 4689, 4690, 4691,\n",
    "    4691, 4692, 4693, 4693, 4754, 4756, 4769, 4778, 4779, 4780, 4782, 4785,\n",
    "    4789, 4790, 4792, 4797, 4798, 4805, 4806, 4807, 4808, 4809, 4813, 4814,\n",
    "    4815, 4823, 4824, 4825, 4827, 4829, 4830, 4831, 4832, 4833, 4834, 4835,\n",
    "    4836, 4839, 4840, 4842, 4843, 4844, 4867, 4893, 4901, 4902, 4903, 4904,\n",
    "    4908, 4912, 4919, 4920, 4921, 4925, 4928, 4929, 4930, 4932, 4933, 4937,\n",
    "    4938, 4940, 5021, 5027, 5028, 5030, 5034, 5035, 5036, 5037, 5041, 5042,\n",
    "    5043, 5051, 5052, 5053, 5055, 5056, 5058, 5060, 5061, 5062, 5063, 5064,\n",
    "    5065, 5066, 5067, 5068, 5072, 5080, 5082, 5086, 5088, 5091, 5092, 5098,\n",
    "    5099, 5100, 5101, 5107, 5109, 5113, 5117, 5119, 5123, 5126, 5126, 5127,\n",
    "    5129, 5135, 5136, 5137, 5146, 5149, 5175, 5176, 5177, 5179, 5179, 5180,\n",
    "    5181, 5197, 5260, 5262, 5286, 5288, 5290, 5291, 5293, 5294, 5295, 5296,\n",
    "    5297, 5298, 5299, 5340, 5343, 5358, 5361, 5374, 5375, 5382, 5384, 5387,\n",
    "    5388, 5389, 5390, 5393, 5395, 5396, 5398, 5399, 5402, 5404, 5405, 5409,\n",
    "    5410, 5413, 5416, 5421, 5431, 5434, 5436\n",
    "]\n",
    "\n",
    "# Convert the list of IDs into a string\n",
    "sales_roster_string = \", \".join(str(ID) for ID in sales_roster)\n",
    "\n",
    "# Preview the first 75 characters of the string\n",
    "sales_roster_string[:75]"
   ]
  },
  {
   "cell_type": "markdown",
   "metadata": {},
   "source": [
    "### Use `adcrev` IQL Index to Pull 2016 Q1 Revenue by Advertiser ID / Sales Rep"
   ]
  },
  {
   "cell_type": "code",
   "execution_count": 178,
   "metadata": {
    "collapsed": false
   },
   "outputs": [
    {
     "name": "stdout",
     "output_type": "stream",
     "text": [
      "CPU times: user 384 ms, sys: 123 ms, total: 507 ms\n",
      "Wall time: 6.09 s\n"
     ]
    },
    {
     "data": {
      "text/html": [
       "<div>\n",
       "<table border=\"1\" class=\"dataframe\">\n",
       "  <thead>\n",
       "    <tr style=\"text-align: right;\">\n",
       "      <th></th>\n",
       "      <th>Advertiser ID</th>\n",
       "      <th>Sales Rep Name</th>\n",
       "      <th>Sales Rep Username</th>\n",
       "      <th>Q1 Revenue</th>\n",
       "    </tr>\n",
       "  </thead>\n",
       "  <tbody>\n",
       "    <tr>\n",
       "      <th>182354</th>\n",
       "      <td>951101</td>\n",
       "      <td>Zack Lakis</td>\n",
       "      <td>zlakis</td>\n",
       "      <td>2011.52</td>\n",
       "    </tr>\n",
       "    <tr>\n",
       "      <th>182355</th>\n",
       "      <td>985682</td>\n",
       "      <td>Zack Lakis</td>\n",
       "      <td>zlakis</td>\n",
       "      <td>251.67</td>\n",
       "    </tr>\n",
       "    <tr>\n",
       "      <th>182356</th>\n",
       "      <td>997380</td>\n",
       "      <td>Zack Lakis</td>\n",
       "      <td>zlakis</td>\n",
       "      <td>458.73</td>\n",
       "    </tr>\n",
       "  </tbody>\n",
       "</table>\n",
       "</div>"
      ],
      "text/plain": [
       "        Advertiser ID Sales Rep Name Sales Rep Username  Q1 Revenue\n",
       "182354         951101     Zack Lakis             zlakis     2011.52\n",
       "182355         985682     Zack Lakis             zlakis      251.67\n",
       "182356         997380     Zack Lakis             zlakis      458.73"
      ]
     },
     "execution_count": 178,
     "metadata": {},
     "output_type": "execute_result"
    }
   ],
   "source": [
    "%%time\n",
    "%%ish\n",
    "\n",
    "# Pull in all US advertisers with revenue in Q1\n",
    "q1_spending_advertisers = from adcrev 2016-01-01 2016-04-01 WHERE country = us GROUP BY advId/*Advertiser ID*/, salesRepFull/*Sales Rep Name*/, salesRep/*Sales Rep Username*/ SELECT cost / 100/*Q1 Revenue*/\n",
    "\n",
    "# Capitalize first and last names in \"Sales Rep Name\" Series\n",
    "q1_spending_advertisers[\"Sales Rep Name\"] = q1_spending_advertisers[\"Sales Rep Name\"].str.title()\n",
    "\n",
    "# Preview last three rows of DataFrame\n",
    "q1_spending_advertisers.tail(3)"
   ]
  },
  {
   "cell_type": "markdown",
   "metadata": {},
   "source": [
    "### Get Unique Number of Advertisers with Revenue in Q1 2016"
   ]
  },
  {
   "cell_type": "code",
   "execution_count": 75,
   "metadata": {
    "collapsed": false
   },
   "outputs": [
    {
     "data": {
      "text/plain": [
       "165188"
      ]
     },
     "execution_count": 75,
     "metadata": {},
     "output_type": "execute_result"
    }
   ],
   "source": [
    "len(q1_spending_advertisers[\"Advertiser ID\"].drop_duplicates())"
   ]
  },
  {
   "cell_type": "markdown",
   "metadata": {},
   "source": [
    "### Split up Advertisers into Two Lists, Convert Lists into Strings\n",
    "- The two strings of advertiser IDs will feed into IQL indices below"
   ]
  },
  {
   "cell_type": "code",
   "execution_count": 6,
   "metadata": {
    "collapsed": false
   },
   "outputs": [],
   "source": [
    "# CONFIRMED with B. Yarmis that organic / sponsored indexes are best\n",
    "# for pulling Q1 sponsored / organ job counts by advertiser iD\n",
    "advidsString1 = str(q1_spending_advertisers[\"Advertiser ID\"][0:100000].drop_duplicates().tolist()).strip(\"[]\")\n",
    "advidsString2 = str(q1_spending_advertisers[\"Advertiser ID\"][100000:].drop_duplicates().tolist()).strip(\"[]\")"
   ]
  },
  {
   "cell_type": "markdown",
   "metadata": {
    "collapsed": true
   },
   "source": [
    "### Use `organic` and `sponsored` Indices to Get Count of Sponsored / Organic Jobs Per Advertiser\n",
    "- NOTE: Cell will take ~15 minutes to run"
   ]
  },
  {
   "cell_type": "code",
   "execution_count": 7,
   "metadata": {
    "collapsed": false
   },
   "outputs": [
    {
     "name": "stdout",
     "output_type": "stream",
     "text": [
      "CPU times: user 955 ms, sys: 165 ms, total: 1.12 s\n",
      "Wall time: 14min 38s\n"
     ]
    }
   ],
   "source": [
    "%%time\n",
    "%%ish\n",
    "\n",
    "organic_jobs_per_advertiser1 = from organic 2016-01-01 2016-04-01 WHERE advertiserid IN ({advidsString1}) GROUP BY advertiserid/*Advertiser ID*/ SELECT distinct(jobid)/*Organic Job Count*/\n",
    "organic_jobs_per_advertiser2 = from organic 2016-01-01 2016-04-01 WHERE advertiserid IN ({advidsString2}) GROUP BY advertiserid/*Advertiser ID*/ SELECT distinct(jobid)/*Organic Job Count*/\n",
    "\n",
    "sponsored_jobs_per_advertiser1 = from sponsored 2016-01-01 2016-04-01 WHERE advertiserid IN ({advidsString1}) GROUP BY advertiserid/*Advertiser ID*/ SELECT distinct(jobid)/*Sponsored Job Count*/\n",
    "sponsored_jobs_per_advertiser2 = from sponsored 2016-01-01 2016-04-01 WHERE advertiserid IN ({advidsString2}) GROUP BY advertiserid/*Advertiser ID*/ SELECT distinct(jobid)/*Sponsored Job Count*/\n",
    "\n",
    "Output = None"
   ]
  },
  {
   "cell_type": "code",
   "execution_count": 10,
   "metadata": {
    "collapsed": true
   },
   "outputs": [],
   "source": [
    "# Concatenate the two sets of data\n",
    "organic_jobs_per_advertiser_total = pd.concat([organic_jobs_per_advertiser1,\n",
    "                                               organic_jobs_per_advertiser2])\n",
    "\n",
    "sponsored_jobs_per_advertiser_total = pd.concat([sponsored_jobs_per_advertiser1,\n",
    "                                                 sponsored_jobs_per_advertiser2])"
   ]
  },
  {
   "cell_type": "markdown",
   "metadata": {},
   "source": [
    "### Merge Organic and Sponsored Job Count DataFrames Together"
   ]
  },
  {
   "cell_type": "code",
   "execution_count": 195,
   "metadata": {
    "collapsed": false
   },
   "outputs": [
    {
     "data": {
      "text/html": [
       "<div>\n",
       "<table border=\"1\" class=\"dataframe\">\n",
       "  <thead>\n",
       "    <tr style=\"text-align: right;\">\n",
       "      <th></th>\n",
       "      <th>Advertiser ID</th>\n",
       "      <th>Organic Job Count</th>\n",
       "      <th>Sponsored Job Count</th>\n",
       "    </tr>\n",
       "  </thead>\n",
       "  <tbody>\n",
       "    <tr>\n",
       "      <th>0</th>\n",
       "      <td>31</td>\n",
       "      <td>161</td>\n",
       "      <td>441</td>\n",
       "    </tr>\n",
       "    <tr>\n",
       "      <th>1</th>\n",
       "      <td>72</td>\n",
       "      <td>1706</td>\n",
       "      <td>1728</td>\n",
       "    </tr>\n",
       "    <tr>\n",
       "      <th>2</th>\n",
       "      <td>115</td>\n",
       "      <td>95045</td>\n",
       "      <td>376728</td>\n",
       "    </tr>\n",
       "  </tbody>\n",
       "</table>\n",
       "</div>"
      ],
      "text/plain": [
       "   Advertiser ID  Organic Job Count  Sponsored Job Count\n",
       "0             31                161                  441\n",
       "1             72               1706                 1728\n",
       "2            115              95045               376728"
      ]
     },
     "execution_count": 195,
     "metadata": {},
     "output_type": "execute_result"
    }
   ],
   "source": [
    "# Merge the sponsored_jobs and organic_jobs DataFrames\n",
    "job_count_per_advertiser = organic_jobs_per_advertiser_total.merge(sponsored_jobs_per_advertiser_total,\n",
    "                                                        how = \"outer\", on = \"Advertiser ID\")\n",
    "\n",
    "# Advertiser IDs that do not have either sponsored or organic jobs will have NaN values\n",
    "# Replace all these cells with 0 (i.e. 0 jobs in that category)\n",
    "job_count_per_advertiser.fillna(value = 0, inplace = True)\n",
    "\n",
    "# Represent the \"Advertiser ID\", \"Organic Job Count\", and \"Sponsored Job Count\" Series as integers\n",
    "job_count_per_advertiser[\"Advertiser ID\"] = job_count_per_advertiser[\"Advertiser ID\"].astype(int)\n",
    "job_count_per_advertiser[\"Organic Job Count\"] = job_count_per_advertiser[\"Organic Job Count\"].astype(int)\n",
    "job_count_per_advertiser[\"Sponsored Job Count\"] = job_count_per_advertiser[\"Sponsored Job Count\"].astype(int)\n",
    "\n",
    "# Preview first three rows of DataFrame\n",
    "job_count_per_advertiser.head(3)"
   ]
  },
  {
   "cell_type": "markdown",
   "metadata": {},
   "source": [
    "### Merge Job Counts DataFrame into Main Q1 Revenue by Advid / Rep DataFrame"
   ]
  },
  {
   "cell_type": "code",
   "execution_count": 196,
   "metadata": {
    "collapsed": false
   },
   "outputs": [
    {
     "data": {
      "text/html": [
       "<div>\n",
       "<table border=\"1\" class=\"dataframe\">\n",
       "  <thead>\n",
       "    <tr style=\"text-align: right;\">\n",
       "      <th></th>\n",
       "      <th>Advertiser ID</th>\n",
       "      <th>Sales Rep Name</th>\n",
       "      <th>Sales Rep Username</th>\n",
       "      <th>Q1 Revenue</th>\n",
       "      <th>Organic Job Count</th>\n",
       "      <th>Sponsored Job Count</th>\n",
       "    </tr>\n",
       "  </thead>\n",
       "  <tbody>\n",
       "    <tr>\n",
       "      <th>0</th>\n",
       "      <td>2515578</td>\n",
       "      <td>Andrew Barksdale</td>\n",
       "      <td>abarksdale</td>\n",
       "      <td>19.79</td>\n",
       "      <td>1.0</td>\n",
       "      <td>1.0</td>\n",
       "    </tr>\n",
       "    <tr>\n",
       "      <th>1</th>\n",
       "      <td>2758905</td>\n",
       "      <td>Andrew Barksdale</td>\n",
       "      <td>abarksdale</td>\n",
       "      <td>248.47</td>\n",
       "      <td>0.0</td>\n",
       "      <td>1.0</td>\n",
       "    </tr>\n",
       "    <tr>\n",
       "      <th>2</th>\n",
       "      <td>2991485</td>\n",
       "      <td>Andrew Barksdale</td>\n",
       "      <td>abarksdale</td>\n",
       "      <td>65.34</td>\n",
       "      <td>2.0</td>\n",
       "      <td>3.0</td>\n",
       "    </tr>\n",
       "  </tbody>\n",
       "</table>\n",
       "</div>"
      ],
      "text/plain": [
       "   Advertiser ID    Sales Rep Name Sales Rep Username  Q1 Revenue  \\\n",
       "0        2515578  Andrew Barksdale         abarksdale       19.79   \n",
       "1        2758905  Andrew Barksdale         abarksdale      248.47   \n",
       "2        2991485  Andrew Barksdale         abarksdale       65.34   \n",
       "\n",
       "   Organic Job Count  Sponsored Job Count  \n",
       "0                1.0                  1.0  \n",
       "1                0.0                  1.0  \n",
       "2                2.0                  3.0  "
      ]
     },
     "execution_count": 196,
     "metadata": {},
     "output_type": "execute_result"
    }
   ],
   "source": [
    "q1_spending_advertisers_with_job_counts = q1_spending_advertisers.merge(job_count_per_advertiser,\n",
    "                                                                       how = \"left\",\n",
    "                                                                       on = \"Advertiser ID\")\n",
    "\n",
    "q1_spending_advertisers_with_job_counts.fillna(0, inplace = True)\n",
    "\n",
    "q1_spending_advertisers_with_job_counts.head(3)"
   ]
  },
  {
   "cell_type": "markdown",
   "metadata": {},
   "source": [
    "### Save All Data to CSVs"
   ]
  },
  {
   "cell_type": "code",
   "execution_count": 197,
   "metadata": {
    "collapsed": false
   },
   "outputs": [],
   "source": [
    "organic_jobs_per_advertiser_total.to_csv(\"2016 Q1 Organic Job Counts by Advertiser ID.csv\", index = False)\n",
    "sponsored_jobs_per_advertiser_total.to_csv(\"2016 Q1 Sponsored Job Counts by Advertiser ID.csv\", index = False)\n",
    "job_count_per_advertiser.to_csv(\"2016 Q1 All Job Counts by Advertiser ID.csv\", index = False)\n",
    "q1_spending_advertisers_with_job_counts.to_csv(\"2016 Q1 Spending Advertisers with Job Counts, Sales Reps, Revenue.csv\", index = False, encoding = \"utf-8\")"
   ]
  },
  {
   "cell_type": "markdown",
   "metadata": {},
   "source": [
    "### Reimport Main DataFrame\n",
    "\n",
    "- This is to avoid running the 15-minute IQL query again"
   ]
  },
  {
   "cell_type": "code",
   "execution_count": 2,
   "metadata": {
    "collapsed": false
   },
   "outputs": [
    {
     "data": {
      "text/html": [
       "<div>\n",
       "<table border=\"1\" class=\"dataframe\">\n",
       "  <thead>\n",
       "    <tr style=\"text-align: right;\">\n",
       "      <th></th>\n",
       "      <th>Advertiser ID</th>\n",
       "      <th>Sales Rep Name</th>\n",
       "      <th>Sales Rep Username</th>\n",
       "      <th>Q1 Revenue</th>\n",
       "      <th>Organic Job Count</th>\n",
       "      <th>Sponsored Job Count</th>\n",
       "    </tr>\n",
       "  </thead>\n",
       "  <tbody>\n",
       "    <tr>\n",
       "      <th>102518</th>\n",
       "      <td>23</td>\n",
       "      <td>Not Applicable</td>\n",
       "      <td>na</td>\n",
       "      <td>15020.95</td>\n",
       "      <td>0.0</td>\n",
       "      <td>9165.0</td>\n",
       "    </tr>\n",
       "    <tr>\n",
       "      <th>114024</th>\n",
       "      <td>31</td>\n",
       "      <td>Not Applicable</td>\n",
       "      <td>na</td>\n",
       "      <td>307.47</td>\n",
       "      <td>161.0</td>\n",
       "      <td>441.0</td>\n",
       "    </tr>\n",
       "    <tr>\n",
       "      <th>167006</th>\n",
       "      <td>59</td>\n",
       "      <td>Not Applicable</td>\n",
       "      <td>na</td>\n",
       "      <td>901.13</td>\n",
       "      <td>0.0</td>\n",
       "      <td>142.0</td>\n",
       "    </tr>\n",
       "  </tbody>\n",
       "</table>\n",
       "</div>"
      ],
      "text/plain": [
       "        Advertiser ID  Sales Rep Name Sales Rep Username  Q1 Revenue  \\\n",
       "102518             23  Not Applicable                 na    15020.95   \n",
       "114024             31  Not Applicable                 na      307.47   \n",
       "167006             59  Not Applicable                 na      901.13   \n",
       "\n",
       "        Organic Job Count  Sponsored Job Count  \n",
       "102518                0.0               9165.0  \n",
       "114024              161.0                441.0  \n",
       "167006                0.0                142.0  "
      ]
     },
     "execution_count": 2,
     "metadata": {},
     "output_type": "execute_result"
    }
   ],
   "source": [
    "fileName = \"2016 Q1 Spending Advertisers with Job Counts, Sales Reps, Revenue.csv\"\n",
    "\n",
    "q1_spending_advertisers_with_job_counts = pd.read_csv(fileName)\n",
    "\n",
    "# Remove duplicates across entire DataFrame\n",
    "q1_spending_advertisers_with_job_counts.drop_duplicates(inplace = True)\n",
    "\n",
    "# Capitalize \"Sales Rep Name\" Series values\n",
    "q1_spending_advertisers_with_job_counts[\"Sales Rep Name\"] = q1_spending_advertisers_with_job_counts[\"Sales Rep Name\"].str.title()\n",
    "\n",
    "# Sort the DataFrame by advertiser (ascending), then Q1 Revenue (descending - most to least)\n",
    "q1_spending_advertisers_with_job_counts.sort_values([\"Advertiser ID\", \"Q1 Revenue\"],\n",
    "                                                    ascending = [True, False], inplace = True)\n",
    "\n",
    "# Drop duplicates by advertiser ID column, the highest revenue row will be kept for each\n",
    "q1_spending_advertisers_with_job_counts.drop_duplicates(subset = [\"Advertiser ID\"], \n",
    "                                                        keep = \"first\", inplace = True)\n",
    "\n",
    "# Replace all values of \"pardeep\" with \"deep\"\n",
    "q1_spending_advertisers_with_job_counts[\"Sales Rep Username\"].replace(to_replace = \"pardeep\", value = \"deep\", inplace = True)\n",
    "q1_spending_advertisers_with_job_counts[\"Sales Rep Username\"].replace(to_replace = \"willian\", value = \"wbertolino\", inplace = True)\n",
    "\n",
    "q1_spending_advertisers_with_job_counts.head(3)"
   ]
  },
  {
   "cell_type": "markdown",
   "metadata": {},
   "source": [
    "### Confirm Duplicate Removal Removed the Proper Row\n",
    "- Code below should return john kuczarski"
   ]
  },
  {
   "cell_type": "code",
   "execution_count": 3,
   "metadata": {
    "collapsed": false
   },
   "outputs": [
    {
     "data": {
      "text/html": [
       "<div>\n",
       "<table border=\"1\" class=\"dataframe\">\n",
       "  <thead>\n",
       "    <tr style=\"text-align: right;\">\n",
       "      <th></th>\n",
       "      <th>Advertiser ID</th>\n",
       "      <th>Sales Rep Name</th>\n",
       "      <th>Sales Rep Username</th>\n",
       "      <th>Q1 Revenue</th>\n",
       "      <th>Organic Job Count</th>\n",
       "      <th>Sponsored Job Count</th>\n",
       "    </tr>\n",
       "  </thead>\n",
       "  <tbody>\n",
       "    <tr>\n",
       "      <th>46052</th>\n",
       "      <td>1948663</td>\n",
       "      <td>John Kuczarski</td>\n",
       "      <td>johnk</td>\n",
       "      <td>322.91</td>\n",
       "      <td>35.0</td>\n",
       "      <td>35.0</td>\n",
       "    </tr>\n",
       "  </tbody>\n",
       "</table>\n",
       "</div>"
      ],
      "text/plain": [
       "       Advertiser ID  Sales Rep Name Sales Rep Username  Q1 Revenue  \\\n",
       "46052        1948663  John Kuczarski              johnk      322.91   \n",
       "\n",
       "       Organic Job Count  Sponsored Job Count  \n",
       "46052               35.0                 35.0  "
      ]
     },
     "execution_count": 3,
     "metadata": {},
     "output_type": "execute_result"
    }
   ],
   "source": [
    "q1_spending_advertisers_with_job_counts[q1_spending_advertisers_with_job_counts[\"Advertiser ID\"] == 1948663]"
   ]
  },
  {
   "cell_type": "markdown",
   "metadata": {},
   "source": [
    "### Get Rep User Information from PLUS"
   ]
  },
  {
   "cell_type": "code",
   "execution_count": 4,
   "metadata": {
    "collapsed": false
   },
   "outputs": [
    {
     "name": "stdout",
     "output_type": "stream",
     "text": [
      "LDAP name:\n",
      "borisp\n",
      "Password:\n",
      "········\n"
     ]
    },
    {
     "data": {
      "text/html": [
       "<div>\n",
       "<table border=\"1\" class=\"dataframe\">\n",
       "  <thead>\n",
       "    <tr style=\"text-align: right;\">\n",
       "      <th></th>\n",
       "      <th>PLUS Rep ID</th>\n",
       "      <th>PLUS Username</th>\n",
       "      <th>PLUS Name</th>\n",
       "    </tr>\n",
       "  </thead>\n",
       "  <tbody>\n",
       "    <tr>\n",
       "      <th>0</th>\n",
       "      <td>1</td>\n",
       "      <td>na</td>\n",
       "      <td>Not Applicable</td>\n",
       "    </tr>\n",
       "    <tr>\n",
       "      <th>1</th>\n",
       "      <td>2</td>\n",
       "      <td>smbsupp</td>\n",
       "      <td>Small Business Support</td>\n",
       "    </tr>\n",
       "    <tr>\n",
       "      <th>2</th>\n",
       "      <td>3</td>\n",
       "      <td>pa</td>\n",
       "      <td>Pending Assignment</td>\n",
       "    </tr>\n",
       "    <tr>\n",
       "      <th>3</th>\n",
       "      <td>8</td>\n",
       "      <td>kenneth</td>\n",
       "      <td>Kenneth Kim</td>\n",
       "    </tr>\n",
       "  </tbody>\n",
       "</table>\n",
       "</div>"
      ],
      "text/plain": [
       "   PLUS Rep ID PLUS Username               PLUS Name\n",
       "0            1            na          Not Applicable\n",
       "1            2       smbsupp  Small Business Support\n",
       "2            3            pa      Pending Assignment\n",
       "3            8       kenneth             Kenneth Kim"
      ]
     },
     "execution_count": 4,
     "metadata": {},
     "output_type": "execute_result"
    }
   ],
   "source": [
    "numbers = range(1, 10000)\n",
    "PLUS_user_info = plus.get_user_info(numbers)\n",
    "PLUS_user_info.dropna(inplace = True)\n",
    "PLUS_user_info[\"PLUS Name\"] = PLUS_user_info[\"firstname\"] + \" \" + PLUS_user_info[\"lastname\"]\n",
    "PLUS_user_info.reset_index(inplace = True)\n",
    "PLUS_user_info.rename(columns = {\"index\" : \"PLUS Rep ID\", \"username\" : \"PLUS Username\"}, inplace = True)\n",
    "PLUS_user_info = PLUS_user_info[[\"PLUS Rep ID\", \"PLUS Username\", \"PLUS Name\"]]\n",
    "PLUS_user_info.head(4)"
   ]
  },
  {
   "cell_type": "code",
   "execution_count": 5,
   "metadata": {
    "collapsed": false
   },
   "outputs": [
    {
     "data": {
      "text/html": [
       "<div>\n",
       "<table border=\"1\" class=\"dataframe\">\n",
       "  <thead>\n",
       "    <tr style=\"text-align: right;\">\n",
       "      <th></th>\n",
       "      <th>Advertiser ID</th>\n",
       "      <th>Sales Rep Name</th>\n",
       "      <th>Sales Rep Username</th>\n",
       "      <th>Q1 Revenue</th>\n",
       "      <th>Organic Job Count</th>\n",
       "      <th>Sponsored Job Count</th>\n",
       "      <th>PLUS Rep ID</th>\n",
       "      <th>PLUS Username</th>\n",
       "      <th>PLUS Name</th>\n",
       "    </tr>\n",
       "  </thead>\n",
       "  <tbody>\n",
       "    <tr>\n",
       "      <th>15000</th>\n",
       "      <td>374073</td>\n",
       "      <td>David Ioffe</td>\n",
       "      <td>dioffe</td>\n",
       "      <td>780.20</td>\n",
       "      <td>2</td>\n",
       "      <td>5</td>\n",
       "      <td>3986</td>\n",
       "      <td>dioffe</td>\n",
       "      <td>David Ioffe</td>\n",
       "    </tr>\n",
       "    <tr>\n",
       "      <th>15001</th>\n",
       "      <td>374105</td>\n",
       "      <td>Not Applicable</td>\n",
       "      <td>na</td>\n",
       "      <td>3006.46</td>\n",
       "      <td>12</td>\n",
       "      <td>12</td>\n",
       "      <td>1</td>\n",
       "      <td>na</td>\n",
       "      <td>Not Applicable</td>\n",
       "    </tr>\n",
       "    <tr>\n",
       "      <th>15002</th>\n",
       "      <td>374108</td>\n",
       "      <td>Shanna Derry</td>\n",
       "      <td>shanna</td>\n",
       "      <td>51144.70</td>\n",
       "      <td>89</td>\n",
       "      <td>1119</td>\n",
       "      <td>891</td>\n",
       "      <td>shanna</td>\n",
       "      <td>Shanna Derry</td>\n",
       "    </tr>\n",
       "  </tbody>\n",
       "</table>\n",
       "</div>"
      ],
      "text/plain": [
       "       Advertiser ID  Sales Rep Name Sales Rep Username  Q1 Revenue  \\\n",
       "15000         374073     David Ioffe             dioffe      780.20   \n",
       "15001         374105  Not Applicable                 na     3006.46   \n",
       "15002         374108    Shanna Derry             shanna    51144.70   \n",
       "\n",
       "       Organic Job Count  Sponsored Job Count  PLUS Rep ID PLUS Username  \\\n",
       "15000                  2                    5         3986        dioffe   \n",
       "15001                 12                   12            1            na   \n",
       "15002                 89                 1119          891        shanna   \n",
       "\n",
       "            PLUS Name  \n",
       "15000     David Ioffe  \n",
       "15001  Not Applicable  \n",
       "15002    Shanna Derry  "
      ]
     },
     "execution_count": 5,
     "metadata": {},
     "output_type": "execute_result"
    }
   ],
   "source": [
    "df = q1_spending_advertisers_with_job_counts.merge(PLUS_user_info, how = \"left\",\n",
    "                                             left_on = \"Sales Rep Username\", right_on = \"PLUS Username\")\n",
    "\n",
    "df[\"Organic Job Count\"] = df[\"Organic Job Count\"].astype(int)\n",
    "df[\"Sponsored Job Count\"] = df[\"Sponsored Job Count\"].astype(int)\n",
    "df[\"PLUS Rep ID\"] = df[\"PLUS Rep ID\"].astype(int)\n",
    "\n",
    "# Preview sample rows\n",
    "df[15000:15003]"
   ]
  },
  {
   "cell_type": "markdown",
   "metadata": {},
   "source": [
    "### Import Rep User Information from Brian"
   ]
  },
  {
   "cell_type": "code",
   "execution_count": 6,
   "metadata": {
    "collapsed": false
   },
   "outputs": [
    {
     "data": {
      "text/html": [
       "<div>\n",
       "<table border=\"1\" class=\"dataframe\">\n",
       "  <thead>\n",
       "    <tr style=\"text-align: right;\">\n",
       "      <th></th>\n",
       "      <th>Team Name</th>\n",
       "    </tr>\n",
       "    <tr>\n",
       "      <th>User ID</th>\n",
       "      <th></th>\n",
       "    </tr>\n",
       "  </thead>\n",
       "  <tbody>\n",
       "    <tr>\n",
       "      <th>1</th>\n",
       "      <td>Not Applicable</td>\n",
       "    </tr>\n",
       "    <tr>\n",
       "      <th>21</th>\n",
       "      <td>Agency-US-East</td>\n",
       "    </tr>\n",
       "    <tr>\n",
       "      <th>166</th>\n",
       "      <td>NationalAccounts-East-DE</td>\n",
       "    </tr>\n",
       "  </tbody>\n",
       "</table>\n",
       "</div>"
      ],
      "text/plain": [
       "                        Team Name\n",
       "User ID                          \n",
       "1                  Not Applicable\n",
       "21                 Agency-US-East\n",
       "166      NationalAccounts-East-DE"
      ]
     },
     "execution_count": 6,
     "metadata": {},
     "output_type": "execute_result"
    }
   ],
   "source": [
    "brian_info = pd.read_csv(\"2016 Q1 Sales Dashboard.csv\")[[\"User ID\", \"Team Name\"]]\n",
    "brian_info.set_index(\"User ID\", inplace = True)\n",
    "brian_info.sort_index(inplace = True)\n",
    "brian_info.rename(columns = {\"Name\" : \"Brian Name\"}, inplace = True)\n",
    "brian_info.head(3)"
   ]
  },
  {
   "cell_type": "markdown",
   "metadata": {},
   "source": [
    "### Connect Rep to Team"
   ]
  },
  {
   "cell_type": "code",
   "execution_count": 7,
   "metadata": {
    "collapsed": false
   },
   "outputs": [
    {
     "data": {
      "text/html": [
       "<div>\n",
       "<table border=\"1\" class=\"dataframe\">\n",
       "  <thead>\n",
       "    <tr style=\"text-align: right;\">\n",
       "      <th></th>\n",
       "      <th>Advertiser ID</th>\n",
       "      <th>Sales Rep Name</th>\n",
       "      <th>Sales Rep Username</th>\n",
       "      <th>Q1 Revenue</th>\n",
       "      <th>Organic Job Count</th>\n",
       "      <th>Sponsored Job Count</th>\n",
       "      <th>PLUS Rep ID</th>\n",
       "      <th>PLUS Username</th>\n",
       "      <th>PLUS Name</th>\n",
       "      <th>Team Name</th>\n",
       "    </tr>\n",
       "  </thead>\n",
       "  <tbody>\n",
       "    <tr>\n",
       "      <th>15000</th>\n",
       "      <td>374073</td>\n",
       "      <td>David Ioffe</td>\n",
       "      <td>dioffe</td>\n",
       "      <td>780.20</td>\n",
       "      <td>2</td>\n",
       "      <td>5</td>\n",
       "      <td>3986</td>\n",
       "      <td>dioffe</td>\n",
       "      <td>David Ioffe</td>\n",
       "      <td>NYC-DE9</td>\n",
       "    </tr>\n",
       "    <tr>\n",
       "      <th>15001</th>\n",
       "      <td>374105</td>\n",
       "      <td>Not Applicable</td>\n",
       "      <td>na</td>\n",
       "      <td>3006.46</td>\n",
       "      <td>12</td>\n",
       "      <td>12</td>\n",
       "      <td>1</td>\n",
       "      <td>na</td>\n",
       "      <td>Not Applicable</td>\n",
       "      <td>Not Applicable</td>\n",
       "    </tr>\n",
       "    <tr>\n",
       "      <th>15002</th>\n",
       "      <td>374108</td>\n",
       "      <td>Shanna Derry</td>\n",
       "      <td>shanna</td>\n",
       "      <td>51144.70</td>\n",
       "      <td>89</td>\n",
       "      <td>1119</td>\n",
       "      <td>891</td>\n",
       "      <td>shanna</td>\n",
       "      <td>Shanna Derry</td>\n",
       "      <td>NationalAccounts-Central-DE</td>\n",
       "    </tr>\n",
       "  </tbody>\n",
       "</table>\n",
       "</div>"
      ],
      "text/plain": [
       "       Advertiser ID  Sales Rep Name Sales Rep Username  Q1 Revenue  \\\n",
       "15000         374073     David Ioffe             dioffe      780.20   \n",
       "15001         374105  Not Applicable                 na     3006.46   \n",
       "15002         374108    Shanna Derry             shanna    51144.70   \n",
       "\n",
       "       Organic Job Count  Sponsored Job Count  PLUS Rep ID PLUS Username  \\\n",
       "15000                  2                    5         3986        dioffe   \n",
       "15001                 12                   12            1            na   \n",
       "15002                 89                 1119          891        shanna   \n",
       "\n",
       "            PLUS Name                    Team Name  \n",
       "15000     David Ioffe                      NYC-DE9  \n",
       "15001  Not Applicable               Not Applicable  \n",
       "15002    Shanna Derry  NationalAccounts-Central-DE  "
      ]
     },
     "execution_count": 7,
     "metadata": {},
     "output_type": "execute_result"
    }
   ],
   "source": [
    "df = df.merge(brian_info, how = \"left\", left_on = \"PLUS Rep ID\", right_index = True)\n",
    "# Preview sample rows\n",
    "df[15000:15003]"
   ]
  },
  {
   "cell_type": "markdown",
   "metadata": {},
   "source": [
    "### Import Team --> Classifications CSV"
   ]
  },
  {
   "cell_type": "code",
   "execution_count": 8,
   "metadata": {
    "collapsed": false
   },
   "outputs": [
    {
     "data": {
      "text/html": [
       "<div>\n",
       "<table border=\"1\" class=\"dataframe\">\n",
       "  <thead>\n",
       "    <tr style=\"text-align: right;\">\n",
       "      <th></th>\n",
       "      <th>Classification</th>\n",
       "    </tr>\n",
       "    <tr>\n",
       "      <th>Team Name</th>\n",
       "      <th></th>\n",
       "    </tr>\n",
       "  </thead>\n",
       "  <tbody>\n",
       "    <tr>\n",
       "      <th>Not Applicable</th>\n",
       "      <td>Not Applicable</td>\n",
       "    </tr>\n",
       "    <tr>\n",
       "      <th>Agency</th>\n",
       "      <td>Agency Only</td>\n",
       "    </tr>\n",
       "    <tr>\n",
       "      <th>Agency-AMS</th>\n",
       "      <td>Agency Only</td>\n",
       "    </tr>\n",
       "  </tbody>\n",
       "</table>\n",
       "</div>"
      ],
      "text/plain": [
       "                Classification\n",
       "Team Name                     \n",
       "Not Applicable  Not Applicable\n",
       "Agency             Agency Only\n",
       "Agency-AMS         Agency Only"
      ]
     },
     "execution_count": 8,
     "metadata": {},
     "output_type": "execute_result"
    }
   ],
   "source": [
    "team_classifications = pd.read_csv(\"Team Connections.csv\")\n",
    "team_classifications.set_index(\"Team Name\", inplace = True)\n",
    "team_classifications.head(3)"
   ]
  },
  {
   "cell_type": "code",
   "execution_count": 9,
   "metadata": {
    "collapsed": false
   },
   "outputs": [
    {
     "data": {
      "text/html": [
       "<div>\n",
       "<table border=\"1\" class=\"dataframe\">\n",
       "  <thead>\n",
       "    <tr style=\"text-align: right;\">\n",
       "      <th></th>\n",
       "      <th>Advertiser ID</th>\n",
       "      <th>Sales Rep Name</th>\n",
       "      <th>Sales Rep Username</th>\n",
       "      <th>PLUS Rep ID</th>\n",
       "      <th>Team Name</th>\n",
       "      <th>Classification</th>\n",
       "      <th>Organic Job Count</th>\n",
       "      <th>Sponsored Job Count</th>\n",
       "      <th>Q1 Revenue</th>\n",
       "    </tr>\n",
       "  </thead>\n",
       "  <tbody>\n",
       "    <tr>\n",
       "      <th>15000</th>\n",
       "      <td>374073</td>\n",
       "      <td>David Ioffe</td>\n",
       "      <td>dioffe</td>\n",
       "      <td>3986</td>\n",
       "      <td>NYC-DE9</td>\n",
       "      <td>General DE</td>\n",
       "      <td>2</td>\n",
       "      <td>5</td>\n",
       "      <td>780.20</td>\n",
       "    </tr>\n",
       "    <tr>\n",
       "      <th>15001</th>\n",
       "      <td>374105</td>\n",
       "      <td>Not Applicable</td>\n",
       "      <td>na</td>\n",
       "      <td>1</td>\n",
       "      <td>Not Applicable</td>\n",
       "      <td>Not Applicable</td>\n",
       "      <td>12</td>\n",
       "      <td>12</td>\n",
       "      <td>3006.46</td>\n",
       "    </tr>\n",
       "    <tr>\n",
       "      <th>15002</th>\n",
       "      <td>374108</td>\n",
       "      <td>Shanna Derry</td>\n",
       "      <td>shanna</td>\n",
       "      <td>891</td>\n",
       "      <td>NationalAccounts-Central-DE</td>\n",
       "      <td>National DE</td>\n",
       "      <td>89</td>\n",
       "      <td>1119</td>\n",
       "      <td>51144.70</td>\n",
       "    </tr>\n",
       "  </tbody>\n",
       "</table>\n",
       "</div>"
      ],
      "text/plain": [
       "       Advertiser ID  Sales Rep Name Sales Rep Username  PLUS Rep ID  \\\n",
       "15000         374073     David Ioffe             dioffe         3986   \n",
       "15001         374105  Not Applicable                 na            1   \n",
       "15002         374108    Shanna Derry             shanna          891   \n",
       "\n",
       "                         Team Name  Classification  Organic Job Count  \\\n",
       "15000                      NYC-DE9      General DE                  2   \n",
       "15001               Not Applicable  Not Applicable                 12   \n",
       "15002  NationalAccounts-Central-DE     National DE                 89   \n",
       "\n",
       "       Sponsored Job Count  Q1 Revenue  \n",
       "15000                    5      780.20  \n",
       "15001                   12     3006.46  \n",
       "15002                 1119    51144.70  "
      ]
     },
     "execution_count": 9,
     "metadata": {},
     "output_type": "execute_result"
    }
   ],
   "source": [
    "final = df.merge(team_classifications, how = \"left\", left_on = \"Team Name\", right_index = True)\n",
    "\n",
    "final = final[[\"Advertiser ID\", \"Sales Rep Name\", \"Sales Rep Username\",\n",
    "               \"PLUS Rep ID\", \"Team Name\", \"Classification\",\n",
    "               \"Organic Job Count\", \"Sponsored Job Count\", \"Q1 Revenue\"]]\n",
    "\n",
    "# Preview sample rows\n",
    "final[15000:15003]"
   ]
  },
  {
   "cell_type": "markdown",
   "metadata": {},
   "source": [
    "# Sales Coverage - Initial Thoughts"
   ]
  },
  {
   "cell_type": "markdown",
   "metadata": {},
   "source": [
    "### Organic Jobs by Classification"
   ]
  },
  {
   "cell_type": "code",
   "execution_count": 10,
   "metadata": {
    "collapsed": false
   },
   "outputs": [
    {
     "data": {
      "text/plain": [
       "Classification\n",
       "Agency Only          23183\n",
       "DCA                  37573\n",
       "General DE          370942\n",
       "Index               121684\n",
       "National DE         569548\n",
       "National SA         501255\n",
       "Not Applicable    56316206\n",
       "Staffing             16384\n",
       "Name: Organic Job Count, dtype: int64"
      ]
     },
     "execution_count": 10,
     "metadata": {},
     "output_type": "execute_result"
    }
   ],
   "source": [
    "final.groupby(by = [\"Classification\"])[\"Organic Job Count\"].sum()"
   ]
  },
  {
   "cell_type": "markdown",
   "metadata": {},
   "source": [
    "### Sponsored Jobs by Classification"
   ]
  },
  {
   "cell_type": "code",
   "execution_count": 11,
   "metadata": {
    "collapsed": false
   },
   "outputs": [
    {
     "data": {
      "text/plain": [
       "Classification\n",
       "Agency Only         84563\n",
       "DCA                 69993\n",
       "General DE         454596\n",
       "Index              117998\n",
       "National DE        749533\n",
       "National SA        864696\n",
       "Not Applicable    6407260\n",
       "Staffing            25187\n",
       "Name: Sponsored Job Count, dtype: int64"
      ]
     },
     "execution_count": 11,
     "metadata": {},
     "output_type": "execute_result"
    }
   ],
   "source": [
    "final.groupby(by = [\"Classification\"])[\"Sponsored Job Count\"].sum()"
   ]
  },
  {
   "cell_type": "markdown",
   "metadata": {},
   "source": [
    "### Spending Advertisers by Classification"
   ]
  },
  {
   "cell_type": "code",
   "execution_count": 12,
   "metadata": {
    "collapsed": false
   },
   "outputs": [
    {
     "data": {
      "text/plain": [
       "Classification\n",
       "Agency Only          252\n",
       "DCA                 9727\n",
       "General DE         30647\n",
       "Index               4650\n",
       "National DE         5182\n",
       "National SA         3396\n",
       "Not Applicable    109096\n",
       "Staffing            1398\n",
       "Name: Advertiser ID, dtype: int64"
      ]
     },
     "execution_count": 12,
     "metadata": {},
     "output_type": "execute_result"
    }
   ],
   "source": [
    "final.groupby(by = [\"Classification\"])[\"Advertiser ID\"].count()"
   ]
  },
  {
   "cell_type": "markdown",
   "metadata": {},
   "source": [
    "### Revenue by Classification"
   ]
  },
  {
   "cell_type": "code",
   "execution_count": 13,
   "metadata": {
    "collapsed": false
   },
   "outputs": [
    {
     "data": {
      "text/plain": [
       "Classification\n",
       "Agency Only       1.102693e+06\n",
       "DCA               8.257532e+06\n",
       "General DE        4.703816e+07\n",
       "Index             1.181445e+07\n",
       "National DE       2.723892e+07\n",
       "National SA       8.081242e+06\n",
       "Not Applicable    7.488559e+07\n",
       "Staffing          1.813593e+06\n",
       "Name: Q1 Revenue, dtype: float64"
      ]
     },
     "execution_count": 13,
     "metadata": {},
     "output_type": "execute_result"
    }
   ],
   "source": [
    "# How to show full number?\n",
    "final.groupby(by = [\"Classification\"])[\"Q1 Revenue\"].sum()"
   ]
  },
  {
   "cell_type": "markdown",
   "metadata": {},
   "source": [
    "### Number of Unique Sales Reps by Classification"
   ]
  },
  {
   "cell_type": "code",
   "execution_count": 14,
   "metadata": {
    "collapsed": false
   },
   "outputs": [
    {
     "data": {
      "text/plain": [
       "Classification\n",
       "Agency Only         7\n",
       "DCA                39\n",
       "General DE        278\n",
       "Index              33\n",
       "National DE        45\n",
       "National SA        30\n",
       "Not Applicable      1\n",
       "Staffing           15\n",
       "Name: Sales Rep Name, dtype: int64"
      ]
     },
     "execution_count": 14,
     "metadata": {},
     "output_type": "execute_result"
    }
   ],
   "source": [
    "# How to show full number?\n",
    "final.groupby(by = [\"Classification\"])[\"Sales Rep Name\"].nunique()"
   ]
  },
  {
   "cell_type": "markdown",
   "metadata": {},
   "source": [
    "### Average Revenue Per Advertiser in each Classification "
   ]
  },
  {
   "cell_type": "code",
   "execution_count": 15,
   "metadata": {
    "collapsed": false
   },
   "outputs": [
    {
     "data": {
      "text/plain": [
       "Classification\n",
       "Agency Only       4375.764325\n",
       "DCA                848.928957\n",
       "General DE        1534.837201\n",
       "Index             2540.741254\n",
       "National DE       5256.448338\n",
       "National SA       2379.635459\n",
       "Not Applicable     686.419254\n",
       "Staffing          1297.276946\n",
       "Name: Q1 Revenue, dtype: float64"
      ]
     },
     "execution_count": 15,
     "metadata": {},
     "output_type": "execute_result"
    }
   ],
   "source": [
    "# How to show full number?\n",
    "final.groupby(by = [\"Classification\"])[\"Q1 Revenue\"].mean()"
   ]
  },
  {
   "cell_type": "markdown",
   "metadata": {},
   "source": [
    "### Number of Unique Service Reps by Classification"
   ]
  },
  {
   "cell_type": "code",
   "execution_count": 18,
   "metadata": {
    "collapsed": false
   },
   "outputs": [],
   "source": [
    "final[\"CS Rep ID\"] = plus.get_advertiser_info(final[\"Advertiser ID\"], intype = \"advid\", outtype = \"service_rep\")"
   ]
  },
  {
   "cell_type": "code",
   "execution_count": 22,
   "metadata": {
    "collapsed": false
   },
   "outputs": [
    {
     "data": {
      "text/plain": [
       "Classification\n",
       "Agency Only        38\n",
       "DCA                42\n",
       "General DE        162\n",
       "Index             120\n",
       "National DE        78\n",
       "National SA        66\n",
       "Not Applicable    182\n",
       "Staffing           25\n",
       "Name: CS Rep ID, dtype: int64"
      ]
     },
     "execution_count": 22,
     "metadata": {},
     "output_type": "execute_result"
    }
   ],
   "source": [
    "final.groupby(by = [\"Classification\"])[\"CS Rep ID\"].nunique()"
   ]
  },
  {
   "cell_type": "code",
   "execution_count": null,
   "metadata": {
    "collapsed": true
   },
   "outputs": [],
   "source": []
  }
 ],
 "metadata": {
  "kernelspec": {
   "display_name": "Python 2",
   "language": "python",
   "name": "python2"
  },
  "language_info": {
   "codemirror_mode": {
    "name": "ipython",
    "version": 2
   },
   "file_extension": ".py",
   "mimetype": "text/x-python",
   "name": "python",
   "nbconvert_exporter": "python",
   "pygments_lexer": "ipython2",
   "version": "2.7.11"
  }
 },
 "nbformat": 4,
 "nbformat_minor": 0
}
