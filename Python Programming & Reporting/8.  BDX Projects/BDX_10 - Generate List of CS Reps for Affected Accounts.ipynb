{
 "cells": [
  {
   "cell_type": "code",
   "execution_count": 2,
   "metadata": {
    "collapsed": false
   },
   "outputs": [
    {
     "data": {
      "text/html": [
       "<style>.container { width:100% !important; }</style>"
      ],
      "text/plain": [
       "<IPython.core.display.HTML object>"
      ]
     },
     "metadata": {},
     "output_type": "display_data"
    }
   ],
   "source": [
    "%reload_ext ishbook\n",
    "import pandas as pd\n",
    "import numpy as np\n",
    "import datetime as dt\n",
    "import time\n",
    "import iql\n",
    "import plus\n",
    "import re\n",
    "from IPython.core.display import display, HTML\n",
    "display(HTML(\"<style>.container { width:100% !important; }</style>\"))"
   ]
  },
  {
   "cell_type": "markdown",
   "metadata": {},
   "source": [
    "## Pull in the affected Advertisers from IQL query provided by CSP\n",
    "* Elaborate on the advid to get the advertiser name"
   ]
  },
  {
   "cell_type": "code",
   "execution_count": null,
   "metadata": {
    "collapsed": false
   },
   "outputs": [],
   "source": [
    "%%ish\n",
    "\n",
    "affected_Accounts = from adconversion 1w today where hrefdomain = 'adcentral.indeed.com' dupe!=1 group by advid\n",
    "elaborate(affected_Accounts.advid)\n",
    "Output = None"
   ]
  },
  {
   "cell_type": "markdown",
   "metadata": {},
   "source": [
    "## Create a column to generate a link to the adCard for each affected advid"
   ]
  },
  {
   "cell_type": "code",
   "execution_count": 3,
   "metadata": {
    "collapsed": false
   },
   "outputs": [],
   "source": [
    "affected_Accounts[\"Link to AdCard\"] = 'https://adcentral.indeed.com/crm/history?aid=' + affected_Accounts[\"advid\"].astype(str)"
   ]
  },
  {
   "cell_type": "code",
   "execution_count": 4,
   "metadata": {
    "collapsed": false
   },
   "outputs": [
    {
     "data": {
      "text/html": [
       "<div>\n",
       "<table border=\"1\" class=\"dataframe\">\n",
       "  <thead>\n",
       "    <tr style=\"text-align: right;\">\n",
       "      <th></th>\n",
       "      <th>advid</th>\n",
       "      <th></th>\n",
       "      <th>_advid</th>\n",
       "      <th>Link to AdCard</th>\n",
       "    </tr>\n",
       "  </thead>\n",
       "  <tbody>\n",
       "    <tr>\n",
       "      <th>0</th>\n",
       "      <td>4240</td>\n",
       "      <td>1</td>\n",
       "      <td>WyzAnt Tutoring</td>\n",
       "      <td>https://adcentral.indeed.com/crm/history?aid=4240</td>\n",
       "    </tr>\n",
       "    <tr>\n",
       "      <th>1</th>\n",
       "      <td>4653</td>\n",
       "      <td>11</td>\n",
       "      <td>Sage Software</td>\n",
       "      <td>https://adcentral.indeed.com/crm/history?aid=4653</td>\n",
       "    </tr>\n",
       "    <tr>\n",
       "      <th>2</th>\n",
       "      <td>17574</td>\n",
       "      <td>1</td>\n",
       "      <td>Hairandbeautyjobs.com Ltd</td>\n",
       "      <td>https://adcentral.indeed.com/crm/history?aid=1...</td>\n",
       "    </tr>\n",
       "    <tr>\n",
       "      <th>3</th>\n",
       "      <td>19296</td>\n",
       "      <td>1</td>\n",
       "      <td>Centura Health</td>\n",
       "      <td>https://adcentral.indeed.com/crm/history?aid=1...</td>\n",
       "    </tr>\n",
       "    <tr>\n",
       "      <th>4</th>\n",
       "      <td>19591</td>\n",
       "      <td>4</td>\n",
       "      <td>Heartland Bank and Trust Company</td>\n",
       "      <td>https://adcentral.indeed.com/crm/history?aid=1...</td>\n",
       "    </tr>\n",
       "  </tbody>\n",
       "</table>\n",
       "</div>"
      ],
      "text/plain": [
       "   advid                                _advid  \\\n",
       "0   4240   1                   WyzAnt Tutoring   \n",
       "1   4653  11                     Sage Software   \n",
       "2  17574   1         Hairandbeautyjobs.com Ltd   \n",
       "3  19296   1                    Centura Health   \n",
       "4  19591   4  Heartland Bank and Trust Company   \n",
       "\n",
       "                                      Link to AdCard  \n",
       "0  https://adcentral.indeed.com/crm/history?aid=4240  \n",
       "1  https://adcentral.indeed.com/crm/history?aid=4653  \n",
       "2  https://adcentral.indeed.com/crm/history?aid=1...  \n",
       "3  https://adcentral.indeed.com/crm/history?aid=1...  \n",
       "4  https://adcentral.indeed.com/crm/history?aid=1...  "
      ]
     },
     "execution_count": 4,
     "metadata": {},
     "output_type": "execute_result"
    }
   ],
   "source": [
    "affected_Accounts.advid"
   ]
  },
  {
   "cell_type": "markdown",
   "metadata": {},
   "source": [
    "## Use PLUS to get the CS & Sales Rep IDs for each affected advertiser\n",
    "* Uses a nifty function that Boris taught me by feeding in column names into plus call\n",
    "- Appends the *service_rep* and *sales_rep* columns to the existing dataframe"
   ]
  },
  {
   "cell_type": "code",
   "execution_count": 82,
   "metadata": {
    "collapsed": false
   },
   "outputs": [],
   "source": [
    "for col in ['service_rep','sales_rep']:\n",
    "    affected_Accounts[col] = plus.get_advertiser_info(affected_Accounts.advid, intype = \"advid\", outtype = col)"
   ]
  },
  {
   "cell_type": "code",
   "execution_count": 71,
   "metadata": {
    "collapsed": false
   },
   "outputs": [
    {
     "data": {
      "text/html": [
       "<div>\n",
       "<table border=\"1\" class=\"dataframe\">\n",
       "  <thead>\n",
       "    <tr style=\"text-align: right;\">\n",
       "      <th></th>\n",
       "      <th>advid</th>\n",
       "      <th></th>\n",
       "      <th>_advid</th>\n",
       "      <th>Link to AdCard</th>\n",
       "      <th>service_rep</th>\n",
       "      <th>sales_rep</th>\n",
       "    </tr>\n",
       "  </thead>\n",
       "  <tbody>\n",
       "    <tr>\n",
       "      <th>161</th>\n",
       "      <td>8110093</td>\n",
       "      <td>1</td>\n",
       "      <td>NAPA Transportation</td>\n",
       "      <td>https://adcentral.indeed.com/crm/history?aid=8...</td>\n",
       "      <td>3914</td>\n",
       "      <td>950</td>\n",
       "    </tr>\n",
       "    <tr>\n",
       "      <th>162</th>\n",
       "      <td>8124395</td>\n",
       "      <td>18</td>\n",
       "      <td>mymuesli GmbH</td>\n",
       "      <td>https://adcentral.indeed.com/crm/history?aid=8...</td>\n",
       "      <td>5605</td>\n",
       "      <td>4579</td>\n",
       "    </tr>\n",
       "    <tr>\n",
       "      <th>163</th>\n",
       "      <td>8239733</td>\n",
       "      <td>10</td>\n",
       "      <td>“Campaign 2” Luxoft Global Operations GmbH</td>\n",
       "      <td>https://adcentral.indeed.com/crm/history?aid=8...</td>\n",
       "      <td>2806</td>\n",
       "      <td>2838</td>\n",
       "    </tr>\n",
       "    <tr>\n",
       "      <th>164</th>\n",
       "      <td>8301492</td>\n",
       "      <td>2</td>\n",
       "      <td>株式会社ヒト・コミュニケーションズ IB営業部</td>\n",
       "      <td>https://adcentral.indeed.com/crm/history?aid=8...</td>\n",
       "      <td>2331</td>\n",
       "      <td>1903</td>\n",
       "    </tr>\n",
       "    <tr>\n",
       "      <th>165</th>\n",
       "      <td>8442209</td>\n",
       "      <td>3</td>\n",
       "      <td>MaidPro Marin</td>\n",
       "      <td>https://adcentral.indeed.com/crm/history?aid=8...</td>\n",
       "      <td>4225</td>\n",
       "      <td>1</td>\n",
       "    </tr>\n",
       "  </tbody>\n",
       "</table>\n",
       "</div>"
      ],
      "text/plain": [
       "       advid                                          _advid  \\\n",
       "161  8110093   1                         NAPA Transportation   \n",
       "162  8124395  18                               mymuesli GmbH   \n",
       "163  8239733  10  “Campaign 2” Luxoft Global Operations GmbH   \n",
       "164  8301492   2                     株式会社ヒト・コミュニケーションズ IB営業部   \n",
       "165  8442209   3                               MaidPro Marin   \n",
       "\n",
       "                                        Link to AdCard  service_rep  sales_rep  \n",
       "161  https://adcentral.indeed.com/crm/history?aid=8...         3914        950  \n",
       "162  https://adcentral.indeed.com/crm/history?aid=8...         5605       4579  \n",
       "163  https://adcentral.indeed.com/crm/history?aid=8...         2806       2838  \n",
       "164  https://adcentral.indeed.com/crm/history?aid=8...         2331       1903  \n",
       "165  https://adcentral.indeed.com/crm/history?aid=8...         4225          1  "
      ]
     },
     "execution_count": 71,
     "metadata": {},
     "output_type": "execute_result"
    }
   ],
   "source": [
    "affected_Accounts.tail()"
   ]
  },
  {
   "cell_type": "code",
   "execution_count": 61,
   "metadata": {
    "collapsed": false
   },
   "outputs": [
    {
     "data": {
      "text/plain": [
       "Index([u'active', u'email', u'firstname', u'lastname', u'username'], dtype='object')"
      ]
     },
     "execution_count": 61,
     "metadata": {},
     "output_type": "execute_result"
    }
   ],
   "source": [
    "# just checking to see what the actual column names were for the get_user_info end point\n",
    "rep_info.columns"
   ]
  },
  {
   "cell_type": "markdown",
   "metadata": {},
   "source": [
    "## Get the Rep Names, Email address & Append to df\n",
    "\n",
    "* Again, use the column names being fed from the current df into a plus call\n",
    "    - Once all data has been retreived, creates a new column *Full Name* which is just combining the first and last names for each rep\n",
    "    - Appends the *Full Name* & *Email* columns to the df"
   ]
  },
  {
   "cell_type": "code",
   "execution_count": 83,
   "metadata": {
    "collapsed": true
   },
   "outputs": [],
   "source": [
    "for rep_type in ['service_rep', 'sales_rep']:\n",
    "    PLUS = plus.get_user_info(affected_Accounts[rep_type]).reset_index()\n",
    "    PLUS[\"Full Name\"] = PLUS.firstname + \" \" + PLUS.lastname\n",
    "    PLUS[\"Email\"] = PLUS.email\n",
    "    column_position = affected_Accounts.columns.values.tolist().index(rep_type) + 1\n",
    "    affected_Accounts.insert(column_position, rep_type + \" Full Name\", PLUS[\"Full Name\"])\n",
    "    affected_Accounts.insert(column_position, rep_type + \" Email\", PLUS[\"Email\"])"
   ]
  },
  {
   "cell_type": "code",
   "execution_count": 85,
   "metadata": {
    "collapsed": false
   },
   "outputs": [
    {
     "data": {
      "text/html": [
       "<div>\n",
       "<table border=\"1\" class=\"dataframe\">\n",
       "  <thead>\n",
       "    <tr style=\"text-align: right;\">\n",
       "      <th></th>\n",
       "      <th>advid</th>\n",
       "      <th></th>\n",
       "      <th>_advid</th>\n",
       "      <th>Link to AdCard</th>\n",
       "      <th>service_rep</th>\n",
       "      <th>service_rep Email</th>\n",
       "      <th>service_rep Full Name</th>\n",
       "      <th>sales_rep</th>\n",
       "      <th>sales_rep Email</th>\n",
       "      <th>sales_rep Full Name</th>\n",
       "    </tr>\n",
       "  </thead>\n",
       "  <tbody>\n",
       "    <tr>\n",
       "      <th>161</th>\n",
       "      <td>8110093</td>\n",
       "      <td>1</td>\n",
       "      <td>NAPA Transportation</td>\n",
       "      <td>https://adcentral.indeed.com/crm/history?aid=8...</td>\n",
       "      <td>3914</td>\n",
       "      <td>agomez@indeed.com</td>\n",
       "      <td>Amanda Gomez</td>\n",
       "      <td>950</td>\n",
       "      <td>matto@indeed.com</td>\n",
       "      <td>Matthew Owens</td>\n",
       "    </tr>\n",
       "    <tr>\n",
       "      <th>162</th>\n",
       "      <td>8124395</td>\n",
       "      <td>18</td>\n",
       "      <td>mymuesli GmbH</td>\n",
       "      <td>https://adcentral.indeed.com/crm/history?aid=8...</td>\n",
       "      <td>5605</td>\n",
       "      <td>svea@indeed.com</td>\n",
       "      <td>Svea von Gagern</td>\n",
       "      <td>4579</td>\n",
       "      <td>sszalaty@indeed.com</td>\n",
       "      <td>Sandra Szalaty</td>\n",
       "    </tr>\n",
       "    <tr>\n",
       "      <th>163</th>\n",
       "      <td>8239733</td>\n",
       "      <td>10</td>\n",
       "      <td>“Campaign 2” Luxoft Global Operations GmbH</td>\n",
       "      <td>https://adcentral.indeed.com/crm/history?aid=8...</td>\n",
       "      <td>2806</td>\n",
       "      <td>katya@indeed.com</td>\n",
       "      <td>Katya Sitko</td>\n",
       "      <td>2838</td>\n",
       "      <td>maxim@indeed.com</td>\n",
       "      <td>Maxim Staricov</td>\n",
       "    </tr>\n",
       "    <tr>\n",
       "      <th>164</th>\n",
       "      <td>8301492</td>\n",
       "      <td>2</td>\n",
       "      <td>株式会社ヒト・コミュニケーションズ IB営業部</td>\n",
       "      <td>https://adcentral.indeed.com/crm/history?aid=8...</td>\n",
       "      <td>2331</td>\n",
       "      <td>sho@indeed.com</td>\n",
       "      <td>Sho Sakurada</td>\n",
       "      <td>1903</td>\n",
       "      <td>gaku@indeed.com</td>\n",
       "      <td>Gaku Takeuchi</td>\n",
       "    </tr>\n",
       "    <tr>\n",
       "      <th>165</th>\n",
       "      <td>8442209</td>\n",
       "      <td>3</td>\n",
       "      <td>MaidPro Marin</td>\n",
       "      <td>https://adcentral.indeed.com/crm/history?aid=8...</td>\n",
       "      <td>4225</td>\n",
       "      <td>alinap@indeed.com</td>\n",
       "      <td>Alina Presbury</td>\n",
       "      <td>1</td>\n",
       "      <td></td>\n",
       "      <td>Not Applicable</td>\n",
       "    </tr>\n",
       "  </tbody>\n",
       "</table>\n",
       "</div>"
      ],
      "text/plain": [
       "       advid                                          _advid  \\\n",
       "161  8110093   1                         NAPA Transportation   \n",
       "162  8124395  18                               mymuesli GmbH   \n",
       "163  8239733  10  “Campaign 2” Luxoft Global Operations GmbH   \n",
       "164  8301492   2                     株式会社ヒト・コミュニケーションズ IB営業部   \n",
       "165  8442209   3                               MaidPro Marin   \n",
       "\n",
       "                                        Link to AdCard  service_rep  \\\n",
       "161  https://adcentral.indeed.com/crm/history?aid=8...         3914   \n",
       "162  https://adcentral.indeed.com/crm/history?aid=8...         5605   \n",
       "163  https://adcentral.indeed.com/crm/history?aid=8...         2806   \n",
       "164  https://adcentral.indeed.com/crm/history?aid=8...         2331   \n",
       "165  https://adcentral.indeed.com/crm/history?aid=8...         4225   \n",
       "\n",
       "     service_rep Email service_rep Full Name  sales_rep      sales_rep Email  \\\n",
       "161  agomez@indeed.com          Amanda Gomez        950     matto@indeed.com   \n",
       "162    svea@indeed.com       Svea von Gagern       4579  sszalaty@indeed.com   \n",
       "163   katya@indeed.com           Katya Sitko       2838     maxim@indeed.com   \n",
       "164     sho@indeed.com          Sho Sakurada       1903      gaku@indeed.com   \n",
       "165  alinap@indeed.com        Alina Presbury          1                        \n",
       "\n",
       "    sales_rep Full Name  \n",
       "161       Matthew Owens  \n",
       "162      Sandra Szalaty  \n",
       "163      Maxim Staricov  \n",
       "164       Gaku Takeuchi  \n",
       "165      Not Applicable  "
      ]
     },
     "execution_count": 85,
     "metadata": {},
     "output_type": "execute_result"
    }
   ],
   "source": [
    "affected_Accounts.tail()"
   ]
  },
  {
   "cell_type": "markdown",
   "metadata": {},
   "source": [
    "## Drop the service rep and sales rep ID fields, replace empty values with \"-\" and rename the company\n",
    "- Export the final output to CSV and change the encoding to \"utf-8\" because of the special characters in the advertiser name"
   ]
  },
  {
   "cell_type": "code",
   "execution_count": 104,
   "metadata": {
    "collapsed": false
   },
   "outputs": [],
   "source": [
    "a = affected_Accounts.drop(affected_Accounts.columns[[4, 7]], axis = 1).replace(\"\", \"-\").rename(columns = {\"_advid\" : \"Company Name\"})"
   ]
  },
  {
   "cell_type": "code",
   "execution_count": 108,
   "metadata": {
    "collapsed": false
   },
   "outputs": [],
   "source": [
    "a.to_csv(\"list_of_advids.csv\", encoding = 'utf-8')"
   ]
  },
  {
   "cell_type": "code",
   "execution_count": null,
   "metadata": {
    "collapsed": true
   },
   "outputs": [],
   "source": []
  }
 ],
 "metadata": {
  "anaconda-cloud": {},
  "kernelspec": {
   "display_name": "Python [Root]",
   "language": "python",
   "name": "Python [Root]"
  },
  "language_info": {
   "codemirror_mode": {
    "name": "ipython",
    "version": 2
   },
   "file_extension": ".py",
   "mimetype": "text/x-python",
   "name": "python",
   "nbconvert_exporter": "python",
   "pygments_lexer": "ipython2",
   "version": "2.7.12"
  }
 },
 "nbformat": 4,
 "nbformat_minor": 0
}
