{
 "cells": [
  {
   "cell_type": "code",
   "execution_count": 1,
   "metadata": {
    "collapsed": false
   },
   "outputs": [
    {
     "data": {
      "text/html": [
       "<style>.container { width:100% !important; }</style>"
      ],
      "text/plain": [
       "<IPython.core.display.HTML object>"
      ]
     },
     "metadata": {},
     "output_type": "display_data"
    }
   ],
   "source": [
    "%reload_ext ishbook\n",
    "import pandas as pd\n",
    "import numpy as np\n",
    "import datetime as dt\n",
    "import time\n",
    "import iql\n",
    "import plus\n",
    "import re\n",
    "from IPython.core.display import display, HTML\n",
    "display(HTML(\"<style>.container { width:100% !important; }</style>\"))"
   ]
  },
  {
   "cell_type": "markdown",
   "metadata": {},
   "source": [
    "## Pull in the affected Advertisers from IQL query provided by CSP\n",
    "* Elaborate on the advid to get the advertiser name"
   ]
  },
  {
   "cell_type": "code",
   "execution_count": null,
   "metadata": {
    "collapsed": true
   },
   "outputs": [],
   "source": []
  },
  {
   "cell_type": "code",
   "execution_count": 3,
   "metadata": {
    "collapsed": false
   },
   "outputs": [],
   "source": [
    "%%ish\n",
    "\n",
    "tcpa_complaint = from advertiserevent 2016-10-01 today where service_rep_id = 2 activity_type IN (CONTACT_WEB_FORM, ZENDESK_ESCALATION, LEAD_FROM_HIRE_CONTACT_FORM) group by advertiser_id, service_rep_username\n",
    "Output = None"
   ]
  },
  {
   "cell_type": "code",
   "execution_count": 4,
   "metadata": {
    "collapsed": false
   },
   "outputs": [
    {
     "data": {
      "text/plain": [
       "4832"
      ]
     },
     "execution_count": 4,
     "metadata": {},
     "output_type": "execute_result"
    }
   ],
   "source": [
    "tcpa_complaint.advertiser_id.nunique()"
   ]
  },
  {
   "cell_type": "code",
   "execution_count": 5,
   "metadata": {
    "collapsed": false
   },
   "outputs": [
    {
     "name": "stdout",
     "output_type": "stream",
     "text": [
      "LDAP name:\n",
      "dmoncada\n",
      "Password:\n",
      "········\n"
     ]
    }
   ],
   "source": [
    "okay_to_contact = plus.get_advertiser_info(tcpa_complaint.advertiser_id)"
   ]
  },
  {
   "cell_type": "code",
   "execution_count": 10,
   "metadata": {
    "collapsed": false
   },
   "outputs": [
    {
     "name": "stdout",
     "output_type": "stream",
     "text": [
      "verified                1864\n",
      "enabled                 1381\n",
      "rejected                1010\n",
      "verified_spononly        244\n",
      "pending                  174\n",
      "disabled                 157\n",
      "more_information_req       2\n",
      "Name: showHostedJobs, dtype: int64\n",
      "2    2707\n",
      "1    1636\n",
      "0     489\n",
      "Name: active, dtype: int64\n"
     ]
    }
   ],
   "source": [
    "print okay_to_contact.showHostedJobs.value_counts()\n",
    "print okay_to_contact.active.value_counts()"
   ]
  },
  {
   "cell_type": "code",
   "execution_count": 13,
   "metadata": {
    "collapsed": false
   },
   "outputs": [
    {
     "data": {
      "text/plain": [
       "advertiser_id\n",
       "29775    0\n",
       "38902    0\n",
       "56241    0\n",
       "60412    1\n",
       "60646    0\n",
       "Name: bid_managed, dtype: object"
      ]
     },
     "execution_count": 13,
     "metadata": {},
     "output_type": "execute_result"
    }
   ],
   "source": [
    "okay_to_contact.head()['bid_managed']"
   ]
  },
  {
   "cell_type": "code",
   "execution_count": 12,
   "metadata": {
    "collapsed": false
   },
   "outputs": [
    {
     "data": {
      "text/plain": [
       "Index([u'account_email', u'account_id', u'active', u'agency_city',\n",
       "       u'agency_country', u'agency_id', u'agency_location_id', u'agency_name',\n",
       "       u'agency_rep', u'agency_state', u'bid_managed', u'billing_country',\n",
       "       u'billing_state', u'billing_zip', u'commission_last_date',\n",
       "       u'commission_start_date', u'company', u'currency', u'date_created',\n",
       "       u'employee_count', u'first_revenue_date', u'industry', u'is_ad_agency',\n",
       "       u'last_revenue_date', u'locale', u'masteraccount_id', u'okay_to_call',\n",
       "       u'parent_company_id', u'sales_rep', u'service_rep', u'showHostedJobs',\n",
       "       u'strategic_rep', u'type'],\n",
       "      dtype='object')"
      ]
     },
     "execution_count": 12,
     "metadata": {},
     "output_type": "execute_result"
    }
   ],
   "source": [
    "okay_to_contact.columns"
   ]
  },
  {
   "cell_type": "code",
   "execution_count": 14,
   "metadata": {
    "collapsed": false
   },
   "outputs": [],
   "source": [
    "okay_to_contact_2 = okay_to_contact[['last_revenue_date', 'active', 'okay_to_call', 'showHostedJobs']]"
   ]
  },
  {
   "cell_type": "code",
   "execution_count": 17,
   "metadata": {
    "collapsed": false
   },
   "outputs": [],
   "source": [
    "combined_df = tcpa_complaint.merge(okay_to_contact_2, left_on = \"advertiser_id\", right_index = True)"
   ]
  },
  {
   "cell_type": "code",
   "execution_count": 22,
   "metadata": {
    "collapsed": false
   },
   "outputs": [],
   "source": [
    "active = combined_df['active'] > 0\n",
    "jobstatus = combined_df['showHostedJobs'].isin(['verified', 'pending', 'enabled', 'verified_spononly'])\n",
    "current_rev = combined_df['last_revenue_date'] > '2016-01-01'"
   ]
  },
  {
   "cell_type": "code",
   "execution_count": 23,
   "metadata": {
    "collapsed": true
   },
   "outputs": [],
   "source": [
    "final_df = combined_df[active & jobstatus & current_rev]"
   ]
  },
  {
   "cell_type": "code",
   "execution_count": 24,
   "metadata": {
    "collapsed": false
   },
   "outputs": [
    {
     "data": {
      "text/plain": [
       "33500"
      ]
     },
     "execution_count": 24,
     "metadata": {},
     "output_type": "execute_result"
    }
   ],
   "source": [
    "len(final_df)"
   ]
  },
  {
   "cell_type": "code",
   "execution_count": 30,
   "metadata": {
    "collapsed": false
   },
   "outputs": [
    {
     "data": {
      "text/plain": [
       "True     17598\n",
       "False    15902\n",
       "Name: okay_to_call, dtype: int64"
      ]
     },
     "execution_count": 30,
     "metadata": {},
     "output_type": "execute_result"
    }
   ],
   "source": [
    "final_df.okay_to_call.value_counts()"
   ]
  },
  {
   "cell_type": "code",
   "execution_count": null,
   "metadata": {
    "collapsed": true
   },
   "outputs": [],
   "source": []
  },
  {
   "cell_type": "code",
   "execution_count": null,
   "metadata": {
    "collapsed": true
   },
   "outputs": [],
   "source": []
  }
 ],
 "metadata": {
  "anaconda-cloud": {},
  "kernelspec": {
   "display_name": "Python [Root]",
   "language": "python",
   "name": "Python [Root]"
  },
  "language_info": {
   "codemirror_mode": {
    "name": "ipython",
    "version": 2
   },
   "file_extension": ".py",
   "mimetype": "text/x-python",
   "name": "python",
   "nbconvert_exporter": "python",
   "pygments_lexer": "ipython2",
   "version": "2.7.12"
  }
 },
 "nbformat": 4,
 "nbformat_minor": 0
}
