{
 "cells": [
  {
   "cell_type": "code",
   "execution_count": 59,
   "metadata": {
    "collapsed": false
   },
   "outputs": [
    {
     "data": {
      "text/html": [
       "<style>.container { width:100% !important; }</style>"
      ],
      "text/plain": [
       "<IPython.core.display.HTML object>"
      ]
     },
     "metadata": {},
     "output_type": "display_data"
    }
   ],
   "source": [
    "%reload_ext ishbook\n",
    "import pandas as pd\n",
    "import numpy as np\n",
    "import plus\n",
    "import datetime as dt\n",
    "from datetime import datetime\n",
    "from IPython.core.display import display, HTML\n",
    "display(HTML(\"<style>.container { width:100% !important; }</style>\"))"
   ]
  },
  {
   "cell_type": "code",
   "execution_count": 60,
   "metadata": {
    "collapsed": false
   },
   "outputs": [],
   "source": [
    "rep_info = plus.read_google_sheet('1dTuz8gPQ8d1REKJ2wwoif34QczcfhkzDOhaW6ubkEJc', intype='key', header=True, sheet='Sales Roster')[[ 'New Team Names', 'User ID']]\n",
    "\n",
    "#Imported data from Google Sheet with Sales Team reps"
   ]
  },
  {
   "cell_type": "code",
   "execution_count": 61,
   "metadata": {
    "collapsed": false
   },
   "outputs": [],
   "source": [
    "NYC_DE1 = rep_info[\"New Team Names\"] == \"NYC-DE1\"\n",
    "NYC_DE8 = rep_info[\"New Team Names\"] == \"NYC-DE8\"\n",
    "\n",
    "nyc_teams = rep_info[NYC_DE1 | NYC_DE8]\n",
    "\n",
    "output = None"
   ]
  },
  {
   "cell_type": "code",
   "execution_count": 42,
   "metadata": {
    "collapsed": false
   },
   "outputs": [
    {
     "data": {
      "text/html": [
       "<div>\n",
       "<table border=\"1\" class=\"dataframe\">\n",
       "  <thead>\n",
       "    <tr style=\"text-align: right;\">\n",
       "      <th></th>\n",
       "      <th>New Team Names</th>\n",
       "      <th>User ID</th>\n",
       "    </tr>\n",
       "    <tr>\n",
       "      <th>ID</th>\n",
       "      <th></th>\n",
       "      <th></th>\n",
       "    </tr>\n",
       "  </thead>\n",
       "  <tbody>\n",
       "    <tr>\n",
       "      <th>434</th>\n",
       "      <td>NYC-DE1</td>\n",
       "      <td>434</td>\n",
       "    </tr>\n",
       "    <tr>\n",
       "      <th>435</th>\n",
       "      <td>NYC-DE1</td>\n",
       "      <td>435</td>\n",
       "    </tr>\n",
       "    <tr>\n",
       "      <th>472</th>\n",
       "      <td>NYC-DE1</td>\n",
       "      <td>472</td>\n",
       "    </tr>\n",
       "    <tr>\n",
       "      <th>485</th>\n",
       "      <td>NYC-DE1</td>\n",
       "      <td>485</td>\n",
       "    </tr>\n",
       "    <tr>\n",
       "      <th>580</th>\n",
       "      <td>NYC-DE1</td>\n",
       "      <td>580</td>\n",
       "    </tr>\n",
       "    <tr>\n",
       "      <th>738</th>\n",
       "      <td>NYC-DE1</td>\n",
       "      <td>738</td>\n",
       "    </tr>\n",
       "    <tr>\n",
       "      <th>777</th>\n",
       "      <td>NYC-DE1</td>\n",
       "      <td>777</td>\n",
       "    </tr>\n",
       "    <tr>\n",
       "      <th>914</th>\n",
       "      <td>NYC-DE1</td>\n",
       "      <td>914</td>\n",
       "    </tr>\n",
       "    <tr>\n",
       "      <th>972</th>\n",
       "      <td>NYC-DE1</td>\n",
       "      <td>972</td>\n",
       "    </tr>\n",
       "    <tr>\n",
       "      <th>1009</th>\n",
       "      <td>NYC-DE1</td>\n",
       "      <td>1009</td>\n",
       "    </tr>\n",
       "    <tr>\n",
       "      <th>1034</th>\n",
       "      <td>NYC-DE8</td>\n",
       "      <td>1034</td>\n",
       "    </tr>\n",
       "    <tr>\n",
       "      <th>1045</th>\n",
       "      <td>NYC-DE1</td>\n",
       "      <td>1045</td>\n",
       "    </tr>\n",
       "    <tr>\n",
       "      <th>1068</th>\n",
       "      <td>NYC-DE1</td>\n",
       "      <td>1068</td>\n",
       "    </tr>\n",
       "    <tr>\n",
       "      <th>1108</th>\n",
       "      <td>NYC-DE1</td>\n",
       "      <td>1108</td>\n",
       "    </tr>\n",
       "    <tr>\n",
       "      <th>1309</th>\n",
       "      <td>NYC-DE1</td>\n",
       "      <td>1309</td>\n",
       "    </tr>\n",
       "    <tr>\n",
       "      <th>1153</th>\n",
       "      <td>NYC-DE1</td>\n",
       "      <td>1153</td>\n",
       "    </tr>\n",
       "    <tr>\n",
       "      <th>1376</th>\n",
       "      <td>NYC-DE1</td>\n",
       "      <td>1376</td>\n",
       "    </tr>\n",
       "    <tr>\n",
       "      <th>1998</th>\n",
       "      <td>NYC-DE1</td>\n",
       "      <td>1998</td>\n",
       "    </tr>\n",
       "    <tr>\n",
       "      <th>2038</th>\n",
       "      <td>NYC-DE1</td>\n",
       "      <td>2038</td>\n",
       "    </tr>\n",
       "    <tr>\n",
       "      <th>2042</th>\n",
       "      <td>NYC-DE1</td>\n",
       "      <td>2042</td>\n",
       "    </tr>\n",
       "    <tr>\n",
       "      <th>1366</th>\n",
       "      <td>NYC-DE1</td>\n",
       "      <td>1366</td>\n",
       "    </tr>\n",
       "    <tr>\n",
       "      <th>1750</th>\n",
       "      <td>NYC-DE1</td>\n",
       "      <td>1750</td>\n",
       "    </tr>\n",
       "    <tr>\n",
       "      <th>2275</th>\n",
       "      <td>NYC-DE1</td>\n",
       "      <td>2275</td>\n",
       "    </tr>\n",
       "    <tr>\n",
       "      <th>2310</th>\n",
       "      <td>NYC-DE1</td>\n",
       "      <td>2310</td>\n",
       "    </tr>\n",
       "    <tr>\n",
       "      <th>2311</th>\n",
       "      <td>NYC-DE1</td>\n",
       "      <td>2311</td>\n",
       "    </tr>\n",
       "    <tr>\n",
       "      <th>2322</th>\n",
       "      <td>NYC-DE1</td>\n",
       "      <td>2322</td>\n",
       "    </tr>\n",
       "    <tr>\n",
       "      <th>2980</th>\n",
       "      <td>NYC-DE8</td>\n",
       "      <td>2980</td>\n",
       "    </tr>\n",
       "    <tr>\n",
       "      <th>2986</th>\n",
       "      <td>NYC-DE8</td>\n",
       "      <td>2986</td>\n",
       "    </tr>\n",
       "    <tr>\n",
       "      <th>2994</th>\n",
       "      <td>NYC-DE8</td>\n",
       "      <td>2994</td>\n",
       "    </tr>\n",
       "    <tr>\n",
       "      <th>2681</th>\n",
       "      <td>NYC-DE8</td>\n",
       "      <td>2681</td>\n",
       "    </tr>\n",
       "    <tr>\n",
       "      <th>2724</th>\n",
       "      <td>NYC-DE8</td>\n",
       "      <td>2724</td>\n",
       "    </tr>\n",
       "    <tr>\n",
       "      <th>3065</th>\n",
       "      <td>NYC-DE1</td>\n",
       "      <td>3065</td>\n",
       "    </tr>\n",
       "    <tr>\n",
       "      <th>3066</th>\n",
       "      <td>NYC-DE8</td>\n",
       "      <td>3066</td>\n",
       "    </tr>\n",
       "    <tr>\n",
       "      <th>3208</th>\n",
       "      <td>NYC-DE1</td>\n",
       "      <td>3208</td>\n",
       "    </tr>\n",
       "    <tr>\n",
       "      <th>3244</th>\n",
       "      <td>NYC-DE8</td>\n",
       "      <td>3244</td>\n",
       "    </tr>\n",
       "    <tr>\n",
       "      <th>3257</th>\n",
       "      <td>NYC-DE8</td>\n",
       "      <td>3257</td>\n",
       "    </tr>\n",
       "    <tr>\n",
       "      <th>3264</th>\n",
       "      <td>NYC-DE8</td>\n",
       "      <td>3264</td>\n",
       "    </tr>\n",
       "    <tr>\n",
       "      <th>3316</th>\n",
       "      <td>NYC-DE8</td>\n",
       "      <td>3316</td>\n",
       "    </tr>\n",
       "    <tr>\n",
       "      <th>3502</th>\n",
       "      <td>NYC-DE1</td>\n",
       "      <td>3502</td>\n",
       "    </tr>\n",
       "    <tr>\n",
       "      <th>3820</th>\n",
       "      <td>NYC-DE1</td>\n",
       "      <td>3820</td>\n",
       "    </tr>\n",
       "    <tr>\n",
       "      <th>1849</th>\n",
       "      <td>NYC-DE1</td>\n",
       "      <td>1849</td>\n",
       "    </tr>\n",
       "    <tr>\n",
       "      <th>4778</th>\n",
       "      <td>NYC-DE8</td>\n",
       "      <td>4778</td>\n",
       "    </tr>\n",
       "    <tr>\n",
       "      <th>4902</th>\n",
       "      <td>NYC-DE1</td>\n",
       "      <td>4902</td>\n",
       "    </tr>\n",
       "    <tr>\n",
       "      <th>5416</th>\n",
       "      <td>NYC-DE8</td>\n",
       "      <td>5416</td>\n",
       "    </tr>\n",
       "    <tr>\n",
       "      <th>5399</th>\n",
       "      <td>NYC-DE1</td>\n",
       "      <td>5399</td>\n",
       "    </tr>\n",
       "    <tr>\n",
       "      <th>3080</th>\n",
       "      <td>NYC-DE1</td>\n",
       "      <td>3080</td>\n",
       "    </tr>\n",
       "    <tr>\n",
       "      <th>4191</th>\n",
       "      <td>NYC-DE1</td>\n",
       "      <td>4191</td>\n",
       "    </tr>\n",
       "    <tr>\n",
       "      <th>3079</th>\n",
       "      <td>NYC-DE1</td>\n",
       "      <td>3079</td>\n",
       "    </tr>\n",
       "    <tr>\n",
       "      <th>5872</th>\n",
       "      <td>NYC-DE1</td>\n",
       "      <td>5872</td>\n",
       "    </tr>\n",
       "    <tr>\n",
       "      <th>3285</th>\n",
       "      <td>NYC-DE1</td>\n",
       "      <td>3285</td>\n",
       "    </tr>\n",
       "    <tr>\n",
       "      <th>5952</th>\n",
       "      <td>NYC-DE8</td>\n",
       "      <td>5952</td>\n",
       "    </tr>\n",
       "  </tbody>\n",
       "</table>\n",
       "</div>"
      ],
      "text/plain": [
       "     New Team Names User ID\n",
       "ID                         \n",
       "434         NYC-DE1     434\n",
       "435         NYC-DE1     435\n",
       "472         NYC-DE1     472\n",
       "485         NYC-DE1     485\n",
       "580         NYC-DE1     580\n",
       "738         NYC-DE1     738\n",
       "777         NYC-DE1     777\n",
       "914         NYC-DE1     914\n",
       "972         NYC-DE1     972\n",
       "1009        NYC-DE1    1009\n",
       "1034        NYC-DE8    1034\n",
       "1045        NYC-DE1    1045\n",
       "1068        NYC-DE1    1068\n",
       "1108        NYC-DE1    1108\n",
       "1309        NYC-DE1    1309\n",
       "1153        NYC-DE1    1153\n",
       "1376        NYC-DE1    1376\n",
       "1998        NYC-DE1    1998\n",
       "2038        NYC-DE1    2038\n",
       "2042        NYC-DE1    2042\n",
       "1366        NYC-DE1    1366\n",
       "1750        NYC-DE1    1750\n",
       "2275        NYC-DE1    2275\n",
       "2310        NYC-DE1    2310\n",
       "2311        NYC-DE1    2311\n",
       "2322        NYC-DE1    2322\n",
       "2980        NYC-DE8    2980\n",
       "2986        NYC-DE8    2986\n",
       "2994        NYC-DE8    2994\n",
       "2681        NYC-DE8    2681\n",
       "2724        NYC-DE8    2724\n",
       "3065        NYC-DE1    3065\n",
       "3066        NYC-DE8    3066\n",
       "3208        NYC-DE1    3208\n",
       "3244        NYC-DE8    3244\n",
       "3257        NYC-DE8    3257\n",
       "3264        NYC-DE8    3264\n",
       "3316        NYC-DE8    3316\n",
       "3502        NYC-DE1    3502\n",
       "3820        NYC-DE1    3820\n",
       "1849        NYC-DE1    1849\n",
       "4778        NYC-DE8    4778\n",
       "4902        NYC-DE1    4902\n",
       "5416        NYC-DE8    5416\n",
       "5399        NYC-DE1    5399\n",
       "3080        NYC-DE1    3080\n",
       "4191        NYC-DE1    4191\n",
       "3079        NYC-DE1    3079\n",
       "5872        NYC-DE1    5872\n",
       "3285        NYC-DE1    3285\n",
       "5952        NYC-DE8    5952"
      ]
     },
     "execution_count": 42,
     "metadata": {},
     "output_type": "execute_result"
    }
   ],
   "source": [
    "nyc_teams"
   ]
  },
  {
   "cell_type": "code",
   "execution_count": 62,
   "metadata": {
    "collapsed": false
   },
   "outputs": [],
   "source": [
    "nyc_ids = \",\".join(str(x) for x in nyc_teams['User ID'])\n",
    "\n",
    "#fed the usernames into a string for the NYC-DE1 team"
   ]
  },
  {
   "cell_type": "code",
   "execution_count": 63,
   "metadata": {
    "collapsed": false
   },
   "outputs": [
    {
     "data": {
      "text/plain": [
       "'434,435,472,485,580,738,777,914,972,1009,1034,1045,1068,1108,1309,1153,1376,1998,2038,2042,1366,1750,2275,2310,2311,2322,2980,2986,2994,2681,2724,3065,3066,3208,3244,3257,3264,3316,3502,3820,1849,4778,4902,5416,5399,3080,4191,3079,5872,3285,5952'"
      ]
     },
     "execution_count": 63,
     "metadata": {},
     "output_type": "execute_result"
    }
   ],
   "source": [
    "nyc_ids = nyc_ids.rstrip(',')\n",
    "#removed the comma after the last username\n",
    "\n",
    "nyc_ids"
   ]
  },
  {
   "cell_type": "code",
   "execution_count": 64,
   "metadata": {
    "collapsed": false
   },
   "outputs": [],
   "source": [
    "%%ish\n",
    "\n",
    "callsinbound = from crmcalls yesterday today WHERE rep_id IN ({nyc_ids}) direction IN ('Inbound') talk_time_seconds >= 90 certainty != \"uncertain (multiple contacts, no note in 30 minutes)\" and client_type = advertiser GROUP BY rep_id/*repid*/, client_id/*advid*/, direction, unixtime SELECT count()/*calls*/\n",
    "callsoutbound = from crmcalls yesterday today WHERE rep_id IN ({nyc_ids}) direction IN ('Outbound') talk_time_seconds >= 180 certainty != \"uncertain (multiple contacts, no note in 30 minutes)\" and client_type = advertiser GROUP BY rep_id/*repid*/, client_id/*advid*/, direction, unixtime SELECT count()/*calls*/\n",
    "emails = from crmemails yesterday today WHERE user_id IN ({nyc_ids}) direction IN ('OUTGOING') and advid > 0 GROUP BY user_id/*repid*/, advid, unixtime SELECT count()/*emails*/\n",
    "\n",
    "output = None\n",
    "\n",
    "#Pulls previous day interactions for NYC-DE1/NYC-DE8 teams based on the established criteria"
   ]
  },
  {
   "cell_type": "code",
   "execution_count": 65,
   "metadata": {
    "collapsed": false
   },
   "outputs": [
    {
     "name": "stdout",
     "output_type": "stream",
     "text": [
      "200\n",
      "     advid  calls direction  emails  repid    unixtime\n",
      "0  2321953    NaN       NaN     1.0   2042  1474546211\n"
     ]
    }
   ],
   "source": [
    "interactions = emails.append(callsinbound).append(callsoutbound)\n",
    "print len(interactions)\n",
    "print interactions.head(1)"
   ]
  },
  {
   "cell_type": "code",
   "execution_count": 66,
   "metadata": {
    "collapsed": true
   },
   "outputs": [],
   "source": [
    "interactions['Timestamp'] = pd.to_datetime(interactions.unixtime,unit='s') + pd.Timedelta(hours=-5)"
   ]
  },
  {
   "cell_type": "code",
   "execution_count": 67,
   "metadata": {
    "collapsed": false
   },
   "outputs": [
    {
     "data": {
      "text/html": [
       "<div>\n",
       "<table border=\"1\" class=\"dataframe\">\n",
       "  <thead>\n",
       "    <tr style=\"text-align: right;\">\n",
       "      <th></th>\n",
       "      <th>index</th>\n",
       "      <th>firstname</th>\n",
       "      <th>lastname</th>\n",
       "      <th>Rep</th>\n",
       "    </tr>\n",
       "  </thead>\n",
       "  <tbody>\n",
       "    <tr>\n",
       "      <th>0</th>\n",
       "      <td>2042</td>\n",
       "      <td>Seth</td>\n",
       "      <td>Bishop</td>\n",
       "      <td>Seth Bishop</td>\n",
       "    </tr>\n",
       "    <tr>\n",
       "      <th>1</th>\n",
       "      <td>2681</td>\n",
       "      <td>Alexandra</td>\n",
       "      <td>Tuazon</td>\n",
       "      <td>Alexandra Tuazon</td>\n",
       "    </tr>\n",
       "    <tr>\n",
       "      <th>2</th>\n",
       "      <td>1750</td>\n",
       "      <td>John</td>\n",
       "      <td>Akey</td>\n",
       "      <td>John Akey</td>\n",
       "    </tr>\n",
       "    <tr>\n",
       "      <th>3</th>\n",
       "      <td>5416</td>\n",
       "      <td>D'ahna</td>\n",
       "      <td>Bishop</td>\n",
       "      <td>D'ahna Bishop</td>\n",
       "    </tr>\n",
       "    <tr>\n",
       "      <th>4</th>\n",
       "      <td>3066</td>\n",
       "      <td>Anna</td>\n",
       "      <td>Rofsky</td>\n",
       "      <td>Anna Rofsky</td>\n",
       "    </tr>\n",
       "    <tr>\n",
       "      <th>5</th>\n",
       "      <td>3820</td>\n",
       "      <td>Zachary</td>\n",
       "      <td>Carlson</td>\n",
       "      <td>Zachary Carlson</td>\n",
       "    </tr>\n",
       "    <tr>\n",
       "      <th>6</th>\n",
       "      <td>1849</td>\n",
       "      <td>Adam</td>\n",
       "      <td>Schankman</td>\n",
       "      <td>Adam Schankman</td>\n",
       "    </tr>\n",
       "    <tr>\n",
       "      <th>7</th>\n",
       "      <td>3079</td>\n",
       "      <td>Ryan</td>\n",
       "      <td>Sessa</td>\n",
       "      <td>Ryan Sessa</td>\n",
       "    </tr>\n",
       "    <tr>\n",
       "      <th>8</th>\n",
       "      <td>3208</td>\n",
       "      <td>Scott</td>\n",
       "      <td>Johnson</td>\n",
       "      <td>Scott Johnson</td>\n",
       "    </tr>\n",
       "    <tr>\n",
       "      <th>9</th>\n",
       "      <td>3316</td>\n",
       "      <td>Pavel</td>\n",
       "      <td>Brutman</td>\n",
       "      <td>Pavel Brutman</td>\n",
       "    </tr>\n",
       "  </tbody>\n",
       "</table>\n",
       "</div>"
      ],
      "text/plain": [
       "   index  firstname   lastname               Rep\n",
       "0   2042       Seth     Bishop       Seth Bishop\n",
       "1   2681  Alexandra     Tuazon  Alexandra Tuazon\n",
       "2   1750       John       Akey         John Akey\n",
       "3   5416     D'ahna     Bishop     D'ahna Bishop\n",
       "4   3066       Anna     Rofsky       Anna Rofsky\n",
       "5   3820    Zachary    Carlson   Zachary Carlson\n",
       "6   1849       Adam  Schankman    Adam Schankman\n",
       "7   3079       Ryan      Sessa        Ryan Sessa\n",
       "8   3208      Scott    Johnson     Scott Johnson\n",
       "9   3316      Pavel    Brutman     Pavel Brutman"
      ]
     },
     "execution_count": 67,
     "metadata": {},
     "output_type": "execute_result"
    }
   ],
   "source": [
    "repname = plus.get_user_info(interactions.repid.unique())[['firstname','lastname']]\n",
    "repname.reset_index(inplace=True)\n",
    "repname['Rep'] = repname.firstname + \" \" + repname.lastname\n",
    "repname.head(10)"
   ]
  },
  {
   "cell_type": "code",
   "execution_count": 68,
   "metadata": {
    "collapsed": true
   },
   "outputs": [],
   "source": [
    "advemail = plus.get_advertiser_info(interactions.advid.unique())[['account_email','billing_country','locale','showHostedJobs','active']]\n",
    "advemail.reset_index(inplace=True)"
   ]
  },
  {
   "cell_type": "code",
   "execution_count": 69,
   "metadata": {
    "collapsed": false
   },
   "outputs": [
    {
     "data": {
      "text/plain": [
       "200"
      ]
     },
     "execution_count": 69,
     "metadata": {},
     "output_type": "execute_result"
    }
   ],
   "source": [
    "dirty_merge = interactions.merge(repname,how='inner',left_on='repid',right_on='index').merge(advemail,how='inner',left_on='advid',right_on='index')\n",
    "len(dirty_merge)"
   ]
  },
  {
   "cell_type": "code",
   "execution_count": 70,
   "metadata": {
    "collapsed": false
   },
   "outputs": [
    {
     "data": {
      "text/html": [
       "<div>\n",
       "<table border=\"1\" class=\"dataframe\">\n",
       "  <thead>\n",
       "    <tr style=\"text-align: right;\">\n",
       "      <th></th>\n",
       "      <th>advid</th>\n",
       "      <th>calls</th>\n",
       "      <th>direction</th>\n",
       "      <th>emails</th>\n",
       "      <th>repid</th>\n",
       "      <th>unixtime</th>\n",
       "      <th>Timestamp</th>\n",
       "      <th>index_x</th>\n",
       "      <th>firstname</th>\n",
       "      <th>lastname</th>\n",
       "      <th>Rep</th>\n",
       "      <th>index_y</th>\n",
       "      <th>account_email</th>\n",
       "      <th>billing_country</th>\n",
       "      <th>locale</th>\n",
       "      <th>showHostedJobs</th>\n",
       "      <th>active</th>\n",
       "    </tr>\n",
       "  </thead>\n",
       "  <tbody>\n",
       "    <tr>\n",
       "      <th>0</th>\n",
       "      <td>2321953</td>\n",
       "      <td>NaN</td>\n",
       "      <td>NaN</td>\n",
       "      <td>1.0</td>\n",
       "      <td>2042</td>\n",
       "      <td>1474546211</td>\n",
       "      <td>2016-09-22 07:10:11</td>\n",
       "      <td>2042</td>\n",
       "      <td>Seth</td>\n",
       "      <td>Bishop</td>\n",
       "      <td>Seth Bishop</td>\n",
       "      <td>2321953</td>\n",
       "      <td>cmccarthy@srcare.org</td>\n",
       "      <td>US</td>\n",
       "      <td>en</td>\n",
       "      <td>verified</td>\n",
       "      <td>1</td>\n",
       "    </tr>\n",
       "    <tr>\n",
       "      <th>1</th>\n",
       "      <td>2321953</td>\n",
       "      <td>NaN</td>\n",
       "      <td>NaN</td>\n",
       "      <td>1.0</td>\n",
       "      <td>2042</td>\n",
       "      <td>1474546368</td>\n",
       "      <td>2016-09-22 07:12:48</td>\n",
       "      <td>2042</td>\n",
       "      <td>Seth</td>\n",
       "      <td>Bishop</td>\n",
       "      <td>Seth Bishop</td>\n",
       "      <td>2321953</td>\n",
       "      <td>cmccarthy@srcare.org</td>\n",
       "      <td>US</td>\n",
       "      <td>en</td>\n",
       "      <td>verified</td>\n",
       "      <td>1</td>\n",
       "    </tr>\n",
       "    <tr>\n",
       "      <th>2</th>\n",
       "      <td>2321953</td>\n",
       "      <td>NaN</td>\n",
       "      <td>NaN</td>\n",
       "      <td>1.0</td>\n",
       "      <td>2042</td>\n",
       "      <td>1474546416</td>\n",
       "      <td>2016-09-22 07:13:36</td>\n",
       "      <td>2042</td>\n",
       "      <td>Seth</td>\n",
       "      <td>Bishop</td>\n",
       "      <td>Seth Bishop</td>\n",
       "      <td>2321953</td>\n",
       "      <td>cmccarthy@srcare.org</td>\n",
       "      <td>US</td>\n",
       "      <td>en</td>\n",
       "      <td>verified</td>\n",
       "      <td>1</td>\n",
       "    </tr>\n",
       "    <tr>\n",
       "      <th>3</th>\n",
       "      <td>2321953</td>\n",
       "      <td>NaN</td>\n",
       "      <td>NaN</td>\n",
       "      <td>1.0</td>\n",
       "      <td>2042</td>\n",
       "      <td>1474553446</td>\n",
       "      <td>2016-09-22 09:10:46</td>\n",
       "      <td>2042</td>\n",
       "      <td>Seth</td>\n",
       "      <td>Bishop</td>\n",
       "      <td>Seth Bishop</td>\n",
       "      <td>2321953</td>\n",
       "      <td>cmccarthy@srcare.org</td>\n",
       "      <td>US</td>\n",
       "      <td>en</td>\n",
       "      <td>verified</td>\n",
       "      <td>1</td>\n",
       "    </tr>\n",
       "    <tr>\n",
       "      <th>4</th>\n",
       "      <td>5971228</td>\n",
       "      <td>NaN</td>\n",
       "      <td>NaN</td>\n",
       "      <td>1.0</td>\n",
       "      <td>2042</td>\n",
       "      <td>1474547746</td>\n",
       "      <td>2016-09-22 07:35:46</td>\n",
       "      <td>2042</td>\n",
       "      <td>Seth</td>\n",
       "      <td>Bishop</td>\n",
       "      <td>Seth Bishop</td>\n",
       "      <td>5971228</td>\n",
       "      <td>mlibutti@avenue.com</td>\n",
       "      <td>US</td>\n",
       "      <td>en</td>\n",
       "      <td>enabled</td>\n",
       "      <td>1</td>\n",
       "    </tr>\n",
       "  </tbody>\n",
       "</table>\n",
       "</div>"
      ],
      "text/plain": [
       "     advid  calls direction  emails  repid    unixtime           Timestamp  \\\n",
       "0  2321953    NaN       NaN     1.0   2042  1474546211 2016-09-22 07:10:11   \n",
       "1  2321953    NaN       NaN     1.0   2042  1474546368 2016-09-22 07:12:48   \n",
       "2  2321953    NaN       NaN     1.0   2042  1474546416 2016-09-22 07:13:36   \n",
       "3  2321953    NaN       NaN     1.0   2042  1474553446 2016-09-22 09:10:46   \n",
       "4  5971228    NaN       NaN     1.0   2042  1474547746 2016-09-22 07:35:46   \n",
       "\n",
       "   index_x firstname lastname          Rep  index_y         account_email  \\\n",
       "0     2042      Seth   Bishop  Seth Bishop  2321953  cmccarthy@srcare.org   \n",
       "1     2042      Seth   Bishop  Seth Bishop  2321953  cmccarthy@srcare.org   \n",
       "2     2042      Seth   Bishop  Seth Bishop  2321953  cmccarthy@srcare.org   \n",
       "3     2042      Seth   Bishop  Seth Bishop  2321953  cmccarthy@srcare.org   \n",
       "4     2042      Seth   Bishop  Seth Bishop  5971228   mlibutti@avenue.com   \n",
       "\n",
       "  billing_country locale showHostedJobs active  \n",
       "0              US     en       verified      1  \n",
       "1              US     en       verified      1  \n",
       "2              US     en       verified      1  \n",
       "3              US     en       verified      1  \n",
       "4              US     en        enabled      1  "
      ]
     },
     "execution_count": 70,
     "metadata": {},
     "output_type": "execute_result"
    }
   ],
   "source": [
    "dirty_merge.head()"
   ]
  },
  {
   "cell_type": "code",
   "execution_count": 71,
   "metadata": {
    "collapsed": false
   },
   "outputs": [
    {
     "data": {
      "text/html": [
       "<div>\n",
       "<table border=\"1\" class=\"dataframe\">\n",
       "  <thead>\n",
       "    <tr style=\"text-align: right;\">\n",
       "      <th></th>\n",
       "      <th>advid</th>\n",
       "      <th>calls</th>\n",
       "      <th>direction</th>\n",
       "      <th>emails</th>\n",
       "      <th>repid</th>\n",
       "      <th>unixtime</th>\n",
       "      <th>Timestamp</th>\n",
       "      <th>index_x</th>\n",
       "      <th>firstname</th>\n",
       "      <th>lastname</th>\n",
       "      <th>Rep</th>\n",
       "      <th>index_y</th>\n",
       "      <th>account_email</th>\n",
       "      <th>billing_country</th>\n",
       "      <th>locale</th>\n",
       "      <th>showHostedJobs</th>\n",
       "      <th>active</th>\n",
       "    </tr>\n",
       "  </thead>\n",
       "  <tbody>\n",
       "    <tr>\n",
       "      <th>197</th>\n",
       "      <td>3540319</td>\n",
       "      <td>NaN</td>\n",
       "      <td>NaN</td>\n",
       "      <td>1.0</td>\n",
       "      <td>2986</td>\n",
       "      <td>1474567067</td>\n",
       "      <td>2016-09-22 12:57:47</td>\n",
       "      <td>2986</td>\n",
       "      <td>John</td>\n",
       "      <td>Prioli</td>\n",
       "      <td>John Prioli</td>\n",
       "      <td>3540319</td>\n",
       "      <td>khayes@cherokeermc.org</td>\n",
       "      <td>US</td>\n",
       "      <td>en</td>\n",
       "      <td>verified</td>\n",
       "      <td>1</td>\n",
       "    </tr>\n",
       "    <tr>\n",
       "      <th>198</th>\n",
       "      <td>619674</td>\n",
       "      <td>NaN</td>\n",
       "      <td>NaN</td>\n",
       "      <td>1.0</td>\n",
       "      <td>2986</td>\n",
       "      <td>1474570010</td>\n",
       "      <td>2016-09-22 13:46:50</td>\n",
       "      <td>2986</td>\n",
       "      <td>John</td>\n",
       "      <td>Prioli</td>\n",
       "      <td>John Prioli</td>\n",
       "      <td>619674</td>\n",
       "      <td>paulgrovemanor@comcast.net</td>\n",
       "      <td>US</td>\n",
       "      <td>en</td>\n",
       "      <td>verified</td>\n",
       "      <td>1</td>\n",
       "    </tr>\n",
       "    <tr>\n",
       "      <th>199</th>\n",
       "      <td>8963844</td>\n",
       "      <td>1.0</td>\n",
       "      <td>Outbound</td>\n",
       "      <td>NaN</td>\n",
       "      <td>2986</td>\n",
       "      <td>1474551829</td>\n",
       "      <td>2016-09-22 08:43:49</td>\n",
       "      <td>2986</td>\n",
       "      <td>John</td>\n",
       "      <td>Prioli</td>\n",
       "      <td>John Prioli</td>\n",
       "      <td>8963844</td>\n",
       "      <td>hope@rrws.com</td>\n",
       "      <td>US</td>\n",
       "      <td>en</td>\n",
       "      <td>verified</td>\n",
       "      <td>1</td>\n",
       "    </tr>\n",
       "  </tbody>\n",
       "</table>\n",
       "</div>"
      ],
      "text/plain": [
       "       advid  calls direction  emails  repid    unixtime           Timestamp  \\\n",
       "197  3540319    NaN       NaN     1.0   2986  1474567067 2016-09-22 12:57:47   \n",
       "198   619674    NaN       NaN     1.0   2986  1474570010 2016-09-22 13:46:50   \n",
       "199  8963844    1.0  Outbound     NaN   2986  1474551829 2016-09-22 08:43:49   \n",
       "\n",
       "     index_x firstname lastname          Rep  index_y  \\\n",
       "197     2986      John   Prioli  John Prioli  3540319   \n",
       "198     2986      John   Prioli  John Prioli   619674   \n",
       "199     2986      John   Prioli  John Prioli  8963844   \n",
       "\n",
       "                  account_email billing_country locale showHostedJobs active  \n",
       "197      khayes@cherokeermc.org              US     en       verified      1  \n",
       "198  paulgrovemanor@comcast.net              US     en       verified      1  \n",
       "199               hope@rrws.com              US     en       verified      1  "
      ]
     },
     "execution_count": 71,
     "metadata": {},
     "output_type": "execute_result"
    }
   ],
   "source": [
    "dirty_merge = dirty_merge[dirty_merge.showHostedJobs.isin(['verified_spononly','enabled','verified'])]\n",
    "dirty_merge = dirty_merge[dirty_merge.active.isin([\"1\",\"2\"])]\n",
    "dirty_merge = dirty_merge[dirty_merge.locale.isin(['en','de','nl','fr','pt','es','it'])]\n",
    "dirty_merge = dirty_merge[dirty_merge.billing_country.isin(['US','CA','FR','IT','DE','IE','GB','BR','PT','NL'])]\n",
    "dirty_merge.tail(3)"
   ]
  },
  {
   "cell_type": "code",
   "execution_count": 72,
   "metadata": {
    "collapsed": false
   },
   "outputs": [
    {
     "data": {
      "text/plain": [
       "154"
      ]
     },
     "execution_count": 72,
     "metadata": {},
     "output_type": "execute_result"
    }
   ],
   "source": [
    "dirty_merge.sort_values(['advid','Timestamp'],ascending=True,inplace=True)\n",
    "no_dupes = dirty_merge.drop_duplicates('advid',keep='last').copy()\n",
    "len(no_dupes)"
   ]
  },
  {
   "cell_type": "code",
   "execution_count": 73,
   "metadata": {
    "collapsed": true
   },
   "outputs": [],
   "source": [
    "def interactiontype(x):\n",
    "    if x['calls'] == 1:\n",
    "        if x['direction'] == 'Inbound':\n",
    "            return 'Inbound Call'\n",
    "        elif x['direction'] == 'Outbound':\n",
    "            return 'Outbound Call'\n",
    "        \n",
    "    elif x['emails'] == 1:\n",
    "        return 'Email'\n",
    "\n",
    "    \n",
    "no_dupes['Interaction Type'] = no_dupes.apply(interactiontype,axis=1)"
   ]
  },
  {
   "cell_type": "code",
   "execution_count": 74,
   "metadata": {
    "collapsed": false
   },
   "outputs": [],
   "source": [
    "bill_US = no_dupes[\"billing_country\"] == 'US'\n",
    "locale_en = no_dupes[\"locale\"] == \"en\"\n",
    "\n",
    "bill_BR = no_dupes[\"billing_country\"] == 'BR'\n",
    "locale_pt = no_dupes[\"locale\"] == \"pt\"\n",
    "\n",
    "bill_CA = no_dupes[\"billing_country\"] == 'CA'\n",
    "locale_fr = no_dupes[\"locale\"] == \"fr\""
   ]
  },
  {
   "cell_type": "code",
   "execution_count": 75,
   "metadata": {
    "collapsed": true
   },
   "outputs": [],
   "source": [
    "no_dupes.ix[bill_US & locale_en, \"locale\"] = \"us\"\n",
    "no_dupes.ix[bill_BR & locale_pt, \"locale\"] = \"br\"\n",
    "no_dupes.ix[bill_CA & locale_en, \"locale\"] = \"ca\"\n",
    "no_dupes = no_dupes[~(bill_CA & locale_fr)]"
   ]
  },
  {
   "cell_type": "code",
   "execution_count": 76,
   "metadata": {
    "collapsed": false
   },
   "outputs": [
    {
     "data": {
      "text/html": [
       "<div>\n",
       "<table border=\"1\" class=\"dataframe\">\n",
       "  <thead>\n",
       "    <tr style=\"text-align: right;\">\n",
       "      <th></th>\n",
       "      <th>Rep</th>\n",
       "      <th>Interaction Type</th>\n",
       "      <th>Email</th>\n",
       "      <th>billing_country</th>\n",
       "      <th>locale</th>\n",
       "      <th>Timestamp</th>\n",
       "    </tr>\n",
       "  </thead>\n",
       "  <tbody>\n",
       "    <tr>\n",
       "      <th>167</th>\n",
       "      <td>Kirby Peck</td>\n",
       "      <td>Email</td>\n",
       "      <td>Kimberly.Soublet@iverify.us</td>\n",
       "      <td>US</td>\n",
       "      <td>us</td>\n",
       "      <td>2016-09-22 13:59:00</td>\n",
       "    </tr>\n",
       "    <tr>\n",
       "      <th>49</th>\n",
       "      <td>John Akey</td>\n",
       "      <td>Email</td>\n",
       "      <td>disabledsarahpeck@sigretail.com</td>\n",
       "      <td>US</td>\n",
       "      <td>us</td>\n",
       "      <td>2016-09-22 07:27:43</td>\n",
       "    </tr>\n",
       "    <tr>\n",
       "      <th>7</th>\n",
       "      <td>Seth Bishop</td>\n",
       "      <td>Email</td>\n",
       "      <td>JOELSMITH@SPITZER.COM</td>\n",
       "      <td>US</td>\n",
       "      <td>us</td>\n",
       "      <td>2016-09-22 08:05:48</td>\n",
       "    </tr>\n",
       "    <tr>\n",
       "      <th>78</th>\n",
       "      <td>Zachary Carlson</td>\n",
       "      <td>Email</td>\n",
       "      <td>ALFry@covenantcareathome.org</td>\n",
       "      <td>US</td>\n",
       "      <td>us</td>\n",
       "      <td>2016-09-22 12:48:42</td>\n",
       "    </tr>\n",
       "    <tr>\n",
       "      <th>196</th>\n",
       "      <td>Kelli Paterno</td>\n",
       "      <td>Email</td>\n",
       "      <td>sfarwell@qualitytruck.net</td>\n",
       "      <td>US</td>\n",
       "      <td>us</td>\n",
       "      <td>2016-09-22 16:09:34</td>\n",
       "    </tr>\n",
       "  </tbody>\n",
       "</table>\n",
       "</div>"
      ],
      "text/plain": [
       "                 Rep Interaction Type                            Email  \\\n",
       "167       Kirby Peck            Email      Kimberly.Soublet@iverify.us   \n",
       "49         John Akey            Email  disabledsarahpeck@sigretail.com   \n",
       "7        Seth Bishop            Email            JOELSMITH@SPITZER.COM   \n",
       "78   Zachary Carlson            Email     ALFry@covenantcareathome.org   \n",
       "196    Kelli Paterno            Email        sfarwell@qualitytruck.net   \n",
       "\n",
       "    billing_country locale           Timestamp  \n",
       "167              US     us 2016-09-22 13:59:00  \n",
       "49               US     us 2016-09-22 07:27:43  \n",
       "7                US     us 2016-09-22 08:05:48  \n",
       "78               US     us 2016-09-22 12:48:42  \n",
       "196              US     us 2016-09-22 16:09:34  "
      ]
     },
     "execution_count": 76,
     "metadata": {},
     "output_type": "execute_result"
    }
   ],
   "source": [
    "mailmerge = no_dupes[['Rep','Interaction Type','account_email','billing_country','locale','Timestamp']].copy()\n",
    "mailmerge.rename(columns = {\"account_email\" : \"Email\"}, inplace = True)\n",
    "mailmerge.tail()"
   ]
  },
  {
   "cell_type": "code",
   "execution_count": 77,
   "metadata": {
    "collapsed": false
   },
   "outputs": [
    {
     "name": "stdout",
     "output_type": "stream",
     "text": [
      "us    154\n",
      "Name: locale, dtype: int64\n"
     ]
    }
   ],
   "source": [
    "print mailmerge.locale.value_counts()"
   ]
  },
  {
   "cell_type": "code",
   "execution_count": 19,
   "metadata": {
    "collapsed": false
   },
   "outputs": [
    {
     "name": "stdout",
     "output_type": "stream",
     "text": [
      "0\n",
      "166100\n"
     ]
    }
   ],
   "source": [
    "csat_sendList = pd.read_csv('8_18_2016_csat.csv')\n",
    "sales_sentList = pd.read_csv('Sales_tNPS_sentlist.csv')\n",
    "#if it's the first time running the notebook, comment out the line above, since 'SalesNPSpilotsentlist.csv' has not been created yet\n",
    "\n",
    "\n",
    "final_output = mailmerge[~mailmerge['Email'].isin(csat_sendList.Email)].copy()\n",
    "final_output = final_output[~final_output['Email'].isin(sales_sentList.Email)].copy()\n",
    "#if it's the first time running the notebook, comment out the line above, since 'SalesNPSpilotsentlist.csv' has not been created yet\n",
    "\n",
    "print len(final_output)\n",
    "print len(csat_sendList) + len(final_output)"
   ]
  },
  {
   "cell_type": "code",
   "execution_count": 78,
   "metadata": {
    "collapsed": false
   },
   "outputs": [],
   "source": [
    "date = dt.date.today().strftime(\"%m%d%Y\")\n",
    "filename = \"%s_%s.%s\" % (\"SalesNPSPilot\", date, \"csv\")\n",
    "mailmerge.to_csv(filename, index = False)\n",
    "#final_output.to_csv(filename, index = False)"
   ]
  },
  {
   "cell_type": "code",
   "execution_count": 21,
   "metadata": {
    "collapsed": false
   },
   "outputs": [
    {
     "name": "stdout",
     "output_type": "stream",
     "text": [
      "132\n"
     ]
    }
   ],
   "source": [
    "sales_sendList = final_output[\"Email\"].to_frame()\n",
    "sales_sentList = sales_sentList.append(sales_sendList, ignore_index = True)\n",
    "#if it's the first time running the notebook, comment out the line above, since 'SalesNPSpilotsentlist.csv' has not been created yet\n",
    "\n",
    "print len(sales_sentList)\n",
    "sales_sentList.to_csv('SalestNPSpilotsentlist.csv', index = False)"
   ]
  },
  {
   "cell_type": "code",
   "execution_count": null,
   "metadata": {
    "collapsed": true
   },
   "outputs": [],
   "source": []
  },
  {
   "cell_type": "code",
   "execution_count": null,
   "metadata": {
    "collapsed": true
   },
   "outputs": [],
   "source": []
  },
  {
   "cell_type": "code",
   "execution_count": null,
   "metadata": {
    "collapsed": true
   },
   "outputs": [],
   "source": []
  }
 ],
 "metadata": {
  "anaconda-cloud": {},
  "kernelspec": {
   "display_name": "Python [Root]",
   "language": "python",
   "name": "Python [Root]"
  },
  "language_info": {
   "codemirror_mode": {
    "name": "ipython",
    "version": 2
   },
   "file_extension": ".py",
   "mimetype": "text/x-python",
   "name": "python",
   "nbconvert_exporter": "python",
   "pygments_lexer": "ipython2",
   "version": "2.7.12"
  }
 },
 "nbformat": 4,
 "nbformat_minor": 0
}
