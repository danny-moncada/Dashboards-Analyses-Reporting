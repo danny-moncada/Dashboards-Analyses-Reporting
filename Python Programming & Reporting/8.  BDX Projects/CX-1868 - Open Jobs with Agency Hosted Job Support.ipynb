{
 "cells": [
  {
   "cell_type": "code",
   "execution_count": 1,
   "metadata": {
    "collapsed": false
   },
   "outputs": [
    {
     "data": {
      "text/html": [
       "<style>.container { width:100% !important; }</style>"
      ],
      "text/plain": [
       "<IPython.core.display.HTML object>"
      ]
     },
     "metadata": {},
     "output_type": "display_data"
    }
   ],
   "source": [
    "%reload_ext ishbook\n",
    "import pandas as pd\n",
    "import iql\n",
    "import plus\n",
    "import datetime as dt\n",
    "from IPython.core.display import display, HTML\n",
    "display(HTML(\"<style>.container { width:100% !important; }</style>\"))"
   ]
  },
  {
   "cell_type": "markdown",
   "metadata": {},
   "source": [
    "## Look up all rep account notes where the end date was modified\n",
    "\n",
    "-- Using the **repaccountnotes** index, and a pain in the neck regex call on the *note* field to look for these two strings\n",
    "* 'endDate'\n",
    "* 'New:'\n",
    "\n",
    "-- Group by the advid, username (to find out who did it, the scummy guy) the actual note text, and time it was committed"
   ]
  },
  {
   "cell_type": "code",
   "execution_count": 2,
   "metadata": {
    "collapsed": false
   },
   "outputs": [],
   "source": [
    "%%ish\n",
    "\n",
    "newEndDates = from repaccountnotes 90d today WHERE note=~\".*endDate.*New:.*\" GROUP BY advid, username, note, unixtime\n",
    "output = None"
   ]
  },
  {
   "cell_type": "code",
   "execution_count": 3,
   "metadata": {
    "collapsed": false
   },
   "outputs": [
    {
     "data": {
      "text/html": [
       "<div>\n",
       "<table border=\"1\" class=\"dataframe\">\n",
       "  <thead>\n",
       "    <tr style=\"text-align: right;\">\n",
       "      <th></th>\n",
       "      <th>advid</th>\n",
       "      <th>username</th>\n",
       "      <th>note</th>\n",
       "      <th>unixtime</th>\n",
       "      <th></th>\n",
       "    </tr>\n",
       "  </thead>\n",
       "  <tbody>\n",
       "    <tr>\n",
       "      <th>856</th>\n",
       "      <td>3857615</td>\n",
       "      <td>NaN</td>\n",
       "      <td>[russell_snow@comcast.net] Dradis job 'Securit...</td>\n",
       "      <td>1485368331</td>\n",
       "      <td>1</td>\n",
       "    </tr>\n",
       "    <tr>\n",
       "      <th>857</th>\n",
       "      <td>812045</td>\n",
       "      <td>NaN</td>\n",
       "      <td>[cv@civitasseniorhealthcare.com] Dradis job 'M...</td>\n",
       "      <td>1485395401</td>\n",
       "      <td>1</td>\n",
       "    </tr>\n",
       "    <tr>\n",
       "      <th>858</th>\n",
       "      <td>9637199</td>\n",
       "      <td>NaN</td>\n",
       "      <td>[manager@baltcoffee.com] Dradis job 'PT Food P...</td>\n",
       "      <td>1485395403</td>\n",
       "      <td>1</td>\n",
       "    </tr>\n",
       "    <tr>\n",
       "      <th>859</th>\n",
       "      <td>6889446</td>\n",
       "      <td>NaN</td>\n",
       "      <td>[koko.heathrow@gmail.com] Dradis job 'Personal...</td>\n",
       "      <td>1485399363</td>\n",
       "      <td>1</td>\n",
       "    </tr>\n",
       "    <tr>\n",
       "      <th>860</th>\n",
       "      <td>9084223</td>\n",
       "      <td>NaN</td>\n",
       "      <td>[kferguson@a-zbusinesssolutions.com] Dradis jo...</td>\n",
       "      <td>1485405443</td>\n",
       "      <td>1</td>\n",
       "    </tr>\n",
       "  </tbody>\n",
       "</table>\n",
       "</div>"
      ],
      "text/plain": [
       "       advid username                                               note  \\\n",
       "856  3857615      NaN  [russell_snow@comcast.net] Dradis job 'Securit...   \n",
       "857   812045      NaN  [cv@civitasseniorhealthcare.com] Dradis job 'M...   \n",
       "858  9637199      NaN  [manager@baltcoffee.com] Dradis job 'PT Food P...   \n",
       "859  6889446      NaN  [koko.heathrow@gmail.com] Dradis job 'Personal...   \n",
       "860  9084223      NaN  [kferguson@a-zbusinesssolutions.com] Dradis jo...   \n",
       "\n",
       "       unixtime     \n",
       "856  1485368331  1  \n",
       "857  1485395401  1  \n",
       "858  1485395403  1  \n",
       "859  1485399363  1  \n",
       "860  1485405443  1  "
      ]
     },
     "execution_count": 3,
     "metadata": {},
     "output_type": "execute_result"
    }
   ],
   "source": [
    "newEndDates.tail()"
   ]
  },
  {
   "cell_type": "markdown",
   "metadata": {},
   "source": [
    "## The old favorite, create a stringed list of advertiser ids from the above query"
   ]
  },
  {
   "cell_type": "code",
   "execution_count": 4,
   "metadata": {
    "collapsed": true
   },
   "outputs": [],
   "source": [
    "advids = ','.join(str(x) for x in newEndDates.advid)"
   ]
  },
  {
   "cell_type": "markdown",
   "metadata": {},
   "source": [
    "## Use another IQL pull to feed into the **advertiserevent** index to get those that were created by Agency Hosted Support"
   ]
  },
  {
   "cell_type": "code",
   "execution_count": 5,
   "metadata": {
    "collapsed": false
   },
   "outputs": [
    {
     "name": "stderr",
     "output_type": "stream",
     "text": [
      "ISH/IQL ERRORS:\n",
      "  \n",
      "Error evaluating 'agencyHostedJobs = from advertiserevent 90d today WHERE advertiser_id IN ({advids}) activity_type = CREATE_AD service_rep_id = 4158 GROUP BY service_rep_username, advertiser_id, activity_type': ('Connection aborted.', error(54, 'Connection reset by peer'))\n"
     ]
    }
   ],
   "source": [
    "%%ish\n",
    "\n",
    "agencyHostedJobs = from advertiserevent 90d today WHERE advertiser_id IN ({advids}) activity_type = CREATE_AD service_rep_id = 4158 GROUP BY service_rep_username, advertiser_id, activity_type\n",
    "output = None"
   ]
  },
  {
   "cell_type": "markdown",
   "metadata": {},
   "source": [
    "## Merge the two dataframes together on the advertiser id\n",
    "-  What I'm curious about is are there other teams doing the same kind of thing?\n",
    "-  **to_clipboard** is used because it's way faster to get your output using that than dl-ing to CSV And trying to play around with that mess"
   ]
  },
  {
   "cell_type": "code",
   "execution_count": 34,
   "metadata": {
    "collapsed": false
   },
   "outputs": [],
   "source": [
    "agencyHostedJobs.merge(newEndDates, how = \"left\", left_on = \"advertiser_id\", right_on = \"advid\").to_clipboard()"
   ]
  },
  {
   "cell_type": "code",
   "execution_count": null,
   "metadata": {
    "collapsed": true
   },
   "outputs": [],
   "source": []
  }
 ],
 "metadata": {
  "anaconda-cloud": {},
  "kernelspec": {
   "display_name": "Python [Root]",
   "language": "python",
   "name": "Python [Root]"
  },
  "language_info": {
   "codemirror_mode": {
    "name": "ipython",
    "version": 2
   },
   "file_extension": ".py",
   "mimetype": "text/x-python",
   "name": "python",
   "nbconvert_exporter": "python",
   "pygments_lexer": "ipython2",
   "version": "2.7.12"
  }
 },
 "nbformat": 4,
 "nbformat_minor": 0
}
