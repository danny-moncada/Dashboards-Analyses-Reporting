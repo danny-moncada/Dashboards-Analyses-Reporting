{
 "cells": [
  {
   "cell_type": "code",
   "execution_count": 1,
   "metadata": {
    "collapsed": false
   },
   "outputs": [
    {
     "data": {
      "text/html": [
       "<style>.container { width:100% !important; }</style>"
      ],
      "text/plain": [
       "<IPython.core.display.HTML object>"
      ]
     },
     "metadata": {},
     "output_type": "display_data"
    }
   ],
   "source": [
    "%reload_ext ishbook\n",
    "import pandas as pd\n",
    "import numpy as np\n",
    "import datetime as dt\n",
    "import time\n",
    "import iql\n",
    "import plus\n",
    "from IPython.core.display import display, HTML\n",
    "display(HTML(\"<style>.container { width:100% !important; }</style>\"))"
   ]
  },
  {
   "cell_type": "code",
   "execution_count": 43,
   "metadata": {
    "collapsed": false
   },
   "outputs": [],
   "source": [
    "%%ish\n",
    "spending = from adcrev 2016-01-01 2016-04-01 where serviceRep = smbsupp cost > 0 GROUP BY advId\n",
    "Output = None"
   ]
  },
  {
   "cell_type": "code",
   "execution_count": 22,
   "metadata": {
    "collapsed": false
   },
   "outputs": [],
   "source": [
    "spending_list = ','.join(str(x) for x in pd.unique(spending['advId']))"
   ]
  },
  {
   "cell_type": "code",
   "execution_count": 42,
   "metadata": {
    "collapsed": false
   },
   "outputs": [
    {
     "data": {
      "text/plain": [
       "162437"
      ]
     },
     "execution_count": 42,
     "metadata": {},
     "output_type": "execute_result"
    }
   ],
   "source": [
    "spending_list.count(',')"
   ]
  },
  {
   "cell_type": "code",
   "execution_count": 44,
   "metadata": {
    "collapsed": false
   },
   "outputs": [
    {
     "data": {
      "text/html": [
       "<div>\n",
       "<table border=\"1\" class=\"dataframe\">\n",
       "  <thead>\n",
       "    <tr style=\"text-align: right;\">\n",
       "      <th></th>\n",
       "      <th>advId</th>\n",
       "      <th></th>\n",
       "    </tr>\n",
       "  </thead>\n",
       "  <tbody>\n",
       "    <tr>\n",
       "      <th>162437</th>\n",
       "      <td>999913</td>\n",
       "      <td>88</td>\n",
       "    </tr>\n",
       "  </tbody>\n",
       "</table>\n",
       "</div>"
      ],
      "text/plain": [
       "         advId    \n",
       "162437  999913  88"
      ]
     },
     "execution_count": 44,
     "metadata": {},
     "output_type": "execute_result"
    }
   ],
   "source": [
    "spending.tail(1)"
   ]
  },
  {
   "cell_type": "code",
   "execution_count": 34,
   "metadata": {
    "collapsed": true
   },
   "outputs": [],
   "source": [
    "full_list = spending[\"advId\"].tolist()"
   ]
  },
  {
   "cell_type": "code",
   "execution_count": 41,
   "metadata": {
    "collapsed": false
   },
   "outputs": [
    {
     "data": {
      "text/plain": [
       "162438"
      ]
     },
     "execution_count": 41,
     "metadata": {},
     "output_type": "execute_result"
    }
   ],
   "source": [
    "len(full_list)"
   ]
  },
  {
   "cell_type": "code",
   "execution_count": 35,
   "metadata": {
    "collapsed": false
   },
   "outputs": [],
   "source": [
    "chunks = [full_list[x:x+100000] for x in xrange(0, len(full_list), 100000)]"
   ]
  },
  {
   "cell_type": "code",
   "execution_count": 47,
   "metadata": {
    "collapsed": false
   },
   "outputs": [],
   "source": [
    "first_list = str(chunks[0]).strip('[]')"
   ]
  },
  {
   "cell_type": "code",
   "execution_count": 49,
   "metadata": {
    "collapsed": false
   },
   "outputs": [],
   "source": [
    "second_list = str(chunks[1]).strip('[]')"
   ]
  },
  {
   "cell_type": "code",
   "execution_count": null,
   "metadata": {
    "collapsed": true
   },
   "outputs": [],
   "source": []
  },
  {
   "cell_type": "code",
   "execution_count": 50,
   "metadata": {
    "collapsed": false
   },
   "outputs": [],
   "source": [
    "%%ish\n",
    "churned1 = from advertiserevent 2016-04-01 2016-07-01 where activity_type = \"90D_AFTER_LAST_REVENUE\" advertiser_id in ({first_list}) SELECT count()\n",
    "churned2 = from advertiserevent 2016-04-01 2016-07-01 where activity_type = \"90D_AFTER_LAST_REVENUE\" advertiser_id in ({second_list}) SELECT count()\n",
    "Output = None"
   ]
  },
  {
   "cell_type": "code",
   "execution_count": 80,
   "metadata": {
    "collapsed": false
   },
   "outputs": [
    {
     "data": {
      "text/plain": [
       "56.875854172053344"
      ]
     },
     "execution_count": 80,
     "metadata": {},
     "output_type": "execute_result"
    }
   ],
   "source": [
    "(1 - float(churned1 + churned2) / float(len(full_list))) * 100"
   ]
  },
  {
   "cell_type": "code",
   "execution_count": 81,
   "metadata": {
    "collapsed": false
   },
   "outputs": [
    {
     "data": {
      "text/plain": [
       "70050.0"
      ]
     },
     "execution_count": 81,
     "metadata": {},
     "output_type": "execute_result"
    }
   ],
   "source": [
    "float(churned1 + churned2)"
   ]
  },
  {
   "cell_type": "code",
   "execution_count": 59,
   "metadata": {
    "collapsed": true
   },
   "outputs": [],
   "source": [
    "%%ish\n",
    "\n",
    "april_spending = from adcrev 2016-04-01 2016-04-30 where serviceRep = smbsupp cost > 0 GROUP BY advId\n",
    "Output = None"
   ]
  },
  {
   "cell_type": "code",
   "execution_count": 25,
   "metadata": {
    "collapsed": true
   },
   "outputs": [],
   "source": [
    "april_list = ','.join(str(x) for x in pd.unique(april_spending['advId']))"
   ]
  },
  {
   "cell_type": "code",
   "execution_count": 61,
   "metadata": {
    "collapsed": false
   },
   "outputs": [
    {
     "data": {
      "text/plain": [
       "100633"
      ]
     },
     "execution_count": 61,
     "metadata": {},
     "output_type": "execute_result"
    }
   ],
   "source": [
    "len(april_spending)"
   ]
  },
  {
   "cell_type": "code",
   "execution_count": 2,
   "metadata": {
    "collapsed": true
   },
   "outputs": [],
   "source": [
    "%%ish\n",
    "\n",
    "jan_spending = from adcrev 2016-01-01 2016-02-01 where serviceRep = smbsupp cost > 0 GROUP BY advId\n",
    "feb_spending = from adcrev 2016-02-01 2016-03-01 where serviceRep = smbsupp cost > 0 GROUP BY advId\n",
    "mar_spending = from adcrev 2016-03-01 2016-04-01 where serviceRep = smbsupp cost > 0 GROUP BY advId\n",
    "\n",
    "Output = None"
   ]
  },
  {
   "cell_type": "code",
   "execution_count": 3,
   "metadata": {
    "collapsed": false
   },
   "outputs": [],
   "source": [
    "jan_list = ','.join(str(x) for x in pd.unique(jan_spending['advId']))\n",
    "feb_list = ','.join(str(x) for x in pd.unique(feb_spending['advId']))\n",
    "mar_list = ','.join(str(x) for x in pd.unique(mar_spending['advId']))"
   ]
  },
  {
   "cell_type": "code",
   "execution_count": 4,
   "metadata": {
    "collapsed": true
   },
   "outputs": [],
   "source": [
    "%%ish\n",
    "\n",
    "jan_churned = from advertiserevent 2016-02-01 2016-03-01 where activity_type = \"90D_AFTER_LAST_REVENUE\" advertiser_id in ({jan_list}) SELECT count()\n",
    "feb_churned = from advertiserevent 2016-03-01 2016-04-01 where activity_type = \"90D_AFTER_LAST_REVENUE\" advertiser_id in ({feb_list}) SELECT count()\n",
    "mar_churned = from advertiserevent 2016-04-01 2016-05-01 where activity_type = \"90D_AFTER_LAST_REVENUE\" advertiser_id in ({mar_list}) SELECT count()\n",
    "\n",
    "Output = None"
   ]
  },
  {
   "cell_type": "code",
   "execution_count": 89,
   "metadata": {
    "collapsed": false
   },
   "outputs": [
    {
     "name": "stdout",
     "output_type": "stream",
     "text": [
      "69.8575090143\n",
      "64.994579479\n",
      "68.0632818389\n",
      "67.6333333333\n"
     ]
    }
   ],
   "source": [
    "print (1 - (float(jan_churned) / float(len(jan_spending)))) * 100\n",
    "print (1 - (float(feb_churned) / float(len(feb_spending)))) * 100\n",
    "print (1 - (float(mar_churned) / float(len(mar_spending)))) * 100\n",
    "print (69.85 + 64.99 + 68.06) / 3"
   ]
  },
  {
   "cell_type": "code",
   "execution_count": 6,
   "metadata": {
    "collapsed": false
   },
   "outputs": [
    {
     "name": "stdout",
     "output_type": "stream",
     "text": [
      "92076\n",
      "98699\n",
      "104801\n",
      "0.0\n",
      "0.0\n",
      "0.0\n"
     ]
    }
   ],
   "source": [
    "print len(jan_spending)\n",
    "print len(feb_spending)\n",
    "print len(mar_spending)\n",
    "\n",
    "print jan_churned\n",
    "print feb_churned\n",
    "print mar_churned"
   ]
  },
  {
   "cell_type": "code",
   "execution_count": null,
   "metadata": {
    "collapsed": true
   },
   "outputs": [],
   "source": []
  }
 ],
 "metadata": {
  "anaconda-cloud": {},
  "kernelspec": {
   "display_name": "Python [Root]",
   "language": "python",
   "name": "Python [Root]"
  },
  "language_info": {
   "codemirror_mode": {
    "name": "ipython",
    "version": 2
   },
   "file_extension": ".py",
   "mimetype": "text/x-python",
   "name": "python",
   "nbconvert_exporter": "python",
   "pygments_lexer": "ipython2",
   "version": "2.7.12"
  }
 },
 "nbformat": 4,
 "nbformat_minor": 0
}
