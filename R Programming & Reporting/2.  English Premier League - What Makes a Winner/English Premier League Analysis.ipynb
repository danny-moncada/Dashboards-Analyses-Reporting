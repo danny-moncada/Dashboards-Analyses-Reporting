{
 "cells": [
  {
   "cell_type": "code",
   "execution_count": 1,
   "metadata": {},
   "outputs": [],
   "source": [
    "#library(readcsv)\n",
    "library(ggplot2)"
   ]
  },
  {
   "cell_type": "code",
   "execution_count": 1,
   "metadata": {},
   "outputs": [],
   "source": [
    "totalAgg <- read.csv(\"TotalAgg.csv\")"
   ]
  },
  {
   "cell_type": "code",
   "execution_count": 2,
   "metadata": {},
   "outputs": [],
   "source": [
    "attach(totalAgg)"
   ]
  },
  {
   "cell_type": "code",
   "execution_count": 5,
   "metadata": {},
   "outputs": [
    {
     "data": {
      "text/html": [
       "<table>\n",
       "<thead><tr><th></th><th scope=col>Team</th><th scope=col>Home_PTS</th><th scope=col>Away_PTS</th><th scope=col>Total_PTS</th><th scope=col>Finish</th></tr></thead>\n",
       "<tbody>\n",
       "\t<tr><th scope=row>161</th><td>West Brom     </td><td>18            </td><td>13            </td><td> 31           </td><td>20            </td></tr>\n",
       "\t<tr><th scope=row>162</th><td>Stoke         </td><td>20            </td><td>13            </td><td> 33           </td><td>18            </td></tr>\n",
       "\t<tr><th scope=row>163</th><td>Swansea       </td><td>21            </td><td>12            </td><td> 33           </td><td>19            </td></tr>\n",
       "\t<tr><th scope=row>164</th><td>Southampton   </td><td>19            </td><td>17            </td><td> 36           </td><td>17            </td></tr>\n",
       "\t<tr><th scope=row>165</th><td>Huddersfield  </td><td>23            </td><td>14            </td><td> 37           </td><td>16            </td></tr>\n",
       "\t<tr><th scope=row>166</th><td>Brighton      </td><td>29            </td><td>11            </td><td> 40           </td><td>15            </td></tr>\n",
       "\t<tr><th scope=row>167</th><td>Watford       </td><td>27            </td><td>14            </td><td> 41           </td><td>14            </td></tr>\n",
       "\t<tr><th scope=row>168</th><td>West Ham      </td><td>27            </td><td>15            </td><td> 42           </td><td>13            </td></tr>\n",
       "\t<tr><th scope=row>169</th><td>Bournemouth   </td><td>26            </td><td>18            </td><td> 44           </td><td>10            </td></tr>\n",
       "\t<tr><th scope=row>170</th><td>Crystal Palace</td><td>26            </td><td>18            </td><td> 44           </td><td>11            </td></tr>\n",
       "\t<tr><th scope=row>171</th><td>Newcastle     </td><td>28            </td><td>16            </td><td> 44           </td><td>12            </td></tr>\n",
       "\t<tr><th scope=row>172</th><td>Leicester     </td><td>27            </td><td>20            </td><td> 47           </td><td> 9            </td></tr>\n",
       "\t<tr><th scope=row>173</th><td>Everton       </td><td>34            </td><td>15            </td><td> 49           </td><td> 8            </td></tr>\n",
       "\t<tr><th scope=row>174</th><td>Burnley       </td><td>26            </td><td>28            </td><td> 54           </td><td> 7            </td></tr>\n",
       "\t<tr><th scope=row>175</th><td>Arsenal       </td><td>47            </td><td>16            </td><td> 63           </td><td> 6            </td></tr>\n",
       "\t<tr><th scope=row>176</th><td>Chelsea       </td><td>37            </td><td>33            </td><td> 70           </td><td> 5            </td></tr>\n",
       "\t<tr><th scope=row>177</th><td>Liverpool     </td><td>43            </td><td>32            </td><td> 75           </td><td> 4            </td></tr>\n",
       "\t<tr><th scope=row>178</th><td>Tottenham     </td><td>43            </td><td>34            </td><td> 77           </td><td> 3            </td></tr>\n",
       "\t<tr><th scope=row>179</th><td>Man United    </td><td>47            </td><td>34            </td><td> 81           </td><td> 2            </td></tr>\n",
       "\t<tr><th scope=row>180</th><td>Man City      </td><td>50            </td><td>50            </td><td>100           </td><td> 1            </td></tr>\n",
       "</tbody>\n",
       "</table>\n"
      ],
      "text/latex": [
       "\\begin{tabular}{r|lllll}\n",
       "  & Team & Home\\_PTS & Away\\_PTS & Total\\_PTS & Finish\\\\\n",
       "\\hline\n",
       "\t161 & West Brom      & 18             & 13             &  31            & 20            \\\\\n",
       "\t162 & Stoke          & 20             & 13             &  33            & 18            \\\\\n",
       "\t163 & Swansea        & 21             & 12             &  33            & 19            \\\\\n",
       "\t164 & Southampton    & 19             & 17             &  36            & 17            \\\\\n",
       "\t165 & Huddersfield   & 23             & 14             &  37            & 16            \\\\\n",
       "\t166 & Brighton       & 29             & 11             &  40            & 15            \\\\\n",
       "\t167 & Watford        & 27             & 14             &  41            & 14            \\\\\n",
       "\t168 & West Ham       & 27             & 15             &  42            & 13            \\\\\n",
       "\t169 & Bournemouth    & 26             & 18             &  44            & 10            \\\\\n",
       "\t170 & Crystal Palace & 26             & 18             &  44            & 11            \\\\\n",
       "\t171 & Newcastle      & 28             & 16             &  44            & 12            \\\\\n",
       "\t172 & Leicester      & 27             & 20             &  47            &  9            \\\\\n",
       "\t173 & Everton        & 34             & 15             &  49            &  8            \\\\\n",
       "\t174 & Burnley        & 26             & 28             &  54            &  7            \\\\\n",
       "\t175 & Arsenal        & 47             & 16             &  63            &  6            \\\\\n",
       "\t176 & Chelsea        & 37             & 33             &  70            &  5            \\\\\n",
       "\t177 & Liverpool      & 43             & 32             &  75            &  4            \\\\\n",
       "\t178 & Tottenham      & 43             & 34             &  77            &  3            \\\\\n",
       "\t179 & Man United     & 47             & 34             &  81            &  2            \\\\\n",
       "\t180 & Man City       & 50             & 50             & 100            &  1            \\\\\n",
       "\\end{tabular}\n"
      ],
      "text/markdown": [
       "\n",
       "| <!--/--> | Team | Home_PTS | Away_PTS | Total_PTS | Finish | \n",
       "|---|---|---|---|---|---|---|---|---|---|---|---|---|---|---|---|---|---|---|---|\n",
       "| 161 | West Brom      | 18             | 13             |  31            | 20             | \n",
       "| 162 | Stoke          | 20             | 13             |  33            | 18             | \n",
       "| 163 | Swansea        | 21             | 12             |  33            | 19             | \n",
       "| 164 | Southampton    | 19             | 17             |  36            | 17             | \n",
       "| 165 | Huddersfield   | 23             | 14             |  37            | 16             | \n",
       "| 166 | Brighton       | 29             | 11             |  40            | 15             | \n",
       "| 167 | Watford        | 27             | 14             |  41            | 14             | \n",
       "| 168 | West Ham       | 27             | 15             |  42            | 13             | \n",
       "| 169 | Bournemouth    | 26             | 18             |  44            | 10             | \n",
       "| 170 | Crystal Palace | 26             | 18             |  44            | 11             | \n",
       "| 171 | Newcastle      | 28             | 16             |  44            | 12             | \n",
       "| 172 | Leicester      | 27             | 20             |  47            |  9             | \n",
       "| 173 | Everton        | 34             | 15             |  49            |  8             | \n",
       "| 174 | Burnley        | 26             | 28             |  54            |  7             | \n",
       "| 175 | Arsenal        | 47             | 16             |  63            |  6             | \n",
       "| 176 | Chelsea        | 37             | 33             |  70            |  5             | \n",
       "| 177 | Liverpool      | 43             | 32             |  75            |  4             | \n",
       "| 178 | Tottenham      | 43             | 34             |  77            |  3             | \n",
       "| 179 | Man United     | 47             | 34             |  81            |  2             | \n",
       "| 180 | Man City       | 50             | 50             | 100            |  1             | \n",
       "\n",
       "\n"
      ],
      "text/plain": [
       "    Team           Home_PTS Away_PTS Total_PTS Finish\n",
       "161 West Brom      18       13        31       20    \n",
       "162 Stoke          20       13        33       18    \n",
       "163 Swansea        21       12        33       19    \n",
       "164 Southampton    19       17        36       17    \n",
       "165 Huddersfield   23       14        37       16    \n",
       "166 Brighton       29       11        40       15    \n",
       "167 Watford        27       14        41       14    \n",
       "168 West Ham       27       15        42       13    \n",
       "169 Bournemouth    26       18        44       10    \n",
       "170 Crystal Palace 26       18        44       11    \n",
       "171 Newcastle      28       16        44       12    \n",
       "172 Leicester      27       20        47        9    \n",
       "173 Everton        34       15        49        8    \n",
       "174 Burnley        26       28        54        7    \n",
       "175 Arsenal        47       16        63        6    \n",
       "176 Chelsea        37       33        70        5    \n",
       "177 Liverpool      43       32        75        4    \n",
       "178 Tottenham      43       34        77        3    \n",
       "179 Man United     47       34        81        2    \n",
       "180 Man City       50       50       100        1    "
      ]
     },
     "metadata": {},
     "output_type": "display_data"
    }
   ],
   "source": [
    "tail(totalAgg, 20)[, c(\"Team\", \"Home_PTS\", \"Away_PTS\", \"Total_PTS\", \"Finish\")]"
   ]
  },
  {
   "cell_type": "code",
   "execution_count": 4,
   "metadata": {},
   "outputs": [],
   "source": [
    "fullmvr_gf <- lm(-Finish ~ \n",
    "Home_GF+ Home_GA+ Home_ShotsFor+ Home_ShotsAgainst+\n",
    "Home_ShotsForOnTarget+ Home_ShotsAgainstOnTarget+ Home_FoulsFor+\n",
    "Home_FoulsAgainst+ Home_YellowsFor+ Home_RedsFor+ Home_RedsAgainst+ \n",
    "Away_GF+ Away_GA+ Away_ShotsFor+ Away_ShotsAgainst+\n",
    "Away_ShotsForOnTarget+ Away_ShotsAgainstOnTarget+ Away_FoulsFor+\n",
    "Away_FoulsAgainst+ Away_YellowsFor+ Away_RedsFor+ Away_RedsAgainst)"
   ]
  },
  {
   "cell_type": "code",
   "execution_count": 5,
   "metadata": {},
   "outputs": [
    {
     "data": {
      "text/plain": [
       "\n",
       "Call:\n",
       "lm(formula = -Finish ~ Home_GF + Home_GA + Home_ShotsFor + Home_ShotsAgainst + \n",
       "    Home_ShotsForOnTarget + Home_ShotsAgainstOnTarget + Home_FoulsFor + \n",
       "    Home_FoulsAgainst + Home_YellowsFor + Home_RedsFor + Home_RedsAgainst + \n",
       "    Away_GF + Away_GA + Away_ShotsFor + Away_ShotsAgainst + Away_ShotsForOnTarget + \n",
       "    Away_ShotsAgainstOnTarget + Away_FoulsFor + Away_FoulsAgainst + \n",
       "    Away_YellowsFor + Away_RedsFor + Away_RedsAgainst)\n",
       "\n",
       "Residuals:\n",
       "    Min      1Q  Median      3Q     Max \n",
       "-4.9659 -1.4940  0.0416  1.4743  5.4095 \n",
       "\n",
       "Coefficients:\n",
       "                            Estimate Std. Error t value Pr(>|t|)    \n",
       "(Intercept)               -7.3343132  3.9845012  -1.841   0.0676 .  \n",
       "Home_GF                    0.0790824  0.0153178   5.163 7.27e-07 ***\n",
       "Home_GA                   -0.1360480  0.0196544  -6.922 1.07e-10 ***\n",
       "Home_ShotsFor             -0.0006424  0.0050033  -0.128   0.8980    \n",
       "Home_ShotsAgainst          0.0007364  0.0065242   0.113   0.9103    \n",
       "Home_ShotsForOnTarget     -0.0071497  0.0087461  -0.817   0.4149    \n",
       "Home_ShotsAgainstOnTarget  0.0073615  0.0108790   0.677   0.4996    \n",
       "Home_FoulsFor             -0.0042681  0.0055608  -0.768   0.4439    \n",
       "Home_FoulsAgainst         -0.0014469  0.0046589  -0.311   0.7565    \n",
       "Home_YellowsFor            0.0063832  0.0168254   0.379   0.7049    \n",
       "Home_RedsFor               0.0176284  0.0871970   0.202   0.8400    \n",
       "Home_RedsAgainst           0.0198352  0.0746583   0.266   0.7908    \n",
       "Away_GF                    0.0858803  0.0198888   4.318 2.78e-05 ***\n",
       "Away_GA                   -0.0933194  0.0170254  -5.481 1.65e-07 ***\n",
       "Away_ShotsFor             -0.0021616  0.0063402  -0.341   0.7336    \n",
       "Away_ShotsAgainst          0.0002761  0.0052758   0.052   0.9583    \n",
       "Away_ShotsForOnTarget      0.0182080  0.0107948   1.687   0.0936 .  \n",
       "Away_ShotsAgainstOnTarget -0.0111921  0.0092835  -1.206   0.2298    \n",
       "Away_FoulsFor              0.0015872  0.0055716   0.285   0.7761    \n",
       "Away_FoulsAgainst          0.0055107  0.0050853   1.084   0.2802    \n",
       "Away_YellowsFor           -0.0125506  0.0168052  -0.747   0.4563    \n",
       "Away_RedsFor               0.0237718  0.0716431   0.332   0.7405    \n",
       "Away_RedsAgainst           0.0148216  0.0835733   0.177   0.8595    \n",
       "---\n",
       "Signif. codes:  0 '***' 0.001 '**' 0.01 '*' 0.05 '.' 0.1 ' ' 1\n",
       "\n",
       "Residual standard error: 2.325 on 157 degrees of freedom\n",
       "Multiple R-squared:  0.8582,\tAdjusted R-squared:  0.8383 \n",
       "F-statistic: 43.19 on 22 and 157 DF,  p-value: < 2.2e-16\n"
      ]
     },
     "metadata": {},
     "output_type": "display_data"
    }
   ],
   "source": [
    "summary(fullmvr_gf)"
   ]
  },
  {
   "cell_type": "code",
   "execution_count": 11,
   "metadata": {},
   "outputs": [
    {
     "data": {
      "text/html": [
       "<ol class=list-inline>\n",
       "\t<li>28</li>\n",
       "\t<li>30</li>\n",
       "\t<li>30</li>\n",
       "\t<li>35</li>\n",
       "\t<li>36</li>\n",
       "\t<li>38</li>\n",
       "\t<li>39</li>\n",
       "\t<li>44</li>\n",
       "\t<li>46</li>\n",
       "\t<li>47</li>\n",
       "\t<li>50</li>\n",
       "\t<li>50</li>\n",
       "\t<li>61</li>\n",
       "\t<li>63</li>\n",
       "\t<li>64</li>\n",
       "\t<li>67</li>\n",
       "\t<li>70</li>\n",
       "\t<li>75</li>\n",
       "\t<li>85</li>\n",
       "\t<li>86</li>\n",
       "\t<li>33</li>\n",
       "\t<li>39</li>\n",
       "\t<li>39</li>\n",
       "\t<li>40</li>\n",
       "\t<li>42</li>\n",
       "\t<li>43</li>\n",
       "\t<li>46</li>\n",
       "\t<li>46</li>\n",
       "\t<li>46</li>\n",
       "\t<li>47</li>\n",
       "\t<li>47</li>\n",
       "\t<li>48</li>\n",
       "\t<li>49</li>\n",
       "\t<li>54</li>\n",
       "\t<li>58</li>\n",
       "\t<li>62</li>\n",
       "\t<li>68</li>\n",
       "\t<li>71</li>\n",
       "\t<li>71</li>\n",
       "\t<li>80</li>\n",
       "\t<li>25</li>\n",
       "\t<li>31</li>\n",
       "\t<li>36</li>\n",
       "\t<li>37</li>\n",
       "\t<li>38</li>\n",
       "\t<li>43</li>\n",
       "\t<li>45</li>\n",
       "\t<li>45</li>\n",
       "\t<li>47</li>\n",
       "\t<li>47</li>\n",
       "\t<li>47</li>\n",
       "\t<li>52</li>\n",
       "\t<li>52</li>\n",
       "\t<li>56</li>\n",
       "\t<li>64</li>\n",
       "\t<li>65</li>\n",
       "\t<li>69</li>\n",
       "\t<li>70</li>\n",
       "\t<li>89</li>\n",
       "\t<li>89</li>\n",
       "\t<li>25</li>\n",
       "\t<li>28</li>\n",
       "\t<li>36</li>\n",
       "\t<li>39</li>\n",
       "\t<li>41</li>\n",
       "\t<li>41</li>\n",
       "\t<li>41</li>\n",
       "\t<li>42</li>\n",
       "\t<li>43</li>\n",
       "\t<li>44</li>\n",
       "\t<li>46</li>\n",
       "\t<li>46</li>\n",
       "\t<li>49</li>\n",
       "\t<li>61</li>\n",
       "\t<li>63</li>\n",
       "\t<li>72</li>\n",
       "\t<li>73</li>\n",
       "\t<li>75</li>\n",
       "\t<li>78</li>\n",
       "\t<li>89</li>\n",
       "\t<li>30</li>\n",
       "\t<li>32</li>\n",
       "\t<li>33</li>\n",
       "\t<li>36</li>\n",
       "\t<li>37</li>\n",
       "\t<li>38</li>\n",
       "\t<li>38</li>\n",
       "\t<li>40</li>\n",
       "\t<li>42</li>\n",
       "\t<li>45</li>\n",
       "\t<li>49</li>\n",
       "\t<li>50</li>\n",
       "\t<li>56</li>\n",
       "\t<li>64</li>\n",
       "\t<li>69</li>\n",
       "\t<li>72</li>\n",
       "\t<li>79</li>\n",
       "\t<li>82</li>\n",
       "\t<li>84</li>\n",
       "\t<li>86</li>\n",
       "\t<li>30</li>\n",
       "\t<li>33</li>\n",
       "\t<li>35</li>\n",
       "\t<li>38</li>\n",
       "\t<li>38</li>\n",
       "\t<li>39</li>\n",
       "\t<li>41</li>\n",
       "\t<li>44</li>\n",
       "\t<li>47</li>\n",
       "\t<li>47</li>\n",
       "\t<li>48</li>\n",
       "\t<li>54</li>\n",
       "\t<li>56</li>\n",
       "\t<li>60</li>\n",
       "\t<li>62</li>\n",
       "\t<li>64</li>\n",
       "\t<li>70</li>\n",
       "\t<li>75</li>\n",
       "\t<li>79</li>\n",
       "\t<li>87</li>\n",
       "\t<li>17</li>\n",
       "\t<li>34</li>\n",
       "\t<li>37</li>\n",
       "\t<li>39</li>\n",
       "\t<li>42</li>\n",
       "\t<li>42</li>\n",
       "\t<li>43</li>\n",
       "\t<li>45</li>\n",
       "\t<li>47</li>\n",
       "\t<li>47</li>\n",
       "\t<li>50</li>\n",
       "\t<li>51</li>\n",
       "\t<li>60</li>\n",
       "\t<li>62</li>\n",
       "\t<li>63</li>\n",
       "\t<li>66</li>\n",
       "\t<li>66</li>\n",
       "\t<li>70</li>\n",
       "\t<li>71</li>\n",
       "\t<li>81</li>\n",
       "\t<li>24</li>\n",
       "\t<li>28</li>\n",
       "\t<li>34</li>\n",
       "\t<li>40</li>\n",
       "\t<li>40</li>\n",
       "\t<li>41</li>\n",
       "\t<li>41</li>\n",
       "\t<li>44</li>\n",
       "\t<li>44</li>\n",
       "\t<li>45</li>\n",
       "\t<li>45</li>\n",
       "\t<li>46</li>\n",
       "\t<li>46</li>\n",
       "\t<li>61</li>\n",
       "\t<li>69</li>\n",
       "\t<li>75</li>\n",
       "\t<li>76</li>\n",
       "\t<li>78</li>\n",
       "\t<li>86</li>\n",
       "\t<li>93</li>\n",
       "\t<li>31</li>\n",
       "\t<li>33</li>\n",
       "\t<li>33</li>\n",
       "\t<li>36</li>\n",
       "\t<li>37</li>\n",
       "\t<li>40</li>\n",
       "\t<li>41</li>\n",
       "\t<li>42</li>\n",
       "\t<li>44</li>\n",
       "\t<li>44</li>\n",
       "\t<li>44</li>\n",
       "\t<li>47</li>\n",
       "\t<li>49</li>\n",
       "\t<li>54</li>\n",
       "\t<li>63</li>\n",
       "\t<li>70</li>\n",
       "\t<li>75</li>\n",
       "\t<li>77</li>\n",
       "\t<li>81</li>\n",
       "\t<li>100</li>\n",
       "</ol>\n"
      ],
      "text/latex": [
       "\\begin{enumerate*}\n",
       "\\item 28\n",
       "\\item 30\n",
       "\\item 30\n",
       "\\item 35\n",
       "\\item 36\n",
       "\\item 38\n",
       "\\item 39\n",
       "\\item 44\n",
       "\\item 46\n",
       "\\item 47\n",
       "\\item 50\n",
       "\\item 50\n",
       "\\item 61\n",
       "\\item 63\n",
       "\\item 64\n",
       "\\item 67\n",
       "\\item 70\n",
       "\\item 75\n",
       "\\item 85\n",
       "\\item 86\n",
       "\\item 33\n",
       "\\item 39\n",
       "\\item 39\n",
       "\\item 40\n",
       "\\item 42\n",
       "\\item 43\n",
       "\\item 46\n",
       "\\item 46\n",
       "\\item 46\n",
       "\\item 47\n",
       "\\item 47\n",
       "\\item 48\n",
       "\\item 49\n",
       "\\item 54\n",
       "\\item 58\n",
       "\\item 62\n",
       "\\item 68\n",
       "\\item 71\n",
       "\\item 71\n",
       "\\item 80\n",
       "\\item 25\n",
       "\\item 31\n",
       "\\item 36\n",
       "\\item 37\n",
       "\\item 38\n",
       "\\item 43\n",
       "\\item 45\n",
       "\\item 45\n",
       "\\item 47\n",
       "\\item 47\n",
       "\\item 47\n",
       "\\item 52\n",
       "\\item 52\n",
       "\\item 56\n",
       "\\item 64\n",
       "\\item 65\n",
       "\\item 69\n",
       "\\item 70\n",
       "\\item 89\n",
       "\\item 89\n",
       "\\item 25\n",
       "\\item 28\n",
       "\\item 36\n",
       "\\item 39\n",
       "\\item 41\n",
       "\\item 41\n",
       "\\item 41\n",
       "\\item 42\n",
       "\\item 43\n",
       "\\item 44\n",
       "\\item 46\n",
       "\\item 46\n",
       "\\item 49\n",
       "\\item 61\n",
       "\\item 63\n",
       "\\item 72\n",
       "\\item 73\n",
       "\\item 75\n",
       "\\item 78\n",
       "\\item 89\n",
       "\\item 30\n",
       "\\item 32\n",
       "\\item 33\n",
       "\\item 36\n",
       "\\item 37\n",
       "\\item 38\n",
       "\\item 38\n",
       "\\item 40\n",
       "\\item 42\n",
       "\\item 45\n",
       "\\item 49\n",
       "\\item 50\n",
       "\\item 56\n",
       "\\item 64\n",
       "\\item 69\n",
       "\\item 72\n",
       "\\item 79\n",
       "\\item 82\n",
       "\\item 84\n",
       "\\item 86\n",
       "\\item 30\n",
       "\\item 33\n",
       "\\item 35\n",
       "\\item 38\n",
       "\\item 38\n",
       "\\item 39\n",
       "\\item 41\n",
       "\\item 44\n",
       "\\item 47\n",
       "\\item 47\n",
       "\\item 48\n",
       "\\item 54\n",
       "\\item 56\n",
       "\\item 60\n",
       "\\item 62\n",
       "\\item 64\n",
       "\\item 70\n",
       "\\item 75\n",
       "\\item 79\n",
       "\\item 87\n",
       "\\item 17\n",
       "\\item 34\n",
       "\\item 37\n",
       "\\item 39\n",
       "\\item 42\n",
       "\\item 42\n",
       "\\item 43\n",
       "\\item 45\n",
       "\\item 47\n",
       "\\item 47\n",
       "\\item 50\n",
       "\\item 51\n",
       "\\item 60\n",
       "\\item 62\n",
       "\\item 63\n",
       "\\item 66\n",
       "\\item 66\n",
       "\\item 70\n",
       "\\item 71\n",
       "\\item 81\n",
       "\\item 24\n",
       "\\item 28\n",
       "\\item 34\n",
       "\\item 40\n",
       "\\item 40\n",
       "\\item 41\n",
       "\\item 41\n",
       "\\item 44\n",
       "\\item 44\n",
       "\\item 45\n",
       "\\item 45\n",
       "\\item 46\n",
       "\\item 46\n",
       "\\item 61\n",
       "\\item 69\n",
       "\\item 75\n",
       "\\item 76\n",
       "\\item 78\n",
       "\\item 86\n",
       "\\item 93\n",
       "\\item 31\n",
       "\\item 33\n",
       "\\item 33\n",
       "\\item 36\n",
       "\\item 37\n",
       "\\item 40\n",
       "\\item 41\n",
       "\\item 42\n",
       "\\item 44\n",
       "\\item 44\n",
       "\\item 44\n",
       "\\item 47\n",
       "\\item 49\n",
       "\\item 54\n",
       "\\item 63\n",
       "\\item 70\n",
       "\\item 75\n",
       "\\item 77\n",
       "\\item 81\n",
       "\\item 100\n",
       "\\end{enumerate*}\n"
      ],
      "text/markdown": [
       "1. 28\n",
       "2. 30\n",
       "3. 30\n",
       "4. 35\n",
       "5. 36\n",
       "6. 38\n",
       "7. 39\n",
       "8. 44\n",
       "9. 46\n",
       "10. 47\n",
       "11. 50\n",
       "12. 50\n",
       "13. 61\n",
       "14. 63\n",
       "15. 64\n",
       "16. 67\n",
       "17. 70\n",
       "18. 75\n",
       "19. 85\n",
       "20. 86\n",
       "21. 33\n",
       "22. 39\n",
       "23. 39\n",
       "24. 40\n",
       "25. 42\n",
       "26. 43\n",
       "27. 46\n",
       "28. 46\n",
       "29. 46\n",
       "30. 47\n",
       "31. 47\n",
       "32. 48\n",
       "33. 49\n",
       "34. 54\n",
       "35. 58\n",
       "36. 62\n",
       "37. 68\n",
       "38. 71\n",
       "39. 71\n",
       "40. 80\n",
       "41. 25\n",
       "42. 31\n",
       "43. 36\n",
       "44. 37\n",
       "45. 38\n",
       "46. 43\n",
       "47. 45\n",
       "48. 45\n",
       "49. 47\n",
       "50. 47\n",
       "51. 47\n",
       "52. 52\n",
       "53. 52\n",
       "54. 56\n",
       "55. 64\n",
       "56. 65\n",
       "57. 69\n",
       "58. 70\n",
       "59. 89\n",
       "60. 89\n",
       "61. 25\n",
       "62. 28\n",
       "63. 36\n",
       "64. 39\n",
       "65. 41\n",
       "66. 41\n",
       "67. 41\n",
       "68. 42\n",
       "69. 43\n",
       "70. 44\n",
       "71. 46\n",
       "72. 46\n",
       "73. 49\n",
       "74. 61\n",
       "75. 63\n",
       "76. 72\n",
       "77. 73\n",
       "78. 75\n",
       "79. 78\n",
       "80. 89\n",
       "81. 30\n",
       "82. 32\n",
       "83. 33\n",
       "84. 36\n",
       "85. 37\n",
       "86. 38\n",
       "87. 38\n",
       "88. 40\n",
       "89. 42\n",
       "90. 45\n",
       "91. 49\n",
       "92. 50\n",
       "93. 56\n",
       "94. 64\n",
       "95. 69\n",
       "96. 72\n",
       "97. 79\n",
       "98. 82\n",
       "99. 84\n",
       "100. 86\n",
       "101. 30\n",
       "102. 33\n",
       "103. 35\n",
       "104. 38\n",
       "105. 38\n",
       "106. 39\n",
       "107. 41\n",
       "108. 44\n",
       "109. 47\n",
       "110. 47\n",
       "111. 48\n",
       "112. 54\n",
       "113. 56\n",
       "114. 60\n",
       "115. 62\n",
       "116. 64\n",
       "117. 70\n",
       "118. 75\n",
       "119. 79\n",
       "120. 87\n",
       "121. 17\n",
       "122. 34\n",
       "123. 37\n",
       "124. 39\n",
       "125. 42\n",
       "126. 42\n",
       "127. 43\n",
       "128. 45\n",
       "129. 47\n",
       "130. 47\n",
       "131. 50\n",
       "132. 51\n",
       "133. 60\n",
       "134. 62\n",
       "135. 63\n",
       "136. 66\n",
       "137. 66\n",
       "138. 70\n",
       "139. 71\n",
       "140. 81\n",
       "141. 24\n",
       "142. 28\n",
       "143. 34\n",
       "144. 40\n",
       "145. 40\n",
       "146. 41\n",
       "147. 41\n",
       "148. 44\n",
       "149. 44\n",
       "150. 45\n",
       "151. 45\n",
       "152. 46\n",
       "153. 46\n",
       "154. 61\n",
       "155. 69\n",
       "156. 75\n",
       "157. 76\n",
       "158. 78\n",
       "159. 86\n",
       "160. 93\n",
       "161. 31\n",
       "162. 33\n",
       "163. 33\n",
       "164. 36\n",
       "165. 37\n",
       "166. 40\n",
       "167. 41\n",
       "168. 42\n",
       "169. 44\n",
       "170. 44\n",
       "171. 44\n",
       "172. 47\n",
       "173. 49\n",
       "174. 54\n",
       "175. 63\n",
       "176. 70\n",
       "177. 75\n",
       "178. 77\n",
       "179. 81\n",
       "180. 100\n",
       "\n",
       "\n"
      ],
      "text/plain": [
       "  [1]  28  30  30  35  36  38  39  44  46  47  50  50  61  63  64  67  70  75\n",
       " [19]  85  86  33  39  39  40  42  43  46  46  46  47  47  48  49  54  58  62\n",
       " [37]  68  71  71  80  25  31  36  37  38  43  45  45  47  47  47  52  52  56\n",
       " [55]  64  65  69  70  89  89  25  28  36  39  41  41  41  42  43  44  46  46\n",
       " [73]  49  61  63  72  73  75  78  89  30  32  33  36  37  38  38  40  42  45\n",
       " [91]  49  50  56  64  69  72  79  82  84  86  30  33  35  38  38  39  41  44\n",
       "[109]  47  47  48  54  56  60  62  64  70  75  79  87  17  34  37  39  42  42\n",
       "[127]  43  45  47  47  50  51  60  62  63  66  66  70  71  81  24  28  34  40\n",
       "[145]  40  41  41  44  44  45  45  46  46  61  69  75  76  78  86  93  31  33\n",
       "[163]  33  36  37  40  41  42  44  44  44  47  49  54  63  70  75  77  81 100"
      ]
     },
     "metadata": {},
     "output_type": "display_data"
    }
   ],
   "source": [
    "Total_PTS"
   ]
  },
  {
   "cell_type": "code",
   "execution_count": 30,
   "metadata": {},
   "outputs": [
    {
     "data": {
      "image/png": "[encoded data removed]",
      "text/plain": [
       "plot without title"
      ]
     },
     "metadata": {},
     "output_type": "display_data"
    }
   ],
   "source": [
    "plot(Away_GF, Total_PTS, pch = 16 ,  xlab = \"Total Goals Scored (Away Team)\",  ylab = \"Total points at the end of season\")\n",
    "abline(lm(Total_PTS ~ Away_GF), lty=2,  col= 'red')"
   ]
  },
  {
   "cell_type": "code",
   "execution_count": 24,
   "metadata": {},
   "outputs": [
    {
     "data": {
      "image/png": "[encoded data removed]",
      "text/plain": [
       "plot without title"
      ]
     },
     "metadata": {},
     "output_type": "display_data"
    }
   ],
   "source": [
    "plot(Home_GA, -Finish, pch = 16 ,  xlab = \"Goals Scored Against (Home Matches)\",  ylab = \"Finishing position in the table\")\n",
    "abline(lm(-Finish ~ Home_GA), lty=2,  col= 'red')"
   ]
  },
  {
   "cell_type": "code",
   "execution_count": 14,
   "metadata": {},
   "outputs": [
    {
     "data": {
      "text/html": [
       "<table>\n",
       "<thead><tr><th></th><th scope=col>Home_GF</th><th scope=col>Home_ShotsFor</th><th scope=col>Home_GA</th><th scope=col>Home_ShotsAgainst</th></tr></thead>\n",
       "<tbody>\n",
       "\t<tr><th scope=row>Home_GF</th><td> 1.0000000</td><td> 0.7131591</td><td>-0.5009005</td><td>-0.6062895</td></tr>\n",
       "\t<tr><th scope=row>Home_ShotsFor</th><td> 0.7131591</td><td> 1.0000000</td><td>-0.4793260</td><td>-0.6354719</td></tr>\n",
       "\t<tr><th scope=row>Home_GA</th><td>-0.5009005</td><td>-0.4793260</td><td> 1.0000000</td><td> 0.6268720</td></tr>\n",
       "\t<tr><th scope=row>Home_ShotsAgainst</th><td>-0.6062895</td><td>-0.6354719</td><td> 0.6268720</td><td> 1.0000000</td></tr>\n",
       "</tbody>\n",
       "</table>\n"
      ],
      "text/latex": [
       "\\begin{tabular}{r|llll}\n",
       "  & Home\\_GF & Home\\_ShotsFor & Home\\_GA & Home\\_ShotsAgainst\\\\\n",
       "\\hline\n",
       "\tHome\\_GF &  1.0000000 &  0.7131591 & -0.5009005 & -0.6062895\\\\\n",
       "\tHome\\_ShotsFor &  0.7131591 &  1.0000000 & -0.4793260 & -0.6354719\\\\\n",
       "\tHome\\_GA & -0.5009005 & -0.4793260 &  1.0000000 &  0.6268720\\\\\n",
       "\tHome\\_ShotsAgainst & -0.6062895 & -0.6354719 &  0.6268720 &  1.0000000\\\\\n",
       "\\end{tabular}\n"
      ],
      "text/markdown": [
       "\n",
       "| <!--/--> | Home_GF | Home_ShotsFor | Home_GA | Home_ShotsAgainst | \n",
       "|---|---|---|---|\n",
       "| Home_GF |  1.0000000 |  0.7131591 | -0.5009005 | -0.6062895 | \n",
       "| Home_ShotsFor |  0.7131591 |  1.0000000 | -0.4793260 | -0.6354719 | \n",
       "| Home_GA | -0.5009005 | -0.4793260 |  1.0000000 |  0.6268720 | \n",
       "| Home_ShotsAgainst | -0.6062895 | -0.6354719 |  0.6268720 |  1.0000000 | \n",
       "\n",
       "\n"
      ],
      "text/plain": [
       "                  Home_GF    Home_ShotsFor Home_GA    Home_ShotsAgainst\n",
       "Home_GF            1.0000000  0.7131591    -0.5009005 -0.6062895       \n",
       "Home_ShotsFor      0.7131591  1.0000000    -0.4793260 -0.6354719       \n",
       "Home_GA           -0.5009005 -0.4793260     1.0000000  0.6268720       \n",
       "Home_ShotsAgainst -0.6062895 -0.6354719     0.6268720  1.0000000       "
      ]
     },
     "metadata": {},
     "output_type": "display_data"
    },
    {
     "data": {
      "text/html": [
       "<table>\n",
       "<thead><tr><th></th><th scope=col>Away_GF</th><th scope=col>Away_ShotsFor</th><th scope=col>Away_GA</th><th scope=col>Away_ShotsAgainst</th></tr></thead>\n",
       "<tbody>\n",
       "\t<tr><th scope=row>Away_GF</th><td> 1.0000000</td><td> 0.7675868</td><td>-0.4525418</td><td>-0.5853232</td></tr>\n",
       "\t<tr><th scope=row>Away_ShotsFor</th><td> 0.7675868</td><td> 1.0000000</td><td>-0.5485788</td><td>-0.6990074</td></tr>\n",
       "\t<tr><th scope=row>Away_GA</th><td>-0.4525418</td><td>-0.5485788</td><td> 1.0000000</td><td> 0.5977395</td></tr>\n",
       "\t<tr><th scope=row>Away_ShotsAgainst</th><td>-0.5853232</td><td>-0.6990074</td><td> 0.5977395</td><td> 1.0000000</td></tr>\n",
       "</tbody>\n",
       "</table>\n"
      ],
      "text/latex": [
       "\\begin{tabular}{r|llll}\n",
       "  & Away\\_GF & Away\\_ShotsFor & Away\\_GA & Away\\_ShotsAgainst\\\\\n",
       "\\hline\n",
       "\tAway\\_GF &  1.0000000 &  0.7675868 & -0.4525418 & -0.5853232\\\\\n",
       "\tAway\\_ShotsFor &  0.7675868 &  1.0000000 & -0.5485788 & -0.6990074\\\\\n",
       "\tAway\\_GA & -0.4525418 & -0.5485788 &  1.0000000 &  0.5977395\\\\\n",
       "\tAway\\_ShotsAgainst & -0.5853232 & -0.6990074 &  0.5977395 &  1.0000000\\\\\n",
       "\\end{tabular}\n"
      ],
      "text/markdown": [
       "\n",
       "| <!--/--> | Away_GF | Away_ShotsFor | Away_GA | Away_ShotsAgainst | \n",
       "|---|---|---|---|\n",
       "| Away_GF |  1.0000000 |  0.7675868 | -0.4525418 | -0.5853232 | \n",
       "| Away_ShotsFor |  0.7675868 |  1.0000000 | -0.5485788 | -0.6990074 | \n",
       "| Away_GA | -0.4525418 | -0.5485788 |  1.0000000 |  0.5977395 | \n",
       "| Away_ShotsAgainst | -0.5853232 | -0.6990074 |  0.5977395 |  1.0000000 | \n",
       "\n",
       "\n"
      ],
      "text/plain": [
       "                  Away_GF    Away_ShotsFor Away_GA    Away_ShotsAgainst\n",
       "Away_GF            1.0000000  0.7675868    -0.4525418 -0.5853232       \n",
       "Away_ShotsFor      0.7675868  1.0000000    -0.5485788 -0.6990074       \n",
       "Away_GA           -0.4525418 -0.5485788     1.0000000  0.5977395       \n",
       "Away_ShotsAgainst -0.5853232 -0.6990074     0.5977395  1.0000000       "
      ]
     },
     "metadata": {},
     "output_type": "display_data"
    }
   ],
   "source": [
    "cor(totalAgg[, c(\"Home_GF\", \"Home_ShotsFor\", \"Home_GA\", \"Home_ShotsAgainst\")])\n",
    "cor(totalAgg[, c(\"Away_GF\", \"Away_ShotsFor\", \"Away_GA\", \"Away_ShotsAgainst\")])"
   ]
  },
  {
   "cell_type": "code",
   "execution_count": 33,
   "metadata": {},
   "outputs": [
    {
     "name": "stdout",
     "output_type": "stream",
     "text": [
      "           Home_GF    Away_GF    Home_GA    Away_GA\n",
      "Home_GF  1.0000000  0.6512784 -0.5009005 -0.5497240\n",
      "Away_GF  0.6512784  1.0000000 -0.5015553 -0.4525418\n",
      "Home_GA -0.5009005 -0.5015553  1.0000000  0.5524449\n",
      "Away_GA -0.5497240 -0.4525418  0.5524449  1.0000000\n"
     ]
    }
   ],
   "source": [
    "print(cor(totalAgg[, c(\"Home_GF\", \"Away_GF\", \"Home_GA\", \"Away_GA\")]))"
   ]
  },
  {
   "cell_type": "code",
   "execution_count": null,
   "metadata": {},
   "outputs": [],
   "source": []
  },
  {
   "cell_type": "code",
   "execution_count": null,
   "metadata": {},
   "outputs": [],
   "source": []
  },
  {
   "cell_type": "code",
   "execution_count": 15,
   "metadata": {},
   "outputs": [
    {
     "data": {
      "image/png": "[encoded data removed]",
      "text/plain": [
       "Plot with title \"Histogram of Away_GA\""
      ]
     },
     "metadata": {},
     "output_type": "display_data"
    }
   ],
   "source": [
    "h <- hist(Away_GA)\n",
    "xfit <- seq(min(Away_GA), max(Away_GA), length = 40)\n",
    "yfit <- dnorm(xfit, mean = mean(Away_GA), sd = sd(Away_GA))\n",
    "yfit <- yfit*diff(h$mids[1:2])*length(Away_GA)\n",
    "lines(xfit, yfit, col = \"blue\")"
   ]
  },
  {
   "cell_type": "code",
   "execution_count": 6,
   "metadata": {},
   "outputs": [
    {
     "data": {
      "text/plain": [
       "\n",
       "Call:\n",
       "lm(formula = -Finish ~ Home_GF + Home_GA + Away_GF + Away_GA)\n",
       "\n",
       "Residuals:\n",
       "    Min      1Q  Median      3Q     Max \n",
       "-5.5638 -1.4128  0.0551  1.5031  5.5408 \n",
       "\n",
       "Coefficients:\n",
       "            Estimate Std. Error t value Pr(>|t|)    \n",
       "(Intercept) -7.87444    1.42615  -5.521 1.20e-07 ***\n",
       "Home_GF      0.15763    0.02390   6.596 4.82e-10 ***\n",
       "Home_GA     -0.25643    0.03165  -8.101 9.01e-14 ***\n",
       "Away_GF      0.20166    0.02851   7.072 3.51e-11 ***\n",
       "Away_GA     -0.20474    0.02838  -7.214 1.58e-11 ***\n",
       "---\n",
       "Signif. codes:  0 '***' 0.001 '**' 0.01 '*' 0.05 '.' 0.1 ' ' 1\n",
       "\n",
       "Residual standard error: 2.271 on 175 degrees of freedom\n",
       "Multiple R-squared:  0.8492,\tAdjusted R-squared:  0.8458 \n",
       "F-statistic: 246.4 on 4 and 175 DF,  p-value: < 2.2e-16\n"
      ]
     },
     "metadata": {},
     "output_type": "display_data"
    }
   ],
   "source": [
    "pts_mvr_gf <- lm(-Finish ~ \n",
    "Home_GF+ Home_GA+ \n",
    "Away_GF+ Away_GA)\n",
    "summary(pts_mvr_gf)"
   ]
  },
  {
   "cell_type": "code",
   "execution_count": 22,
   "metadata": {},
   "outputs": [
    {
     "data": {
      "image/png": "[encoded data removed]",
      "text/plain": [
       "Plot with title \"\""
      ]
     },
     "metadata": {},
     "output_type": "display_data"
    }
   ],
   "source": [
    "par(mfrow = c(2, 2))\n",
    "plot(pts_mvr_gf)"
   ]
  },
  {
   "cell_type": "code",
   "execution_count": 23,
   "metadata": {},
   "outputs": [
    {
     "name": "stdout",
     "output_type": "stream",
     "text": [
      "Analysis of Variance Table\n",
      "\n",
      "Response: -Finish\n",
      "           Df Sum Sq Mean Sq F value    Pr(>F)    \n",
      "Home_GF     1 3520.7  3520.7 682.764 < 2.2e-16 ***\n",
      "Home_GA     1 1006.4  1006.4 195.176 < 2.2e-16 ***\n",
      "Away_GF     1  287.1   287.1  55.675 3.840e-12 ***\n",
      "Away_GA     1  268.4   268.4  52.042 1.579e-11 ***\n",
      "Residuals 175  902.4     5.2                      \n",
      "---\n",
      "Signif. codes:  0 '***' 0.001 '**' 0.01 '*' 0.05 '.' 0.1 ' ' 1\n"
     ]
    }
   ],
   "source": [
    "print(anova(pts_mvr_gf))"
   ]
  },
  {
   "cell_type": "code",
   "execution_count": 5,
   "metadata": {},
   "outputs": [
    {
     "data": {
      "image/png": "[encoded data removed]",
      "text/plain": [
       "plot without title"
      ]
     },
     "metadata": {},
     "output_type": "display_data"
    }
   ],
   "source": [
    "pairs(~ pts_mvr_gf.stres + Home_GF + Home_GA + Away_GF + Away_GA)"
   ]
  },
  {
   "cell_type": "code",
   "execution_count": 9,
   "metadata": {},
   "outputs": [
    {
     "data": {
      "image/png": "[encoded data removed]",
      "text/plain": [
       "Plot with title \"Standardized Residual Plot\""
      ]
     },
     "metadata": {},
     "output_type": "display_data"
    }
   ],
   "source": [
    "pts_mvr_gf.stres <- rstandard(pts_mvr_gf)\n",
    "plot(Away_GA, pts_mvr_gf.stres, pch = 16, main = \"Standardized Residual Plot\", \n",
    "     xlab = \"Finish\", ylab = \"Standardized Residuals\")\n",
    "abline(0,0, lty=2, col=\"red\")"
   ]
  },
  {
   "cell_type": "code",
   "execution_count": null,
   "metadata": {},
   "outputs": [],
   "source": [
    "pts_mvr_gf.stres <- rstandard(pts_mvr_gf)\n",
    "plot(-Finish, pts_mvr_gf.stres, pch = 16, main = \"Standardized Residual Plot\", \n",
    "     xlab = \"Finish\", ylab = \"Standardized Residuals\")\n",
    "abline(0,0, lty=2, col=\"red\")"
   ]
  },
  {
   "cell_type": "code",
   "execution_count": 31,
   "metadata": {},
   "outputs": [
    {
     "data": {
      "image/png": "[encoded data removed]",
      "text/plain": [
       "Plot with title \"Normal Probability Plot\""
      ]
     },
     "metadata": {},
     "output_type": "display_data"
    }
   ],
   "source": [
    "qqnorm(pts_mvr_gf.stres, main = \"Normal Probability Plot\", xlab = \"Normal Scores\", ylab = \"Standardized Residuals\")\n",
    "qqline(pts_mvr_gf.stres, col = \"red\")"
   ]
  },
  {
   "cell_type": "code",
   "execution_count": 37,
   "metadata": {},
   "outputs": [],
   "source": [
    "pts_mvr_gf <- lm(Total_PTS ~ \n",
    "Home_GF+ Home_GA+ Home_ShotsFor+ Home_ShotsAgainst+\n",
    "Home_ShotsForOnTarget+ Home_ShotsAgainstOnTarget+ Home_FoulsFor+\n",
    "Home_FoulsAgainst+ Home_YellowsFor+ Home_RedsFor+ Home_RedsAgainst+ \n",
    "Away_GF+ Away_GA+ Away_ShotsFor+ Away_ShotsAgainst+\n",
    "Away_ShotsForOnTarget+ Away_ShotsAgainstOnTarget+ Away_FoulsFor+\n",
    "Away_FoulsAgainst+ Away_YellowsFor+ Away_RedsFor+ Away_RedsAgainst)"
   ]
  },
  {
   "cell_type": "code",
   "execution_count": 38,
   "metadata": {},
   "outputs": [
    {
     "data": {
      "text/plain": [
       "\n",
       "Call:\n",
       "lm(formula = Total_PTS ~ Home_GF + Home_GA + Home_ShotsFor + \n",
       "    Home_ShotsAgainst + Home_ShotsForOnTarget + Home_ShotsAgainstOnTarget + \n",
       "    Home_FoulsFor + Home_FoulsAgainst + Home_YellowsFor + Home_RedsFor + \n",
       "    Home_RedsAgainst + Away_GF + Away_GA + Away_ShotsFor + Away_ShotsAgainst + \n",
       "    Away_ShotsForOnTarget + Away_ShotsAgainstOnTarget + Away_FoulsFor + \n",
       "    Away_FoulsAgainst + Away_YellowsFor + Away_RedsFor + Away_RedsAgainst)\n",
       "\n",
       "Residuals:\n",
       "     Min       1Q   Median       3Q      Max \n",
       "-19.6004  -6.3629   0.1544   5.0764  25.2898 \n",
       "\n",
       "Coefficients:\n",
       "                            Estimate Std. Error t value Pr(>|t|)    \n",
       "(Intercept)                1.048e+02  1.509e+01   6.942 9.61e-11 ***\n",
       "Home_GF                    5.822e-01  5.802e-02  10.034  < 2e-16 ***\n",
       "Home_GA                   -7.083e-01  7.445e-02  -9.514  < 2e-16 ***\n",
       "Home_ShotsFor             -1.676e-02  1.895e-02  -0.884    0.378    \n",
       "Home_ShotsAgainst         -2.865e-02  2.471e-02  -1.159    0.248    \n",
       "Home_ShotsForOnTarget     -1.635e-05  3.313e-02   0.000    1.000    \n",
       "Home_ShotsAgainstOnTarget  6.806e-02  4.121e-02   1.652    0.101    \n",
       "Home_FoulsFor              8.347e-03  2.106e-02   0.396    0.692    \n",
       "Home_FoulsAgainst          1.768e-02  1.765e-02   1.002    0.318    \n",
       "Home_YellowsFor            6.007e-02  6.373e-02   0.942    0.347    \n",
       "Home_RedsFor              -3.436e-01  3.303e-01  -1.040    0.300    \n",
       "Home_RedsAgainst          -1.268e-01  2.828e-01  -0.448    0.655    \n",
       "Away_GF                    6.905e-01  7.534e-02   9.166 2.60e-16 ***\n",
       "Away_GA                   -4.940e-01  6.449e-02  -7.660 1.79e-12 ***\n",
       "Away_ShotsFor              1.938e-02  2.402e-02   0.807    0.421    \n",
       "Away_ShotsAgainst          1.817e-02  1.998e-02   0.909    0.365    \n",
       "Away_ShotsForOnTarget      6.715e-05  4.089e-02   0.002    0.999    \n",
       "Away_ShotsAgainstOnTarget -5.576e-02  3.517e-02  -1.586    0.115    \n",
       "Away_FoulsFor             -3.160e-02  2.110e-02  -1.497    0.136    \n",
       "Away_FoulsAgainst         -2.145e-03  1.926e-02  -0.111    0.911    \n",
       "Away_YellowsFor           -2.157e-02  6.366e-02  -0.339    0.735    \n",
       "Away_RedsFor               2.694e-01  2.714e-01   0.993    0.322    \n",
       "Away_RedsAgainst           2.549e-01  3.166e-01   0.805    0.422    \n",
       "---\n",
       "Signif. codes:  0 '***' 0.001 '**' 0.01 '*' 0.05 '.' 0.1 ' ' 1\n",
       "\n",
       "Residual standard error: 8.807 on 157 degrees of freedom\n",
       "Multiple R-squared:  0.9418,\tAdjusted R-squared:  0.9337 \n",
       "F-statistic: 115.6 on 22 and 157 DF,  p-value: < 2.2e-16\n"
      ]
     },
     "metadata": {},
     "output_type": "display_data"
    }
   ],
   "source": [
    "summary(pts_mvr_gf)"
   ]
  },
  {
   "cell_type": "code",
   "execution_count": 7,
   "metadata": {},
   "outputs": [],
   "source": [
    "test_lm <- lm(-Finish ~ Home_GA)"
   ]
  },
  {
   "cell_type": "code",
   "execution_count": 8,
   "metadata": {},
   "outputs": [
    {
     "name": "stderr",
     "output_type": "stream",
     "text": [
      "Warning message in predict.lm(test_lm, interval = \"predict\", level = 0.9):\n",
      "\"predictions on current data refer to _future_ responses\n",
      "\""
     ]
    }
   ],
   "source": [
    "predict_df <- predict(test_lm, interval = 'predict', level = .90)\n",
    "\n",
    "merged_df <- cbind(totalAgg, predict_df)"
   ]
  },
  {
   "cell_type": "code",
   "execution_count": 77,
   "metadata": {},
   "outputs": [
    {
     "name": "stderr",
     "output_type": "stream",
     "text": [
      "Warning message in predict.lm(test_lm, interval = \"predict\", level = 0.9):\n",
      "\"predictions on current data refer to _future_ responses\n",
      "\""
     ]
    }
   ],
   "source": [
    "test_lm <- lm(Finish ~ Home_GA)\n",
    "predict_df <- predict(test_lm, interval = 'predict', level = .90)\n",
    "merged_df <- cbind(totalAgg, predict_df)"
   ]
  },
  {
   "cell_type": "code",
   "execution_count": 79,
   "metadata": {},
   "outputs": [
    {
     "name": "stderr",
     "output_type": "stream",
     "text": [
      "Warning message:\n",
      "\"Removed 31 rows containing missing values (geom_path).\"Warning message:\n",
      "\"Removed 5 rows containing missing values (geom_path).\""
     ]
    },
    {
     "data": {},
     "metadata": {},
     "output_type": "display_data"
    },
    {
     "data": {
      "image/png": "[encoded data removed]",
      "text/plain": [
       "plot without title"
      ]
     },
     "metadata": {},
     "output_type": "display_data"
    }
   ],
   "source": [
    "\n",
    "\n",
    "\n",
    "ggplot(merged_df, aes(x=Home_GA, y=Finish)) + \n",
    " geom_point(color='#2980B9', size = 2) +\n",
    " geom_line(aes(y=lwr), color = \"red\", linetype = \"dashed\")+\n",
    " geom_line(aes(y=upr), color = \"red\", linetype = \"dashed\")+\n",
    " geom_smooth(method=lm, color='#2C3E50') +\n",
    " xlab(\"Goals Allowed (Home Matches)\") + ylab(\"Finish at the end of the season\") + ylim(25, 0) + geom_text(aes(label=Team), size = 3, vjust = -1, check_overlap = TRUE)"
   ]
  },
  {
   "cell_type": "code",
   "execution_count": null,
   "metadata": {},
   "outputs": [],
   "source": []
  }
 ],
 "metadata": {
  "kernelspec": {
   "display_name": "R",
   "language": "R",
   "name": "ir"
  },
  "language_info": {
   "codemirror_mode": "r",
   "file_extension": ".r",
   "mimetype": "text/x-r-source",
   "name": "R",
   "pygments_lexer": "r",
   "version": "3.5.1"
  }
 },
 "nbformat": 4,
 "nbformat_minor": 2
}
