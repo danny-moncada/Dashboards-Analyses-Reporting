{
 "cells": [
  {
   "cell_type": "markdown",
   "metadata": {},
   "source": [
    "---\n",
    "\n",
    "title: \"Sun Country customer analysis\"\n",
    "author: \"Anthony Meyers, Danny Moncada, Jonathan Watkins,Michael DeGuire,Sarah Black\"\n",
    "date: \"October 22nd, 2019\"\n",
    "output: pdf_document\n",
    "\n",
    "---"
   ]
  },
  {
   "cell_type": "markdown",
   "metadata": {},
   "source": [
    "# (I think the knit process creates the contents - probably delete this block)\n",
    "\n",
    "### Contents\n",
    "**Problem Statement and Approach**\n",
    "What are Sun Countries Objectives?\n",
    "UFly Rewards\n",
    "SCA Booking\n",
    "\n",
    "**Data Preparation**\n",
    "_insert steps we did to clean and process the data_\n",
    "\n",
    "**Exploratory Analysis of the Sun Country Flight Data**\n",
    "_Simple exploratory analysis of the FULL data set_\n",
    "\n",
    "**Clustering Strategies Towards Customer Segmentation**\n",
    "1. Characteristics of UFly Reward members\n",
    "2. Characteristics of Fliers\n",
    "\n",
    "**Conclusions**\n",
    "_This is where we put conclusions from the above_\n",
    "\n",
    "**Recommendations**"
   ]
  },
  {
   "cell_type": "markdown",
   "metadata": {},
   "source": [
    "## Problem Statement and our Approach\n",
    "\n",
    "**Sun Countries Objectives**\n",
    "\n",
    "In order to compete with major airline firms, Sun Country Airlines needs to be savvy and sophisticated in their marketing and customer interaction strategy. Sun Countries Ufly reward program and digital experience provide Sun Country a platform in which to enable modern marketing and analytics techniques to create value to enable Sun Country to compete with other, more resource enabled, airline firms.\n",
    "Leveraging exploratory analytics techniques, such as clustering analysis, will enable Sun Country to generate insights and actionable hypotheses from the data. Examining the characteristics of customer cohorts and their flying habits will help Sun Counry focus their strategic initiatives to delivering best in class service and options to the Sun Country customer base.\n",
    "\n",
    "**Our Approach**\n",
    "\n",
    "We propose a customer segmentation analytics approach to guide the exploration of customer characteristics and how they travel. Specifically, we choose to explore the portion of customer who use the Minneapolis - St.Paul Sun Country hub as their start point for their journeys, as coded in the data.\n",
    "We then leverage a k-medioids approach to cluster mixed data-types. This partioning around mediods algorithm leverages Gower distance to appropriately compute partial dissimilarities and is very intuitive. It also has an extremely useful feature in that it can produce statistics around what a typical customer might look like for each cluster, allowing us to see who is, or isn't, traveling with a UFly membership or booking through the SCA site.\n",
    "\n"
   ]
  },
  {
   "cell_type": "markdown",
   "metadata": {},
   "source": [
    "## Data Preparation\n",
    "\n",
    "missing values\n",
    "segments to trips\n",
    "working with samples\n",
    "\n",
    "\n"
   ]
  },
  {
   "cell_type": "markdown",
   "metadata": {},
   "source": [
    "## Exploratory Analysis of the Sun Country Flight Data\n",
    "\n",
    "\n"
   ]
  },
  {
   "cell_type": "code",
   "execution_count": 4,
   "metadata": {},
   "outputs": [],
   "source": [
    "## JONATHAN INSERT ANY CODE YOU HAVE HERE"
   ]
  },
  {
   "cell_type": "code",
   "execution_count": null,
   "metadata": {},
   "outputs": [],
   "source": []
  },
  {
   "cell_type": "markdown",
   "metadata": {},
   "source": [
    "We found # Clusters - brief description\n",
    "\n",
    "One particular cluster of interest was Men in their 50's who fly from Minneapolis to Las Vegas in coach, booking via the Sun Country Website, that are not Ufly Rewards members or credit card holders. Minneapolis to Las Vegas is a very popular flight for Sun Country and is offered frequently and this group of flyers in particular stands out. This customer segment is already booking through the website so an extra push to get them to be Ufly Rewards members may help to get them to make more trips on Sun Country. \n"
   ]
  },
  {
   "cell_type": "markdown",
   "metadata": {},
   "source": [
    "## Clustering Strategies Towards Customer Segmentation\n",
    "_some text here explaining the clustering techniques again_\n",
    "\n",
    "1.) Defining the characteristics of UFly reward fliers\n",
    "\n",
    "2.) Defining the characteristics of flights booked through the SCA site\n",
    "\n",
    "\n"
   ]
  },
  {
   "cell_type": "code",
   "execution_count": 1,
   "metadata": {},
   "outputs": [],
   "source": [
    "suppressPackageStartupMessages(library(tidyverse))\n",
    "suppressPackageStartupMessages(library(cluster))\n",
    "suppressPackageStartupMessages(library(factoextra))\n",
    "suppressPackageStartupMessages(library(corrplot))\n",
    "suppressPackageStartupMessages(library(PerformanceAnalytics))"
   ]
  },
  {
   "cell_type": "code",
   "execution_count": null,
   "metadata": {
    "collapsed": true
   },
   "outputs": [],
   "source": []
  },
  {
   "cell_type": "code",
   "execution_count": null,
   "metadata": {},
   "outputs": [],
   "source": []
  },
  {
   "cell_type": "code",
   "execution_count": null,
   "metadata": {
    "scrolled": true
   },
   "outputs": [],
   "source": []
  },
  {
   "cell_type": "code",
   "execution_count": 3,
   "metadata": {},
   "outputs": [],
   "source": [
    "## Set the working directory\n",
    "## This can be changed based on where you have your data\n",
    "\n",
    "data.dir = \"C:/Users/monca016/Documents/Fall 2019/MSBA 6410 - Exploratory Analytics/HW2/\"\n",
    "\n",
    "\n",
    "## Set the file name\n",
    "data.file = \"SunCountry_MSPDepartures_20kSample_wCluster.csv\"\n",
    "\n",
    "\n",
    "cluster_data = read.csv(paste(data.dir, data.file, sep = \"\"))"
   ]
  },
  {
   "cell_type": "code",
   "execution_count": null,
   "metadata": {
    "code_folding": [],
    "hide_input": false
   },
   "outputs": [
    {
     "name": "stderr",
     "output_type": "stream",
     "text": [
      "Warning message in daisy(cluster_data, metric = \"gower\"):\n",
      "\"binary variable(s) 9, 10 treated as interval scaled\""
     ]
    }
   ],
   "source": [
    "gower = daisy(cluster_data, metric = \"gower\")\n",
    "\n",
    "gower_mat = as.matrix(gower)\n",
    "\n",
    "#find similar characteristics\n",
    "#data_feats_sample[which(gower_mat == min(gower_mat[gower_mat != min(gower_mat)]), arr.ind = TRUE)[1, ], ]\n",
    "\n",
    "#find not similar characteristics\n",
    "#data_feats_sample[which(gower_mat == min(gower_mat[gower_mat != max(gower_mat)]), arr.ind = TRUE)[1, ], ]\n",
    "\n",
    "#determine a number of clusters ----------------\n",
    "sil_width = c(NA)\n",
    "\n",
    "for(i in 2:8){\n",
    "  pam_fit = pam(gower, diss = TRUE, k = i)\n",
    "  sil_width[i] = pam_fit$silinfo$avg.width\n",
    "}\n",
    "\n",
    "plot(1:8, sil_width,\n",
    "     xlab = \"Number of clusters\",\n",
    "     ylab = \"Silhouette Width\")\n",
    "lines(1:8, sil_width)\n",
    "\n",
    "#get a summary of the clusters ----------------\n",
    "k = 6\n",
    "pam_fit = pam(gower, diss = TRUE, k)\n",
    "pam_results = data_feats_sample %>%\n",
    "  mutate(cluster = pam_fit$clustering) %>%\n",
    "  group_by(cluster) %>%\n",
    "  do(the_summary = summary(.))\n",
    "pam_results$the_summary"
   ]
  },
  {
   "cell_type": "code",
   "execution_count": null,
   "metadata": {},
   "outputs": [],
   "source": []
  },
  {
   "cell_type": "code",
   "execution_count": null,
   "metadata": {},
   "outputs": [],
   "source": []
  },
  {
   "cell_type": "code",
   "execution_count": null,
   "metadata": {},
   "outputs": [],
   "source": []
  },
  {
   "cell_type": "code",
   "execution_count": null,
   "metadata": {},
   "outputs": [],
   "source": []
  },
  {
   "cell_type": "code",
   "execution_count": 4,
   "metadata": {},
   "outputs": [
    {
     "data": {
      "text/html": [
       "<table>\n",
       "<thead><tr><th scope=col>id</th><th scope=col>ServiceStartCity</th><th scope=col>ServiceEndCity</th><th scope=col>GenderCode</th><th scope=col>BookingChannel</th><th scope=col>TimeGap</th><th scope=col>TripMonth</th><th scope=col>Age</th><th scope=col>UflyMember</th><th scope=col>CardHolderFlag</th><th scope=col>cluster</th></tr></thead>\n",
       "<tbody>\n",
       "\t<tr><td>1                  </td><td>MSP                </td><td>SAN                </td><td>F                  </td><td>Outside Booking    </td><td> 27                </td><td>December           </td><td>21                 </td><td>0                  </td><td>0                  </td><td>1                  </td></tr>\n",
       "\t<tr><td>2                  </td><td>MSP                </td><td>DFW                </td><td>M                  </td><td>SCA Website Booking</td><td> 20                </td><td>October            </td><td>45                 </td><td>1                  </td><td>0                  </td><td>2                  </td></tr>\n",
       "\t<tr><td>3                  </td><td>MSP                </td><td>SEA                </td><td>F                  </td><td>Outside Booking    </td><td> 63                </td><td>December           </td><td>63                 </td><td>0                  </td><td>0                  </td><td>3                  </td></tr>\n",
       "\t<tr><td>4                  </td><td>MSP                </td><td>SEA                </td><td>F                  </td><td>SCA Website Booking</td><td> 63                </td><td>August             </td><td>39                 </td><td>0                  </td><td>0                  </td><td>4                  </td></tr>\n",
       "\t<tr><td>5                  </td><td>MSP                </td><td>ANC                </td><td>F                  </td><td>Outside Booking    </td><td>137                </td><td>July               </td><td>25                 </td><td>0                  </td><td>0                  </td><td>3                  </td></tr>\n",
       "\t<tr><td>6                  </td><td>MSP                </td><td>CUN                </td><td>M                  </td><td>Outside Booking    </td><td> 24                </td><td>December           </td><td>21                 </td><td>0                  </td><td>0                  </td><td>1                  </td></tr>\n",
       "</tbody>\n",
       "</table>\n"
      ],
      "text/latex": [
       "\\begin{tabular}{r|lllllllllll}\n",
       " id & ServiceStartCity & ServiceEndCity & GenderCode & BookingChannel & TimeGap & TripMonth & Age & UflyMember & CardHolderFlag & cluster\\\\\n",
       "\\hline\n",
       "\t 1                   & MSP                 & SAN                 & F                   & Outside Booking     &  27                 & December            & 21                  & 0                   & 0                   & 1                  \\\\\n",
       "\t 2                   & MSP                 & DFW                 & M                   & SCA Website Booking &  20                 & October             & 45                  & 1                   & 0                   & 2                  \\\\\n",
       "\t 3                   & MSP                 & SEA                 & F                   & Outside Booking     &  63                 & December            & 63                  & 0                   & 0                   & 3                  \\\\\n",
       "\t 4                   & MSP                 & SEA                 & F                   & SCA Website Booking &  63                 & August              & 39                  & 0                   & 0                   & 4                  \\\\\n",
       "\t 5                   & MSP                 & ANC                 & F                   & Outside Booking     & 137                 & July                & 25                  & 0                   & 0                   & 3                  \\\\\n",
       "\t 6                   & MSP                 & CUN                 & M                   & Outside Booking     &  24                 & December            & 21                  & 0                   & 0                   & 1                  \\\\\n",
       "\\end{tabular}\n"
      ],
      "text/markdown": [
       "\n",
       "| id | ServiceStartCity | ServiceEndCity | GenderCode | BookingChannel | TimeGap | TripMonth | Age | UflyMember | CardHolderFlag | cluster |\n",
       "|---|---|---|---|---|---|---|---|---|---|---|\n",
       "| 1                   | MSP                 | SAN                 | F                   | Outside Booking     |  27                 | December            | 21                  | 0                   | 0                   | 1                   |\n",
       "| 2                   | MSP                 | DFW                 | M                   | SCA Website Booking |  20                 | October             | 45                  | 1                   | 0                   | 2                   |\n",
       "| 3                   | MSP                 | SEA                 | F                   | Outside Booking     |  63                 | December            | 63                  | 0                   | 0                   | 3                   |\n",
       "| 4                   | MSP                 | SEA                 | F                   | SCA Website Booking |  63                 | August              | 39                  | 0                   | 0                   | 4                   |\n",
       "| 5                   | MSP                 | ANC                 | F                   | Outside Booking     | 137                 | July                | 25                  | 0                   | 0                   | 3                   |\n",
       "| 6                   | MSP                 | CUN                 | M                   | Outside Booking     |  24                 | December            | 21                  | 0                   | 0                   | 1                   |\n",
       "\n"
      ],
      "text/plain": [
       "  id ServiceStartCity ServiceEndCity GenderCode BookingChannel      TimeGap\n",
       "1 1  MSP              SAN            F          Outside Booking      27    \n",
       "2 2  MSP              DFW            M          SCA Website Booking  20    \n",
       "3 3  MSP              SEA            F          Outside Booking      63    \n",
       "4 4  MSP              SEA            F          SCA Website Booking  63    \n",
       "5 5  MSP              ANC            F          Outside Booking     137    \n",
       "6 6  MSP              CUN            M          Outside Booking      24    \n",
       "  TripMonth Age UflyMember CardHolderFlag cluster\n",
       "1 December  21  0          0              1      \n",
       "2 October   45  1          0              2      \n",
       "3 December  63  0          0              3      \n",
       "4 August    39  0          0              4      \n",
       "5 July      25  0          0              3      \n",
       "6 December  21  0          0              1      "
      ]
     },
     "metadata": {},
     "output_type": "display_data"
    }
   ],
   "source": [
    "## Make a copy of the data - now that we have it loaded\n",
    "## We don't want to screw up any transformations\n",
    "suncountry = cluster_data\n",
    "\n",
    "## View the first few rows to see the structure of the data\n",
    "\n",
    "head(suncountry)"
   ]
  },
  {
   "cell_type": "code",
   "execution_count": 5,
   "metadata": {},
   "outputs": [
    {
     "data": {
      "text/plain": [
       "       id        ServiceStartCity ServiceEndCity  GenderCode\n",
       " Min.   :    1   MSP:20000        LAS    : 2550   F:10479   \n",
       " 1st Qu.: 5001                    MCO    : 1939   M: 9520   \n",
       " Median :10000                    JFK    : 1414   U:    1   \n",
       " Mean   :10000                    LAX    : 1347             \n",
       " 3rd Qu.:15000                    SFO    : 1308             \n",
       " Max.   :20000                    RSW    : 1293             \n",
       "                                  (Other):10149             \n",
       "              BookingChannel    TimeGap          TripMonth         Age        \n",
       " SCA Website Booking :9025   Min.   :  0.00   March   :2726   Min.   :  0.00  \n",
       " Outside Booking     :7728   1st Qu.: 20.00   February:2074   1st Qu.: 26.00  \n",
       " Reservations Booking:1646   Median : 46.00   December:2039   Median : 42.00  \n",
       " SY Vacation         : 749   Mean   : 63.35   January :1632   Mean   : 40.71  \n",
       " Tour Operator Portal: 748   3rd Qu.: 89.00   October :1631   3rd Qu.: 55.00  \n",
       " MSP                 :  66   Max.   :650.00   July    :1596   Max.   :114.00  \n",
       " (Other)             :  38                    (Other) :8302                   \n",
       "   UflyMember     CardHolderFlag      cluster     \n",
       " Min.   :0.0000   Min.   :0.0000   Min.   :1.000  \n",
       " 1st Qu.:0.0000   1st Qu.:0.0000   1st Qu.:2.000  \n",
       " Median :0.0000   Median :0.0000   Median :3.000  \n",
       " Mean   :0.2297   Mean   :0.0115   Mean   :3.421  \n",
       " 3rd Qu.:0.0000   3rd Qu.:0.0000   3rd Qu.:5.000  \n",
       " Max.   :1.0000   Max.   :1.0000   Max.   :6.000  \n",
       "                                                  "
      ]
     },
     "metadata": {},
     "output_type": "display_data"
    }
   ],
   "source": [
    "## View some summary statistics of the clustered dataset\n",
    "\n",
    "summary(suncountry)"
   ]
  },
  {
   "cell_type": "code",
   "execution_count": 6,
   "metadata": {},
   "outputs": [
    {
     "data": {
      "text/plain": [
       "\n",
       "  MSP \n",
       "20000 "
      ]
     },
     "metadata": {},
     "output_type": "display_data"
    },
    {
     "data": {
      "text/plain": [
       "\n",
       " ANC  BOS  CUN  CZM  DCA  DFW  GRB  HRL  HUX  IFP  JFK  LAN  LAS  LAX  LIR  MBJ \n",
       " 249 1121 1048  112  614  706    3  386   35   10 1414  303 2550 1347   68  132 \n",
       " MCO  MDW  MIA  MZT  PHX  PNS  PSP  PUJ  PVR  RSW  SAN  SEA  SFO  SJD  SJU  STT \n",
       "1939  556  217   81  871    3  526  209  368 1293  642 1164 1308  138   58   78 \n",
       " SXM  TPA  ZIH \n",
       "  72  283   96 "
      ]
     },
     "metadata": {},
     "output_type": "display_data"
    },
    {
     "data": {
      "text/plain": [
       "\n",
       "    April    August  December  February   January      July      June     March \n",
       "     1466      1468      2039      2074      1632      1596      1493      2726 \n",
       "      May  November   October September \n",
       "     1416      1398      1631      1061 "
      ]
     },
     "metadata": {},
     "output_type": "display_data"
    },
    {
     "data": {
      "text/plain": [
       "\n",
       "    F     M     U \n",
       "10479  9520     1 "
      ]
     },
     "metadata": {},
     "output_type": "display_data"
    },
    {
     "data": {
      "text/plain": [
       "\n",
       "    0     1 \n",
       "15406  4594 "
      ]
     },
     "metadata": {},
     "output_type": "display_data"
    },
    {
     "data": {
      "text/plain": [
       "\n",
       "    0     1 \n",
       "19770   230 "
      ]
     },
     "metadata": {},
     "output_type": "display_data"
    },
    {
     "data": {
      "text/plain": [
       "\n",
       "   1    2    3    4    5    6 \n",
       "4001 1905 4212 3800 3720 2362 "
      ]
     },
     "metadata": {},
     "output_type": "display_data"
    }
   ],
   "source": [
    "## Generate some quick tables to view categorical variables and their distributions\n",
    "\n",
    "table(suncountry$ServiceStartCity)\n",
    "table(suncountry$ServiceEndCity)\n",
    "\n",
    "table(suncountry$TripMonth)\n",
    "\n",
    "table(suncountry$GenderCode)\n",
    "\n",
    "table(suncountry$UflyMember)\n",
    "\n",
    "table(suncountry$CardHolderFlag)\n",
    "\n",
    "table(suncountry$cluster)"
   ]
  },
  {
   "cell_type": "code",
   "execution_count": 7,
   "metadata": {},
   "outputs": [],
   "source": [
    "## Taking one extra step here to filter out the one row with U for the Gender Analysis\n",
    "suncountry <- suncountry %>% filter(GenderCode != 'U')\n",
    "\n",
    "## Set cluster as the customer segment and also make it at factor\n",
    "\n",
    "suncountry$cluster <- as.factor(suncountry$cluster)"
   ]
  },
  {
   "cell_type": "code",
   "execution_count": 8,
   "metadata": {},
   "outputs": [
    {
     "data": {
      "image/png": "[encoded data removed]",
      "text/plain": [
       "plot without title"
      ]
     },
     "metadata": {},
     "output_type": "display_data"
    }
   ],
   "source": [
    "## Distributions for Age based on the customer segment - we see a lot of outliers\n",
    "\n",
    "ggplot(suncountry, aes(x = cluster, y = Age)) +\n",
    "        geom_boxplot(outlier.colour=\"red\", outlier.size=2) + facet_grid(. ~ GenderCode) +\n",
    "        labs(x=\"Customer Segment\", title = \"Distribution of Age & Gender for Customer Segments\")"
   ]
  },
  {
   "cell_type": "code",
   "execution_count": 9,
   "metadata": {},
   "outputs": [
    {
     "name": "stderr",
     "output_type": "stream",
     "text": [
      "Selecting by id\n"
     ]
    }
   ],
   "source": [
    "## Distributions of Final Destinations for Each Customer Segment\n",
    "\n",
    "customer_segment_final_destination <- suncountry %>% \n",
    "        \n",
    "        ## Group by the cluster and end city\n",
    "        group_by(cluster, ServiceEndCity) %>%\n",
    "        ## Count the number of times each end city appears\n",
    "        summarise(id = n()) %>%\n",
    "        ## Grab the top 10 final destinations for each to make for easier plotting\n",
    "        top_n(10)\n",
    "\n",
    "## Now we pivot the table a bit so that we organize by the final destinations for each segment - we'll use this in the next plot\n",
    "final_dest_total_trips <- customer_segment_final_destination %>% \n",
    "        group_by(ServiceEndCity, cluster) %>%\n",
    "        summarise(total_trips = sum(id))"
   ]
  },
  {
   "cell_type": "code",
   "execution_count": 10,
   "metadata": {},
   "outputs": [],
   "source": [
    "## Generate a table showing the grand total for each final desination\n",
    "\n",
    "sorted_table <- final_dest_total_trips %>%\n",
    "        group_by(ServiceEndCity) %>%\n",
    "        summarise(grand_total = sum(total_trips)) %>%\n",
    "        arrange(desc(grand_total))\n",
    "\n",
    "\n",
    "levels = sorted_table$ServiceEndCity\n",
    "\n",
    "## Re-arranging the sort order for our final destionation to help generate a more understandable graphic\n",
    "final_dest_total_trips$ServiceEndCity <- factor(final_dest_total_trips$ServiceEndCity, levels = levels)"
   ]
  },
  {
   "cell_type": "code",
   "execution_count": 11,
   "metadata": {},
   "outputs": [
    {
     "data": {
      "image/png": "[encoded data removed]",
      "text/plain": [
       "plot without title"
      ]
     },
     "metadata": {},
     "output_type": "display_data"
    }
   ],
   "source": [
    "ggplot(final_dest_total_trips) +\n",
    "        aes(x = ServiceEndCity, fill = cluster, weight = total_trips) +\n",
    "        geom_bar() +\n",
    "        scale_fill_hue() +\n",
    "        labs(x = \"Airport Code\", y = \"Number of Trips\", title = \"Final Destinations for Customer Segments\", fill = \"Customer Segment\")"
   ]
  },
  {
   "cell_type": "code",
   "execution_count": 12,
   "metadata": {},
   "outputs": [
    {
     "data": {
      "text/html": [
       "<table>\n",
       "<thead><tr><th scope=col>BookingChannel</th><th scope=col>cluster</th><th scope=col>booking_count</th></tr></thead>\n",
       "<tbody>\n",
       "\t<tr><td>Outside Booking    </td><td>3                  </td><td>3356               </td></tr>\n",
       "\t<tr><td>Outside Booking    </td><td>1                  </td><td>3239               </td></tr>\n",
       "\t<tr><td>SCA Website Booking</td><td>4                  </td><td>2841               </td></tr>\n",
       "\t<tr><td>SCA Website Booking</td><td>5                  </td><td>2587               </td></tr>\n",
       "\t<tr><td>SCA Website Booking</td><td>6                  </td><td>1836               </td></tr>\n",
       "\t<tr><td>SCA Website Booking</td><td>2                  </td><td>1337               </td></tr>\n",
       "</tbody>\n",
       "</table>\n"
      ],
      "text/latex": [
       "\\begin{tabular}{r|lll}\n",
       " BookingChannel & cluster & booking\\_count\\\\\n",
       "\\hline\n",
       "\t Outside Booking     & 3                   & 3356               \\\\\n",
       "\t Outside Booking     & 1                   & 3239               \\\\\n",
       "\t SCA Website Booking & 4                   & 2841               \\\\\n",
       "\t SCA Website Booking & 5                   & 2587               \\\\\n",
       "\t SCA Website Booking & 6                   & 1836               \\\\\n",
       "\t SCA Website Booking & 2                   & 1337               \\\\\n",
       "\\end{tabular}\n"
      ],
      "text/markdown": [
       "\n",
       "| BookingChannel | cluster | booking_count |\n",
       "|---|---|---|\n",
       "| Outside Booking     | 3                   | 3356                |\n",
       "| Outside Booking     | 1                   | 3239                |\n",
       "| SCA Website Booking | 4                   | 2841                |\n",
       "| SCA Website Booking | 5                   | 2587                |\n",
       "| SCA Website Booking | 6                   | 1836                |\n",
       "| SCA Website Booking | 2                   | 1337                |\n",
       "\n"
      ],
      "text/plain": [
       "  BookingChannel      cluster booking_count\n",
       "1 Outside Booking     3       3356         \n",
       "2 Outside Booking     1       3239         \n",
       "3 SCA Website Booking 4       2841         \n",
       "4 SCA Website Booking 5       2587         \n",
       "5 SCA Website Booking 6       1836         \n",
       "6 SCA Website Booking 2       1337         "
      ]
     },
     "metadata": {},
     "output_type": "display_data"
    }
   ],
   "source": [
    "## Visualize how these flights were booked\n",
    "\n",
    "## Group by booking channel and cluster\n",
    "\n",
    "customer_segments_booking_channel <-\n",
    "        suncountry %>%\n",
    "                group_by(BookingChannel, cluster) %>%\n",
    "                summarise(booking_count = n()) %>%\n",
    "                arrange(desc(booking_count))\n",
    "\n",
    "## Observe the first few rows\n",
    "head(customer_segments_booking_channel)"
   ]
  },
  {
   "cell_type": "code",
   "execution_count": 13,
   "metadata": {},
   "outputs": [],
   "source": [
    "sorted_booking_channel <- customer_segments_booking_channel %>%\n",
    "        group_by(BookingChannel) %>%\n",
    "        summarise(grand_total = sum(booking_count)) %>%\n",
    "        arrange((grand_total))\n",
    "\n",
    "levels = sorted_booking_channel$BookingChannel\n",
    "\n",
    "## Re-arranging the sort order for our final destionation to help generate a more understandable graphic\n",
    "customer_segments_booking_channel$BookingChannel <- factor(customer_segments_booking_channel$BookingChannel, levels = levels)"
   ]
  },
  {
   "cell_type": "code",
   "execution_count": 14,
   "metadata": {},
   "outputs": [
    {
     "data": {
      "image/png": "[encoded data removed]",
      "text/plain": [
       "plot without title"
      ]
     },
     "metadata": {},
     "output_type": "display_data"
    }
   ],
   "source": [
    "## Interesting observation - we see that customer segments 1 and 3 predominately used outside booking channels\n",
    "## Customer Segments 4 & 5 used the Sun Country website\n",
    "\n",
    "ggplot(customer_segments_booking_channel) +\n",
    "        aes(x = BookingChannel, weight = booking_count) +\n",
    "        geom_bar() +\n",
    "        scale_fill_hue() +\n",
    "        coord_flip() +\n",
    "        labs(x = \"Booking Site\", y = \"Count of Bookings\", title = \"Booking Channels Used By Customer Segments\", fill = \"Customer Segment\") +\n",
    "        facet_wrap(cluster ~ .)"
   ]
  },
  {
   "cell_type": "code",
   "execution_count": 15,
   "metadata": {},
   "outputs": [],
   "source": [
    "customer_segment_ufly <-\n",
    "\n",
    "suncountry %>%\n",
    "        group_by(UflyMember, cluster) %>%\n",
    "        summarise(grp_count = n()) %>%\n",
    "        arrange(desc(grp_count))"
   ]
  },
  {
   "cell_type": "code",
   "execution_count": 16,
   "metadata": {},
   "outputs": [],
   "source": [
    "## Convert UFlyMember column to factor variable\n",
    "customer_segment_ufly$UflyMember <- as.factor(customer_segment_ufly$UflyMember)\n",
    "\n",
    "customer_segment_ufly <-\n",
    "        customer_segment_ufly %>%\n",
    "                mutate(UflyMember_Factor = fct_recode(UflyMember,\n",
    "                        \"UFly Members\" = \"1\",\n",
    "                        \"Potential UFly Members\" = \"0\"))"
   ]
  },
  {
   "cell_type": "code",
   "execution_count": null,
   "metadata": {},
   "outputs": [],
   "source": []
  },
  {
   "cell_type": "code",
   "execution_count": null,
   "metadata": {},
   "outputs": [],
   "source": []
  },
  {
   "cell_type": "code",
   "execution_count": null,
   "metadata": {},
   "outputs": [],
   "source": [
    "ggplot(customer_segment_ufly) +\n",
    " aes(x = UflyMember_Factor, weight = grp_count) +\n",
    " geom_bar() +\n",
    " labs(x = \"\", title = \"UFly Members by Customer Segment\", y = \"Number of Bookings\", caption = \"Demonstrating the potential membership conversion\") +\n",
    " theme_gray() +\n",
    " facet_wrap(vars(cluster))"
   ]
  },
  {
   "cell_type": "code",
   "execution_count": null,
   "metadata": {},
   "outputs": [],
   "source": []
  },
  {
   "cell_type": "markdown",
   "metadata": {},
   "source": [
    "Now we go back to the original data set, and pull in all the Sun Country data available to us.  This is a three million+ row data set, so we won't run through the code blocks.  But we do some processing work here."
   ]
  },
  {
   "cell_type": "code",
   "execution_count": null,
   "metadata": {},
   "outputs": [],
   "source": [
    "## Takes about 5 minutes to load the whole dataframe - we won't be running that again\n",
    "\n",
    "## data.dir = \"C:/Users/monca016/Documents/Fall 2019/MSBA 6410 - Exploratory Analytics/HW2/\"\n",
    "\n",
    "\n",
    "## Set the file name\n",
    "data.file = \"SunCountry.csv\"\n",
    "\n",
    "\n",
    "cluster_data = read.csv(paste(data.dir, data.file, sep = \"\"))\n",
    "\n",
    "\n",
    "\n",
    "\n",
    "data.dir = \"C:/Users/monca016/Documents/Fall 2019/MSBA 6410 - Exploratory Analytics/HW2/SunCountry.csv\"\n",
    "\n",
    "data = read.csv(data.dir)\n",
    "\n",
    "#parse data------------------------------------------------------------------\n",
    "data = data %>% filter(MarketingAirlineCode == \"SY\") %>% select(TicketNum, PNRLocatorID, CouponSeqNbr, ServiceStartCity,ServiceEndCity, PNRCreateDate, ServiceStartDate, GenderCode,\n",
    "                Age, PostalCode, BkdClassOfService, TrvldClassOfService, BookingChannel, BaseFareAmt, TotalDocAmt, UflyMemberStatus,\n",
    "                CardHolder, BookedProduct, EnrollDate, StopoverCode)"
   ]
  },
  {
   "cell_type": "code",
   "execution_count": null,
   "metadata": {},
   "outputs": [],
   "source": []
  },
  {
   "cell_type": "code",
   "execution_count": null,
   "metadata": {},
   "outputs": [],
   "source": []
  },
  {
   "cell_type": "code",
   "execution_count": null,
   "metadata": {},
   "outputs": [],
   "source": []
  },
  {
   "cell_type": "code",
   "execution_count": null,
   "metadata": {},
   "outputs": [],
   "source": []
  },
  {
   "cell_type": "code",
   "execution_count": null,
   "metadata": {},
   "outputs": [],
   "source": []
  },
  {
   "cell_type": "code",
   "execution_count": null,
   "metadata": {},
   "outputs": [],
   "source": []
  },
  {
   "cell_type": "code",
   "execution_count": null,
   "metadata": {},
   "outputs": [],
   "source": []
  },
  {
   "cell_type": "code",
   "execution_count": null,
   "metadata": {},
   "outputs": [],
   "source": []
  },
  {
   "cell_type": "code",
   "execution_count": null,
   "metadata": {},
   "outputs": [],
   "source": []
  },
  {
   "cell_type": "code",
   "execution_count": null,
   "metadata": {},
   "outputs": [],
   "source": []
  },
  {
   "cell_type": "code",
   "execution_count": null,
   "metadata": {},
   "outputs": [],
   "source": []
  },
  {
   "cell_type": "code",
   "execution_count": null,
   "metadata": {},
   "outputs": [],
   "source": []
  },
  {
   "cell_type": "code",
   "execution_count": null,
   "metadata": {},
   "outputs": [],
   "source": []
  },
  {
   "cell_type": "markdown",
   "metadata": {},
   "source": [
    "## Conclusions"
   ]
  },
  {
   "cell_type": "markdown",
   "metadata": {},
   "source": [
    "## Recommendations\n",
    "\n",
    "Methods to encourage people to sign up for Ufly Rewards\n",
    "\n",
    "Methods to encourage booking on the Sun Country Website\n",
    "\n",
    "Specifically address the MSP -> Vegas older men"
   ]
  },
  {
   "cell_type": "code",
   "execution_count": null,
   "metadata": {},
   "outputs": [],
   "source": []
  }
 ],
 "metadata": {
  "hide_input": false,
  "kernelspec": {
   "display_name": "R",
   "language": "R",
   "name": "ir"
  },
  "language_info": {
   "codemirror_mode": "r",
   "file_extension": ".r",
   "mimetype": "text/x-r-source",
   "name": "R",
   "pygments_lexer": "r",
   "version": "3.6.1"
  }
 },
 "nbformat": 4,
 "nbformat_minor": 2
}
