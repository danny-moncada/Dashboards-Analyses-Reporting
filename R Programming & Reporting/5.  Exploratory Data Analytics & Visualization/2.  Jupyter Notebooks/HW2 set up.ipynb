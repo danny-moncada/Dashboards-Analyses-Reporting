{
 "cells": [
  {
   "cell_type": "code",
   "execution_count": 10,
   "metadata": {},
   "outputs": [],
   "source": [
    "from zipfile import ZipFile"
   ]
  },
  {
   "cell_type": "code",
   "execution_count": 11,
   "metadata": {},
   "outputs": [],
   "source": [
    "file_name = \"SunCountry_data.zip\""
   ]
  },
  {
   "cell_type": "code",
   "execution_count": 12,
   "metadata": {},
   "outputs": [
    {
     "name": "stdout",
     "output_type": "stream",
     "text": [
      "File Name                                             Modified             Size\n",
      "SunCountry.csv                                 2016-09-22 08:45:20    765010601\n",
      "__MACOSX/                                      2016-09-24 10:14:02            0\n",
      "__MACOSX/._SunCountry.csv                      2016-09-22 08:45:20          770\n",
      "Extracting all the files now...\n",
      "Done!\n"
     ]
    }
   ],
   "source": [
    "with ZipFile(file_name, 'r') as zip: \n",
    "    # printing all the contents of the zip file \n",
    "    zip.printdir() \n",
    "  \n",
    "    # extracting all the files \n",
    "    print('Extracting all the files now...') \n",
    "    zip.extractall() \n",
    "    print('Done!')"
   ]
  },
  {
   "cell_type": "code",
   "execution_count": 13,
   "metadata": {},
   "outputs": [
    {
     "name": "stdout",
     "output_type": "stream",
     "text": [
      " Volume in drive C is OS\n",
      " Volume Serial Number is EC99-1C17\n",
      "\n",
      " Directory of C:\\Users\\monca016\\Documents\\Fall 2019\\MSBA 6410 - Exploratory Analytics\\HW2\n",
      "\n",
      "10/05/2019  04:47 PM    <DIR>          .\n",
      "10/05/2019  04:47 PM    <DIR>          ..\n",
      "09/30/2019  11:59 AM             6,148 .DS_Store\n",
      "10/05/2019  04:47 PM    <DIR>          .ipynb_checkpoints\n",
      "10/05/2019  04:02 PM               184 .Rhistory\n",
      "10/05/2019  04:24 PM    <DIR>          __MACOSX\n",
      "10/05/2019  04:47 PM             1,791 HW2 set up.ipynb\n",
      "09/30/2019  11:59 AM           191,618 HW2.pdf\n",
      "09/30/2019  11:59 AM             8,846 HW2.Rmd\n",
      "09/30/2019  11:59 AM           745,109 Sun Country Case Narrative.pdf\n",
      "10/05/2019  04:24 PM       765,010,601 SunCountry.csv\n",
      "09/30/2019  11:59 AM       118,016,693 SunCountry_data.zip\n",
      "10/05/2019  04:40 PM         4,450,075 SunCountry_sample.csv\n",
      "09/30/2019  11:59 AM             2,515 SunCountryDict.csv\n",
      "              10 File(s)    888,433,580 bytes\n",
      "               4 Dir(s)  30,213,750,784 bytes free\n"
     ]
    }
   ],
   "source": [
    "ls"
   ]
  },
  {
   "cell_type": "code",
   "execution_count": 14,
   "metadata": {},
   "outputs": [],
   "source": [
    "! head -n 20000 SunCountry.csv > SunCountry_nonr_sample.csv"
   ]
  },
  {
   "cell_type": "code",
   "execution_count": 15,
   "metadata": {},
   "outputs": [
    {
     "name": "stdout",
     "output_type": "stream",
     "text": [
      " Volume in drive C is OS\n",
      " Volume Serial Number is EC99-1C17\n",
      "\n",
      " Directory of C:\\Users\\monca016\\Documents\\Fall 2019\\MSBA 6410 - Exploratory Analytics\\HW2\n",
      "\n",
      "10/05/2019  04:49 PM    <DIR>          .\n",
      "10/05/2019  04:49 PM    <DIR>          ..\n",
      "09/30/2019  11:59 AM             6,148 .DS_Store\n",
      "10/05/2019  04:47 PM    <DIR>          .ipynb_checkpoints\n",
      "10/05/2019  04:02 PM               184 .Rhistory\n",
      "10/05/2019  04:24 PM    <DIR>          __MACOSX\n",
      "10/05/2019  04:49 PM             3,275 HW2 set up.ipynb\n",
      "09/30/2019  11:59 AM           191,618 HW2.pdf\n",
      "09/30/2019  11:59 AM             8,846 HW2.Rmd\n",
      "09/30/2019  11:59 AM           745,109 Sun Country Case Narrative.pdf\n",
      "10/05/2019  04:24 PM       765,010,601 SunCountry.csv\n",
      "09/30/2019  11:59 AM       118,016,693 SunCountry_data.zip\n",
      "10/05/2019  04:49 PM         4,434,990 SunCountry_nonr_sample.csv\n",
      "10/05/2019  04:40 PM         4,450,075 SunCountry_sample.csv\n",
      "09/30/2019  11:59 AM             2,515 SunCountryDict.csv\n",
      "              11 File(s)    892,870,054 bytes\n",
      "               4 Dir(s)  30,209,249,280 bytes free\n"
     ]
    }
   ],
   "source": [
    "ls"
   ]
  },
  {
   "cell_type": "code",
   "execution_count": null,
   "metadata": {},
   "outputs": [],
   "source": []
  }
 ],
 "metadata": {
  "kernelspec": {
   "display_name": "Python 3",
   "language": "python",
   "name": "python3"
  },
  "language_info": {
   "codemirror_mode": {
    "name": "ipython",
    "version": 3
   },
   "file_extension": ".py",
   "mimetype": "text/x-python",
   "name": "python",
   "nbconvert_exporter": "python",
   "pygments_lexer": "ipython3",
   "version": "3.7.1"
  }
 },
 "nbformat": 4,
 "nbformat_minor": 2
}
