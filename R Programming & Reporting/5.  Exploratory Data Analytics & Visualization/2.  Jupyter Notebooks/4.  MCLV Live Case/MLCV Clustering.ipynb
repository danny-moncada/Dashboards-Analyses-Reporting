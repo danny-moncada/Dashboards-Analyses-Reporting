{
 "cells": [
  {
   "cell_type": "code",
   "execution_count": 1,
   "metadata": {},
   "outputs": [],
   "source": [
    "import pandas as pd\n",
    "import tensorflow as tf\n",
    "import numpy as np\n",
    "import gc"
   ]
  },
  {
   "cell_type": "code",
   "execution_count": 2,
   "metadata": {},
   "outputs": [],
   "source": [
    "np.random.seed(789)\n",
    "tf.set_random_seed(789)"
   ]
  },
  {
   "cell_type": "code",
   "execution_count": 7,
   "metadata": {},
   "outputs": [],
   "source": [
    "dim_play = pd.read_csv(\"U:\\Datasets\\DimPlayer.csv\", low_memory = False)"
   ]
  },
  {
   "cell_type": "code",
   "execution_count": 8,
   "metadata": {},
   "outputs": [
    {
     "data": {
      "text/html": [
       "<div>\n",
       "<style scoped>\n",
       "    .dataframe tbody tr th:only-of-type {\n",
       "        vertical-align: middle;\n",
       "    }\n",
       "\n",
       "    .dataframe tbody tr th {\n",
       "        vertical-align: top;\n",
       "    }\n",
       "\n",
       "    .dataframe thead th {\n",
       "        text-align: right;\n",
       "    }\n",
       "</style>\n",
       "<table border=\"1\" class=\"dataframe\">\n",
       "  <thead>\n",
       "    <tr style=\"text-align: right;\">\n",
       "      <th></th>\n",
       "      <th>PrimaryPropertyID</th>\n",
       "      <th>PrimaryPropertyName</th>\n",
       "      <th>PlayerID</th>\n",
       "      <th>City</th>\n",
       "      <th>State</th>\n",
       "      <th>ZipCode</th>\n",
       "      <th>TierID</th>\n",
       "      <th>TierName</th>\n",
       "      <th>DistFromML</th>\n",
       "      <th>DistFromHK</th>\n",
       "      <th>...</th>\n",
       "      <th>Deceased Flag</th>\n",
       "      <th>DMA Flag</th>\n",
       "      <th>Person #  Marital Status</th>\n",
       "      <th>Estimated Current Home Value</th>\n",
       "      <th>Children  Presence of Children 0-18</th>\n",
       "      <th>DSE  Discretionary Spend Estimate</th>\n",
       "      <th>Est  Household Income V6</th>\n",
       "      <th>PIQ Match Type</th>\n",
       "      <th>NCOA MOVE DATE</th>\n",
       "      <th>NCOA Move Type</th>\n",
       "    </tr>\n",
       "  </thead>\n",
       "  <tbody>\n",
       "    <tr>\n",
       "      <th>0</th>\n",
       "      <td>1</td>\n",
       "      <td>Grand Casino ML</td>\n",
       "      <td>33</td>\n",
       "      <td>ELK RIVER</td>\n",
       "      <td>MN</td>\n",
       "      <td>55330</td>\n",
       "      <td>25</td>\n",
       "      <td>Preferred</td>\n",
       "      <td>53.0</td>\n",
       "      <td>60.0</td>\n",
       "      <td>...</td>\n",
       "      <td>No</td>\n",
       "      <td>No</td>\n",
       "      <td>Married Extremely Likely</td>\n",
       "      <td>250300</td>\n",
       "      <td>Not as Likely to have a child</td>\n",
       "      <td>17831</td>\n",
       "      <td>138</td>\n",
       "      <td>Individual Match</td>\n",
       "      <td>NaN</td>\n",
       "      <td>Did Not Move</td>\n",
       "    </tr>\n",
       "    <tr>\n",
       "      <th>1</th>\n",
       "      <td>1</td>\n",
       "      <td>Grand Casino ML</td>\n",
       "      <td>10014</td>\n",
       "      <td>GARFIELD</td>\n",
       "      <td>MN</td>\n",
       "      <td>56332</td>\n",
       "      <td>25</td>\n",
       "      <td>Preferred</td>\n",
       "      <td>89.0</td>\n",
       "      <td>126.0</td>\n",
       "      <td>...</td>\n",
       "      <td>No</td>\n",
       "      <td>No</td>\n",
       "      <td>Married Extremely Likely</td>\n",
       "      <td>275300</td>\n",
       "      <td>Not Likely to have a child</td>\n",
       "      <td>16028</td>\n",
       "      <td>36</td>\n",
       "      <td>Individual Match</td>\n",
       "      <td>NaN</td>\n",
       "      <td>Did Not Move</td>\n",
       "    </tr>\n",
       "    <tr>\n",
       "      <th>2</th>\n",
       "      <td>1</td>\n",
       "      <td>Grand Casino ML</td>\n",
       "      <td>10025</td>\n",
       "      <td>ELK RIVER</td>\n",
       "      <td>MN</td>\n",
       "      <td>55330</td>\n",
       "      <td>25</td>\n",
       "      <td>Preferred</td>\n",
       "      <td>53.0</td>\n",
       "      <td>60.0</td>\n",
       "      <td>...</td>\n",
       "      <td>No</td>\n",
       "      <td>No</td>\n",
       "      <td>Unknown Scored</td>\n",
       "      <td>256800</td>\n",
       "      <td>Not Likely to have a child</td>\n",
       "      <td>27864</td>\n",
       "      <td>18</td>\n",
       "      <td>Individual Match</td>\n",
       "      <td>NaN</td>\n",
       "      <td>Did Not Move</td>\n",
       "    </tr>\n",
       "    <tr>\n",
       "      <th>3</th>\n",
       "      <td>1</td>\n",
       "      <td>Grand Casino ML</td>\n",
       "      <td>10063</td>\n",
       "      <td>TALMOON</td>\n",
       "      <td>MN</td>\n",
       "      <td>56637</td>\n",
       "      <td>25</td>\n",
       "      <td>Preferred</td>\n",
       "      <td>104.0</td>\n",
       "      <td>115.0</td>\n",
       "      <td>...</td>\n",
       "      <td>No</td>\n",
       "      <td>No</td>\n",
       "      <td>Married Extremely Likely</td>\n",
       "      <td>0</td>\n",
       "      <td>Not Likely to have a child</td>\n",
       "      <td>16742</td>\n",
       "      <td>49</td>\n",
       "      <td>Individual Match</td>\n",
       "      <td>NaN</td>\n",
       "      <td>Did Not Move</td>\n",
       "    </tr>\n",
       "    <tr>\n",
       "      <th>4</th>\n",
       "      <td>1</td>\n",
       "      <td>Grand Casino ML</td>\n",
       "      <td>10187</td>\n",
       "      <td>PEQUOT LAKES</td>\n",
       "      <td>MN</td>\n",
       "      <td>56472</td>\n",
       "      <td>25</td>\n",
       "      <td>Preferred</td>\n",
       "      <td>51.0</td>\n",
       "      <td>82.0</td>\n",
       "      <td>...</td>\n",
       "      <td>NaN</td>\n",
       "      <td>NaN</td>\n",
       "      <td>NaN</td>\n",
       "      <td>NaN</td>\n",
       "      <td>NaN</td>\n",
       "      <td>NaN</td>\n",
       "      <td>NaN</td>\n",
       "      <td>NaN</td>\n",
       "      <td>NaN</td>\n",
       "      <td>NaN</td>\n",
       "    </tr>\n",
       "  </tbody>\n",
       "</table>\n",
       "<p>5 rows × 26 columns</p>\n",
       "</div>"
      ],
      "text/plain": [
       "   PrimaryPropertyID PrimaryPropertyName  PlayerID          City State  \\\n",
       "0                  1     Grand Casino ML        33     ELK RIVER    MN   \n",
       "1                  1     Grand Casino ML     10014      GARFIELD    MN   \n",
       "2                  1     Grand Casino ML     10025     ELK RIVER    MN   \n",
       "3                  1     Grand Casino ML     10063       TALMOON    MN   \n",
       "4                  1     Grand Casino ML     10187  PEQUOT LAKES    MN   \n",
       "\n",
       "  ZipCode  TierID   TierName  DistFromML  DistFromHK  ... Deceased Flag  \\\n",
       "0   55330      25  Preferred        53.0        60.0  ...            No   \n",
       "1   56332      25  Preferred        89.0       126.0  ...            No   \n",
       "2   55330      25  Preferred        53.0        60.0  ...            No   \n",
       "3   56637      25  Preferred       104.0       115.0  ...            No   \n",
       "4   56472      25  Preferred        51.0        82.0  ...           NaN   \n",
       "\n",
       "  DMA Flag  Person #  Marital Status  Estimated Current Home Value  \\\n",
       "0       No  Married Extremely Likely                        250300   \n",
       "1       No  Married Extremely Likely                        275300   \n",
       "2       No            Unknown Scored                        256800   \n",
       "3       No  Married Extremely Likely                             0   \n",
       "4      NaN                       NaN                           NaN   \n",
       "\n",
       "  Children  Presence of Children 0-18 DSE  Discretionary Spend Estimate  \\\n",
       "0       Not as Likely to have a child                             17831   \n",
       "1          Not Likely to have a child                             16028   \n",
       "2          Not Likely to have a child                             27864   \n",
       "3          Not Likely to have a child                             16742   \n",
       "4                                 NaN                               NaN   \n",
       "\n",
       "  Est  Household Income V6    PIQ Match Type NCOA MOVE DATE NCOA Move Type  \n",
       "0                      138  Individual Match            NaN   Did Not Move  \n",
       "1                       36  Individual Match            NaN   Did Not Move  \n",
       "2                       18  Individual Match            NaN   Did Not Move  \n",
       "3                       49  Individual Match            NaN   Did Not Move  \n",
       "4                      NaN               NaN            NaN            NaN  \n",
       "\n",
       "[5 rows x 26 columns]"
      ]
     },
     "execution_count": 8,
     "metadata": {},
     "output_type": "execute_result"
    }
   ],
   "source": [
    "dim_play.head()"
   ]
  },
  {
   "cell_type": "code",
   "execution_count": 9,
   "metadata": {},
   "outputs": [],
   "source": [
    "dim_cpnredeem = pd.read_csv(\"U:\\Datasets\\FactCouponRedeem.csv\", encoding = 'cp1252')"
   ]
  },
  {
   "cell_type": "code",
   "execution_count": 10,
   "metadata": {},
   "outputs": [
    {
     "data": {
      "text/html": [
       "<div>\n",
       "<style scoped>\n",
       "    .dataframe tbody tr th:only-of-type {\n",
       "        vertical-align: middle;\n",
       "    }\n",
       "\n",
       "    .dataframe tbody tr th {\n",
       "        vertical-align: top;\n",
       "    }\n",
       "\n",
       "    .dataframe thead th {\n",
       "        text-align: right;\n",
       "    }\n",
       "</style>\n",
       "<table border=\"1\" class=\"dataframe\">\n",
       "  <thead>\n",
       "    <tr style=\"text-align: right;\">\n",
       "      <th></th>\n",
       "      <th>CouponID</th>\n",
       "      <th>Description</th>\n",
       "      <th>PlayerID</th>\n",
       "      <th>AccountingDate</th>\n",
       "      <th>RedeemValue</th>\n",
       "      <th>RedeemCount</th>\n",
       "      <th>SiteID</th>\n",
       "      <th>RedemptionNumber</th>\n",
       "      <th>ValidMonth</th>\n",
       "      <th>ValidYear</th>\n",
       "      <th>TypeCategory</th>\n",
       "      <th>TypeDescription</th>\n",
       "      <th>SubType</th>\n",
       "      <th>SubTypeDescription</th>\n",
       "      <th>TargetPopKey</th>\n",
       "      <th>TargetPop</th>\n",
       "      <th>ProgramTypeKey</th>\n",
       "      <th>ProgramType</th>\n",
       "    </tr>\n",
       "  </thead>\n",
       "  <tbody>\n",
       "    <tr>\n",
       "      <th>0</th>\n",
       "      <td>89729</td>\n",
       "      <td>M1216VHNY- VIP NYE HTL</td>\n",
       "      <td>530342410</td>\n",
       "      <td>2017-01-01</td>\n",
       "      <td>29.0</td>\n",
       "      <td>1</td>\n",
       "      <td>1</td>\n",
       "      <td>NaN</td>\n",
       "      <td>12</td>\n",
       "      <td>16</td>\n",
       "      <td>b</td>\n",
       "      <td>Hotel</td>\n",
       "      <td>a</td>\n",
       "      <td>ML</td>\n",
       "      <td>a</td>\n",
       "      <td>VIP</td>\n",
       "      <td>N</td>\n",
       "      <td>Not Applicable</td>\n",
       "    </tr>\n",
       "    <tr>\n",
       "      <th>1</th>\n",
       "      <td>89729</td>\n",
       "      <td>M1216VHNY- VIP NYE HTL</td>\n",
       "      <td>710328524</td>\n",
       "      <td>2017-01-01</td>\n",
       "      <td>29.0</td>\n",
       "      <td>1</td>\n",
       "      <td>1</td>\n",
       "      <td>NaN</td>\n",
       "      <td>12</td>\n",
       "      <td>16</td>\n",
       "      <td>b</td>\n",
       "      <td>Hotel</td>\n",
       "      <td>a</td>\n",
       "      <td>ML</td>\n",
       "      <td>a</td>\n",
       "      <td>VIP</td>\n",
       "      <td>N</td>\n",
       "      <td>Not Applicable</td>\n",
       "    </tr>\n",
       "    <tr>\n",
       "      <th>2</th>\n",
       "      <td>89093</td>\n",
       "      <td>C1016OGDO1E-Decline GP WKND 5</td>\n",
       "      <td>1000600137</td>\n",
       "      <td>2017-01-01</td>\n",
       "      <td>5.0</td>\n",
       "      <td>1</td>\n",
       "      <td>2</td>\n",
       "      <td>NaN</td>\n",
       "      <td>10</td>\n",
       "      <td>16</td>\n",
       "      <td>e</td>\n",
       "      <td>Free Slot Gaming</td>\n",
       "      <td>a</td>\n",
       "      <td>Grand Play</td>\n",
       "      <td>N</td>\n",
       "      <td>Not Applicable</td>\n",
       "      <td>N</td>\n",
       "      <td>Not Applicable</td>\n",
       "    </tr>\n",
       "    <tr>\n",
       "      <th>3</th>\n",
       "      <td>89729</td>\n",
       "      <td>M1216VHNY- VIP NYE HTL</td>\n",
       "      <td>710004002</td>\n",
       "      <td>2017-01-01</td>\n",
       "      <td>29.0</td>\n",
       "      <td>1</td>\n",
       "      <td>1</td>\n",
       "      <td>NaN</td>\n",
       "      <td>12</td>\n",
       "      <td>16</td>\n",
       "      <td>b</td>\n",
       "      <td>Hotel</td>\n",
       "      <td>a</td>\n",
       "      <td>ML</td>\n",
       "      <td>a</td>\n",
       "      <td>VIP</td>\n",
       "      <td>N</td>\n",
       "      <td>Not Applicable</td>\n",
       "    </tr>\n",
       "    <tr>\n",
       "      <th>4</th>\n",
       "      <td>4</td>\n",
       "      <td>HNEW MEMBER TRACKING</td>\n",
       "      <td>1000681589</td>\n",
       "      <td>2017-01-01</td>\n",
       "      <td>0.0</td>\n",
       "      <td>1</td>\n",
       "      <td>2</td>\n",
       "      <td>NaN</td>\n",
       "      <td>4</td>\n",
       "      <td>7</td>\n",
       "      <td>O</td>\n",
       "      <td>Other</td>\n",
       "      <td>O</td>\n",
       "      <td>Other</td>\n",
       "      <td>c</td>\n",
       "      <td>New Member</td>\n",
       "      <td>N</td>\n",
       "      <td>Not Applicable</td>\n",
       "    </tr>\n",
       "  </tbody>\n",
       "</table>\n",
       "</div>"
      ],
      "text/plain": [
       "   CouponID                    Description    PlayerID AccountingDate  \\\n",
       "0     89729         M1216VHNY- VIP NYE HTL   530342410     2017-01-01   \n",
       "1     89729         M1216VHNY- VIP NYE HTL   710328524     2017-01-01   \n",
       "2     89093  C1016OGDO1E-Decline GP WKND 5  1000600137     2017-01-01   \n",
       "3     89729         M1216VHNY- VIP NYE HTL   710004002     2017-01-01   \n",
       "4         4           HNEW MEMBER TRACKING  1000681589     2017-01-01   \n",
       "\n",
       "   RedeemValue  RedeemCount  SiteID  RedemptionNumber  ValidMonth  ValidYear  \\\n",
       "0         29.0            1       1               NaN          12         16   \n",
       "1         29.0            1       1               NaN          12         16   \n",
       "2          5.0            1       2               NaN          10         16   \n",
       "3         29.0            1       1               NaN          12         16   \n",
       "4          0.0            1       2               NaN           4          7   \n",
       "\n",
       "  TypeCategory   TypeDescription SubType SubTypeDescription TargetPopKey  \\\n",
       "0            b             Hotel       a                 ML            a   \n",
       "1            b             Hotel       a                 ML            a   \n",
       "2            e  Free Slot Gaming       a         Grand Play            N   \n",
       "3            b             Hotel       a                 ML            a   \n",
       "4            O             Other       O              Other            c   \n",
       "\n",
       "        TargetPop ProgramTypeKey     ProgramType  \n",
       "0             VIP              N  Not Applicable  \n",
       "1             VIP              N  Not Applicable  \n",
       "2  Not Applicable              N  Not Applicable  \n",
       "3             VIP              N  Not Applicable  \n",
       "4      New Member              N  Not Applicable  "
      ]
     },
     "execution_count": 10,
     "metadata": {},
     "output_type": "execute_result"
    }
   ],
   "source": [
    "dim_cpnredeem.head()"
   ]
  },
  {
   "cell_type": "markdown",
   "metadata": {},
   "source": [
    "# Let's look at the players demographics"
   ]
  },
  {
   "cell_type": "code",
   "execution_count": 17,
   "metadata": {},
   "outputs": [
    {
     "data": {
      "text/plain": [
       "397643"
      ]
     },
     "execution_count": 17,
     "metadata": {},
     "output_type": "execute_result"
    }
   ],
   "source": [
    "len(dim_play)"
   ]
  },
  {
   "cell_type": "code",
   "execution_count": 25,
   "metadata": {},
   "outputs": [
    {
     "data": {
      "text/plain": [
       "PrimaryPropertyID                           0\n",
       "PrimaryPropertyName                         0\n",
       "PlayerID                                    0\n",
       "City                                        2\n",
       "State                                      72\n",
       "ZipCode                                     1\n",
       "TierID                                      0\n",
       "TierName                                    0\n",
       "DistFromML                                  1\n",
       "DistFromHK                                  1\n",
       "LastPlayDate                             7295\n",
       "Description                                 0\n",
       "BirthMonth                                  0\n",
       "BirthYear                                   0\n",
       "PlayerStatus                                0\n",
       "Prison Flag                             58225\n",
       "Deceased Flag                           58151\n",
       "DMA Flag                                58128\n",
       "Person #  Marital Status               112749\n",
       "Estimated Current Home Value           114714\n",
       "Children  Presence of Children 0-18    114729\n",
       "DSE  Discretionary Spend Estimate      114729\n",
       "Est  Household Income V6               114729\n",
       "PIQ Match Type                          58120\n",
       "dtype: int64"
      ]
     },
     "execution_count": 25,
     "metadata": {},
     "output_type": "execute_result"
    }
   ],
   "source": [
    "dim_play.isnull().sum()"
   ]
  },
  {
   "cell_type": "code",
   "execution_count": 6,
   "metadata": {},
   "outputs": [],
   "source": [
    "dim_play = dim_play.iloc[:,0:24] #remove last two columns as almost everything null"
   ]
  },
  {
   "cell_type": "code",
   "execution_count": 7,
   "metadata": {},
   "outputs": [],
   "source": [
    "dim_play = dim_play.dropna()"
   ]
  },
  {
   "cell_type": "code",
   "execution_count": 8,
   "metadata": {},
   "outputs": [],
   "source": [
    "dim_play = dim_play[dim_play['Est  Household Income V6'].str.isnumeric()]"
   ]
  },
  {
   "cell_type": "code",
   "execution_count": 34,
   "metadata": {},
   "outputs": [],
   "source": [
    "pd.set_option('display.max_columns',None)"
   ]
  },
  {
   "cell_type": "code",
   "execution_count": 9,
   "metadata": {},
   "outputs": [],
   "source": [
    "play_redeem = pd.merge(dim_play, dim_cpnredeem, on = 'PlayerID')"
   ]
  },
  {
   "cell_type": "code",
   "execution_count": 22,
   "metadata": {},
   "outputs": [
    {
     "data": {
      "text/html": [
       "<div>\n",
       "<style scoped>\n",
       "    .dataframe tbody tr th:only-of-type {\n",
       "        vertical-align: middle;\n",
       "    }\n",
       "\n",
       "    .dataframe tbody tr th {\n",
       "        vertical-align: top;\n",
       "    }\n",
       "\n",
       "    .dataframe thead th {\n",
       "        text-align: right;\n",
       "    }\n",
       "</style>\n",
       "<table border=\"1\" class=\"dataframe\">\n",
       "  <thead>\n",
       "    <tr style=\"text-align: right;\">\n",
       "      <th></th>\n",
       "      <th>PrimaryPropertyID</th>\n",
       "      <th>PrimaryPropertyName</th>\n",
       "      <th>PlayerID</th>\n",
       "      <th>City</th>\n",
       "      <th>State</th>\n",
       "      <th>ZipCode</th>\n",
       "      <th>TierID</th>\n",
       "      <th>TierName</th>\n",
       "      <th>DistFromML</th>\n",
       "      <th>DistFromHK</th>\n",
       "      <th>...</th>\n",
       "      <th>ValidMonth</th>\n",
       "      <th>ValidYear</th>\n",
       "      <th>TypeCategory</th>\n",
       "      <th>TypeDescription</th>\n",
       "      <th>SubType</th>\n",
       "      <th>SubTypeDescription</th>\n",
       "      <th>TargetPopKey</th>\n",
       "      <th>TargetPop</th>\n",
       "      <th>ProgramTypeKey</th>\n",
       "      <th>ProgramType</th>\n",
       "    </tr>\n",
       "  </thead>\n",
       "  <tbody>\n",
       "    <tr>\n",
       "      <th>0</th>\n",
       "      <td>1</td>\n",
       "      <td>Grand Casino ML</td>\n",
       "      <td>33</td>\n",
       "      <td>ELK RIVER</td>\n",
       "      <td>MN</td>\n",
       "      <td>55330</td>\n",
       "      <td>25</td>\n",
       "      <td>Preferred</td>\n",
       "      <td>53.0</td>\n",
       "      <td>60.0</td>\n",
       "      <td>...</td>\n",
       "      <td>10</td>\n",
       "      <td>19</td>\n",
       "      <td>b</td>\n",
       "      <td>Hotel</td>\n",
       "      <td>a</td>\n",
       "      <td>ML</td>\n",
       "      <td>d</td>\n",
       "      <td>Loyalty</td>\n",
       "      <td>a</td>\n",
       "      <td>Gazette</td>\n",
       "    </tr>\n",
       "    <tr>\n",
       "      <th>1</th>\n",
       "      <td>1</td>\n",
       "      <td>Grand Casino ML</td>\n",
       "      <td>10025</td>\n",
       "      <td>ELK RIVER</td>\n",
       "      <td>MN</td>\n",
       "      <td>55330</td>\n",
       "      <td>25</td>\n",
       "      <td>Preferred</td>\n",
       "      <td>53.0</td>\n",
       "      <td>60.0</td>\n",
       "      <td>...</td>\n",
       "      <td>1</td>\n",
       "      <td>18</td>\n",
       "      <td>b</td>\n",
       "      <td>Hotel</td>\n",
       "      <td>X</td>\n",
       "      <td>All</td>\n",
       "      <td>N</td>\n",
       "      <td>Not Applicable</td>\n",
       "      <td>N</td>\n",
       "      <td>Not Applicable</td>\n",
       "    </tr>\n",
       "    <tr>\n",
       "      <th>2</th>\n",
       "      <td>1</td>\n",
       "      <td>Grand Casino ML</td>\n",
       "      <td>10025</td>\n",
       "      <td>ELK RIVER</td>\n",
       "      <td>MN</td>\n",
       "      <td>55330</td>\n",
       "      <td>25</td>\n",
       "      <td>Preferred</td>\n",
       "      <td>53.0</td>\n",
       "      <td>60.0</td>\n",
       "      <td>...</td>\n",
       "      <td>3</td>\n",
       "      <td>18</td>\n",
       "      <td>b</td>\n",
       "      <td>Hotel</td>\n",
       "      <td>X</td>\n",
       "      <td>All</td>\n",
       "      <td>N</td>\n",
       "      <td>Not Applicable</td>\n",
       "      <td>N</td>\n",
       "      <td>Not Applicable</td>\n",
       "    </tr>\n",
       "    <tr>\n",
       "      <th>3</th>\n",
       "      <td>1</td>\n",
       "      <td>Grand Casino ML</td>\n",
       "      <td>10025</td>\n",
       "      <td>ELK RIVER</td>\n",
       "      <td>MN</td>\n",
       "      <td>55330</td>\n",
       "      <td>25</td>\n",
       "      <td>Preferred</td>\n",
       "      <td>53.0</td>\n",
       "      <td>60.0</td>\n",
       "      <td>...</td>\n",
       "      <td>4</td>\n",
       "      <td>18</td>\n",
       "      <td>b</td>\n",
       "      <td>Hotel</td>\n",
       "      <td>X</td>\n",
       "      <td>All</td>\n",
       "      <td>N</td>\n",
       "      <td>Not Applicable</td>\n",
       "      <td>N</td>\n",
       "      <td>Not Applicable</td>\n",
       "    </tr>\n",
       "    <tr>\n",
       "      <th>4</th>\n",
       "      <td>1</td>\n",
       "      <td>Grand Casino ML</td>\n",
       "      <td>10025</td>\n",
       "      <td>ELK RIVER</td>\n",
       "      <td>MN</td>\n",
       "      <td>55330</td>\n",
       "      <td>25</td>\n",
       "      <td>Preferred</td>\n",
       "      <td>53.0</td>\n",
       "      <td>60.0</td>\n",
       "      <td>...</td>\n",
       "      <td>10</td>\n",
       "      <td>18</td>\n",
       "      <td>c</td>\n",
       "      <td>Points</td>\n",
       "      <td>a</td>\n",
       "      <td>Match Point</td>\n",
       "      <td>N</td>\n",
       "      <td>Not Applicable</td>\n",
       "      <td>N</td>\n",
       "      <td>Not Applicable</td>\n",
       "    </tr>\n",
       "  </tbody>\n",
       "</table>\n",
       "<p>5 rows × 41 columns</p>\n",
       "</div>"
      ],
      "text/plain": [
       "   PrimaryPropertyID PrimaryPropertyName  PlayerID       City State ZipCode  \\\n",
       "0                  1     Grand Casino ML        33  ELK RIVER    MN   55330   \n",
       "1                  1     Grand Casino ML     10025  ELK RIVER    MN   55330   \n",
       "2                  1     Grand Casino ML     10025  ELK RIVER    MN   55330   \n",
       "3                  1     Grand Casino ML     10025  ELK RIVER    MN   55330   \n",
       "4                  1     Grand Casino ML     10025  ELK RIVER    MN   55330   \n",
       "\n",
       "   TierID   TierName  DistFromML  DistFromHK  ... ValidMonth ValidYear  \\\n",
       "0      25  Preferred        53.0        60.0  ...         10        19   \n",
       "1      25  Preferred        53.0        60.0  ...          1        18   \n",
       "2      25  Preferred        53.0        60.0  ...          3        18   \n",
       "3      25  Preferred        53.0        60.0  ...          4        18   \n",
       "4      25  Preferred        53.0        60.0  ...         10        18   \n",
       "\n",
       "   TypeCategory  TypeDescription SubType SubTypeDescription TargetPopKey  \\\n",
       "0             b            Hotel       a                 ML            d   \n",
       "1             b            Hotel       X                All            N   \n",
       "2             b            Hotel       X                All            N   \n",
       "3             b            Hotel       X                All            N   \n",
       "4             c           Points       a        Match Point            N   \n",
       "\n",
       "        TargetPop ProgramTypeKey     ProgramType  \n",
       "0         Loyalty              a         Gazette  \n",
       "1  Not Applicable              N  Not Applicable  \n",
       "2  Not Applicable              N  Not Applicable  \n",
       "3  Not Applicable              N  Not Applicable  \n",
       "4  Not Applicable              N  Not Applicable  \n",
       "\n",
       "[5 rows x 41 columns]"
      ]
     },
     "execution_count": 22,
     "metadata": {},
     "output_type": "execute_result"
    }
   ],
   "source": [
    "play_redeem.head()"
   ]
  },
  {
   "cell_type": "code",
   "execution_count": 24,
   "metadata": {},
   "outputs": [],
   "source": [
    "forcluster = pd.DataFrame(play_redeem[['City','State','ZipCode','DistFromML','DistFromHK',\n",
    "             'BirthYear', 'PlayerStatus','Prison Flag','DMA Flag',\n",
    "             'Person #  Marital Status', 'Estimated Current Home Value',\n",
    "             'DSE  Discretionary Spend Estimate','Est  Household Income V6']])"
   ]
  },
  {
   "cell_type": "code",
   "execution_count": 25,
   "metadata": {},
   "outputs": [],
   "source": [
    "forcluster = forcluster.dropna()"
   ]
  },
  {
   "cell_type": "code",
   "execution_count": 26,
   "metadata": {
    "scrolled": true
   },
   "outputs": [],
   "source": [
    "forcluster['City'] = forcluster['City'].astype('category')\n",
    "forcluster['State'] = forcluster['State'].astype('category')\n",
    "forcluster['ZipCode'] = forcluster['ZipCode'].astype('category')\n",
    "forcluster['BirthYear'] = forcluster['BirthYear'].astype('float64')\n",
    "forcluster['Est  Household Income V6'] = forcluster['Est  Household Income V6'].astype('float64')"
   ]
  },
  {
   "cell_type": "code",
   "execution_count": 30,
   "metadata": {},
   "outputs": [],
   "source": [
    "forcluster.to_csv(r\"D:\\Group Folder\\forcluster.csv\")"
   ]
  },
  {
   "cell_type": "markdown",
   "metadata": {},
   "source": [
    "***\n",
    "# R\n",
    "***"
   ]
  },
  {
   "cell_type": "markdown",
   "metadata": {},
   "source": [
    "#### Not many good kmodes implementations in python, so use R\n",
    "Switch to R kernel"
   ]
  },
  {
   "cell_type": "code",
   "execution_count": 1,
   "metadata": {},
   "outputs": [
    {
     "name": "stderr",
     "output_type": "stream",
     "text": [
      "Registered S3 methods overwritten by 'ggplot2':\n",
      "  method         from \n",
      "  [.quosures     rlang\n",
      "  c.quosures     rlang\n",
      "  print.quosures rlang\n",
      "Registered S3 method overwritten by 'rvest':\n",
      "  method            from\n",
      "  read_xml.response xml2\n",
      "-- Attaching packages --------------------------------------- tidyverse 1.2.1 --\n",
      "v ggplot2 3.1.1     v purrr   0.3.2\n",
      "v tibble  2.1.1     v dplyr   0.8.3\n",
      "v tidyr   1.0.0     v stringr 1.4.0\n",
      "v readr   1.3.1     v forcats 0.4.0\n",
      "-- Conflicts ------------------------------------------ tidyverse_conflicts() --\n",
      "x dplyr::filter() masks stats::filter()\n",
      "x dplyr::lag()    masks stats::lag()\n",
      "\n",
      "Attaching package: 'lubridate'\n",
      "\n",
      "The following object is masked from 'package:base':\n",
      "\n",
      "    date\n",
      "\n"
     ]
    }
   ],
   "source": [
    "library(cluster)\n",
    "library(tidyverse)\n",
    "library(lubridate)\n",
    "library(readr)\n",
    "library(Rtsne)"
   ]
  },
  {
   "cell_type": "code",
   "execution_count": 2,
   "metadata": {
    "scrolled": true
   },
   "outputs": [
    {
     "name": "stderr",
     "output_type": "stream",
     "text": [
      "Warning message:\n",
      "\"Missing column names filled in: 'X1' [1]\"Parsed with column specification:\n",
      "cols(\n",
      "  X1 = col_double(),\n",
      "  City = col_character(),\n",
      "  State = col_character(),\n",
      "  ZipCode = col_double(),\n",
      "  DistFromML = col_double(),\n",
      "  DistFromHK = col_double(),\n",
      "  BirthYear = col_double(),\n",
      "  PlayerStatus = col_character(),\n",
      "  `Prison Flag` = col_character(),\n",
      "  `DMA Flag` = col_character(),\n",
      "  `Person #  Marital Status` = col_character(),\n",
      "  `Estimated Current Home Value` = col_double(),\n",
      "  `DSE  Discretionary Spend Estimate` = col_double(),\n",
      "  `Est  Household Income V6` = col_double()\n",
      ")\n",
      "Warning message:\n",
      "\"34 parsing failures.\n",
      "   row                               col expected                     actual                               file\n",
      "898140 Estimated Current Home Value      a double Unknown Scored             'D:\\Group Folder\\forcluster.csv'\n",
      "898140 DSE  Discretionary Spend Estimate a double Not Likely to have a child 'D:\\Group Folder\\forcluster.csv'\n",
      "898141 Estimated Current Home Value      a double Unknown Scored             'D:\\Group Folder\\forcluster.csv'\n",
      "898141 DSE  Discretionary Spend Estimate a double Not Likely to have a child 'D:\\Group Folder\\forcluster.csv'\n",
      "898142 Estimated Current Home Value      a double Unknown Scored             'D:\\Group Folder\\forcluster.csv'\n",
      "...... ................................. ........ .......................... ..................................\n",
      "See problems(...) for more details.\n",
      "\""
     ]
    }
   ],
   "source": [
    "data = read_csv('D:\\\\Group Folder\\\\forcluster.csv')"
   ]
  },
  {
   "cell_type": "code",
   "execution_count": 3,
   "metadata": {},
   "outputs": [],
   "source": [
    "colnames(data)[11] <- 'MaritalStatus'\n",
    "\n",
    "data$X1 <- NULL\n",
    "names(data) = make.names(names(data))\n",
    "\n",
    "data = data %>% drop_na()\n",
    "\n",
    "data$City = as.factor(data$City)\n",
    "data$State = as.factor(data$State)\n",
    "data$ZipCode = as.factor(data$ZipCode)\n",
    "data$PlayerStatus = as.factor(data$PlayerStatus)\n",
    "data$Prison.Flag = as.factor(data$Prison.Flag)\n",
    "data$DMA.Flag = as.factor(data$DMA.Flag)\n",
    "data$MaritalStatus = as.factor(data$MaritalStatus)"
   ]
  },
  {
   "cell_type": "code",
   "execution_count": 9,
   "metadata": {},
   "outputs": [],
   "source": [
    "set.seed(7171989)\n",
    "\n",
    "data_s = sample_n(data,25000)"
   ]
  },
  {
   "cell_type": "code",
   "execution_count": 4,
   "metadata": {},
   "outputs": [],
   "source": [
    "gower_dist = daisy(data_s, metric = \"gower\")"
   ]
  },
  {
   "cell_type": "code",
   "execution_count": 20,
   "metadata": {
    "scrolled": false
   },
   "outputs": [
    {
     "data": {
      "image/png": "[encoded data removed]",
      "text/plain": [
       "plot without title"
      ]
     },
     "metadata": {},
     "output_type": "display_data"
    }
   ],
   "source": [
    "sil_width <- c(NA)\n",
    "for(i in 3:6){\n",
    "    pam_fit <- pam(gower_dist, diss = TRUE, k = i)\n",
    "    sil_width[i] <- pam_fit$silinfo$avg.width\n",
    "}\n",
    "\n",
    "plot(1:6, sil_width,\n",
    "    xlab = \"Number of clusters\",\n",
    "    ylab = \"Silhouette Width\")\n",
    "lines(1:6, sil_width)"
   ]
  },
  {
   "cell_type": "code",
   "execution_count": 7,
   "metadata": {},
   "outputs": [],
   "source": [
    "data_s = data_s[columns]"
   ]
  },
  {
   "cell_type": "code",
   "execution_count": 8,
   "metadata": {
    "scrolled": false
   },
   "outputs": [
    {
     "data": {
      "text/plain": [
       "[[1]]\n",
       "          City         State        BirthYear    PlayerStatus DMA.Flag  \n",
       " SAINT PAUL :846   MN     :2010   Min.   :1923   A:1999       No :2109  \n",
       " SAINT CLOUD:106   WI     :  87   1st Qu.:1950   D: 129       Yes:  20  \n",
       " ONAMIA     : 84   ND     :  11   Median :1960   M:   1                 \n",
       " MINNEAPOLIS: 48   IA     :   4   Mean   :1962                          \n",
       " PRINCETON  : 46   MI     :   4   3rd Qu.:1972                          \n",
       " DULUTH     : 43   AZ     :   2   Max.   :2000                          \n",
       " (Other)    :956   (Other):  11                                         \n",
       "                     MaritalStatus  Estimated.Current.Home.Value\n",
       " Married Extremely Likely   : 247   Min.   :      0             \n",
       " Married Likely             :  99   1st Qu.:      0             \n",
       " Single Likely Never Married:1545   Median : 144100             \n",
       " Unknown Not Scored         : 122   Mean   : 137156             \n",
       " Unknown Scored             : 116   3rd Qu.: 213300             \n",
       "                                    Max.   :1268800             \n",
       "                                                                \n",
       " DSE..Discretionary.Spend.Estimate Est..Household.Income.V6    cluster \n",
       " Min.   : 3412                     Min.   :  6.00           Min.   :1  \n",
       " 1st Qu.:11347                     1st Qu.: 26.00           1st Qu.:1  \n",
       " Median :14169                     Median : 43.00           Median :1  \n",
       " Mean   :15292                     Mean   : 49.07           Mean   :1  \n",
       " 3rd Qu.:17950                     3rd Qu.: 62.00           3rd Qu.:1  \n",
       " Max.   :49263                     Max.   :250.00           Max.   :1  \n",
       "                                                                       \n",
       "\n",
       "[[2]]\n",
       "           City          State         BirthYear    PlayerStatus DMA.Flag   \n",
       " MINNEAPOLIS :1133   MN     :10243   Min.   :1919   A:10795      No :11082  \n",
       " SAINT PAUL  : 638   WI     :  754   1st Qu.:1946   D:  397      Yes:  112  \n",
       " SAINT CLOUD : 405   ND     :   64   Median :1953   M:    2                 \n",
       " BRAINERD    : 283   IA     :   47   Mean   :1955                           \n",
       " ANDOVER     : 247   MI     :   24   3rd Qu.:1961                           \n",
       " LITTLE FALLS: 200   AZ     :    9   Max.   :4194                           \n",
       " (Other)     :8288   (Other):   53                                          \n",
       "                     MaritalStatus   Estimated.Current.Home.Value\n",
       " Married Extremely Likely   :11173   Min.   :      0             \n",
       " Married Likely             :    0   1st Qu.: 143500             \n",
       " Single Likely Never Married:   21   Median : 209650             \n",
       " Unknown Not Scored         :    0   Mean   : 217114             \n",
       " Unknown Scored             :    0   3rd Qu.: 274300             \n",
       "                                     Max.   :4748600             \n",
       "                                                                 \n",
       " DSE..Discretionary.Spend.Estimate Est..Household.Income.V6    cluster \n",
       " Min.   : 1603                     Min.   :  6.00           Min.   :2  \n",
       " 1st Qu.:13365                     1st Qu.: 43.00           1st Qu.:2  \n",
       " Median :16967                     Median : 68.00           Median :2  \n",
       " Mean   :17708                     Mean   : 76.87           Mean   :2  \n",
       " 3rd Qu.:20611                     3rd Qu.: 97.00           3rd Qu.:2  \n",
       " Max.   :87900                     Max.   :250.00           Max.   :2  \n",
       "                                                                       \n",
       "\n",
       "[[3]]\n",
       "          City          State        BirthYear    PlayerStatus DMA.Flag  \n",
       " MINNEAPOLIS: 370   MN     :2701   Min.   :1921   A:2866       No :2935  \n",
       " ONAMIA     : 108   WI     : 225   1st Qu.:1941   D:  99       Yes:  30  \n",
       " SAINT PAUL : 108   ND     :  16   Median :1948   M:   0                 \n",
       " BRAINERD   :  87   IA     :   6   Mean   :1950                          \n",
       " SAINT CLOUD:  79   AZ     :   3   3rd Qu.:1957                          \n",
       " HINCKLEY   :  77   FL     :   3   Max.   :2001                          \n",
       " (Other)    :2136   (Other):  11                                         \n",
       "                     MaritalStatus  Estimated.Current.Home.Value\n",
       " Married Extremely Likely   :   0   Min.   :      0             \n",
       " Married Likely             :   0   1st Qu.:      0             \n",
       " Single Likely Never Married:  86   Median : 111400             \n",
       " Unknown Not Scored         :   0   Mean   : 121434             \n",
       " Unknown Scored             :2879   3rd Qu.: 194700             \n",
       "                                    Max.   :9999999             \n",
       "                                                                \n",
       " DSE..Discretionary.Spend.Estimate Est..Household.Income.V6    cluster \n",
       " Min.   : 2911                     Min.   :  6.00           Min.   :3  \n",
       " 1st Qu.:11032                     1st Qu.: 19.00           1st Qu.:3  \n",
       " Median :13913                     Median : 32.00           Median :3  \n",
       " Mean   :14598                     Mean   : 40.63           Mean   :3  \n",
       " 3rd Qu.:17007                     3rd Qu.: 52.00           3rd Qu.:3  \n",
       " Max.   :87900                     Max.   :250.00           Max.   :3  \n",
       "                                                                       \n",
       "\n",
       "[[4]]\n",
       "          City          State        BirthYear    PlayerStatus DMA.Flag  \n",
       " MINNEAPOLIS: 494   MN     :3999   Min.   :1919   A:4135       No :4289  \n",
       " SAINT PAUL : 241   WI     : 268   1st Qu.:1947   D: 206       Yes:  52  \n",
       " SAINT CLOUD: 142   ND     :  28   Median :1955   M:   0                 \n",
       " BRAINERD   : 110   IA     :  12   Mean   :1958                          \n",
       " ANDOVER    :  86   MI     :  10   3rd Qu.:1968                          \n",
       " FOREST LAKE:  83   AZ     :   5   Max.   :2001                          \n",
       " (Other)    :3185   (Other):  19                                         \n",
       "                     MaritalStatus  Estimated.Current.Home.Value\n",
       " Married Extremely Likely   :   0   Min.   :      0             \n",
       " Married Likely             :   0   1st Qu.: 132500             \n",
       " Single Likely Never Married:  71   Median : 200600             \n",
       " Unknown Not Scored         :4270   Mean   : 205400             \n",
       " Unknown Scored             :   0   3rd Qu.: 268800             \n",
       "                                    Max.   :2621900             \n",
       "                                                                \n",
       " DSE..Discretionary.Spend.Estimate Est..Household.Income.V6    cluster \n",
       " Min.   : 2876                     Min.   :  6.00           Min.   :4  \n",
       " 1st Qu.:12941                     1st Qu.: 45.00           1st Qu.:4  \n",
       " Median :16742                     Median : 70.00           Median :4  \n",
       " Mean   :17415                     Mean   : 77.77           Mean   :4  \n",
       " 3rd Qu.:20722                     3rd Qu.:100.00           3rd Qu.:4  \n",
       " Max.   :62612                     Max.   :250.00           Max.   :4  \n",
       "                                                                       \n",
       "\n",
       "[[5]]\n",
       "          City          State        BirthYear    PlayerStatus DMA.Flag  \n",
       " MINNEAPOLIS: 485   MN     :4079   Min.   :1923   A:4153       No :4335  \n",
       " SAINT PAUL : 213   WI     : 237   1st Qu.:1951   D: 217       Yes:  36  \n",
       " SAINT CLOUD: 131   ND     :  15   Median :1962   M:   1                 \n",
       " BRAINERD   : 113   IA     :  11   Mean   :1963                          \n",
       " ANDOVER    :  87   TX     :   5   3rd Qu.:1973                          \n",
       " PINE CITY  :  80   CA     :   4   Max.   :2001                          \n",
       " (Other)    :3262   (Other):  20                                         \n",
       "                     MaritalStatus  Estimated.Current.Home.Value\n",
       " Married Extremely Likely   :   0   Min.   :      0             \n",
       " Married Likely             :4290   1st Qu.: 127750             \n",
       " Single Likely Never Married:  81   Median : 198600             \n",
       " Unknown Not Scored         :   0   Mean   : 205839             \n",
       " Unknown Scored             :   0   3rd Qu.: 267400             \n",
       "                                    Max.   :1772500             \n",
       "                                                                \n",
       " DSE..Discretionary.Spend.Estimate Est..Household.Income.V6    cluster \n",
       " Min.   : 2127                     Min.   :  6.00           Min.   :5  \n",
       " 1st Qu.:13159                     1st Qu.: 43.00           1st Qu.:5  \n",
       " Median :16963                     Median : 67.00           Median :5  \n",
       " Mean   :18168                     Mean   : 76.74           Mean   :5  \n",
       " 3rd Qu.:21461                     3rd Qu.: 98.00           3rd Qu.:5  \n",
       " Max.   :72193                     Max.   :250.00           Max.   :5  \n",
       "                                                                       \n"
      ]
     },
     "metadata": {},
     "output_type": "display_data"
    }
   ],
   "source": [
    "k = 5\n",
    "pam_fit <- pam(gower_dist, diss = TRUE, k)\n",
    "pam_results <-data_s %>% mutate(cluster = pam_fit$clustering) %>% group_by(cluster) %>% do(the_summary = summary(.))\n",
    "pam_results$the_summary"
   ]
  },
  {
   "cell_type": "code",
   "execution_count": 75,
   "metadata": {},
   "outputs": [],
   "source": [
    "data_s = data_s %>% mutate(cluster = pam_fit$clustering)"
   ]
  },
  {
   "cell_type": "code",
   "execution_count": 10,
   "metadata": {},
   "outputs": [],
   "source": [
    "data_s = data_s %>% mutate(age = 2020 - BirthYear)"
   ]
  },
  {
   "cell_type": "code",
   "execution_count": 11,
   "metadata": {},
   "outputs": [],
   "source": [
    "tsne_obj <- Rtsne(gower_dist, is_distance = TRUE)"
   ]
  },
  {
   "cell_type": "code",
   "execution_count": 12,
   "metadata": {},
   "outputs": [],
   "source": [
    "tsne_data <- tsne_obj$Y %>% \n",
    "    data.frame() %>% \n",
    "    setNames(c(\"X\", \"Y\")) %>% \n",
    "    mutate(cluster = factor(pam_fit$clustering))"
   ]
  },
  {
   "cell_type": "code",
   "execution_count": 16,
   "metadata": {},
   "outputs": [
    {
     "data": {
      "image/png": "[encoded data removed]",
      "text/plain": [
       "plot without title"
      ]
     },
     "metadata": {},
     "output_type": "display_data"
    }
   ],
   "source": [
    "ggplot(aes(x = X, y = Y), data = tsne_data) +\n",
    "    geom_point(aes(color = cluster)) + \n",
    "    ggtitle(\"t-SNE Results: Sampled Player Information\") + \n",
    "    labs(x=\"Dimension 1\", y = \"Dimension 2\")"
   ]
  },
  {
   "cell_type": "code",
   "execution_count": 60,
   "metadata": {},
   "outputs": [],
   "source": [
    "age = ggplot(data_s, aes(x=as.factor(cluster), y = age, fill = cluster)) + \n",
    "    geom_boxplot() + \n",
    "    ylim(0,105) +\n",
    "    labs(x = \"\", y = \"Age\") +\n",
    "    theme(legend.title = element_blank()) +\n",
    "    theme(legend.position = \"none\")"
   ]
  },
  {
   "cell_type": "code",
   "execution_count": 61,
   "metadata": {},
   "outputs": [],
   "source": [
    "income = ggplot(data_s, aes(x=as.factor(cluster), y = Est..Household.Income.V6, fill = cluster)) + \n",
    "    geom_boxplot() + \n",
    "    ylim(0,200) +\n",
    "    labs(x=\"Cluster\", y = \"Income ($ Thousands)\") +\n",
    "    theme(legend.title = element_blank()) +\n",
    "    theme(legend.position = \"none\")"
   ]
  },
  {
   "cell_type": "code",
   "execution_count": 62,
   "metadata": {},
   "outputs": [],
   "source": [
    "spend = ggplot(data_s, aes(x=as.factor(cluster), y = DSE..Discretionary.Spend.Estimate, fill = cluster)) + \n",
    "    geom_boxplot() +\n",
    "    ylim(0,60000) +\n",
    "    labs(x = \"\", y = \"Discretionary Spend Estimate ($ Ones)\") +\n",
    "    theme(legend.title = element_blank()) +\n",
    "    theme(legend.position = \"none\")"
   ]
  },
  {
   "cell_type": "code",
   "execution_count": 80,
   "metadata": {},
   "outputs": [],
   "source": [
    "count = data_s %>% group_by(cluster) %>% summarize(count = n()) %>% \n",
    "ggplot(aes(x=cluster, y=count)) + geom_bar(stat = \"identity\") +\n",
    "labs(x = \"Cluster\", y = \"Player Count\")"
   ]
  },
  {
   "cell_type": "code",
   "execution_count": 65,
   "metadata": {},
   "outputs": [],
   "source": [
    "library(gridExtra)\n",
    "library(grid)"
   ]
  },
  {
   "cell_type": "code",
   "execution_count": 81,
   "metadata": {},
   "outputs": [
    {
     "name": "stderr",
     "output_type": "stream",
     "text": [
      "Warning message:\n",
      "\"Removed 3 rows containing non-finite values (stat_boxplot).\"Warning message:\n",
      "\"Removed 584 rows containing non-finite values (stat_boxplot).\"Warning message:\n",
      "\"Removed 25 rows containing non-finite values (stat_boxplot).\""
     ]
    },
    {
     "data": {
      "image/png": "[encoded data removed]",
      "text/plain": [
       "plot without title"
      ]
     },
     "metadata": {},
     "output_type": "display_data"
    }
   ],
   "source": [
    "grid.arrange(age, income, spend,count, nrow = 1, top = textGrob(\"Cluster Feature Summary\"))"
   ]
  }
 ],
 "metadata": {
  "kernelspec": {
   "display_name": "R",
   "language": "R",
   "name": "ir"
  },
  "language_info": {
   "codemirror_mode": "r",
   "file_extension": ".r",
   "mimetype": "text/x-r-source",
   "name": "R",
   "pygments_lexer": "r",
   "version": "3.6.1"
  }
 },
 "nbformat": 4,
 "nbformat_minor": 2
}
