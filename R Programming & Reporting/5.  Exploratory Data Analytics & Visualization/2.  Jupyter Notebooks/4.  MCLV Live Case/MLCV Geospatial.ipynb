{
 "cells": [
  {
   "cell_type": "markdown",
   "metadata": {},
   "source": [
    "# MLCV Geospatial Analysis - R Code"
   ]
  },
  {
   "cell_type": "code",
   "execution_count": null,
   "metadata": {},
   "outputs": [],
   "source": [
    "# Importing Necessary Libraries\n",
    "library(tidyverse)\n",
    "library(zipcode)\n",
    "library(maps)\n",
    "library(maptools)\n",
    "library(RColorBrewer)"
   ]
  },
  {
   "cell_type": "code",
   "execution_count": null,
   "metadata": {},
   "outputs": [],
   "source": [
    "# Reading in Required Shapefile of U.S. Census Bureau Zip Code Tabulation Areas\n",
    "map_shp <- readShapePoly(\"D://Group Folder/MLCV_Zip/MLCV_Zip/mn_zip_joined.shp\")\n",
    "# from https://catalog.data.gov/; initial data preprocessing performed using QGIS to\n",
    "# filter data to include State: 027."
   ]
  },
  {
   "cell_type": "markdown",
   "metadata": {},
   "source": [
    "A Note about Zip Code Tabulation Areas (ZCTAs): A generalized representations of US Postal Service Zip Code service areas, which have been revised to better align with the geographic boundaries used by the U.S. Census Bureau. Due to the resulting approximations, the results of our analysis should, in turn, be treated as an approximation. For more information, please refer to: census.gov/programs-surveys/geography/guidance/geo-areas/zctas.html. "
   ]
  },
  {
   "cell_type": "code",
   "execution_count": null,
   "metadata": {},
   "outputs": [],
   "source": [
    "# Reviewing first 5 rows of data within the shapefile\n",
    "head(map_shp@data)"
   ]
  },
  {
   "cell_type": "code",
   "execution_count": null,
   "metadata": {},
   "outputs": [],
   "source": [
    "# Plotting map of Minnesota ZCTAs\n",
    "plot(map_shp)"
   ]
  },
  {
   "cell_type": "code",
   "execution_count": null,
   "metadata": {},
   "outputs": [],
   "source": [
    "# Importing Tabular Data\n",
    "\n",
    "# Extracting national-level data from zipcode library\n",
    "data(zipcode) \n",
    "# Table of player characteristics\n",
    "dim_player <- read.csv(\"D://Group Folder/Datasets/DimPlayer.csv\") \n",
    "# Isolating and counting zip codes\n",
    "zip_data <- dim_player %>% count(ZipCode) %>% arrange(desc(n))\n",
    "# Cleaning zip codes using the zipcode library\n",
    "zip_data$ZipCode <- zipcode::clean.zipcodes(zip_data$ZipCode)\n",
    "# Joining national-level data to zip code counts\n",
    "df <- left_join(zip_data, zipcode, by=c(\"ZipCode\"=\"zip\"))\n",
    "# Importing American Community Survey (ACS) 5-Year Estimates; \n",
    "# Obtained from https://census.gov/programs-surveys/acs/\n",
    "acs_data <- read.csv(paste0(\"D://Group Folder/MLCV_Zip/MLCV_Zip/\",\n",
    "                            \"ACS_17_5YR_DP05_with_ann.csv\"), skip = 1)[1:5]\n",
    "# Changing dataframe names\n",
    "names(acs_data) <- c(\"Id\", \"Id2\", \"Geography\", \"Estimate\", \"Margin\")\n",
    "# Ensuring IDs are interpreted as char rather than numeric\n",
    "acs_data$Id2 <- as.character(acs_data$Id2)\n",
    "# Joining ACS Data to zipcode/count dataframe\n",
    "all_data <- left_join(df, acs_data, by=c(\"ZipCode\"=\"Id2\"))\n",
    "# (Important Step) Standardizing zip code counts\n",
    "all_data <- all_data %>% mutate(Percentage = n / Estimate)\n",
    "# Safeguarding against duplicates resulting from joins\n",
    "all_data <- all_data[complete.cases(all_data),]\n",
    "# Eliminating Null/NA Joins\n",
    "all_data <- all_data %>% filter(n > 1)\n",
    "# Ensuring GEOIDs are interpreted as char rather than numeric\n",
    "map_shp@data$GEOID10 <- as.character(map_shp@data$GEOID10)\n",
    "# merging tabulated data to the shapefile for mapping\n",
    "map_shp2 <- merge(map_shp, all_data, by.x=\"GEOID10\", by.y=\"ZipCode\")"
   ]
  },
  {
   "cell_type": "code",
   "execution_count": null,
   "metadata": {},
   "outputs": [],
   "source": [
    "# Preliminary data analysis; zip codes per county\n",
    "all_data_20 <- all_data %>% filter(Estimate > 0) %>% arrange(desc(Percentage)) %>% top_n(20)\n",
    "ggplot(all_data_20 , aes(x=reorder(city, Percentage), y=Percentage)) + geom_col() + coord_flip()\n",
    "ggplot(all_data_20 , aes(x=reorder(ZipCode, Percentage), y=Percentage)) + geom_col() + coord_flip()"
   ]
  },
  {
   "cell_type": "markdown",
   "metadata": {},
   "source": [
    "**Plotting zip codes with standardization**"
   ]
  },
  {
   "cell_type": "code",
   "execution_count": null,
   "metadata": {},
   "outputs": [],
   "source": [
    "# Creating a color palette and assigning weights \n",
    "p <- colorRampPalette((c(\"white\", \"red\")))(100)\n",
    "palette(p)\n",
    "pop <- map_shp2@data$Percentage * 200\n",
    "\n",
    "# plotting standardized zip code counts (Important Figure)\n",
    "plot(map_shp, col = pop)\n",
    "# adding titles\n",
    "title(main=\"Scaled ZipCode Densities\")"
   ]
  },
  {
   "cell_type": "markdown",
   "metadata": {},
   "source": [
    "**Plotting national zip codes without standardization**"
   ]
  },
  {
   "cell_type": "code",
   "execution_count": null,
   "metadata": {},
   "outputs": [],
   "source": [
    "# Preparing necessary the underlying maps\n",
    "county <- map_data(\"county\", region = \"minnesota\")\n",
    "mn <- map_data(\"state\", region = \"minnesota\")\n",
    "us <- map_data(\"state\")"
   ]
  },
  {
   "cell_type": "code",
   "execution_count": null,
   "metadata": {},
   "outputs": [],
   "source": [
    "# Nation-wide plot of zip code densities\n",
    "ggplot(us) + \n",
    "  geom_polygon( aes(x=long, y=lat, group = group), fill=\"white\", color=\"black\") +\n",
    "  coord_quickmap() +\n",
    "  stat_density2d(aes(x=longitude, y=latitude, fill=..level.., alpha=..level..), \n",
    "                 bins=9, geom=\"polygon\", data=df) +\n",
    "  scale_fill_gradient(low=\"black\", high=\"red\") +\n",
    "  theme_bw() + theme(legend.position = 'none') + \n",
    "  labs(title = \"Mille Lacs Casino\\n\", subtitle = \"Customer Zip Code Density\")"
   ]
  },
  {
   "cell_type": "code",
   "execution_count": null,
   "metadata": {},
   "outputs": [],
   "source": [
    "# Plotting nation-wide zip codes with density gradients\n",
    "  geom_polygon( aes(x=long, y=lat, group = group), fill=\"white\", color=\"black\") +\n",
    "  coord_quickmap() +\n",
    "  geom_point(aes(x=longitude, y=latitude, color=n), size = 0.2, data=df) +\n",
    "  scale_x_continuous(limits = c(-125, -66)) + \n",
    "  scale_y_continuous(limits = c(25, 50)) +\n",
    "  scale_color_viridis_c() +\n",
    "  scale_fill_gradient(low=\"black\", high=\"red\") +\n",
    "  theme_classic() + \n",
    "  labs(title = \"Mille Lacs Casino\\n\", subtitle = \"Customer Zip Code Density\")"
   ]
  },
  {
   "cell_type": "markdown",
   "metadata": {},
   "source": [
    "**Plotting Minnesota zip codes without standardization**"
   ]
  },
  {
   "cell_type": "code",
   "execution_count": null,
   "metadata": {},
   "outputs": [],
   "source": [
    "# Plotting state-wide zip codes with density gradients\n",
    "df_mn <- df %>% filter(state==\"MN\")\n",
    "ggplot(county) + \n",
    "  geom_polygon(aes(x=long, y=lat, group=group), fill=\"white\", color=\"black\") +\n",
    "  coord_quickmap() +\n",
    "  geom_point(aes(x=longitude, y=latitude, color=n), size=1, data=df_mn) +\n",
    "  scale_x_continuous(limits = c(-97.5, -89)) + \n",
    "  scale_y_continuous(limits = c(43, 50)) +\n",
    "  scale_color_viridis_c(option=\"magma\") +\n",
    "  scale_fill_gradient(low=\"black\", high=\"red\") +\n",
    "  theme_bw()"
   ]
  },
  {
   "cell_type": "code",
   "execution_count": null,
   "metadata": {},
   "outputs": [],
   "source": [
    "# Plotting state-wide zip code densities with reference locations\n",
    "mpls <- data.frame(longitude=c(-93.2650), latitude=c(44.9778), label=c(\"MPLS\"))\n",
    "mlc <-  data.frame(longitude=c(-93.7591), latitude=c(46.1799), label=c(\"MLC\"))\n",
    "df_mn <- df %>% filter(state==\"MN\")\n",
    "\n",
    "# Mapping Zip Codes\n",
    "ggplot(county) + \n",
    "  geom_polygon(aes(x=long, y=lat, group=group), fill=\"white\", color=\"black\") +\n",
    "  coord_quickmap() +\n",
    "  geom_point(aes(x=longitude, y=latitude, color=n), size=1, data=df_mn) +\n",
    "  scale_x_continuous(limits = c(-97.5, -89)) + \n",
    "  scale_y_continuous(limits = c(43, 50)) +\n",
    "  scale_color_viridis_c(option=\"magma\") +\n",
    "  scale_fill_gradient(low=\"black\", high=\"red\") +\n",
    "  stat_density2d(aes(x=longitude, y=latitude, fill=..level.., alpha=..level..),\n",
    "                 bins=9, geom=\"polygon\", data=df_mn) +\n",
    "  geom_point(aes(x=longitude, y=latitude), size=3, fill=\"blue\", shape=23, data=mpls) +\n",
    "  geom_text(data=mpls, aes(x=longitude, y=latitude), color=\"blue\", size=5,\n",
    "            label=\"Minneapolis\", hjust=-.3) +\n",
    "  geom_point(aes(x=longitude, y=latitude), size=3, fill=\"blue\", shape=23, data=mlc) +\n",
    "  geom_text(data=mlc, aes(x=longitude, y=latitude), color=\"blue\", size=5,\n",
    "            label=\"Mille Lacs Casino\", hjust=-.1) +\n",
    "  theme_bw() + theme(legend.position = 'none') + \n",
    "  labs(title = \"Mille Lacs Casino\\n\", subtitle = \"Customer Zip Code Density\")"
   ]
  },
  {
   "cell_type": "markdown",
   "metadata": {},
   "source": [
    "**State-level Descriptive Statistics**"
   ]
  },
  {
   "cell_type": "code",
   "execution_count": null,
   "metadata": {},
   "outputs": [],
   "source": [
    "# Zip code counts by city\n",
    "df_temp <- df %>% \n",
    "  group_by(city) %>% \n",
    "  summarise(total_n = sum(n)) %>% \n",
    "  arrange(desc(total_n)) %>% \n",
    "  top_n(40) %>% filter(!is.na(city))\n",
    "\n",
    "ggplot(df_temp, aes(x=reorder(city, total_n), y=total_n)) + \n",
    "  geom_col() + coord_flip() + \n",
    "  geom_text(label=scales::comma(df_temp$total_n), hjust=-.4) +\n",
    "  scale_y_continuous(limits = c(0, 1.1* max(df_temp$total_n)), labels = scales::comma) +\n",
    "  labs(title=\"Mille Lacs Casino\\n\", subtitle=\"Zip Code Counts\", x=\"\", y=\"Count\") + \n",
    "  theme_bw()"
   ]
  },
  {
   "cell_type": "code",
   "execution_count": null,
   "metadata": {},
   "outputs": [],
   "source": []
  }
 ],
 "metadata": {
  "kernelspec": {
   "display_name": "Python 3",
   "language": "python",
   "name": "python3"
  },
  "language_info": {
   "codemirror_mode": {
    "name": "ipython",
    "version": 3
   },
   "file_extension": ".py",
   "mimetype": "text/x-python",
   "name": "python",
   "nbconvert_exporter": "python",
   "pygments_lexer": "ipython3",
   "version": "3.7.3"
  }
 },
 "nbformat": 4,
 "nbformat_minor": 2
}
