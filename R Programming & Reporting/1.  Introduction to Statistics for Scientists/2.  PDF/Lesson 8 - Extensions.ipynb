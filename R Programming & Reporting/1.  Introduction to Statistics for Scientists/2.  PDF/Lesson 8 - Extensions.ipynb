{
 "cells": [
  {
   "cell_type": "code",
   "execution_count": 1,
   "metadata": {},
   "outputs": [],
   "source": [
    "library(readxl)"
   ]
  },
  {
   "cell_type": "code",
   "execution_count": 2,
   "metadata": {},
   "outputs": [],
   "source": [
    "energy <- read_excel(\"energy.xlsx\",  na=  \"NA\",  col_names = TRUE)\n",
    "attach(energy)"
   ]
  },
  {
   "cell_type": "code",
   "execution_count": 3,
   "metadata": {
    "scrolled": true
   },
   "outputs": [
    {
     "data": {
      "image/png": "[encoded data removed]",
      "text/plain": [
       "plot without title"
      ]
     },
     "metadata": {},
     "output_type": "display_data"
    }
   ],
   "source": [
    "plot(Size, Usage, pch = 16,  xlab = \"House Size (square feet)\",  ylab = \"Energy Usage (Killowatts/Hour per month)\")\n",
    "abline(lm(Usage ~ Size), lty= 2,  col = \"red\")"
   ]
  },
  {
   "cell_type": "code",
   "execution_count": 4,
   "metadata": {},
   "outputs": [
    {
     "data": {
      "text/html": [
       "1290"
      ],
      "text/latex": [
       "1290"
      ],
      "text/markdown": [
       "1290"
      ],
      "text/plain": [
       "[1] 1290"
      ]
     },
     "metadata": {},
     "output_type": "display_data"
    },
    {
     "data": {
      "text/html": [
       "2930"
      ],
      "text/latex": [
       "2930"
      ],
      "text/markdown": [
       "2930"
      ],
      "text/plain": [
       "[1] 2930"
      ]
     },
     "metadata": {},
     "output_type": "display_data"
    }
   ],
   "source": [
    "min(Size)\n",
    "max(Size)"
   ]
  },
  {
   "cell_type": "code",
   "execution_count": 5,
   "metadata": {},
   "outputs": [],
   "source": [
    "# a. Sales = B0 + B1(Income) + B2(Income)^2 + E"
   ]
  },
  {
   "cell_type": "code",
   "execution_count": 6,
   "metadata": {},
   "outputs": [],
   "source": [
    "fastfood <- read_excel(\"FastFood.xlsx\", na=\"NA\", col_names = TRUE)\n",
    "attach(fastfood)"
   ]
  },
  {
   "cell_type": "code",
   "execution_count": 7,
   "metadata": {
    "scrolled": true
   },
   "outputs": [
    {
     "data": {
      "text/html": [
       "<table>\n",
       "<thead><tr><th scope=col>Neighborhood</th><th scope=col>Revenue</th><th scope=col>Income</th><th scope=col>IncomeSqd</th></tr></thead>\n",
       "<tbody>\n",
       "\t<tr><td>1     </td><td>1128  </td><td>23.5  </td><td>552.25</td></tr>\n",
       "\t<tr><td>2     </td><td>1005  </td><td>17.6  </td><td>309.76</td></tr>\n",
       "\t<tr><td>3     </td><td>1212  </td><td>26.3  </td><td>691.69</td></tr>\n",
       "\t<tr><td>4     </td><td> 893  </td><td>16.5  </td><td>272.25</td></tr>\n",
       "\t<tr><td>5     </td><td>1073  </td><td>22.3  </td><td>497.29</td></tr>\n",
       "\t<tr><td>6     </td><td>1179  </td><td>26.1  </td><td>681.21</td></tr>\n",
       "</tbody>\n",
       "</table>\n"
      ],
      "text/latex": [
       "\\begin{tabular}{r|llll}\n",
       " Neighborhood & Revenue & Income & IncomeSqd\\\\\n",
       "\\hline\n",
       "\t 1      & 1128   & 23.5   & 552.25\\\\\n",
       "\t 2      & 1005   & 17.6   & 309.76\\\\\n",
       "\t 3      & 1212   & 26.3   & 691.69\\\\\n",
       "\t 4      &  893   & 16.5   & 272.25\\\\\n",
       "\t 5      & 1073   & 22.3   & 497.29\\\\\n",
       "\t 6      & 1179   & 26.1   & 681.21\\\\\n",
       "\\end{tabular}\n"
      ],
      "text/markdown": [
       "\n",
       "Neighborhood | Revenue | Income | IncomeSqd | \n",
       "|---|---|---|---|---|---|\n",
       "| 1      | 1128   | 23.5   | 552.25 | \n",
       "| 2      | 1005   | 17.6   | 309.76 | \n",
       "| 3      | 1212   | 26.3   | 691.69 | \n",
       "| 4      |  893   | 16.5   | 272.25 | \n",
       "| 5      | 1073   | 22.3   | 497.29 | \n",
       "| 6      | 1179   | 26.1   | 681.21 | \n",
       "\n",
       "\n"
      ],
      "text/plain": [
       "  Neighborhood Revenue Income IncomeSqd\n",
       "1 1            1128    23.5   552.25   \n",
       "2 2            1005    17.6   309.76   \n",
       "3 3            1212    26.3   691.69   \n",
       "4 4             893    16.5   272.25   \n",
       "5 5            1073    22.3   497.29   \n",
       "6 6            1179    26.1   681.21   "
      ]
     },
     "metadata": {},
     "output_type": "display_data"
    }
   ],
   "source": [
    "head(fastfood)"
   ]
  },
  {
   "cell_type": "code",
   "execution_count": 8,
   "metadata": {},
   "outputs": [
    {
     "data": {
      "text/html": [
       "33.6"
      ],
      "text/latex": [
       "33.6"
      ],
      "text/markdown": [
       "33.6"
      ],
      "text/plain": [
       "[1] 33.6"
      ]
     },
     "metadata": {},
     "output_type": "display_data"
    },
    {
     "data": {
      "text/html": [
       "15.6"
      ],
      "text/latex": [
       "15.6"
      ],
      "text/markdown": [
       "15.6"
      ],
      "text/plain": [
       "[1] 15.6"
      ]
     },
     "metadata": {},
     "output_type": "display_data"
    }
   ],
   "source": [
    "max(Income)\n",
    "min(Income)"
   ]
  },
  {
   "cell_type": "code",
   "execution_count": 9,
   "metadata": {},
   "outputs": [
    {
     "data": {
      "image/png": "[encoded data removed]",
      "text/plain": [
       "plot without title"
      ]
     },
     "metadata": {},
     "output_type": "display_data"
    }
   ],
   "source": [
    "plot(Income, Revenue, pch = 16 ,  xlab = \"Income ($1000s)\",  ylab = \"Revenue ($1000s)\")\n",
    "abline(lm(Revenue ~ Income), lty = 2,  col=\"red\")"
   ]
  },
  {
   "cell_type": "code",
   "execution_count": 10,
   "metadata": {},
   "outputs": [
    {
     "data": {
      "text/plain": [
       "\n",
       "Call:\n",
       "lm(formula = Revenue ~ Income)\n",
       "\n",
       "Residuals:\n",
       "    Min      1Q  Median      3Q     Max \n",
       "-338.86  -61.15    9.53   90.00  168.70 \n",
       "\n",
       "Coefficients:\n",
       "            Estimate Std. Error t value Pr(>|t|)    \n",
       "(Intercept)  804.181    123.624   6.505 1.23e-06 ***\n",
       "Income        11.627      5.012   2.320   0.0296 *  \n",
       "---\n",
       "Signif. codes:  0 '***' 0.001 '**' 0.01 '*' 0.05 '.' 0.1 ' ' 1\n",
       "\n",
       "Residual standard error: 119.6 on 23 degrees of freedom\n",
       "Multiple R-squared:  0.1896,\tAdjusted R-squared:  0.1544 \n",
       "F-statistic: 5.382 on 1 and 23 DF,  p-value: 0.02957\n"
      ]
     },
     "metadata": {},
     "output_type": "display_data"
    }
   ],
   "source": [
    "linefit <- lm(Revenue ~ Income)\n",
    "summary(linefit)"
   ]
  },
  {
   "cell_type": "code",
   "execution_count": 11,
   "metadata": {},
   "outputs": [
    {
     "data": {
      "image/png": "[encoded data removed]",
      "text/plain": [
       "Plot with title \"Standardized Residual Plot\""
      ]
     },
     "metadata": {},
     "output_type": "display_data"
    }
   ],
   "source": [
    "linefit.stres <- rstandard(linefit)\n",
    "plot(linefit$fitted.values, linefit.stres, pch = 16 ,  main = \"Standardized Residual Plot\", \n",
    "     xlab = \"Fitted Revenue ($1000s)\",  ylab = \"Standardized Residuals\")\n",
    "abline(0,0, lty=2,  col= \"red\")"
   ]
  },
  {
   "cell_type": "code",
   "execution_count": 12,
   "metadata": {},
   "outputs": [
    {
     "data": {
      "text/plain": [
       "\n",
       "Call:\n",
       "lm(formula = Revenue ~ Income + IncomeSqd)\n",
       "\n",
       "Residuals:\n",
       "     Min       1Q   Median       3Q      Max \n",
       "-105.452  -44.967    8.613   41.906  104.164 \n",
       "\n",
       "Coefficients:\n",
       "             Estimate Std. Error t value Pr(>|t|)    \n",
       "(Intercept) -1454.521    279.993  -5.195 3.29e-05 ***\n",
       "Income        209.815     24.084   8.712 1.39e-08 ***\n",
       "IncomeSqd      -4.170      0.504  -8.275 3.36e-08 ***\n",
       "---\n",
       "Signif. codes:  0 '***' 0.001 '**' 0.01 '*' 0.05 '.' 0.1 ' ' 1\n",
       "\n",
       "Residual standard error: 60.31 on 22 degrees of freedom\n",
       "Multiple R-squared:  0.8029,\tAdjusted R-squared:  0.785 \n",
       "F-statistic: 44.82 on 2 and 22 DF,  p-value: 1.74e-08\n"
      ]
     },
     "metadata": {},
     "output_type": "display_data"
    }
   ],
   "source": [
    "linefit2 <- lm(Revenue ~ Income + IncomeSqd)\n",
    "summary(linefit2)"
   ]
  },
  {
   "cell_type": "code",
   "execution_count": 13,
   "metadata": {},
   "outputs": [],
   "source": [
    "# at 0 income, it is out of range of our values - since our min value is 15600 \n",
    "# ^B1 is not interpretable because ^B2 has direct collinearity \n",
    "# ^B2 is not interpretable\n",
    "# c. ^B0 = -1454.521\n",
    "#    ^B1 = 209.815\n",
    "\n",
    "# B.\n",
    "# H0: B2 = 0: not curvillinear\n",
    "# Ha: B2 =/= 0: curvillinear\n",
    "# p-value = 3.36e-08\n",
    "\n",
    "# 40% chance of getting this sample result if there was no curvillinear relationship\n",
    "\n",
    "# C.\n",
    "# ^B0 = -1454.521\n",
    "# ^B1 = 209.815\n",
    "# ^B2 = -4.170\n",
    "\n",
    "# p-value: 1.74e-08 is testing if x is a useful predictor of y\n",
    "# if B1 and B2 = 0 \n",
    "\n",
    "# 3.36e-08 is if there a curvillinear relationship between Income and Revenue\n",
    "\n",
    "# H0: B1 = 0\n",
    "# Ba: B1 =/= 0\n",
    "# p-value = .98"
   ]
  },
  {
   "cell_type": "code",
   "execution_count": null,
   "metadata": {},
   "outputs": [],
   "source": []
  },
  {
   "cell_type": "code",
   "execution_count": 14,
   "metadata": {},
   "outputs": [
    {
     "data": {
      "image/png": "[encoded data removed]",
      "text/plain": [
       "Plot with title \"Standardized Residual Plot\""
      ]
     },
     "metadata": {},
     "output_type": "display_data"
    }
   ],
   "source": [
    "linefit2.stres <- rstandard(linefit2) \n",
    "plot(linefit2$fitted.values, linefit2.stres, pch = 16, main = \"Standardized Residual Plot\", \n",
    "     xlab = \"Fitted Revenue\", ylab = \"Standardized Residuals\") \n",
    "abline(0,0, lty=2, col=\"red\")"
   ]
  },
  {
   "cell_type": "code",
   "execution_count": 15,
   "metadata": {},
   "outputs": [
    {
     "name": "stderr",
     "output_type": "stream",
     "text": [
      "Your code contains a unicode char which cannot be displayed in your\n",
      "current locale and R will silently convert it to an escaped form when the\n",
      "R kernel executes this code. This can lead to subtle errors if you use\n",
      "such chars to do comparisons. For more information, please see\n",
      "https://github.com/IRkernel/repr/wiki/Problems-with-unicode-on-windows"
     ]
    }
   ],
   "source": [
    "# H0:  β2= 0 ; no curvilinear relationship\n",
    "# Ha:  β2≠ 0 ; curvilinear relationship\n",
    "\n",
    "# Note: Values of β1 and β2 are not interpretable.  \n",
    "# Why?  Collinearity!"
   ]
  },
  {
   "cell_type": "code",
   "execution_count": 16,
   "metadata": {},
   "outputs": [
    {
     "data": {
      "image/png": "[encoded data removed]",
      "text/plain": [
       "plot without title"
      ]
     },
     "metadata": {},
     "output_type": "display_data"
    }
   ],
   "source": [
    "XvaluesQ <- seq(10, 35, 1) \n",
    "YpredictedQ <- linefit2$coefficients[3]*XvaluesQ^2 + linefit2$coefficients[2] * XvaluesQ + linefit2$coefficients[1] \n",
    "plot(Income, Revenue, pch = 16, xlab = \"Income ($1000s)\", ylab = \"Revenue ($1000s)\") \n",
    "lines(XvaluesQ, YpredictedQ, type = \"l\", col = \"red\")"
   ]
  },
  {
   "cell_type": "code",
   "execution_count": 17,
   "metadata": {},
   "outputs": [],
   "source": [
    "# β1= 0 -> parabola symmetric around 0\n",
    "# β1, β2 same sign -> shifts left\n",
    "# β1, β2 opposite sign -> shifts right\n",
    "\n",
    "# β2< 0 -> concave (inverted U-shape)\n",
    "# β2> 0 -> convex (U-shape)\n",
    "# Size of β2 -> steepness of curvature"
   ]
  },
  {
   "cell_type": "code",
   "execution_count": null,
   "metadata": {},
   "outputs": [],
   "source": []
  },
  {
   "cell_type": "code",
   "execution_count": null,
   "metadata": {},
   "outputs": [],
   "source": []
  },
  {
   "cell_type": "code",
   "execution_count": 18,
   "metadata": {},
   "outputs": [],
   "source": [
    "library(plyr)"
   ]
  },
  {
   "cell_type": "code",
   "execution_count": 19,
   "metadata": {},
   "outputs": [],
   "source": [
    "# R 8.2 Polishing"
   ]
  },
  {
   "cell_type": "code",
   "execution_count": 20,
   "metadata": {},
   "outputs": [],
   "source": [
    "polish <- read_excel(\"Polishing.xlsx\",  na=\"NA\",  col_names = TRUE)\n",
    "\n",
    "\n",
    "polish$typeF<-mapvalues(polish$type, c(1, 2, 3, 4, 5), c('bowl', 'cass', 'dish', 'tray', 'plate'))\n",
    "polish$typeF<-factor(polish$typeF)\n",
    "attach(polish)"
   ]
  },
  {
   "cell_type": "code",
   "execution_count": 21,
   "metadata": {},
   "outputs": [
    {
     "data": {
      "text/html": [
       "<table>\n",
       "<thead><tr><th scope=col>Record</th><th scope=col>type</th><th scope=col>bowl</th><th scope=col>cass</th><th scope=col>dish</th><th scope=col>tray</th><th scope=col>diam</th><th scope=col>time</th><th scope=col>price</th><th scope=col>typeF</th></tr></thead>\n",
       "<tbody>\n",
       "\t<tr><td>1    </td><td>2    </td><td>0    </td><td>1    </td><td>0    </td><td>0    </td><td>10.7 </td><td>47.65</td><td>144  </td><td>cass </td></tr>\n",
       "\t<tr><td>2    </td><td>2    </td><td>0    </td><td>1    </td><td>0    </td><td>0    </td><td>14.0 </td><td>63.13</td><td>215  </td><td>cass </td></tr>\n",
       "\t<tr><td>3    </td><td>2    </td><td>0    </td><td>1    </td><td>0    </td><td>0    </td><td> 9.0 </td><td>58.76</td><td>105  </td><td>cass </td></tr>\n",
       "\t<tr><td>4    </td><td>1    </td><td>1    </td><td>0    </td><td>0    </td><td>0    </td><td> 8.0 </td><td>34.88</td><td> 69  </td><td>bowl </td></tr>\n",
       "\t<tr><td>5    </td><td>3    </td><td>0    </td><td>0    </td><td>1    </td><td>0    </td><td>10.0 </td><td>55.53</td><td>134  </td><td>dish </td></tr>\n",
       "\t<tr><td>6    </td><td>2    </td><td>0    </td><td>1    </td><td>0    </td><td>0    </td><td>10.5 </td><td>43.14</td><td>129  </td><td>cass </td></tr>\n",
       "</tbody>\n",
       "</table>\n"
      ],
      "text/latex": [
       "\\begin{tabular}{r|llllllllll}\n",
       " Record & type & bowl & cass & dish & tray & diam & time & price & typeF\\\\\n",
       "\\hline\n",
       "\t 1     & 2     & 0     & 1     & 0     & 0     & 10.7  & 47.65 & 144   & cass \\\\\n",
       "\t 2     & 2     & 0     & 1     & 0     & 0     & 14.0  & 63.13 & 215   & cass \\\\\n",
       "\t 3     & 2     & 0     & 1     & 0     & 0     &  9.0  & 58.76 & 105   & cass \\\\\n",
       "\t 4     & 1     & 1     & 0     & 0     & 0     &  8.0  & 34.88 &  69   & bowl \\\\\n",
       "\t 5     & 3     & 0     & 0     & 1     & 0     & 10.0  & 55.53 & 134   & dish \\\\\n",
       "\t 6     & 2     & 0     & 1     & 0     & 0     & 10.5  & 43.14 & 129   & cass \\\\\n",
       "\\end{tabular}\n"
      ],
      "text/markdown": [
       "\n",
       "Record | type | bowl | cass | dish | tray | diam | time | price | typeF | \n",
       "|---|---|---|---|---|---|\n",
       "| 1     | 2     | 0     | 1     | 0     | 0     | 10.7  | 47.65 | 144   | cass  | \n",
       "| 2     | 2     | 0     | 1     | 0     | 0     | 14.0  | 63.13 | 215   | cass  | \n",
       "| 3     | 2     | 0     | 1     | 0     | 0     |  9.0  | 58.76 | 105   | cass  | \n",
       "| 4     | 1     | 1     | 0     | 0     | 0     |  8.0  | 34.88 |  69   | bowl  | \n",
       "| 5     | 3     | 0     | 0     | 1     | 0     | 10.0  | 55.53 | 134   | dish  | \n",
       "| 6     | 2     | 0     | 1     | 0     | 0     | 10.5  | 43.14 | 129   | cass  | \n",
       "\n",
       "\n"
      ],
      "text/plain": [
       "  Record type bowl cass dish tray diam time  price typeF\n",
       "1 1      2    0    1    0    0    10.7 47.65 144   cass \n",
       "2 2      2    0    1    0    0    14.0 63.13 215   cass \n",
       "3 3      2    0    1    0    0     9.0 58.76 105   cass \n",
       "4 4      1    1    0    0    0     8.0 34.88  69   bowl \n",
       "5 5      3    0    0    1    0    10.0 55.53 134   dish \n",
       "6 6      2    0    1    0    0    10.5 43.14 129   cass "
      ]
     },
     "metadata": {},
     "output_type": "display_data"
    }
   ],
   "source": [
    "head(polish)"
   ]
  },
  {
   "cell_type": "code",
   "execution_count": 22,
   "metadata": {},
   "outputs": [
    {
     "name": "stderr",
     "output_type": "stream",
     "text": [
      "The following `from` values were not present in `x`: 1, 2, 3, 4, 5\n"
     ]
    }
   ],
   "source": [
    "typeF = mapvalues(typeF, c(1, 2, 3, 4, 5), c('bowl', 'cass', 'dish', 'tray', 'plate'))\n",
    "#1=Bowl; 2=Casserole; 3=Dish; 4=Tray; 5=Plate"
   ]
  },
  {
   "cell_type": "code",
   "execution_count": 23,
   "metadata": {},
   "outputs": [
    {
     "data": {
      "text/html": [
       "<ol class=list-inline>\n",
       "\t<li>cass</li>\n",
       "\t<li>cass</li>\n",
       "\t<li>cass</li>\n",
       "\t<li>bowl</li>\n",
       "\t<li>dish</li>\n",
       "\t<li>cass</li>\n",
       "\t<li>tray</li>\n",
       "\t<li>tray</li>\n",
       "\t<li>dish</li>\n",
       "\t<li>dish</li>\n",
       "\t<li>tray</li>\n",
       "\t<li>bowl</li>\n",
       "\t<li>bowl</li>\n",
       "\t<li>bowl</li>\n",
       "\t<li>cass</li>\n",
       "\t<li>cass</li>\n",
       "\t<li>bowl</li>\n",
       "\t<li>bowl</li>\n",
       "\t<li>bowl</li>\n",
       "\t<li>plate</li>\n",
       "\t<li>bowl</li>\n",
       "\t<li>bowl</li>\n",
       "\t<li>bowl</li>\n",
       "\t<li>bowl</li>\n",
       "\t<li>bowl</li>\n",
       "\t<li>bowl</li>\n",
       "\t<li>bowl</li>\n",
       "\t<li>bowl</li>\n",
       "\t<li>tray</li>\n",
       "\t<li>bowl</li>\n",
       "\t<li>dish</li>\n",
       "\t<li>plate</li>\n",
       "\t<li>cass</li>\n",
       "\t<li>dish</li>\n",
       "\t<li>dish</li>\n",
       "\t<li>bowl</li>\n",
       "\t<li>cass</li>\n",
       "\t<li>bowl</li>\n",
       "\t<li>plate</li>\n",
       "\t<li>tray</li>\n",
       "\t<li>tray</li>\n",
       "\t<li>bowl</li>\n",
       "\t<li>plate</li>\n",
       "\t<li>bowl</li>\n",
       "\t<li>tray</li>\n",
       "\t<li>tray</li>\n",
       "\t<li>tray</li>\n",
       "\t<li>bowl</li>\n",
       "\t<li>tray</li>\n",
       "\t<li>bowl</li>\n",
       "\t<li>cass</li>\n",
       "\t<li>cass</li>\n",
       "\t<li>dish</li>\n",
       "\t<li>bowl</li>\n",
       "\t<li>plate</li>\n",
       "\t<li>plate</li>\n",
       "\t<li>plate</li>\n",
       "\t<li>plate</li>\n",
       "\t<li>plate</li>\n",
       "</ol>\n",
       "\n",
       "<details>\n",
       "\t<summary style=display:list-item;cursor:pointer>\n",
       "\t\t<strong>Levels</strong>:\n",
       "\t</summary>\n",
       "\t<ol class=list-inline>\n",
       "\t\t<li>'bowl'</li>\n",
       "\t\t<li>'cass'</li>\n",
       "\t\t<li>'dish'</li>\n",
       "\t\t<li>'plate'</li>\n",
       "\t\t<li>'tray'</li>\n",
       "\t</ol>\n",
       "</details>"
      ],
      "text/latex": [
       "\\begin{enumerate*}\n",
       "\\item cass\n",
       "\\item cass\n",
       "\\item cass\n",
       "\\item bowl\n",
       "\\item dish\n",
       "\\item cass\n",
       "\\item tray\n",
       "\\item tray\n",
       "\\item dish\n",
       "\\item dish\n",
       "\\item tray\n",
       "\\item bowl\n",
       "\\item bowl\n",
       "\\item bowl\n",
       "\\item cass\n",
       "\\item cass\n",
       "\\item bowl\n",
       "\\item bowl\n",
       "\\item bowl\n",
       "\\item plate\n",
       "\\item bowl\n",
       "\\item bowl\n",
       "\\item bowl\n",
       "\\item bowl\n",
       "\\item bowl\n",
       "\\item bowl\n",
       "\\item bowl\n",
       "\\item bowl\n",
       "\\item tray\n",
       "\\item bowl\n",
       "\\item dish\n",
       "\\item plate\n",
       "\\item cass\n",
       "\\item dish\n",
       "\\item dish\n",
       "\\item bowl\n",
       "\\item cass\n",
       "\\item bowl\n",
       "\\item plate\n",
       "\\item tray\n",
       "\\item tray\n",
       "\\item bowl\n",
       "\\item plate\n",
       "\\item bowl\n",
       "\\item tray\n",
       "\\item tray\n",
       "\\item tray\n",
       "\\item bowl\n",
       "\\item tray\n",
       "\\item bowl\n",
       "\\item cass\n",
       "\\item cass\n",
       "\\item dish\n",
       "\\item bowl\n",
       "\\item plate\n",
       "\\item plate\n",
       "\\item plate\n",
       "\\item plate\n",
       "\\item plate\n",
       "\\end{enumerate*}\n",
       "\n",
       "\\emph{Levels}: \\begin{enumerate*}\n",
       "\\item 'bowl'\n",
       "\\item 'cass'\n",
       "\\item 'dish'\n",
       "\\item 'plate'\n",
       "\\item 'tray'\n",
       "\\end{enumerate*}\n"
      ],
      "text/markdown": [
       "1. cass\n",
       "2. cass\n",
       "3. cass\n",
       "4. bowl\n",
       "5. dish\n",
       "6. cass\n",
       "7. tray\n",
       "8. tray\n",
       "9. dish\n",
       "10. dish\n",
       "11. tray\n",
       "12. bowl\n",
       "13. bowl\n",
       "14. bowl\n",
       "15. cass\n",
       "16. cass\n",
       "17. bowl\n",
       "18. bowl\n",
       "19. bowl\n",
       "20. plate\n",
       "21. bowl\n",
       "22. bowl\n",
       "23. bowl\n",
       "24. bowl\n",
       "25. bowl\n",
       "26. bowl\n",
       "27. bowl\n",
       "28. bowl\n",
       "29. tray\n",
       "30. bowl\n",
       "31. dish\n",
       "32. plate\n",
       "33. cass\n",
       "34. dish\n",
       "35. dish\n",
       "36. bowl\n",
       "37. cass\n",
       "38. bowl\n",
       "39. plate\n",
       "40. tray\n",
       "41. tray\n",
       "42. bowl\n",
       "43. plate\n",
       "44. bowl\n",
       "45. tray\n",
       "46. tray\n",
       "47. tray\n",
       "48. bowl\n",
       "49. tray\n",
       "50. bowl\n",
       "51. cass\n",
       "52. cass\n",
       "53. dish\n",
       "54. bowl\n",
       "55. plate\n",
       "56. plate\n",
       "57. plate\n",
       "58. plate\n",
       "59. plate\n",
       "\n",
       "\n",
       "\n",
       "**Levels**: 1. 'bowl'\n",
       "2. 'cass'\n",
       "3. 'dish'\n",
       "4. 'plate'\n",
       "5. 'tray'\n",
       "\n",
       "\n"
      ],
      "text/plain": [
       " [1] cass  cass  cass  bowl  dish  cass  tray  tray  dish  dish  tray  bowl \n",
       "[13] bowl  bowl  cass  cass  bowl  bowl  bowl  plate bowl  bowl  bowl  bowl \n",
       "[25] bowl  bowl  bowl  bowl  tray  bowl  dish  plate cass  dish  dish  bowl \n",
       "[37] cass  bowl  plate tray  tray  bowl  plate bowl  tray  tray  tray  bowl \n",
       "[49] tray  bowl  cass  cass  dish  bowl  plate plate plate plate plate\n",
       "Levels: bowl cass dish plate tray"
      ]
     },
     "metadata": {},
     "output_type": "display_data"
    }
   ],
   "source": [
    "typeF"
   ]
  },
  {
   "cell_type": "code",
   "execution_count": null,
   "metadata": {},
   "outputs": [],
   "source": []
  },
  {
   "cell_type": "code",
   "execution_count": 24,
   "metadata": {},
   "outputs": [
    {
     "data": {
      "image/png": "[encoded data removed]",
      "text/plain": [
       "plot without title"
      ]
     },
     "metadata": {},
     "output_type": "display_data"
    }
   ],
   "source": [
    "plot(diam, time, pch = 16 ,  xlab = \"Diameter (inches)\",  ylab = \"Time(minutes)\")\n",
    "abline(lm(time ~ diam), lty=2,  col=\"red\")"
   ]
  },
  {
   "cell_type": "code",
   "execution_count": 25,
   "metadata": {},
   "outputs": [],
   "source": [
    "# a. Time = B0 + B1(diam) + B2(Type) + e\n",
    "# ref = plate\n",
    "# B2(bowl) + B3(dish) + B4(tray) + B5(plate)\n",
    "\n",
    "# ref = bowl\n",
    "# B2(cass) + B3(dish) + B4(tray) + B5(plate)"
   ]
  },
  {
   "cell_type": "code",
   "execution_count": null,
   "metadata": {},
   "outputs": [],
   "source": []
  },
  {
   "cell_type": "code",
   "execution_count": null,
   "metadata": {},
   "outputs": [],
   "source": []
  },
  {
   "cell_type": "code",
   "execution_count": 26,
   "metadata": {},
   "outputs": [],
   "source": [
    "# Fit the simple linear regression model using diameter as the predictor of time"
   ]
  },
  {
   "cell_type": "code",
   "execution_count": 27,
   "metadata": {},
   "outputs": [
    {
     "data": {
      "text/plain": [
       "\n",
       "Call:\n",
       "lm(formula = time ~ diam)\n",
       "\n",
       "Residuals:\n",
       "    Min      1Q  Median      3Q     Max \n",
       "-28.037  -8.287  -2.705   8.315  43.438 \n",
       "\n",
       "Coefficients:\n",
       "            Estimate Std. Error t value Pr(>|t|)    \n",
       "(Intercept)  -1.9547     5.4020  -0.362    0.719    \n",
       "diam          3.4567     0.4667   7.407 6.67e-10 ***\n",
       "---\n",
       "Signif. codes:  0 '***' 0.001 '**' 0.01 '*' 0.05 '.' 0.1 ' ' 1\n",
       "\n",
       "Residual standard error: 13.69 on 57 degrees of freedom\n",
       "Multiple R-squared:  0.4905,\tAdjusted R-squared:  0.4815 \n",
       "F-statistic: 54.86 on 1 and 57 DF,  p-value: 6.67e-10\n"
      ]
     },
     "metadata": {},
     "output_type": "display_data"
    }
   ],
   "source": [
    "linefitH <- lm(time ~ diam)\n",
    "summary(linefitH)"
   ]
  },
  {
   "cell_type": "code",
   "execution_count": 28,
   "metadata": {},
   "outputs": [],
   "source": [
    "# Categorical - nominal - two predictor model with Diam & Type\n",
    "# Residual standard error: 11.77 on 53 degrees of freedom\n",
    "# Multiple R-squared:  0.6502,\tAdjusted R-squared:  0.6172 \n",
    "# F-statistic: 19.71 on 5 and 53 DF,  p-value: 4.828e-11"
   ]
  },
  {
   "cell_type": "code",
   "execution_count": 29,
   "metadata": {},
   "outputs": [],
   "source": [
    "# Simple linear regression - diameter\n",
    "# Residual standard error: 13.69 on 57 degrees of freedom\n",
    "# Multiple R-squared:  0.4905,\tAdjusted R-squared:  0.4815 \n",
    "# F-statistic: 54.86 on 1 and 57 DF,  p-value: 6.67e-10\n",
    "\n",
    "# ANOVA - time ~ type\n",
    "# 0.374057863396754\n",
    "# 15.5925779314002\n",
    "# 3.56e-05\n",
    "\n",
    "# diameter is better single predictor than type\n",
    "\n",
    "# Predictors - k - R2 - S - Highest p-value\n",
    "# Diam, Type - 5 - 0.65 - 11.8 - 4E-5(Type)\n",
    "# Type(ANOVA) - 4 - 0.37 - 15.6 - 3.6E-5\n",
    "# Diam - 1 - 0.49 - 13.7 - 6.7E-10\n",
    "\n",
    "# Two predictor model wins\n",
    "\n",
    "# (Income)^2"
   ]
  },
  {
   "cell_type": "code",
   "execution_count": 30,
   "metadata": {},
   "outputs": [],
   "source": [
    "# d)Perform the ANOVA using type as a predictor of time"
   ]
  },
  {
   "cell_type": "code",
   "execution_count": 31,
   "metadata": {},
   "outputs": [
    {
     "data": {
      "text/plain": [
       "            Df Sum Sq Mean Sq F value   Pr(>F)    \n",
       "typeF        4   7846  1961.4   8.067 3.56e-05 ***\n",
       "Residuals   54  13129   243.1                     \n",
       "---\n",
       "Signif. codes:  0 '***' 0.001 '**' 0.01 '*' 0.05 '.' 0.1 ' ' 1"
      ]
     },
     "metadata": {},
     "output_type": "display_data"
    }
   ],
   "source": [
    "fitT <- aov(time ~ typeF)\n",
    "summary(fitT)"
   ]
  },
  {
   "cell_type": "code",
   "execution_count": 32,
   "metadata": {},
   "outputs": [
    {
     "data": {
      "text/plain": [
       "Tables of means\n",
       "Grand mean\n",
       "         \n",
       "35.81712 \n",
       "\n",
       " typeF \n",
       "     bowl  cass  dish plate tray\n",
       "    27.12 53.26 35.01 24.19 49.4\n",
       "rep 23.00 10.00  7.00  9.00 10.0"
      ]
     },
     "metadata": {},
     "output_type": "display_data"
    }
   ],
   "source": [
    "model.tables(fitT, \"means\")"
   ]
  },
  {
   "cell_type": "code",
   "execution_count": 33,
   "metadata": {},
   "outputs": [
    {
     "data": {
      "text/plain": [
       "  Tukey multiple comparisons of means\n",
       "    90% family-wise confidence level\n",
       "\n",
       "Fit: aov(formula = time ~ typeF)\n",
       "\n",
       "$typeF\n",
       "                 diff        lwr        upr     p adj\n",
       "cass-bowl   26.132826  11.217775  41.047877 0.0004397\n",
       "dish-bowl    7.887826  -9.109452  24.885104 0.7671569\n",
       "plate-bowl  -2.927729 -18.409531  12.554072 0.9890860\n",
       "tray-bowl   22.280826   7.365775  37.195877 0.0035580\n",
       "dish-cass  -18.245000 -37.649708   1.159708 0.1381402\n",
       "plate-cass -29.060556 -47.152582 -10.968529 0.0014642\n",
       "tray-cass   -3.852000 -21.461486  13.757486 0.9811826\n",
       "plate-dish -10.815556 -30.659198   9.028087 0.6451429\n",
       "tray-dish   14.393000  -5.011708  33.797708 0.3439841\n",
       "tray-plate  25.208556   7.116529  43.300582 0.0076063\n"
      ]
     },
     "metadata": {},
     "output_type": "display_data"
    }
   ],
   "source": [
    "TukeyHSD(fitT, conf.level = .90)"
   ]
  },
  {
   "cell_type": "code",
   "execution_count": 34,
   "metadata": {},
   "outputs": [
    {
     "data": {
      "text/html": [
       "7845.74533664292"
      ],
      "text/latex": [
       "7845.74533664292"
      ],
      "text/markdown": [
       "7845.74533664292"
      ],
      "text/plain": [
       "[1] 7845.745"
      ]
     },
     "metadata": {},
     "output_type": "display_data"
    },
    {
     "data": {
      "text/html": [
       "13128.9382735266"
      ],
      "text/latex": [
       "13128.9382735266"
      ],
      "text/markdown": [
       "13128.9382735266"
      ],
      "text/plain": [
       "[1] 13128.94"
      ]
     },
     "metadata": {},
     "output_type": "display_data"
    },
    {
     "data": {
      "text/html": [
       "0.374057863396754"
      ],
      "text/latex": [
       "0.374057863396754"
      ],
      "text/markdown": [
       "0.374057863396754"
      ],
      "text/plain": [
       "[1] 0.3740579"
      ]
     },
     "metadata": {},
     "output_type": "display_data"
    },
    {
     "data": {
      "text/html": [
       "15.5925779314002"
      ],
      "text/latex": [
       "15.5925779314002"
      ],
      "text/markdown": [
       "15.5925779314002"
      ],
      "text/plain": [
       "[1] 15.59258"
      ]
     },
     "metadata": {},
     "output_type": "display_data"
    }
   ],
   "source": [
    "# SSTreatment\n",
    "anova(fitT)[[\"Sum Sq\"]][1]\n",
    "\n",
    "# SSError\n",
    "anova(fitT)[[\"Sum Sq\"]][2]\n",
    "\n",
    "# R^2\n",
    "(anova(fitT)[[\"Sum Sq\"]][1])/((anova(fitT)[[\"Sum Sq\"]][1])+(anova(fitT)[[\"Sum Sq\"]][2]))\n",
    "\n",
    "# sqrt(MSE)\n",
    "sqrt(anova(fitT)[[\"Sum Sq\"]][2]/fitT$df.residual)"
   ]
  },
  {
   "cell_type": "code",
   "execution_count": 35,
   "metadata": {},
   "outputs": [
    {
     "data": {
      "text/plain": [
       "            Df Sum Sq Mean Sq F value  Pr(>F)   \n",
       "typeF        4    217   54.25   4.549 0.00307 **\n",
       "Residuals   54    644   11.93                   \n",
       "---\n",
       "Signif. codes:  0 '***' 0.001 '**' 0.01 '*' 0.05 '.' 0.1 ' ' 1"
      ]
     },
     "metadata": {},
     "output_type": "display_data"
    }
   ],
   "source": [
    "fitM <- aov(diam ~ typeF)\n",
    "summary(fitM)"
   ]
  },
  {
   "cell_type": "code",
   "execution_count": 36,
   "metadata": {},
   "outputs": [
    {
     "data": {
      "text/html": [
       "0.25203485523433"
      ],
      "text/latex": [
       "0.25203485523433"
      ],
      "text/markdown": [
       "0.25203485523433"
      ],
      "text/plain": [
       "[1] 0.2520349"
      ]
     },
     "metadata": {},
     "output_type": "display_data"
    }
   ],
   "source": [
    "# R^2\n",
    "(anova(fitM)[[\"Sum Sq\"]][1])/((anova(fitM)[[\"Sum Sq\"]][1])+(anova(fitM)[[\"Sum Sq\"]][2]))"
   ]
  },
  {
   "cell_type": "code",
   "execution_count": 37,
   "metadata": {},
   "outputs": [
    {
     "data": {
      "text/plain": [
       "\n",
       "Call:\n",
       "lm(formula = time ~ diam + typeF)\n",
       "\n",
       "Residuals:\n",
       "    Min      1Q  Median      3Q     Max \n",
       "-24.084  -6.949  -1.967   6.149  31.635 \n",
       "\n",
       "Coefficients:\n",
       "            Estimate Std. Error t value Pr(>|t|)    \n",
       "(Intercept)  -1.1880     5.0170  -0.237 0.813728    \n",
       "diam          2.9992     0.4636   6.469 3.22e-08 ***\n",
       "typeFcass    16.9825     4.6756   3.632 0.000634 ***\n",
       "typeFdish     9.5477     5.0851   1.878 0.065949 .  \n",
       "typeFplate   -7.1759     4.6722  -1.536 0.130520    \n",
       "typeFtray     7.7619     4.9898   1.556 0.125763    \n",
       "---\n",
       "Signif. codes:  0 '***' 0.001 '**' 0.01 '*' 0.05 '.' 0.1 ' ' 1\n",
       "\n",
       "Residual standard error: 11.77 on 53 degrees of freedom\n",
       "Multiple R-squared:  0.6502,\tAdjusted R-squared:  0.6172 \n",
       "F-statistic: 19.71 on 5 and 53 DF,  p-value: 4.828e-11\n"
      ]
     },
     "metadata": {},
     "output_type": "display_data"
    }
   ],
   "source": [
    "linefitHT <- lm(time ~ diam + typeF)\n",
    "summary(linefitHT)"
   ]
  },
  {
   "cell_type": "code",
   "execution_count": 38,
   "metadata": {},
   "outputs": [
    {
     "data": {
      "text/plain": [
       "\n",
       "Call:\n",
       "lm(formula = polish2$time ~ polish2$diam + polish2$typeF)\n",
       "\n",
       "Residuals:\n",
       "    Min      1Q  Median      3Q     Max \n",
       "-24.084  -6.949  -1.967   6.149  31.635 \n",
       "\n",
       "Coefficients:\n",
       "                   Estimate Std. Error t value Pr(>|t|)    \n",
       "(Intercept)         15.7945     6.8830   2.295 0.025738 *  \n",
       "polish2$diam         2.9992     0.4636   6.469 3.22e-08 ***\n",
       "polish2$typeFbowl  -16.9825     4.6756  -3.632 0.000634 ***\n",
       "polish2$typeFdish   -7.4349     6.0340  -1.232 0.223325    \n",
       "polish2$typeFplate -24.1585     5.4586  -4.426 4.82e-05 ***\n",
       "polish2$typeFtray   -9.2206     5.3266  -1.731 0.089262 .  \n",
       "---\n",
       "Signif. codes:  0 '***' 0.001 '**' 0.01 '*' 0.05 '.' 0.1 ' ' 1\n",
       "\n",
       "Residual standard error: 11.77 on 53 degrees of freedom\n",
       "Multiple R-squared:  0.6502,\tAdjusted R-squared:  0.6172 \n",
       "F-statistic: 19.71 on 5 and 53 DF,  p-value: 4.828e-11\n"
      ]
     },
     "metadata": {},
     "output_type": "display_data"
    }
   ],
   "source": [
    "polish2 <- polish\n",
    "polish2 <- within(polish2, typeF <- relevel(typeF, ref = 2))\n",
    "linefitHTalt <- lm(polish2$time ~ polish2$diam + polish2$typeF)\n",
    "summary(linefitHTalt)"
   ]
  },
  {
   "cell_type": "code",
   "execution_count": 39,
   "metadata": {},
   "outputs": [
    {
     "data": {
      "text/plain": [
       "\n",
       "Call:\n",
       "lm(formula = polish2$time ~ polish2$diam + polish2$typeF)\n",
       "\n",
       "Residuals:\n",
       "    Min      1Q  Median      3Q     Max \n",
       "-24.084  -6.949  -1.967   6.149  31.635 \n",
       "\n",
       "Coefficients:\n",
       "                   Estimate Std. Error t value Pr(>|t|)    \n",
       "(Intercept)          6.5739     7.5945   0.866   0.3906    \n",
       "polish2$diam         2.9992     0.4636   6.469 3.22e-08 ***\n",
       "polish2$typeFbowl   -7.7619     4.9898  -1.556   0.1258    \n",
       "polish2$typeFcass    9.2206     5.3266   1.731   0.0893 .  \n",
       "polish2$typeFdish    1.7857     6.3144   0.283   0.7784    \n",
       "polish2$typeFplate -14.9378     5.6341  -2.651   0.0106 *  \n",
       "---\n",
       "Signif. codes:  0 '***' 0.001 '**' 0.01 '*' 0.05 '.' 0.1 ' ' 1\n",
       "\n",
       "Residual standard error: 11.77 on 53 degrees of freedom\n",
       "Multiple R-squared:  0.6502,\tAdjusted R-squared:  0.6172 \n",
       "F-statistic: 19.71 on 5 and 53 DF,  p-value: 4.828e-11\n"
      ]
     },
     "metadata": {},
     "output_type": "display_data"
    }
   ],
   "source": [
    "polish2 <- polish\n",
    "polish2 <- within(polish2, typeF <- relevel(typeF, ref = 5))\n",
    "linefitHTalt <- lm(polish2$time ~ polish2$diam + polish2$typeF)\n",
    "summary(linefitHTalt)"
   ]
  },
  {
   "cell_type": "code",
   "execution_count": 40,
   "metadata": {},
   "outputs": [],
   "source": [
    "# intercept - there is no plate that has zero diameter\n",
    "# on average, a bowl takes 7.1759 minutes longer than plate"
   ]
  },
  {
   "cell_type": "code",
   "execution_count": 41,
   "metadata": {},
   "outputs": [
    {
     "data": {
      "text/plain": [
       "\n",
       "Call:\n",
       "lm(formula = polish2$time ~ polish2$diam + polish2$typeF)\n",
       "\n",
       "Residuals:\n",
       "    Min      1Q  Median      3Q     Max \n",
       "-24.084  -6.949  -1.967   6.149  31.635 \n",
       "\n",
       "Coefficients:\n",
       "                   Estimate Std. Error t value Pr(>|t|)    \n",
       "(Intercept)         -1.1880     5.0170  -0.237 0.813728    \n",
       "polish2$diam         2.9992     0.4636   6.469 3.22e-08 ***\n",
       "polish2$typeFcass   16.9825     4.6756   3.632 0.000634 ***\n",
       "polish2$typeFdish    9.5477     5.0851   1.878 0.065949 .  \n",
       "polish2$typeFplate  -7.1759     4.6722  -1.536 0.130520    \n",
       "polish2$typeFtray    7.7619     4.9898   1.556 0.125763    \n",
       "---\n",
       "Signif. codes:  0 '***' 0.001 '**' 0.01 '*' 0.05 '.' 0.1 ' ' 1\n",
       "\n",
       "Residual standard error: 11.77 on 53 degrees of freedom\n",
       "Multiple R-squared:  0.6502,\tAdjusted R-squared:  0.6172 \n",
       "F-statistic: 19.71 on 5 and 53 DF,  p-value: 4.828e-11\n"
      ]
     },
     "metadata": {},
     "output_type": "display_data"
    }
   ],
   "source": [
    "polish2 <- polish\n",
    "polish2 <- within(polish2, typeF <- relevel(typeF, ref =1))\n",
    "linefitHTalt <- lm(polish2$time ~ polish2$diam + polish2$typeF)\n",
    "summary(linefitHTalt)"
   ]
  },
  {
   "cell_type": "code",
   "execution_count": 42,
   "metadata": {},
   "outputs": [
    {
     "data": {
      "text/plain": [
       "\n",
       "Call:\n",
       "lm(formula = polish2$time ~ polish2$diam + polish2$typeF)\n",
       "\n",
       "Residuals:\n",
       "    Min      1Q  Median      3Q     Max \n",
       "-24.084  -6.949  -1.967   6.149  31.635 \n",
       "\n",
       "Coefficients:\n",
       "                   Estimate Std. Error t value Pr(>|t|)    \n",
       "(Intercept)         15.7945     6.8830   2.295 0.025738 *  \n",
       "polish2$diam         2.9992     0.4636   6.469 3.22e-08 ***\n",
       "polish2$typeFbowl  -16.9825     4.6756  -3.632 0.000634 ***\n",
       "polish2$typeFdish   -7.4349     6.0340  -1.232 0.223325    \n",
       "polish2$typeFplate -24.1585     5.4586  -4.426 4.82e-05 ***\n",
       "polish2$typeFtray   -9.2206     5.3266  -1.731 0.089262 .  \n",
       "---\n",
       "Signif. codes:  0 '***' 0.001 '**' 0.01 '*' 0.05 '.' 0.1 ' ' 1\n",
       "\n",
       "Residual standard error: 11.77 on 53 degrees of freedom\n",
       "Multiple R-squared:  0.6502,\tAdjusted R-squared:  0.6172 \n",
       "F-statistic: 19.71 on 5 and 53 DF,  p-value: 4.828e-11\n"
      ]
     },
     "metadata": {},
     "output_type": "display_data"
    }
   ],
   "source": [
    "polish2 <- polish\n",
    "polish2 <- within(polish2, typeF <- relevel(typeF, ref = 2))\n",
    "linefitHTalt <- lm(polish2$time ~ polish2$diam + polish2$typeF)\n",
    "summary(linefitHTalt)"
   ]
  },
  {
   "cell_type": "code",
   "execution_count": 43,
   "metadata": {},
   "outputs": [
    {
     "data": {
      "text/plain": [
       "\n",
       "Call:\n",
       "lm(formula = polish2$time ~ polish2$diam + polish2$typeF)\n",
       "\n",
       "Residuals:\n",
       "    Min      1Q  Median      3Q     Max \n",
       "-24.084  -6.949  -1.967   6.149  31.635 \n",
       "\n",
       "Coefficients:\n",
       "                   Estimate Std. Error t value Pr(>|t|)    \n",
       "(Intercept)          8.3596     6.0619   1.379  0.17367    \n",
       "polish2$diam         2.9992     0.4636   6.469 3.22e-08 ***\n",
       "polish2$typeFbowl   -9.5477     5.0851  -1.878  0.06595 .  \n",
       "polish2$typeFcass    7.4349     6.0340   1.232  0.22332    \n",
       "polish2$typeFplate -16.7236     5.9991  -2.788  0.00735 ** \n",
       "polish2$typeFtray   -1.7857     6.3144  -0.283  0.77843    \n",
       "---\n",
       "Signif. codes:  0 '***' 0.001 '**' 0.01 '*' 0.05 '.' 0.1 ' ' 1\n",
       "\n",
       "Residual standard error: 11.77 on 53 degrees of freedom\n",
       "Multiple R-squared:  0.6502,\tAdjusted R-squared:  0.6172 \n",
       "F-statistic: 19.71 on 5 and 53 DF,  p-value: 4.828e-11\n"
      ]
     },
     "metadata": {},
     "output_type": "display_data"
    }
   ],
   "source": [
    "polish2 <- polish\n",
    "polish2 <- within(polish2, typeF <- relevel(typeF, ref = 3))\n",
    "linefitHTalt <- lm(polish2$time ~ polish2$diam + polish2$typeF)\n",
    "summary(linefitHTalt)"
   ]
  },
  {
   "cell_type": "code",
   "execution_count": 44,
   "metadata": {},
   "outputs": [
    {
     "data": {
      "text/plain": [
       "\n",
       "Call:\n",
       "lm(formula = polish2$time ~ polish2$diam + polish2$typeF)\n",
       "\n",
       "Residuals:\n",
       "    Min      1Q  Median      3Q     Max \n",
       "-24.084  -6.949  -1.967   6.149  31.635 \n",
       "\n",
       "Coefficients:\n",
       "                  Estimate Std. Error t value Pr(>|t|)    \n",
       "(Intercept)        -8.3639     6.3805  -1.311  0.19556    \n",
       "polish2$diam        2.9992     0.4636   6.469 3.22e-08 ***\n",
       "polish2$typeFbowl   7.1759     4.6722   1.536  0.13052    \n",
       "polish2$typeFcass  24.1585     5.4586   4.426 4.82e-05 ***\n",
       "polish2$typeFdish  16.7236     5.9991   2.788  0.00735 ** \n",
       "polish2$typeFtray  14.9378     5.6341   2.651  0.01055 *  \n",
       "---\n",
       "Signif. codes:  0 '***' 0.001 '**' 0.01 '*' 0.05 '.' 0.1 ' ' 1\n",
       "\n",
       "Residual standard error: 11.77 on 53 degrees of freedom\n",
       "Multiple R-squared:  0.6502,\tAdjusted R-squared:  0.6172 \n",
       "F-statistic: 19.71 on 5 and 53 DF,  p-value: 4.828e-11\n"
      ]
     },
     "metadata": {},
     "output_type": "display_data"
    }
   ],
   "source": [
    "polish2 <- polish\n",
    "polish2 <- within(polish2, typeF <- relevel(typeF, ref = 4))\n",
    "linefitHTalt <- lm(polish2$time ~ polish2$diam + polish2$typeF)\n",
    "summary(linefitHTalt)"
   ]
  },
  {
   "cell_type": "code",
   "execution_count": null,
   "metadata": {},
   "outputs": [],
   "source": []
  },
  {
   "cell_type": "code",
   "execution_count": null,
   "metadata": {},
   "outputs": [],
   "source": []
  },
  {
   "cell_type": "code",
   "execution_count": null,
   "metadata": {},
   "outputs": [],
   "source": []
  },
  {
   "cell_type": "code",
   "execution_count": 45,
   "metadata": {},
   "outputs": [
    {
     "data": {
      "text/plain": [
       "  Tukey multiple comparisons of means\n",
       "    90% family-wise confidence level\n",
       "\n",
       "Fit: aov(formula = time ~ typeF)\n",
       "\n",
       "$typeF\n",
       "                 diff        lwr        upr     p adj\n",
       "cass-bowl   26.132826  11.217775  41.047877 0.0004397\n",
       "dish-bowl    7.887826  -9.109452  24.885104 0.7671569\n",
       "plate-bowl  -2.927729 -18.409531  12.554072 0.9890860\n",
       "tray-bowl   22.280826   7.365775  37.195877 0.0035580\n",
       "dish-cass  -18.245000 -37.649708   1.159708 0.1381402\n",
       "plate-cass -29.060556 -47.152582 -10.968529 0.0014642\n",
       "tray-cass   -3.852000 -21.461486  13.757486 0.9811826\n",
       "plate-dish -10.815556 -30.659198   9.028087 0.6451429\n",
       "tray-dish   14.393000  -5.011708  33.797708 0.3439841\n",
       "tray-plate  25.208556   7.116529  43.300582 0.0076063\n"
      ]
     },
     "metadata": {},
     "output_type": "display_data"
    }
   ],
   "source": [
    "TukeyHSD(fitT, conf.level = .90)"
   ]
  },
  {
   "cell_type": "code",
   "execution_count": 46,
   "metadata": {},
   "outputs": [
    {
     "data": {
      "text/plain": [
       "\n",
       "Call:\n",
       "lm(formula = polish$time ~ polish$diam * polish$typeF)\n",
       "\n",
       "Residuals:\n",
       "    Min      1Q  Median      3Q     Max \n",
       "-20.453  -5.953  -2.592   5.009  32.862 \n",
       "\n",
       "Coefficients:\n",
       "                              Estimate Std. Error t value Pr(>|t|)   \n",
       "(Intercept)                   17.41075   12.21709   1.425  0.16046   \n",
       "polish$diam                    0.62491    1.07514   0.581  0.56375   \n",
       "polish$typeFbowl             -10.62474   14.56155  -0.730  0.46908   \n",
       "polish$typeFcass              28.41439   26.54669   1.070  0.28970   \n",
       "polish$typeFdish             -22.84067   21.29184  -1.073  0.28864   \n",
       "polish$typeFtray             -31.39773   15.55788  -2.018  0.04907 * \n",
       "polish$diam:polish$typeFbowl   1.52955    1.34287   1.139  0.26024   \n",
       "polish$diam:polish$typeFcass  -0.03004    2.15439  -0.014  0.98893   \n",
       "polish$diam:polish$typeFdish   3.92621    2.18973   1.793  0.07914 . \n",
       "polish$diam:polish$typeFtray   3.81417    1.24636   3.060  0.00358 **\n",
       "---\n",
       "Signif. codes:  0 '***' 0.001 '**' 0.01 '*' 0.05 '.' 0.1 ' ' 1\n",
       "\n",
       "Residual standard error: 10.83 on 49 degrees of freedom\n",
       "Multiple R-squared:  0.7258,\tAdjusted R-squared:  0.6755 \n",
       "F-statistic: 14.41 on 9 and 49 DF,  p-value: 4.96e-11\n"
      ]
     },
     "metadata": {},
     "output_type": "display_data"
    }
   ],
   "source": [
    "polish <- within(polish, typeF <- relevel(typeF, ref = 'plate'))\n",
    "linefitHT2 <- lm(polish$time ~ polish$diam * polish$typeF)\n",
    "summary(linefitHT2)"
   ]
  },
  {
   "cell_type": "code",
   "execution_count": 49,
   "metadata": {},
   "outputs": [],
   "source": [
    "library(ggplot2)"
   ]
  },
  {
   "cell_type": "code",
   "execution_count": 50,
   "metadata": {},
   "outputs": [
    {
     "data": {
      "image/png": "[encoded data removed]",
      "text/plain": [
       "plot without title"
      ]
     },
     "metadata": {},
     "output_type": "display_data"
    }
   ],
   "source": [
    "interaction.plot(polish$diam, polish$typeF, polish$time)"
   ]
  },
  {
   "cell_type": "code",
   "execution_count": 51,
   "metadata": {},
   "outputs": [
    {
     "data": {},
     "metadata": {},
     "output_type": "display_data"
    },
    {
     "data": {
      "image/png": "[encoded data removed]",
      "text/plain": [
       "plot without title"
      ]
     },
     "metadata": {},
     "output_type": "display_data"
    }
   ],
   "source": [
    "ggplot(polish, aes(x =diam, y=time, color = typeF)) +geom_point() +    geom_smooth(method = \"lm\",  se=F)"
   ]
  },
  {
   "cell_type": "code",
   "execution_count": null,
   "metadata": {},
   "outputs": [],
   "source": []
  },
  {
   "cell_type": "code",
   "execution_count": null,
   "metadata": {},
   "outputs": [],
   "source": []
  },
  {
   "cell_type": "code",
   "execution_count": null,
   "metadata": {},
   "outputs": [],
   "source": [
    "# s = 10.83\n",
    "# r^2 = 0.7258\n",
    "# F(9, 49) = 14.41, p-value = 4.96e-11"
   ]
  },
  {
   "cell_type": "code",
   "execution_count": null,
   "metadata": {},
   "outputs": [],
   "source": [
    "# H0: B1 = B2 = 0; no relationship with either predictor\n",
    "# Ha: at least 1 non zero; at least one of them has a relationship"
   ]
  },
  {
   "cell_type": "code",
   "execution_count": null,
   "metadata": {},
   "outputs": [],
   "source": []
  },
  {
   "cell_type": "code",
   "execution_count": 57,
   "metadata": {},
   "outputs": [],
   "source": [
    "detach(polish)"
   ]
  },
  {
   "cell_type": "code",
   "execution_count": null,
   "metadata": {},
   "outputs": [],
   "source": []
  },
  {
   "cell_type": "code",
   "execution_count": null,
   "metadata": {},
   "outputs": [],
   "source": []
  },
  {
   "cell_type": "code",
   "execution_count": null,
   "metadata": {},
   "outputs": [],
   "source": []
  },
  {
   "cell_type": "code",
   "execution_count": null,
   "metadata": {},
   "outputs": [],
   "source": []
  },
  {
   "cell_type": "code",
   "execution_count": null,
   "metadata": {},
   "outputs": [],
   "source": []
  }
 ],
 "metadata": {
  "kernelspec": {
   "display_name": "R",
   "language": "R",
   "name": "ir"
  },
  "language_info": {
   "codemirror_mode": "r",
   "file_extension": ".r",
   "mimetype": "text/x-r-source",
   "name": "R",
   "pygments_lexer": "r",
   "version": "3.5.1"
  }
 },
 "nbformat": 4,
 "nbformat_minor": 2
}
