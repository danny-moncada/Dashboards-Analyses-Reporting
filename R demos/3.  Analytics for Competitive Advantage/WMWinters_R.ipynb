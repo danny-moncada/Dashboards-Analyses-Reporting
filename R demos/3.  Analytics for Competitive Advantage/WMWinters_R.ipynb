{
 "cells": [
  {
   "cell_type": "code",
   "execution_count": 1,
   "metadata": {},
   "outputs": [],
   "source": [
    "library(readxl)\n",
    "wmwinters <- read_excel(\"WM+Winters+Attribution+Data.xlsx\", na = \"NA\", col_names = TRUE)"
   ]
  },
  {
   "cell_type": "code",
   "execution_count": 4,
   "metadata": {},
   "outputs": [],
   "source": [
    "attach(wmwinters)"
   ]
  },
  {
   "cell_type": "code",
   "execution_count": 5,
   "metadata": {},
   "outputs": [
    {
     "data": {
      "text/plain": [
       "    Orderid         Orderdatetime                   Saleamount     \n",
       " Min.   :11634052   Min.   :2012-05-01 04:04:00   Min.   :  19.09  \n",
       " 1st Qu.:11666533   1st Qu.:2012-05-08 03:08:00   1st Qu.: 160.20  \n",
       " Median :11702134   Median :2012-05-16 04:25:00   Median : 239.31  \n",
       " Mean   :11701689   Mean   :2012-05-15 18:27:43   Mean   : 238.34  \n",
       " 3rd Qu.:11729875   3rd Qu.:2012-05-22 00:15:00   3rd Qu.: 326.92  \n",
       " Max.   :11777540   Max.   :2012-06-01 03:57:00   Max.   :1402.09  \n",
       " Newcustomer           Position     Positiondatetime             \n",
       " Length:10119       Min.   :0.000   Min.   :2011-10-29 15:09:00  \n",
       " Class :character   1st Qu.:1.000   1st Qu.:2012-05-02 17:45:00  \n",
       " Mode  :character   Median :2.000   Median :2012-05-11 22:34:00  \n",
       "                    Mean   :2.406   Mean   :2012-05-03 16:39:54  \n",
       "                    3rd Qu.:4.000   3rd Qu.:2012-05-18 21:19:00  \n",
       "                    Max.   :9.000   Max.   :2012-06-01 03:32:00  \n",
       "  Groupname         Networkname         Networkid            Brand          \n",
       " Length:10119       Length:10119       Length:10119       Length:10119      \n",
       " Class :character   Class :character   Class :character   Class :character  \n",
       " Mode  :character   Mode  :character   Mode  :character   Mode  :character  \n",
       "                                                                            \n",
       "                                                                            \n",
       "                                                                            \n",
       " Positionname       Orderdatetime__1               Positiontime                \n",
       " Length:10119       Min.   :2012-05-01 04:04:00   Min.   :2011-10-29 15:09:00  \n",
       " Class :character   1st Qu.:2012-05-08 03:08:00   1st Qu.:2012-05-02 17:45:00  \n",
       " Mode  :character   Median :2012-05-16 04:25:00   Median :2012-05-11 22:34:00  \n",
       "                    Mean   :2012-05-15 18:27:43   Mean   :2012-05-03 16:39:54  \n",
       "                    3rd Qu.:2012-05-22 00:15:00   3rd Qu.:2012-05-18 21:19:00  \n",
       "                    Max.   :2012-06-01 03:57:00   Max.   :2012-06-01 03:32:00  \n",
       " Time to Convert (Days)\n",
       " Min.   :  0.00        \n",
       " 1st Qu.:  0.00        \n",
       " Median :  0.00        \n",
       " Mean   : 11.94        \n",
       " 3rd Qu.:  6.00        \n",
       " Max.   :198.00        "
      ]
     },
     "metadata": {},
     "output_type": "display_data"
    }
   ],
   "source": [
    "summary(wmwinters)"
   ]
  },
  {
   "cell_type": "code",
   "execution_count": 15,
   "metadata": {},
   "outputs": [],
   "source": [
    "sales.table <- (unique(Saleamount))"
   ]
  },
  {
   "cell_type": "code",
   "execution_count": 18,
   "metadata": {},
   "outputs": [
    {
     "data": {
      "image/png": "[encoded data removed]",
      "text/plain": [
       "Plot with title \"Histogram of sales.table\""
      ]
     },
     "metadata": {},
     "output_type": "display_data"
    }
   ],
   "source": [
    "hist(sales.table)"
   ]
  },
  {
   "cell_type": "code",
   "execution_count": null,
   "metadata": {},
   "outputs": [],
   "source": []
  },
  {
   "cell_type": "code",
   "execution_count": null,
   "metadata": {},
   "outputs": [],
   "source": []
  },
  {
   "cell_type": "code",
   "execution_count": null,
   "metadata": {},
   "outputs": [],
   "source": []
  },
  {
   "cell_type": "code",
   "execution_count": null,
   "metadata": {},
   "outputs": [],
   "source": []
  },
  {
   "cell_type": "code",
   "execution_count": null,
   "metadata": {},
   "outputs": [],
   "source": []
  },
  {
   "cell_type": "code",
   "execution_count": null,
   "metadata": {},
   "outputs": [],
   "source": []
  },
  {
   "cell_type": "code",
   "execution_count": null,
   "metadata": {},
   "outputs": [],
   "source": []
  },
  {
   "cell_type": "code",
   "execution_count": null,
   "metadata": {},
   "outputs": [],
   "source": []
  },
  {
   "cell_type": "code",
   "execution_count": null,
   "metadata": {},
   "outputs": [],
   "source": []
  }
 ],
 "metadata": {
  "kernelspec": {
   "display_name": "R",
   "language": "R",
   "name": "ir"
  },
  "language_info": {
   "codemirror_mode": "r",
   "file_extension": ".r",
   "mimetype": "text/x-r-source",
   "name": "R",
   "pygments_lexer": "r",
   "version": "3.5.1"
  }
 },
 "nbformat": 4,
 "nbformat_minor": 2
}
