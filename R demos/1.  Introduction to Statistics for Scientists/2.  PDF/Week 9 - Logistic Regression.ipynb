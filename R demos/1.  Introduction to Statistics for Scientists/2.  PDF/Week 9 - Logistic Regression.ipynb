{
 "cells": [
  {
   "cell_type": "code",
   "execution_count": null,
   "metadata": {},
   "outputs": [],
   "source": [
    "# install.packages('pscl', repos='http://cran.us.r-project.org')"
   ]
  },
  {
   "cell_type": "code",
   "execution_count": 14,
   "metadata": {},
   "outputs": [],
   "source": [
    "library(readxl)\n",
    "library(pscl)\n",
    "library(ggplot2)"
   ]
  },
  {
   "cell_type": "code",
   "execution_count": 5,
   "metadata": {},
   "outputs": [],
   "source": [
    "perform <- read_excel(\"Performance.xlsx\", na = \"NA\", col_names = TRUE)\n",
    "attach(perform)"
   ]
  },
  {
   "cell_type": "code",
   "execution_count": 6,
   "metadata": {},
   "outputs": [
    {
     "data": {
      "text/html": [
       "<table>\n",
       "<thead><tr><th scope=col>Group</th><th scope=col>Test1</th><th scope=col>Test2</th></tr></thead>\n",
       "<tbody>\n",
       "\t<tr><td>1 </td><td>96</td><td>85</td></tr>\n",
       "\t<tr><td>1 </td><td>96</td><td>88</td></tr>\n",
       "\t<tr><td>1 </td><td>91</td><td>81</td></tr>\n",
       "\t<tr><td>1 </td><td>95</td><td>78</td></tr>\n",
       "\t<tr><td>1 </td><td>92</td><td>85</td></tr>\n",
       "\t<tr><td>1 </td><td>93</td><td>87</td></tr>\n",
       "</tbody>\n",
       "</table>\n"
      ],
      "text/latex": [
       "\\begin{tabular}{r|lll}\n",
       " Group & Test1 & Test2\\\\\n",
       "\\hline\n",
       "\t 1  & 96 & 85\\\\\n",
       "\t 1  & 96 & 88\\\\\n",
       "\t 1  & 91 & 81\\\\\n",
       "\t 1  & 95 & 78\\\\\n",
       "\t 1  & 92 & 85\\\\\n",
       "\t 1  & 93 & 87\\\\\n",
       "\\end{tabular}\n"
      ],
      "text/markdown": [
       "\n",
       "Group | Test1 | Test2 | \n",
       "|---|---|---|---|---|---|\n",
       "| 1  | 96 | 85 | \n",
       "| 1  | 96 | 88 | \n",
       "| 1  | 91 | 81 | \n",
       "| 1  | 95 | 78 | \n",
       "| 1  | 92 | 85 | \n",
       "| 1  | 93 | 87 | \n",
       "\n",
       "\n"
      ],
      "text/plain": [
       "  Group Test1 Test2\n",
       "1 1     96    85   \n",
       "2 1     96    88   \n",
       "3 1     91    81   \n",
       "4 1     95    78   \n",
       "5 1     92    85   \n",
       "6 1     93    87   "
      ]
     },
     "metadata": {},
     "output_type": "display_data"
    },
    {
     "data": {
      "text/html": [
       "<table>\n",
       "<thead><tr><th scope=col>Group</th><th scope=col>Test1</th><th scope=col>Test2</th></tr></thead>\n",
       "<tbody>\n",
       "\t<tr><td>0 </td><td>81</td><td>77</td></tr>\n",
       "\t<tr><td>0 </td><td>86</td><td>76</td></tr>\n",
       "\t<tr><td>0 </td><td>81</td><td>84</td></tr>\n",
       "\t<tr><td>0 </td><td>85</td><td>78</td></tr>\n",
       "\t<tr><td>0 </td><td>83</td><td>77</td></tr>\n",
       "\t<tr><td>0 </td><td>81</td><td>71</td></tr>\n",
       "</tbody>\n",
       "</table>\n"
      ],
      "text/latex": [
       "\\begin{tabular}{r|lll}\n",
       " Group & Test1 & Test2\\\\\n",
       "\\hline\n",
       "\t 0  & 81 & 77\\\\\n",
       "\t 0  & 86 & 76\\\\\n",
       "\t 0  & 81 & 84\\\\\n",
       "\t 0  & 85 & 78\\\\\n",
       "\t 0  & 83 & 77\\\\\n",
       "\t 0  & 81 & 71\\\\\n",
       "\\end{tabular}\n"
      ],
      "text/markdown": [
       "\n",
       "Group | Test1 | Test2 | \n",
       "|---|---|---|---|---|---|\n",
       "| 0  | 81 | 77 | \n",
       "| 0  | 86 | 76 | \n",
       "| 0  | 81 | 84 | \n",
       "| 0  | 85 | 78 | \n",
       "| 0  | 83 | 77 | \n",
       "| 0  | 81 | 71 | \n",
       "\n",
       "\n"
      ],
      "text/plain": [
       "  Group Test1 Test2\n",
       "1 0     81    77   \n",
       "2 0     86    76   \n",
       "3 0     81    84   \n",
       "4 0     85    78   \n",
       "5 0     83    77   \n",
       "6 0     81    71   "
      ]
     },
     "metadata": {},
     "output_type": "display_data"
    }
   ],
   "source": [
    "head(perform)\n",
    "tail(perform)"
   ]
  },
  {
   "cell_type": "code",
   "execution_count": null,
   "metadata": {},
   "outputs": [],
   "source": [
    "# A.  Conduct a logistic regression using Group as the response variable"
   ]
  },
  {
   "cell_type": "code",
   "execution_count": 7,
   "metadata": {},
   "outputs": [
    {
     "data": {
      "text/plain": [
       "\n",
       "Call:\n",
       "glm(formula = Group ~ Test1 + Test2, family = binomial)\n",
       "\n",
       "Deviance Residuals: \n",
       "     Min        1Q    Median        3Q       Max  \n",
       "-1.71351  -0.38655   0.08569   0.41059   1.72091  \n",
       "\n",
       "Coefficients:\n",
       "            Estimate Std. Error z value Pr(>|z|)   \n",
       "(Intercept) -56.1704    17.4524  -3.218  0.00129 **\n",
       "Test1         0.4833     0.1578   3.063  0.00219 **\n",
       "Test2         0.1652     0.1021   1.619  0.10553   \n",
       "---\n",
       "Signif. codes:  0 '***' 0.001 '**' 0.01 '*' 0.05 '.' 0.1 ' ' 1\n",
       "\n",
       "(Dispersion parameter for binomial family taken to be 1)\n",
       "\n",
       "    Null deviance: 59.401  on 42  degrees of freedom\n",
       "Residual deviance: 27.918  on 40  degrees of freedom\n",
       "AIC: 33.918\n",
       "\n",
       "Number of Fisher Scoring iterations: 6\n"
      ]
     },
     "metadata": {},
     "output_type": "display_data"
    }
   ],
   "source": [
    "modelfit <- glm(Group ~ Test1 + Test2, family = binomial)\n",
    "summary(modelfit)"
   ]
  },
  {
   "cell_type": "code",
   "execution_count": 9,
   "metadata": {},
   "outputs": [
    {
     "name": "stdout",
     "output_type": "stream",
     "text": [
      "        llh     llhNull          G2    McFadden        r2ML        r2CU \n",
      "-13.9590129 -29.7005925  31.4831592   0.5300089   0.5191339   0.6933071 \n"
     ]
    }
   ],
   "source": [
    "print(pR2(modelfit))"
   ]
  },
  {
   "cell_type": "code",
   "execution_count": null,
   "metadata": {},
   "outputs": [],
   "source": [
    "# there is a .2% chance of obtaining this B1 if there is no relationship between Test1 and what Group \n",
    "# There is a 11% chance of obtainng B2 if there is no relationship between Test2 and what Group the employee is in"
   ]
  },
  {
   "cell_type": "code",
   "execution_count": null,
   "metadata": {},
   "outputs": [],
   "source": [
    "# B. Does the model indicate a relationship between success and the two tests?  Do both tests contribute to explaining performance?\n",
    "# Yes, the model indicates a relationship between success and the two tests.  However, only test 1 is a valid predictor; test2 does \n",
    "# not really factor into success"
   ]
  },
  {
   "cell_type": "code",
   "execution_count": 17,
   "metadata": {},
   "outputs": [
    {
     "data": {
      "image/png": "[encoded data removed]",
      "text/plain": [
       "plot without title"
      ]
     },
     "metadata": {},
     "output_type": "display_data"
    }
   ],
   "source": [
    "boxplot(Test1 ~ Group)"
   ]
  },
  {
   "cell_type": "code",
   "execution_count": 18,
   "metadata": {},
   "outputs": [
    {
     "data": {
      "image/png": "[encoded data removed]",
      "text/plain": [
       "plot without title"
      ]
     },
     "metadata": {},
     "output_type": "display_data"
    }
   ],
   "source": [
    "boxplot(Test2 ~ Group)"
   ]
  },
  {
   "cell_type": "code",
   "execution_count": 47,
   "metadata": {},
   "outputs": [
    {
     "name": "stdout",
     "output_type": "stream",
     "text": [
      "[1] 79 99\n",
      "[1] 70 96\n"
     ]
    }
   ],
   "source": [
    "print(range(Test1))\n",
    "print(range(Test2))"
   ]
  },
  {
   "cell_type": "code",
   "execution_count": 38,
   "metadata": {},
   "outputs": [],
   "source": [
    "modelfit <- glm(Group ~ Test1, family = binomial)\n",
    "xtest1 <- seq(75, 100, 1)\n",
    "ytest1 <- predict(modelfit, list(Test1 = xtest1),type=\"response\")"
   ]
  },
  {
   "cell_type": "code",
   "execution_count": 42,
   "metadata": {},
   "outputs": [
    {
     "data": {
      "image/png": "[encoded data removed]",
      "text/plain": [
       "plot without title"
      ]
     },
     "metadata": {},
     "output_type": "display_data"
    }
   ],
   "source": [
    "plot(Test1, Group, pch = 16, xlab = \"Test1 Scores\", ylab = \"Group\")\n",
    "lines(xtest1, ytest1, col=\"red\")"
   ]
  },
  {
   "cell_type": "code",
   "execution_count": 46,
   "metadata": {},
   "outputs": [
    {
     "data": {
      "image/png": "[encoded data removed]",
      "text/plain": [
       "plot without title"
      ]
     },
     "metadata": {},
     "output_type": "display_data"
    }
   ],
   "source": [
    "modelfit2 <- glm(Group ~ Test2, family = binomial)\n",
    "xtest2 <- seq(65, 100, 1)\n",
    "ytest2 <- predict(modelfit2, list(Test2 = xtest2),type=\"response\")\n",
    "\n",
    "plot(Test2, Group, pch = 16, xlab = \"Test2 Scores\", ylab = \"Group\")\n",
    "lines(xtest2, ytest2, col=\"red\")"
   ]
  },
  {
   "cell_type": "code",
   "execution_count": null,
   "metadata": {},
   "outputs": [],
   "source": [
    "# C. Use the model to estimate the probability of success for employees who score:\n",
    "# 93 on Test 1 and 84 on Test 2\n",
    "# 93% probability an employee will be successful if they score a 93 on Test 1 and an 84 on Test 2, if in fact the sample reflects the \n",
    "# Y = 1"
   ]
  },
  {
   "cell_type": "code",
   "execution_count": 10,
   "metadata": {},
   "outputs": [
    {
     "data": {
      "text/html": [
       "<strong>1:</strong> 0.934389529993572"
      ],
      "text/latex": [
       "\\textbf{1:} 0.934389529993572"
      ],
      "text/markdown": [
       "**1:** 0.934389529993572"
      ],
      "text/plain": [
       "        1 \n",
       "0.9343895 "
      ]
     },
     "metadata": {},
     "output_type": "display_data"
    }
   ],
   "source": [
    "Xvalues <- data.frame(Test1 = 93,  Test2 = 84)\n",
    "predict(modelfit, Xvalues, type = \"response\")"
   ]
  },
  {
   "cell_type": "code",
   "execution_count": null,
   "metadata": {},
   "outputs": [],
   "source": [
    "# 84 on Test 1 and 93 on Test 2\n",
    "# 45% probability an employee will be successful if they score an 84 on Test1 and a 93 on Test2"
   ]
  },
  {
   "cell_type": "code",
   "execution_count": 11,
   "metadata": {},
   "outputs": [
    {
     "data": {
      "text/html": [
       "<strong>1:</strong> 0.448506767304351"
      ],
      "text/latex": [
       "\\textbf{1:} 0.448506767304351"
      ],
      "text/markdown": [
       "**1:** 0.448506767304351"
      ],
      "text/plain": [
       "        1 \n",
       "0.4485068 "
      ]
     },
     "metadata": {},
     "output_type": "display_data"
    }
   ],
   "source": [
    "Xvalues <- data.frame(Test1 = 84,  Test2 = 93)\n",
    "predict(modelfit, Xvalues, type = \"response\")"
   ]
  },
  {
   "cell_type": "code",
   "execution_count": null,
   "metadata": {},
   "outputs": [],
   "source": [
    "detach(perform)"
   ]
  }
 ],
 "metadata": {
  "kernelspec": {
   "display_name": "R",
   "language": "R",
   "name": "ir"
  },
  "language_info": {
   "codemirror_mode": "r",
   "file_extension": ".r",
   "mimetype": "text/x-r-source",
   "name": "R",
   "pygments_lexer": "r",
   "version": "3.4.2"
  }
 },
 "nbformat": 4,
 "nbformat_minor": 2
}
