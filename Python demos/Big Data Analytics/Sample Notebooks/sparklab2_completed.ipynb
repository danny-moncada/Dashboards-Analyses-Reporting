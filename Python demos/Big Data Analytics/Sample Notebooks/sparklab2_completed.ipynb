{
 "cells": [
  {
   "cell_type": "markdown",
   "metadata": {},
   "source": [
    "# Spark Lab 2 - Use RDDs to Transform a Dataset"
   ]
  },
  {
   "cell_type": "markdown",
   "metadata": {},
   "source": [
    "\n",
    "## Explore the Loudacre web log files"
   ]
  },
  {
   "cell_type": "markdown",
   "metadata": {},
   "source": [
    "### Data Preparation\n",
    "first run the following commands to make sure data in local host"
   ]
  },
  {
   "cell_type": "code",
   "execution_count": 1,
   "metadata": {
    "collapsed": false
   },
   "outputs": [
    {
     "data": {
      "text/html": [
       "\n",
       "        <div>\n",
       "            <p><b>SparkContext</b></p>\n",
       "\n",
       "            <p><a href=\"http://quickstart.cloudera:4040\">Spark UI</a></p>\n",
       "\n",
       "            <dl>\n",
       "              <dt>Version</dt>\n",
       "                <dd><code>v2.3.3</code></dd>\n",
       "              <dt>Master</dt>\n",
       "                <dd><code>local[*]</code></dd>\n",
       "              <dt>AppName</dt>\n",
       "                <dd><code>PySparkShell</code></dd>\n",
       "            </dl>\n",
       "        </div>\n",
       "        "
      ],
      "text/plain": [
       "<SparkContext master=local[*] appName=PySparkShell>"
      ]
     },
     "execution_count": 1,
     "metadata": {},
     "output_type": "execute_result"
    }
   ],
   "source": [
    "sc"
   ]
  },
  {
   "cell_type": "code",
   "execution_count": 2,
   "metadata": {
    "collapsed": true
   },
   "outputs": [],
   "source": [
    "! mkdir weblogs"
   ]
  },
  {
   "cell_type": "code",
   "execution_count": 3,
   "metadata": {
    "collapsed": false
   },
   "outputs": [],
   "source": [
    "! cp training_materials/data/static_data/weblogs/* weblogs/"
   ]
  },
  {
   "cell_type": "code",
   "execution_count": 4,
   "metadata": {
    "collapsed": false
   },
   "outputs": [
    {
     "name": "stdout",
     "output_type": "stream",
     "text": [
      "total 159984\n",
      "-rw-rw-r-- 1 cloudera cloudera 527908 Aug  1 13:43 FlumeData.1424275921226\n",
      "-rw-rw-r-- 1 cloudera cloudera 527933 Aug  1 13:43 FlumeData.1424275921227\n",
      "-rw-rw-r-- 1 cloudera cloudera 527874 Aug  1 13:43 FlumeData.1424275921228\n",
      "-rw-rw-r-- 1 cloudera cloudera 527852 Aug  1 13:43 FlumeData.1424275921229\n",
      "-rw-rw-r-- 1 cloudera cloudera 527813 Aug  1 13:43 FlumeData.1424275921230\n",
      "-rw-rw-r-- 1 cloudera cloudera 527839 Aug  1 13:43 FlumeData.1424275921231\n",
      "-rw-rw-r-- 1 cloudera cloudera 527797 Aug  1 13:43 FlumeData.1424275921232\n",
      "-rw-rw-r-- 1 cloudera cloudera 527785 Aug  1 13:43 FlumeData.1424275921233\n",
      "-rw-rw-r-- 1 cloudera cloudera 527898 Aug  1 13:43 FlumeData.1424275921234\n",
      "-rw-rw-r-- 1 cloudera cloudera 527831 Aug  1 13:43 FlumeData.1424275921235\n",
      "-rw-rw-r-- 1 cloudera cloudera 527915 Aug  1 13:43 FlumeData.1424275921236\n",
      "-rw-rw-r-- 1 cloudera cloudera 527785 Aug  1 13:43 FlumeData.1424275921237\n",
      "-rw-rw-r-- 1 cloudera cloudera 527925 Aug  1 13:43 FlumeData.1424275921238\n",
      "-rw-rw-r-- 1 cloudera cloudera 527865 Aug  1 13:43 FlumeData.1424275921239\n",
      "-rw-rw-r-- 1 cloudera cloudera 527841 Aug  1 13:43 FlumeData.1424275921240\n",
      "-rw-rw-r-- 1 cloudera cloudera 527865 Aug  1 13:43 FlumeData.1424275921241\n",
      "-rw-rw-r-- 1 cloudera cloudera 527817 Aug  1 13:43 FlumeData.1424275921242\n",
      "-rw-rw-r-- 1 cloudera cloudera 527863 Aug  1 13:43 FlumeData.1424275921243\n",
      "-rw-rw-r-- 1 cloudera cloudera 527900 Aug  1 13:43 FlumeData.1424275921244\n",
      "-rw-rw-r-- 1 cloudera cloudera 527898 Aug  1 13:43 FlumeData.1424275921245\n",
      "-rw-rw-r-- 1 cloudera cloudera 527890 Aug  1 13:43 FlumeData.1424275921246\n",
      "-rw-rw-r-- 1 cloudera cloudera 527869 Aug  1 13:43 FlumeData.1424275921247\n",
      "-rw-rw-r-- 1 cloudera cloudera 527834 Aug  1 13:43 FlumeData.1424275921248\n",
      "-rw-rw-r-- 1 cloudera cloudera 527790 Aug  1 13:43 FlumeData.1424275921249\n",
      "-rw-rw-r-- 1 cloudera cloudera 527833 Aug  1 13:43 FlumeData.1424275921250\n",
      "-rw-rw-r-- 1 cloudera cloudera 527820 Aug  1 13:43 FlumeData.1424275921251\n",
      "-rw-rw-r-- 1 cloudera cloudera 527897 Aug  1 13:43 FlumeData.1424275921252\n",
      "-rw-rw-r-- 1 cloudera cloudera 527795 Aug  1 13:43 FlumeData.1424275921253\n",
      "-rw-rw-r-- 1 cloudera cloudera 527888 Aug  1 13:43 FlumeData.1424275921254\n",
      "-rw-rw-r-- 1 cloudera cloudera 527870 Aug  1 13:43 FlumeData.1424275921255\n",
      "-rw-rw-r-- 1 cloudera cloudera 527804 Aug  1 13:43 FlumeData.1424275921256\n",
      "-rw-rw-r-- 1 cloudera cloudera 527920 Aug  1 13:43 FlumeData.1424275921257\n",
      "-rw-rw-r-- 1 cloudera cloudera 527794 Aug  1 13:43 FlumeData.1424275921258\n",
      "-rw-rw-r-- 1 cloudera cloudera 527904 Aug  1 13:43 FlumeData.1424275921259\n",
      "-rw-rw-r-- 1 cloudera cloudera 527906 Aug  1 13:43 FlumeData.1424275921260\n",
      "-rw-rw-r-- 1 cloudera cloudera 527798 Aug  1 13:43 FlumeData.1424275921261\n",
      "-rw-rw-r-- 1 cloudera cloudera 527822 Aug  1 13:43 FlumeData.1424275921262\n",
      "-rw-rw-r-- 1 cloudera cloudera 527831 Aug  1 13:43 FlumeData.1424275921263\n",
      "-rw-rw-r-- 1 cloudera cloudera 527798 Aug  1 13:43 FlumeData.1424275921264\n",
      "-rw-rw-r-- 1 cloudera cloudera 527786 Aug  1 13:43 FlumeData.1424275921265\n",
      "-rw-rw-r-- 1 cloudera cloudera 527890 Aug  1 13:43 FlumeData.1424275921266\n",
      "-rw-rw-r-- 1 cloudera cloudera 527913 Aug  1 13:43 FlumeData.1424275921267\n",
      "-rw-rw-r-- 1 cloudera cloudera 527889 Aug  1 13:43 FlumeData.1424275921268\n",
      "-rw-rw-r-- 1 cloudera cloudera 527772 Aug  1 13:43 FlumeData.1424275921269\n",
      "-rw-rw-r-- 1 cloudera cloudera 527917 Aug  1 13:43 FlumeData.1424275921270\n",
      "-rw-rw-r-- 1 cloudera cloudera 527782 Aug  1 13:43 FlumeData.1424275921271\n",
      "-rw-rw-r-- 1 cloudera cloudera 527929 Aug  1 13:43 FlumeData.1424275921272\n",
      "-rw-rw-r-- 1 cloudera cloudera 527853 Aug  1 13:43 FlumeData.1424275921273\n",
      "-rw-rw-r-- 1 cloudera cloudera 527915 Aug  1 13:43 FlumeData.1424275921274\n",
      "-rw-rw-r-- 1 cloudera cloudera 527880 Aug  1 13:43 FlumeData.1424275921275\n",
      "-rw-rw-r-- 1 cloudera cloudera 527827 Aug  1 13:43 FlumeData.1424275921276\n",
      "-rw-rw-r-- 1 cloudera cloudera 527799 Aug  1 13:43 FlumeData.1424275921277\n",
      "-rw-rw-r-- 1 cloudera cloudera 527889 Aug  1 13:43 FlumeData.1424275921278\n",
      "-rw-rw-r-- 1 cloudera cloudera 527790 Aug  1 13:43 FlumeData.1424275921279\n",
      "-rw-rw-r-- 1 cloudera cloudera 527773 Aug  1 13:43 FlumeData.1424275921280\n",
      "-rw-rw-r-- 1 cloudera cloudera 527834 Aug  1 13:43 FlumeData.1424275921281\n",
      "-rw-rw-r-- 1 cloudera cloudera 527924 Aug  1 13:43 FlumeData.1424275921282\n",
      "-rw-rw-r-- 1 cloudera cloudera 527842 Aug  1 13:43 FlumeData.1424275921283\n",
      "-rw-rw-r-- 1 cloudera cloudera 527839 Aug  1 13:43 FlumeData.1424275921284\n",
      "-rw-rw-r-- 1 cloudera cloudera 527839 Aug  1 13:43 FlumeData.1424275921285\n",
      "-rw-rw-r-- 1 cloudera cloudera 527849 Aug  1 13:43 FlumeData.1424275921286\n",
      "-rw-rw-r-- 1 cloudera cloudera 527868 Aug  1 13:43 FlumeData.1424275921287\n",
      "-rw-rw-r-- 1 cloudera cloudera 527818 Aug  1 13:43 FlumeData.1424275921288\n",
      "-rw-rw-r-- 1 cloudera cloudera 527833 Aug  1 13:43 FlumeData.1424275921289\n",
      "-rw-rw-r-- 1 cloudera cloudera 527772 Aug  1 13:43 FlumeData.1424275921290\n",
      "-rw-rw-r-- 1 cloudera cloudera 527777 Aug  1 13:43 FlumeData.1424275921291\n",
      "-rw-rw-r-- 1 cloudera cloudera 527868 Aug  1 13:43 FlumeData.1424275921292\n",
      "-rw-rw-r-- 1 cloudera cloudera 527806 Aug  1 13:43 FlumeData.1424275921293\n",
      "-rw-rw-r-- 1 cloudera cloudera 527886 Aug  1 13:43 FlumeData.1424275921294\n",
      "-rw-rw-r-- 1 cloudera cloudera 527766 Aug  1 13:43 FlumeData.1424275921295\n",
      "-rw-rw-r-- 1 cloudera cloudera 527799 Aug  1 13:43 FlumeData.1424275921296\n",
      "-rw-rw-r-- 1 cloudera cloudera 527882 Aug  1 13:43 FlumeData.1424275921297\n",
      "-rw-rw-r-- 1 cloudera cloudera 527778 Aug  1 13:43 FlumeData.1424275921298\n",
      "-rw-rw-r-- 1 cloudera cloudera 527812 Aug  1 13:43 FlumeData.1424275921299\n",
      "-rw-rw-r-- 1 cloudera cloudera 527909 Aug  1 13:43 FlumeData.1424275921300\n",
      "-rw-rw-r-- 1 cloudera cloudera 527795 Aug  1 13:43 FlumeData.1424275921301\n",
      "-rw-rw-r-- 1 cloudera cloudera 527882 Aug  1 13:43 FlumeData.1424275921302\n",
      "-rw-rw-r-- 1 cloudera cloudera 527797 Aug  1 13:43 FlumeData.1424275921303\n",
      "-rw-rw-r-- 1 cloudera cloudera 527923 Aug  1 13:43 FlumeData.1424275921304\n",
      "-rw-rw-r-- 1 cloudera cloudera 527827 Aug  1 13:43 FlumeData.1424275921305\n",
      "-rw-rw-r-- 1 cloudera cloudera 527810 Aug  1 13:43 FlumeData.1424275921306\n",
      "-rw-rw-r-- 1 cloudera cloudera 527778 Aug  1 13:43 FlumeData.1424275921307\n",
      "-rw-rw-r-- 1 cloudera cloudera 527787 Aug  1 13:43 FlumeData.1424275921308\n",
      "-rw-rw-r-- 1 cloudera cloudera 527841 Aug  1 13:43 FlumeData.1424275921309\n",
      "-rw-rw-r-- 1 cloudera cloudera 527921 Aug  1 13:43 FlumeData.1424275921310\n",
      "-rw-rw-r-- 1 cloudera cloudera 527790 Aug  1 13:43 FlumeData.1424275921311\n",
      "-rw-rw-r-- 1 cloudera cloudera 527856 Aug  1 13:43 FlumeData.1424275921312\n",
      "-rw-rw-r-- 1 cloudera cloudera 527802 Aug  1 13:43 FlumeData.1424275921313\n",
      "-rw-rw-r-- 1 cloudera cloudera 527851 Aug  1 13:43 FlumeData.1424275921314\n",
      "-rw-rw-r-- 1 cloudera cloudera 527899 Aug  1 13:43 FlumeData.1424275921315\n",
      "-rw-rw-r-- 1 cloudera cloudera 527852 Aug  1 13:43 FlumeData.1424275921316\n",
      "-rw-rw-r-- 1 cloudera cloudera 527859 Aug  1 13:43 FlumeData.1424275921317\n",
      "-rw-rw-r-- 1 cloudera cloudera 527888 Aug  1 13:43 FlumeData.1424275921318\n",
      "-rw-rw-r-- 1 cloudera cloudera 527791 Aug  1 13:43 FlumeData.1424275921319\n",
      "-rw-rw-r-- 1 cloudera cloudera 527832 Aug  1 13:43 FlumeData.1424275921320\n",
      "-rw-rw-r-- 1 cloudera cloudera 527845 Aug  1 13:43 FlumeData.1424275921321\n",
      "-rw-rw-r-- 1 cloudera cloudera 527808 Aug  1 13:43 FlumeData.1424275921322\n",
      "-rw-rw-r-- 1 cloudera cloudera 527788 Aug  1 13:43 FlumeData.1424275921323\n",
      "-rw-rw-r-- 1 cloudera cloudera 527894 Aug  1 13:43 FlumeData.1424275921324\n",
      "-rw-rw-r-- 1 cloudera cloudera 527781 Aug  1 13:43 FlumeData.1424275921325\n",
      "-rw-rw-r-- 1 cloudera cloudera 527773 Aug  1 13:43 FlumeData.1424275921326\n",
      "-rw-rw-r-- 1 cloudera cloudera 527825 Aug  1 13:43 FlumeData.1424275921327\n",
      "-rw-rw-r-- 1 cloudera cloudera 527855 Aug  1 13:43 FlumeData.1424275921328\n",
      "-rw-rw-r-- 1 cloudera cloudera 527768 Aug  1 13:43 FlumeData.1424275921329\n",
      "-rw-rw-r-- 1 cloudera cloudera 527878 Aug  1 13:43 FlumeData.1424275921330\n",
      "-rw-rw-r-- 1 cloudera cloudera 527821 Aug  1 13:43 FlumeData.1424275921331\n",
      "-rw-rw-r-- 1 cloudera cloudera 527836 Aug  1 13:43 FlumeData.1424275921332\n",
      "-rw-rw-r-- 1 cloudera cloudera 527886 Aug  1 13:43 FlumeData.1424275921333\n",
      "-rw-rw-r-- 1 cloudera cloudera 527761 Aug  1 13:43 FlumeData.1424275921334\n",
      "-rw-rw-r-- 1 cloudera cloudera 527878 Aug  1 13:43 FlumeData.1424275921335\n",
      "-rw-rw-r-- 1 cloudera cloudera 527774 Aug  1 13:43 FlumeData.1424275921336\n",
      "-rw-rw-r-- 1 cloudera cloudera 527905 Aug  1 13:43 FlumeData.1424275921337\n",
      "-rw-rw-r-- 1 cloudera cloudera 527852 Aug  1 13:43 FlumeData.1424275921338\n",
      "-rw-rw-r-- 1 cloudera cloudera 527883 Aug  1 13:43 FlumeData.1424275921339\n",
      "-rw-rw-r-- 1 cloudera cloudera 527924 Aug  1 13:43 FlumeData.1424275921340\n",
      "-rw-rw-r-- 1 cloudera cloudera 527833 Aug  1 13:43 FlumeData.1424275921341\n",
      "-rw-rw-r-- 1 cloudera cloudera 527914 Aug  1 13:43 FlumeData.1424275921342\n",
      "-rw-rw-r-- 1 cloudera cloudera 527796 Aug  1 13:43 FlumeData.1424275921343\n",
      "-rw-rw-r-- 1 cloudera cloudera 527858 Aug  1 13:43 FlumeData.1424275921344\n",
      "-rw-rw-r-- 1 cloudera cloudera 527837 Aug  1 13:43 FlumeData.1424275921345\n",
      "-rw-rw-r-- 1 cloudera cloudera 527798 Aug  1 13:43 FlumeData.1424275921346\n",
      "-rw-rw-r-- 1 cloudera cloudera 527826 Aug  1 13:43 FlumeData.1424275921347\n",
      "-rw-rw-r-- 1 cloudera cloudera 527884 Aug  1 13:43 FlumeData.1424275921348\n",
      "-rw-rw-r-- 1 cloudera cloudera 527858 Aug  1 13:43 FlumeData.1424275921349\n",
      "-rw-rw-r-- 1 cloudera cloudera 527867 Aug  1 13:43 FlumeData.1424275921350\n",
      "-rw-rw-r-- 1 cloudera cloudera 527809 Aug  1 13:43 FlumeData.1424275921351\n",
      "-rw-rw-r-- 1 cloudera cloudera 527855 Aug  1 13:43 FlumeData.1424275921352\n",
      "-rw-rw-r-- 1 cloudera cloudera 527880 Aug  1 13:43 FlumeData.1424275921353\n",
      "-rw-rw-r-- 1 cloudera cloudera 527883 Aug  1 13:43 FlumeData.1424275921354\n",
      "-rw-rw-r-- 1 cloudera cloudera 527886 Aug  1 13:43 FlumeData.1424275921355\n",
      "-rw-rw-r-- 1 cloudera cloudera 527876 Aug  1 13:43 FlumeData.1424275921356\n",
      "-rw-rw-r-- 1 cloudera cloudera 527887 Aug  1 13:43 FlumeData.1424275921357\n",
      "-rw-rw-r-- 1 cloudera cloudera 527816 Aug  1 13:43 FlumeData.1424275921358\n",
      "-rw-rw-r-- 1 cloudera cloudera 527794 Aug  1 13:43 FlumeData.1424275921359\n",
      "-rw-rw-r-- 1 cloudera cloudera 527808 Aug  1 13:43 FlumeData.1424275921360\n",
      "-rw-rw-r-- 1 cloudera cloudera 527914 Aug  1 13:43 FlumeData.1424275921361\n",
      "-rw-rw-r-- 1 cloudera cloudera 527863 Aug  1 13:43 FlumeData.1424275921362\n",
      "-rw-rw-r-- 1 cloudera cloudera 527884 Aug  1 13:43 FlumeData.1424275921363\n",
      "-rw-rw-r-- 1 cloudera cloudera 527892 Aug  1 13:43 FlumeData.1424275921364\n",
      "-rw-rw-r-- 1 cloudera cloudera 527893 Aug  1 13:43 FlumeData.1424275921365\n",
      "-rw-rw-r-- 1 cloudera cloudera 527793 Aug  1 13:43 FlumeData.1424275921366\n",
      "-rw-rw-r-- 1 cloudera cloudera 527907 Aug  1 13:43 FlumeData.1424275921367\n",
      "-rw-rw-r-- 1 cloudera cloudera 527882 Aug  1 13:43 FlumeData.1424275921368\n",
      "-rw-rw-r-- 1 cloudera cloudera 527767 Aug  1 13:43 FlumeData.1424275921369\n",
      "-rw-rw-r-- 1 cloudera cloudera 527819 Aug  1 13:43 FlumeData.1424275921370\n",
      "-rw-rw-r-- 1 cloudera cloudera 527858 Aug  1 13:43 FlumeData.1424275921371\n",
      "-rw-rw-r-- 1 cloudera cloudera 527878 Aug  1 13:43 FlumeData.1424275921372\n",
      "-rw-rw-r-- 1 cloudera cloudera 527839 Aug  1 13:43 FlumeData.1424275921373\n",
      "-rw-rw-r-- 1 cloudera cloudera 527896 Aug  1 13:43 FlumeData.1424275921374\n",
      "-rw-rw-r-- 1 cloudera cloudera 527816 Aug  1 13:43 FlumeData.1424275921375\n",
      "-rw-rw-r-- 1 cloudera cloudera 527854 Aug  1 13:43 FlumeData.1424275921376\n",
      "-rw-rw-r-- 1 cloudera cloudera 527901 Aug  1 13:43 FlumeData.1424275921377\n",
      "-rw-rw-r-- 1 cloudera cloudera 527804 Aug  1 13:43 FlumeData.1424275921378\n",
      "-rw-rw-r-- 1 cloudera cloudera 527802 Aug  1 13:43 FlumeData.1424275921379\n",
      "-rw-rw-r-- 1 cloudera cloudera 527824 Aug  1 13:43 FlumeData.1424275921380\n",
      "-rw-rw-r-- 1 cloudera cloudera 527880 Aug  1 13:43 FlumeData.1424275921381\n",
      "-rw-rw-r-- 1 cloudera cloudera 527855 Aug  1 13:43 FlumeData.1424275921382\n",
      "-rw-rw-r-- 1 cloudera cloudera 527873 Aug  1 13:43 FlumeData.1424275921383\n",
      "-rw-rw-r-- 1 cloudera cloudera 527794 Aug  1 13:43 FlumeData.1424275921384\n",
      "-rw-rw-r-- 1 cloudera cloudera 527882 Aug  1 13:43 FlumeData.1424275921385\n",
      "-rw-rw-r-- 1 cloudera cloudera 527770 Aug  1 13:43 FlumeData.1424275921386\n",
      "-rw-rw-r-- 1 cloudera cloudera 527910 Aug  1 13:43 FlumeData.1424275921387\n",
      "-rw-rw-r-- 1 cloudera cloudera 527870 Aug  1 13:43 FlumeData.1424275921388\n",
      "-rw-rw-r-- 1 cloudera cloudera 527908 Aug  1 13:43 FlumeData.1424275921389\n",
      "-rw-rw-r-- 1 cloudera cloudera 527837 Aug  1 13:43 FlumeData.1424275921390\n",
      "-rw-rw-r-- 1 cloudera cloudera 527797 Aug  1 13:43 FlumeData.1424275921391\n",
      "-rw-rw-r-- 1 cloudera cloudera 527827 Aug  1 13:43 FlumeData.1424275921392\n",
      "-rw-rw-r-- 1 cloudera cloudera 527913 Aug  1 13:43 FlumeData.1424275921393\n",
      "-rw-rw-r-- 1 cloudera cloudera 527789 Aug  1 13:43 FlumeData.1424275921394\n",
      "-rw-rw-r-- 1 cloudera cloudera 527815 Aug  1 13:43 FlumeData.1424275921395\n",
      "-rw-rw-r-- 1 cloudera cloudera 527814 Aug  1 13:43 FlumeData.1424275921396\n",
      "-rw-rw-r-- 1 cloudera cloudera 527907 Aug  1 13:43 FlumeData.1424275921397\n",
      "-rw-rw-r-- 1 cloudera cloudera 527789 Aug  1 13:43 FlumeData.1424275921398\n",
      "-rw-rw-r-- 1 cloudera cloudera 527904 Aug  1 13:43 FlumeData.1424275921399\n",
      "-rw-rw-r-- 1 cloudera cloudera 527889 Aug  1 13:43 FlumeData.1424275921400\n",
      "-rw-rw-r-- 1 cloudera cloudera 527894 Aug  1 13:43 FlumeData.1424275921401\n",
      "-rw-rw-r-- 1 cloudera cloudera 527826 Aug  1 13:43 FlumeData.1424275921402\n",
      "-rw-rw-r-- 1 cloudera cloudera 527793 Aug  1 13:43 FlumeData.1424275921403\n",
      "-rw-rw-r-- 1 cloudera cloudera 527838 Aug  1 13:43 FlumeData.1424275921404\n",
      "-rw-rw-r-- 1 cloudera cloudera 527876 Aug  1 13:43 FlumeData.1424275921405\n",
      "-rw-rw-r-- 1 cloudera cloudera 527839 Aug  1 13:43 FlumeData.1424275921406\n",
      "-rw-rw-r-- 1 cloudera cloudera 527884 Aug  1 13:43 FlumeData.1424275921407\n",
      "-rw-rw-r-- 1 cloudera cloudera 527872 Aug  1 13:43 FlumeData.1424275921408\n",
      "-rw-rw-r-- 1 cloudera cloudera 527864 Aug  1 13:43 FlumeData.1424275921409\n",
      "-rw-rw-r-- 1 cloudera cloudera 527806 Aug  1 13:43 FlumeData.1424275921410\n",
      "-rw-rw-r-- 1 cloudera cloudera 527917 Aug  1 13:43 FlumeData.1424275921411\n",
      "-rw-rw-r-- 1 cloudera cloudera 527883 Aug  1 13:43 FlumeData.1424275921412\n",
      "-rw-rw-r-- 1 cloudera cloudera 527865 Aug  1 13:43 FlumeData.1424275921413\n",
      "-rw-rw-r-- 1 cloudera cloudera 527855 Aug  1 13:43 FlumeData.1424275921414\n",
      "-rw-rw-r-- 1 cloudera cloudera 527795 Aug  1 13:43 FlumeData.1424275921415\n",
      "-rw-rw-r-- 1 cloudera cloudera 527770 Aug  1 13:43 FlumeData.1424275921416\n",
      "-rw-rw-r-- 1 cloudera cloudera 527926 Aug  1 13:43 FlumeData.1424275921417\n",
      "-rw-rw-r-- 1 cloudera cloudera 527806 Aug  1 13:43 FlumeData.1424275921418\n",
      "-rw-rw-r-- 1 cloudera cloudera 527851 Aug  1 13:43 FlumeData.1424275921419\n",
      "-rw-rw-r-- 1 cloudera cloudera 527905 Aug  1 13:43 FlumeData.1424275921420\n",
      "-rw-rw-r-- 1 cloudera cloudera 527861 Aug  1 13:43 FlumeData.1424275921421\n",
      "-rw-rw-r-- 1 cloudera cloudera 527909 Aug  1 13:43 FlumeData.1424275921422\n",
      "-rw-rw-r-- 1 cloudera cloudera 527890 Aug  1 13:43 FlumeData.1424275921423\n",
      "-rw-rw-r-- 1 cloudera cloudera 527882 Aug  1 13:43 FlumeData.1424275921424\n",
      "-rw-rw-r-- 1 cloudera cloudera 527784 Aug  1 13:43 FlumeData.1424275921425\n",
      "-rw-rw-r-- 1 cloudera cloudera 527804 Aug  1 13:43 FlumeData.1424275921426\n",
      "-rw-rw-r-- 1 cloudera cloudera 527883 Aug  1 13:43 FlumeData.1424275921427\n",
      "-rw-rw-r-- 1 cloudera cloudera 527907 Aug  1 13:43 FlumeData.1424275921428\n",
      "-rw-rw-r-- 1 cloudera cloudera 527797 Aug  1 13:43 FlumeData.1424275921429\n",
      "-rw-rw-r-- 1 cloudera cloudera 527874 Aug  1 13:43 FlumeData.1424275921430\n",
      "-rw-rw-r-- 1 cloudera cloudera 527853 Aug  1 13:43 FlumeData.1424275921431\n",
      "-rw-rw-r-- 1 cloudera cloudera 527823 Aug  1 13:43 FlumeData.1424275921432\n",
      "-rw-rw-r-- 1 cloudera cloudera 527781 Aug  1 13:43 FlumeData.1424275921433\n",
      "-rw-rw-r-- 1 cloudera cloudera 527815 Aug  1 13:43 FlumeData.1424275921434\n",
      "-rw-rw-r-- 1 cloudera cloudera 527888 Aug  1 13:43 FlumeData.1424275921435\n",
      "-rw-rw-r-- 1 cloudera cloudera 527915 Aug  1 13:43 FlumeData.1424275921436\n",
      "-rw-rw-r-- 1 cloudera cloudera 527843 Aug  1 13:43 FlumeData.1424275921437\n",
      "-rw-rw-r-- 1 cloudera cloudera 527829 Aug  1 13:43 FlumeData.1424275921438\n",
      "-rw-rw-r-- 1 cloudera cloudera 527843 Aug  1 13:43 FlumeData.1424275921439\n",
      "-rw-rw-r-- 1 cloudera cloudera 527781 Aug  1 13:43 FlumeData.1424275921440\n",
      "-rw-rw-r-- 1 cloudera cloudera 527767 Aug  1 13:43 FlumeData.1424275921441\n",
      "-rw-rw-r-- 1 cloudera cloudera 527825 Aug  1 13:43 FlumeData.1424275921442\n",
      "-rw-rw-r-- 1 cloudera cloudera 527869 Aug  1 13:43 FlumeData.1424275921443\n",
      "-rw-rw-r-- 1 cloudera cloudera 527847 Aug  1 13:43 FlumeData.1424275921444\n",
      "-rw-rw-r-- 1 cloudera cloudera 527809 Aug  1 13:43 FlumeData.1424275921445\n",
      "-rw-rw-r-- 1 cloudera cloudera 527795 Aug  1 13:43 FlumeData.1424275921446\n",
      "-rw-rw-r-- 1 cloudera cloudera 527838 Aug  1 13:43 FlumeData.1424275921447\n",
      "-rw-rw-r-- 1 cloudera cloudera 527776 Aug  1 13:43 FlumeData.1424275921448\n",
      "-rw-rw-r-- 1 cloudera cloudera 527931 Aug  1 13:43 FlumeData.1424275921449\n",
      "-rw-rw-r-- 1 cloudera cloudera 527819 Aug  1 13:43 FlumeData.1424275921450\n",
      "-rw-rw-r-- 1 cloudera cloudera 527797 Aug  1 13:43 FlumeData.1424275921451\n",
      "-rw-rw-r-- 1 cloudera cloudera 527880 Aug  1 13:43 FlumeData.1424275921452\n",
      "-rw-rw-r-- 1 cloudera cloudera 527787 Aug  1 13:43 FlumeData.1424275921453\n",
      "-rw-rw-r-- 1 cloudera cloudera 527890 Aug  1 13:43 FlumeData.1424275921454\n",
      "-rw-rw-r-- 1 cloudera cloudera 527786 Aug  1 13:43 FlumeData.1424275921455\n",
      "-rw-rw-r-- 1 cloudera cloudera 527854 Aug  1 13:43 FlumeData.1424275921456\n",
      "-rw-rw-r-- 1 cloudera cloudera 527837 Aug  1 13:43 FlumeData.1424275921457\n",
      "-rw-rw-r-- 1 cloudera cloudera 527816 Aug  1 13:43 FlumeData.1424275921458\n",
      "-rw-rw-r-- 1 cloudera cloudera 527859 Aug  1 13:43 FlumeData.1424275921459\n",
      "-rw-rw-r-- 1 cloudera cloudera 527791 Aug  1 13:43 FlumeData.1424275921460\n",
      "-rw-rw-r-- 1 cloudera cloudera 527822 Aug  1 13:43 FlumeData.1424275921461\n",
      "-rw-rw-r-- 1 cloudera cloudera 527803 Aug  1 13:43 FlumeData.1424275921462\n",
      "-rw-rw-r-- 1 cloudera cloudera 527839 Aug  1 13:43 FlumeData.1424275921463\n",
      "-rw-rw-r-- 1 cloudera cloudera 527900 Aug  1 13:43 FlumeData.1424275921464\n",
      "-rw-rw-r-- 1 cloudera cloudera 527912 Aug  1 13:43 FlumeData.1424275921465\n",
      "-rw-rw-r-- 1 cloudera cloudera 527846 Aug  1 13:43 FlumeData.1424275921466\n",
      "-rw-rw-r-- 1 cloudera cloudera 527902 Aug  1 13:43 FlumeData.1424275921467\n",
      "-rw-rw-r-- 1 cloudera cloudera 527819 Aug  1 13:43 FlumeData.1424275921468\n",
      "-rw-rw-r-- 1 cloudera cloudera 527870 Aug  1 13:43 FlumeData.1424275921469\n",
      "-rw-rw-r-- 1 cloudera cloudera 527809 Aug  1 13:43 FlumeData.1424275921470\n",
      "-rw-rw-r-- 1 cloudera cloudera 527913 Aug  1 13:43 FlumeData.1424275921471\n",
      "-rw-rw-r-- 1 cloudera cloudera 527893 Aug  1 13:43 FlumeData.1424275921472\n",
      "-rw-rw-r-- 1 cloudera cloudera 527837 Aug  1 13:43 FlumeData.1424275921473\n",
      "-rw-rw-r-- 1 cloudera cloudera 527938 Aug  1 13:43 FlumeData.1424275921474\n",
      "-rw-rw-r-- 1 cloudera cloudera 527846 Aug  1 13:43 FlumeData.1424275921475\n",
      "-rw-rw-r-- 1 cloudera cloudera 527864 Aug  1 13:43 FlumeData.1424275921476\n",
      "-rw-rw-r-- 1 cloudera cloudera 527857 Aug  1 13:43 FlumeData.1424275921477\n",
      "-rw-rw-r-- 1 cloudera cloudera 527835 Aug  1 13:43 FlumeData.1424275921478\n",
      "-rw-rw-r-- 1 cloudera cloudera 527799 Aug  1 13:43 FlumeData.1424275921479\n",
      "-rw-rw-r-- 1 cloudera cloudera 527831 Aug  1 13:43 FlumeData.1424275921480\n",
      "-rw-rw-r-- 1 cloudera cloudera 527773 Aug  1 13:43 FlumeData.1424275921481\n",
      "-rw-rw-r-- 1 cloudera cloudera 527913 Aug  1 13:43 FlumeData.1424275921482\n",
      "-rw-rw-r-- 1 cloudera cloudera 527826 Aug  1 13:43 FlumeData.1424275921483\n",
      "-rw-rw-r-- 1 cloudera cloudera 527872 Aug  1 13:43 FlumeData.1424275921484\n",
      "-rw-rw-r-- 1 cloudera cloudera 527763 Aug  1 13:43 FlumeData.1424275921485\n",
      "-rw-rw-r-- 1 cloudera cloudera 527923 Aug  1 13:43 FlumeData.1424275921486\n",
      "-rw-rw-r-- 1 cloudera cloudera 527793 Aug  1 13:43 FlumeData.1424275921487\n",
      "-rw-rw-r-- 1 cloudera cloudera 527862 Aug  1 13:43 FlumeData.1424275921488\n",
      "-rw-rw-r-- 1 cloudera cloudera 527833 Aug  1 13:43 FlumeData.1424275921489\n",
      "-rw-rw-r-- 1 cloudera cloudera 527908 Aug  1 13:43 FlumeData.1424275921490\n",
      "-rw-rw-r-- 1 cloudera cloudera 527788 Aug  1 13:43 FlumeData.1424275921491\n",
      "-rw-rw-r-- 1 cloudera cloudera 527799 Aug  1 13:43 FlumeData.1424275921492\n",
      "-rw-rw-r-- 1 cloudera cloudera 527798 Aug  1 13:43 FlumeData.1424275921493\n",
      "-rw-rw-r-- 1 cloudera cloudera 527861 Aug  1 13:43 FlumeData.1424275921494\n",
      "-rw-rw-r-- 1 cloudera cloudera 527912 Aug  1 13:43 FlumeData.1424275921495\n",
      "-rw-rw-r-- 1 cloudera cloudera 527801 Aug  1 13:43 FlumeData.1424275921496\n",
      "-rw-rw-r-- 1 cloudera cloudera 527860 Aug  1 13:43 FlumeData.1424275921497\n",
      "-rw-rw-r-- 1 cloudera cloudera 527901 Aug  1 13:43 FlumeData.1424275921498\n",
      "-rw-rw-r-- 1 cloudera cloudera 527792 Aug  1 13:43 FlumeData.1424275921499\n",
      "-rw-rw-r-- 1 cloudera cloudera 527857 Aug  1 13:43 FlumeData.1424275921500\n",
      "-rw-rw-r-- 1 cloudera cloudera 527832 Aug  1 13:43 FlumeData.1424275921501\n",
      "-rw-rw-r-- 1 cloudera cloudera 527788 Aug  1 13:43 FlumeData.1424275921502\n",
      "-rw-rw-r-- 1 cloudera cloudera 527928 Aug  1 13:43 FlumeData.1424275921503\n",
      "-rw-rw-r-- 1 cloudera cloudera 527893 Aug  1 13:43 FlumeData.1424275921504\n",
      "-rw-rw-r-- 1 cloudera cloudera 527873 Aug  1 13:43 FlumeData.1424275921505\n",
      "-rw-rw-r-- 1 cloudera cloudera 527817 Aug  1 13:43 FlumeData.1424275921506\n",
      "-rw-rw-r-- 1 cloudera cloudera 527838 Aug  1 13:43 FlumeData.1424275921507\n",
      "-rw-rw-r-- 1 cloudera cloudera 527767 Aug  1 13:43 FlumeData.1424275921508\n",
      "-rw-rw-r-- 1 cloudera cloudera 527778 Aug  1 13:43 FlumeData.1424275921509\n",
      "-rw-rw-r-- 1 cloudera cloudera 527839 Aug  1 13:43 FlumeData.1424275921510\n",
      "-rw-rw-r-- 1 cloudera cloudera 527917 Aug  1 13:43 FlumeData.1424275921511\n",
      "-rw-rw-r-- 1 cloudera cloudera 527831 Aug  1 13:43 FlumeData.1424275921512\n",
      "-rw-rw-r-- 1 cloudera cloudera 527840 Aug  1 13:43 FlumeData.1424275921513\n",
      "-rw-rw-r-- 1 cloudera cloudera 527887 Aug  1 13:43 FlumeData.1424275921514\n",
      "-rw-rw-r-- 1 cloudera cloudera 527898 Aug  1 13:43 FlumeData.1424275921515\n",
      "-rw-rw-r-- 1 cloudera cloudera 527867 Aug  1 13:43 FlumeData.1424275921516\n",
      "-rw-rw-r-- 1 cloudera cloudera 527790 Aug  1 13:43 FlumeData.1424275921517\n",
      "-rw-rw-r-- 1 cloudera cloudera 527819 Aug  1 13:43 FlumeData.1424275921518\n",
      "-rw-rw-r-- 1 cloudera cloudera 527810 Aug  1 13:43 FlumeData.1424275921519\n",
      "-rw-rw-r-- 1 cloudera cloudera 527915 Aug  1 13:43 FlumeData.1424275921520\n",
      "-rw-rw-r-- 1 cloudera cloudera 527815 Aug  1 13:43 FlumeData.1424275921521\n",
      "-rw-rw-r-- 1 cloudera cloudera 527797 Aug  1 13:43 FlumeData.1424275921522\n",
      "-rw-rw-r-- 1 cloudera cloudera 527878 Aug  1 13:43 FlumeData.1424275921523\n",
      "-rw-rw-r-- 1 cloudera cloudera 527885 Aug  1 13:43 FlumeData.1424275921524\n",
      "-rw-rw-r-- 1 cloudera cloudera 527841 Aug  1 13:43 FlumeData.1424275921525\n",
      "-rw-rw-r-- 1 cloudera cloudera 527822 Aug  1 13:43 FlumeData.1424275921526\n",
      "-rw-rw-r-- 1 cloudera cloudera 527879 Aug  1 13:43 FlumeData.1424275921527\n",
      "-rw-rw-r-- 1 cloudera cloudera 527830 Aug  1 13:43 FlumeData.1424275921528\n",
      "-rw-rw-r-- 1 cloudera cloudera 527895 Aug  1 13:43 FlumeData.1424275921529\n",
      "-rw-rw-r-- 1 cloudera cloudera 527824 Aug  1 13:43 FlumeData.1424275921530\n",
      "-rw-rw-r-- 1 cloudera cloudera 527865 Aug  1 13:43 FlumeData.1424275921531\n",
      "-rw-rw-r-- 1 cloudera cloudera 527830 Aug  1 13:43 FlumeData.1424275921532\n",
      "-rw-rw-r-- 1 cloudera cloudera 527861 Aug  1 13:43 FlumeData.1424275921533\n",
      "-rw-rw-r-- 1 cloudera cloudera 527883 Aug  1 13:43 FlumeData.1424275921534\n",
      "-rw-rw-r-- 1 cloudera cloudera 527899 Aug  1 13:43 FlumeData.1424275921535\n",
      "-rw-rw-r-- 1 cloudera cloudera  21836 Aug  1 13:43 FlumeData.1424275921536\n"
     ]
    }
   ],
   "source": [
    "! ls -l weblogs"
   ]
  },
  {
   "cell_type": "markdown",
   "metadata": {},
   "source": [
    "###  Step 1.  Explore the data files\n",
    "\n",
    "First explore what is in local directory **/weblogs**\n"
   ]
  },
  {
   "cell_type": "code",
   "execution_count": null,
   "metadata": {
    "collapsed": true
   },
   "outputs": [],
   "source": []
  },
  {
   "cell_type": "markdown",
   "metadata": {},
   "source": [
    "Then view the head of one of the web log file. "
   ]
  },
  {
   "cell_type": "code",
   "execution_count": 5,
   "metadata": {
    "collapsed": false
   },
   "outputs": [
    {
     "name": "stdout",
     "output_type": "stream",
     "text": [
      "3.94.78.5 - 69827 [15/Sep/2013:23:58:36 +0100] \"GET /KBDOC-00033.html HTTP/1.0\" 200 14417 \"http://www.loudacre.com\"  \"Loudacre Mobile Browser iFruit 1\"\r\n",
      "3.94.78.5 - 69827 [15/Sep/2013:23:58:36 +0100] \"GET /theme.css HTTP/1.0\" 200 3576 \"http://www.loudacre.com\"  \"Loudacre Mobile Browser iFruit 1\"\r\n",
      "19.38.140.62 - 21475 [15/Sep/2013:23:58:34 +0100] \"GET /KBDOC-00277.html HTTP/1.0\" 200 15517 \"http://www.loudacre.com\"  \"Loudacre Mobile Browser Ronin S1\"\r\n",
      "19.38.140.62 - 21475 [15/Sep/2013:23:58:34 +0100] \"GET /theme.css HTTP/1.0\" 200 13353 \"http://www.loudacre.com\"  \"Loudacre Mobile Browser Ronin S1\"\r\n",
      "129.133.56.105 - 2489 [15/Sep/2013:23:58:34 +0100] \"GET /KBDOC-00033.html HTTP/1.0\" 200 10590 \"http://www.loudacre.com\"  \"Loudacre Mobile Browser Sorrento F00L\"\r\n",
      "129.133.56.105 - 2489 [15/Sep/2013:23:58:34 +0100] \"GET /theme.css HTTP/1.0\" 200 12295 \"http://www.loudacre.com\"  \"Loudacre Mobile Browser Sorrento F00L\"\r\n",
      "217.150.149.167 - 4712 [15/Sep/2013:23:56:06 +0100] \"GET /ronin_s4_sales.html HTTP/1.0\" 200 845 \"http://www.loudacre.com\"  \"Loudacre Mobile Browser MeeToo 1.0\"\r\n",
      "217.150.149.167 - 4712 [15/Sep/2013:23:56:06 +0100] \"GET /theme.css HTTP/1.0\" 200 738 \"http://www.loudacre.com\"  \"Loudacre Mobile Browser MeeToo 1.0\"\r\n",
      "217.150.149.167 - 4712 [15/Sep/2013:23:56:06 +0100] \"GET /code.js HTTP/1.0\" 200 938 \"http://www.loudacre.com\"  \"Loudacre Mobile Browser MeeToo 1.0\"\r\n",
      "217.150.149.167 - 4712 [15/Sep/2013:23:56:06 +0100] \"GET /ronin_s4.jpg HTTP/1.0\" 200 5552 \"http://www.loudacre.com\"  \"Loudacre Mobile Browser MeeToo 1.0\"\r\n",
      "cat: write error: Broken pipe\r\n"
     ]
    }
   ],
   "source": [
    "! cat weblogs/* | head"
   ]
  },
  {
   "cell_type": "markdown",
   "metadata": {},
   "source": [
    "\n",
    "### Step 2.  Set a variable for the data file so you do not have to retype it each time."
   ]
  },
  {
   "cell_type": "code",
   "execution_count": 6,
   "metadata": {
    "collapsed": true
   },
   "outputs": [],
   "source": [
    "logfile=\"weblogs/*\""
   ]
  },
  {
   "cell_type": "markdown",
   "metadata": {},
   "source": [
    "### Step 3.\tCreate an RDD from the data file."
   ]
  },
  {
   "cell_type": "code",
   "execution_count": 8,
   "metadata": {
    "collapsed": false
   },
   "outputs": [],
   "source": [
    "logs = sc.textFile(logfile)"
   ]
  },
  {
   "cell_type": "markdown",
   "metadata": {},
   "source": [
    "### Step 4.\tCreate an RDD containing only those lines that are requests for JPG files."
   ]
  },
  {
   "cell_type": "code",
   "execution_count": 9,
   "metadata": {
    "collapsed": true
   },
   "outputs": [],
   "source": [
    "jpglogs = logs.filter(lambda line: \".jpg\" in line)"
   ]
  },
  {
   "cell_type": "markdown",
   "metadata": {},
   "source": [
    "### Step 5.\tView the first 10 lines of the data using `take`"
   ]
  },
  {
   "cell_type": "code",
   "execution_count": 10,
   "metadata": {
    "collapsed": false
   },
   "outputs": [
    {
     "data": {
      "text/plain": [
       "[u'114.56.156.55 - 62826 [02/Dec/2013:12:10:36 +0100] \"GET /ifruit_4.jpg HTTP/1.0\" 200 4649 \"http://www.loudacre.com\"  \"Loudacre Mobile Browser iFruit 3\"',\n",
       " u'86.125.145.15 - 7362 [02/Dec/2013:12:10:35 +0100] \"GET /ifruit_3a.jpg HTTP/1.0\" 200 16517 \"http://www.loudacre.com\"  \"Loudacre Mobile Browser iFruit 1\"',\n",
       " u'241.32.165.119 - 4237 [02/Dec/2013:12:05:31 +0100] \"GET /meetoo_4.0.jpg HTTP/1.0\" 200 19283 \"http://www.loudacre.com\"  \"Loudacre Mobile Browser Ronin S1\"',\n",
       " u'215.56.56.60 - 16622 [02/Dec/2013:12:02:16 +0100] \"GET /ronin_s2.jpg HTTP/1.0\" 200 9524 \"http://www.loudacre.com\"  \"Loudacre Mobile Browser MeeToo 3.0\"',\n",
       " u'159.134.45.232 - 72027 [02/Dec/2013:11:57:54 +0100] \"GET /ifruit_5a.jpg HTTP/1.0\" 200 18828 \"http://www.loudacre.com\"  \"Loudacre Mobile Browser Sorrento F21L\"',\n",
       " u'64.90.36.213 - 21932 [02/Dec/2013:11:57:30 +0100] \"GET /ronin_s2.jpg HTTP/1.0\" 200 6012 \"http://www.loudacre.com\"  \"Loudacre Mobile Browser Titanic 1100\"',\n",
       " u'85.177.200.35 - 18442 [02/Dec/2013:11:54:19 +0100] \"GET /map.jpg HTTP/1.0\" 200 5848 \"http://www.loudacre.com\"  \"Loudacre Mobile Browser Ronin S1\"',\n",
       " u'208.166.247.131 - 17900 [02/Dec/2013:11:52:38 +0100] \"GET /sorrento_f31l.jpg HTTP/1.0\" 200 11301 \"http://www.loudacre.com\"  \"Loudacre Mobile Browser MeeToo 2.0\"',\n",
       " u'207.227.152.76 - 77944 [02/Dec/2013:11:50:10 +0100] \"GET /titanic_2300.jpg HTTP/1.0\" 200 14807 \"http://www.loudacre.com\"  \"Loudacre Mobile Browser Titanic 1100\"',\n",
       " u'114.147.66.45 - 67229 [02/Dec/2013:11:48:14 +0100] \"GET /titanic_3000.jpg HTTP/1.0\" 200 17379 \"http://www.loudacre.com\"  \"Loudacre Mobile Browser Ronin Novelty Note 2\"']"
      ]
     },
     "execution_count": 10,
     "metadata": {},
     "output_type": "execute_result"
    }
   ],
   "source": [
    "jpglogs.take(10)"
   ]
  },
  {
   "cell_type": "markdown",
   "metadata": {},
   "source": [
    "### Step 6. Combine Previous Steps\n",
    "Sometimes you do not need to store intermediate objects in a variable, in which case you can combine the steps into a single line of code. Combine the previous commands into a single command to count the number of JPG requests.\n",
    "\n",
    "**Tip**: To break long lines, make sure to use a space and \\ at the end."
   ]
  },
  {
   "cell_type": "code",
   "execution_count": 11,
   "metadata": {
    "collapsed": false
   },
   "outputs": [
    {
     "data": {
      "text/plain": [
       "64978"
      ]
     },
     "execution_count": 11,
     "metadata": {},
     "output_type": "execute_result"
    }
   ],
   "source": [
    "sc.textFile(logfile) \\\n",
    "    .filter(lambda line: \".jpg\" in line) \\\n",
    "    .count()"
   ]
  },
  {
   "cell_type": "markdown",
   "metadata": {},
   "source": [
    "### Step 7.\t Compute line lengths using `map`\n",
    "Now try using the `map` function to define a new RDD. Start with a simple map that returns the length of each line in the log file. This will produce an array of five integers corresponding to the **first five lines** in the file.\n"
   ]
  },
  {
   "cell_type": "code",
   "execution_count": 13,
   "metadata": {
    "collapsed": false
   },
   "outputs": [
    {
     "data": {
      "text/plain": [
       "[153, 158, 152, 159, 152]"
      ]
     },
     "execution_count": 13,
     "metadata": {},
     "output_type": "execute_result"
    }
   ],
   "source": [
    "logs.map(lambda line: len(line)).take(5)"
   ]
  },
  {
   "cell_type": "markdown",
   "metadata": {},
   "source": [
    "### Step 8.  Words\n",
    "That is not very useful. Instead, try mapping to an array of words for each line. \n",
    "\n",
    "This time, you will print out five arrays, each containing the words in the corresponding log file line.\n"
   ]
  },
  {
   "cell_type": "code",
   "execution_count": 14,
   "metadata": {
    "collapsed": false
   },
   "outputs": [
    {
     "name": "stdout",
     "output_type": "stream",
     "text": [
      "[u'151.21.109.132', u'-', u'36918', u'[02/Dec/2013:12:12:12', u'+0100]', u'\"GET', u'/theme.css', u'HTTP/1.0\"', u'200', u'10552', u'\"http://www.loudacre.com\"', u'\"Loudacre', u'Mobile', u'Browser', u'Titanic', u'1100\"']\n",
      "[u'142.152.5.137', u'-', u'88890', u'[02/Dec/2013:12:11:45', u'+0100]', u'\"GET', u'/KBDOC-00122.html', u'HTTP/1.0\"', u'200', u'8938', u'\"http://www.loudacre.com\"', u'\"Loudacre', u'Mobile', u'Browser', u'Titanic', u'2300\"']\n",
      "[u'142.152.5.137', u'-', u'88890', u'[02/Dec/2013:12:11:45', u'+0100]', u'\"GET', u'/theme.css', u'HTTP/1.0\"', u'200', u'14348', u'\"http://www.loudacre.com\"', u'\"Loudacre', u'Mobile', u'Browser', u'Titanic', u'2300\"']\n",
      "[u'193.68.215.33', u'-', u'108180', u'[02/Dec/2013:12:11:24', u'+0100]', u'\"GET', u'/KBDOC-00270.html', u'HTTP/1.0\"', u'200', u'9680', u'\"http://www.loudacre.com\"', u'\"Loudacre', u'Mobile', u'Browser', u'Titanic', u'2400\"']\n",
      "[u'193.68.215.33', u'-', u'108180', u'[02/Dec/2013:12:11:24', u'+0100]', u'\"GET', u'/theme.css', u'HTTP/1.0\"', u'200', u'7382', u'\"http://www.loudacre.com\"', u'\"Loudacre', u'Mobile', u'Browser', u'Titanic', u'2400\"']\n"
     ]
    }
   ],
   "source": [
    "words  = logs.map(lambda line:line.split())\n",
    "for word in words.take(5):\n",
    "    print(word)"
   ]
  },
  {
   "cell_type": "markdown",
   "metadata": {},
   "source": [
    "### Step 9.  IP addresses\n",
    "Now that you know how map works, define a new RDD containing just the IP addresses from each line in the log file. (The IP address is the first “word” in each line)."
   ]
  },
  {
   "cell_type": "code",
   "execution_count": 15,
   "metadata": {
    "collapsed": true
   },
   "outputs": [],
   "source": [
    "ips = logs.map(lambda line: line.split()[0])"
   ]
  },
  {
   "cell_type": "markdown",
   "metadata": {},
   "source": [
    "Print the first five rows for testing."
   ]
  },
  {
   "cell_type": "code",
   "execution_count": 16,
   "metadata": {
    "collapsed": false
   },
   "outputs": [
    {
     "data": {
      "text/plain": [
       "[u'151.21.109.132',\n",
       " u'142.152.5.137',\n",
       " u'142.152.5.137',\n",
       " u'193.68.215.33',\n",
       " u'193.68.215.33']"
      ]
     },
     "execution_count": 16,
     "metadata": {},
     "output_type": "execute_result"
    }
   ],
   "source": [
    "ips.take(5)"
   ]
  },
  {
   "cell_type": "markdown",
   "metadata": {},
   "source": [
    "### Step 10.\tPrint Return Results\n",
    "Although take and collect are useful ways to look at data in an RDD, their output is not very readable. Fortunately, they return arrays which you can iterate through:"
   ]
  },
  {
   "cell_type": "code",
   "execution_count": 18,
   "metadata": {
    "collapsed": false
   },
   "outputs": [
    {
     "name": "stdout",
     "output_type": "stream",
     "text": [
      "151.21.109.132\n",
      "142.152.5.137\n",
      "142.152.5.137\n",
      "193.68.215.33\n",
      "193.68.215.33\n"
     ]
    }
   ],
   "source": [
    "for ip in ips.take(5):\n",
    "    print(ip)"
   ]
  },
  {
   "cell_type": "markdown",
   "metadata": {},
   "source": [
    "### Step 11 . Save IP addresses as a text file\n",
    "Finally, save the list of IP addresses as a text file to: iplist"
   ]
  },
  {
   "cell_type": "code",
   "execution_count": 19,
   "metadata": {
    "collapsed": true
   },
   "outputs": [],
   "source": [
    "ips.saveAsTextFile(\"iplist\")"
   ]
  },
  {
   "cell_type": "markdown",
   "metadata": {},
   "source": [
    "### Step 12: Display result folder\n",
    "\n",
    "List the contents of the **iplist** folder. You should see multiple files, including several part-xxxxx files, which are the files containing the output data. (“Part” (partition) files are numbered because there may be results from multiple tasks running on the cluster; you will learn more about this later.) Review the contents of one of the files to confirm that they were created correctly.\n"
   ]
  },
  {
   "cell_type": "code",
   "execution_count": 20,
   "metadata": {
    "collapsed": false
   },
   "outputs": [
    {
     "name": "stdout",
     "output_type": "stream",
     "text": [
      "total 16124\r\n",
      "-rw-r--r-- 1 cloudera cloudera 49760 Aug  1 13:57 part-00000\r\n",
      "-rw-r--r-- 1 cloudera cloudera 49838 Aug  1 13:57 part-00001\r\n",
      "-rw-r--r-- 1 cloudera cloudera 49984 Aug  1 13:57 part-00002\r\n",
      "-rw-r--r-- 1 cloudera cloudera 50010 Aug  1 13:57 part-00003\r\n",
      "-rw-r--r-- 1 cloudera cloudera 49785 Aug  1 13:57 part-00004\r\n",
      "-rw-r--r-- 1 cloudera cloudera 49750 Aug  1 13:57 part-00005\r\n",
      "-rw-r--r-- 1 cloudera cloudera 49629 Aug  1 13:57 part-00006\r\n",
      "-rw-r--r-- 1 cloudera cloudera 49851 Aug  1 13:57 part-00007\r\n",
      "-rw-r--r-- 1 cloudera cloudera 49762 Aug  1 13:57 part-00008\r\n",
      "-rw-r--r-- 1 cloudera cloudera 49904 Aug  1 13:57 part-00009\r\n",
      "-rw-r--r-- 1 cloudera cloudera 49901 Aug  1 13:57 part-00010\r\n",
      "-rw-r--r-- 1 cloudera cloudera 49772 Aug  1 13:57 part-00011\r\n",
      "-rw-r--r-- 1 cloudera cloudera 49617 Aug  1 13:57 part-00012\r\n",
      "-rw-r--r-- 1 cloudera cloudera 49996 Aug  1 13:57 part-00013\r\n",
      "-rw-r--r-- 1 cloudera cloudera 49864 Aug  1 13:57 part-00014\r\n",
      "-rw-r--r-- 1 cloudera cloudera 49793 Aug  1 13:57 part-00015\r\n",
      "-rw-r--r-- 1 cloudera cloudera 49850 Aug  1 13:57 part-00016\r\n",
      "-rw-r--r-- 1 cloudera cloudera 49793 Aug  1 13:57 part-00017\r\n",
      "-rw-r--r-- 1 cloudera cloudera 49896 Aug  1 13:57 part-00018\r\n",
      "-rw-r--r-- 1 cloudera cloudera 49624 Aug  1 13:57 part-00019\r\n",
      "-rw-r--r-- 1 cloudera cloudera 49771 Aug  1 13:57 part-00020\r\n",
      "-rw-r--r-- 1 cloudera cloudera 49725 Aug  1 13:57 part-00021\r\n",
      "-rw-r--r-- 1 cloudera cloudera 49823 Aug  1 13:57 part-00022\r\n",
      "-rw-r--r-- 1 cloudera cloudera 49674 Aug  1 13:57 part-00023\r\n",
      "-rw-r--r-- 1 cloudera cloudera 50154 Aug  1 13:57 part-00024\r\n",
      "-rw-r--r-- 1 cloudera cloudera 49770 Aug  1 13:57 part-00025\r\n",
      "-rw-r--r-- 1 cloudera cloudera 49810 Aug  1 13:57 part-00026\r\n",
      "-rw-r--r-- 1 cloudera cloudera 49807 Aug  1 13:57 part-00027\r\n",
      "-rw-r--r-- 1 cloudera cloudera 49901 Aug  1 13:57 part-00028\r\n",
      "-rw-r--r-- 1 cloudera cloudera 49784 Aug  1 13:57 part-00029\r\n",
      "-rw-r--r-- 1 cloudera cloudera 49779 Aug  1 13:57 part-00030\r\n",
      "-rw-r--r-- 1 cloudera cloudera 50011 Aug  1 13:57 part-00031\r\n",
      "-rw-r--r-- 1 cloudera cloudera 49914 Aug  1 13:57 part-00032\r\n",
      "-rw-r--r-- 1 cloudera cloudera 49903 Aug  1 13:57 part-00033\r\n",
      "-rw-r--r-- 1 cloudera cloudera 49866 Aug  1 13:57 part-00034\r\n",
      "-rw-r--r-- 1 cloudera cloudera 49854 Aug  1 13:57 part-00035\r\n",
      "-rw-r--r-- 1 cloudera cloudera 49793 Aug  1 13:57 part-00036\r\n",
      "-rw-r--r-- 1 cloudera cloudera 50010 Aug  1 13:57 part-00037\r\n",
      "-rw-r--r-- 1 cloudera cloudera 49865 Aug  1 13:57 part-00038\r\n",
      "-rw-r--r-- 1 cloudera cloudera 49863 Aug  1 13:57 part-00039\r\n",
      "-rw-r--r-- 1 cloudera cloudera 49779 Aug  1 13:57 part-00040\r\n",
      "-rw-r--r-- 1 cloudera cloudera 49949 Aug  1 13:57 part-00041\r\n",
      "-rw-r--r-- 1 cloudera cloudera 49496 Aug  1 13:57 part-00042\r\n",
      "-rw-r--r-- 1 cloudera cloudera 50055 Aug  1 13:57 part-00043\r\n",
      "-rw-r--r-- 1 cloudera cloudera 49907 Aug  1 13:57 part-00044\r\n",
      "-rw-r--r-- 1 cloudera cloudera 49973 Aug  1 13:57 part-00045\r\n",
      "-rw-r--r-- 1 cloudera cloudera 49806 Aug  1 13:57 part-00046\r\n",
      "-rw-r--r-- 1 cloudera cloudera 49864 Aug  1 13:57 part-00047\r\n",
      "-rw-r--r-- 1 cloudera cloudera 49863 Aug  1 13:57 part-00048\r\n",
      "-rw-r--r-- 1 cloudera cloudera 49945 Aug  1 13:57 part-00049\r\n",
      "-rw-r--r-- 1 cloudera cloudera 49570 Aug  1 13:57 part-00050\r\n",
      "-rw-r--r-- 1 cloudera cloudera 49558 Aug  1 13:57 part-00051\r\n",
      "-rw-r--r-- 1 cloudera cloudera 49996 Aug  1 13:57 part-00052\r\n",
      "-rw-r--r-- 1 cloudera cloudera 49697 Aug  1 13:57 part-00053\r\n",
      "-rw-r--r-- 1 cloudera cloudera 49877 Aug  1 13:57 part-00054\r\n",
      "-rw-r--r-- 1 cloudera cloudera 49958 Aug  1 13:57 part-00055\r\n",
      "-rw-r--r-- 1 cloudera cloudera 49802 Aug  1 13:57 part-00056\r\n",
      "-rw-r--r-- 1 cloudera cloudera 49846 Aug  1 13:57 part-00057\r\n",
      "-rw-r--r-- 1 cloudera cloudera 50023 Aug  1 13:57 part-00058\r\n",
      "-rw-r--r-- 1 cloudera cloudera 49690 Aug  1 13:57 part-00059\r\n",
      "-rw-r--r-- 1 cloudera cloudera 49647 Aug  1 13:57 part-00060\r\n",
      "-rw-r--r-- 1 cloudera cloudera 49760 Aug  1 13:57 part-00061\r\n",
      "-rw-r--r-- 1 cloudera cloudera 49947 Aug  1 13:57 part-00062\r\n",
      "-rw-r--r-- 1 cloudera cloudera 49643 Aug  1 13:57 part-00063\r\n",
      "-rw-r--r-- 1 cloudera cloudera 49774 Aug  1 13:57 part-00064\r\n",
      "-rw-r--r-- 1 cloudera cloudera 49774 Aug  1 13:57 part-00065\r\n",
      "-rw-r--r-- 1 cloudera cloudera 49789 Aug  1 13:57 part-00066\r\n",
      "-rw-r--r-- 1 cloudera cloudera 49825 Aug  1 13:57 part-00067\r\n",
      "-rw-r--r-- 1 cloudera cloudera 49683 Aug  1 13:57 part-00068\r\n",
      "-rw-r--r-- 1 cloudera cloudera 49879 Aug  1 13:57 part-00069\r\n",
      "-rw-r--r-- 1 cloudera cloudera 49926 Aug  1 13:57 part-00070\r\n",
      "-rw-r--r-- 1 cloudera cloudera 49584 Aug  1 13:57 part-00071\r\n",
      "-rw-r--r-- 1 cloudera cloudera 49774 Aug  1 13:57 part-00072\r\n",
      "-rw-r--r-- 1 cloudera cloudera 49611 Aug  1 13:57 part-00073\r\n",
      "-rw-r--r-- 1 cloudera cloudera 49768 Aug  1 13:57 part-00074\r\n",
      "-rw-r--r-- 1 cloudera cloudera 49698 Aug  1 13:57 part-00075\r\n",
      "-rw-r--r-- 1 cloudera cloudera 50058 Aug  1 13:57 part-00076\r\n",
      "-rw-r--r-- 1 cloudera cloudera 49564 Aug  1 13:57 part-00077\r\n",
      "-rw-r--r-- 1 cloudera cloudera 49718 Aug  1 13:57 part-00078\r\n",
      "-rw-r--r-- 1 cloudera cloudera 49798 Aug  1 13:57 part-00079\r\n",
      "-rw-r--r-- 1 cloudera cloudera 49806 Aug  1 13:57 part-00080\r\n",
      "-rw-r--r-- 1 cloudera cloudera 49954 Aug  1 13:57 part-00081\r\n",
      "-rw-r--r-- 1 cloudera cloudera 49736 Aug  1 13:57 part-00082\r\n",
      "-rw-r--r-- 1 cloudera cloudera 49692 Aug  1 13:57 part-00083\r\n",
      "-rw-r--r-- 1 cloudera cloudera 49913 Aug  1 13:57 part-00084\r\n",
      "-rw-r--r-- 1 cloudera cloudera 49926 Aug  1 13:57 part-00085\r\n",
      "-rw-r--r-- 1 cloudera cloudera 49907 Aug  1 13:57 part-00086\r\n",
      "-rw-r--r-- 1 cloudera cloudera 49761 Aug  1 13:57 part-00087\r\n",
      "-rw-r--r-- 1 cloudera cloudera 49672 Aug  1 13:57 part-00088\r\n",
      "-rw-r--r-- 1 cloudera cloudera 49708 Aug  1 13:57 part-00089\r\n",
      "-rw-r--r-- 1 cloudera cloudera 49839 Aug  1 13:57 part-00090\r\n",
      "-rw-r--r-- 1 cloudera cloudera 49849 Aug  1 13:57 part-00091\r\n",
      "-rw-r--r-- 1 cloudera cloudera 50090 Aug  1 13:57 part-00092\r\n",
      "-rw-r--r-- 1 cloudera cloudera 49724 Aug  1 13:57 part-00093\r\n",
      "-rw-r--r-- 1 cloudera cloudera 49747 Aug  1 13:57 part-00094\r\n",
      "-rw-r--r-- 1 cloudera cloudera 49845 Aug  1 13:57 part-00095\r\n",
      "-rw-r--r-- 1 cloudera cloudera 49987 Aug  1 13:57 part-00096\r\n",
      "-rw-r--r-- 1 cloudera cloudera 49853 Aug  1 13:57 part-00097\r\n",
      "-rw-r--r-- 1 cloudera cloudera 49934 Aug  1 13:57 part-00098\r\n",
      "-rw-r--r-- 1 cloudera cloudera 49433 Aug  1 13:57 part-00099\r\n",
      "-rw-r--r-- 1 cloudera cloudera 49840 Aug  1 13:57 part-00100\r\n",
      "-rw-r--r-- 1 cloudera cloudera 50041 Aug  1 13:57 part-00101\r\n",
      "-rw-r--r-- 1 cloudera cloudera 49750 Aug  1 13:57 part-00102\r\n",
      "-rw-r--r-- 1 cloudera cloudera 50030 Aug  1 13:57 part-00103\r\n",
      "-rw-r--r-- 1 cloudera cloudera 49786 Aug  1 13:57 part-00104\r\n",
      "-rw-r--r-- 1 cloudera cloudera 49824 Aug  1 13:57 part-00105\r\n",
      "-rw-r--r-- 1 cloudera cloudera 49781 Aug  1 13:57 part-00106\r\n",
      "-rw-r--r-- 1 cloudera cloudera 49821 Aug  1 13:57 part-00107\r\n",
      "-rw-r--r-- 1 cloudera cloudera 49846 Aug  1 13:57 part-00108\r\n",
      "-rw-r--r-- 1 cloudera cloudera 49615 Aug  1 13:57 part-00109\r\n",
      "-rw-r--r-- 1 cloudera cloudera 49672 Aug  1 13:57 part-00110\r\n",
      "-rw-r--r-- 1 cloudera cloudera 49772 Aug  1 13:57 part-00111\r\n",
      "-rw-r--r-- 1 cloudera cloudera 49920 Aug  1 13:57 part-00112\r\n",
      "-rw-r--r-- 1 cloudera cloudera 49772 Aug  1 13:57 part-00113\r\n",
      "-rw-r--r-- 1 cloudera cloudera 49861 Aug  1 13:57 part-00114\r\n",
      "-rw-r--r-- 1 cloudera cloudera 49810 Aug  1 13:57 part-00115\r\n",
      "-rw-r--r-- 1 cloudera cloudera 49759 Aug  1 13:57 part-00116\r\n",
      "-rw-r--r-- 1 cloudera cloudera 49464 Aug  1 13:57 part-00117\r\n",
      "-rw-r--r-- 1 cloudera cloudera 49860 Aug  1 13:57 part-00118\r\n",
      "-rw-r--r-- 1 cloudera cloudera 49723 Aug  1 13:57 part-00119\r\n",
      "-rw-r--r-- 1 cloudera cloudera 49735 Aug  1 13:58 part-00120\r\n",
      "-rw-r--r-- 1 cloudera cloudera 49685 Aug  1 13:58 part-00121\r\n",
      "-rw-r--r-- 1 cloudera cloudera 49950 Aug  1 13:58 part-00122\r\n",
      "-rw-r--r-- 1 cloudera cloudera 49686 Aug  1 13:58 part-00123\r\n",
      "-rw-r--r-- 1 cloudera cloudera 49709 Aug  1 13:58 part-00124\r\n",
      "-rw-r--r-- 1 cloudera cloudera 49783 Aug  1 13:58 part-00125\r\n",
      "-rw-r--r-- 1 cloudera cloudera 49856 Aug  1 13:58 part-00126\r\n",
      "-rw-r--r-- 1 cloudera cloudera 49898 Aug  1 13:58 part-00127\r\n",
      "-rw-r--r-- 1 cloudera cloudera 50030 Aug  1 13:58 part-00128\r\n",
      "-rw-r--r-- 1 cloudera cloudera 49862 Aug  1 13:58 part-00129\r\n",
      "-rw-r--r-- 1 cloudera cloudera 49707 Aug  1 13:58 part-00130\r\n",
      "-rw-r--r-- 1 cloudera cloudera 49734 Aug  1 13:58 part-00131\r\n",
      "-rw-r--r-- 1 cloudera cloudera 49811 Aug  1 13:58 part-00132\r\n",
      "-rw-r--r-- 1 cloudera cloudera 49663 Aug  1 13:58 part-00133\r\n",
      "-rw-r--r-- 1 cloudera cloudera 49729 Aug  1 13:58 part-00134\r\n",
      "-rw-r--r-- 1 cloudera cloudera 49758 Aug  1 13:58 part-00135\r\n",
      "-rw-r--r-- 1 cloudera cloudera 49911 Aug  1 13:58 part-00136\r\n",
      "-rw-r--r-- 1 cloudera cloudera 49768 Aug  1 13:58 part-00137\r\n",
      "-rw-r--r-- 1 cloudera cloudera 49805 Aug  1 13:58 part-00138\r\n",
      "-rw-r--r-- 1 cloudera cloudera 49890 Aug  1 13:58 part-00139\r\n",
      "-rw-r--r-- 1 cloudera cloudera 49524 Aug  1 13:58 part-00140\r\n",
      "-rw-r--r-- 1 cloudera cloudera 49818 Aug  1 13:58 part-00141\r\n",
      "-rw-r--r-- 1 cloudera cloudera 49604 Aug  1 13:58 part-00142\r\n",
      "-rw-r--r-- 1 cloudera cloudera 49813 Aug  1 13:58 part-00143\r\n",
      "-rw-r--r-- 1 cloudera cloudera 50044 Aug  1 13:58 part-00144\r\n",
      "-rw-r--r-- 1 cloudera cloudera 50138 Aug  1 13:58 part-00145\r\n",
      "-rw-r--r-- 1 cloudera cloudera 49759 Aug  1 13:58 part-00146\r\n",
      "-rw-r--r-- 1 cloudera cloudera 49732 Aug  1 13:58 part-00147\r\n",
      "-rw-r--r-- 1 cloudera cloudera 49709 Aug  1 13:58 part-00148\r\n",
      "-rw-r--r-- 1 cloudera cloudera 49698 Aug  1 13:58 part-00149\r\n",
      "-rw-r--r-- 1 cloudera cloudera 49698 Aug  1 13:58 part-00150\r\n",
      "-rw-r--r-- 1 cloudera cloudera 49818 Aug  1 13:58 part-00151\r\n",
      "-rw-r--r-- 1 cloudera cloudera 49657 Aug  1 13:58 part-00152\r\n",
      "-rw-r--r-- 1 cloudera cloudera 49770 Aug  1 13:58 part-00153\r\n",
      "-rw-r--r-- 1 cloudera cloudera 49877 Aug  1 13:58 part-00154\r\n",
      "-rw-r--r-- 1 cloudera cloudera 49933 Aug  1 13:58 part-00155\r\n",
      "-rw-r--r-- 1 cloudera cloudera 49766 Aug  1 13:58 part-00156\r\n",
      "-rw-r--r-- 1 cloudera cloudera 49700 Aug  1 13:58 part-00157\r\n",
      "-rw-r--r-- 1 cloudera cloudera 49859 Aug  1 13:58 part-00158\r\n",
      "-rw-r--r-- 1 cloudera cloudera 49980 Aug  1 13:58 part-00159\r\n",
      "-rw-r--r-- 1 cloudera cloudera 49904 Aug  1 13:58 part-00160\r\n",
      "-rw-r--r-- 1 cloudera cloudera 49909 Aug  1 13:58 part-00161\r\n",
      "-rw-r--r-- 1 cloudera cloudera 49570 Aug  1 13:58 part-00162\r\n",
      "-rw-r--r-- 1 cloudera cloudera 49699 Aug  1 13:58 part-00163\r\n",
      "-rw-r--r-- 1 cloudera cloudera 49885 Aug  1 13:58 part-00164\r\n",
      "-rw-r--r-- 1 cloudera cloudera 49985 Aug  1 13:58 part-00165\r\n",
      "-rw-r--r-- 1 cloudera cloudera 49925 Aug  1 13:58 part-00166\r\n",
      "-rw-r--r-- 1 cloudera cloudera 49995 Aug  1 13:58 part-00167\r\n",
      "-rw-r--r-- 1 cloudera cloudera 49777 Aug  1 13:58 part-00168\r\n",
      "-rw-r--r-- 1 cloudera cloudera 49956 Aug  1 13:58 part-00169\r\n",
      "-rw-r--r-- 1 cloudera cloudera 49682 Aug  1 13:58 part-00170\r\n",
      "-rw-r--r-- 1 cloudera cloudera 49737 Aug  1 13:58 part-00171\r\n",
      "-rw-r--r-- 1 cloudera cloudera 49708 Aug  1 13:58 part-00172\r\n",
      "-rw-r--r-- 1 cloudera cloudera 49583 Aug  1 13:58 part-00173\r\n",
      "-rw-r--r-- 1 cloudera cloudera 49781 Aug  1 13:58 part-00174\r\n",
      "-rw-r--r-- 1 cloudera cloudera 49956 Aug  1 13:58 part-00175\r\n",
      "-rw-r--r-- 1 cloudera cloudera 49914 Aug  1 13:58 part-00176\r\n",
      "-rw-r--r-- 1 cloudera cloudera 49723 Aug  1 13:58 part-00177\r\n",
      "-rw-r--r-- 1 cloudera cloudera 49803 Aug  1 13:58 part-00178\r\n",
      "-rw-r--r-- 1 cloudera cloudera 49821 Aug  1 13:58 part-00179\r\n",
      "-rw-r--r-- 1 cloudera cloudera 49745 Aug  1 13:58 part-00180\r\n",
      "-rw-r--r-- 1 cloudera cloudera 49947 Aug  1 13:58 part-00181\r\n",
      "-rw-r--r-- 1 cloudera cloudera 49956 Aug  1 13:58 part-00182\r\n",
      "-rw-r--r-- 1 cloudera cloudera 49626 Aug  1 13:58 part-00183\r\n",
      "-rw-r--r-- 1 cloudera cloudera 49914 Aug  1 13:58 part-00184\r\n",
      "-rw-r--r-- 1 cloudera cloudera 49795 Aug  1 13:58 part-00185\r\n",
      "-rw-r--r-- 1 cloudera cloudera 49862 Aug  1 13:58 part-00186\r\n",
      "-rw-r--r-- 1 cloudera cloudera 49942 Aug  1 13:58 part-00187\r\n",
      "-rw-r--r-- 1 cloudera cloudera 49821 Aug  1 13:58 part-00188\r\n",
      "-rw-r--r-- 1 cloudera cloudera 49766 Aug  1 13:58 part-00189\r\n",
      "-rw-r--r-- 1 cloudera cloudera 50019 Aug  1 13:58 part-00190\r\n",
      "-rw-r--r-- 1 cloudera cloudera 49808 Aug  1 13:58 part-00191\r\n",
      "-rw-r--r-- 1 cloudera cloudera 49886 Aug  1 13:58 part-00192\r\n",
      "-rw-r--r-- 1 cloudera cloudera 49983 Aug  1 13:58 part-00193\r\n",
      "-rw-r--r-- 1 cloudera cloudera 49591 Aug  1 13:58 part-00194\r\n",
      "-rw-r--r-- 1 cloudera cloudera 49844 Aug  1 13:58 part-00195\r\n",
      "-rw-r--r-- 1 cloudera cloudera 49692 Aug  1 13:58 part-00196\r\n",
      "-rw-r--r-- 1 cloudera cloudera 49828 Aug  1 13:58 part-00197\r\n",
      "-rw-r--r-- 1 cloudera cloudera 49695 Aug  1 13:58 part-00198\r\n",
      "-rw-r--r-- 1 cloudera cloudera 49824 Aug  1 13:58 part-00199\r\n",
      "-rw-r--r-- 1 cloudera cloudera 49751 Aug  1 13:58 part-00200\r\n",
      "-rw-r--r-- 1 cloudera cloudera 49493 Aug  1 13:58 part-00201\r\n",
      "-rw-r--r-- 1 cloudera cloudera 49949 Aug  1 13:58 part-00202\r\n",
      "-rw-r--r-- 1 cloudera cloudera 49677 Aug  1 13:58 part-00203\r\n",
      "-rw-r--r-- 1 cloudera cloudera 49699 Aug  1 13:58 part-00204\r\n",
      "-rw-r--r-- 1 cloudera cloudera 49893 Aug  1 13:58 part-00205\r\n",
      "-rw-r--r-- 1 cloudera cloudera 50035 Aug  1 13:58 part-00206\r\n",
      "-rw-r--r-- 1 cloudera cloudera 50016 Aug  1 13:58 part-00207\r\n",
      "-rw-r--r-- 1 cloudera cloudera 49709 Aug  1 13:58 part-00208\r\n",
      "-rw-r--r-- 1 cloudera cloudera 49586 Aug  1 13:58 part-00209\r\n",
      "-rw-r--r-- 1 cloudera cloudera 49832 Aug  1 13:58 part-00210\r\n",
      "-rw-r--r-- 1 cloudera cloudera 49927 Aug  1 13:58 part-00211\r\n",
      "-rw-r--r-- 1 cloudera cloudera 49913 Aug  1 13:58 part-00212\r\n",
      "-rw-r--r-- 1 cloudera cloudera 49453 Aug  1 13:58 part-00213\r\n",
      "-rw-r--r-- 1 cloudera cloudera 49936 Aug  1 13:58 part-00214\r\n",
      "-rw-r--r-- 1 cloudera cloudera 49858 Aug  1 13:58 part-00215\r\n",
      "-rw-r--r-- 1 cloudera cloudera 49822 Aug  1 13:58 part-00216\r\n",
      "-rw-r--r-- 1 cloudera cloudera 49938 Aug  1 13:58 part-00217\r\n",
      "-rw-r--r-- 1 cloudera cloudera 49891 Aug  1 13:58 part-00218\r\n",
      "-rw-r--r-- 1 cloudera cloudera 49966 Aug  1 13:58 part-00219\r\n",
      "-rw-r--r-- 1 cloudera cloudera 49906 Aug  1 13:58 part-00220\r\n",
      "-rw-r--r-- 1 cloudera cloudera 49809 Aug  1 13:58 part-00221\r\n",
      "-rw-r--r-- 1 cloudera cloudera 49840 Aug  1 13:58 part-00222\r\n",
      "-rw-r--r-- 1 cloudera cloudera 49716 Aug  1 13:58 part-00223\r\n",
      "-rw-r--r-- 1 cloudera cloudera 49576 Aug  1 13:58 part-00224\r\n",
      "-rw-r--r-- 1 cloudera cloudera 49980 Aug  1 13:58 part-00225\r\n",
      "-rw-r--r-- 1 cloudera cloudera 49669 Aug  1 13:58 part-00226\r\n",
      "-rw-r--r-- 1 cloudera cloudera 49808 Aug  1 13:58 part-00227\r\n",
      "-rw-r--r-- 1 cloudera cloudera 49668 Aug  1 13:58 part-00228\r\n",
      "-rw-r--r-- 1 cloudera cloudera 49904 Aug  1 13:58 part-00229\r\n",
      "-rw-r--r-- 1 cloudera cloudera 49662 Aug  1 13:58 part-00230\r\n",
      "-rw-r--r-- 1 cloudera cloudera 49903 Aug  1 13:58 part-00231\r\n",
      "-rw-r--r-- 1 cloudera cloudera 49779 Aug  1 13:58 part-00232\r\n",
      "-rw-r--r-- 1 cloudera cloudera 49929 Aug  1 13:58 part-00233\r\n",
      "-rw-r--r-- 1 cloudera cloudera 49599 Aug  1 13:58 part-00234\r\n",
      "-rw-r--r-- 1 cloudera cloudera 50063 Aug  1 13:58 part-00235\r\n",
      "-rw-r--r-- 1 cloudera cloudera 49979 Aug  1 13:58 part-00236\r\n",
      "-rw-r--r-- 1 cloudera cloudera 49833 Aug  1 13:58 part-00237\r\n",
      "-rw-r--r-- 1 cloudera cloudera 49854 Aug  1 13:58 part-00238\r\n",
      "-rw-r--r-- 1 cloudera cloudera 49695 Aug  1 13:58 part-00239\r\n",
      "-rw-r--r-- 1 cloudera cloudera 49720 Aug  1 13:58 part-00240\r\n",
      "-rw-r--r-- 1 cloudera cloudera 49705 Aug  1 13:58 part-00241\r\n",
      "-rw-r--r-- 1 cloudera cloudera 49900 Aug  1 13:58 part-00242\r\n",
      "-rw-r--r-- 1 cloudera cloudera 49853 Aug  1 13:58 part-00243\r\n",
      "-rw-r--r-- 1 cloudera cloudera 49878 Aug  1 13:58 part-00244\r\n",
      "-rw-r--r-- 1 cloudera cloudera 49814 Aug  1 13:58 part-00245\r\n",
      "-rw-r--r-- 1 cloudera cloudera 49670 Aug  1 13:58 part-00246\r\n",
      "-rw-r--r-- 1 cloudera cloudera 49714 Aug  1 13:58 part-00247\r\n",
      "-rw-r--r-- 1 cloudera cloudera 49492 Aug  1 13:58 part-00248\r\n",
      "-rw-r--r-- 1 cloudera cloudera 49757 Aug  1 13:58 part-00249\r\n",
      "-rw-r--r-- 1 cloudera cloudera 49788 Aug  1 13:58 part-00250\r\n",
      "-rw-r--r-- 1 cloudera cloudera 49973 Aug  1 13:58 part-00251\r\n",
      "-rw-r--r-- 1 cloudera cloudera 50039 Aug  1 13:58 part-00252\r\n",
      "-rw-r--r-- 1 cloudera cloudera 49695 Aug  1 13:58 part-00253\r\n",
      "-rw-r--r-- 1 cloudera cloudera 49836 Aug  1 13:58 part-00254\r\n",
      "-rw-r--r-- 1 cloudera cloudera 49828 Aug  1 13:58 part-00255\r\n",
      "-rw-r--r-- 1 cloudera cloudera 49619 Aug  1 13:58 part-00256\r\n",
      "-rw-r--r-- 1 cloudera cloudera 49928 Aug  1 13:58 part-00257\r\n",
      "-rw-r--r-- 1 cloudera cloudera 49732 Aug  1 13:58 part-00258\r\n",
      "-rw-r--r-- 1 cloudera cloudera 49784 Aug  1 13:58 part-00259\r\n",
      "-rw-r--r-- 1 cloudera cloudera 49794 Aug  1 13:58 part-00260\r\n",
      "-rw-r--r-- 1 cloudera cloudera 49718 Aug  1 13:58 part-00261\r\n",
      "-rw-r--r-- 1 cloudera cloudera 49764 Aug  1 13:58 part-00262\r\n",
      "-rw-r--r-- 1 cloudera cloudera 49867 Aug  1 13:58 part-00263\r\n",
      "-rw-r--r-- 1 cloudera cloudera 49964 Aug  1 13:58 part-00264\r\n",
      "-rw-r--r-- 1 cloudera cloudera 49870 Aug  1 13:58 part-00265\r\n",
      "-rw-r--r-- 1 cloudera cloudera 49811 Aug  1 13:58 part-00266\r\n",
      "-rw-r--r-- 1 cloudera cloudera 49784 Aug  1 13:58 part-00267\r\n",
      "-rw-r--r-- 1 cloudera cloudera 50078 Aug  1 13:58 part-00268\r\n",
      "-rw-r--r-- 1 cloudera cloudera 49996 Aug  1 13:58 part-00269\r\n",
      "-rw-r--r-- 1 cloudera cloudera 49726 Aug  1 13:58 part-00270\r\n",
      "-rw-r--r-- 1 cloudera cloudera 50091 Aug  1 13:58 part-00271\r\n",
      "-rw-r--r-- 1 cloudera cloudera  2084 Aug  1 13:58 part-00272\r\n",
      "-rw-r--r-- 1 cloudera cloudera 49520 Aug  1 13:58 part-00273\r\n",
      "-rw-r--r-- 1 cloudera cloudera 49804 Aug  1 13:58 part-00274\r\n",
      "-rw-r--r-- 1 cloudera cloudera 49786 Aug  1 13:58 part-00275\r\n",
      "-rw-r--r-- 1 cloudera cloudera 49896 Aug  1 13:58 part-00276\r\n",
      "-rw-r--r-- 1 cloudera cloudera 49923 Aug  1 13:58 part-00277\r\n",
      "-rw-r--r-- 1 cloudera cloudera 49911 Aug  1 13:58 part-00278\r\n",
      "-rw-r--r-- 1 cloudera cloudera 49679 Aug  1 13:58 part-00279\r\n",
      "-rw-r--r-- 1 cloudera cloudera 49590 Aug  1 13:58 part-00280\r\n",
      "-rw-r--r-- 1 cloudera cloudera 49951 Aug  1 13:58 part-00281\r\n",
      "-rw-r--r-- 1 cloudera cloudera 49845 Aug  1 13:58 part-00282\r\n",
      "-rw-r--r-- 1 cloudera cloudera 49825 Aug  1 13:58 part-00283\r\n",
      "-rw-r--r-- 1 cloudera cloudera 49811 Aug  1 13:58 part-00284\r\n",
      "-rw-r--r-- 1 cloudera cloudera 49874 Aug  1 13:58 part-00285\r\n",
      "-rw-r--r-- 1 cloudera cloudera 49707 Aug  1 13:58 part-00286\r\n",
      "-rw-r--r-- 1 cloudera cloudera 49633 Aug  1 13:58 part-00287\r\n",
      "-rw-r--r-- 1 cloudera cloudera 49717 Aug  1 13:58 part-00288\r\n",
      "-rw-r--r-- 1 cloudera cloudera 49681 Aug  1 13:58 part-00289\r\n",
      "-rw-r--r-- 1 cloudera cloudera 50019 Aug  1 13:58 part-00290\r\n",
      "-rw-r--r-- 1 cloudera cloudera 49931 Aug  1 13:58 part-00291\r\n",
      "-rw-r--r-- 1 cloudera cloudera 49698 Aug  1 13:58 part-00292\r\n",
      "-rw-r--r-- 1 cloudera cloudera 49433 Aug  1 13:58 part-00293\r\n",
      "-rw-r--r-- 1 cloudera cloudera 49800 Aug  1 13:58 part-00294\r\n",
      "-rw-r--r-- 1 cloudera cloudera 49745 Aug  1 13:58 part-00295\r\n",
      "-rw-r--r-- 1 cloudera cloudera 49708 Aug  1 13:58 part-00296\r\n",
      "-rw-r--r-- 1 cloudera cloudera 49860 Aug  1 13:58 part-00297\r\n",
      "-rw-r--r-- 1 cloudera cloudera 49915 Aug  1 13:58 part-00298\r\n",
      "-rw-r--r-- 1 cloudera cloudera 49747 Aug  1 13:58 part-00299\r\n",
      "-rw-r--r-- 1 cloudera cloudera 49887 Aug  1 13:58 part-00300\r\n",
      "-rw-r--r-- 1 cloudera cloudera 50102 Aug  1 13:58 part-00301\r\n",
      "-rw-r--r-- 1 cloudera cloudera 49971 Aug  1 13:58 part-00302\r\n",
      "-rw-r--r-- 1 cloudera cloudera 49898 Aug  1 13:58 part-00303\r\n",
      "-rw-r--r-- 1 cloudera cloudera 49732 Aug  1 13:58 part-00304\r\n",
      "-rw-r--r-- 1 cloudera cloudera 49729 Aug  1 13:58 part-00305\r\n",
      "-rw-r--r-- 1 cloudera cloudera 49630 Aug  1 13:58 part-00306\r\n",
      "-rw-r--r-- 1 cloudera cloudera 49896 Aug  1 13:58 part-00307\r\n",
      "-rw-r--r-- 1 cloudera cloudera 50011 Aug  1 13:58 part-00308\r\n",
      "-rw-r--r-- 1 cloudera cloudera 49958 Aug  1 13:58 part-00309\r\n",
      "-rw-r--r-- 1 cloudera cloudera 49899 Aug  1 13:58 part-00310\r\n",
      "-rw-r--r-- 1 cloudera cloudera     0 Aug  1 13:58 _SUCCESS\r\n"
     ]
    }
   ],
   "source": [
    "! ls -l iplist"
   ]
  },
  {
   "cell_type": "markdown",
   "metadata": {},
   "source": [
    "### Step 13. Create a User-IP dataset\n",
    "Use RDD transformations to create a dataset consisting of the IP address and corresponding user ID for each request for an HTML file. (Disregard requests for other file types). The user ID is the third field in each log file line. Rows in the new RDD should be like:\n",
    "```\n",
    "(165.32.101.206, 8)\n",
    "(100.219.90.44, 102)\n",
    "...\n",
    "```"
   ]
  },
  {
   "cell_type": "code",
   "execution_count": 30,
   "metadata": {
    "collapsed": true
   },
   "outputs": [],
   "source": [
    "ipusers = logs.filter(lambda line: \".html\" in line) \\\n",
    "    .map(lambda line: (line.split()[0], line.split()[2]))"
   ]
  },
  {
   "cell_type": "markdown",
   "metadata": {},
   "source": [
    "Display the first 10 rows in the form ipaddress/userid, e.g.:\n",
    "```\n",
    "165.32.101.206/8\n",
    "100.219.90.44/102\t\n",
    "182.4.148.56/173\n",
    "246.241.6.175/45395\n",
    "175.223.172.207/4115\n",
    "```"
   ]
  },
  {
   "cell_type": "code",
   "execution_count": 34,
   "metadata": {
    "collapsed": false
   },
   "outputs": [
    {
     "name": "stdout",
     "output_type": "stream",
     "text": [
      "142.152.5.137/88890\n",
      "193.68.215.33/108180\n",
      "97.76.130.234/96\n",
      "184.216.140.241/202\n",
      "200.149.118.18/61733\n",
      "171.148.136.192/171\n",
      "114.56.156.55/62826\n",
      "86.125.145.15/7362\n",
      "138.147.182.19/47\n",
      "122.3.151.2/177\n"
     ]
    }
   ],
   "source": [
    "for ipuser in ipusers.take(10):\n",
    "    print(\"{}/{}\").format(*ipuser)"
   ]
  },
  {
   "cell_type": "markdown",
   "metadata": {},
   "source": [
    "display the # of records"
   ]
  },
  {
   "cell_type": "code",
   "execution_count": null,
   "metadata": {
    "collapsed": true
   },
   "outputs": [],
   "source": []
  }
 ],
 "metadata": {
  "kernelspec": {
   "display_name": "Python 2",
   "language": "python",
   "name": "python2"
  },
  "language_info": {
   "codemirror_mode": {
    "name": "ipython",
    "version": 2
   },
   "file_extension": ".py",
   "mimetype": "text/x-python",
   "name": "python",
   "nbconvert_exporter": "python",
   "pygments_lexer": "ipython2",
   "version": "2.7.13"
  }
 },
 "nbformat": 4,
 "nbformat_minor": 2
}
