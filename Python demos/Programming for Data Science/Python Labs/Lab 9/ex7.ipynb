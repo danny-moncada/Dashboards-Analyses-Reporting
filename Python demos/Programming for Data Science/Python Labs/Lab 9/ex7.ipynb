{
 "cells": [
  {
   "cell_type": "code",
   "execution_count": 1,
   "metadata": {
    "collapsed": true
   },
   "outputs": [],
   "source": [
    "import pandas as pd\n",
    "from pandas import Series, DataFrame\n",
    "import datetime as dt"
   ]
  },
  {
   "cell_type": "code",
   "execution_count": 154,
   "metadata": {
    "collapsed": true
   },
   "outputs": [],
   "source": [
    "def total_votes(filename):\n",
    "    \n",
    "    exercise_df = pd.read_html(filename, header = 0)[0]\n",
    "    return (sum(exercise_df['vote_yes']), sum(exercise_df['vote_no']))\n",
    "\n",
    "def num_states_passed(filename):\n",
    "    exercise_df = pd.read_html(filename, header = 0)[0]\n",
    "    by_state = exercise_df.groupby('state').sum()\n",
    "    \n",
    "    return len(by_state.where(by_state['vote_yes'] > by_state['vote_no']).dropna())\n",
    "\n",
    "def highest_pct(filename):\n",
    "    states_df = pd.read_html(filename, header = 0)[0]\n",
    "    states_df = states_df.groupby('state').sum().reset_index()\n",
    "    states_df['total_votes'] = states_df['vote_yes'] + states_df['vote_no']\n",
    "    \n",
    "    states_df['yes percentage'] = states_df['vote_yes'] / states_df['total_votes']\n",
    "    states_df['no percentage'] = states_df['vote_no'] / states_df['total_votes']\n",
    "\n",
    "    highest_yes = states_df[states_df['yes percentage'] == max(states_df['yes percentage'])].state.item()\n",
    "    highest_no = states_df[states_df['no percentage'] == max(states_df['no percentage'])].state.item()\n",
    "    \n",
    "    return (highest_yes, highest_no)\n",
    "\n",
    "def potential_fraud(filename):\n",
    "    cities_df = pd.read_html(filename, header = 0)[0]\n",
    "    return cities_df[cities_df['vote_yes'] + cities_df['vote_no'] > cities_df['population']]['city'].values"
   ]
  },
  {
   "cell_type": "code",
   "execution_count": 155,
   "metadata": {},
   "outputs": [
    {
     "name": "stdout",
     "output_type": "stream",
     "text": [
      "(4740781, 4941778)\n",
      "21\n",
      "('MT', 'DE')\n",
      "['BERKELEY' 'RAMSEUR' 'MANSFIELD' 'MILLERS CREEK' 'MAPLE SHADE' 'AGUADA'\n",
      " 'BELLE RIVE' 'PROVO' 'GORDO' 'PHOENIX' 'OLATHE' 'BILLINGS' 'EVERETT'\n",
      " 'MOBILE' 'CRANSTON' 'GRANT' 'TOMS RIVER' 'DOUGLASVILLE' 'CARBONDALE'\n",
      " 'PALESTINE' 'MIAMI' 'RISING FAWN' 'UNION GROVE' 'PHENIX CITY' 'OPP'\n",
      " 'QUEBRADILLAS' 'PEORIA' 'YORK' 'WOLCOTT' 'CHESTER' 'SENECA' 'FENTON'\n",
      " 'NAPLES' 'MATAWAN' 'ALBANY' 'OAK LAWN' 'AVON' 'RIDGELY' 'OAK LAWN'\n",
      " 'WORCESTER' 'BARRINGTON' 'VALLEY GRANDE' 'WEST SPRINGFIELD'\n",
      " 'COLLINGSWOOD' 'BOYERTOWN' 'BRONX' 'RUSSELLVILLE' 'CAGUAS' 'ROCKVILLE'\n",
      " 'HOLYOKE' 'GAINESVILLE' 'DEEP RIVER' 'PARRISH' 'SANTA FE' 'GARLAND'\n",
      " 'PHIL CAMPBELL' 'SAN FRANCISCO' 'COVINGTON' 'COLUMBIA' 'MANISTIQUE'\n",
      " 'YARDLEY' 'FALL RIVER' 'AMERICUS' 'HUNTSVILLE' 'INGLEWOOD' 'WINFIELD'\n",
      " 'PRINCETON' 'SAN GERMAN' 'ATCO' 'MONROE' 'ADDISON' 'GORDO' 'SEALE'\n",
      " 'TOA BAJA' 'WASHINGTON' 'KINGSTON' 'BRANSON' 'DEMOTTE' 'BENWOOD' 'ORONO'\n",
      " 'PONTE VEDRA BEACH' 'ROANOKE' 'WILLIAMS' 'MADISON' 'PINE BLUFF'\n",
      " 'CROSSVILLE' 'EATON RAPIDS' 'GREAT NECK' 'THURMAN' 'CEDARVILLE']\n"
     ]
    }
   ],
   "source": [
    "print(total_votes('exercise.html'))\n",
    "print(num_states_passed('exercise.html'))\n",
    "print(highest_pct('exercise.html'))\n",
    "print(potential_fraud('exercise.html'))"
   ]
  },
  {
   "cell_type": "code",
   "execution_count": 110,
   "metadata": {
    "collapsed": true
   },
   "outputs": [],
   "source": [
    "states_df = exercise_df"
   ]
  },
  {
   "cell_type": "code",
   "execution_count": 102,
   "metadata": {},
   "outputs": [
    {
     "data": {
      "text/html": [
       "<div>\n",
       "<style scoped>\n",
       "    .dataframe tbody tr th:only-of-type {\n",
       "        vertical-align: middle;\n",
       "    }\n",
       "\n",
       "    .dataframe tbody tr th {\n",
       "        vertical-align: top;\n",
       "    }\n",
       "\n",
       "    .dataframe thead th {\n",
       "        text-align: right;\n",
       "    }\n",
       "</style>\n",
       "<table border=\"1\" class=\"dataframe\">\n",
       "  <thead>\n",
       "    <tr style=\"text-align: right;\">\n",
       "      <th></th>\n",
       "      <th>city</th>\n",
       "      <th>state</th>\n",
       "      <th>vote_yes</th>\n",
       "      <th>vote_no</th>\n",
       "      <th>population</th>\n",
       "    </tr>\n",
       "  </thead>\n",
       "  <tbody>\n",
       "    <tr>\n",
       "      <th>25</th>\n",
       "      <td>ALBANY</td>\n",
       "      <td>NY</td>\n",
       "      <td>7259</td>\n",
       "      <td>1009</td>\n",
       "      <td>26533</td>\n",
       "    </tr>\n",
       "    <tr>\n",
       "      <th>105</th>\n",
       "      <td>ALBANY</td>\n",
       "      <td>NY</td>\n",
       "      <td>6768</td>\n",
       "      <td>4968</td>\n",
       "      <td>19319</td>\n",
       "    </tr>\n",
       "    <tr>\n",
       "      <th>157</th>\n",
       "      <td>ALBANY</td>\n",
       "      <td>NY</td>\n",
       "      <td>8168</td>\n",
       "      <td>8481</td>\n",
       "      <td>18677</td>\n",
       "    </tr>\n",
       "    <tr>\n",
       "      <th>264</th>\n",
       "      <td>ALBANY</td>\n",
       "      <td>NY</td>\n",
       "      <td>322</td>\n",
       "      <td>3027</td>\n",
       "      <td>29622</td>\n",
       "    </tr>\n",
       "    <tr>\n",
       "      <th>402</th>\n",
       "      <td>ALBANY</td>\n",
       "      <td>NY</td>\n",
       "      <td>7980</td>\n",
       "      <td>7855</td>\n",
       "      <td>12574</td>\n",
       "    </tr>\n",
       "  </tbody>\n",
       "</table>\n",
       "</div>"
      ],
      "text/plain": [
       "       city state  vote_yes  vote_no  population\n",
       "25   ALBANY    NY      7259     1009       26533\n",
       "105  ALBANY    NY      6768     4968       19319\n",
       "157  ALBANY    NY      8168     8481       18677\n",
       "264  ALBANY    NY       322     3027       29622\n",
       "402  ALBANY    NY      7980     7855       12574"
      ]
     },
     "execution_count": 102,
     "metadata": {},
     "output_type": "execute_result"
    }
   ],
   "source": [
    "exercise_df[exercise_df['city'] == 'ALBANY']"
   ]
  },
  {
   "cell_type": "code",
   "execution_count": 133,
   "metadata": {
    "collapsed": true
   },
   "outputs": [],
   "source": [
    "states_df = states_df.groupby('state').sum().reset_index()"
   ]
  },
  {
   "cell_type": "code",
   "execution_count": 134,
   "metadata": {
    "collapsed": true
   },
   "outputs": [],
   "source": [
    "states_df['total_votes'] = states_df['vote_yes'] + states_df['vote_no']"
   ]
  },
  {
   "cell_type": "code",
   "execution_count": 135,
   "metadata": {
    "collapsed": true
   },
   "outputs": [],
   "source": []
  },
  {
   "cell_type": "code",
   "execution_count": 152,
   "metadata": {
    "collapsed": true
   },
   "outputs": [],
   "source": []
  },
  {
   "cell_type": "code",
   "execution_count": 153,
   "metadata": {},
   "outputs": [
    {
     "data": {
      "text/plain": [
       "('MT', 'DE')"
      ]
     },
     "execution_count": 153,
     "metadata": {},
     "output_type": "execute_result"
    }
   ],
   "source": [
    "(highest_yes, highest_no)"
   ]
  },
  {
   "cell_type": "code",
   "execution_count": 57,
   "metadata": {},
   "outputs": [
    {
     "data": {
      "text/plain": [
       "21"
      ]
     },
     "execution_count": 57,
     "metadata": {},
     "output_type": "execute_result"
    }
   ],
   "source": [
    "len(by_state.where(by_state['vote_yes'] > by_state['vote_no']).dropna())\n",
    "\n",
    "\n"
   ]
  },
  {
   "cell_type": "code",
   "execution_count": null,
   "metadata": {
    "collapsed": true
   },
   "outputs": [],
   "source": []
  }
 ],
 "metadata": {
  "kernelspec": {
   "display_name": "Python 3",
   "language": "python",
   "name": "python3"
  },
  "language_info": {
   "codemirror_mode": {
    "name": "ipython",
    "version": 3
   },
   "file_extension": ".py",
   "mimetype": "text/x-python",
   "name": "python",
   "nbconvert_exporter": "python",
   "pygments_lexer": "ipython3",
   "version": "3.5.4"
  }
 },
 "nbformat": 4,
 "nbformat_minor": 2
}
