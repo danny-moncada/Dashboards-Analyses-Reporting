{
 "cells": [
  {
   "cell_type": "code",
   "execution_count": null,
   "metadata": {
    "collapsed": true
   },
   "outputs": [],
   "source": [
    "my_dict = {\"0\": \"Danny M aka Master Chef\", \"1\": \"Srdjan B aka Eastern European Samurai\", \"2\": \"JP Money aka Smartest Guy in the Room\", \n",
    "           \"3\": \"Tommy W. aka Bro Master Extraordinaire\", \"4\": \"Borisssss\", \"5\": \"Travy aka Gettin Lit on a Sunday\", \n",
    "           \"6\": \"Colin aka Brand New Papa\", \"7\": \"Mr. Olympia Mike Miles\", \"8\": \"Hyunwoo aka the Padwan\"}\n",
    "\n",
    "if len(my_dict) > 5:\n",
    "    print(str(len(my_dict)-1)+\"=\"*(len(my_dict)-1)+\">\")"
   ]
  },
  {
   "cell_type": "code",
   "execution_count": null,
   "metadata": {
    "collapsed": true
   },
   "outputs": [],
   "source": []
  }
 ],
 "metadata": {
  "kernelspec": {
   "display_name": "Python 3",
   "language": "python",
   "name": "python3"
  },
  "language_info": {
   "codemirror_mode": {
    "name": "ipython",
    "version": 3
   },
   "file_extension": ".py",
   "mimetype": "text/x-python",
   "name": "python",
   "nbconvert_exporter": "python",
   "pygments_lexer": "ipython3",
   "version": "3.5.4"
  }
 },
 "nbformat": 4,
 "nbformat_minor": 2
}
