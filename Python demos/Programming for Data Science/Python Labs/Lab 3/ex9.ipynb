{
 "cells": [
  {
   "cell_type": "code",
   "execution_count": 1,
   "metadata": {
    "collapsed": true
   },
   "outputs": [],
   "source": [
    "## Danny Moncada - MSBA 6310 - Lab 3 - ex9.py\n",
    "## Write a function starts_with that accepts 2 arguments: 1. file name, 2: string and returns a list of lines\n",
    "## that returns a list of all lines in the file beginning with the input string"
   ]
  },
  {
   "cell_type": "code",
   "execution_count": 36,
   "metadata": {},
   "outputs": [],
   "source": [
    "def starts_with(file_name, string):\n",
    "    import os\n",
    "    #filepath, file = os.path.split(file_name)\n",
    "    folder, file = file_name.split(\"/\")\n",
    "    \n",
    "    text = open(file).readlines()\n",
    "    \n",
    "    return [line.rstrip() for line in text if line[:len(string)] == string]"
   ]
  },
  {
   "cell_type": "code",
   "execution_count": 32,
   "metadata": {},
   "outputs": [],
   "source": [
    "filepath, file = os.path.split(\"C:/Users/monca016/Documents/Masters - Business Analytics/Fall 2018/MSBA 6310 - Programming for Data Science/Python Assignments/states.txt\")"
   ]
  },
  {
   "cell_type": "code",
   "execution_count": 44,
   "metadata": {},
   "outputs": [],
   "source": [
    "file_name = \"data/state.txt\"\n",
    "folder, file = file_name.split('/')"
   ]
  },
  {
   "cell_type": "code",
   "execution_count": 45,
   "metadata": {},
   "outputs": [
    {
     "data": {
      "text/plain": [
       "('data', 'state.txt')"
      ]
     },
     "execution_count": 45,
     "metadata": {},
     "output_type": "execute_result"
    }
   ],
   "source": [
    "folder, file"
   ]
  },
  {
   "cell_type": "code",
   "execution_count": null,
   "metadata": {
    "collapsed": true
   },
   "outputs": [],
   "source": []
  }
 ],
 "metadata": {
  "kernelspec": {
   "display_name": "Python 3",
   "language": "python",
   "name": "python3"
  },
  "language_info": {
   "codemirror_mode": {
    "name": "ipython",
    "version": 3
   },
   "file_extension": ".py",
   "mimetype": "text/x-python",
   "name": "python",
   "nbconvert_exporter": "python",
   "pygments_lexer": "ipython3",
   "version": "3.5.4"
  }
 },
 "nbformat": 4,
 "nbformat_minor": 2
}
