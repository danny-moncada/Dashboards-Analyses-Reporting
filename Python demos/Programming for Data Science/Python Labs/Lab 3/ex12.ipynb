{
 "cells": [
  {
   "cell_type": "code",
   "execution_count": null,
   "metadata": {
    "collapsed": true
   },
   "outputs": [],
   "source": [
    "## Danny Moncada - MSBA 6310 - Lab 3 - ex12.py\n",
    "## Write 3 functions to write a function named states_w_n_justices that accepts 1 argument (n) and\n",
    "## returns a list containing the names of states that have produced exactly n justices in the history of\n",
    "## the country."
   ]
  },
  {
   "cell_type": "code",
   "execution_count": 12,
   "metadata": {
    "collapsed": true
   },
   "outputs": [],
   "source": [
    "def states_with_n_justices(n):\n",
    "    us_states = open(\"us_states.csv\").readlines()\n",
    "    justices = open(\"justices.csv\").readlines()\n",
    "    \n",
    "    states = {}\n",
    "    link_dict = {}\n",
    "    for line in justices:\n",
    "        first_name, last_name, president, state, start_year, end_year = line.split(\",\")\n",
    "        if state not in states:\n",
    "            states[state] = 0\n",
    "        states[state]+=1\n",
    "\n",
    "    for line in us_states:\n",
    "        state_name, state, year, population = line.split(\",\")\n",
    "        link_dict[state_name] = 0\n",
    "        for k, v in states.items():\n",
    "            if k == state:\n",
    "                link_dict[state_name] = v\n",
    "            #else:\n",
    "             #   link_dict[state_name] = 0\n",
    "\n",
    "    return [k for k, v in link_dict.items() if v == n]"
   ]
  },
  {
   "cell_type": "code",
   "execution_count": 14,
   "metadata": {},
   "outputs": [
    {
     "data": {
      "text/plain": [
       "['Wyoming',\n",
       " 'Louisiana',\n",
       " 'Colorado',\n",
       " 'Mississippi',\n",
       " 'Kansas',\n",
       " 'Vermont',\n",
       " 'Maine',\n",
       " 'Missouri',\n",
       " 'Indiana',\n",
       " 'Texas']"
      ]
     },
     "execution_count": 14,
     "metadata": {},
     "output_type": "execute_result"
    }
   ],
   "source": [
    "states_with_n_justices(1)"
   ]
  },
  {
   "cell_type": "code",
   "execution_count": null,
   "metadata": {
    "collapsed": true
   },
   "outputs": [],
   "source": []
  }
 ],
 "metadata": {
  "kernelspec": {
   "display_name": "Python 3",
   "language": "python",
   "name": "python3"
  },
  "language_info": {
   "codemirror_mode": {
    "name": "ipython",
    "version": 3
   },
   "file_extension": ".py",
   "mimetype": "text/x-python",
   "name": "python",
   "nbconvert_exporter": "python",
   "pygments_lexer": "ipython3",
   "version": "3.7.4"
  }
 },
 "nbformat": 4,
 "nbformat_minor": 2
}
