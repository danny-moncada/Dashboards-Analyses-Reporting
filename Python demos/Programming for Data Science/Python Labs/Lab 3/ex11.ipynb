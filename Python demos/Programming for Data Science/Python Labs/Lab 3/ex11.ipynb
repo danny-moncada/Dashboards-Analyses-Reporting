{
 "cells": [
  {
   "cell_type": "code",
   "execution_count": 1,
   "metadata": {
    "collapsed": true
   },
   "outputs": [],
   "source": [
    "## Danny Moncada - MSBA 6310 - Lab 3 - ex11.py\n",
    "## Write 3 functions to read a sample file into a list, you may choose any file from the lesson and hard code into your\n",
    "## functions.  Write a 4th function named file_read_timing that takes no parameters and returns a tuple of the \n",
    "## 3 run times (using timeit) for each method:"
   ]
  },
  {
   "cell_type": "code",
   "execution_count": 70,
   "metadata": {
    "collapsed": true
   },
   "outputs": [],
   "source": [
    "file = \"states.txt\"\n",
    "import os\n",
    "import timeit\n",
    "\n",
    "def list_f_function(file):\n",
    "    return list(open(file))\n",
    "\n",
    "def f_readlines(file):\n",
    "    return open(file).readlines()\n",
    "\n",
    "def loop_through_file(file):\n",
    "    return [line.strip() for line in open(file)]\n",
    "\n",
    "def file_read_timing():\n",
    "    list_time = timeit.timeit(\"list_f_function('states.txt')\", setup=\"from __main__ import list_f_function\", number = 1000)\n",
    "    read_time = timeit.timeit(\"f_readlines('states.txt')\", setup=\"from __main__ import f_readlines\", number = 1000)\n",
    "    loop_time = timeit.timeit(\"loop_through_file('states.txt')\", setup=\"from __main__ import loop_through_file\", number = 1000)\n",
    "    return tuple([list_time, read_time, loop_time])"
   ]
  }
 ],
 "metadata": {
  "kernelspec": {
   "display_name": "Python 3",
   "language": "python",
   "name": "python3"
  },
  "language_info": {
   "codemirror_mode": {
    "name": "ipython",
    "version": 3
   },
   "file_extension": ".py",
   "mimetype": "text/x-python",
   "name": "python",
   "nbconvert_exporter": "python",
   "pygments_lexer": "ipython3",
   "version": "3.5.4"
  }
 },
 "nbformat": 4,
 "nbformat_minor": 2
}
