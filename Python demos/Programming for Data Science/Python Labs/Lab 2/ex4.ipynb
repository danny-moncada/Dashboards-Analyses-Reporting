{
 "cells": [
  {
   "cell_type": "code",
   "execution_count": 1,
   "metadata": {
    "collapsed": true
   },
   "outputs": [],
   "source": [
    "## Danny Moncada - MSBA 6310 - Lab 2 - ex4.py\n",
    "## Write a program that asks user for arbitary sequence of numbers and determines the smallest number in the sequence"
   ]
  },
  {
   "cell_type": "code",
   "execution_count": 13,
   "metadata": {},
   "outputs": [
    {
     "name": "stdout",
     "output_type": "stream",
     "text": [
      "Please enter a whole number between 1 and 1000, or -1 to quit: -1\n",
      "\n",
      "You didn't enter any numbers!\n"
     ]
    }
   ],
   "source": [
    "numbers = []\n",
    "\n",
    "while True:\n",
    "    number_request = int(input(\"Please enter a whole number between 1 and 1000, or -1 to quit: \"))\n",
    "    print()\n",
    "    \n",
    "    if number_request < 0 and len(numbers) == 0:\n",
    "        print(\"You didn't enter any numbers!\")\n",
    "        break\n",
    "        \n",
    "    if number_request > 0:\n",
    "        numbers.append(number_request)\n",
    "        \n",
    "    elif number_request < 0:\n",
    "        print(\"The smallest number you entered is {0}.\".format(min(values)))\n",
    "        break"
   ]
  }
 ],
 "metadata": {
  "kernelspec": {
   "display_name": "Python 3",
   "language": "python",
   "name": "python3"
  },
  "language_info": {
   "codemirror_mode": {
    "name": "ipython",
    "version": 3
   },
   "file_extension": ".py",
   "mimetype": "text/x-python",
   "name": "python",
   "nbconvert_exporter": "python",
   "pygments_lexer": "ipython3",
   "version": "3.5.4"
  }
 },
 "nbformat": 4,
 "nbformat_minor": 2
}
