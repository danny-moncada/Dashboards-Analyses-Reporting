{
 "cells": [
  {
   "cell_type": "code",
   "execution_count": 1,
   "metadata": {
    "collapsed": true
   },
   "outputs": [],
   "source": [
    "## Danny Moncada - MSBA 6310 - Lab 2 - ex5.py\n",
    "## US Labor requires 1.5 for beyond 40 hours.  Write a program that requests as input the number of hours\n",
    "## worked and hourly wage, and calculates the gross pay for the week"
   ]
  },
  {
   "cell_type": "code",
   "execution_count": 60,
   "metadata": {},
   "outputs": [
    {
     "name": "stdout",
     "output_type": "stream",
     "text": [
      "Please enter the number of hours worked: 40\n",
      "Please enter the hourly wage: 8\n",
      "\n",
      "Gross pay is $320.00\n"
     ]
    }
   ],
   "source": [
    "# get user input for number of hours worked and hourly wage\n",
    "hours_worked = int(input(\"Please enter the number of hours worked: \"))\n",
    "hourly_wage = int(input(\"Please enter the hourly wage: \"))\n",
    "\n",
    "# calculate the regular pay and any over time pay\n",
    "if hours_worked > 40:\n",
    "    gross_pay = 40 * hourly_wage + (hours_worked - 40) * (hourly_wage * 1.5)\n",
    "else:\n",
    "    gross_pay = hours_worked * hourly_wage\n",
    "\n",
    "print()\n",
    "print(\"Gross pay is ${:.2f}\".format(gross_pay))"
   ]
  }
 ],
 "metadata": {
  "kernelspec": {
   "display_name": "Python 3",
   "language": "python",
   "name": "python3"
  },
  "language_info": {
   "codemirror_mode": {
    "name": "ipython",
    "version": 3
   },
   "file_extension": ".py",
   "mimetype": "text/x-python",
   "name": "python",
   "nbconvert_exporter": "python",
   "pygments_lexer": "ipython3",
   "version": "3.5.4"
  }
 },
 "nbformat": 4,
 "nbformat_minor": 2
}
