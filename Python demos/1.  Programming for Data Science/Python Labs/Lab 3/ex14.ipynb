{
 "cells": [
  {
   "cell_type": "code",
   "execution_count": 1,
   "metadata": {
    "collapsed": true
   },
   "outputs": [],
   "source": [
    "## Danny Moncada - MSBA 6310 - Lab 3 - ex14.py\n",
    "## Write a function named avg_temp that will return a tuple containing the average temperature (in degrees C and F)\n",
    "## for all observations in the set that have the percentage cloud cover determined by the parameter"
   ]
  },
  {
   "cell_type": "code",
   "execution_count": 63,
   "metadata": {
    "collapsed": true
   },
   "outputs": [],
   "source": [
    "def avg_temp(n):\n",
    "    try:\n",
    "        import json\n",
    "        from pprint import pprint\n",
    "\n",
    "        with open('minneapolis.json') as f:\n",
    "                data = json.load(f)\n",
    "\n",
    "        temps = [data['list'][i]['main']['temp'] for i in range(len(data['list'])) if n==data['list'][i]['clouds']['all']]\n",
    "        average_temp_c = sum([temp - 273.15 for temp in temps]) / len(temps)\n",
    "        average_temp_f = sum([(9/5)*(temp - 273.15) + 32 for temp in temps]) / len(temps)\n",
    "\n",
    "        return (average_temp_c, average_temp_f)\n",
    "    except:\n",
    "        return None"
   ]
  }
 ],
 "metadata": {
  "kernelspec": {
   "display_name": "Python 3",
   "language": "python",
   "name": "python3"
  },
  "language_info": {
   "codemirror_mode": {
    "name": "ipython",
    "version": 3
   },
   "file_extension": ".py",
   "mimetype": "text/x-python",
   "name": "python",
   "nbconvert_exporter": "python",
   "pygments_lexer": "ipython3",
   "version": "3.5.4"
  }
 },
 "nbformat": 4,
 "nbformat_minor": 2
}
