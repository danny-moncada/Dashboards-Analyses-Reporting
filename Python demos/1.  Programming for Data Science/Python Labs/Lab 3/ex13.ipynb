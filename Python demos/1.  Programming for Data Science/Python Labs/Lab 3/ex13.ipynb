{
 "cells": [
  {
   "cell_type": "code",
   "execution_count": 1,
   "metadata": {
    "collapsed": true
   },
   "outputs": [],
   "source": [
    "## Danny Moncada - MSBA 6310 - Lab 3 - ex13.py\n",
    "## Write a function named state_density_rank that accepts one parameter (integer from 1-50) and returns the state of that rank\n",
    "## in  population density"
   ]
  },
  {
   "cell_type": "code",
   "execution_count": 4,
   "metadata": {
    "collapsed": true
   },
   "outputs": [],
   "source": [
    "def state_density_rank(n):\n",
    "    \n",
    "    import json\n",
    "    from pprint import pprint\n",
    "\n",
    "    state_pops = {}\n",
    "    rankings = {}\n",
    "    count = 1\n",
    "\n",
    "    with open('usstates.json') as f:\n",
    "        data = json.load(f)\n",
    "\n",
    "    values = [list(value.values()) for key, value in data.items()]\n",
    "\n",
    "    for v in values:\n",
    "        state_pops[v[0]] = int(v[1]) / int(v[2])\n",
    "\n",
    "    for state in sorted(state_pops.items(), key = lambda x: x[1]): \n",
    "        rankings[state[0]] = count\n",
    "        count+=1\n",
    "\n",
    "    for k, v in rankings.items():\n",
    "        if v == n:\n",
    "            return k"
   ]
  },
  {
   "cell_type": "code",
   "execution_count": 5,
   "metadata": {},
   "outputs": [
    {
     "data": {
      "text/plain": [
       "'New Jersey'"
      ]
     },
     "execution_count": 5,
     "metadata": {},
     "output_type": "execute_result"
    }
   ],
   "source": [
    "state_density_rank(1)"
   ]
  },
  {
   "cell_type": "code",
   "execution_count": null,
   "metadata": {
    "collapsed": true
   },
   "outputs": [],
   "source": []
  }
 ],
 "metadata": {
  "kernelspec": {
   "display_name": "Python 3",
   "language": "python",
   "name": "python3"
  },
  "language_info": {
   "codemirror_mode": {
    "name": "ipython",
    "version": 3
   },
   "file_extension": ".py",
   "mimetype": "text/x-python",
   "name": "python",
   "nbconvert_exporter": "python",
   "pygments_lexer": "ipython3",
   "version": "3.7.4"
  }
 },
 "nbformat": 4,
 "nbformat_minor": 2
}
