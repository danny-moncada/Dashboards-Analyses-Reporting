{
 "cells": [
  {
   "cell_type": "code",
   "execution_count": null,
   "metadata": {
    "collapsed": true
   },
   "outputs": [],
   "source": []
  },
  {
   "cell_type": "code",
   "execution_count": null,
   "metadata": {
    "collapsed": true
   },
   "outputs": [],
   "source": [
    "In [1]: compare_names_for_years('yob2016.txt','yob2007.txt',5)\n",
    "Out[1]:\n",
    "array([],\n",
    "dtype='<U15')\n",
    "In [2]: compare_names_for_years('yob2016.txt','yob2007.txt',10)\n",
    "Out[2]:\n",
    "array(['Isabella', 'William'],\n",
    "dtype='<U15')\n",
    "In [3]: compare_names_for_years('yob2016.txt','yob2007.txt',20)\n",
    "Out[3]:\n",
    "array(['Alexander', 'Ava', 'Daniel', ..., 'Noah', 'Sophia', 'William'],\n",
    "dtype='<U15')\n",
    "\n",
    "\"names/yob2016.txt\""
   ]
  },
  {
   "cell_type": "code",
   "execution_count": 72,
   "metadata": {
    "collapsed": true
   },
   "outputs": [],
   "source": [
    "import numpy as np\n",
    "\n",
    "def compare_names_for_years(file_1, file_2, n):\n",
    "    \n",
    "    file_1 = np.loadtxt(file_1, delimiter = \",\", dtype = str)\n",
    "    file_2 = np.loadtxt(file_2, delimiter = \",\", dtype = str)\n",
    "    \n",
    "    first_names = file_1[:, 0:1]\n",
    "    counts = file_1[:, 2:3].astype(int)\n",
    "    \n",
    "    second_names = file_2[:, 0:1]\n",
    "    second_counts = file_2[:, 2:3].astype(int)\n",
    "    \n",
    "    return np.intersect1d(first_names[np.argsort(counts, axis = 0)][::-1][:n].flatten(), second_names[np.argsort(second_counts, axis = 0)][::-1][:n].flatten())\n",
    "    "
   ]
  },
  {
   "cell_type": "code",
   "execution_count": 74,
   "metadata": {},
   "outputs": [
    {
     "data": {
      "text/plain": [
       "array(['Isabella', 'William'], dtype='<U15')"
      ]
     },
     "execution_count": 74,
     "metadata": {},
     "output_type": "execute_result"
    }
   ],
   "source": [
    "compare_names_for_years('names/yob2016.txt','names/yob2007.txt',10)"
   ]
  },
  {
   "cell_type": "code",
   "execution_count": null,
   "metadata": {
    "collapsed": true
   },
   "outputs": [],
   "source": []
  },
  {
   "cell_type": "code",
   "execution_count": 61,
   "metadata": {
    "collapsed": true
   },
   "outputs": [],
   "source": [
    "year2016 = np.loadtxt(\"names/yob2016.txt\", delimiter = \",\", dtype = str)"
   ]
  },
  {
   "cell_type": "code",
   "execution_count": 62,
   "metadata": {
    "collapsed": true
   },
   "outputs": [],
   "source": [
    "year2007 = np.loadtxt(\"names/yob2007.txt\", delimiter = \",\", dtype = str)"
   ]
  },
  {
   "cell_type": "code",
   "execution_count": 63,
   "metadata": {},
   "outputs": [
    {
     "data": {
      "text/plain": [
       "array(['Emma', 'Olivia', 'Noah', 'Liam', 'Ava', 'Sophia', 'William',\n",
       "       'Mason', 'James', 'Isabella'], dtype='<U15')"
      ]
     },
     "execution_count": 63,
     "metadata": {},
     "output_type": "execute_result"
    }
   ],
   "source": [
    "first_names = year2016[:, 0:1]\n",
    "counts = year2016[:, 2:3].astype(int)\n",
    "\n",
    "first_names[np.argsort(counts, axis = 0)][::-1][:10].flatten()"
   ]
  },
  {
   "cell_type": "code",
   "execution_count": 64,
   "metadata": {},
   "outputs": [
    {
     "data": {
      "text/plain": [
       "array(['Jacob', 'Michael', 'Ethan', 'Joshua', 'Daniel', 'Christopher',\n",
       "       'Anthony', 'Emily', 'Isabella', 'William'], dtype='<U15')"
      ]
     },
     "execution_count": 64,
     "metadata": {},
     "output_type": "execute_result"
    }
   ],
   "source": [
    "second_names = year2007[:, 0:1]\n",
    "second_counts = year2007[:, 2:3].astype(int)\n",
    "\n",
    "second_names[np.argsort(second_counts, axis = 0)][::-1][:10].flatten()"
   ]
  },
  {
   "cell_type": "code",
   "execution_count": 67,
   "metadata": {},
   "outputs": [
    {
     "data": {
      "text/plain": [
       "array(['Alexander', 'Ava', 'Daniel', 'Emma', 'Ethan', 'Isabella', 'Jacob',\n",
       "       'Michael', 'Noah', 'Sophia', 'William'], dtype='<U15')"
      ]
     },
     "execution_count": 67,
     "metadata": {},
     "output_type": "execute_result"
    }
   ],
   "source": [
    "np.intersect1d(first_names[np.argsort(counts, axis = 0)][::-1][:20].flatten(), second_names[np.argsort(second_counts, axis = 0)][::-1][:20].flatten())"
   ]
  },
  {
   "cell_type": "code",
   "execution_count": 54,
   "metadata": {},
   "outputs": [
    {
     "data": {
      "text/plain": [
       "array(['Jacob', 'Michael', 'Ethan', 'Joshua', 'Daniel', 'Christopher',\n",
       "       'Anthony', 'Emily', 'Isabella', 'William'], dtype='<U15')"
      ]
     },
     "execution_count": 54,
     "metadata": {},
     "output_type": "execute_result"
    }
   ],
   "source": [
    "second_names[np.argsort(second_counts, axis = 0)][::-1][:10].flatten()"
   ]
  },
  {
   "cell_type": "code",
   "execution_count": 58,
   "metadata": {
    "collapsed": true
   },
   "outputs": [],
   "source": [
    "year2007.sort(1)"
   ]
  },
  {
   "cell_type": "code",
   "execution_count": 60,
   "metadata": {},
   "outputs": [
    {
     "data": {
      "text/plain": [
       "array([['19355', 'Emily', 'F'],\n",
       "       ['19137', 'F', 'Isabella'],\n",
       "       ['18372', 'Emma', 'F'],\n",
       "       ['18047', 'Ava', 'F'],\n",
       "       ['17958', 'F', 'Madison'],\n",
       "       ['17021', 'F', 'Sophia'],\n",
       "       ['16580', 'F', 'Olivia'],\n",
       "       ['15468', 'Abigail', 'F'],\n",
       "       ['13304', 'F', 'Hannah'],\n",
       "       ['13050', 'Elizabeth', 'F']], dtype='<U15')"
      ]
     },
     "execution_count": 60,
     "metadata": {},
     "output_type": "execute_result"
    }
   ],
   "source": [
    "year2007[:10]"
   ]
  },
  {
   "cell_type": "code",
   "execution_count": null,
   "metadata": {
    "collapsed": true
   },
   "outputs": [],
   "source": []
  }
 ],
 "metadata": {
  "kernelspec": {
   "display_name": "Python 3",
   "language": "python",
   "name": "python3"
  },
  "language_info": {
   "codemirror_mode": {
    "name": "ipython",
    "version": 3
   },
   "file_extension": ".py",
   "mimetype": "text/x-python",
   "name": "python",
   "nbconvert_exporter": "python",
   "pygments_lexer": "ipython3",
   "version": "3.5.4"
  }
 },
 "nbformat": 4,
 "nbformat_minor": 2
}
