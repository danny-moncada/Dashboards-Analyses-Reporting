{
 "cells": [
  {
   "cell_type": "code",
   "execution_count": 1,
   "metadata": {
    "collapsed": true
   },
   "outputs": [],
   "source": [
    "import pandas as pd\n",
    "\n",
    "from pandas import Series, DataFrame"
   ]
  },
  {
   "cell_type": "code",
   "execution_count": 114,
   "metadata": {
    "collapsed": true
   },
   "outputs": [],
   "source": [
    "import pandas as pd\n",
    "\n",
    "from pandas import Series, DataFrame\n",
    "\n",
    "def rank_diff(filename, year):\n",
    "    \n",
    "    fortune_500_all = pd.read_csv(filename)\n",
    "    \n",
    "    fortune_500_all = fortune_500_all[fortune_500_all[\"Year\"] == year]\n",
    "    \n",
    "    fortune_500_all[\"Rank by Profit\"] = pd.to_numeric(fortune_500_all['Profit (in millions)'], \n",
    "                                errors='coerce').sort_values(ascending = False).rank(ascending = 0)\n",
    "    \n",
    "    rank_diff = fortune_500_all[\"Rank by Profit\"] - fortune_500_all[\"Rank\"]\n",
    "    \n",
    "    return fortune_500_all[rank_diff == max(rank_diff)][\"Company\"].values"
   ]
  },
  {
   "cell_type": "code",
   "execution_count": 118,
   "metadata": {},
   "outputs": [
    {
     "data": {
      "text/plain": [
       "array(['Kroger', 'AT&T'], dtype=object)"
      ]
     },
     "execution_count": 118,
     "metadata": {},
     "output_type": "execute_result"
    }
   ],
   "source": [
    "rank_diff(\"fortune500.csv\", 2005)"
   ]
  },
  {
   "cell_type": "code",
   "execution_count": 112,
   "metadata": {
    "collapsed": true
   },
   "outputs": [],
   "source": [
    "import pandas as pd\n",
    "\n",
    "from pandas import Series, DataFrame\n",
    "\n",
    "def rank_diff(filename, year):\n",
    "    \n",
    "    fortune_500_all = pd.read_csv(filename)\n",
    "    \n",
    "    fortune_500_subset = fortune_500_all[fortune_500_all[\"Year\"] == year]\n",
    "    \n",
    "    fortune_500_subset[\"Rank by Profit\"] = pd.to_numeric(fortune_500_subset['Profit (in millions)'], \n",
    "                                errors='coerce').sort_values(ascending = False).rank(ascending = 0)\n",
    "    \n",
    "    rank_diff = fortune_500_subset[\"Rank by Profit\"] - fortune_500_subset[\"Rank\"]\n",
    "    \n",
    "    return fortune_500_subset[rank_diff == max(rank_diff)][\"Company\"].values\n",
    "    "
   ]
  },
  {
   "cell_type": "code",
   "execution_count": 113,
   "metadata": {},
   "outputs": [
    {
     "name": "stderr",
     "output_type": "stream",
     "text": [
      "C:\\Users\\monca016\\AppData\\Local\\Continuum\\anaconda3\\envs\\env_full\\lib\\site-packages\\ipykernel_launcher.py:12: SettingWithCopyWarning: \n",
      "A value is trying to be set on a copy of a slice from a DataFrame.\n",
      "Try using .loc[row_indexer,col_indexer] = value instead\n",
      "\n",
      "See the caveats in the documentation: http://pandas.pydata.org/pandas-docs/stable/indexing.html#indexing-view-versus-copy\n",
      "  if sys.path[0] == '':\n"
     ]
    },
    {
     "data": {
      "text/plain": [
       "array(['Kroger', 'AT&T'], dtype=object)"
      ]
     },
     "execution_count": 113,
     "metadata": {},
     "output_type": "execute_result"
    }
   ],
   "source": [
    "rank_diff(\"fortune500.csv\", 2005)"
   ]
  },
  {
   "cell_type": "code",
   "execution_count": null,
   "metadata": {
    "collapsed": true
   },
   "outputs": [],
   "source": []
  },
  {
   "cell_type": "code",
   "execution_count": 4,
   "metadata": {
    "collapsed": true
   },
   "outputs": [],
   "source": [
    "fortune_500 = pd.read_csv(\"fortune500.csv\")"
   ]
  },
  {
   "cell_type": "code",
   "execution_count": 5,
   "metadata": {
    "collapsed": true
   },
   "outputs": [],
   "source": [
    "subset = fortune_500[\"Year\"] == 2005"
   ]
  },
  {
   "cell_type": "code",
   "execution_count": 55,
   "metadata": {
    "collapsed": true
   },
   "outputs": [],
   "source": [
    "fortune_500_new = fortune_500[subset]"
   ]
  },
  {
   "cell_type": "code",
   "execution_count": 38,
   "metadata": {},
   "outputs": [
    {
     "name": "stderr",
     "output_type": "stream",
     "text": [
      "C:\\Users\\monca016\\AppData\\Local\\Continuum\\anaconda3\\envs\\env_full\\lib\\site-packages\\ipykernel_launcher.py:1: SettingWithCopyWarning: \n",
      "A value is trying to be set on a copy of a slice from a DataFrame.\n",
      "Try using .loc[row_indexer,col_indexer] = value instead\n",
      "\n",
      "See the caveats in the documentation: http://pandas.pydata.org/pandas-docs/stable/indexing.html#indexing-view-versus-copy\n",
      "  \"\"\"Entry point for launching an IPython kernel.\n"
     ]
    }
   ],
   "source": [
    "fortune_500_new[\"Rank by Profit\"] = fortune_500_new[\"Profit (in millions)\"].sort_values(ascending = False).rank()"
   ]
  },
  {
   "cell_type": "code",
   "execution_count": 78,
   "metadata": {},
   "outputs": [
    {
     "ename": "TypeError",
     "evalue": "map() got an unexpected keyword argument 'errors'",
     "output_type": "error",
     "traceback": [
      "\u001b[1;31m---------------------------------------------------------------------------\u001b[0m",
      "\u001b[1;31mTypeError\u001b[0m                                 Traceback (most recent call last)",
      "\u001b[1;32m<ipython-input-78-4e5a4239d05e>\u001b[0m in \u001b[0;36m<module>\u001b[1;34m()\u001b[0m\n\u001b[1;32m----> 1\u001b[1;33m \u001b[0mfortune_500_new\u001b[0m\u001b[1;33m[\u001b[0m\u001b[1;34m\"Profit (in millions)\"\u001b[0m\u001b[1;33m]\u001b[0m\u001b[1;33m.\u001b[0m\u001b[0mmap\u001b[0m\u001b[1;33m(\u001b[0m\u001b[0mfloat\u001b[0m\u001b[1;33m,\u001b[0m \u001b[0merrors\u001b[0m \u001b[1;33m=\u001b[0m \u001b[1;34m'ignore'\u001b[0m\u001b[1;33m)\u001b[0m\u001b[1;33m\u001b[0m\u001b[0m\n\u001b[0m",
      "\u001b[1;31mTypeError\u001b[0m: map() got an unexpected keyword argument 'errors'"
     ]
    }
   ],
   "source": [
    "fortune_500_new[\"Profit (in millions)\"].map(float, errors = 'ignore')"
   ]
  },
  {
   "cell_type": "code",
   "execution_count": 97,
   "metadata": {},
   "outputs": [
    {
     "name": "stderr",
     "output_type": "stream",
     "text": [
      "C:\\Users\\monca016\\AppData\\Local\\Continuum\\anaconda3\\envs\\env_full\\lib\\site-packages\\ipykernel_launcher.py:2: SettingWithCopyWarning: \n",
      "A value is trying to be set on a copy of a slice from a DataFrame.\n",
      "Try using .loc[row_indexer,col_indexer] = value instead\n",
      "\n",
      "See the caveats in the documentation: http://pandas.pydata.org/pandas-docs/stable/indexing.html#indexing-view-versus-copy\n",
      "  \n"
     ]
    }
   ],
   "source": [
    "fortune_500_new[\"Rank by Profit\"] = pd.to_numeric(fortune_500_new['Profit (in millions)'], \n",
    "                                errors='coerce').sort_values(ascending = False).rank(ascending = 0)"
   ]
  },
  {
   "cell_type": "code",
   "execution_count": 102,
   "metadata": {},
   "outputs": [],
   "source": [
    "rank_diff = fortune_500_new[\"Rank by Profit\"] - fortune_500_new[\"Rank\"]"
   ]
  },
  {
   "cell_type": "code",
   "execution_count": 109,
   "metadata": {},
   "outputs": [
    {
     "data": {
      "text/plain": [
       "array(['Kroger', 'AT&T'], dtype=object)"
      ]
     },
     "execution_count": 109,
     "metadata": {},
     "output_type": "execute_result"
    }
   ],
   "source": [
    "fortune_500_new[rank_diff == max(rank_diff)][\"Company\"].values"
   ]
  },
  {
   "cell_type": "code",
   "execution_count": null,
   "metadata": {
    "collapsed": true
   },
   "outputs": [],
   "source": []
  },
  {
   "cell_type": "code",
   "execution_count": 37,
   "metadata": {},
   "outputs": [
    {
     "data": {
      "text/html": [
       "<div>\n",
       "<style scoped>\n",
       "    .dataframe tbody tr th:only-of-type {\n",
       "        vertical-align: middle;\n",
       "    }\n",
       "\n",
       "    .dataframe tbody tr th {\n",
       "        vertical-align: top;\n",
       "    }\n",
       "\n",
       "    .dataframe thead th {\n",
       "        text-align: right;\n",
       "    }\n",
       "</style>\n",
       "<table border=\"1\" class=\"dataframe\">\n",
       "  <thead>\n",
       "    <tr style=\"text-align: right;\">\n",
       "      <th></th>\n",
       "      <th>Year</th>\n",
       "      <th>Rank</th>\n",
       "      <th>Company</th>\n",
       "      <th>Revenue (in millions)</th>\n",
       "      <th>Profit (in millions)</th>\n",
       "      <th>Rank by Profit</th>\n",
       "    </tr>\n",
       "  </thead>\n",
       "  <tbody>\n",
       "    <tr>\n",
       "      <th>25020</th>\n",
       "      <td>2005</td>\n",
       "      <td>21</td>\n",
       "      <td>Kroger</td>\n",
       "      <td>56434.4</td>\n",
       "      <td>-128</td>\n",
       "      <td>8.0</td>\n",
       "    </tr>\n",
       "  </tbody>\n",
       "</table>\n",
       "</div>"
      ],
      "text/plain": [
       "       Year  Rank Company Revenue (in millions) Profit (in millions)  \\\n",
       "25020  2005    21  Kroger               56434.4                 -128   \n",
       "\n",
       "       Rank by Profit  \n",
       "25020             8.0  "
      ]
     },
     "execution_count": 37,
     "metadata": {},
     "output_type": "execute_result"
    }
   ],
   "source": [
    "fortune_500_new[fortune_500_new[\"Company\"] == \"Kroger\"]"
   ]
  },
  {
   "cell_type": "code",
   "execution_count": 8,
   "metadata": {},
   "outputs": [
    {
     "name": "stderr",
     "output_type": "stream",
     "text": [
      "C:\\Users\\monca016\\AppData\\Local\\Continuum\\anaconda3\\envs\\env_full\\lib\\site-packages\\ipykernel_launcher.py:1: SettingWithCopyWarning: \n",
      "A value is trying to be set on a copy of a slice from a DataFrame.\n",
      "Try using .loc[row_indexer,col_indexer] = value instead\n",
      "\n",
      "See the caveats in the documentation: http://pandas.pydata.org/pandas-docs/stable/indexing.html#indexing-view-versus-copy\n",
      "  \"\"\"Entry point for launching an IPython kernel.\n"
     ]
    }
   ],
   "source": [
    "fortune_500_new[\"Rank by Profit\"] = fortune_500_new[\"Profit (in millions)\"].rank(ascending = 0, na_option = \"bottom\")"
   ]
  },
  {
   "cell_type": "code",
   "execution_count": null,
   "metadata": {
    "collapsed": true
   },
   "outputs": [],
   "source": []
  },
  {
   "cell_type": "code",
   "execution_count": 13,
   "metadata": {
    "collapsed": true
   },
   "outputs": [],
   "source": [
    "year_before = fortune_500[fortune_500[\"Year\"] == 2004][\"Company\"]"
   ]
  },
  {
   "cell_type": "code",
   "execution_count": 14,
   "metadata": {
    "collapsed": true
   },
   "outputs": [],
   "source": [
    "year_searching = fortune_500[fortune_500[\"Year\"] == 2005][\"Company\"]"
   ]
  },
  {
   "cell_type": "code",
   "execution_count": 23,
   "metadata": {},
   "outputs": [
    {
     "data": {
      "text/plain": [
       "array(['Assurant', 'Beazer Homes USA', 'Cincinnati Financial',\n",
       "       'Commercial Metals', 'Corning', 'DIRECTV Group',\n",
       "       'Enbridge Energy Partners', 'Hovnanian Enterprises',\n",
       "       'Liberty Media', 'MCI', 'MDC Holdings', 'Micron Technology',\n",
       "       'News Corp.', 'ONEOK', 'Peabody Energy', \"Pilgrim's Pride\",\n",
       "       'Stater Bros. Holdings', 'TRW Automotive Holdings',\n",
       "       'Toll Brothers', 'UGI', \"Wendy's International\",\n",
       "       'Whole Foods Market', 'Wm. Wrigley Jr.', 'World Fuel Services',\n",
       "       'Yellow Roadway'], dtype=object)"
      ]
     },
     "execution_count": 23,
     "metadata": {},
     "output_type": "execute_result"
    }
   ],
   "source": [
    "year_searching[~year_searching.isin(year_before)].sort_values().values"
   ]
  },
  {
   "cell_type": "code",
   "execution_count": null,
   "metadata": {
    "collapsed": true
   },
   "outputs": [],
   "source": []
  }
 ],
 "metadata": {
  "kernelspec": {
   "display_name": "Python 3",
   "language": "python",
   "name": "python3"
  },
  "language_info": {
   "codemirror_mode": {
    "name": "ipython",
    "version": 3
   },
   "file_extension": ".py",
   "mimetype": "text/x-python",
   "name": "python",
   "nbconvert_exporter": "python",
   "pygments_lexer": "ipython3",
   "version": "3.5.4"
  }
 },
 "nbformat": 4,
 "nbformat_minor": 2
}
