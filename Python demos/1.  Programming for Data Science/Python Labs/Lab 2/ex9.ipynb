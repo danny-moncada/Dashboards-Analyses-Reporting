{
 "cells": [
  {
   "cell_type": "code",
   "execution_count": 1,
   "metadata": {
    "collapsed": true
   },
   "outputs": [],
   "source": [
    "## Danny Moncada - MSBA 6310 - Lab 2 - ex9.py\n",
    "## Write a program to determine the real roots of the quadratic equation ax2 + bx + c = 0 after requesting values of a, b, c\n",
    "## from the user.  The equation has 2, 1, or 0 solutions depending on whether the values of b^2-4ac is positive, zero, or neg."
   ]
  },
  {
   "cell_type": "code",
   "execution_count": 1,
   "metadata": {},
   "outputs": [
    {
     "name": "stdout",
     "output_type": "stream",
     "text": [
      "Enter value for a: 1\n",
      "Enter value for b: -1\n",
      "Enter value for c: -1\n",
      "\n",
      "Solution: 1, 0\n"
     ]
    }
   ],
   "source": [
    "# request user input for values a, b, and c\n",
    "import math\n",
    "\n",
    "a = int(input(\"Enter value for a: \"))\n",
    "b = int(input(\"Enter value for b: \"))\n",
    "c = int(input(\"Enter value for c: \"))\n",
    "print()\n",
    "\n",
    "try:\n",
    "    positive_x = int((-b + math.sqrt(b**2 - (4 * a * c))) / (2 * a))\n",
    "    negative_x = int((-b - math.sqrt(b**2 - (4 * a * c))) / (2 * a))\n",
    "\n",
    "    if positive_x == negative_x:\n",
    "        print(\"Solution: {0}\".format(positive_x))              \n",
    "    else:\n",
    "        print(\"Solution: {0}, {1}\".format(positive_x, negative_x))\n",
    "    \n",
    "except ValueError:\n",
    "    print(\"No solutions.\")"
   ]
  },
  {
   "cell_type": "code",
   "execution_count": null,
   "metadata": {
    "collapsed": true
   },
   "outputs": [],
   "source": []
  }
 ],
 "metadata": {
  "kernelspec": {
   "display_name": "Python 3",
   "language": "python",
   "name": "python3"
  },
  "language_info": {
   "codemirror_mode": {
    "name": "ipython",
    "version": 3
   },
   "file_extension": ".py",
   "mimetype": "text/x-python",
   "name": "python",
   "nbconvert_exporter": "python",
   "pygments_lexer": "ipython3",
   "version": "3.5.4"
  }
 },
 "nbformat": 4,
 "nbformat_minor": 2
}
