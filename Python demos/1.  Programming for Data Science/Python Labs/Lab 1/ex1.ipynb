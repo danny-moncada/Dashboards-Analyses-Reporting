{
 "cells": [
  {
   "cell_type": "code",
   "execution_count": null,
   "metadata": {
    "collapsed": true
   },
   "outputs": [],
   "source": [
    "## Danny Moncada - MSBA 6310 - ex1.py\n",
    "## Write a program to calculate the total amount of a stock purchase"
   ]
  },
  {
   "cell_type": "code",
   "execution_count": 23,
   "metadata": {},
   "outputs": [
    {
     "name": "stdout",
     "output_type": "stream",
     "text": [
      "$13607.50\n"
     ]
    }
   ],
   "source": [
    "## 1.  Assign value 27.215 to cost_per_share\n",
    "cost_per_share = 27.215\n",
    "\n",
    "## 2.  Assign value 500 to the variable number_shares\n",
    "number_of_shares = 500\n",
    "\n",
    "## 3.  Assign product of cost_per_share and number_of_shares to amount\n",
    "amount = cost_per_share * number_of_shares\n",
    "\n",
    "## 4.  Print the variable amount - $13607.50\n",
    "print(\"$%s\" %format(amount, '.2f'))"
   ]
  }
 ],
 "metadata": {
  "kernelspec": {
   "display_name": "Python 3",
   "language": "python",
   "name": "python3"
  },
  "language_info": {
   "codemirror_mode": {
    "name": "ipython",
    "version": 3
   },
   "file_extension": ".py",
   "mimetype": "text/x-python",
   "name": "python",
   "nbconvert_exporter": "python",
   "pygments_lexer": "ipython3",
   "version": "3.5.4"
  }
 },
 "nbformat": 4,
 "nbformat_minor": 2
}
