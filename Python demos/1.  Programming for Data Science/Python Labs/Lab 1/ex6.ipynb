{
 "cells": [
  {
   "cell_type": "code",
   "execution_count": 1,
   "metadata": {
    "collapsed": true
   },
   "outputs": [],
   "source": [
    "## Danny Moncada - MSBA 6310 - ex6.py\n",
    "## Write a program that prompts the user for annual deposit amount and an interest rate. Calculate the balance in the \n",
    "## account after 3 years (simple interest, compound annually)."
   ]
  },
  {
   "cell_type": "code",
   "execution_count": 4,
   "metadata": {},
   "outputs": [
    {
     "name": "stdout",
     "output_type": "stream",
     "text": [
      "Enter annual deposit: 100\n",
      "Enter interest rate: 5\n",
      "After 3 years, balance is: $331.01\n"
     ]
    }
   ],
   "source": [
    "## get user input for annual deposit, interest rate\n",
    "initial_deposit = input(\"Enter annual deposit: \")\n",
    "rate = input(\"Enter interest rate: \")\n",
    "\n",
    "## convert the user input into floats to use in the calculations below and create an interest rate\n",
    "annual_deposit = float(initial_deposit)\n",
    "interest_rate = 1 + (float(rate)/100)\n",
    "\n",
    "## calculate the final balance by adding the initial deposit times the interest rate, plus the second year deposit\n",
    "## then multiplied by the interest rate, and finally add the third year deposit times the interest rate\n",
    "final_balance = ((((annual_deposit * interest_rate) + annual_deposit) * interest_rate) + annual_deposit) * interest_rate\n",
    "\n",
    "## print out the final result\n",
    "print()\n",
    "print(\"After 3 years, balance is: $%s\" %format(final_balance, \".2f\"))"
   ]
  },
  {
   "cell_type": "code",
   "execution_count": null,
   "metadata": {
    "collapsed": true
   },
   "outputs": [],
   "source": []
  }
 ],
 "metadata": {
  "kernelspec": {
   "display_name": "Python 3",
   "language": "python",
   "name": "python3"
  },
  "language_info": {
   "codemirror_mode": {
    "name": "ipython",
    "version": 3
   },
   "file_extension": ".py",
   "mimetype": "text/x-python",
   "name": "python",
   "nbconvert_exporter": "python",
   "pygments_lexer": "ipython3",
   "version": "3.5.4"
  }
 },
 "nbformat": 4,
 "nbformat_minor": 2
}
